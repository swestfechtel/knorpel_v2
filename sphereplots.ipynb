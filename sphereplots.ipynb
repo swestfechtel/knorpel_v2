{
 "cells": [
  {
   "cell_type": "code",
   "execution_count": 1,
   "id": "6f31a8e9",
   "metadata": {},
   "outputs": [],
   "source": [
    "from matplotlib import pyplot as pylt\n",
    "import pandas as pd\n",
    "import numpy as np\n",
    "from collections import defaultdict\n",
    "from scipy import stats"
   ]
  },
  {
   "cell_type": "code",
   "execution_count": 2,
   "id": "8916772e",
   "metadata": {},
   "outputs": [],
   "source": [
    "df = pd.read_csv('C:/Users/simon/Desktop/Ergebnisse/sphere.csv')"
   ]
  },
  {
   "cell_type": "code",
   "execution_count": 3,
   "id": "af02eda3",
   "metadata": {},
   "outputs": [
    {
     "data": {
      "text/html": [
       "<div>\n",
       "<style scoped>\n",
       "    .dataframe tbody tr th:only-of-type {\n",
       "        vertical-align: middle;\n",
       "    }\n",
       "\n",
       "    .dataframe tbody tr th {\n",
       "        vertical-align: top;\n",
       "    }\n",
       "\n",
       "    .dataframe thead th {\n",
       "        text-align: right;\n",
       "    }\n",
       "</style>\n",
       "<table border=\"1\" class=\"dataframe\">\n",
       "  <thead>\n",
       "    <tr style=\"text-align: right;\">\n",
       "      <th></th>\n",
       "      <th>dir</th>\n",
       "      <th>ecLF</th>\n",
       "      <th>ccLF</th>\n",
       "      <th>icLF</th>\n",
       "      <th>icMF</th>\n",
       "      <th>ccMF</th>\n",
       "      <th>ecMF</th>\n",
       "      <th>pLF</th>\n",
       "      <th>pMF</th>\n",
       "      <th>aLF</th>\n",
       "      <th>...</th>\n",
       "      <th>pMT.aMiv</th>\n",
       "      <th>cMT.aSD</th>\n",
       "      <th>cMT.aMav</th>\n",
       "      <th>cMT.aMiv</th>\n",
       "      <th>iMT.aSD</th>\n",
       "      <th>iMT.aMav</th>\n",
       "      <th>iMT.aMiv</th>\n",
       "      <th>eMT.aSD</th>\n",
       "      <th>eMT.aMav</th>\n",
       "      <th>eMT.aMiv</th>\n",
       "    </tr>\n",
       "  </thead>\n",
       "  <tbody>\n",
       "    <tr>\n",
       "      <th>0</th>\n",
       "      <td>9162498</td>\n",
       "      <td>2.561636</td>\n",
       "      <td>3.258857</td>\n",
       "      <td>2.306634</td>\n",
       "      <td>2.394355</td>\n",
       "      <td>3.354184</td>\n",
       "      <td>2.623386</td>\n",
       "      <td>2.447042</td>\n",
       "      <td>2.891558</td>\n",
       "      <td>2.879044</td>\n",
       "      <td>...</td>\n",
       "      <td>1.890158</td>\n",
       "      <td>0.496454</td>\n",
       "      <td>3.423889</td>\n",
       "      <td>1.418761</td>\n",
       "      <td>1.018476</td>\n",
       "      <td>4.251240</td>\n",
       "      <td>0.982342</td>\n",
       "      <td>0.485481</td>\n",
       "      <td>3.064225</td>\n",
       "      <td>1.238046</td>\n",
       "    </tr>\n",
       "    <tr>\n",
       "      <th>1</th>\n",
       "      <td>9211751</td>\n",
       "      <td>1.852086</td>\n",
       "      <td>2.976100</td>\n",
       "      <td>2.681555</td>\n",
       "      <td>2.431661</td>\n",
       "      <td>3.469569</td>\n",
       "      <td>2.022673</td>\n",
       "      <td>2.457500</td>\n",
       "      <td>2.700838</td>\n",
       "      <td>3.384317</td>\n",
       "      <td>...</td>\n",
       "      <td>1.471888</td>\n",
       "      <td>0.469571</td>\n",
       "      <td>3.779066</td>\n",
       "      <td>1.630465</td>\n",
       "      <td>0.992345</td>\n",
       "      <td>4.399658</td>\n",
       "      <td>1.057190</td>\n",
       "      <td>0.381004</td>\n",
       "      <td>2.701571</td>\n",
       "      <td>1.194512</td>\n",
       "    </tr>\n",
       "    <tr>\n",
       "      <th>2</th>\n",
       "      <td>9230284</td>\n",
       "      <td>1.946866</td>\n",
       "      <td>2.782600</td>\n",
       "      <td>1.836392</td>\n",
       "      <td>1.820934</td>\n",
       "      <td>2.527713</td>\n",
       "      <td>1.894172</td>\n",
       "      <td>2.675015</td>\n",
       "      <td>2.243216</td>\n",
       "      <td>2.980394</td>\n",
       "      <td>...</td>\n",
       "      <td>0.797770</td>\n",
       "      <td>0.866154</td>\n",
       "      <td>6.287153</td>\n",
       "      <td>2.009425</td>\n",
       "      <td>1.724408</td>\n",
       "      <td>6.834472</td>\n",
       "      <td>1.119600</td>\n",
       "      <td>0.536948</td>\n",
       "      <td>2.819889</td>\n",
       "      <td>0.749575</td>\n",
       "    </tr>\n",
       "    <tr>\n",
       "      <th>3</th>\n",
       "      <td>9156526</td>\n",
       "      <td>1.853619</td>\n",
       "      <td>2.471503</td>\n",
       "      <td>1.981351</td>\n",
       "      <td>2.142725</td>\n",
       "      <td>2.705130</td>\n",
       "      <td>1.821508</td>\n",
       "      <td>2.207966</td>\n",
       "      <td>2.837176</td>\n",
       "      <td>2.570710</td>\n",
       "      <td>...</td>\n",
       "      <td>1.408999</td>\n",
       "      <td>0.503177</td>\n",
       "      <td>3.893877</td>\n",
       "      <td>1.740922</td>\n",
       "      <td>1.026952</td>\n",
       "      <td>4.651450</td>\n",
       "      <td>0.895195</td>\n",
       "      <td>0.408495</td>\n",
       "      <td>2.388181</td>\n",
       "      <td>0.995202</td>\n",
       "    </tr>\n",
       "    <tr>\n",
       "      <th>4</th>\n",
       "      <td>9246518</td>\n",
       "      <td>1.945747</td>\n",
       "      <td>2.875838</td>\n",
       "      <td>2.274129</td>\n",
       "      <td>2.136376</td>\n",
       "      <td>2.784750</td>\n",
       "      <td>2.203399</td>\n",
       "      <td>2.286632</td>\n",
       "      <td>2.725532</td>\n",
       "      <td>2.899224</td>\n",
       "      <td>...</td>\n",
       "      <td>1.178634</td>\n",
       "      <td>0.691765</td>\n",
       "      <td>4.886874</td>\n",
       "      <td>1.887943</td>\n",
       "      <td>1.184846</td>\n",
       "      <td>4.716044</td>\n",
       "      <td>1.061523</td>\n",
       "      <td>0.581549</td>\n",
       "      <td>2.792200</td>\n",
       "      <td>0.668404</td>\n",
       "    </tr>\n",
       "  </tbody>\n",
       "</table>\n",
       "<p>5 rows × 81 columns</p>\n",
       "</div>"
      ],
      "text/plain": [
       "       dir      ecLF      ccLF      icLF      icMF      ccMF      ecMF  \\\n",
       "0  9162498  2.561636  3.258857  2.306634  2.394355  3.354184  2.623386   \n",
       "1  9211751  1.852086  2.976100  2.681555  2.431661  3.469569  2.022673   \n",
       "2  9230284  1.946866  2.782600  1.836392  1.820934  2.527713  1.894172   \n",
       "3  9156526  1.853619  2.471503  1.981351  2.142725  2.705130  1.821508   \n",
       "4  9246518  1.945747  2.875838  2.274129  2.136376  2.784750  2.203399   \n",
       "\n",
       "        pLF       pMF       aLF  ...  pMT.aMiv   cMT.aSD  cMT.aMav  cMT.aMiv  \\\n",
       "0  2.447042  2.891558  2.879044  ...  1.890158  0.496454  3.423889  1.418761   \n",
       "1  2.457500  2.700838  3.384317  ...  1.471888  0.469571  3.779066  1.630465   \n",
       "2  2.675015  2.243216  2.980394  ...  0.797770  0.866154  6.287153  2.009425   \n",
       "3  2.207966  2.837176  2.570710  ...  1.408999  0.503177  3.893877  1.740922   \n",
       "4  2.286632  2.725532  2.899224  ...  1.178634  0.691765  4.886874  1.887943   \n",
       "\n",
       "    iMT.aSD  iMT.aMav  iMT.aMiv   eMT.aSD  eMT.aMav  eMT.aMiv  \n",
       "0  1.018476  4.251240  0.982342  0.485481  3.064225  1.238046  \n",
       "1  0.992345  4.399658  1.057190  0.381004  2.701571  1.194512  \n",
       "2  1.724408  6.834472  1.119600  0.536948  2.819889  0.749575  \n",
       "3  1.026952  4.651450  0.895195  0.408495  2.388181  0.995202  \n",
       "4  1.184846  4.716044  1.061523  0.581549  2.792200  0.668404  \n",
       "\n",
       "[5 rows x 81 columns]"
      ]
     },
     "execution_count": 3,
     "metadata": {},
     "output_type": "execute_result"
    }
   ],
   "source": [
    "df.head()"
   ]
  },
  {
   "cell_type": "markdown",
   "id": "914882f5",
   "metadata": {},
   "source": [
    "Fill NaN values with overall dataset mean."
   ]
  },
  {
   "cell_type": "code",
   "execution_count": 4,
   "id": "5901da13",
   "metadata": {},
   "outputs": [],
   "source": [
    "#print(f'Filling {df[df.isna().any(axis=1)].shape[0]} instances containing NaN values.')"
   ]
  },
  {
   "cell_type": "code",
   "execution_count": 5,
   "id": "8a5d4fd7",
   "metadata": {
    "scrolled": true
   },
   "outputs": [],
   "source": [
    "#d = defaultdict()\n",
    "#for column in df.columns:\n",
    "#    d[column] = df[column].mean()"
   ]
  },
  {
   "cell_type": "code",
   "execution_count": 6,
   "id": "23cb8e13",
   "metadata": {},
   "outputs": [],
   "source": [
    "#df.fillna(value=d, inplace=True)"
   ]
  },
  {
   "cell_type": "markdown",
   "id": "de53f793",
   "metadata": {},
   "source": [
    "Filter out extreme outliers (deviating more than 5 standard deviations from the mean).\n"
   ]
  },
  {
   "cell_type": "code",
   "execution_count": 7,
   "id": "a5d699c0",
   "metadata": {},
   "outputs": [],
   "source": [
    "#numrows = df.shape[0]\n",
    "#df = df[(np.abs(stats.zscore(df)) < 5).all(axis=1)]\n",
    "#print(f'Filtered out {numrows - df.shape[0]} instances.')"
   ]
  },
  {
   "cell_type": "code",
   "execution_count": 8,
   "id": "75b3a86a",
   "metadata": {
    "scrolled": true
   },
   "outputs": [],
   "source": [
    "df = df.loc[df['dir'] != 9189303].loc[df['dir'] != 9539084]"
   ]
  },
  {
   "cell_type": "code",
   "execution_count": 9,
   "id": "88cc01f5",
   "metadata": {},
   "outputs": [
    {
     "data": {
      "text/plain": [
       "Index(['dir', 'ecLF', 'ccLF', 'icLF', 'icMF', 'ccMF', 'ecMF', 'pLF', 'pMF',\n",
       "       'aLF', 'aMF', 'ecLF.aSD', 'ecLF.aMav', 'ecLF.aMiv', 'pMF.aSD',\n",
       "       'pMF.aMav', 'pMF.aMiv', 'pLF.aSD', 'pLF.aMav', 'pLF.aMiv', 'ecMF.aSD',\n",
       "       'ecMF.aMav', 'ecMF.aMiv', 'ccMF.aSD', 'ccMF.aMav', 'ccMF.aMiv',\n",
       "       'icLF.aSD', 'icLF.aMav', 'icLF.aMiv', 'icMF.aSD', 'icMF.aMav',\n",
       "       'icMF.aMiv', 'aMF.aSD', 'aMF.aMav', 'aMF.aMiv', 'aLF.aSD', 'aLF.aMav',\n",
       "       'aLF.aMiv', 'ccLF.aSD', 'ccLF.aMav', 'ccLF.aMiv', 'cLT', 'aLT', 'eLT',\n",
       "       'pLT', 'iLT', 'cMT', 'aMT', 'eMT', 'pMT', 'iMT', 'eLT.aSD', 'eLT.aMav',\n",
       "       'eLT.aMiv', 'iLT.aSD', 'iLT.aMav', 'iLT.aMiv', 'cLT.aSD', 'cLT.aMav',\n",
       "       'cLT.aMiv', 'aMT.aSD', 'aMT.aMav', 'aMT.aMiv', 'pLT.aSD', 'pLT.aMav',\n",
       "       'pLT.aMiv', 'aLT.aSD', 'aLT.aMav', 'aLT.aMiv', 'pMT.aSD', 'pMT.aMav',\n",
       "       'pMT.aMiv', 'cMT.aSD', 'cMT.aMav', 'cMT.aMiv', 'iMT.aSD', 'iMT.aMav',\n",
       "       'iMT.aMiv', 'eMT.aSD', 'eMT.aMav', 'eMT.aMiv'],\n",
       "      dtype='object')"
      ]
     },
     "execution_count": 9,
     "metadata": {},
     "output_type": "execute_result"
    }
   ],
   "source": [
    "df.columns"
   ]
  },
  {
   "cell_type": "code",
   "execution_count": 10,
   "id": "9f5c528f",
   "metadata": {},
   "outputs": [],
   "source": [
    "eclf = df['ecLF']\n",
    "cclf = df['ccLF']\n",
    "iclf = df['icLF']\n",
    "icmf = df['icMF']\n",
    "ccmf = df['ccMF']\n",
    "ecmf = df['ecMF']\n",
    "\n",
    "elt = df['eLT']\n",
    "plt = df['pLT']\n",
    "ilt = df['iLT']\n",
    "alt = df['aLT']\n",
    "clt = df['cLT']\n",
    "\n",
    "emt = df['eMT']\n",
    "pmt = df['pMT']\n",
    "imt = df['iMT']\n",
    "amt = df['aMT']\n",
    "cmt = df['cMT']\n",
    "\n",
    "plf = df['pLF']\n",
    "pmf = df['pMF']\n",
    "alf = df['aLF']\n",
    "amf = df['aMF']"
   ]
  },
  {
   "cell_type": "code",
   "execution_count": 11,
   "id": "326db786",
   "metadata": {},
   "outputs": [
    {
     "data": {
      "text/plain": [
       "25"
      ]
     },
     "execution_count": 11,
     "metadata": {},
     "output_type": "execute_result"
    }
   ],
   "source": [
    "xs = np.arange(0, df.shape[0])\n",
    "len(xs)"
   ]
  },
  {
   "cell_type": "code",
   "execution_count": 12,
   "id": "1ca87bb3",
   "metadata": {},
   "outputs": [
    {
     "data": {
      "text/plain": [
       "0     2.839877\n",
       "1     2.993685\n",
       "2     2.423855\n",
       "3     1.820267\n",
       "4     2.170918\n",
       "5     2.409094\n",
       "6     2.908493\n",
       "7     2.691087\n",
       "8     3.417621\n",
       "9     2.552630\n",
       "10    3.080874\n",
       "11    2.834255\n",
       "12    1.724052\n",
       "13    1.966042\n",
       "14    2.092854\n",
       "15    2.120601\n",
       "16    2.009729\n",
       "17    1.732031\n",
       "18    2.961790\n",
       "19    2.462996\n",
       "20    2.150533\n",
       "21    2.528890\n",
       "22    1.808257\n",
       "23    2.905379\n",
       "24    2.605444\n",
       "Name: cLT, dtype: float64"
      ]
     },
     "execution_count": 12,
     "metadata": {},
     "output_type": "execute_result"
    }
   ],
   "source": [
    "clt"
   ]
  },
  {
   "cell_type": "markdown",
   "id": "fd4a5fe4",
   "metadata": {},
   "source": [
    "## Subregion scatters"
   ]
  },
  {
   "cell_type": "markdown",
   "id": "27d0cb25",
   "metadata": {},
   "source": [
    "### Femur"
   ]
  },
  {
   "cell_type": "code",
   "execution_count": 13,
   "id": "1add0b04",
   "metadata": {},
   "outputs": [
    {
     "data": {
      "image/png": "[encoded data removed]",
      "text/plain": [
       "<Figure size 432x288 with 1 Axes>"
      ]
     },
     "metadata": {
      "needs_background": "light"
     },
     "output_type": "display_data"
    }
   ],
   "source": [
    "ys = eclf.to_numpy()\n",
    "pylt.scatter(x=xs, y=ys)\n",
    "pylt.title('ecLF')\n",
    "for i in range(len(xs)):\n",
    "    pass\n",
    "    # pylt.text(xs[i], ys[i], i)"
   ]
  },
  {
   "cell_type": "code",
   "execution_count": 14,
   "id": "0fc0d9ad",
   "metadata": {},
   "outputs": [
    {
     "data": {
      "image/png": "[encoded data removed]",
      "text/plain": [
       "<Figure size 432x288 with 1 Axes>"
      ]
     },
     "metadata": {
      "needs_background": "light"
     },
     "output_type": "display_data"
    }
   ],
   "source": [
    "ys = cclf.to_numpy()\n",
    "pylt.scatter(x=xs, y=ys)\n",
    "pylt.title('ccLF')\n",
    "for i in range(len(xs)):\n",
    "    pass\n",
    "    # pylt.text(xs[i], ys[i], i)"
   ]
  },
  {
   "cell_type": "code",
   "execution_count": 15,
   "id": "882baa41",
   "metadata": {},
   "outputs": [
    {
     "data": {
      "image/png": "[encoded data removed]",
      "text/plain": [
       "<Figure size 432x288 with 1 Axes>"
      ]
     },
     "metadata": {
      "needs_background": "light"
     },
     "output_type": "display_data"
    }
   ],
   "source": [
    "ys = iclf.to_numpy()\n",
    "pylt.scatter(x=xs, y=ys)\n",
    "pylt.title('icLF')\n",
    "for i in range(len(xs)):\n",
    "    pass\n",
    "    # pylt.text(xs[i], ys[i], i)"
   ]
  },
  {
   "cell_type": "code",
   "execution_count": 16,
   "id": "6d16c478",
   "metadata": {},
   "outputs": [
    {
     "data": {
      "image/png": "[encoded data removed]",
      "text/plain": [
       "<Figure size 432x288 with 1 Axes>"
      ]
     },
     "metadata": {
      "needs_background": "light"
     },
     "output_type": "display_data"
    }
   ],
   "source": [
    "ys = icmf.to_numpy()\n",
    "pylt.scatter(x=xs, y=ys)\n",
    "pylt.title('icMF')\n",
    "for i in range(len(xs)):\n",
    "    pass\n",
    "    # pylt.text(xs[i], ys[i], i)"
   ]
  },
  {
   "cell_type": "code",
   "execution_count": 17,
   "id": "c318a47e",
   "metadata": {},
   "outputs": [
    {
     "data": {
      "image/png": "[encoded data removed]",
      "text/plain": [
       "<Figure size 432x288 with 1 Axes>"
      ]
     },
     "metadata": {
      "needs_background": "light"
     },
     "output_type": "display_data"
    }
   ],
   "source": [
    "ys = ccmf.to_numpy()\n",
    "pylt.scatter(x=xs, y=ys)\n",
    "pylt.title('ccMF')\n",
    "for i in range(len(xs)):\n",
    "    pass\n",
    "    # pylt.text(xs[i], ys[i], i)"
   ]
  },
  {
   "cell_type": "code",
   "execution_count": 18,
   "id": "523e6cab",
   "metadata": {},
   "outputs": [
    {
     "data": {
      "image/png": "[encoded data removed]",
      "text/plain": [
       "<Figure size 432x288 with 1 Axes>"
      ]
     },
     "metadata": {
      "needs_background": "light"
     },
     "output_type": "display_data"
    }
   ],
   "source": [
    "ys = ecmf.to_numpy()\n",
    "pylt.scatter(x=xs, y=ys)\n",
    "pylt.title('ecMF')\n",
    "for i in range(len(xs)):\n",
    "    pass\n",
    "    # pylt.text(xs[i], ys[i], i)"
   ]
  },
  {
   "cell_type": "code",
   "execution_count": 19,
   "id": "75df5f22",
   "metadata": {},
   "outputs": [
    {
     "data": {
      "image/png": "[encoded data removed]",
      "text/plain": [
       "<Figure size 432x288 with 1 Axes>"
      ]
     },
     "metadata": {
      "needs_background": "light"
     },
     "output_type": "display_data"
    }
   ],
   "source": [
    "ys = plf.to_numpy()\n",
    "pylt.scatter(x=xs, y=ys)\n",
    "pylt.title('pLF')\n",
    "for i in range(len(xs)):\n",
    "    pass\n",
    "    # pylt.text(xs[i], ys[i], i)"
   ]
  },
  {
   "cell_type": "code",
   "execution_count": 20,
   "id": "1a81e379",
   "metadata": {},
   "outputs": [
    {
     "data": {
      "image/png": "[encoded data removed]",
      "text/plain": [
       "<Figure size 432x288 with 1 Axes>"
      ]
     },
     "metadata": {
      "needs_background": "light"
     },
     "output_type": "display_data"
    }
   ],
   "source": [
    "ys = pmf.to_numpy()\n",
    "pylt.scatter(x=xs, y=ys)\n",
    "pylt.title('pMF')\n",
    "for i in range(len(xs)):\n",
    "    pass\n",
    "    # pylt.text(xs[i], ys[i], i)"
   ]
  },
  {
   "cell_type": "code",
   "execution_count": 21,
   "id": "281a0d97",
   "metadata": {},
   "outputs": [
    {
     "data": {
      "image/png": "[encoded data removed]",
      "text/plain": [
       "<Figure size 432x288 with 1 Axes>"
      ]
     },
     "metadata": {
      "needs_background": "light"
     },
     "output_type": "display_data"
    }
   ],
   "source": [
    "ys = alf.to_numpy()\n",
    "pylt.scatter(x=xs, y=ys)\n",
    "pylt.title('aLF')\n",
    "for i in range(len(xs)):\n",
    "    pass\n",
    "    # pylt.text(xs[i], ys[i], i)"
   ]
  },
  {
   "cell_type": "code",
   "execution_count": 22,
   "id": "40df7e98",
   "metadata": {},
   "outputs": [
    {
     "data": {
      "image/png": "[encoded data removed]",
      "text/plain": [
       "<Figure size 432x288 with 1 Axes>"
      ]
     },
     "metadata": {
      "needs_background": "light"
     },
     "output_type": "display_data"
    }
   ],
   "source": [
    "ys = amf.to_numpy()\n",
    "pylt.scatter(x=xs, y=ys)\n",
    "pylt.title('aMF')\n",
    "for i in range(len(xs)):\n",
    "    pass"
   ]
  },
  {
   "cell_type": "markdown",
   "id": "e4a2410b",
   "metadata": {},
   "source": [
    "### Tibia"
   ]
  },
  {
   "cell_type": "code",
   "execution_count": 23,
   "id": "edb6a80e",
   "metadata": {},
   "outputs": [
    {
     "data": {
      "image/png": "[encoded data removed]",
      "text/plain": [
       "<Figure size 432x288 with 1 Axes>"
      ]
     },
     "metadata": {
      "needs_background": "light"
     },
     "output_type": "display_data"
    }
   ],
   "source": [
    "ys = elt.to_numpy()\n",
    "pylt.scatter(x=xs, y=ys)\n",
    "pylt.title('eLT')\n",
    "for i in range(len(xs)):\n",
    "    pass\n",
    "    # pylt.text(xs[i], ys[i], i)"
   ]
  },
  {
   "cell_type": "code",
   "execution_count": 24,
   "id": "8cfb78ae",
   "metadata": {},
   "outputs": [
    {
     "data": {
      "image/png": "[encoded data removed]",
      "text/plain": [
       "<Figure size 432x288 with 1 Axes>"
      ]
     },
     "metadata": {
      "needs_background": "light"
     },
     "output_type": "display_data"
    }
   ],
   "source": [
    "ys = plt.to_numpy()\n",
    "pylt.scatter(x=xs, y=ys)\n",
    "pylt.title('plt')\n",
    "for i in range(len(xs)):\n",
    "    pass\n",
    "    # pylt.text(xs[i], ys[i], i)"
   ]
  },
  {
   "cell_type": "code",
   "execution_count": 25,
   "id": "5cfc78a3",
   "metadata": {},
   "outputs": [
    {
     "data": {
      "image/png": "[encoded data removed]",
      "text/plain": [
       "<Figure size 432x288 with 1 Axes>"
      ]
     },
     "metadata": {
      "needs_background": "light"
     },
     "output_type": "display_data"
    }
   ],
   "source": [
    "ys = ilt.to_numpy()\n",
    "pylt.scatter(x=xs, y=ys)\n",
    "pylt.title('iLT')\n",
    "for i in range(len(xs)):\n",
    "    pass\n",
    "    # pylt.text(xs[i], ys[i], i)"
   ]
  },
  {
   "cell_type": "code",
   "execution_count": 26,
   "id": "58a769ea",
   "metadata": {},
   "outputs": [
    {
     "data": {
      "image/png": "[encoded data removed]",
      "text/plain": [
       "<Figure size 432x288 with 1 Axes>"
      ]
     },
     "metadata": {
      "needs_background": "light"
     },
     "output_type": "display_data"
    }
   ],
   "source": [
    "ys = alt.to_numpy()\n",
    "pylt.scatter(x=xs, y=ys)\n",
    "pylt.title('aLT')\n",
    "for i in range(len(xs)):\n",
    "    pass\n",
    "    # pylt.text(xs[i], ys[i], i)"
   ]
  },
  {
   "cell_type": "code",
   "execution_count": 27,
   "id": "bc658268",
   "metadata": {},
   "outputs": [
    {
     "data": {
      "image/png": "[encoded data removed]",
      "text/plain": [
       "<Figure size 432x288 with 1 Axes>"
      ]
     },
     "metadata": {
      "needs_background": "light"
     },
     "output_type": "display_data"
    }
   ],
   "source": [
    "ys = clt.to_numpy()\n",
    "pylt.scatter(x=xs, y=ys)\n",
    "pylt.title('cLT')\n",
    "for i in range(len(xs)):\n",
    "    pass\n",
    "    # pylt.text(xs[i], ys[i], i)"
   ]
  },
  {
   "cell_type": "code",
   "execution_count": 28,
   "id": "dff42e5c",
   "metadata": {},
   "outputs": [
    {
     "data": {
      "image/png": "[encoded data removed]",
      "text/plain": [
       "<Figure size 432x288 with 1 Axes>"
      ]
     },
     "metadata": {
      "needs_background": "light"
     },
     "output_type": "display_data"
    }
   ],
   "source": [
    "ys = emt.to_numpy()\n",
    "pylt.scatter(x=xs, y=ys)\n",
    "pylt.title('eMT')\n",
    "for i in range(len(xs)):\n",
    "    pass\n",
    "    # pylt.text(xs[i], ys[i], i)"
   ]
  },
  {
   "cell_type": "code",
   "execution_count": 29,
   "id": "42c87bca",
   "metadata": {},
   "outputs": [
    {
     "data": {
      "image/png": "[encoded data removed]",
      "text/plain": [
       "<Figure size 432x288 with 1 Axes>"
      ]
     },
     "metadata": {
      "needs_background": "light"
     },
     "output_type": "display_data"
    }
   ],
   "source": [
    "ys = pmt.to_numpy()\n",
    "pylt.scatter(x=xs, y=ys)\n",
    "pylt.title('pMT')\n",
    "for i in range(len(xs)):\n",
    "    pass\n",
    "    # pylt.text(xs[i], ys[i], i)"
   ]
  },
  {
   "cell_type": "code",
   "execution_count": 30,
   "id": "0be561b3",
   "metadata": {},
   "outputs": [
    {
     "data": {
      "image/png": "[encoded data removed]",
      "text/plain": [
       "<Figure size 432x288 with 1 Axes>"
      ]
     },
     "metadata": {
      "needs_background": "light"
     },
     "output_type": "display_data"
    }
   ],
   "source": [
    "ys = imt.to_numpy()\n",
    "pylt.scatter(x=xs, y=ys)\n",
    "pylt.title('iMT')\n",
    "for i in range(len(xs)):\n",
    "    pass\n",
    "    # pylt.text(xs[i], ys[i], i)"
   ]
  },
  {
   "cell_type": "code",
   "execution_count": 31,
   "id": "ccf5a54e",
   "metadata": {},
   "outputs": [
    {
     "data": {
      "image/png": "[encoded data removed]",
      "text/plain": [
       "<Figure size 432x288 with 1 Axes>"
      ]
     },
     "metadata": {
      "needs_background": "light"
     },
     "output_type": "display_data"
    }
   ],
   "source": [
    "ys = amt.to_numpy()\n",
    "pylt.scatter(x=xs, y=ys)\n",
    "pylt.title('aMT')\n",
    "for i in range(len(xs)):\n",
    "    pass\n",
    "    # pylt.text(xs[i], ys[i], i)"
   ]
  },
  {
   "cell_type": "code",
   "execution_count": 32,
   "id": "edad73ce",
   "metadata": {},
   "outputs": [
    {
     "data": {
      "image/png": "[encoded data removed]",
      "text/plain": [
       "<Figure size 432x288 with 1 Axes>"
      ]
     },
     "metadata": {
      "needs_background": "light"
     },
     "output_type": "display_data"
    }
   ],
   "source": [
    "ys = cmt.to_numpy()\n",
    "pylt.scatter(x=xs, y=ys)\n",
    "pylt.title('cMT')\n",
    "for i in range(len(xs)):\n",
    "    pass\n",
    "    # pylt.text(xs[i], ys[i], i)"
   ]
  },
  {
   "cell_type": "markdown",
   "id": "39b6a8f9",
   "metadata": {},
   "source": [
    "## Subregion boxplots"
   ]
  },
  {
   "cell_type": "markdown",
   "id": "c3ac415e",
   "metadata": {},
   "source": [
    "### Femur"
   ]
  },
  {
   "cell_type": "code",
   "execution_count": 33,
   "id": "60453019",
   "metadata": {},
   "outputs": [
    {
     "name": "stdout",
     "output_type": "stream",
     "text": [
      "Segmentation 9478504.0 is an outlier (2.96 total deviation from median)\n"
     ]
    },
    {
     "data": {
      "text/plain": [
       "Text(0.5, 1.0, 'ecLF')"
      ]
     },
     "execution_count": 33,
     "metadata": {},
     "output_type": "execute_result"
    },
    {
     "data": {
      "image/png": "[encoded data removed]",
      "text/plain": [
       "<Figure size 432x288 with 1 Axes>"
      ]
     },
     "metadata": {
      "needs_background": "light"
     },
     "output_type": "display_data"
    }
   ],
   "source": [
    "ys = eclf.to_numpy()\n",
    "eclf.plot.box()\n",
    "#pylt.boxplot(ys)\n",
    "q1 = eclf.quantile(.25)\n",
    "q3 = eclf.quantile(.75)\n",
    "ot = q3 + 1.5 * (q3 - q1)\n",
    "ob = q1 - 1.5 * (q3 - q1)\n",
    "for i, y in enumerate(ys):\n",
    "    if y > ot or y < ob:\n",
    "        pylt.text(1, y, df.iloc[i]['dir'])\n",
    "        print(f'Segmentation {df.iloc[i][\"dir\"]} is an outlier ({abs(y - eclf.median()):.2f} total deviation from median)')\n",
    "        \n",
    "pylt.title('ecLF')"
   ]
  },
  {
   "cell_type": "code",
   "execution_count": 34,
   "id": "b35bf1f9",
   "metadata": {},
   "outputs": [
    {
     "name": "stdout",
     "output_type": "stream",
     "text": [
      "Segmentation 9988421.0 is an outlier (1.55 total deviation from median)\n",
      "Segmentation 9016403.0 is an outlier (1.57 total deviation from median)\n"
     ]
    },
    {
     "data": {
      "text/plain": [
       "Text(0.5, 1.0, 'ccLF')"
      ]
     },
     "execution_count": 34,
     "metadata": {},
     "output_type": "execute_result"
    },
    {
     "data": {
      "image/png": "[encoded data removed]",
      "text/plain": [
       "<Figure size 432x288 with 1 Axes>"
      ]
     },
     "metadata": {
      "needs_background": "light"
     },
     "output_type": "display_data"
    }
   ],
   "source": [
    "ys = cclf.to_numpy()\n",
    "cclf.plot.box()\n",
    "#pylt.boxplot(ys)\n",
    "q1 = cclf.quantile(.25)\n",
    "q3 = cclf.quantile(.75)\n",
    "ot = q3 + 1.5 * (q3 - q1)\n",
    "ob = q1 - 1.5 * (q3 - q1)\n",
    "for i, y in enumerate(ys):\n",
    "    if y > ot or y < ob:\n",
    "        pylt.text(1, y, df.iloc[i]['dir'])\n",
    "        print(f'Segmentation {df.iloc[i][\"dir\"]} is an outlier ({abs(y - cclf.median()):.2f} total deviation from median)')\n",
    "        \n",
    "pylt.title('ccLF')"
   ]
  },
  {
   "cell_type": "code",
   "execution_count": 35,
   "id": "88aa5a09",
   "metadata": {},
   "outputs": [
    {
     "data": {
      "text/plain": [
       "Text(0.5, 1.0, 'icLF')"
      ]
     },
     "execution_count": 35,
     "metadata": {},
     "output_type": "execute_result"
    },
    {
     "data": {
      "image/png": "[encoded data removed]",
      "text/plain": [
       "<Figure size 432x288 with 1 Axes>"
      ]
     },
     "metadata": {
      "needs_background": "light"
     },
     "output_type": "display_data"
    }
   ],
   "source": [
    "ys = iclf.to_numpy()\n",
    "iclf.plot.box()\n",
    "#pylt.boxplot(ys)\n",
    "q1 = iclf.quantile(.25)\n",
    "q3 = iclf.quantile(.75)\n",
    "ot = q3 + 1.5 * (q3 - q1)\n",
    "ob = q1 - 1.5 * (q3 - q1)\n",
    "for i, y in enumerate(ys):\n",
    "    if y > ot or y < ob:\n",
    "        pylt.text(1, y, df.iloc[i]['dir'])\n",
    "        print(f'Segmentation {df.iloc[i][\"dir\"]} is an outlier ({abs(y - iclf.median()):.2f} total deviation from median)')\n",
    "        \n",
    "pylt.title('icLF')"
   ]
  },
  {
   "cell_type": "code",
   "execution_count": 36,
   "id": "3ed77df1",
   "metadata": {},
   "outputs": [
    {
     "data": {
      "text/plain": [
       "Text(0.5, 1.0, 'icMF')"
      ]
     },
     "execution_count": 36,
     "metadata": {},
     "output_type": "execute_result"
    },
    {
     "data": {
      "image/png": "[encoded data removed]",
      "text/plain": [
       "<Figure size 432x288 with 1 Axes>"
      ]
     },
     "metadata": {
      "needs_background": "light"
     },
     "output_type": "display_data"
    }
   ],
   "source": [
    "ys = icmf.to_numpy()\n",
    "icmf.plot.box()\n",
    "#pylt.boxplot(ys)\n",
    "q1 = icmf.quantile(.25)\n",
    "q3 = icmf.quantile(.75)\n",
    "ot = q3 + 1.5 * (q3 - q1)\n",
    "ob = q1 - 1.5 * (q3 - q1)\n",
    "for i, y in enumerate(ys):\n",
    "    if y > ot or y < ob:\n",
    "        pylt.text(1, y, df.iloc[i]['dir'])\n",
    "        print(f'Segmentation {df.iloc[i][\"dir\"]} is an outlier ({abs(y - icmf.median()):.2f} total deviation from median)')\n",
    "        \n",
    "pylt.title('icMF')"
   ]
  },
  {
   "cell_type": "code",
   "execution_count": 37,
   "id": "d3b97c88",
   "metadata": {},
   "outputs": [
    {
     "data": {
      "text/plain": [
       "Text(0.5, 1.0, 'ccMF')"
      ]
     },
     "execution_count": 37,
     "metadata": {},
     "output_type": "execute_result"
    },
    {
     "data": {
      "image/png": "[encoded data removed]",
      "text/plain": [
       "<Figure size 432x288 with 1 Axes>"
      ]
     },
     "metadata": {
      "needs_background": "light"
     },
     "output_type": "display_data"
    }
   ],
   "source": [
    "ys = ccmf.to_numpy()\n",
    "ccmf.plot.box()\n",
    "#pylt.boxplot(ys)\n",
    "q1 = ccmf.quantile(.25)\n",
    "q3 = ccmf.quantile(.75)\n",
    "ot = q3 + 1.5 * (q3 - q1)\n",
    "ob = q1 - 1.5 * (q3 - q1)\n",
    "for i, y in enumerate(ys):\n",
    "    if y > ot or y < ob:\n",
    "        pylt.text(1, y, df.iloc[i]['dir'])\n",
    "        print(f'Segmentation {df.iloc[i][\"dir\"]} is an outlier ({abs(y - ccmf.median()):.2f} total deviation from median)')\n",
    "        \n",
    "pylt.title('ccMF')"
   ]
  },
  {
   "cell_type": "code",
   "execution_count": 38,
   "id": "9efa5671",
   "metadata": {},
   "outputs": [
    {
     "data": {
      "text/plain": [
       "Text(0.5, 1.0, 'ecMF')"
      ]
     },
     "execution_count": 38,
     "metadata": {},
     "output_type": "execute_result"
    },
    {
     "data": {
      "image/png": "[encoded data removed]",
      "text/plain": [
       "<Figure size 432x288 with 1 Axes>"
      ]
     },
     "metadata": {
      "needs_background": "light"
     },
     "output_type": "display_data"
    }
   ],
   "source": [
    "ys = ecmf.to_numpy()\n",
    "ecmf.plot.box()\n",
    "#pylt.boxplot(ys)\n",
    "q1 = ecmf.quantile(.25)\n",
    "q3 = ecmf.quantile(.75)\n",
    "ot = q3 + 1.5 * (q3 - q1)\n",
    "ob = q1 - 1.5 * (q3 - q1)\n",
    "for i, y in enumerate(ys):\n",
    "    if y > ot or y < ob:\n",
    "        pylt.text(1, y, df.iloc[i]['dir'])\n",
    "        print(f'Segmentation {df.iloc[i][\"dir\"]} is an outlier ({abs(y - ecmf.median()):.2f} total deviation from median)')\n",
    "        \n",
    "pylt.title('ecMF')"
   ]
  },
  {
   "cell_type": "code",
   "execution_count": 39,
   "id": "c6bda6d5",
   "metadata": {},
   "outputs": [
    {
     "data": {
      "text/plain": [
       "Text(0.5, 1.0, 'pLF')"
      ]
     },
     "execution_count": 39,
     "metadata": {},
     "output_type": "execute_result"
    },
    {
     "data": {
      "image/png": "[encoded data removed]",
      "text/plain": [
       "<Figure size 432x288 with 1 Axes>"
      ]
     },
     "metadata": {
      "needs_background": "light"
     },
     "output_type": "display_data"
    }
   ],
   "source": [
    "ys = plf.to_numpy()\n",
    "plf.plot.box()\n",
    "#pylt.boxplot(ys)\n",
    "q1 = plf.quantile(.25)\n",
    "q3 = plf.quantile(.75)\n",
    "ot = q3 + 1.5 * (q3 - q1)\n",
    "ob = q1 - 1.5 * (q3 - q1)\n",
    "for i, y in enumerate(ys):\n",
    "    if y > ot or y < ob:\n",
    "        pylt.text(1, y, df.iloc[i]['dir'])\n",
    "        print(f'Segmentation {df.iloc[i][\"dir\"]} is an outlier ({abs(y - plf.median()):.2f} total deviation from median)')\n",
    "        \n",
    "pylt.title('pLF')"
   ]
  },
  {
   "cell_type": "code",
   "execution_count": 40,
   "id": "e5ebb5f5",
   "metadata": {},
   "outputs": [
    {
     "data": {
      "text/plain": [
       "Text(0.5, 1.0, 'pMF')"
      ]
     },
     "execution_count": 40,
     "metadata": {},
     "output_type": "execute_result"
    },
    {
     "data": {
      "image/png": "[encoded data removed]",
      "text/plain": [
       "<Figure size 432x288 with 1 Axes>"
      ]
     },
     "metadata": {
      "needs_background": "light"
     },
     "output_type": "display_data"
    }
   ],
   "source": [
    "ys = pmf.to_numpy()\n",
    "pmf.plot.box()\n",
    "#pylt.boxplot(ys)\n",
    "q1 = pmf.quantile(.25)\n",
    "q3 = pmf.quantile(.75)\n",
    "ot = q3 + 1.5 * (q3 - q1)\n",
    "ob = q1 - 1.5 * (q3 - q1)\n",
    "for i, y in enumerate(ys):\n",
    "    if y > ot or y < ob:\n",
    "        pylt.text(1, y, df.iloc[i]['dir'])\n",
    "        print(f'Segmentation {df.iloc[i][\"dir\"]} is an outlier ({abs(y - pmf.median()):.2f} total deviation from median)')\n",
    "        \n",
    "pylt.title('pMF')"
   ]
  },
  {
   "cell_type": "code",
   "execution_count": 41,
   "id": "dd478c3b",
   "metadata": {},
   "outputs": [
    {
     "data": {
      "text/plain": [
       "Text(0.5, 1.0, 'aLF')"
      ]
     },
     "execution_count": 41,
     "metadata": {},
     "output_type": "execute_result"
    },
    {
     "data": {
      "image/png": "[encoded data removed]",
      "text/plain": [
       "<Figure size 432x288 with 1 Axes>"
      ]
     },
     "metadata": {
      "needs_background": "light"
     },
     "output_type": "display_data"
    }
   ],
   "source": [
    "ys = alf.to_numpy()\n",
    "alf.plot.box()\n",
    "#pylt.boxplot(ys)\n",
    "q1 = alf.quantile(.25)\n",
    "q3 = alf.quantile(.75)\n",
    "ot = q3 + 1.5 * (q3 - q1)\n",
    "ob = q1 - 1.5 * (q3 - q1)\n",
    "for i, y in enumerate(ys):\n",
    "    if y > ot or y < ob:\n",
    "        pylt.text(1, y, df.iloc[i]['dir'])\n",
    "        print(f'Segmentation {df.iloc[i][\"dir\"]} is an outlier ({abs(y - alf.median()):.2f} total deviation from median)')\n",
    "        \n",
    "pylt.title('aLF')"
   ]
  },
  {
   "cell_type": "code",
   "execution_count": 42,
   "id": "1a9c81b3",
   "metadata": {},
   "outputs": [
    {
     "name": "stdout",
     "output_type": "stream",
     "text": [
      "Segmentation 9156526.0 is an outlier (0.54 total deviation from median)\n"
     ]
    },
    {
     "data": {
      "text/plain": [
       "Text(0.5, 1.0, 'aMF')"
      ]
     },
     "execution_count": 42,
     "metadata": {},
     "output_type": "execute_result"
    },
    {
     "data": {
      "image/png": "[encoded data removed]",
      "text/plain": [
       "<Figure size 432x288 with 1 Axes>"
      ]
     },
     "metadata": {
      "needs_background": "light"
     },
     "output_type": "display_data"
    }
   ],
   "source": [
    "ys = amf.to_numpy()\n",
    "amf.plot.box()\n",
    "#pylt.boxplot(ys)\n",
    "q1 = amf.quantile(.25)\n",
    "q3 = amf.quantile(.75)\n",
    "ot = q3 + 1.5 * (q3 - q1)\n",
    "ob = q1 - 1.5 * (q3 - q1)\n",
    "for i, y in enumerate(ys):\n",
    "    if y > ot or y < ob:\n",
    "        pylt.text(1, y, df.iloc[i]['dir'])\n",
    "        print(f'Segmentation {df.iloc[i][\"dir\"]} is an outlier ({abs(y - amf.median()):.2f} total deviation from median)')\n",
    "        \n",
    "pylt.title('aMF')"
   ]
  },
  {
   "cell_type": "markdown",
   "id": "10059227",
   "metadata": {},
   "source": [
    "### Tibia"
   ]
  },
  {
   "cell_type": "code",
   "execution_count": 43,
   "id": "ee02fad9",
   "metadata": {},
   "outputs": [
    {
     "name": "stdout",
     "output_type": "stream",
     "text": [
      "Segmentation 9707649.0 is an outlier (0.75 total deviation from median)\n"
     ]
    },
    {
     "data": {
      "text/plain": [
       "Text(0.5, 1.0, 'eLT')"
      ]
     },
     "execution_count": 43,
     "metadata": {},
     "output_type": "execute_result"
    },
    {
     "data": {
      "image/png": "[encoded data removed]",
      "text/plain": [
       "<Figure size 432x288 with 1 Axes>"
      ]
     },
     "metadata": {
      "needs_background": "light"
     },
     "output_type": "display_data"
    }
   ],
   "source": [
    "ys = elt.to_numpy()\n",
    "elt.plot.box()\n",
    "#pylt.boxplot(ys)\n",
    "q1 = elt.quantile(.25)\n",
    "q3 = elt.quantile(.75)\n",
    "ot = q3 + 1.5 * (q3 - q1)\n",
    "ob = q1 - 1.5 * (q3 - q1)\n",
    "for i, y in enumerate(ys):\n",
    "    if y > ot or y < ob:\n",
    "        pylt.text(1, y, df.iloc[i]['dir'])\n",
    "        print(f'Segmentation {df.iloc[i][\"dir\"]} is an outlier ({abs(y - elt.median()):.2f} total deviation from median)')\n",
    "        \n",
    "pylt.title('eLT')"
   ]
  },
  {
   "cell_type": "code",
   "execution_count": 44,
   "id": "fc4279b2",
   "metadata": {},
   "outputs": [
    {
     "data": {
      "text/plain": [
       "Text(0.5, 1.0, 'pLT')"
      ]
     },
     "execution_count": 44,
     "metadata": {},
     "output_type": "execute_result"
    },
    {
     "data": {
      "image/png": "[encoded data removed]",
      "text/plain": [
       "<Figure size 432x288 with 1 Axes>"
      ]
     },
     "metadata": {
      "needs_background": "light"
     },
     "output_type": "display_data"
    }
   ],
   "source": [
    "ys = plt.to_numpy()\n",
    "plt.plot.box()\n",
    "#pylt.boxplot(ys)\n",
    "q1 = plt.quantile(.25)\n",
    "q3 = plt.quantile(.75)\n",
    "ot = q3 + 1.5 * (q3 - q1)\n",
    "ob = q1 - 1.5 * (q3 - q1)\n",
    "for i, y in enumerate(ys):\n",
    "    if y > ot or y < ob:\n",
    "        pylt.text(1, y, df.iloc[i]['dir'])\n",
    "        print(f'Segmentation {df.iloc[i][\"dir\"]} is an outlier ({abs(y - plt.median()):.2f} total deviation from median)')\n",
    "        \n",
    "pylt.title('pLT')"
   ]
  },
  {
   "cell_type": "code",
   "execution_count": 45,
   "id": "c751d60d",
   "metadata": {},
   "outputs": [
    {
     "name": "stdout",
     "output_type": "stream",
     "text": [
      "Segmentation 9707649.0 is an outlier (2.24 total deviation from median)\n"
     ]
    },
    {
     "data": {
      "text/plain": [
       "Text(0.5, 1.0, 'iLT')"
      ]
     },
     "execution_count": 45,
     "metadata": {},
     "output_type": "execute_result"
    },
    {
     "data": {
      "image/png": "[encoded data removed]",
      "text/plain": [
       "<Figure size 432x288 with 1 Axes>"
      ]
     },
     "metadata": {
      "needs_background": "light"
     },
     "output_type": "display_data"
    }
   ],
   "source": [
    "ys = ilt.to_numpy()\n",
    "ilt.plot.box()\n",
    "#pylt.boxplot(ys)\n",
    "q1 = ilt.quantile(.25)\n",
    "q3 = ilt.quantile(.75)\n",
    "ot = q3 + 1.5 * (q3 - q1)\n",
    "ob = q1 - 1.5 * (q3 - q1)\n",
    "for i, y in enumerate(ys):\n",
    "    if y > ot or y < ob:\n",
    "        pylt.text(1, y, df.iloc[i]['dir'])\n",
    "        print(f'Segmentation {df.iloc[i][\"dir\"]} is an outlier ({abs(y - ilt.median()):.2f} total deviation from median)')\n",
    "        \n",
    "pylt.title('iLT')"
   ]
  },
  {
   "cell_type": "code",
   "execution_count": 46,
   "id": "d3f8e1cc",
   "metadata": {},
   "outputs": [
    {
     "data": {
      "text/plain": [
       "Text(0.5, 1.0, 'aLT')"
      ]
     },
     "execution_count": 46,
     "metadata": {},
     "output_type": "execute_result"
    },
    {
     "data": {
      "image/png": "[encoded data removed]",
      "text/plain": [
       "<Figure size 432x288 with 1 Axes>"
      ]
     },
     "metadata": {
      "needs_background": "light"
     },
     "output_type": "display_data"
    }
   ],
   "source": [
    "ys = alt.to_numpy()\n",
    "alt.plot.box()\n",
    "#pylt.boxplot(ys)\n",
    "q1 = alt.quantile(.25)\n",
    "q3 = alt.quantile(.75)\n",
    "ot = q3 + 1.5 * (q3 - q1)\n",
    "ob = q1 - 1.5 * (q3 - q1)\n",
    "for i, y in enumerate(ys):\n",
    "    if y > ot or y < ob:\n",
    "        pylt.text(1, y, df.iloc[i]['dir'])\n",
    "        print(f'Segmentation {df.iloc[i][\"dir\"]} is an outlier ({abs(y - alt.median()):.2f} total deviation from median)')\n",
    "        \n",
    "pylt.title('aLT')"
   ]
  },
  {
   "cell_type": "code",
   "execution_count": 47,
   "id": "e06cd641",
   "metadata": {},
   "outputs": [
    {
     "data": {
      "text/plain": [
       "Text(0.5, 1.0, 'cLT')"
      ]
     },
     "execution_count": 47,
     "metadata": {},
     "output_type": "execute_result"
    },
    {
     "data": {
      "image/png": "[encoded data removed]",
      "text/plain": [
       "<Figure size 432x288 with 1 Axes>"
      ]
     },
     "metadata": {
      "needs_background": "light"
     },
     "output_type": "display_data"
    }
   ],
   "source": [
    "ys = clt.to_numpy()\n",
    "clt.plot.box()\n",
    "#pylt.boxplot(ys)\n",
    "q1 = clt.quantile(.25)\n",
    "q3 = clt.quantile(.75)\n",
    "ot = q3 + 1.5 * (q3 - q1)\n",
    "ob = q1 - 1.5 * (q3 - q1)\n",
    "for i, y in enumerate(ys):\n",
    "    if y > ot or y < ob:\n",
    "        pylt.text(1, y, df.iloc[i]['dir'])\n",
    "        print(f'Segmentation {df.iloc[i][\"dir\"]} is an outlier ({abs(y - clt.median()):.2f} total deviation from median)')\n",
    "        \n",
    "pylt.title('cLT')"
   ]
  },
  {
   "cell_type": "code",
   "execution_count": 48,
   "id": "378c7850",
   "metadata": {},
   "outputs": [
    {
     "name": "stdout",
     "output_type": "stream",
     "text": [
      "Segmentation 9478504.0 is an outlier (1.17 total deviation from median)\n",
      "Segmentation 9302260.0 is an outlier (1.16 total deviation from median)\n"
     ]
    },
    {
     "data": {
      "text/plain": [
       "Text(0.5, 1.0, 'eMT')"
      ]
     },
     "execution_count": 48,
     "metadata": {},
     "output_type": "execute_result"
    },
    {
     "data": {
      "image/png": "[encoded data removed]",
      "text/plain": [
       "<Figure size 432x288 with 1 Axes>"
      ]
     },
     "metadata": {
      "needs_background": "light"
     },
     "output_type": "display_data"
    }
   ],
   "source": [
    "ys = emt.to_numpy()\n",
    "emt.plot.box()\n",
    "#pylt.boxplot(ys)\n",
    "q1 = emt.quantile(.25)\n",
    "q3 = emt.quantile(.75)\n",
    "ot = q3 + 1.5 * (q3 - q1)\n",
    "ob = q1 - 1.5 * (q3 - q1)\n",
    "for i, y in enumerate(ys):\n",
    "    if y > ot or y < ob:\n",
    "        pylt.text(1, y, df.iloc[i]['dir'])\n",
    "        print(f'Segmentation {df.iloc[i][\"dir\"]} is an outlier ({abs(y - emt.median()):.2f} total deviation from median)')\n",
    "        \n",
    "pylt.title('eMT')"
   ]
  },
  {
   "cell_type": "code",
   "execution_count": 49,
   "id": "72f64fe5",
   "metadata": {},
   "outputs": [
    {
     "data": {
      "text/plain": [
       "Text(0.5, 1.0, 'pMT')"
      ]
     },
     "execution_count": 49,
     "metadata": {},
     "output_type": "execute_result"
    },
    {
     "data": {
      "image/png": "[encoded data removed]",
      "text/plain": [
       "<Figure size 432x288 with 1 Axes>"
      ]
     },
     "metadata": {
      "needs_background": "light"
     },
     "output_type": "display_data"
    }
   ],
   "source": [
    "ys = pmt.to_numpy()\n",
    "pmt.plot.box()\n",
    "#pylt.boxplot(ys)\n",
    "q1 = pmt.quantile(.25)\n",
    "q3 = pmt.quantile(.75)\n",
    "ot = q3 + 1.5 * (q3 - q1)\n",
    "ob = q1 - 1.5 * (q3 - q1)\n",
    "for i, y in enumerate(ys):\n",
    "    if y > ot or y < ob:\n",
    "        pylt.text(1, y, df.iloc[i]['dir'])\n",
    "        print(f'Segmentation {df.iloc[i][\"dir\"]} is an outlier ({abs(y - pmt.median()):.2f} total deviation from median)')\n",
    "        \n",
    "pylt.title('pMT')"
   ]
  },
  {
   "cell_type": "code",
   "execution_count": 50,
   "id": "9cfd6c8a",
   "metadata": {},
   "outputs": [
    {
     "data": {
      "text/plain": [
       "Text(0.5, 1.0, 'iMT')"
      ]
     },
     "execution_count": 50,
     "metadata": {},
     "output_type": "execute_result"
    },
    {
     "data": {
      "image/png": "[encoded data removed]",
      "text/plain": [
       "<Figure size 432x288 with 1 Axes>"
      ]
     },
     "metadata": {
      "needs_background": "light"
     },
     "output_type": "display_data"
    }
   ],
   "source": [
    "ys = imt.to_numpy()\n",
    "imt.plot.box()\n",
    "#pylt.boxplot(ys)\n",
    "q1 = imt.quantile(.25)\n",
    "q3 = imt.quantile(.75)\n",
    "ot = q3 + 1.5 * (q3 - q1)\n",
    "ob = q1 - 1.5 * (q3 - q1)\n",
    "for i, y in enumerate(ys):\n",
    "    if y > ot or y < ob:\n",
    "        pylt.text(1, y, df.iloc[i]['dir'])\n",
    "        print(f'Segmentation {df.iloc[i][\"dir\"]} is an outlier ({abs(y - imt.median()):.2f} total deviation from median)')\n",
    "        \n",
    "pylt.title('iMT')"
   ]
  },
  {
   "cell_type": "code",
   "execution_count": 51,
   "id": "717bc49c",
   "metadata": {},
   "outputs": [
    {
     "data": {
      "text/plain": [
       "Text(0.5, 1.0, 'aMT')"
      ]
     },
     "execution_count": 51,
     "metadata": {},
     "output_type": "execute_result"
    },
    {
     "data": {
      "image/png": "[encoded data removed]",
      "text/plain": [
       "<Figure size 432x288 with 1 Axes>"
      ]
     },
     "metadata": {
      "needs_background": "light"
     },
     "output_type": "display_data"
    }
   ],
   "source": [
    "ys = amt.to_numpy()\n",
    "amt.plot.box()\n",
    "#pylt.boxplot(ys)\n",
    "q1 = amt.quantile(.25)\n",
    "q3 = amt.quantile(.75)\n",
    "ot = q3 + 1.5 * (q3 - q1)\n",
    "ob = q1 - 1.5 * (q3 - q1)\n",
    "for i, y in enumerate(ys):\n",
    "    if y > ot or y < ob:\n",
    "        pylt.text(1, y, df.iloc[i]['dir'])\n",
    "        print(f'Segmentation {df.iloc[i][\"dir\"]} is an outlier ({abs(y - amt.median()):.2f} total deviation from median)')\n",
    "        \n",
    "pylt.title('aMT')"
   ]
  },
  {
   "cell_type": "code",
   "execution_count": 52,
   "id": "fc46e1f1",
   "metadata": {},
   "outputs": [
    {
     "data": {
      "text/plain": [
       "Text(0.5, 1.0, 'cMT')"
      ]
     },
     "execution_count": 52,
     "metadata": {},
     "output_type": "execute_result"
    },
    {
     "data": {
      "image/png": "[encoded data removed]",
      "text/plain": [
       "<Figure size 432x288 with 1 Axes>"
      ]
     },
     "metadata": {
      "needs_background": "light"
     },
     "output_type": "display_data"
    }
   ],
   "source": [
    "ys = cmt.to_numpy()\n",
    "cmt.plot.box()\n",
    "#pylt.boxplot(ys)\n",
    "q1 = cmt.quantile(.25)\n",
    "q3 = cmt.quantile(.75)\n",
    "ot = q3 + 1.5 * (q3 - q1)\n",
    "ob = q1 - 1.5 * (q3 - q1)\n",
    "for i, y in enumerate(ys):\n",
    "    if y > ot or y < ob:\n",
    "        pylt.text(1, y, df.iloc[i]['dir'])\n",
    "        print(f'Segmentation {df.iloc[i][\"dir\"]} is an outlier ({abs(y - cmt.median()):.2f} total deviation from median)')\n",
    "        \n",
    "pylt.title('cMT')"
   ]
  },
  {
   "cell_type": "code",
   "execution_count": null,
   "id": "38d2dc3e",
   "metadata": {},
   "outputs": [],
   "source": []
  }
 ],
 "metadata": {
  "kernelspec": {
   "display_name": "Python 3 (ipykernel)",
   "language": "python",
   "name": "python3"
  },
  "language_info": {
   "codemirror_mode": {
    "name": "ipython",
    "version": 3
   },
   "file_extension": ".py",
   "mimetype": "text/x-python",
   "name": "python",
   "nbconvert_exporter": "python",
   "pygments_lexer": "ipython3",
   "version": "3.9.5"
  }
 },
 "nbformat": 4,
 "nbformat_minor": 5
}
