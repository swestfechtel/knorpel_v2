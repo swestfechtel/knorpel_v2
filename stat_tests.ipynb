{
 "cells": [
  {
   "cell_type": "code",
   "execution_count": 2,
   "id": "1a154b29",
   "metadata": {},
   "outputs": [],
   "source": [
    "from scipy import stats\n",
    "import numpy as np\n",
    "import pandas as pd\n",
    "import scikit_posthocs as sp"
   ]
  },
  {
   "cell_type": "code",
   "execution_count": 3,
   "id": "c7e8e41f",
   "metadata": {},
   "outputs": [],
   "source": [
    "result_dir = 'C:/Users/simon/Desktop/Ergebnisse'"
   ]
  },
  {
   "cell_type": "code",
   "execution_count": 10,
   "id": "d7c0612b",
   "metadata": {},
   "outputs": [],
   "source": [
    "fn0 = pd.read_csv(f'{result_dir}/fn_roa0.csv')\n",
    "fn4 = pd.read_csv(f'{result_dir}/fn_roa4.csv')\n",
    "fn01 = pd.read_csv(f'{result_dir}/function_normals_01_new.csv')\n",
    "fn234 = pd.read_csv(f'{result_dir}/function_normals_234_new.csv')\n",
    "\n",
    "fv01 = pd.read_csv(f'{result_dir}/function_values_01.csv')\n",
    "fv234 = pd.read_csv(f'{result_dir}/function_values_234.csv')\n",
    "fv0 = pd.read_csv(f'{result_dir}/fv_roa0.csv')\n",
    "fv4 = pd.read_csv(f'{result_dir}/fv_roa4.csv')\n",
    "\n",
    "m01 = pd.read_csv(f'{result_dir}/mesh_01.csv')\n",
    "m234 = pd.read_csv(f'{result_dir}/mesh_234.csv')\n",
    "m0 = pd.read_csv(f'{result_dir}/mesh_roa0.csv')\n",
    "m4 = pd.read_csv(f'{result_dir}/mesh_roa4.csv')\n",
    "\n",
    "s01 = pd.read_csv(f'{result_dir}/sphere_01.csv')\n",
    "s234 = pd.read_csv(f'{result_dir}/sphere_234.csv')\n",
    "s0 = pd.read_csv(f'{result_dir}/sphere_roa0.csv')\n",
    "s4 = pd.read_csv(f'{result_dir}/sphere_roa4.csv')"
   ]
  },
  {
   "cell_type": "code",
   "execution_count": 11,
   "id": "44385650",
   "metadata": {},
   "outputs": [],
   "source": [
    "fn = pd.concat([fn01, fn234])\n",
    "fv = pd.concat([fv01, fv234])\n",
    "m = pd.concat([m01, m234])\n",
    "s = pd.concat([s01, s234])"
   ]
  },
  {
   "cell_type": "code",
   "execution_count": 12,
   "id": "5e33488b",
   "metadata": {},
   "outputs": [
    {
     "data": {
      "text/plain": [
       "(479, 81)"
      ]
     },
     "execution_count": 12,
     "metadata": {},
     "output_type": "execute_result"
    }
   ],
   "source": [
    "fn.shape"
   ]
  },
  {
   "cell_type": "code",
   "execution_count": 13,
   "id": "5b9dc6a2",
   "metadata": {},
   "outputs": [],
   "source": [
    "fn01.set_index('dir', inplace=True)\n",
    "fv01.set_index('dir', inplace=True)\n",
    "m01.set_index('dir', inplace=True)\n",
    "s01.set_index('dir', inplace=True)\n",
    "\n",
    "fn234.set_index('dir', inplace=True)\n",
    "fv234.set_index('dir', inplace=True)\n",
    "m234.set_index('dir', inplace=True)\n",
    "s234.set_index('dir', inplace=True)\n",
    "\n",
    "fn0.set_index('dir', inplace=True)\n",
    "fv0.set_index('dir', inplace=True)\n",
    "m0.set_index('dir', inplace=True)\n",
    "s0.set_index('dir', inplace=True)\n",
    "\n",
    "fn4.set_index('dir', inplace=True)\n",
    "fv4.set_index('dir', inplace=True)\n",
    "m4.set_index('dir', inplace=True)\n",
    "s4.set_index('dir', inplace=True)"
   ]
  },
  {
   "cell_type": "code",
   "execution_count": 14,
   "id": "04717f5f",
   "metadata": {},
   "outputs": [],
   "source": [
    "fn.set_index('dir', inplace=True)\n",
    "fv.set_index('dir', inplace=True)\n",
    "m.set_index('dir', inplace=True)\n",
    "s.set_index('dir', inplace=True)"
   ]
  },
  {
   "cell_type": "markdown",
   "id": "5d527553",
   "metadata": {},
   "source": [
    "## Filter outliers ($\\geq$ 5 standard deviations in positive direction)"
   ]
  },
  {
   "cell_type": "code",
   "execution_count": 15,
   "id": "722a23c2",
   "metadata": {},
   "outputs": [],
   "source": [
    "fn01 = fn01[fn01.isna().any(axis=1) == False]\n",
    "fv01 = fv01[fv01.isna().any(axis=1) == False]\n",
    "m01 = m01[m01.isna().any(axis=1) == False]\n",
    "s01 = s01[s01.isna().any(axis=1) == False]\n",
    "\n",
    "fn234 = fn234[fn234.isna().any(axis=1) == False]\n",
    "fv234 = fv234[fv234.isna().any(axis=1) == False]\n",
    "m234 = m234[m234.isna().any(axis=1) == False]\n",
    "s234 = s234[s234.isna().any(axis=1) == False]\n",
    "\n",
    "fn0 = fn0[fn0.isna().any(axis=1) == False]\n",
    "fv0 = fv0[fv0.isna().any(axis=1) == False]\n",
    "m0 = m0[m0.isna().any(axis=1) == False]\n",
    "s0 = s0[s0.isna().any(axis=1) == False]\n",
    "\n",
    "fn4 = fn4[fn4.isna().any(axis=1) == False]\n",
    "fv4 = fv4[fv4.isna().any(axis=1) == False]\n",
    "m4 = m4[m4.isna().any(axis=1) == False]\n",
    "s4 = s4[s4.isna().any(axis=1) == False]\n",
    "\n",
    "fn01 = fn01[(stats.zscore(fn01) < 5).all(axis=1)]\n",
    "fv01 = fv01[(stats.zscore(fv01) < 5).all(axis=1)]\n",
    "m01 = m01[(stats.zscore(m01) < 5).all(axis=1)]\n",
    "s01 = s01[(stats.zscore(s01) < 5).all(axis=1)]\n",
    "\n",
    "fn234 = fn234[(stats.zscore(fn234) < 5).all(axis=1)]\n",
    "fv234 = fv234[(stats.zscore(fv234) < 5).all(axis=1)]\n",
    "m234 = m234[(stats.zscore(m234) < 5).all(axis=1)]\n",
    "s234 = s234[(stats.zscore(s234) < 5).all(axis=1)]\n",
    "\n",
    "fn0 = fn0[(stats.zscore(fn0) < 5).all(axis=1)]\n",
    "fv0 = fv0[(stats.zscore(fv0) < 5).all(axis=1)]\n",
    "m0 = m0[(stats.zscore(m0) < 5).all(axis=1)]\n",
    "s0 = s0[(stats.zscore(s0) < 5).all(axis=1)]\n",
    "\n",
    "fn4 = fn4[(stats.zscore(fn4) < 5).all(axis=1)]\n",
    "fv4 = fv4[(stats.zscore(fv4) < 5).all(axis=1)]\n",
    "m4 = m4[(stats.zscore(m4) < 5).all(axis=1)]\n",
    "s4 = s4[(stats.zscore(s4) < 5).all(axis=1)]\n",
    "\n",
    "intersection = fn01.index.intersection(fv01.index.intersection(m01.index.intersection(s01.index)))\n",
    "fn01 = fn01.loc[intersection]\n",
    "fv01 = fv01.loc[intersection]\n",
    "m01 = m01.loc[intersection]\n",
    "s01 = s01.loc[intersection]\n",
    "\n",
    "intersection = fn234.index.intersection(fv234.index.intersection(m234.index.intersection(s234.index)))\n",
    "fn234 = fn234.loc[intersection]\n",
    "fv234 = fv234.loc[intersection]\n",
    "m234 = m234.loc[intersection]\n",
    "s234 = s234.loc[intersection]\n",
    "\n",
    "intersection = fn0.index.intersection(fv0.index.intersection(m0.index.intersection(s0.index)))\n",
    "fn0 = fn0.loc[intersection]\n",
    "fv0 = fv0.loc[intersection]\n",
    "m0 = m0.loc[intersection]\n",
    "s0 = s0.loc[intersection]\n",
    "\n",
    "intersection = fn4.index.intersection(fv4.index.intersection(m4.index.intersection(s4.index)))\n",
    "fn4 = fn4.loc[intersection]\n",
    "fv4 = fv4.loc[intersection]\n",
    "m4 = m4.loc[intersection]\n",
    "s4 = s4.loc[intersection]"
   ]
  },
  {
   "cell_type": "code",
   "execution_count": 16,
   "id": "207ac6cc",
   "metadata": {},
   "outputs": [],
   "source": [
    "fn = fn[fn.isna().any(axis=1) == False]\n",
    "fv = fv[fv.isna().any(axis=1) == False]\n",
    "m = m[m.isna().any(axis=1) == False]\n",
    "s = s[s.isna().any(axis=1) == False]"
   ]
  },
  {
   "cell_type": "code",
   "execution_count": 17,
   "id": "99babc8e",
   "metadata": {},
   "outputs": [
    {
     "name": "stdout",
     "output_type": "stream",
     "text": [
      "Filtered out 0 instances.\n"
     ]
    }
   ],
   "source": [
    "numrows = fn.shape[0]\n",
    "fn_ = fn[(stats.zscore(fn) < 5).all(axis=1)]\n",
    "print(f'Filtered out {numrows - fn.shape[0]} instances.')"
   ]
  },
  {
   "cell_type": "code",
   "execution_count": 18,
   "id": "246332c5",
   "metadata": {
    "scrolled": true
   },
   "outputs": [
    {
     "name": "stdout",
     "output_type": "stream",
     "text": [
      "Filtered out 0 instances.\n"
     ]
    }
   ],
   "source": [
    "numrows = fv.shape[0]\n",
    "fv_ = fv[(stats.zscore(fv) < 5).all(axis=1)]\n",
    "print(f'Filtered out {numrows - fv.shape[0]} instances.')"
   ]
  },
  {
   "cell_type": "code",
   "execution_count": 19,
   "id": "bc0c1acd",
   "metadata": {},
   "outputs": [
    {
     "name": "stdout",
     "output_type": "stream",
     "text": [
      "Filtered out 0 instances.\n"
     ]
    }
   ],
   "source": [
    "numrows = m.shape[0]\n",
    "m_ = m[(stats.zscore(m) < 5).all(axis=1)]\n",
    "print(f'Filtered out {numrows - m.shape[0]} instances.')"
   ]
  },
  {
   "cell_type": "code",
   "execution_count": 20,
   "id": "b461bc65",
   "metadata": {},
   "outputs": [
    {
     "name": "stdout",
     "output_type": "stream",
     "text": [
      "Filtered out 0 instances.\n"
     ]
    }
   ],
   "source": [
    "numrows = s.shape[0]\n",
    "s_ = s[(stats.zscore(s) < 5).all(axis=1)]\n",
    "print(f'Filtered out {numrows - s.shape[0]} instances.')"
   ]
  },
  {
   "cell_type": "code",
   "execution_count": 21,
   "id": "52e569ce",
   "metadata": {},
   "outputs": [],
   "source": [
    "fn_complement = fn.merge(fn_, how = 'outer' ,indicator=True).loc[lambda x : x['_merge']=='left_only']\n",
    "fv_complement = fv.merge(fv_, how='outer', indicator=True).loc[lambda x: x['_merge']=='left_only']\n",
    "m_complement = m.merge(m_, how='outer', indicator=True).loc[lambda x: x['_merge']=='left_only']\n",
    "s_complement = s.merge(s_, how='outer', indicator=True).loc[lambda x: x['_merge']=='left_only']"
   ]
  },
  {
   "cell_type": "code",
   "execution_count": 22,
   "id": "124bd953",
   "metadata": {},
   "outputs": [
    {
     "data": {
      "text/plain": [
       "(0,)"
      ]
     },
     "execution_count": 22,
     "metadata": {},
     "output_type": "execute_result"
    }
   ],
   "source": [
    "fn_complement.index.intersection(fv_complement.index.intersection(m_complement.index.intersection(s_complement.index))).shape"
   ]
  },
  {
   "cell_type": "code",
   "execution_count": 23,
   "id": "3a537747",
   "metadata": {},
   "outputs": [
    {
     "name": "stdout",
     "output_type": "stream",
     "text": [
      "Filtered out 16 instances.\n"
     ]
    }
   ],
   "source": [
    "numrows = fn.shape[0]\n",
    "fn = fn[(stats.zscore(fn) < 5).all(axis=1)]\n",
    "print(f'Filtered out {numrows - fn.shape[0]} instances.')"
   ]
  },
  {
   "cell_type": "code",
   "execution_count": 24,
   "id": "32280290",
   "metadata": {
    "scrolled": true
   },
   "outputs": [
    {
     "name": "stdout",
     "output_type": "stream",
     "text": [
      "Filtered out 8 instances.\n"
     ]
    }
   ],
   "source": [
    "numrows = fv.shape[0]\n",
    "fv = fv[(stats.zscore(fv) < 5).all(axis=1)]\n",
    "print(f'Filtered out {numrows - fv.shape[0]} instances.')"
   ]
  },
  {
   "cell_type": "code",
   "execution_count": 25,
   "id": "0e62dfbc",
   "metadata": {},
   "outputs": [
    {
     "name": "stdout",
     "output_type": "stream",
     "text": [
      "Filtered out 11 instances.\n"
     ]
    }
   ],
   "source": [
    "numrows = m.shape[0]\n",
    "m = m[(stats.zscore(m) < 5).all(axis=1)]\n",
    "print(f'Filtered out {numrows - m.shape[0]} instances.')"
   ]
  },
  {
   "cell_type": "code",
   "execution_count": 26,
   "id": "6ea7eafa",
   "metadata": {},
   "outputs": [
    {
     "name": "stdout",
     "output_type": "stream",
     "text": [
      "Filtered out 21 instances.\n"
     ]
    }
   ],
   "source": [
    "numrows = s.shape[0]\n",
    "s = s[(stats.zscore(s) < 5).all(axis=1)]\n",
    "print(f'Filtered out {numrows - s.shape[0]} instances.')"
   ]
  },
  {
   "cell_type": "markdown",
   "id": "ec0d277e",
   "metadata": {},
   "source": [
    "Compute intersection of dataframes"
   ]
  },
  {
   "cell_type": "code",
   "execution_count": 27,
   "id": "b4dc7667",
   "metadata": {},
   "outputs": [],
   "source": [
    "intersection = fn.index.intersection(fv.index.intersection(m.index.intersection(s.index)))"
   ]
  },
  {
   "cell_type": "code",
   "execution_count": 28,
   "id": "d26131f9",
   "metadata": {},
   "outputs": [],
   "source": [
    "fn = fn.loc[intersection]\n",
    "fv = fv.loc[intersection]\n",
    "m = m.loc[intersection]\n",
    "s = s.loc[intersection]"
   ]
  },
  {
   "cell_type": "code",
   "execution_count": 29,
   "id": "96765c4e",
   "metadata": {},
   "outputs": [],
   "source": [
    "assert fn.shape == fv.shape == m.shape == s.shape"
   ]
  },
  {
   "cell_type": "code",
   "execution_count": 30,
   "id": "e6ad5de8",
   "metadata": {},
   "outputs": [
    {
     "data": {
      "text/plain": [
       "(440, 80)"
      ]
     },
     "execution_count": 30,
     "metadata": {},
     "output_type": "execute_result"
    }
   ],
   "source": [
    "fn.shape"
   ]
  },
  {
   "cell_type": "code",
   "execution_count": 31,
   "id": "e24a334f",
   "metadata": {},
   "outputs": [],
   "source": [
    "all_cols = ['ecLF', 'ccLF', 'icLF', 'ecMF', 'ccMF', 'icMF', 'aLF', 'aMF', 'pLF', 'pMF', \n",
    "           'cLT', 'iLT', 'eLT', 'aLT', 'pLT', 'cMT', 'iMT', 'eMT', 'aMT', 'pMT']\n",
    "\n",
    "f_cols = ['ecLF', 'ccLF', 'icLF', 'ecMF', 'ccMF', 'icMF', 'aLF', 'aMF', 'pLF', 'pMF']\n",
    "t_cols = ['cLT', 'iLT', 'eLT', 'aLT', 'pLT', 'cMT', 'iMT', 'eMT', 'aMT', 'pMT']\n",
    "\n",
    "lf_cols = ['ecLF', 'ccLF', 'icLF', 'aLF', 'pLF']\n",
    "mf_cols = ['ecMF', 'ccMF', 'icMF', 'aMF', 'pMF']\n",
    "lt_cols = ['cLT', 'iLT', 'eLT', 'aLT', 'pLT']\n",
    "mt_cols = ['cMT', 'iMT', 'eMT', 'aMT', 'pMT']"
   ]
  },
  {
   "cell_type": "code",
   "execution_count": 37,
   "id": "4fd65eda",
   "metadata": {},
   "outputs": [],
   "source": [
    "fn.to_csv(f'{result_dir}/function_normals_cleaned.csv')\n",
    "fv.to_csv(f'{result_dir}/function_values_cleaned.csv')\n",
    "m.to_csv(f'{result_dir}/mesh_cleaned.csv')\n",
    "s.to_csv(f'{result_dir}/sphere_cleaned.csv')"
   ]
  },
  {
   "cell_type": "code",
   "execution_count": 38,
   "id": "a375ed43",
   "metadata": {},
   "outputs": [
    {
     "data": {
      "text/html": [
       "<div>\n",
       "<style scoped>\n",
       "    .dataframe tbody tr th:only-of-type {\n",
       "        vertical-align: middle;\n",
       "    }\n",
       "\n",
       "    .dataframe tbody tr th {\n",
       "        vertical-align: top;\n",
       "    }\n",
       "\n",
       "    .dataframe thead th {\n",
       "        text-align: right;\n",
       "    }\n",
       "</style>\n",
       "<table border=\"1\" class=\"dataframe\">\n",
       "  <thead>\n",
       "    <tr style=\"text-align: right;\">\n",
       "      <th></th>\n",
       "      <th>ecLF_c</th>\n",
       "      <th>ccLF_c</th>\n",
       "      <th>icLF_c</th>\n",
       "      <th>aLF_c</th>\n",
       "      <th>pLF_c</th>\n",
       "      <th>ecLF_o</th>\n",
       "      <th>ccLF_o</th>\n",
       "      <th>icLF_o</th>\n",
       "      <th>aLF_o</th>\n",
       "      <th>pLF_o</th>\n",
       "    </tr>\n",
       "    <tr>\n",
       "      <th>dir</th>\n",
       "      <th></th>\n",
       "      <th></th>\n",
       "      <th></th>\n",
       "      <th></th>\n",
       "      <th></th>\n",
       "      <th></th>\n",
       "      <th></th>\n",
       "      <th></th>\n",
       "      <th></th>\n",
       "      <th></th>\n",
       "    </tr>\n",
       "  </thead>\n",
       "  <tbody>\n",
       "    <tr>\n",
       "      <th>9003430</th>\n",
       "      <td>1.727473</td>\n",
       "      <td>2.583704</td>\n",
       "      <td>1.780085</td>\n",
       "      <td>2.622144</td>\n",
       "      <td>2.640635</td>\n",
       "      <td>1.696027</td>\n",
       "      <td>2.508189</td>\n",
       "      <td>1.797149</td>\n",
       "      <td>2.369889</td>\n",
       "      <td>2.562541</td>\n",
       "    </tr>\n",
       "    <tr>\n",
       "      <th>9005075</th>\n",
       "      <td>1.614442</td>\n",
       "      <td>2.348911</td>\n",
       "      <td>1.738658</td>\n",
       "      <td>3.008500</td>\n",
       "      <td>2.626156</td>\n",
       "      <td>1.523235</td>\n",
       "      <td>2.258569</td>\n",
       "      <td>1.661195</td>\n",
       "      <td>2.199330</td>\n",
       "      <td>2.461835</td>\n",
       "    </tr>\n",
       "    <tr>\n",
       "      <th>9005132</th>\n",
       "      <td>1.552880</td>\n",
       "      <td>2.230086</td>\n",
       "      <td>1.583020</td>\n",
       "      <td>2.506600</td>\n",
       "      <td>1.941073</td>\n",
       "      <td>1.630033</td>\n",
       "      <td>2.094076</td>\n",
       "      <td>1.663188</td>\n",
       "      <td>2.002967</td>\n",
       "      <td>1.671239</td>\n",
       "    </tr>\n",
       "    <tr>\n",
       "      <th>9006723</th>\n",
       "      <td>1.734058</td>\n",
       "      <td>2.826189</td>\n",
       "      <td>1.956998</td>\n",
       "      <td>3.136161</td>\n",
       "      <td>2.611207</td>\n",
       "      <td>1.667508</td>\n",
       "      <td>2.690765</td>\n",
       "      <td>2.022126</td>\n",
       "      <td>2.275437</td>\n",
       "      <td>2.421498</td>\n",
       "    </tr>\n",
       "    <tr>\n",
       "      <th>9008561</th>\n",
       "      <td>1.402152</td>\n",
       "      <td>2.612312</td>\n",
       "      <td>1.607943</td>\n",
       "      <td>2.528422</td>\n",
       "      <td>1.922628</td>\n",
       "      <td>1.365346</td>\n",
       "      <td>2.486039</td>\n",
       "      <td>1.659599</td>\n",
       "      <td>1.987858</td>\n",
       "      <td>1.898787</td>\n",
       "    </tr>\n",
       "    <tr>\n",
       "      <th>...</th>\n",
       "      <td>...</td>\n",
       "      <td>...</td>\n",
       "      <td>...</td>\n",
       "      <td>...</td>\n",
       "      <td>...</td>\n",
       "      <td>...</td>\n",
       "      <td>...</td>\n",
       "      <td>...</td>\n",
       "      <td>...</td>\n",
       "      <td>...</td>\n",
       "    </tr>\n",
       "    <tr>\n",
       "      <th>9598683</th>\n",
       "      <td>1.598494</td>\n",
       "      <td>2.492819</td>\n",
       "      <td>1.976467</td>\n",
       "      <td>3.421928</td>\n",
       "      <td>2.354452</td>\n",
       "      <td>1.787374</td>\n",
       "      <td>2.501255</td>\n",
       "      <td>1.969794</td>\n",
       "      <td>2.703604</td>\n",
       "      <td>2.422142</td>\n",
       "    </tr>\n",
       "    <tr>\n",
       "      <th>9695686</th>\n",
       "      <td>1.534789</td>\n",
       "      <td>2.792691</td>\n",
       "      <td>2.249444</td>\n",
       "      <td>2.534655</td>\n",
       "      <td>1.899720</td>\n",
       "      <td>1.610656</td>\n",
       "      <td>2.675203</td>\n",
       "      <td>2.294859</td>\n",
       "      <td>2.367775</td>\n",
       "      <td>1.875567</td>\n",
       "    </tr>\n",
       "    <tr>\n",
       "      <th>9691663</th>\n",
       "      <td>1.888034</td>\n",
       "      <td>2.713233</td>\n",
       "      <td>1.598871</td>\n",
       "      <td>2.604986</td>\n",
       "      <td>2.601199</td>\n",
       "      <td>1.940666</td>\n",
       "      <td>2.631743</td>\n",
       "      <td>1.604886</td>\n",
       "      <td>2.149315</td>\n",
       "      <td>2.967460</td>\n",
       "    </tr>\n",
       "    <tr>\n",
       "      <th>9657594</th>\n",
       "      <td>1.387113</td>\n",
       "      <td>1.555123</td>\n",
       "      <td>1.238230</td>\n",
       "      <td>2.717193</td>\n",
       "      <td>2.392049</td>\n",
       "      <td>1.325456</td>\n",
       "      <td>1.417946</td>\n",
       "      <td>1.387567</td>\n",
       "      <td>2.141117</td>\n",
       "      <td>2.193440</td>\n",
       "    </tr>\n",
       "    <tr>\n",
       "      <th>9566781</th>\n",
       "      <td>1.234443</td>\n",
       "      <td>1.608091</td>\n",
       "      <td>1.376223</td>\n",
       "      <td>1.836413</td>\n",
       "      <td>2.485203</td>\n",
       "      <td>1.200327</td>\n",
       "      <td>1.474555</td>\n",
       "      <td>1.260691</td>\n",
       "      <td>1.512918</td>\n",
       "      <td>2.370210</td>\n",
       "    </tr>\n",
       "  </tbody>\n",
       "</table>\n",
       "<p>440 rows × 10 columns</p>\n",
       "</div>"
      ],
      "text/plain": [
       "           ecLF_c    ccLF_c    icLF_c     aLF_c     pLF_c    ecLF_o    ccLF_o  \\\n",
       "dir                                                                             \n",
       "9003430  1.727473  2.583704  1.780085  2.622144  2.640635  1.696027  2.508189   \n",
       "9005075  1.614442  2.348911  1.738658  3.008500  2.626156  1.523235  2.258569   \n",
       "9005132  1.552880  2.230086  1.583020  2.506600  1.941073  1.630033  2.094076   \n",
       "9006723  1.734058  2.826189  1.956998  3.136161  2.611207  1.667508  2.690765   \n",
       "9008561  1.402152  2.612312  1.607943  2.528422  1.922628  1.365346  2.486039   \n",
       "...           ...       ...       ...       ...       ...       ...       ...   \n",
       "9598683  1.598494  2.492819  1.976467  3.421928  2.354452  1.787374  2.501255   \n",
       "9695686  1.534789  2.792691  2.249444  2.534655  1.899720  1.610656  2.675203   \n",
       "9691663  1.888034  2.713233  1.598871  2.604986  2.601199  1.940666  2.631743   \n",
       "9657594  1.387113  1.555123  1.238230  2.717193  2.392049  1.325456  1.417946   \n",
       "9566781  1.234443  1.608091  1.376223  1.836413  2.485203  1.200327  1.474555   \n",
       "\n",
       "           icLF_o     aLF_o     pLF_o  \n",
       "dir                                    \n",
       "9003430  1.797149  2.369889  2.562541  \n",
       "9005075  1.661195  2.199330  2.461835  \n",
       "9005132  1.663188  2.002967  1.671239  \n",
       "9006723  2.022126  2.275437  2.421498  \n",
       "9008561  1.659599  1.987858  1.898787  \n",
       "...           ...       ...       ...  \n",
       "9598683  1.969794  2.703604  2.422142  \n",
       "9695686  2.294859  2.367775  1.875567  \n",
       "9691663  1.604886  2.149315  2.967460  \n",
       "9657594  1.387567  2.141117  2.193440  \n",
       "9566781  1.260691  1.512918  2.370210  \n",
       "\n",
       "[440 rows x 10 columns]"
      ]
     },
     "execution_count": 38,
     "metadata": {},
     "output_type": "execute_result"
    }
   ],
   "source": [
    "tmp = fn[lf_cols].join(m[lf_cols], lsuffix=\"_c\", rsuffix=\"_o\")\n",
    "tmp"
   ]
  },
  {
   "cell_type": "code",
   "execution_count": 39,
   "id": "12b76c01",
   "metadata": {},
   "outputs": [
    {
     "data": {
      "text/html": [
       "<div>\n",
       "<style scoped>\n",
       "    .dataframe tbody tr th:only-of-type {\n",
       "        vertical-align: middle;\n",
       "    }\n",
       "\n",
       "    .dataframe tbody tr th {\n",
       "        vertical-align: top;\n",
       "    }\n",
       "\n",
       "    .dataframe thead tr th {\n",
       "        text-align: left;\n",
       "    }\n",
       "\n",
       "    .dataframe thead tr:last-of-type th {\n",
       "        text-align: right;\n",
       "    }\n",
       "</style>\n",
       "<table border=\"1\" class=\"dataframe\">\n",
       "  <thead>\n",
       "    <tr>\n",
       "      <th></th>\n",
       "      <th colspan=\"5\" halign=\"left\">c</th>\n",
       "      <th colspan=\"5\" halign=\"left\">o</th>\n",
       "    </tr>\n",
       "    <tr>\n",
       "      <th></th>\n",
       "      <th>ecLF</th>\n",
       "      <th>ccLF</th>\n",
       "      <th>icLF</th>\n",
       "      <th>aLF</th>\n",
       "      <th>pLF</th>\n",
       "      <th>ecLF</th>\n",
       "      <th>ccLF</th>\n",
       "      <th>icLF</th>\n",
       "      <th>aLF</th>\n",
       "      <th>pLF</th>\n",
       "    </tr>\n",
       "    <tr>\n",
       "      <th>dir</th>\n",
       "      <th></th>\n",
       "      <th></th>\n",
       "      <th></th>\n",
       "      <th></th>\n",
       "      <th></th>\n",
       "      <th></th>\n",
       "      <th></th>\n",
       "      <th></th>\n",
       "      <th></th>\n",
       "      <th></th>\n",
       "    </tr>\n",
       "  </thead>\n",
       "  <tbody>\n",
       "    <tr>\n",
       "      <th>9003430</th>\n",
       "      <td>1.727473</td>\n",
       "      <td>2.583704</td>\n",
       "      <td>1.780085</td>\n",
       "      <td>2.622144</td>\n",
       "      <td>2.640635</td>\n",
       "      <td>1.696027</td>\n",
       "      <td>2.508189</td>\n",
       "      <td>1.797149</td>\n",
       "      <td>2.369889</td>\n",
       "      <td>2.562541</td>\n",
       "    </tr>\n",
       "    <tr>\n",
       "      <th>9005075</th>\n",
       "      <td>1.614442</td>\n",
       "      <td>2.348911</td>\n",
       "      <td>1.738658</td>\n",
       "      <td>3.008500</td>\n",
       "      <td>2.626156</td>\n",
       "      <td>1.523235</td>\n",
       "      <td>2.258569</td>\n",
       "      <td>1.661195</td>\n",
       "      <td>2.199330</td>\n",
       "      <td>2.461835</td>\n",
       "    </tr>\n",
       "    <tr>\n",
       "      <th>9005132</th>\n",
       "      <td>1.552880</td>\n",
       "      <td>2.230086</td>\n",
       "      <td>1.583020</td>\n",
       "      <td>2.506600</td>\n",
       "      <td>1.941073</td>\n",
       "      <td>1.630033</td>\n",
       "      <td>2.094076</td>\n",
       "      <td>1.663188</td>\n",
       "      <td>2.002967</td>\n",
       "      <td>1.671239</td>\n",
       "    </tr>\n",
       "    <tr>\n",
       "      <th>9006723</th>\n",
       "      <td>1.734058</td>\n",
       "      <td>2.826189</td>\n",
       "      <td>1.956998</td>\n",
       "      <td>3.136161</td>\n",
       "      <td>2.611207</td>\n",
       "      <td>1.667508</td>\n",
       "      <td>2.690765</td>\n",
       "      <td>2.022126</td>\n",
       "      <td>2.275437</td>\n",
       "      <td>2.421498</td>\n",
       "    </tr>\n",
       "    <tr>\n",
       "      <th>9008561</th>\n",
       "      <td>1.402152</td>\n",
       "      <td>2.612312</td>\n",
       "      <td>1.607943</td>\n",
       "      <td>2.528422</td>\n",
       "      <td>1.922628</td>\n",
       "      <td>1.365346</td>\n",
       "      <td>2.486039</td>\n",
       "      <td>1.659599</td>\n",
       "      <td>1.987858</td>\n",
       "      <td>1.898787</td>\n",
       "    </tr>\n",
       "    <tr>\n",
       "      <th>...</th>\n",
       "      <td>...</td>\n",
       "      <td>...</td>\n",
       "      <td>...</td>\n",
       "      <td>...</td>\n",
       "      <td>...</td>\n",
       "      <td>...</td>\n",
       "      <td>...</td>\n",
       "      <td>...</td>\n",
       "      <td>...</td>\n",
       "      <td>...</td>\n",
       "    </tr>\n",
       "    <tr>\n",
       "      <th>9598683</th>\n",
       "      <td>1.598494</td>\n",
       "      <td>2.492819</td>\n",
       "      <td>1.976467</td>\n",
       "      <td>3.421928</td>\n",
       "      <td>2.354452</td>\n",
       "      <td>1.787374</td>\n",
       "      <td>2.501255</td>\n",
       "      <td>1.969794</td>\n",
       "      <td>2.703604</td>\n",
       "      <td>2.422142</td>\n",
       "    </tr>\n",
       "    <tr>\n",
       "      <th>9695686</th>\n",
       "      <td>1.534789</td>\n",
       "      <td>2.792691</td>\n",
       "      <td>2.249444</td>\n",
       "      <td>2.534655</td>\n",
       "      <td>1.899720</td>\n",
       "      <td>1.610656</td>\n",
       "      <td>2.675203</td>\n",
       "      <td>2.294859</td>\n",
       "      <td>2.367775</td>\n",
       "      <td>1.875567</td>\n",
       "    </tr>\n",
       "    <tr>\n",
       "      <th>9691663</th>\n",
       "      <td>1.888034</td>\n",
       "      <td>2.713233</td>\n",
       "      <td>1.598871</td>\n",
       "      <td>2.604986</td>\n",
       "      <td>2.601199</td>\n",
       "      <td>1.940666</td>\n",
       "      <td>2.631743</td>\n",
       "      <td>1.604886</td>\n",
       "      <td>2.149315</td>\n",
       "      <td>2.967460</td>\n",
       "    </tr>\n",
       "    <tr>\n",
       "      <th>9657594</th>\n",
       "      <td>1.387113</td>\n",
       "      <td>1.555123</td>\n",
       "      <td>1.238230</td>\n",
       "      <td>2.717193</td>\n",
       "      <td>2.392049</td>\n",
       "      <td>1.325456</td>\n",
       "      <td>1.417946</td>\n",
       "      <td>1.387567</td>\n",
       "      <td>2.141117</td>\n",
       "      <td>2.193440</td>\n",
       "    </tr>\n",
       "    <tr>\n",
       "      <th>9566781</th>\n",
       "      <td>1.234443</td>\n",
       "      <td>1.608091</td>\n",
       "      <td>1.376223</td>\n",
       "      <td>1.836413</td>\n",
       "      <td>2.485203</td>\n",
       "      <td>1.200327</td>\n",
       "      <td>1.474555</td>\n",
       "      <td>1.260691</td>\n",
       "      <td>1.512918</td>\n",
       "      <td>2.370210</td>\n",
       "    </tr>\n",
       "  </tbody>\n",
       "</table>\n",
       "<p>440 rows × 10 columns</p>\n",
       "</div>"
      ],
      "text/plain": [
       "                c                                                 o            \\\n",
       "             ecLF      ccLF      icLF       aLF       pLF      ecLF      ccLF   \n",
       "dir                                                                             \n",
       "9003430  1.727473  2.583704  1.780085  2.622144  2.640635  1.696027  2.508189   \n",
       "9005075  1.614442  2.348911  1.738658  3.008500  2.626156  1.523235  2.258569   \n",
       "9005132  1.552880  2.230086  1.583020  2.506600  1.941073  1.630033  2.094076   \n",
       "9006723  1.734058  2.826189  1.956998  3.136161  2.611207  1.667508  2.690765   \n",
       "9008561  1.402152  2.612312  1.607943  2.528422  1.922628  1.365346  2.486039   \n",
       "...           ...       ...       ...       ...       ...       ...       ...   \n",
       "9598683  1.598494  2.492819  1.976467  3.421928  2.354452  1.787374  2.501255   \n",
       "9695686  1.534789  2.792691  2.249444  2.534655  1.899720  1.610656  2.675203   \n",
       "9691663  1.888034  2.713233  1.598871  2.604986  2.601199  1.940666  2.631743   \n",
       "9657594  1.387113  1.555123  1.238230  2.717193  2.392049  1.325456  1.417946   \n",
       "9566781  1.234443  1.608091  1.376223  1.836413  2.485203  1.200327  1.474555   \n",
       "\n",
       "                                       \n",
       "             icLF       aLF       pLF  \n",
       "dir                                    \n",
       "9003430  1.797149  2.369889  2.562541  \n",
       "9005075  1.661195  2.199330  2.461835  \n",
       "9005132  1.663188  2.002967  1.671239  \n",
       "9006723  2.022126  2.275437  2.421498  \n",
       "9008561  1.659599  1.987858  1.898787  \n",
       "...           ...       ...       ...  \n",
       "9598683  1.969794  2.703604  2.422142  \n",
       "9695686  2.294859  2.367775  1.875567  \n",
       "9691663  1.604886  2.149315  2.967460  \n",
       "9657594  1.387567  2.141117  2.193440  \n",
       "9566781  1.260691  1.512918  2.370210  \n",
       "\n",
       "[440 rows x 10 columns]"
      ]
     },
     "execution_count": 39,
     "metadata": {},
     "output_type": "execute_result"
    }
   ],
   "source": [
    "tmp.columns = pd.MultiIndex.from_tuples([(x[-1], x[:-2]) for x in tmp.columns])\n",
    "tmp"
   ]
  },
  {
   "cell_type": "code",
   "execution_count": 40,
   "id": "8650b44d",
   "metadata": {},
   "outputs": [],
   "source": [
    "tmp.to_csv(f'{result_dir}/test.csv', index=False, index_label=False)"
   ]
  },
  {
   "cell_type": "code",
   "execution_count": 32,
   "id": "ca9e0705",
   "metadata": {},
   "outputs": [],
   "source": [
    "fn_all_regions_mean = fn[all_cols].apply(np.mean, axis=1)\n",
    "fv_all_regions_mean = fv[all_cols].apply(np.mean, axis=1)\n",
    "m_all_regions_mean = m[all_cols].apply(np.mean, axis=1)\n",
    "s_all_regions_mean = s[all_cols].apply(np.mean, axis=1)"
   ]
  },
  {
   "cell_type": "code",
   "execution_count": 33,
   "id": "c1f23737",
   "metadata": {},
   "outputs": [],
   "source": [
    "fn_f_mean = fn[f_cols].apply(np.mean, axis=1)\n",
    "fn_t_mean = fn[t_cols].apply(np.mean, axis=1)\n",
    "\n",
    "fv_f_mean = fv[f_cols].apply(np.mean, axis=1)\n",
    "fv_t_mean = fv[t_cols].apply(np.mean, axis=1)\n",
    "\n",
    "m_f_mean = m[f_cols].apply(np.mean, axis=1)\n",
    "m_t_mean = m[t_cols].apply(np.mean, axis=1)\n",
    "\n",
    "s_f_mean = s[f_cols].apply(np.mean, axis=1)\n",
    "s_t_mean = s[t_cols].apply(np.mean, axis=1)"
   ]
  },
  {
   "cell_type": "code",
   "execution_count": 34,
   "id": "e32e8da7",
   "metadata": {},
   "outputs": [],
   "source": [
    "fn_lf_mean = fn[lf_cols].apply(np.mean, axis=1)\n",
    "fn_mf_mean = fn[mf_cols].apply(np.mean, axis=1)\n",
    "fn_lt_mean = fn[lt_cols].apply(np.mean, axis=1)\n",
    "fn_mt_mean = fn[mt_cols].apply(np.mean, axis=1)"
   ]
  },
  {
   "cell_type": "code",
   "execution_count": 35,
   "id": "7e6e65cb",
   "metadata": {},
   "outputs": [],
   "source": [
    "fv_lf_mean = fv[lf_cols].apply(np.mean, axis=1)\n",
    "fv_mf_mean = fv[mf_cols].apply(np.mean, axis=1)\n",
    "fv_lt_mean = fv[lt_cols].apply(np.mean, axis=1)\n",
    "fv_mt_mean = fv[mt_cols].apply(np.mean, axis=1)"
   ]
  },
  {
   "cell_type": "code",
   "execution_count": 36,
   "id": "fd63e260",
   "metadata": {},
   "outputs": [],
   "source": [
    "m_lf_mean = m[lf_cols].apply(np.mean, axis=1)\n",
    "m_mf_mean = m[mf_cols].apply(np.mean, axis=1)\n",
    "m_lt_mean = m[lt_cols].apply(np.mean, axis=1)\n",
    "m_mt_mean = m[mt_cols].apply(np.mean, axis=1)"
   ]
  },
  {
   "cell_type": "code",
   "execution_count": 37,
   "id": "9860d43f",
   "metadata": {},
   "outputs": [],
   "source": [
    "s_lf_mean = s[lf_cols].apply(np.mean, axis=1)\n",
    "s_mf_mean = s[mf_cols].apply(np.mean, axis=1)\n",
    "s_lt_mean = s[lt_cols].apply(np.mean, axis=1)\n",
    "s_mt_mean = s[mt_cols].apply(np.mean, axis=1)"
   ]
  },
  {
   "cell_type": "code",
   "execution_count": 38,
   "id": "7d890a85",
   "metadata": {},
   "outputs": [],
   "source": [
    "fn_all_regions = fn[all_cols]\n",
    "fv_all_regions = fv[all_cols]\n",
    "m_all_regions = m[all_cols]\n",
    "s_all_regions = s[all_cols]"
   ]
  },
  {
   "cell_type": "code",
   "execution_count": 51,
   "id": "ef201241",
   "metadata": {},
   "outputs": [],
   "source": [
    "pd.DataFrame({'fn': fn_all_regions_mean, 'fv': fv_all_regions_mean, 'm': m_all_regions_mean, 's': s_all_regions_mean}).to_csv(f'{result_dir}/subregions/all_regions_mean.csv')"
   ]
  },
  {
   "cell_type": "code",
   "execution_count": 52,
   "id": "1c56df20",
   "metadata": {},
   "outputs": [],
   "source": [
    "pd.DataFrame({'fn': fn_f_mean, 'fv': fv_f_mean, 'm': m_f_mean, 's': s_f_mean}).to_csv(f'{result_dir}/subregions/femur_mean.csv')"
   ]
  },
  {
   "cell_type": "code",
   "execution_count": 53,
   "id": "3ae55135",
   "metadata": {},
   "outputs": [],
   "source": [
    "pd.DataFrame({'fn': fn_t_mean, 'fv': fv_t_mean, 'm': m_t_mean, 's': s_t_mean}).to_csv(f'{result_dir}/subregions/tibia_mean.csv')"
   ]
  },
  {
   "cell_type": "code",
   "execution_count": 54,
   "id": "cc638f34",
   "metadata": {},
   "outputs": [],
   "source": [
    "pd.DataFrame({'fn': fn_lf_mean, 'fv': fv_lf_mean, 'm': m_lf_mean, 's': s_lf_mean}).to_csv(f'{result_dir}/subregions/lateral_femur_mean.csv')"
   ]
  },
  {
   "cell_type": "code",
   "execution_count": 55,
   "id": "11bef6cb",
   "metadata": {},
   "outputs": [],
   "source": [
    "pd.DataFrame({'fn': fn_mf_mean, 'fv': fv_mf_mean, 'm': m_mf_mean, 's': s_mf_mean}).to_csv(f'{result_dir}/subregions/medial_femur_mean.csv')"
   ]
  },
  {
   "cell_type": "code",
   "execution_count": 56,
   "id": "5ad0e217",
   "metadata": {},
   "outputs": [],
   "source": [
    "pd.DataFrame({'fn': fn_lt_mean, 'fv': fv_lt_mean, 'm': m_lt_mean, 's': s_lt_mean}).to_csv(f'{result_dir}/subregions/lateral_tibia_mean.csv')"
   ]
  },
  {
   "cell_type": "code",
   "execution_count": 57,
   "id": "3aeea87a",
   "metadata": {},
   "outputs": [],
   "source": [
    "pd.DataFrame({'fn': fn_mt_mean, 'fv': fv_mt_mean, 'm': m_mt_mean, 's': s_mt_mean}).to_csv(f'{result_dir}/subregions/medial_tibia_mean.csv')"
   ]
  },
  {
   "cell_type": "code",
   "execution_count": 58,
   "id": "1628a639",
   "metadata": {},
   "outputs": [],
   "source": [
    "for col in all_cols:\n",
    "    pd.DataFrame({'fn': fn[col], 'fv': fv[col], 'm': m[col], 's': s[col]}).to_csv(f'{result_dir}/subregions/{col}.csv')"
   ]
  },
  {
   "cell_type": "code",
   "execution_count": 59,
   "id": "8beafa49",
   "metadata": {},
   "outputs": [
    {
     "data": {
      "text/html": [
       "<div>\n",
       "<style scoped>\n",
       "    .dataframe tbody tr th:only-of-type {\n",
       "        vertical-align: middle;\n",
       "    }\n",
       "\n",
       "    .dataframe tbody tr th {\n",
       "        vertical-align: top;\n",
       "    }\n",
       "\n",
       "    .dataframe thead tr th {\n",
       "        text-align: left;\n",
       "    }\n",
       "\n",
       "    .dataframe thead tr:last-of-type th {\n",
       "        text-align: right;\n",
       "    }\n",
       "</style>\n",
       "<table border=\"1\" class=\"dataframe\">\n",
       "  <thead>\n",
       "    <tr>\n",
       "      <th></th>\n",
       "      <th colspan=\"10\" halign=\"left\">fn</th>\n",
       "      <th>...</th>\n",
       "      <th colspan=\"10\" halign=\"left\">ss</th>\n",
       "    </tr>\n",
       "    <tr>\n",
       "      <th></th>\n",
       "      <th>ecLF</th>\n",
       "      <th>ccLF</th>\n",
       "      <th>icLF</th>\n",
       "      <th>ecMF</th>\n",
       "      <th>ccMF</th>\n",
       "      <th>icMF</th>\n",
       "      <th>aLF</th>\n",
       "      <th>aMF</th>\n",
       "      <th>pLF</th>\n",
       "      <th>pMF</th>\n",
       "      <th>...</th>\n",
       "      <th>cLT</th>\n",
       "      <th>iLT</th>\n",
       "      <th>eLT</th>\n",
       "      <th>aLT</th>\n",
       "      <th>pLT</th>\n",
       "      <th>cMT</th>\n",
       "      <th>iMT</th>\n",
       "      <th>eMT</th>\n",
       "      <th>aMT</th>\n",
       "      <th>pMT</th>\n",
       "    </tr>\n",
       "    <tr>\n",
       "      <th>dir</th>\n",
       "      <th></th>\n",
       "      <th></th>\n",
       "      <th></th>\n",
       "      <th></th>\n",
       "      <th></th>\n",
       "      <th></th>\n",
       "      <th></th>\n",
       "      <th></th>\n",
       "      <th></th>\n",
       "      <th></th>\n",
       "      <th></th>\n",
       "      <th></th>\n",
       "      <th></th>\n",
       "      <th></th>\n",
       "      <th></th>\n",
       "      <th></th>\n",
       "      <th></th>\n",
       "      <th></th>\n",
       "      <th></th>\n",
       "      <th></th>\n",
       "      <th></th>\n",
       "    </tr>\n",
       "  </thead>\n",
       "  <tbody>\n",
       "    <tr>\n",
       "      <th>9003430</th>\n",
       "      <td>1.727473</td>\n",
       "      <td>2.583704</td>\n",
       "      <td>1.780085</td>\n",
       "      <td>2.159492</td>\n",
       "      <td>2.018430</td>\n",
       "      <td>1.572289</td>\n",
       "      <td>2.622144</td>\n",
       "      <td>2.288049</td>\n",
       "      <td>2.640635</td>\n",
       "      <td>2.731340</td>\n",
       "      <td>...</td>\n",
       "      <td>2.972551</td>\n",
       "      <td>3.092084</td>\n",
       "      <td>2.407562</td>\n",
       "      <td>2.157337</td>\n",
       "      <td>2.894261</td>\n",
       "      <td>4.497225</td>\n",
       "      <td>4.275015</td>\n",
       "      <td>2.526909</td>\n",
       "      <td>3.102533</td>\n",
       "      <td>3.050382</td>\n",
       "    </tr>\n",
       "    <tr>\n",
       "      <th>9005075</th>\n",
       "      <td>1.614442</td>\n",
       "      <td>2.348911</td>\n",
       "      <td>1.738658</td>\n",
       "      <td>1.857935</td>\n",
       "      <td>2.637056</td>\n",
       "      <td>2.170869</td>\n",
       "      <td>3.008500</td>\n",
       "      <td>2.841687</td>\n",
       "      <td>2.626156</td>\n",
       "      <td>2.353918</td>\n",
       "      <td>...</td>\n",
       "      <td>2.559864</td>\n",
       "      <td>4.190298</td>\n",
       "      <td>1.644701</td>\n",
       "      <td>2.318081</td>\n",
       "      <td>2.215242</td>\n",
       "      <td>3.804307</td>\n",
       "      <td>4.249429</td>\n",
       "      <td>1.770059</td>\n",
       "      <td>2.298101</td>\n",
       "      <td>2.274709</td>\n",
       "    </tr>\n",
       "    <tr>\n",
       "      <th>9005132</th>\n",
       "      <td>1.552880</td>\n",
       "      <td>2.230086</td>\n",
       "      <td>1.583020</td>\n",
       "      <td>1.807203</td>\n",
       "      <td>2.091559</td>\n",
       "      <td>1.694322</td>\n",
       "      <td>2.506600</td>\n",
       "      <td>2.433427</td>\n",
       "      <td>1.941073</td>\n",
       "      <td>2.232174</td>\n",
       "      <td>...</td>\n",
       "      <td>2.817672</td>\n",
       "      <td>3.996206</td>\n",
       "      <td>1.544210</td>\n",
       "      <td>2.083083</td>\n",
       "      <td>1.988680</td>\n",
       "      <td>2.928680</td>\n",
       "      <td>2.894519</td>\n",
       "      <td>1.869434</td>\n",
       "      <td>2.453709</td>\n",
       "      <td>2.277800</td>\n",
       "    </tr>\n",
       "    <tr>\n",
       "      <th>9006723</th>\n",
       "      <td>1.734058</td>\n",
       "      <td>2.826189</td>\n",
       "      <td>1.956998</td>\n",
       "      <td>1.402333</td>\n",
       "      <td>2.530640</td>\n",
       "      <td>2.031166</td>\n",
       "      <td>3.136161</td>\n",
       "      <td>2.807098</td>\n",
       "      <td>2.611207</td>\n",
       "      <td>2.548575</td>\n",
       "      <td>...</td>\n",
       "      <td>2.011915</td>\n",
       "      <td>3.345898</td>\n",
       "      <td>1.578337</td>\n",
       "      <td>1.685869</td>\n",
       "      <td>2.445908</td>\n",
       "      <td>3.333202</td>\n",
       "      <td>3.450191</td>\n",
       "      <td>1.758650</td>\n",
       "      <td>2.085982</td>\n",
       "      <td>2.914452</td>\n",
       "    </tr>\n",
       "    <tr>\n",
       "      <th>9008561</th>\n",
       "      <td>1.402152</td>\n",
       "      <td>2.612312</td>\n",
       "      <td>1.607943</td>\n",
       "      <td>1.692545</td>\n",
       "      <td>2.031484</td>\n",
       "      <td>1.651580</td>\n",
       "      <td>2.528422</td>\n",
       "      <td>2.348023</td>\n",
       "      <td>1.922628</td>\n",
       "      <td>1.984391</td>\n",
       "      <td>...</td>\n",
       "      <td>2.044748</td>\n",
       "      <td>3.040228</td>\n",
       "      <td>1.460773</td>\n",
       "      <td>1.542347</td>\n",
       "      <td>2.492967</td>\n",
       "      <td>2.379626</td>\n",
       "      <td>2.855028</td>\n",
       "      <td>1.456873</td>\n",
       "      <td>1.683506</td>\n",
       "      <td>2.282275</td>\n",
       "    </tr>\n",
       "    <tr>\n",
       "      <th>...</th>\n",
       "      <td>...</td>\n",
       "      <td>...</td>\n",
       "      <td>...</td>\n",
       "      <td>...</td>\n",
       "      <td>...</td>\n",
       "      <td>...</td>\n",
       "      <td>...</td>\n",
       "      <td>...</td>\n",
       "      <td>...</td>\n",
       "      <td>...</td>\n",
       "      <td>...</td>\n",
       "      <td>...</td>\n",
       "      <td>...</td>\n",
       "      <td>...</td>\n",
       "      <td>...</td>\n",
       "      <td>...</td>\n",
       "      <td>...</td>\n",
       "      <td>...</td>\n",
       "      <td>...</td>\n",
       "      <td>...</td>\n",
       "      <td>...</td>\n",
       "    </tr>\n",
       "    <tr>\n",
       "      <th>9598683</th>\n",
       "      <td>1.598494</td>\n",
       "      <td>2.492819</td>\n",
       "      <td>1.976467</td>\n",
       "      <td>2.091039</td>\n",
       "      <td>2.963193</td>\n",
       "      <td>2.159342</td>\n",
       "      <td>3.421928</td>\n",
       "      <td>3.410748</td>\n",
       "      <td>2.354452</td>\n",
       "      <td>3.483179</td>\n",
       "      <td>...</td>\n",
       "      <td>1.934407</td>\n",
       "      <td>3.143425</td>\n",
       "      <td>1.810356</td>\n",
       "      <td>2.780469</td>\n",
       "      <td>2.939114</td>\n",
       "      <td>3.665542</td>\n",
       "      <td>3.804170</td>\n",
       "      <td>2.516424</td>\n",
       "      <td>2.718451</td>\n",
       "      <td>3.501004</td>\n",
       "    </tr>\n",
       "    <tr>\n",
       "      <th>9695686</th>\n",
       "      <td>1.534789</td>\n",
       "      <td>2.792691</td>\n",
       "      <td>2.249444</td>\n",
       "      <td>1.375810</td>\n",
       "      <td>1.951188</td>\n",
       "      <td>1.598290</td>\n",
       "      <td>2.534655</td>\n",
       "      <td>2.509718</td>\n",
       "      <td>1.899720</td>\n",
       "      <td>2.295808</td>\n",
       "      <td>...</td>\n",
       "      <td>1.655529</td>\n",
       "      <td>3.625198</td>\n",
       "      <td>1.509856</td>\n",
       "      <td>2.025150</td>\n",
       "      <td>2.155677</td>\n",
       "      <td>3.267119</td>\n",
       "      <td>3.315669</td>\n",
       "      <td>1.747947</td>\n",
       "      <td>2.039575</td>\n",
       "      <td>2.241446</td>\n",
       "    </tr>\n",
       "    <tr>\n",
       "      <th>9691663</th>\n",
       "      <td>1.888034</td>\n",
       "      <td>2.713233</td>\n",
       "      <td>1.598871</td>\n",
       "      <td>0.648245</td>\n",
       "      <td>0.746290</td>\n",
       "      <td>1.898045</td>\n",
       "      <td>2.604986</td>\n",
       "      <td>2.384000</td>\n",
       "      <td>2.601199</td>\n",
       "      <td>2.442011</td>\n",
       "      <td>...</td>\n",
       "      <td>2.315893</td>\n",
       "      <td>3.584096</td>\n",
       "      <td>2.245790</td>\n",
       "      <td>2.806048</td>\n",
       "      <td>3.079709</td>\n",
       "      <td>1.329612</td>\n",
       "      <td>1.657807</td>\n",
       "      <td>3.054679</td>\n",
       "      <td>1.846151</td>\n",
       "      <td>1.773351</td>\n",
       "    </tr>\n",
       "    <tr>\n",
       "      <th>9657594</th>\n",
       "      <td>1.387113</td>\n",
       "      <td>1.555123</td>\n",
       "      <td>1.238230</td>\n",
       "      <td>1.763768</td>\n",
       "      <td>2.778664</td>\n",
       "      <td>1.895194</td>\n",
       "      <td>2.717193</td>\n",
       "      <td>2.883948</td>\n",
       "      <td>2.392049</td>\n",
       "      <td>2.663837</td>\n",
       "      <td>...</td>\n",
       "      <td>1.995360</td>\n",
       "      <td>4.348674</td>\n",
       "      <td>1.680354</td>\n",
       "      <td>1.975966</td>\n",
       "      <td>2.618145</td>\n",
       "      <td>3.518459</td>\n",
       "      <td>3.922377</td>\n",
       "      <td>2.076993</td>\n",
       "      <td>2.404622</td>\n",
       "      <td>2.705697</td>\n",
       "    </tr>\n",
       "    <tr>\n",
       "      <th>9566781</th>\n",
       "      <td>1.234443</td>\n",
       "      <td>1.608091</td>\n",
       "      <td>1.376223</td>\n",
       "      <td>1.753240</td>\n",
       "      <td>2.339938</td>\n",
       "      <td>1.520936</td>\n",
       "      <td>1.836413</td>\n",
       "      <td>2.141776</td>\n",
       "      <td>2.485203</td>\n",
       "      <td>2.353821</td>\n",
       "      <td>...</td>\n",
       "      <td>2.889488</td>\n",
       "      <td>3.359186</td>\n",
       "      <td>2.558631</td>\n",
       "      <td>3.364607</td>\n",
       "      <td>2.575019</td>\n",
       "      <td>2.319572</td>\n",
       "      <td>3.121854</td>\n",
       "      <td>1.794463</td>\n",
       "      <td>2.060602</td>\n",
       "      <td>2.733470</td>\n",
       "    </tr>\n",
       "  </tbody>\n",
       "</table>\n",
       "<p>440 rows × 80 columns</p>\n",
       "</div>"
      ],
      "text/plain": [
       "               fn                                                              \\\n",
       "             ecLF      ccLF      icLF      ecMF      ccMF      icMF       aLF   \n",
       "dir                                                                             \n",
       "9003430  1.727473  2.583704  1.780085  2.159492  2.018430  1.572289  2.622144   \n",
       "9005075  1.614442  2.348911  1.738658  1.857935  2.637056  2.170869  3.008500   \n",
       "9005132  1.552880  2.230086  1.583020  1.807203  2.091559  1.694322  2.506600   \n",
       "9006723  1.734058  2.826189  1.956998  1.402333  2.530640  2.031166  3.136161   \n",
       "9008561  1.402152  2.612312  1.607943  1.692545  2.031484  1.651580  2.528422   \n",
       "...           ...       ...       ...       ...       ...       ...       ...   \n",
       "9598683  1.598494  2.492819  1.976467  2.091039  2.963193  2.159342  3.421928   \n",
       "9695686  1.534789  2.792691  2.249444  1.375810  1.951188  1.598290  2.534655   \n",
       "9691663  1.888034  2.713233  1.598871  0.648245  0.746290  1.898045  2.604986   \n",
       "9657594  1.387113  1.555123  1.238230  1.763768  2.778664  1.895194  2.717193   \n",
       "9566781  1.234443  1.608091  1.376223  1.753240  2.339938  1.520936  1.836413   \n",
       "\n",
       "                                       ...        ss                      \\\n",
       "              aMF       pLF       pMF  ...       cLT       iLT       eLT   \n",
       "dir                                    ...                                 \n",
       "9003430  2.288049  2.640635  2.731340  ...  2.972551  3.092084  2.407562   \n",
       "9005075  2.841687  2.626156  2.353918  ...  2.559864  4.190298  1.644701   \n",
       "9005132  2.433427  1.941073  2.232174  ...  2.817672  3.996206  1.544210   \n",
       "9006723  2.807098  2.611207  2.548575  ...  2.011915  3.345898  1.578337   \n",
       "9008561  2.348023  1.922628  1.984391  ...  2.044748  3.040228  1.460773   \n",
       "...           ...       ...       ...  ...       ...       ...       ...   \n",
       "9598683  3.410748  2.354452  3.483179  ...  1.934407  3.143425  1.810356   \n",
       "9695686  2.509718  1.899720  2.295808  ...  1.655529  3.625198  1.509856   \n",
       "9691663  2.384000  2.601199  2.442011  ...  2.315893  3.584096  2.245790   \n",
       "9657594  2.883948  2.392049  2.663837  ...  1.995360  4.348674  1.680354   \n",
       "9566781  2.141776  2.485203  2.353821  ...  2.889488  3.359186  2.558631   \n",
       "\n",
       "                                                                               \n",
       "              aLT       pLT       cMT       iMT       eMT       aMT       pMT  \n",
       "dir                                                                            \n",
       "9003430  2.157337  2.894261  4.497225  4.275015  2.526909  3.102533  3.050382  \n",
       "9005075  2.318081  2.215242  3.804307  4.249429  1.770059  2.298101  2.274709  \n",
       "9005132  2.083083  1.988680  2.928680  2.894519  1.869434  2.453709  2.277800  \n",
       "9006723  1.685869  2.445908  3.333202  3.450191  1.758650  2.085982  2.914452  \n",
       "9008561  1.542347  2.492967  2.379626  2.855028  1.456873  1.683506  2.282275  \n",
       "...           ...       ...       ...       ...       ...       ...       ...  \n",
       "9598683  2.780469  2.939114  3.665542  3.804170  2.516424  2.718451  3.501004  \n",
       "9695686  2.025150  2.155677  3.267119  3.315669  1.747947  2.039575  2.241446  \n",
       "9691663  2.806048  3.079709  1.329612  1.657807  3.054679  1.846151  1.773351  \n",
       "9657594  1.975966  2.618145  3.518459  3.922377  2.076993  2.404622  2.705697  \n",
       "9566781  3.364607  2.575019  2.319572  3.121854  1.794463  2.060602  2.733470  \n",
       "\n",
       "[440 rows x 80 columns]"
      ]
     },
     "execution_count": 59,
     "metadata": {},
     "output_type": "execute_result"
    }
   ],
   "source": [
    "tmp1 = fn[all_cols].join(fv[all_cols], lsuffix=\"_fn\", rsuffix=\"_fv\")\n",
    "tmp2 = m[all_cols].join(s[all_cols], lsuffix=\"_mm\", rsuffix=\"_ss\")\n",
    "tmp = tmp1.join(tmp2)\n",
    "tmp.columns = pd.MultiIndex.from_tuples([(x[-2:], x[:-3]) for x in tmp.columns])\n",
    "tmp.to_csv(f'{result_dir}/test.csv', index=False, index_label=False)\n",
    "tmp"
   ]
  },
  {
   "cell_type": "code",
   "execution_count": 60,
   "id": "8b147ae0",
   "metadata": {
    "scrolled": true
   },
   "outputs": [
    {
     "data": {
      "text/plain": [
       "MultiIndex([('fn', 'ecLF'),\n",
       "            ('fn', 'ccLF'),\n",
       "            ('fn', 'icLF'),\n",
       "            ('fn', 'ecMF'),\n",
       "            ('fn', 'ccMF'),\n",
       "            ('fn', 'icMF'),\n",
       "            ('fn',  'aLF'),\n",
       "            ('fn',  'aMF'),\n",
       "            ('fn',  'pLF'),\n",
       "            ('fn',  'pMF'),\n",
       "            ('fn',  'cLT'),\n",
       "            ('fn',  'iLT'),\n",
       "            ('fn',  'eLT'),\n",
       "            ('fn',  'aLT'),\n",
       "            ('fn',  'pLT'),\n",
       "            ('fn',  'cMT'),\n",
       "            ('fn',  'iMT'),\n",
       "            ('fn',  'eMT'),\n",
       "            ('fn',  'aMT'),\n",
       "            ('fn',  'pMT'),\n",
       "            ('fv', 'ecLF'),\n",
       "            ('fv', 'ccLF'),\n",
       "            ('fv', 'icLF'),\n",
       "            ('fv', 'ecMF'),\n",
       "            ('fv', 'ccMF'),\n",
       "            ('fv', 'icMF'),\n",
       "            ('fv',  'aLF'),\n",
       "            ('fv',  'aMF'),\n",
       "            ('fv',  'pLF'),\n",
       "            ('fv',  'pMF'),\n",
       "            ('fv',  'cLT'),\n",
       "            ('fv',  'iLT'),\n",
       "            ('fv',  'eLT'),\n",
       "            ('fv',  'aLT'),\n",
       "            ('fv',  'pLT'),\n",
       "            ('fv',  'cMT'),\n",
       "            ('fv',  'iMT'),\n",
       "            ('fv',  'eMT'),\n",
       "            ('fv',  'aMT'),\n",
       "            ('fv',  'pMT'),\n",
       "            ('mm', 'ecLF'),\n",
       "            ('mm', 'ccLF'),\n",
       "            ('mm', 'icLF'),\n",
       "            ('mm', 'ecMF'),\n",
       "            ('mm', 'ccMF'),\n",
       "            ('mm', 'icMF'),\n",
       "            ('mm',  'aLF'),\n",
       "            ('mm',  'aMF'),\n",
       "            ('mm',  'pLF'),\n",
       "            ('mm',  'pMF'),\n",
       "            ('mm',  'cLT'),\n",
       "            ('mm',  'iLT'),\n",
       "            ('mm',  'eLT'),\n",
       "            ('mm',  'aLT'),\n",
       "            ('mm',  'pLT'),\n",
       "            ('mm',  'cMT'),\n",
       "            ('mm',  'iMT'),\n",
       "            ('mm',  'eMT'),\n",
       "            ('mm',  'aMT'),\n",
       "            ('mm',  'pMT'),\n",
       "            ('ss', 'ecLF'),\n",
       "            ('ss', 'ccLF'),\n",
       "            ('ss', 'icLF'),\n",
       "            ('ss', 'ecMF'),\n",
       "            ('ss', 'ccMF'),\n",
       "            ('ss', 'icMF'),\n",
       "            ('ss',  'aLF'),\n",
       "            ('ss',  'aMF'),\n",
       "            ('ss',  'pLF'),\n",
       "            ('ss',  'pMF'),\n",
       "            ('ss',  'cLT'),\n",
       "            ('ss',  'iLT'),\n",
       "            ('ss',  'eLT'),\n",
       "            ('ss',  'aLT'),\n",
       "            ('ss',  'pLT'),\n",
       "            ('ss',  'cMT'),\n",
       "            ('ss',  'iMT'),\n",
       "            ('ss',  'eMT'),\n",
       "            ('ss',  'aMT'),\n",
       "            ('ss',  'pMT')],\n",
       "           )"
      ]
     },
     "execution_count": 60,
     "metadata": {},
     "output_type": "execute_result"
    }
   ],
   "source": [
    "tmp.columns"
   ]
  },
  {
   "cell_type": "markdown",
   "id": "723251c6",
   "metadata": {},
   "source": [
    "# Explorative data analysis"
   ]
  },
  {
   "cell_type": "code",
   "execution_count": 39,
   "id": "15722742",
   "metadata": {},
   "outputs": [],
   "source": [
    "from matplotlib import pyplot as plt\n",
    "from matplotlib.ticker import FormatStrFormatter"
   ]
  },
  {
   "cell_type": "markdown",
   "id": "bf805c2d",
   "metadata": {},
   "source": [
    "## Central weight-bearing femur"
   ]
  },
  {
   "cell_type": "code",
   "execution_count": 62,
   "id": "207d5443",
   "metadata": {},
   "outputs": [
    {
     "data": {
      "image/png": "[encoded data removed]",
      "text/plain": [
       "<Figure size 432x288 with 1 Axes>"
      ]
     },
     "metadata": {
      "needs_background": "light"
     },
     "output_type": "display_data"
    }
   ],
   "source": [
    "fig, ax = plt.subplots()\n",
    "ax.boxplot([fn['ccLF'], fv['ccLF'], m['ccLF'], s['ccLF']])\n",
    "ax.set_xticklabels(['fun_norms', 'fun_vals', 'mesh', 'sphere'])\n",
    "ax.vlines(x=1.5, ymin=ax.get_ylim()[0] + (ax.get_ylim()[1] - ax.get_ylim()[0]) * .1, ymax=ax.get_ylim()[0] + (ax.get_ylim()[1] - ax.get_ylim()[0]) * .9, linestyles='dashed', colors=['dimgray'])\n",
    "ax.yaxis.set_major_formatter(FormatStrFormatter('%.1f mm'))\n",
    "ax.set_title('ccLF')\n",
    "plt.show()"
   ]
  },
  {
   "cell_type": "code",
   "execution_count": 63,
   "id": "3cb829b9",
   "metadata": {},
   "outputs": [
    {
     "data": {
      "text/plain": [
       "0.10701938552008738"
      ]
     },
     "execution_count": 63,
     "metadata": {},
     "output_type": "execute_result"
    }
   ],
   "source": [
    "ax.get_ylim()[0]"
   ]
  },
  {
   "cell_type": "code",
   "execution_count": 64,
   "id": "e3064c0b",
   "metadata": {},
   "outputs": [
    {
     "data": {
      "text/plain": [
       "0.9463498464139349"
      ]
     },
     "execution_count": 64,
     "metadata": {},
     "output_type": "execute_result"
    }
   ],
   "source": [
    "ax.get_ylim()[0] + ((ax.get_ylim()[1] - ax.get_ylim()[0])*.2)"
   ]
  },
  {
   "cell_type": "code",
   "execution_count": 65,
   "id": "dcb4444e",
   "metadata": {},
   "outputs": [
    {
     "data": {
      "image/png": "[encoded data removed]",
      "text/plain": [
       "<Figure size 432x288 with 1 Axes>"
      ]
     },
     "metadata": {
      "needs_background": "light"
     },
     "output_type": "display_data"
    }
   ],
   "source": [
    "fig, ax = plt.subplots()\n",
    "ax.boxplot([fn['icLF'], fv['icLF'], m['icLF'], s['icLF']])\n",
    "ax.set_xticklabels(['fun_norms', 'fun_vals', 'mesh', 'sphere'])\n",
    "plt.show()"
   ]
  },
  {
   "cell_type": "code",
   "execution_count": 66,
   "id": "ef3073ff",
   "metadata": {},
   "outputs": [
    {
     "data": {
      "image/png": "[encoded data removed]",
      "text/plain": [
       "<Figure size 432x288 with 1 Axes>"
      ]
     },
     "metadata": {
      "needs_background": "light"
     },
     "output_type": "display_data"
    }
   ],
   "source": [
    "fig, ax = plt.subplots()\n",
    "ax.boxplot([fn['ecLF'], fv['ecLF'], m['ecLF'], s['ecLF']])\n",
    "ax.set_xticklabels(['fun_norms', 'fun_vals', 'mesh', 'sphere'])\n",
    "plt.show()"
   ]
  },
  {
   "cell_type": "code",
   "execution_count": 67,
   "id": "c345b326",
   "metadata": {},
   "outputs": [
    {
     "data": {
      "image/png": "[encoded data removed]",
      "text/plain": [
       "<Figure size 432x288 with 1 Axes>"
      ]
     },
     "metadata": {
      "needs_background": "light"
     },
     "output_type": "display_data"
    }
   ],
   "source": [
    "fig, ax = plt.subplots()\n",
    "ax.boxplot([fn['ccMF'], fv['ccMF'], m['ccMF'], s['ccMF']])\n",
    "ax.set_xticklabels(['fun_norms', 'fun_vals', 'mesh', 'sphere'])\n",
    "plt.show()"
   ]
  },
  {
   "cell_type": "code",
   "execution_count": 68,
   "id": "7125efb7",
   "metadata": {},
   "outputs": [
    {
     "data": {
      "image/png": "[encoded data removed]",
      "text/plain": [
       "<Figure size 432x288 with 1 Axes>"
      ]
     },
     "metadata": {
      "needs_background": "light"
     },
     "output_type": "display_data"
    }
   ],
   "source": [
    "fig, ax = plt.subplots()\n",
    "ax.boxplot([fn['icMF'], fv['icMF'], m['icMF'], s['icMF']])\n",
    "ax.set_xticklabels(['fun_norms', 'fun_vals', 'mesh', 'sphere'])\n",
    "plt.show()"
   ]
  },
  {
   "cell_type": "code",
   "execution_count": 69,
   "id": "fea774b5",
   "metadata": {},
   "outputs": [
    {
     "data": {
      "image/png": "[encoded data removed]",
      "text/plain": [
       "<Figure size 432x288 with 1 Axes>"
      ]
     },
     "metadata": {
      "needs_background": "light"
     },
     "output_type": "display_data"
    }
   ],
   "source": [
    "fig, ax = plt.subplots()\n",
    "ax.boxplot([fn['ecMF'], fv['ecMF'], m['ecMF'], s['ecMF']])\n",
    "ax.set_xticklabels(['fun_norms', 'fun_vals', 'mesh', 'sphere'])\n",
    "plt.show()"
   ]
  },
  {
   "cell_type": "code",
   "execution_count": 70,
   "id": "3270c9e0",
   "metadata": {},
   "outputs": [
    {
     "data": {
      "image/png": "[encoded data removed]",
      "text/plain": [
       "<Figure size 432x288 with 1 Axes>"
      ]
     },
     "metadata": {
      "needs_background": "light"
     },
     "output_type": "display_data"
    }
   ],
   "source": [
    "fig, ax = plt.subplots()\n",
    "ax.boxplot([fn['icLF'], fv['icLF'], m['icLF'], s['icLF']])\n",
    "ax.set_xticklabels(['fun_norms', 'fun_vals', 'mesh', 'sphere'])\n",
    "plt.show()"
   ]
  },
  {
   "cell_type": "markdown",
   "id": "52fb7211",
   "metadata": {},
   "source": [
    "## anterior and posterior femur"
   ]
  },
  {
   "cell_type": "code",
   "execution_count": 71,
   "id": "a7a02fb8",
   "metadata": {},
   "outputs": [
    {
     "data": {
      "image/png": "[encoded data removed]",
      "text/plain": [
       "<Figure size 432x288 with 1 Axes>"
      ]
     },
     "metadata": {
      "needs_background": "light"
     },
     "output_type": "display_data"
    }
   ],
   "source": [
    "fig, ax = plt.subplots()\n",
    "ax.boxplot([fn['aLF'], fv['aLF'], m['aLF'], s['aLF']])\n",
    "ax.set_xticklabels(['fun_norms', 'fun_vals', 'mesh', 'sphere'])\n",
    "plt.show()"
   ]
  },
  {
   "cell_type": "code",
   "execution_count": 72,
   "id": "f0a790ca",
   "metadata": {},
   "outputs": [
    {
     "data": {
      "image/png": "[encoded data removed]",
      "text/plain": [
       "<Figure size 432x288 with 1 Axes>"
      ]
     },
     "metadata": {
      "needs_background": "light"
     },
     "output_type": "display_data"
    }
   ],
   "source": [
    "fig, ax = plt.subplots()\n",
    "ax.boxplot([fn['aMF'], fv['aMF'], m['aMF'], s['aMF']])\n",
    "ax.set_xticklabels(['fun_norms', 'fun_vals', 'mesh', 'sphere'])\n",
    "plt.show()"
   ]
  },
  {
   "cell_type": "code",
   "execution_count": 73,
   "id": "e08aa69c",
   "metadata": {},
   "outputs": [
    {
     "data": {
      "image/png": "[encoded data removed]",
      "text/plain": [
       "<Figure size 432x288 with 1 Axes>"
      ]
     },
     "metadata": {
      "needs_background": "light"
     },
     "output_type": "display_data"
    }
   ],
   "source": [
    "fig, ax = plt.subplots()\n",
    "ax.boxplot([fn['pLF'], fv['pLF'], m['pLF'], s['pLF']])\n",
    "ax.set_xticklabels(['fun_norms', 'fun_vals', 'mesh', 'sphere'])\n",
    "plt.show()"
   ]
  },
  {
   "cell_type": "code",
   "execution_count": 74,
   "id": "c1f92b26",
   "metadata": {},
   "outputs": [
    {
     "data": {
      "image/png": "[encoded data removed]",
      "text/plain": [
       "<Figure size 432x288 with 1 Axes>"
      ]
     },
     "metadata": {
      "needs_background": "light"
     },
     "output_type": "display_data"
    }
   ],
   "source": [
    "fig, ax = plt.subplots()\n",
    "ax.boxplot([fn['pMF'], fv['pMF'], m['pMF'], s['pMF']])\n",
    "ax.set_xticklabels(['fun_norms', 'fun_vals', 'mesh', 'sphere'])\n",
    "plt.show()"
   ]
  },
  {
   "cell_type": "markdown",
   "id": "a34168cb",
   "metadata": {},
   "source": [
    "## lateral tibia"
   ]
  },
  {
   "cell_type": "code",
   "execution_count": 75,
   "id": "3e84180e",
   "metadata": {},
   "outputs": [
    {
     "data": {
      "image/png": "[encoded data removed]",
      "text/plain": [
       "<Figure size 432x288 with 1 Axes>"
      ]
     },
     "metadata": {
      "needs_background": "light"
     },
     "output_type": "display_data"
    }
   ],
   "source": [
    "fig, ax = plt.subplots()\n",
    "ax.boxplot([fn['cLT'], fv['cLT'], m['cLT'], s['cLT']])\n",
    "ax.set_xticklabels(['fun_norms', 'fun_vals', 'mesh', 'sphere'])\n",
    "plt.show()"
   ]
  },
  {
   "cell_type": "code",
   "execution_count": 76,
   "id": "50b31dac",
   "metadata": {},
   "outputs": [
    {
     "data": {
      "image/png": "[encoded data removed]",
      "text/plain": [
       "<Figure size 432x288 with 1 Axes>"
      ]
     },
     "metadata": {
      "needs_background": "light"
     },
     "output_type": "display_data"
    }
   ],
   "source": [
    "fig, ax = plt.subplots()\n",
    "ax.boxplot([fn['iLT'], fv['iLT'], m['iLT'], s['iLT']])\n",
    "ax.set_xticklabels(['fun_norms', 'fun_vals', 'mesh', 'sphere'])\n",
    "plt.show()"
   ]
  },
  {
   "cell_type": "code",
   "execution_count": 77,
   "id": "e2f5f926",
   "metadata": {},
   "outputs": [
    {
     "data": {
      "image/png": "[encoded data removed]",
      "text/plain": [
       "<Figure size 432x288 with 1 Axes>"
      ]
     },
     "metadata": {
      "needs_background": "light"
     },
     "output_type": "display_data"
    }
   ],
   "source": [
    "fig, ax = plt.subplots()\n",
    "ax.boxplot([fn['eLT'], fv['eLT'], m['eLT'], s['eLT']])\n",
    "ax.set_xticklabels(['fun_norms', 'fun_vals', 'mesh', 'sphere'])\n",
    "plt.show()"
   ]
  },
  {
   "cell_type": "code",
   "execution_count": 78,
   "id": "bcf8d1a7",
   "metadata": {},
   "outputs": [
    {
     "data": {
      "image/png": "[encoded data removed]",
      "text/plain": [
       "<Figure size 432x288 with 1 Axes>"
      ]
     },
     "metadata": {
      "needs_background": "light"
     },
     "output_type": "display_data"
    }
   ],
   "source": [
    "fig, ax = plt.subplots()\n",
    "ax.boxplot([fn['aLT'], fv['aLT'], m['aLT'], s['aLT']])\n",
    "ax.set_xticklabels(['fun_norms', 'fun_vals', 'mesh', 'sphere'])\n",
    "plt.show()"
   ]
  },
  {
   "cell_type": "code",
   "execution_count": 79,
   "id": "091abe3d",
   "metadata": {},
   "outputs": [
    {
     "data": {
      "image/png": "[encoded data removed]",
      "text/plain": [
       "<Figure size 432x288 with 1 Axes>"
      ]
     },
     "metadata": {
      "needs_background": "light"
     },
     "output_type": "display_data"
    }
   ],
   "source": [
    "fig, ax = plt.subplots()\n",
    "ax.boxplot([fn['pLT'], fv['pLT'], m['pLT'], s['pLT']])\n",
    "ax.set_xticklabels(['fun_norms', 'fun_vals', 'mesh', 'sphere'])\n",
    "plt.show()"
   ]
  },
  {
   "cell_type": "markdown",
   "id": "6f3d1abb",
   "metadata": {},
   "source": [
    "## medial tibia"
   ]
  },
  {
   "cell_type": "code",
   "execution_count": 80,
   "id": "f9979de3",
   "metadata": {},
   "outputs": [
    {
     "data": {
      "image/png": "[encoded data removed]",
      "text/plain": [
       "<Figure size 432x288 with 1 Axes>"
      ]
     },
     "metadata": {
      "needs_background": "light"
     },
     "output_type": "display_data"
    }
   ],
   "source": [
    "fig, ax = plt.subplots()\n",
    "ax.boxplot([fn['cMT'], fv['cMT'], m['cMT'], s['cMT']])\n",
    "ax.set_xticklabels(['fun_norms', 'fun_vals', 'mesh', 'sphere'])\n",
    "plt.show()"
   ]
  },
  {
   "cell_type": "code",
   "execution_count": 81,
   "id": "043f7720",
   "metadata": {},
   "outputs": [
    {
     "data": {
      "image/png": "[encoded data removed]",
      "text/plain": [
       "<Figure size 432x288 with 1 Axes>"
      ]
     },
     "metadata": {
      "needs_background": "light"
     },
     "output_type": "display_data"
    }
   ],
   "source": [
    "fig, ax = plt.subplots()\n",
    "ax.boxplot([fn['iMT'], fv['iMT'], m['iMT'], s['iMT']])\n",
    "ax.set_xticklabels(['fun_norms', 'fun_vals', 'mesh', 'sphere'])\n",
    "plt.show()"
   ]
  },
  {
   "cell_type": "code",
   "execution_count": 82,
   "id": "861b1c8e",
   "metadata": {},
   "outputs": [
    {
     "data": {
      "image/png": "[encoded data removed]",
      "text/plain": [
       "<Figure size 432x288 with 1 Axes>"
      ]
     },
     "metadata": {
      "needs_background": "light"
     },
     "output_type": "display_data"
    }
   ],
   "source": [
    "fig, ax = plt.subplots()\n",
    "ax.boxplot([fn['eMT'], fv['eMT'], m['eMT'], s['eMT']])\n",
    "ax.set_xticklabels(['fun_norms', 'fun_vals', 'mesh', 'sphere'])\n",
    "plt.show()"
   ]
  },
  {
   "cell_type": "code",
   "execution_count": 83,
   "id": "ad5d38c7",
   "metadata": {},
   "outputs": [
    {
     "data": {
      "image/png": "[encoded data removed]",
      "text/plain": [
       "<Figure size 432x288 with 1 Axes>"
      ]
     },
     "metadata": {
      "needs_background": "light"
     },
     "output_type": "display_data"
    }
   ],
   "source": [
    "fig, ax = plt.subplots()\n",
    "ax.boxplot([fn['aMT'], fv['aMT'], m['aMT'], s['aMT']])\n",
    "ax.set_xticklabels(['fun_norms', 'fun_vals', 'mesh', 'sphere'])\n",
    "plt.show()"
   ]
  },
  {
   "cell_type": "code",
   "execution_count": 84,
   "id": "d73f5e16",
   "metadata": {},
   "outputs": [
    {
     "data": {
      "image/png": "[encoded data removed]",
      "text/plain": [
       "<Figure size 432x288 with 1 Axes>"
      ]
     },
     "metadata": {
      "needs_background": "light"
     },
     "output_type": "display_data"
    }
   ],
   "source": [
    "fig, ax = plt.subplots()\n",
    "ax.boxplot([fn['pMT'], fv['pMT'], m['pMT'], s['pMT']])\n",
    "ax.set_xticklabels(['fun_norms', 'fun_vals', 'mesh', 'sphere'])\n",
    "plt.show()"
   ]
  },
  {
   "cell_type": "markdown",
   "id": "60f49155",
   "metadata": {},
   "source": [
    "## Comparison between rOA grades 0,1 and 2,3,4"
   ]
  },
  {
   "cell_type": "code",
   "execution_count": 85,
   "id": "426b9863",
   "metadata": {
    "scrolled": false
   },
   "outputs": [
    {
     "data": {
      "image/png": "[encoded data removed]",
      "text/plain": [
       "<Figure size 1440x720 with 1 Axes>"
      ]
     },
     "metadata": {
      "needs_background": "light"
     },
     "output_type": "display_data"
    }
   ],
   "source": [
    "fig, ax = plt.subplots(figsize=(20,10))\n",
    "ax.boxplot([fn01['ccLF'], fn234['ccLF'], fv01['ccLF'], fv234['ccLF'], m01['ccLF'], m234['ccLF'], s01['ccLF'], s234['ccLF']])\n",
    "ax.set_xticklabels(['fun_norms01', 'fun_norms234', 'fun_vals01', 'fun_vals234', 'mesh01', 'mesh234', 'sphere01', 'sphere234'])\n",
    "plt.show()"
   ]
  },
  {
   "cell_type": "code",
   "execution_count": 86,
   "id": "a5c71ec9",
   "metadata": {
    "scrolled": false
   },
   "outputs": [
    {
     "data": {
      "image/png": "[encoded data removed]",
      "text/plain": [
       "<Figure size 1440x720 with 1 Axes>"
      ]
     },
     "metadata": {
      "needs_background": "light"
     },
     "output_type": "display_data"
    }
   ],
   "source": [
    "fig, ax = plt.subplots(figsize=(20,10))\n",
    "ax.boxplot([fn01['ecLF'], fn234['ecLF'], fv01['ecLF'], fv234['ecLF'], m01['ecLF'], m234['ecLF'], s01['ecLF'], s234['ecLF']])\n",
    "ax.set_xticklabels(['fun_norms01', 'fun_norms234', 'fun_vals01', 'fun_vals234', 'mesh01', 'mesh234', 'sphere01', 'sphere234'])\n",
    "plt.show()"
   ]
  },
  {
   "cell_type": "code",
   "execution_count": 87,
   "id": "28362e6a",
   "metadata": {
    "scrolled": false
   },
   "outputs": [
    {
     "data": {
      "image/png": "[encoded data removed]",
      "text/plain": [
       "<Figure size 1440x720 with 1 Axes>"
      ]
     },
     "metadata": {
      "needs_background": "light"
     },
     "output_type": "display_data"
    }
   ],
   "source": [
    "fig, ax = plt.subplots(figsize=(20,10))\n",
    "ax.boxplot([fn01['icLF'], fn234['icLF'], fv01['icLF'], fv234['icLF'], m01['icLF'], m234['icLF'], s01['icLF'], s234['icLF']])\n",
    "ax.set_xticklabels(['fun_norms01', 'fun_norms234', 'fun_vals01', 'fun_vals234', 'mesh01', 'mesh234', 'sphere01', 'sphere234'])\n",
    "plt.show()"
   ]
  },
  {
   "cell_type": "code",
   "execution_count": 88,
   "id": "6a7c5347",
   "metadata": {
    "scrolled": false
   },
   "outputs": [
    {
     "data": {
      "image/png": "[encoded data removed]",
      "text/plain": [
       "<Figure size 1440x720 with 1 Axes>"
      ]
     },
     "metadata": {
      "needs_background": "light"
     },
     "output_type": "display_data"
    }
   ],
   "source": [
    "fig, ax = plt.subplots(figsize=(20,10))\n",
    "ax.boxplot([fn01['ccMF'], fn234['ccMF'], fv01['ccMF'], fv234['ccMF'], m01['ccMF'], m234['ccMF'], s01['ccMF'], s234['ccMF']])\n",
    "ax.set_xticklabels(['fun_norms01', 'fun_norms234', 'fun_vals01', 'fun_vals234', 'mesh01', 'mesh234', 'sphere01', 'sphere234'])\n",
    "plt.show()"
   ]
  },
  {
   "cell_type": "code",
   "execution_count": 89,
   "id": "1ff3b54a",
   "metadata": {
    "scrolled": false
   },
   "outputs": [
    {
     "data": {
      "image/png": "[encoded data removed]",
      "text/plain": [
       "<Figure size 1440x720 with 1 Axes>"
      ]
     },
     "metadata": {
      "needs_background": "light"
     },
     "output_type": "display_data"
    }
   ],
   "source": [
    "fig, ax = plt.subplots(figsize=(20,10))\n",
    "ax.boxplot([fn01['ecMF'], fn234['ecMF'], fv01['ecMF'], fv234['ecMF'], m01['ecMF'], m234['ecMF'], s01['ecMF'], s234['ecMF']])\n",
    "ax.set_xticklabels(['fun_norms01', 'fun_norms234', 'fun_vals01', 'fun_vals234', 'mesh01', 'mesh234', 'sphere01', 'sphere234'])\n",
    "plt.show()"
   ]
  },
  {
   "cell_type": "code",
   "execution_count": 90,
   "id": "325eff05",
   "metadata": {
    "scrolled": false
   },
   "outputs": [
    {
     "data": {
      "image/png": "[encoded data removed]",
      "text/plain": [
       "<Figure size 1440x720 with 1 Axes>"
      ]
     },
     "metadata": {
      "needs_background": "light"
     },
     "output_type": "display_data"
    }
   ],
   "source": [
    "fig, ax = plt.subplots(figsize=(20,10))\n",
    "ax.boxplot([fn01['icMF'], fn234['icMF'], fv01['icMF'], fv234['icMF'], m01['icMF'], m234['icMF'], s01['icMF'], s234['icMF']])\n",
    "ax.set_xticklabels(['fun_norms01', 'fun_norms234', 'fun_vals01', 'fun_vals234', 'mesh01', 'mesh234', 'sphere01', 'sphere234'])\n",
    "plt.show()"
   ]
  },
  {
   "cell_type": "code",
   "execution_count": 91,
   "id": "17817e50",
   "metadata": {
    "scrolled": false
   },
   "outputs": [
    {
     "data": {
      "image/png": "[encoded data removed]",
      "text/plain": [
       "<Figure size 1440x720 with 1 Axes>"
      ]
     },
     "metadata": {
      "needs_background": "light"
     },
     "output_type": "display_data"
    }
   ],
   "source": [
    "fig, ax = plt.subplots(figsize=(20,10))\n",
    "ax.boxplot([fn01['cLT'], fn234['cLT'], fv01['cLT'], fv234['cLT'], m01['cLT'], m234['cLT'], s01['cLT'], s234['cLT']])\n",
    "ax.set_xticklabels(['fun_norms01', 'fun_norms234', 'fun_vals01', 'fun_vals234', 'mesh01', 'mesh234', 'sphere01', 'sphere234'])\n",
    "plt.show()"
   ]
  },
  {
   "cell_type": "code",
   "execution_count": 92,
   "id": "049ec2b1",
   "metadata": {
    "scrolled": false
   },
   "outputs": [
    {
     "data": {
      "image/png": "[encoded data removed]",
      "text/plain": [
       "<Figure size 1440x720 with 1 Axes>"
      ]
     },
     "metadata": {
      "needs_background": "light"
     },
     "output_type": "display_data"
    }
   ],
   "source": [
    "fig, ax = plt.subplots(figsize=(20,10))\n",
    "ax.boxplot([fn01['iLT'], fn234['iLT'], fv01['iLT'], fv234['iLT'], m01['iLT'], m234['iLT'], s01['iLT'], s234['iLT']])\n",
    "ax.set_xticklabels(['fun_norms01', 'fun_norms234', 'fun_vals01', 'fun_vals234', 'mesh01', 'mesh234', 'sphere01', 'sphere234'])\n",
    "plt.show()"
   ]
  },
  {
   "cell_type": "code",
   "execution_count": 93,
   "id": "7aa50bbf",
   "metadata": {
    "scrolled": false
   },
   "outputs": [
    {
     "data": {
      "image/png": "[encoded data removed]",
      "text/plain": [
       "<Figure size 1440x720 with 1 Axes>"
      ]
     },
     "metadata": {
      "needs_background": "light"
     },
     "output_type": "display_data"
    }
   ],
   "source": [
    "fig, ax = plt.subplots(figsize=(20,10))\n",
    "ax.boxplot([fn01['eLT'], fn234['eLT'], fv01['eLT'], fv234['eLT'], m01['eLT'], m234['eLT'], s01['eLT'], s234['eLT']])\n",
    "ax.set_xticklabels(['fun_norms01', 'fun_norms234', 'fun_vals01', 'fun_vals234', 'mesh01', 'mesh234', 'sphere01', 'sphere234'])\n",
    "plt.show()"
   ]
  },
  {
   "cell_type": "code",
   "execution_count": 94,
   "id": "095d0683",
   "metadata": {
    "scrolled": false
   },
   "outputs": [
    {
     "data": {
      "image/png": "[encoded data removed]",
      "text/plain": [
       "<Figure size 1440x720 with 1 Axes>"
      ]
     },
     "metadata": {
      "needs_background": "light"
     },
     "output_type": "display_data"
    }
   ],
   "source": [
    "fig, ax = plt.subplots(figsize=(20,10))\n",
    "ax.boxplot([fn01['aLT'], fn234['aLT'], fv01['aLT'], fv234['aLT'], m01['aLT'], m234['aLT'], s01['aLT'], s234['aLT']])\n",
    "ax.set_xticklabels(['fun_norms01', 'fun_norms234', 'fun_vals01', 'fun_vals234', 'mesh01', 'mesh234', 'sphere01', 'sphere234'])\n",
    "plt.show()"
   ]
  },
  {
   "cell_type": "code",
   "execution_count": 95,
   "id": "009b7442",
   "metadata": {
    "scrolled": false
   },
   "outputs": [
    {
     "data": {
      "image/png": "[encoded data removed]",
      "text/plain": [
       "<Figure size 1440x720 with 1 Axes>"
      ]
     },
     "metadata": {
      "needs_background": "light"
     },
     "output_type": "display_data"
    }
   ],
   "source": [
    "fig, ax = plt.subplots(figsize=(20,10))\n",
    "ax.boxplot([fn01['pLT'], fn234['pLT'], fv01['pLT'], fv234['pLT'], m01['pLT'], m234['pLT'], s01['pLT'], s234['pLT']])\n",
    "ax.set_xticklabels(['fun_norms01', 'fun_norms234', 'fun_vals01', 'fun_vals234', 'mesh01', 'mesh234', 'sphere01', 'sphere234'])\n",
    "plt.show()"
   ]
  },
  {
   "cell_type": "code",
   "execution_count": 96,
   "id": "1adbf8c9",
   "metadata": {
    "scrolled": false
   },
   "outputs": [
    {
     "data": {
      "image/png": "[encoded data removed]",
      "text/plain": [
       "<Figure size 1440x720 with 1 Axes>"
      ]
     },
     "metadata": {
      "needs_background": "light"
     },
     "output_type": "display_data"
    }
   ],
   "source": [
    "fig, ax = plt.subplots(figsize=(20,10))\n",
    "ax.boxplot([fn01['cMT'], fn234['cMT'], fv01['cMT'], fv234['cMT'], m01['cMT'], m234['cMT'], s01['cMT'], s234['cMT']])\n",
    "ax.set_xticklabels(['fun_norms01', 'fun_norms234', 'fun_vals01', 'fun_vals234', 'mesh01', 'mesh234', 'sphere01', 'sphere234'])\n",
    "plt.show()"
   ]
  },
  {
   "cell_type": "code",
   "execution_count": 97,
   "id": "e5c72ddf",
   "metadata": {
    "scrolled": false
   },
   "outputs": [
    {
     "data": {
      "image/png": "[encoded data removed]",
      "text/plain": [
       "<Figure size 1440x720 with 1 Axes>"
      ]
     },
     "metadata": {
      "needs_background": "light"
     },
     "output_type": "display_data"
    }
   ],
   "source": [
    "fig, ax = plt.subplots(figsize=(20,10))\n",
    "ax.boxplot([fn01['iMT'], fn234['iMT'], fv01['iMT'], fv234['iMT'], m01['iMT'], m234['iMT'], s01['iMT'], s234['iMT']])\n",
    "ax.set_xticklabels(['fun_norms01', 'fun_norms234', 'fun_vals01', 'fun_vals234', 'mesh01', 'mesh234', 'sphere01', 'sphere234'])\n",
    "plt.show()"
   ]
  },
  {
   "cell_type": "code",
   "execution_count": 98,
   "id": "cb8e8a22",
   "metadata": {
    "scrolled": false
   },
   "outputs": [
    {
     "data": {
      "image/png": "[encoded data removed]",
      "text/plain": [
       "<Figure size 1440x720 with 1 Axes>"
      ]
     },
     "metadata": {
      "needs_background": "light"
     },
     "output_type": "display_data"
    }
   ],
   "source": [
    "fig, ax = plt.subplots(figsize=(20,10))\n",
    "ax.boxplot([fn01['eMT'], fn234['eMT'], fv01['eMT'], fv234['eMT'], m01['eMT'], m234['eMT'], s01['eMT'], s234['eMT']])\n",
    "ax.set_xticklabels(['fun_norms01', 'fun_norms234', 'fun_vals01', 'fun_vals234', 'mesh01', 'mesh234', 'sphere01', 'sphere234'])\n",
    "plt.show()"
   ]
  },
  {
   "cell_type": "code",
   "execution_count": 99,
   "id": "c6a1c12c",
   "metadata": {
    "scrolled": false
   },
   "outputs": [
    {
     "data": {
      "image/png": "[encoded data removed]",
      "text/plain": [
       "<Figure size 1440x720 with 1 Axes>"
      ]
     },
     "metadata": {
      "needs_background": "light"
     },
     "output_type": "display_data"
    }
   ],
   "source": [
    "fig, ax = plt.subplots(figsize=(20,10))\n",
    "ax.boxplot([fn01['aMT'], fn234['aMT'], fv01['aMT'], fv234['aMT'], m01['aMT'], m234['aMT'], s01['aMT'], s234['aMT']])\n",
    "ax.set_xticklabels(['fun_norms01', 'fun_norms234', 'fun_vals01', 'fun_vals234', 'mesh01', 'mesh234', 'sphere01', 'sphere234'])\n",
    "plt.show()"
   ]
  },
  {
   "cell_type": "code",
   "execution_count": 100,
   "id": "95cec2da",
   "metadata": {
    "scrolled": false
   },
   "outputs": [
    {
     "data": {
      "image/png": "[encoded data removed]",
      "text/plain": [
       "<Figure size 1440x720 with 1 Axes>"
      ]
     },
     "metadata": {
      "needs_background": "light"
     },
     "output_type": "display_data"
    }
   ],
   "source": [
    "fig, ax = plt.subplots(figsize=(20,10))\n",
    "ax.boxplot([fn01['pMT'], fn234['pMT'], fv01['pMT'], fv234['pMT'], m01['pMT'], m234['pMT'], s01['pMT'], s234['pMT']])\n",
    "ax.set_xticklabels(['fun_norms01', 'fun_norms234', 'fun_vals01', 'fun_vals234', 'mesh01', 'mesh234', 'sphere01', 'sphere234'])\n",
    "plt.show()"
   ]
  },
  {
   "cell_type": "code",
   "execution_count": 40,
   "id": "129fbc34",
   "metadata": {},
   "outputs": [],
   "source": [
    "fn0_lf_mean = fn0[lf_cols].apply(np.mean, axis=1)\n",
    "fn4_lf_mean = fn4[lf_cols].apply(np.mean, axis=1)\n",
    "\n",
    "fn0_mf_mean = fn0[mf_cols].apply(np.mean, axis=1)\n",
    "fn4_mf_mean = fn4[mf_cols].apply(np.mean, axis=1)\n",
    "\n",
    "fn0_lt_mean = fn0[lt_cols].apply(np.mean, axis=1)\n",
    "fn4_lt_mean = fn4[lt_cols].apply(np.mean, axis=1)\n",
    "\n",
    "fn0_mt_mean = fn0[mt_cols].apply(np.mean, axis=1)\n",
    "fn4_mt_mean = fn4[mt_cols].apply(np.mean, axis=1)\n",
    "\n",
    "fn0_clf_mean = fn0[['ccLF', 'icLF', 'ecLF']].apply(np.mean, axis=1)\n",
    "fn4_clf_mean = fn4[['ccLF', 'icLF', 'ecLF']].apply(np.mean, axis=1)\n",
    "\n",
    "fn0_cmf_mean = fn0[['ccMF', 'icMF', 'ecMF']].apply(np.mean, axis=1)\n",
    "fn4_cmf_mean = fn4[['ccMF', 'icMF', 'ecMF']].apply(np.mean, axis=1)\n",
    "\n",
    "fv0_lf_mean = fv0[lf_cols].apply(np.mean, axis=1)\n",
    "fv4_lf_mean = fv4[lf_cols].apply(np.mean, axis=1)\n",
    "\n",
    "fv0_mf_mean = fv0[mf_cols].apply(np.mean, axis=1)\n",
    "fv4_mf_mean = fv4[mf_cols].apply(np.mean, axis=1)\n",
    "\n",
    "fv0_lt_mean = fv0[lt_cols].apply(np.mean, axis=1)\n",
    "fv4_lt_mean = fv4[lt_cols].apply(np.mean, axis=1)\n",
    "\n",
    "fv0_mt_mean = fv0[mt_cols].apply(np.mean, axis=1)\n",
    "fv4_mt_mean = fv4[mt_cols].apply(np.mean, axis=1)\n",
    "\n",
    "fv0_clf_mean = fv0[['ccLF', 'icLF', 'ecLF']].apply(np.mean, axis=1)\n",
    "fv4_clf_mean = fv4[['ccLF', 'icLF', 'ecLF']].apply(np.mean, axis=1)\n",
    "\n",
    "fv0_cmf_mean = fv0[['ccMF', 'icMF', 'ecMF']].apply(np.mean, axis=1)\n",
    "fv4_cmf_mean = fv4[['ccMF', 'icMF', 'ecMF']].apply(np.mean, axis=1)\n",
    "\n",
    "m0_lf_mean = m0[lf_cols].apply(np.mean, axis=1)\n",
    "m4_lf_mean = m4[lf_cols].apply(np.mean, axis=1)\n",
    "\n",
    "m0_mf_mean = m0[mf_cols].apply(np.mean, axis=1)\n",
    "m4_mf_mean = m4[mf_cols].apply(np.mean, axis=1)\n",
    "\n",
    "m0_lt_mean = m0[lt_cols].apply(np.mean, axis=1)\n",
    "m4_lt_mean = m4[lt_cols].apply(np.mean, axis=1)\n",
    "\n",
    "m0_mt_mean = m0[mt_cols].apply(np.mean, axis=1)\n",
    "m4_mt_mean = m4[mt_cols].apply(np.mean, axis=1)\n",
    "\n",
    "m0_clf_mean = m0[['ccLF', 'icLF', 'ecLF']].apply(np.mean, axis=1)\n",
    "m4_clf_mean = m4[['ccLF', 'icLF', 'ecLF']].apply(np.mean, axis=1)\n",
    "\n",
    "m0_cmf_mean = m0[['ccMF', 'icMF', 'ecMF']].apply(np.mean, axis=1)\n",
    "m4_cmf_mean = m4[['ccMF', 'icMF', 'ecMF']].apply(np.mean, axis=1)\n",
    "\n",
    "s0_lf_mean = s0[lf_cols].apply(np.mean, axis=1)\n",
    "s4_lf_mean = s4[lf_cols].apply(np.mean, axis=1)\n",
    "\n",
    "s0_mf_mean = s0[mf_cols].apply(np.mean, axis=1)\n",
    "s4_mf_mean = s4[mf_cols].apply(np.mean, axis=1)\n",
    "\n",
    "s0_lt_mean = s0[lt_cols].apply(np.mean, axis=1)\n",
    "s4_lt_mean = s4[lt_cols].apply(np.mean, axis=1)\n",
    "\n",
    "s0_mt_mean = s0[mt_cols].apply(np.mean, axis=1)\n",
    "s4_mt_mean = s4[mt_cols].apply(np.mean, axis=1)\n",
    "\n",
    "s0_clf_mean = s0[['ccLF', 'icLF', 'ecLF']].apply(np.mean, axis=1)\n",
    "s4_clf_mean = s4[['ccLF', 'icLF', 'ecLF']].apply(np.mean, axis=1)\n",
    "\n",
    "s0_cmf_mean = s0[['ccMF', 'icMF', 'ecMF']].apply(np.mean, axis=1)\n",
    "s4_cmf_mean = s4[['ccMF', 'icMF', 'ecMF']].apply(np.mean, axis=1)"
   ]
  },
  {
   "cell_type": "code",
   "execution_count": 42,
   "id": "ac185764",
   "metadata": {},
   "outputs": [],
   "source": [
    "xticklabels = ['3D-MN 0', '3D-MN 4', '3D-RT 0', '3D-RT 4', '2D-FN 0', '2D-FN 4', '2D-FS 0', '2D-FS 4']\n",
    "region_figsize = (10, 10)\n",
    "roa_figsize = (20, 10)"
   ]
  },
  {
   "cell_type": "code",
   "execution_count": 43,
   "id": "138017c6",
   "metadata": {},
   "outputs": [
    {
     "data": {
      "image/png": "[encoded data removed]",
      "text/plain": [
       "<Figure size 1440x720 with 1 Axes>"
      ]
     },
     "metadata": {
      "needs_background": "light"
     },
     "output_type": "display_data"
    }
   ],
   "source": [
    "fig, ax = plt.subplots(figsize=roa_figsize)\n",
    "# ax.boxplot([m01_lf_mean, fn01_lf_mean, fv01_lf_mean, s01_lf_mean, m234_lf_mean, fn234_lf_mean, fv234_lf_mean, s234_lf_mean])\n",
    "ax.boxplot([m0_lf_mean, m4_lf_mean, s0_lf_mean, s4_lf_mean, fn0_lf_mean, fn4_lf_mean, fv0_lf_mean, fv4_lf_mean])\n",
    "ax.set_xticklabels(xticklabels)\n",
    "ax.vlines(x=2.5, ymin=ax.get_ylim()[0] + (ax.get_ylim()[1] - ax.get_ylim()[0]) * .1, ymax=ax.get_ylim()[0] + (ax.get_ylim()[1] - ax.get_ylim()[0]) * .9, linestyles='dashed', colors=['dimgray'])\n",
    "ax.yaxis.set_major_formatter(FormatStrFormatter('%.1f mm'))\n",
    "ax.set_title('Lateral Femur rOA grades 0 vs rOA grades 4')\n",
    "ax.set_xlabel('Method/rOA grade')\n",
    "ax.set_ylabel('Mean thickness [mm]')\n",
    "plt.show()"
   ]
  },
  {
   "cell_type": "markdown",
   "id": "d475ccf4",
   "metadata": {},
   "source": [
    "<hr>"
   ]
  },
  {
   "cell_type": "markdown",
   "id": "f68a0b79",
   "metadata": {},
   "source": [
    "# T-test for rOA 0,1 vs 2,3,4"
   ]
  },
  {
   "cell_type": "code",
   "execution_count": 101,
   "id": "def66502",
   "metadata": {},
   "outputs": [],
   "source": [
    "roa_01_overall_mean = (fn01[all_cols] + fv01[all_cols] + m01[all_cols] + s01[all_cols]) / 4\n",
    "roa_234_overall_mean = (fn234[all_cols] + fv234[all_cols] + m234[all_cols] + s234[all_cols]) / 4"
   ]
  },
  {
   "cell_type": "code",
   "execution_count": 102,
   "id": "e2656a4c",
   "metadata": {},
   "outputs": [
    {
     "data": {
      "text/plain": [
       "Ttest_indResult(statistic=-0.19493555852468653, pvalue=0.845533579517183)"
      ]
     },
     "execution_count": 102,
     "metadata": {},
     "output_type": "execute_result"
    }
   ],
   "source": [
    "roa_01_fold = roa_01_overall_mean.apply(np.mean, axis=1)\n",
    "roa_234_fold = roa_234_overall_mean.apply(np.mean, axis=1)\n",
    "stats.ttest_ind_from_stats(roa_01_fold.mean(), roa_01_fold.std(), roa_01_fold.shape[0], roa_234_fold.mean(), roa_234_fold.std(), roa_234_fold.shape[0])"
   ]
  },
  {
   "cell_type": "code",
   "execution_count": 103,
   "id": "e2415f28",
   "metadata": {},
   "outputs": [
    {
     "data": {
      "text/plain": [
       "-1.6483320081356834"
      ]
     },
     "execution_count": 103,
     "metadata": {},
     "output_type": "execute_result"
    }
   ],
   "source": [
    "stats.t.ppf(.05, roa_01_fold.shape[0] + roa_234_fold.shape[0] - 2)"
   ]
  },
  {
   "cell_type": "code",
   "execution_count": 104,
   "id": "70b1e57c",
   "metadata": {},
   "outputs": [
    {
     "name": "stdout",
     "output_type": "stream",
     "text": [
      "2.075900875141224 2.0812932178121604\n"
     ]
    }
   ],
   "source": [
    "print(roa_01_fold.mean(), roa_234_fold.mean())"
   ]
  },
  {
   "cell_type": "code",
   "execution_count": 105,
   "id": "f6b1acbe",
   "metadata": {},
   "outputs": [],
   "source": [
    "df = roa_01_overall_mean.shape[0] + roa_234_overall_mean.shape[0] - 2\n",
    "sigdif = stats.ttest_ind(roa_01_overall_mean.to_numpy(), roa_234_overall_mean.to_numpy())[0] >= stats.t.ppf(.05, df)"
   ]
  },
  {
   "cell_type": "code",
   "execution_count": 106,
   "id": "3c81d8ba",
   "metadata": {},
   "outputs": [
    {
     "data": {
      "text/plain": [
       "Index(['ecLF', 'ccLF', 'icLF', 'ecMF', 'ccMF', 'icMF', 'cLT', 'eLT', 'cMT',\n",
       "       'iMT', 'eMT', 'pMT'],\n",
       "      dtype='object')"
      ]
     },
     "execution_count": 106,
     "metadata": {},
     "output_type": "execute_result"
    }
   ],
   "source": [
    "roa_01_overall_mean.columns[sigdif]"
   ]
  },
  {
   "cell_type": "markdown",
   "id": "08c15dc7",
   "metadata": {},
   "source": [
    "# ANOVA for mean over all regions"
   ]
  },
  {
   "cell_type": "markdown",
   "id": "2b5ac619",
   "metadata": {},
   "source": [
    "$$H_0: \\mu_{fn} = \\mu_{fv} = \\mu_{m} = \\mu_{s}$$ "
   ]
  },
  {
   "cell_type": "code",
   "execution_count": 107,
   "id": "33bb3f6c",
   "metadata": {},
   "outputs": [
    {
     "name": "stdout",
     "output_type": "stream",
     "text": [
      "834.8354293087502 0.0\n"
     ]
    }
   ],
   "source": [
    "f, p = stats.f_oneway(fn_all_regions_mean.to_numpy(), fv_all_regions_mean.to_numpy(), m_all_regions_mean.to_numpy(), s_all_regions_mean.to_numpy())\n",
    "print(f, p)"
   ]
  },
  {
   "cell_type": "code",
   "execution_count": 108,
   "id": "595588e6",
   "metadata": {},
   "outputs": [
    {
     "name": "stdout",
     "output_type": "stream",
     "text": [
      "2.6099698641072653 1756 3\n"
     ]
    }
   ],
   "source": [
    "df_within = 4 * (len(fn_all_regions_mean.to_numpy()) - 1)\n",
    "df_between = 4 - 1\n",
    "\n",
    "f_crit = stats.f.ppf(q=.95, dfn=df_between, dfd=df_within)\n",
    "print(f_crit, df_within, df_between)"
   ]
  },
  {
   "cell_type": "markdown",
   "id": "9592dc9c",
   "metadata": {},
   "source": [
    "$F(2,1290) = 665.77 > F_{crit} = 2.61$ $\\rightarrow$ Reject $H_0$"
   ]
  },
  {
   "cell_type": "markdown",
   "id": "5f5d1cc2",
   "metadata": {},
   "source": [
    "### effect size with $\\omega^2$"
   ]
  },
  {
   "cell_type": "markdown",
   "id": "9e31605f",
   "metadata": {},
   "source": [
    "$$\\omega^2 = \\frac{SS_{between} - (p - 1) \\cdot \\hat{\\sigma}^2_{within}}{SS_{total} + \\hat{\\sigma}^2_{within}}$$\n",
    "where\n",
    "$$SS_{between} = n \\cdot \\sum_{1}^{p}(\\bar{X}_i - \\bar{X})^2$$\n",
    "$$SS_{within} = \\sum_{1}^{p}\\sum_{j}^{k}(x_{ij} - \\bar{X}_i)^2$$\n",
    "$$SS_{total} = SS_{between} + SS_{within}$$\n",
    "$$\\hat{\\sigma}^2_{within} = \\frac{SS_{within}}{n - 1}$$\n",
    "$$n \\:\\text{is the sample size per group}$$\n",
    "$$p \\:\\text{is the number of groups}$$"
   ]
  },
  {
   "cell_type": "code",
   "execution_count": 109,
   "id": "fddde75d",
   "metadata": {},
   "outputs": [],
   "source": [
    "def omega_squared(*samples: pd.core.series.Series) -> float:\n",
    "    tmp = [len(sample) for sample in samples]\n",
    "    assert len(set(tmp)) == 1\n",
    "    \n",
    "    groups = [sample.to_numpy() for sample in samples]\n",
    "    n = len(groups[0])\n",
    "    p = len(groups)\n",
    "    all_mean = np.mean(np.concatenate(groups))\n",
    "    group_means = [np.mean(group) for group in groups]\n",
    "    ss_between = n * sum([(x_i - all_mean)**2 for x_i in group_means])\n",
    "    ss_within = 0\n",
    "    for i in range(p):\n",
    "        ss_within += sum([(x_ij - group_means[i])**2 for x_ij in groups[i]])\n",
    "    \n",
    "    var_within = ss_within / (n - 1)\n",
    "    return (ss_between - (p - 1) * var_within) / (ss_between + ss_within + var_within)"
   ]
  },
  {
   "cell_type": "code",
   "execution_count": 110,
   "id": "ca6f361b",
   "metadata": {},
   "outputs": [
    {
     "data": {
      "text/plain": [
       "0.5844771046493895"
      ]
     },
     "execution_count": 110,
     "metadata": {},
     "output_type": "execute_result"
    }
   ],
   "source": [
    "omega_squared(fn_all_regions_mean, fv_all_regions_mean, m_all_regions_mean, s_all_regions_mean)"
   ]
  },
  {
   "cell_type": "code",
   "execution_count": 111,
   "id": "26b4a707",
   "metadata": {},
   "outputs": [
    {
     "name": "stdout",
     "output_type": "stream",
     "text": [
      "0.5878424108946189\n",
      "0.5844771046493895\n"
     ]
    }
   ],
   "source": [
    "n = len(fn_all_regions_mean.to_numpy())\n",
    "p = 4\n",
    "all_mean = np.mean(np.concatenate((fn_all_regions_mean.to_numpy(), fv_all_regions_mean.to_numpy(), m_all_regions_mean.to_numpy(), s_all_regions_mean.to_numpy())))\n",
    "group_means = [np.mean(fn_all_regions_mean.to_numpy()), np.mean(fv_all_regions_mean.to_numpy()),\n",
    "               np.mean(m_all_regions_mean.to_numpy()), np.mean(s_all_regions_mean.to_numpy())]\n",
    "ss_between = n * sum([(x_i - all_mean)**2 for x_i in group_means])\n",
    "ss_within = sum([(x_ij - group_means[0])**2 for x_ij in fn_all_regions_mean.to_numpy()]) + \\\n",
    "            sum([(x_ij - group_means[1])**2 for x_ij in fv_all_regions_mean.to_numpy()]) + \\\n",
    "            sum([(x_ij - group_means[2])**2 for x_ij in m_all_regions_mean.to_numpy()]) + \\\n",
    "            sum([(x_ij - group_means[3])**2 for x_ij in s_all_regions_mean.to_numpy()])\n",
    "eta_square = ss_between / (ss_between + ss_within)\n",
    "print(eta_square)\n",
    "var_within = ss_within / (n - 1)\n",
    "omega_square = (ss_between - (p - 1) * var_within) / (ss_between + ss_within + var_within)\n",
    "print(omega_square)"
   ]
  },
  {
   "cell_type": "markdown",
   "id": "533281f4",
   "metadata": {},
   "source": [
    "### post-hoc Tukey's HSD"
   ]
  },
  {
   "cell_type": "code",
   "execution_count": 112,
   "id": "b50434cb",
   "metadata": {},
   "outputs": [],
   "source": [
    "def tukeys_hsd(labels: list, *samples: pd.core.series.Series) -> pd.core.frame.DataFrame:\n",
    "    tmp = [len(sample) for sample in samples]\n",
    "    assert len(set(tmp)) == 1\n",
    "    \n",
    "    x = [sample.to_numpy() for sample in samples]\n",
    "    l = len(x[0])\n",
    "    g = [[label] * l for label in labels]\n",
    "    return sp.posthoc_tukey_hsd(x=np.concatenate(x), g=np.concatenate(g), alpha=.05)"
   ]
  },
  {
   "cell_type": "code",
   "execution_count": 113,
   "id": "d307e3fc",
   "metadata": {
    "scrolled": true
   },
   "outputs": [
    {
     "data": {
      "text/html": [
       "<div>\n",
       "<style scoped>\n",
       "    .dataframe tbody tr th:only-of-type {\n",
       "        vertical-align: middle;\n",
       "    }\n",
       "\n",
       "    .dataframe tbody tr th {\n",
       "        vertical-align: top;\n",
       "    }\n",
       "\n",
       "    .dataframe thead th {\n",
       "        text-align: right;\n",
       "    }\n",
       "</style>\n",
       "<table border=\"1\" class=\"dataframe\">\n",
       "  <thead>\n",
       "    <tr style=\"text-align: right;\">\n",
       "      <th></th>\n",
       "      <th>fn</th>\n",
       "      <th>fv</th>\n",
       "      <th>m</th>\n",
       "      <th>s</th>\n",
       "    </tr>\n",
       "  </thead>\n",
       "  <tbody>\n",
       "    <tr>\n",
       "      <th>fn</th>\n",
       "      <td>1</td>\n",
       "      <td>1</td>\n",
       "      <td>1</td>\n",
       "      <td>1</td>\n",
       "    </tr>\n",
       "    <tr>\n",
       "      <th>fv</th>\n",
       "      <td>1</td>\n",
       "      <td>1</td>\n",
       "      <td>1</td>\n",
       "      <td>1</td>\n",
       "    </tr>\n",
       "    <tr>\n",
       "      <th>m</th>\n",
       "      <td>1</td>\n",
       "      <td>1</td>\n",
       "      <td>1</td>\n",
       "      <td>1</td>\n",
       "    </tr>\n",
       "    <tr>\n",
       "      <th>s</th>\n",
       "      <td>1</td>\n",
       "      <td>1</td>\n",
       "      <td>1</td>\n",
       "      <td>1</td>\n",
       "    </tr>\n",
       "  </tbody>\n",
       "</table>\n",
       "</div>"
      ],
      "text/plain": [
       "    fn  fv  m  s\n",
       "fn   1   1  1  1\n",
       "fv   1   1  1  1\n",
       "m    1   1  1  1\n",
       "s    1   1  1  1"
      ]
     },
     "execution_count": 113,
     "metadata": {},
     "output_type": "execute_result"
    }
   ],
   "source": [
    "labels = ['fn', 'fv', 'm', 's']\n",
    "tukeys_hsd(labels, fn_all_regions_mean, fv_all_regions_mean, m_all_regions_mean, s_all_regions_mean)"
   ]
  },
  {
   "cell_type": "code",
   "execution_count": 114,
   "id": "2a88cb2f",
   "metadata": {},
   "outputs": [
    {
     "data": {
      "text/html": [
       "<div>\n",
       "<style scoped>\n",
       "    .dataframe tbody tr th:only-of-type {\n",
       "        vertical-align: middle;\n",
       "    }\n",
       "\n",
       "    .dataframe tbody tr th {\n",
       "        vertical-align: top;\n",
       "    }\n",
       "\n",
       "    .dataframe thead th {\n",
       "        text-align: right;\n",
       "    }\n",
       "</style>\n",
       "<table border=\"1\" class=\"dataframe\">\n",
       "  <thead>\n",
       "    <tr style=\"text-align: right;\">\n",
       "      <th></th>\n",
       "      <th>fn</th>\n",
       "      <th>fv</th>\n",
       "      <th>m</th>\n",
       "      <th>s</th>\n",
       "    </tr>\n",
       "  </thead>\n",
       "  <tbody>\n",
       "    <tr>\n",
       "      <th>fn</th>\n",
       "      <td>1</td>\n",
       "      <td>1</td>\n",
       "      <td>1</td>\n",
       "      <td>1</td>\n",
       "    </tr>\n",
       "    <tr>\n",
       "      <th>fv</th>\n",
       "      <td>1</td>\n",
       "      <td>1</td>\n",
       "      <td>1</td>\n",
       "      <td>1</td>\n",
       "    </tr>\n",
       "    <tr>\n",
       "      <th>m</th>\n",
       "      <td>1</td>\n",
       "      <td>1</td>\n",
       "      <td>1</td>\n",
       "      <td>1</td>\n",
       "    </tr>\n",
       "    <tr>\n",
       "      <th>s</th>\n",
       "      <td>1</td>\n",
       "      <td>1</td>\n",
       "      <td>1</td>\n",
       "      <td>1</td>\n",
       "    </tr>\n",
       "  </tbody>\n",
       "</table>\n",
       "</div>"
      ],
      "text/plain": [
       "    fn  fv  m  s\n",
       "fn   1   1  1  1\n",
       "fv   1   1  1  1\n",
       "m    1   1  1  1\n",
       "s    1   1  1  1"
      ]
     },
     "execution_count": 114,
     "metadata": {},
     "output_type": "execute_result"
    }
   ],
   "source": [
    "x = [fn_all_regions_mean.to_numpy(), fv_all_regions_mean.to_numpy(), m_all_regions_mean.to_numpy(), s_all_regions_mean.to_numpy()]\n",
    "l = len(fn_all_regions_mean.to_numpy())\n",
    "g = [['fn'] * l, ['fv'] * l, ['m'] * l, ['s'] * l]\n",
    "sp.posthoc_tukey_hsd(x=np.concatenate(x), g=np.concatenate(g), alpha=.05)"
   ]
  },
  {
   "cell_type": "markdown",
   "id": "09a93f2f",
   "metadata": {},
   "source": [
    "# ANOVA for mean over lateral/medial femur/tibia"
   ]
  },
  {
   "cell_type": "markdown",
   "id": "9e3c8084",
   "metadata": {},
   "source": [
    "### lateral femur"
   ]
  },
  {
   "cell_type": "code",
   "execution_count": 115,
   "id": "dfd62ef4",
   "metadata": {},
   "outputs": [
    {
     "name": "stdout",
     "output_type": "stream",
     "text": [
      "474.40028471620354 1.017449719279792e-225\n"
     ]
    }
   ],
   "source": [
    "f, p = stats.f_oneway(fn_lf_mean.to_numpy(), fv_lf_mean.to_numpy(), m_lf_mean.to_numpy(), s_lf_mean.to_numpy())\n",
    "print(f, p)"
   ]
  },
  {
   "cell_type": "markdown",
   "id": "95b63048",
   "metadata": {},
   "source": [
    "$F(2,1290) = 190.72 > F_{crit} = 2.61$ $\\rightarrow$ Reject $H_0$"
   ]
  },
  {
   "cell_type": "code",
   "execution_count": 116,
   "id": "9fa931ca",
   "metadata": {},
   "outputs": [
    {
     "data": {
      "text/plain": [
       "0.4433276185853671"
      ]
     },
     "execution_count": 116,
     "metadata": {},
     "output_type": "execute_result"
    }
   ],
   "source": [
    "omega_squared(fn_lf_mean, fv_lf_mean, m_lf_mean, s_lf_mean)"
   ]
  },
  {
   "cell_type": "code",
   "execution_count": 117,
   "id": "a178f595",
   "metadata": {
    "scrolled": true
   },
   "outputs": [
    {
     "data": {
      "text/html": [
       "<div>\n",
       "<style scoped>\n",
       "    .dataframe tbody tr th:only-of-type {\n",
       "        vertical-align: middle;\n",
       "    }\n",
       "\n",
       "    .dataframe tbody tr th {\n",
       "        vertical-align: top;\n",
       "    }\n",
       "\n",
       "    .dataframe thead th {\n",
       "        text-align: right;\n",
       "    }\n",
       "</style>\n",
       "<table border=\"1\" class=\"dataframe\">\n",
       "  <thead>\n",
       "    <tr style=\"text-align: right;\">\n",
       "      <th></th>\n",
       "      <th>fn</th>\n",
       "      <th>fv</th>\n",
       "      <th>m</th>\n",
       "      <th>s</th>\n",
       "    </tr>\n",
       "  </thead>\n",
       "  <tbody>\n",
       "    <tr>\n",
       "      <th>fn</th>\n",
       "      <td>1</td>\n",
       "      <td>1</td>\n",
       "      <td>1</td>\n",
       "      <td>1</td>\n",
       "    </tr>\n",
       "    <tr>\n",
       "      <th>fv</th>\n",
       "      <td>1</td>\n",
       "      <td>1</td>\n",
       "      <td>1</td>\n",
       "      <td>0</td>\n",
       "    </tr>\n",
       "    <tr>\n",
       "      <th>m</th>\n",
       "      <td>1</td>\n",
       "      <td>1</td>\n",
       "      <td>1</td>\n",
       "      <td>1</td>\n",
       "    </tr>\n",
       "    <tr>\n",
       "      <th>s</th>\n",
       "      <td>1</td>\n",
       "      <td>0</td>\n",
       "      <td>1</td>\n",
       "      <td>1</td>\n",
       "    </tr>\n",
       "  </tbody>\n",
       "</table>\n",
       "</div>"
      ],
      "text/plain": [
       "    fn  fv  m  s\n",
       "fn   1   1  1  1\n",
       "fv   1   1  1  0\n",
       "m    1   1  1  1\n",
       "s    1   0  1  1"
      ]
     },
     "execution_count": 117,
     "metadata": {},
     "output_type": "execute_result"
    }
   ],
   "source": [
    "labels = ['fn', 'fv', 'm', 's']\n",
    "tukeys_hsd(labels, fn_lf_mean, fv_lf_mean, m_lf_mean, s_lf_mean)"
   ]
  },
  {
   "cell_type": "markdown",
   "id": "72168890",
   "metadata": {},
   "source": [
    "### medial femur"
   ]
  },
  {
   "cell_type": "code",
   "execution_count": 118,
   "id": "8eb953f6",
   "metadata": {},
   "outputs": [
    {
     "name": "stdout",
     "output_type": "stream",
     "text": [
      "607.5616852702086 7.969398880552575e-271\n"
     ]
    }
   ],
   "source": [
    "f, p = stats.f_oneway(fn_mf_mean.to_numpy(), fv_mf_mean.to_numpy(), m_mf_mean.to_numpy(), s_mf_mean.to_numpy())\n",
    "print(f, p)"
   ]
  },
  {
   "cell_type": "markdown",
   "id": "49750914",
   "metadata": {},
   "source": [
    "$F(2,1290) = 533.09 > F_{crit} = 2.61$ $\\rightarrow$ Reject $H_0$"
   ]
  },
  {
   "cell_type": "code",
   "execution_count": 119,
   "id": "b8800646",
   "metadata": {},
   "outputs": [
    {
     "data": {
      "text/plain": [
       "0.5053988915028803"
      ]
     },
     "execution_count": 119,
     "metadata": {},
     "output_type": "execute_result"
    }
   ],
   "source": [
    "omega_squared(fn_mf_mean, fv_mf_mean, m_mf_mean, s_mf_mean)"
   ]
  },
  {
   "cell_type": "code",
   "execution_count": 120,
   "id": "b41f8d08",
   "metadata": {
    "scrolled": true
   },
   "outputs": [
    {
     "data": {
      "text/html": [
       "<div>\n",
       "<style scoped>\n",
       "    .dataframe tbody tr th:only-of-type {\n",
       "        vertical-align: middle;\n",
       "    }\n",
       "\n",
       "    .dataframe tbody tr th {\n",
       "        vertical-align: top;\n",
       "    }\n",
       "\n",
       "    .dataframe thead th {\n",
       "        text-align: right;\n",
       "    }\n",
       "</style>\n",
       "<table border=\"1\" class=\"dataframe\">\n",
       "  <thead>\n",
       "    <tr style=\"text-align: right;\">\n",
       "      <th></th>\n",
       "      <th>fn</th>\n",
       "      <th>fv</th>\n",
       "      <th>m</th>\n",
       "      <th>s</th>\n",
       "    </tr>\n",
       "  </thead>\n",
       "  <tbody>\n",
       "    <tr>\n",
       "      <th>fn</th>\n",
       "      <td>1</td>\n",
       "      <td>1</td>\n",
       "      <td>1</td>\n",
       "      <td>1</td>\n",
       "    </tr>\n",
       "    <tr>\n",
       "      <th>fv</th>\n",
       "      <td>1</td>\n",
       "      <td>1</td>\n",
       "      <td>1</td>\n",
       "      <td>1</td>\n",
       "    </tr>\n",
       "    <tr>\n",
       "      <th>m</th>\n",
       "      <td>1</td>\n",
       "      <td>1</td>\n",
       "      <td>1</td>\n",
       "      <td>1</td>\n",
       "    </tr>\n",
       "    <tr>\n",
       "      <th>s</th>\n",
       "      <td>1</td>\n",
       "      <td>1</td>\n",
       "      <td>1</td>\n",
       "      <td>1</td>\n",
       "    </tr>\n",
       "  </tbody>\n",
       "</table>\n",
       "</div>"
      ],
      "text/plain": [
       "    fn  fv  m  s\n",
       "fn   1   1  1  1\n",
       "fv   1   1  1  1\n",
       "m    1   1  1  1\n",
       "s    1   1  1  1"
      ]
     },
     "execution_count": 120,
     "metadata": {},
     "output_type": "execute_result"
    }
   ],
   "source": [
    "labels = ['fn', 'fv', 'm', 's']\n",
    "tukeys_hsd(labels, fn_mf_mean, fv_mf_mean, m_mf_mean, s_mf_mean)"
   ]
  },
  {
   "cell_type": "markdown",
   "id": "b37c8280",
   "metadata": {},
   "source": [
    "### lateral tibia"
   ]
  },
  {
   "cell_type": "code",
   "execution_count": 121,
   "id": "748ede27",
   "metadata": {},
   "outputs": [
    {
     "name": "stdout",
     "output_type": "stream",
     "text": [
      "1429.9933844438838 0.0\n"
     ]
    }
   ],
   "source": [
    "f, p = stats.f_oneway(fn_lt_mean.to_numpy(), fv_lt_mean.to_numpy(), m_lt_mean.to_numpy(), s_lt_mean.to_numpy())\n",
    "print(f, p)"
   ]
  },
  {
   "cell_type": "markdown",
   "id": "49a35a76",
   "metadata": {},
   "source": [
    "$F(2,1290) = 1361.18 > F_{crit} = 2.61$ $\\rightarrow$ Reject $H_0$"
   ]
  },
  {
   "cell_type": "code",
   "execution_count": 122,
   "id": "f6663eb9",
   "metadata": {},
   "outputs": [
    {
     "data": {
      "text/plain": [
       "0.7071064771965937"
      ]
     },
     "execution_count": 122,
     "metadata": {},
     "output_type": "execute_result"
    }
   ],
   "source": [
    "omega_squared(fn_lt_mean, fv_lt_mean, m_lt_mean, s_lt_mean)"
   ]
  },
  {
   "cell_type": "code",
   "execution_count": 123,
   "id": "096876c5",
   "metadata": {
    "scrolled": true
   },
   "outputs": [
    {
     "data": {
      "text/html": [
       "<div>\n",
       "<style scoped>\n",
       "    .dataframe tbody tr th:only-of-type {\n",
       "        vertical-align: middle;\n",
       "    }\n",
       "\n",
       "    .dataframe tbody tr th {\n",
       "        vertical-align: top;\n",
       "    }\n",
       "\n",
       "    .dataframe thead th {\n",
       "        text-align: right;\n",
       "    }\n",
       "</style>\n",
       "<table border=\"1\" class=\"dataframe\">\n",
       "  <thead>\n",
       "    <tr style=\"text-align: right;\">\n",
       "      <th></th>\n",
       "      <th>fn</th>\n",
       "      <th>fv</th>\n",
       "      <th>m</th>\n",
       "      <th>s</th>\n",
       "    </tr>\n",
       "  </thead>\n",
       "  <tbody>\n",
       "    <tr>\n",
       "      <th>fn</th>\n",
       "      <td>1</td>\n",
       "      <td>1</td>\n",
       "      <td>1</td>\n",
       "      <td>1</td>\n",
       "    </tr>\n",
       "    <tr>\n",
       "      <th>fv</th>\n",
       "      <td>1</td>\n",
       "      <td>1</td>\n",
       "      <td>1</td>\n",
       "      <td>1</td>\n",
       "    </tr>\n",
       "    <tr>\n",
       "      <th>m</th>\n",
       "      <td>1</td>\n",
       "      <td>1</td>\n",
       "      <td>1</td>\n",
       "      <td>1</td>\n",
       "    </tr>\n",
       "    <tr>\n",
       "      <th>s</th>\n",
       "      <td>1</td>\n",
       "      <td>1</td>\n",
       "      <td>1</td>\n",
       "      <td>1</td>\n",
       "    </tr>\n",
       "  </tbody>\n",
       "</table>\n",
       "</div>"
      ],
      "text/plain": [
       "    fn  fv  m  s\n",
       "fn   1   1  1  1\n",
       "fv   1   1  1  1\n",
       "m    1   1  1  1\n",
       "s    1   1  1  1"
      ]
     },
     "execution_count": 123,
     "metadata": {},
     "output_type": "execute_result"
    }
   ],
   "source": [
    "labels = ['fn', 'fv', 'm', 's']\n",
    "tukeys_hsd(labels, fn_lt_mean, fv_lt_mean, m_lt_mean, s_lt_mean)"
   ]
  },
  {
   "cell_type": "markdown",
   "id": "a06a18e3",
   "metadata": {},
   "source": [
    "### medial tibia"
   ]
  },
  {
   "cell_type": "code",
   "execution_count": 124,
   "id": "36f60510",
   "metadata": {},
   "outputs": [
    {
     "name": "stdout",
     "output_type": "stream",
     "text": [
      "335.29427073247376 4.166807348985144e-172\n"
     ]
    }
   ],
   "source": [
    "f, p = stats.f_oneway(fn_mt_mean.to_numpy(), fv_mt_mean.to_numpy(), m_mt_mean.to_numpy(), s_mt_mean.to_numpy())\n",
    "print(f, p)"
   ]
  },
  {
   "cell_type": "markdown",
   "id": "d82291a4",
   "metadata": {},
   "source": [
    "$F(2,1290) = 328.86 > F_{crit} = 2.61$ $\\rightarrow$ Reject $H_0$"
   ]
  },
  {
   "cell_type": "code",
   "execution_count": 125,
   "id": "aba9c600",
   "metadata": {},
   "outputs": [
    {
     "data": {
      "text/plain": [
       "0.35933655895124766"
      ]
     },
     "execution_count": 125,
     "metadata": {},
     "output_type": "execute_result"
    }
   ],
   "source": [
    "omega_squared(fn_mt_mean, fv_mt_mean, m_mt_mean, s_mt_mean)"
   ]
  },
  {
   "cell_type": "code",
   "execution_count": 126,
   "id": "e33f2f6a",
   "metadata": {
    "scrolled": true
   },
   "outputs": [
    {
     "data": {
      "text/html": [
       "<div>\n",
       "<style scoped>\n",
       "    .dataframe tbody tr th:only-of-type {\n",
       "        vertical-align: middle;\n",
       "    }\n",
       "\n",
       "    .dataframe tbody tr th {\n",
       "        vertical-align: top;\n",
       "    }\n",
       "\n",
       "    .dataframe thead th {\n",
       "        text-align: right;\n",
       "    }\n",
       "</style>\n",
       "<table border=\"1\" class=\"dataframe\">\n",
       "  <thead>\n",
       "    <tr style=\"text-align: right;\">\n",
       "      <th></th>\n",
       "      <th>fn</th>\n",
       "      <th>fv</th>\n",
       "      <th>m</th>\n",
       "      <th>s</th>\n",
       "    </tr>\n",
       "  </thead>\n",
       "  <tbody>\n",
       "    <tr>\n",
       "      <th>fn</th>\n",
       "      <td>1</td>\n",
       "      <td>1</td>\n",
       "      <td>0</td>\n",
       "      <td>1</td>\n",
       "    </tr>\n",
       "    <tr>\n",
       "      <th>fv</th>\n",
       "      <td>1</td>\n",
       "      <td>1</td>\n",
       "      <td>1</td>\n",
       "      <td>1</td>\n",
       "    </tr>\n",
       "    <tr>\n",
       "      <th>m</th>\n",
       "      <td>0</td>\n",
       "      <td>1</td>\n",
       "      <td>1</td>\n",
       "      <td>1</td>\n",
       "    </tr>\n",
       "    <tr>\n",
       "      <th>s</th>\n",
       "      <td>1</td>\n",
       "      <td>1</td>\n",
       "      <td>1</td>\n",
       "      <td>1</td>\n",
       "    </tr>\n",
       "  </tbody>\n",
       "</table>\n",
       "</div>"
      ],
      "text/plain": [
       "    fn  fv  m  s\n",
       "fn   1   1  0  1\n",
       "fv   1   1  1  1\n",
       "m    0   1  1  1\n",
       "s    1   1  1  1"
      ]
     },
     "execution_count": 126,
     "metadata": {},
     "output_type": "execute_result"
    }
   ],
   "source": [
    "labels = ['fn', 'fv', 'm', 's']\n",
    "tukeys_hsd(labels, fn_mt_mean, fv_mt_mean, m_mt_mean, s_mt_mean)"
   ]
  },
  {
   "cell_type": "markdown",
   "id": "f64a1f6e",
   "metadata": {},
   "source": [
    "# ANOVA for subregions"
   ]
  },
  {
   "cell_type": "code",
   "execution_count": 127,
   "id": "e46f13ec",
   "metadata": {},
   "outputs": [
    {
     "name": "stdout",
     "output_type": "stream",
     "text": [
      "106.99572332146552 1.2761229361475424e-63\n"
     ]
    }
   ],
   "source": [
    "f, p = stats.f_oneway(fn['ccLF'].to_numpy(), fv['ccLF'].to_numpy(), m['ccLF'].to_numpy(), s['ccLF'].to_numpy())\n",
    "print(f, p)"
   ]
  },
  {
   "cell_type": "code",
   "execution_count": 128,
   "id": "6864b77c",
   "metadata": {},
   "outputs": [
    {
     "data": {
      "text/plain": [
       "0.14848105477252077"
      ]
     },
     "execution_count": 128,
     "metadata": {},
     "output_type": "execute_result"
    }
   ],
   "source": [
    "omega_squared(fn['ccLF'], fv['ccLF'], m['ccLF'], s['ccLF'])"
   ]
  },
  {
   "cell_type": "code",
   "execution_count": 129,
   "id": "1c40710f",
   "metadata": {
    "scrolled": true
   },
   "outputs": [
    {
     "data": {
      "text/html": [
       "<div>\n",
       "<style scoped>\n",
       "    .dataframe tbody tr th:only-of-type {\n",
       "        vertical-align: middle;\n",
       "    }\n",
       "\n",
       "    .dataframe tbody tr th {\n",
       "        vertical-align: top;\n",
       "    }\n",
       "\n",
       "    .dataframe thead th {\n",
       "        text-align: right;\n",
       "    }\n",
       "</style>\n",
       "<table border=\"1\" class=\"dataframe\">\n",
       "  <thead>\n",
       "    <tr style=\"text-align: right;\">\n",
       "      <th></th>\n",
       "      <th>fn</th>\n",
       "      <th>fv</th>\n",
       "      <th>m</th>\n",
       "      <th>s</th>\n",
       "    </tr>\n",
       "  </thead>\n",
       "  <tbody>\n",
       "    <tr>\n",
       "      <th>fn</th>\n",
       "      <td>1</td>\n",
       "      <td>1</td>\n",
       "      <td>0</td>\n",
       "      <td>1</td>\n",
       "    </tr>\n",
       "    <tr>\n",
       "      <th>fv</th>\n",
       "      <td>1</td>\n",
       "      <td>1</td>\n",
       "      <td>1</td>\n",
       "      <td>1</td>\n",
       "    </tr>\n",
       "    <tr>\n",
       "      <th>m</th>\n",
       "      <td>0</td>\n",
       "      <td>1</td>\n",
       "      <td>1</td>\n",
       "      <td>1</td>\n",
       "    </tr>\n",
       "    <tr>\n",
       "      <th>s</th>\n",
       "      <td>1</td>\n",
       "      <td>1</td>\n",
       "      <td>1</td>\n",
       "      <td>1</td>\n",
       "    </tr>\n",
       "  </tbody>\n",
       "</table>\n",
       "</div>"
      ],
      "text/plain": [
       "    fn  fv  m  s\n",
       "fn   1   1  0  1\n",
       "fv   1   1  1  1\n",
       "m    0   1  1  1\n",
       "s    1   1  1  1"
      ]
     },
     "execution_count": 129,
     "metadata": {},
     "output_type": "execute_result"
    }
   ],
   "source": [
    "labels = ['fn', 'fv', 'm', 's']\n",
    "tukeys_hsd(labels, fn['ccLF'], fv['ccLF'], m['ccLF'], s['ccLF'])"
   ]
  },
  {
   "cell_type": "code",
   "execution_count": 130,
   "id": "a9a7e294",
   "metadata": {},
   "outputs": [
    {
     "name": "stdout",
     "output_type": "stream",
     "text": [
      "367.11651307004865 4.725454246411749e-185\n"
     ]
    }
   ],
   "source": [
    "f, p = stats.f_oneway(fn['icLF'].to_numpy(), fv['icLF'].to_numpy(), m['icLF'].to_numpy(), s['icLF'].to_numpy())\n",
    "print(f, p)"
   ]
  },
  {
   "cell_type": "code",
   "execution_count": 131,
   "id": "e15697b7",
   "metadata": {},
   "outputs": [
    {
     "data": {
      "text/plain": [
       "0.3807118019949611"
      ]
     },
     "execution_count": 131,
     "metadata": {},
     "output_type": "execute_result"
    }
   ],
   "source": [
    "omega_squared(fn['icLF'], fv['icLF'], m['icLF'], s['icLF'])"
   ]
  },
  {
   "cell_type": "code",
   "execution_count": 132,
   "id": "d8cd1eb5",
   "metadata": {
    "scrolled": true
   },
   "outputs": [
    {
     "data": {
      "text/html": [
       "<div>\n",
       "<style scoped>\n",
       "    .dataframe tbody tr th:only-of-type {\n",
       "        vertical-align: middle;\n",
       "    }\n",
       "\n",
       "    .dataframe tbody tr th {\n",
       "        vertical-align: top;\n",
       "    }\n",
       "\n",
       "    .dataframe thead th {\n",
       "        text-align: right;\n",
       "    }\n",
       "</style>\n",
       "<table border=\"1\" class=\"dataframe\">\n",
       "  <thead>\n",
       "    <tr style=\"text-align: right;\">\n",
       "      <th></th>\n",
       "      <th>fn</th>\n",
       "      <th>fv</th>\n",
       "      <th>m</th>\n",
       "      <th>s</th>\n",
       "    </tr>\n",
       "  </thead>\n",
       "  <tbody>\n",
       "    <tr>\n",
       "      <th>fn</th>\n",
       "      <td>1</td>\n",
       "      <td>1</td>\n",
       "      <td>0</td>\n",
       "      <td>1</td>\n",
       "    </tr>\n",
       "    <tr>\n",
       "      <th>fv</th>\n",
       "      <td>1</td>\n",
       "      <td>1</td>\n",
       "      <td>1</td>\n",
       "      <td>1</td>\n",
       "    </tr>\n",
       "    <tr>\n",
       "      <th>m</th>\n",
       "      <td>0</td>\n",
       "      <td>1</td>\n",
       "      <td>1</td>\n",
       "      <td>1</td>\n",
       "    </tr>\n",
       "    <tr>\n",
       "      <th>s</th>\n",
       "      <td>1</td>\n",
       "      <td>1</td>\n",
       "      <td>1</td>\n",
       "      <td>1</td>\n",
       "    </tr>\n",
       "  </tbody>\n",
       "</table>\n",
       "</div>"
      ],
      "text/plain": [
       "    fn  fv  m  s\n",
       "fn   1   1  0  1\n",
       "fv   1   1  1  1\n",
       "m    0   1  1  1\n",
       "s    1   1  1  1"
      ]
     },
     "execution_count": 132,
     "metadata": {},
     "output_type": "execute_result"
    }
   ],
   "source": [
    "labels = ['fn', 'fv', 'm', 's']\n",
    "tukeys_hsd(labels, fn['icLF'], fv['icLF'], m['icLF'], s['icLF'])"
   ]
  },
  {
   "cell_type": "code",
   "execution_count": 133,
   "id": "30bbf628",
   "metadata": {},
   "outputs": [
    {
     "name": "stdout",
     "output_type": "stream",
     "text": [
      "198.97015619327698 4.469333534084216e-111\n"
     ]
    }
   ],
   "source": [
    "f, p = stats.f_oneway(fn['ecLF'].to_numpy(), fv['ecLF'].to_numpy(), m['ecLF'].to_numpy(), s['ecLF'].to_numpy())\n",
    "print(f, p)"
   ]
  },
  {
   "cell_type": "code",
   "execution_count": 134,
   "id": "eaeff703",
   "metadata": {},
   "outputs": [
    {
     "data": {
      "text/plain": [
       "0.2481683018414663"
      ]
     },
     "execution_count": 134,
     "metadata": {},
     "output_type": "execute_result"
    }
   ],
   "source": [
    "omega_squared(fn['ecLF'], fv['ecLF'], m['ecLF'], s['ecLF'])"
   ]
  },
  {
   "cell_type": "code",
   "execution_count": 135,
   "id": "bcdce554",
   "metadata": {
    "scrolled": true
   },
   "outputs": [
    {
     "data": {
      "text/html": [
       "<div>\n",
       "<style scoped>\n",
       "    .dataframe tbody tr th:only-of-type {\n",
       "        vertical-align: middle;\n",
       "    }\n",
       "\n",
       "    .dataframe tbody tr th {\n",
       "        vertical-align: top;\n",
       "    }\n",
       "\n",
       "    .dataframe thead th {\n",
       "        text-align: right;\n",
       "    }\n",
       "</style>\n",
       "<table border=\"1\" class=\"dataframe\">\n",
       "  <thead>\n",
       "    <tr style=\"text-align: right;\">\n",
       "      <th></th>\n",
       "      <th>fn</th>\n",
       "      <th>fv</th>\n",
       "      <th>m</th>\n",
       "      <th>s</th>\n",
       "    </tr>\n",
       "  </thead>\n",
       "  <tbody>\n",
       "    <tr>\n",
       "      <th>fn</th>\n",
       "      <td>1</td>\n",
       "      <td>0</td>\n",
       "      <td>0</td>\n",
       "      <td>1</td>\n",
       "    </tr>\n",
       "    <tr>\n",
       "      <th>fv</th>\n",
       "      <td>0</td>\n",
       "      <td>1</td>\n",
       "      <td>0</td>\n",
       "      <td>1</td>\n",
       "    </tr>\n",
       "    <tr>\n",
       "      <th>m</th>\n",
       "      <td>0</td>\n",
       "      <td>0</td>\n",
       "      <td>1</td>\n",
       "      <td>1</td>\n",
       "    </tr>\n",
       "    <tr>\n",
       "      <th>s</th>\n",
       "      <td>1</td>\n",
       "      <td>1</td>\n",
       "      <td>1</td>\n",
       "      <td>1</td>\n",
       "    </tr>\n",
       "  </tbody>\n",
       "</table>\n",
       "</div>"
      ],
      "text/plain": [
       "    fn  fv  m  s\n",
       "fn   1   0  0  1\n",
       "fv   0   1  0  1\n",
       "m    0   0  1  1\n",
       "s    1   1  1  1"
      ]
     },
     "execution_count": 135,
     "metadata": {},
     "output_type": "execute_result"
    }
   ],
   "source": [
    "labels = ['fn', 'fv', 'm', 's']\n",
    "tukeys_hsd(labels, fn['ecLF'], fv['ecLF'], m['ecLF'], s['ecLF'])"
   ]
  },
  {
   "cell_type": "code",
   "execution_count": 136,
   "id": "7e76b788",
   "metadata": {},
   "outputs": [
    {
     "name": "stdout",
     "output_type": "stream",
     "text": [
      "81.90451542363273 1.3560770306826567e-49\n"
     ]
    }
   ],
   "source": [
    "f, p = stats.f_oneway(fn['ccMF'].to_numpy(), fv['ccMF'].to_numpy(), m['ccMF'].to_numpy(), s['ccMF'].to_numpy())\n",
    "print(f, p)"
   ]
  },
  {
   "cell_type": "code",
   "execution_count": 137,
   "id": "b5370f4e",
   "metadata": {},
   "outputs": [
    {
     "data": {
      "text/plain": [
       "0.11652389081453189"
      ]
     },
     "execution_count": 137,
     "metadata": {},
     "output_type": "execute_result"
    }
   ],
   "source": [
    "omega_squared(fn['ccMF'], fv['ccMF'], m['ccMF'], s['ccMF'])"
   ]
  },
  {
   "cell_type": "code",
   "execution_count": 138,
   "id": "1abe40f5",
   "metadata": {
    "scrolled": true
   },
   "outputs": [
    {
     "data": {
      "text/html": [
       "<div>\n",
       "<style scoped>\n",
       "    .dataframe tbody tr th:only-of-type {\n",
       "        vertical-align: middle;\n",
       "    }\n",
       "\n",
       "    .dataframe tbody tr th {\n",
       "        vertical-align: top;\n",
       "    }\n",
       "\n",
       "    .dataframe thead th {\n",
       "        text-align: right;\n",
       "    }\n",
       "</style>\n",
       "<table border=\"1\" class=\"dataframe\">\n",
       "  <thead>\n",
       "    <tr style=\"text-align: right;\">\n",
       "      <th></th>\n",
       "      <th>fn</th>\n",
       "      <th>fv</th>\n",
       "      <th>m</th>\n",
       "      <th>s</th>\n",
       "    </tr>\n",
       "  </thead>\n",
       "  <tbody>\n",
       "    <tr>\n",
       "      <th>fn</th>\n",
       "      <td>1</td>\n",
       "      <td>1</td>\n",
       "      <td>1</td>\n",
       "      <td>1</td>\n",
       "    </tr>\n",
       "    <tr>\n",
       "      <th>fv</th>\n",
       "      <td>1</td>\n",
       "      <td>1</td>\n",
       "      <td>1</td>\n",
       "      <td>1</td>\n",
       "    </tr>\n",
       "    <tr>\n",
       "      <th>m</th>\n",
       "      <td>1</td>\n",
       "      <td>1</td>\n",
       "      <td>1</td>\n",
       "      <td>1</td>\n",
       "    </tr>\n",
       "    <tr>\n",
       "      <th>s</th>\n",
       "      <td>1</td>\n",
       "      <td>1</td>\n",
       "      <td>1</td>\n",
       "      <td>1</td>\n",
       "    </tr>\n",
       "  </tbody>\n",
       "</table>\n",
       "</div>"
      ],
      "text/plain": [
       "    fn  fv  m  s\n",
       "fn   1   1  1  1\n",
       "fv   1   1  1  1\n",
       "m    1   1  1  1\n",
       "s    1   1  1  1"
      ]
     },
     "execution_count": 138,
     "metadata": {},
     "output_type": "execute_result"
    }
   ],
   "source": [
    "labels = ['fn', 'fv', 'm', 's']\n",
    "tukeys_hsd(labels, fn['ccMF'], fv['ccMF'], m['ccMF'], s['ccMF'])"
   ]
  },
  {
   "cell_type": "code",
   "execution_count": 139,
   "id": "59f1bb6a",
   "metadata": {},
   "outputs": [
    {
     "name": "stdout",
     "output_type": "stream",
     "text": [
      "305.7760992234795 1.0794482374928174e-159\n"
     ]
    }
   ],
   "source": [
    "f, p = stats.f_oneway(fn['icMF'].to_numpy(), fv['icMF'].to_numpy(), m['icMF'].to_numpy(), s['icMF'].to_numpy())\n",
    "print(f, p)"
   ]
  },
  {
   "cell_type": "code",
   "execution_count": 140,
   "id": "a13be9f1",
   "metadata": {},
   "outputs": [
    {
     "data": {
      "text/plain": [
       "0.3381461655106588"
      ]
     },
     "execution_count": 140,
     "metadata": {},
     "output_type": "execute_result"
    }
   ],
   "source": [
    "omega_squared(fn['icMF'], fv['icMF'], m['icMF'], s['icMF'])"
   ]
  },
  {
   "cell_type": "code",
   "execution_count": 141,
   "id": "e3db2db4",
   "metadata": {
    "scrolled": true
   },
   "outputs": [
    {
     "data": {
      "text/html": [
       "<div>\n",
       "<style scoped>\n",
       "    .dataframe tbody tr th:only-of-type {\n",
       "        vertical-align: middle;\n",
       "    }\n",
       "\n",
       "    .dataframe tbody tr th {\n",
       "        vertical-align: top;\n",
       "    }\n",
       "\n",
       "    .dataframe thead th {\n",
       "        text-align: right;\n",
       "    }\n",
       "</style>\n",
       "<table border=\"1\" class=\"dataframe\">\n",
       "  <thead>\n",
       "    <tr style=\"text-align: right;\">\n",
       "      <th></th>\n",
       "      <th>fn</th>\n",
       "      <th>fv</th>\n",
       "      <th>m</th>\n",
       "      <th>s</th>\n",
       "    </tr>\n",
       "  </thead>\n",
       "  <tbody>\n",
       "    <tr>\n",
       "      <th>fn</th>\n",
       "      <td>1</td>\n",
       "      <td>1</td>\n",
       "      <td>1</td>\n",
       "      <td>1</td>\n",
       "    </tr>\n",
       "    <tr>\n",
       "      <th>fv</th>\n",
       "      <td>1</td>\n",
       "      <td>1</td>\n",
       "      <td>1</td>\n",
       "      <td>1</td>\n",
       "    </tr>\n",
       "    <tr>\n",
       "      <th>m</th>\n",
       "      <td>1</td>\n",
       "      <td>1</td>\n",
       "      <td>1</td>\n",
       "      <td>1</td>\n",
       "    </tr>\n",
       "    <tr>\n",
       "      <th>s</th>\n",
       "      <td>1</td>\n",
       "      <td>1</td>\n",
       "      <td>1</td>\n",
       "      <td>1</td>\n",
       "    </tr>\n",
       "  </tbody>\n",
       "</table>\n",
       "</div>"
      ],
      "text/plain": [
       "    fn  fv  m  s\n",
       "fn   1   1  1  1\n",
       "fv   1   1  1  1\n",
       "m    1   1  1  1\n",
       "s    1   1  1  1"
      ]
     },
     "execution_count": 141,
     "metadata": {},
     "output_type": "execute_result"
    }
   ],
   "source": [
    "labels = ['fn', 'fv', 'm', 's']\n",
    "tukeys_hsd(labels, fn['icMF'], fv['icMF'], m['icMF'], s['icMF'])"
   ]
  },
  {
   "cell_type": "code",
   "execution_count": 142,
   "id": "134f7e82",
   "metadata": {},
   "outputs": [
    {
     "name": "stdout",
     "output_type": "stream",
     "text": [
      "66.6234890081077 8.456085509165926e-41\n"
     ]
    }
   ],
   "source": [
    "f, p = stats.f_oneway(fn['ecMF'].to_numpy(), fv['ecMF'].to_numpy(), m['ecMF'].to_numpy(), s['ecMF'].to_numpy())\n",
    "print(f, p)"
   ]
  },
  {
   "cell_type": "code",
   "execution_count": 143,
   "id": "c5a3b02e",
   "metadata": {},
   "outputs": [
    {
     "data": {
      "text/plain": [
       "0.09585861422238141"
      ]
     },
     "execution_count": 143,
     "metadata": {},
     "output_type": "execute_result"
    }
   ],
   "source": [
    "omega_squared(fn['ecMF'], fv['ecMF'], m['ecMF'], s['ecMF'])"
   ]
  },
  {
   "cell_type": "code",
   "execution_count": 144,
   "id": "76bc982d",
   "metadata": {
    "scrolled": true
   },
   "outputs": [
    {
     "data": {
      "text/html": [
       "<div>\n",
       "<style scoped>\n",
       "    .dataframe tbody tr th:only-of-type {\n",
       "        vertical-align: middle;\n",
       "    }\n",
       "\n",
       "    .dataframe tbody tr th {\n",
       "        vertical-align: top;\n",
       "    }\n",
       "\n",
       "    .dataframe thead th {\n",
       "        text-align: right;\n",
       "    }\n",
       "</style>\n",
       "<table border=\"1\" class=\"dataframe\">\n",
       "  <thead>\n",
       "    <tr style=\"text-align: right;\">\n",
       "      <th></th>\n",
       "      <th>fn</th>\n",
       "      <th>fv</th>\n",
       "      <th>m</th>\n",
       "      <th>s</th>\n",
       "    </tr>\n",
       "  </thead>\n",
       "  <tbody>\n",
       "    <tr>\n",
       "      <th>fn</th>\n",
       "      <td>1</td>\n",
       "      <td>1</td>\n",
       "      <td>0</td>\n",
       "      <td>1</td>\n",
       "    </tr>\n",
       "    <tr>\n",
       "      <th>fv</th>\n",
       "      <td>1</td>\n",
       "      <td>1</td>\n",
       "      <td>1</td>\n",
       "      <td>1</td>\n",
       "    </tr>\n",
       "    <tr>\n",
       "      <th>m</th>\n",
       "      <td>0</td>\n",
       "      <td>1</td>\n",
       "      <td>1</td>\n",
       "      <td>1</td>\n",
       "    </tr>\n",
       "    <tr>\n",
       "      <th>s</th>\n",
       "      <td>1</td>\n",
       "      <td>1</td>\n",
       "      <td>1</td>\n",
       "      <td>1</td>\n",
       "    </tr>\n",
       "  </tbody>\n",
       "</table>\n",
       "</div>"
      ],
      "text/plain": [
       "    fn  fv  m  s\n",
       "fn   1   1  0  1\n",
       "fv   1   1  1  1\n",
       "m    0   1  1  1\n",
       "s    1   1  1  1"
      ]
     },
     "execution_count": 144,
     "metadata": {},
     "output_type": "execute_result"
    }
   ],
   "source": [
    "labels = ['fn', 'fv', 'm', 's']\n",
    "tukeys_hsd(labels, fn['ecMF'], fv['ecMF'], m['ecMF'], s['ecMF'])"
   ]
  },
  {
   "cell_type": "code",
   "execution_count": 145,
   "id": "80301225",
   "metadata": {},
   "outputs": [
    {
     "name": "stdout",
     "output_type": "stream",
     "text": [
      "911.0951913725235 0.0\n"
     ]
    }
   ],
   "source": [
    "f, p = stats.f_oneway(fn['aLF'].to_numpy(), fv['aLF'].to_numpy(), m['aLF'].to_numpy(), s['aLF'].to_numpy())\n",
    "print(f, p)"
   ]
  },
  {
   "cell_type": "code",
   "execution_count": 146,
   "id": "35570063",
   "metadata": {},
   "outputs": [
    {
     "data": {
      "text/plain": [
       "0.6056337905146387"
      ]
     },
     "execution_count": 146,
     "metadata": {},
     "output_type": "execute_result"
    }
   ],
   "source": [
    "omega_squared(fn['aLF'], fv['aLF'], m['aLF'], s['aLF'])"
   ]
  },
  {
   "cell_type": "code",
   "execution_count": 147,
   "id": "495b3163",
   "metadata": {
    "scrolled": true
   },
   "outputs": [
    {
     "data": {
      "text/html": [
       "<div>\n",
       "<style scoped>\n",
       "    .dataframe tbody tr th:only-of-type {\n",
       "        vertical-align: middle;\n",
       "    }\n",
       "\n",
       "    .dataframe tbody tr th {\n",
       "        vertical-align: top;\n",
       "    }\n",
       "\n",
       "    .dataframe thead th {\n",
       "        text-align: right;\n",
       "    }\n",
       "</style>\n",
       "<table border=\"1\" class=\"dataframe\">\n",
       "  <thead>\n",
       "    <tr style=\"text-align: right;\">\n",
       "      <th></th>\n",
       "      <th>fn</th>\n",
       "      <th>fv</th>\n",
       "      <th>m</th>\n",
       "      <th>s</th>\n",
       "    </tr>\n",
       "  </thead>\n",
       "  <tbody>\n",
       "    <tr>\n",
       "      <th>fn</th>\n",
       "      <td>1</td>\n",
       "      <td>1</td>\n",
       "      <td>1</td>\n",
       "      <td>1</td>\n",
       "    </tr>\n",
       "    <tr>\n",
       "      <th>fv</th>\n",
       "      <td>1</td>\n",
       "      <td>1</td>\n",
       "      <td>1</td>\n",
       "      <td>1</td>\n",
       "    </tr>\n",
       "    <tr>\n",
       "      <th>m</th>\n",
       "      <td>1</td>\n",
       "      <td>1</td>\n",
       "      <td>1</td>\n",
       "      <td>1</td>\n",
       "    </tr>\n",
       "    <tr>\n",
       "      <th>s</th>\n",
       "      <td>1</td>\n",
       "      <td>1</td>\n",
       "      <td>1</td>\n",
       "      <td>1</td>\n",
       "    </tr>\n",
       "  </tbody>\n",
       "</table>\n",
       "</div>"
      ],
      "text/plain": [
       "    fn  fv  m  s\n",
       "fn   1   1  1  1\n",
       "fv   1   1  1  1\n",
       "m    1   1  1  1\n",
       "s    1   1  1  1"
      ]
     },
     "execution_count": 147,
     "metadata": {},
     "output_type": "execute_result"
    }
   ],
   "source": [
    "labels = ['fn', 'fv', 'm', 's']\n",
    "tukeys_hsd(labels, fn['aLF'], fv['aLF'], m['aLF'], s['aLF'])"
   ]
  },
  {
   "cell_type": "code",
   "execution_count": 148,
   "id": "a6fde925",
   "metadata": {},
   "outputs": [
    {
     "name": "stdout",
     "output_type": "stream",
     "text": [
      "1536.6513409932281 0.0\n"
     ]
    }
   ],
   "source": [
    "f, p = stats.f_oneway(fn['aMF'].to_numpy(), fv['aMF'].to_numpy(), m['aMF'].to_numpy(), s['aMF'].to_numpy())\n",
    "print(f, p)"
   ]
  },
  {
   "cell_type": "code",
   "execution_count": 149,
   "id": "db2db420",
   "metadata": {},
   "outputs": [
    {
     "data": {
      "text/plain": [
       "0.7218190282681022"
      ]
     },
     "execution_count": 149,
     "metadata": {},
     "output_type": "execute_result"
    }
   ],
   "source": [
    "omega_squared(fn['aMF'], fv['aMF'], m['aMF'], s['aMF'])"
   ]
  },
  {
   "cell_type": "code",
   "execution_count": 150,
   "id": "fef85246",
   "metadata": {
    "scrolled": true
   },
   "outputs": [
    {
     "data": {
      "text/html": [
       "<div>\n",
       "<style scoped>\n",
       "    .dataframe tbody tr th:only-of-type {\n",
       "        vertical-align: middle;\n",
       "    }\n",
       "\n",
       "    .dataframe tbody tr th {\n",
       "        vertical-align: top;\n",
       "    }\n",
       "\n",
       "    .dataframe thead th {\n",
       "        text-align: right;\n",
       "    }\n",
       "</style>\n",
       "<table border=\"1\" class=\"dataframe\">\n",
       "  <thead>\n",
       "    <tr style=\"text-align: right;\">\n",
       "      <th></th>\n",
       "      <th>fn</th>\n",
       "      <th>fv</th>\n",
       "      <th>m</th>\n",
       "      <th>s</th>\n",
       "    </tr>\n",
       "  </thead>\n",
       "  <tbody>\n",
       "    <tr>\n",
       "      <th>fn</th>\n",
       "      <td>1</td>\n",
       "      <td>1</td>\n",
       "      <td>1</td>\n",
       "      <td>1</td>\n",
       "    </tr>\n",
       "    <tr>\n",
       "      <th>fv</th>\n",
       "      <td>1</td>\n",
       "      <td>1</td>\n",
       "      <td>1</td>\n",
       "      <td>1</td>\n",
       "    </tr>\n",
       "    <tr>\n",
       "      <th>m</th>\n",
       "      <td>1</td>\n",
       "      <td>1</td>\n",
       "      <td>1</td>\n",
       "      <td>1</td>\n",
       "    </tr>\n",
       "    <tr>\n",
       "      <th>s</th>\n",
       "      <td>1</td>\n",
       "      <td>1</td>\n",
       "      <td>1</td>\n",
       "      <td>1</td>\n",
       "    </tr>\n",
       "  </tbody>\n",
       "</table>\n",
       "</div>"
      ],
      "text/plain": [
       "    fn  fv  m  s\n",
       "fn   1   1  1  1\n",
       "fv   1   1  1  1\n",
       "m    1   1  1  1\n",
       "s    1   1  1  1"
      ]
     },
     "execution_count": 150,
     "metadata": {},
     "output_type": "execute_result"
    }
   ],
   "source": [
    "labels = ['fn', 'fv', 'm', 's']\n",
    "tukeys_hsd(labels, fn['aMF'], fv['aMF'], m['aMF'], s['aMF'])"
   ]
  },
  {
   "cell_type": "code",
   "execution_count": 151,
   "id": "2a67fa0e",
   "metadata": {},
   "outputs": [
    {
     "name": "stdout",
     "output_type": "stream",
     "text": [
      "863.873836868935 0.0\n"
     ]
    }
   ],
   "source": [
    "f, p = stats.f_oneway(fn['pLF'].to_numpy(), fv['pLF'].to_numpy(), m['pLF'].to_numpy(), s['pLF'].to_numpy())\n",
    "print(f, p)"
   ]
  },
  {
   "cell_type": "code",
   "execution_count": 152,
   "id": "cd6f2531",
   "metadata": {},
   "outputs": [
    {
     "data": {
      "text/plain": [
       "0.5927954681534551"
      ]
     },
     "execution_count": 152,
     "metadata": {},
     "output_type": "execute_result"
    }
   ],
   "source": [
    "omega_squared(fn['pLF'], fv['pLF'], m['pLF'], s['pLF'])"
   ]
  },
  {
   "cell_type": "code",
   "execution_count": 153,
   "id": "0507c2d6",
   "metadata": {
    "scrolled": true
   },
   "outputs": [
    {
     "data": {
      "text/html": [
       "<div>\n",
       "<style scoped>\n",
       "    .dataframe tbody tr th:only-of-type {\n",
       "        vertical-align: middle;\n",
       "    }\n",
       "\n",
       "    .dataframe tbody tr th {\n",
       "        vertical-align: top;\n",
       "    }\n",
       "\n",
       "    .dataframe thead th {\n",
       "        text-align: right;\n",
       "    }\n",
       "</style>\n",
       "<table border=\"1\" class=\"dataframe\">\n",
       "  <thead>\n",
       "    <tr style=\"text-align: right;\">\n",
       "      <th></th>\n",
       "      <th>fn</th>\n",
       "      <th>fv</th>\n",
       "      <th>m</th>\n",
       "      <th>s</th>\n",
       "    </tr>\n",
       "  </thead>\n",
       "  <tbody>\n",
       "    <tr>\n",
       "      <th>fn</th>\n",
       "      <td>1</td>\n",
       "      <td>1</td>\n",
       "      <td>1</td>\n",
       "      <td>1</td>\n",
       "    </tr>\n",
       "    <tr>\n",
       "      <th>fv</th>\n",
       "      <td>1</td>\n",
       "      <td>1</td>\n",
       "      <td>1</td>\n",
       "      <td>1</td>\n",
       "    </tr>\n",
       "    <tr>\n",
       "      <th>m</th>\n",
       "      <td>1</td>\n",
       "      <td>1</td>\n",
       "      <td>1</td>\n",
       "      <td>1</td>\n",
       "    </tr>\n",
       "    <tr>\n",
       "      <th>s</th>\n",
       "      <td>1</td>\n",
       "      <td>1</td>\n",
       "      <td>1</td>\n",
       "      <td>1</td>\n",
       "    </tr>\n",
       "  </tbody>\n",
       "</table>\n",
       "</div>"
      ],
      "text/plain": [
       "    fn  fv  m  s\n",
       "fn   1   1  1  1\n",
       "fv   1   1  1  1\n",
       "m    1   1  1  1\n",
       "s    1   1  1  1"
      ]
     },
     "execution_count": 153,
     "metadata": {},
     "output_type": "execute_result"
    }
   ],
   "source": [
    "labels = ['fn', 'fv', 'm', 's']\n",
    "tukeys_hsd(labels, fn['pLF'], fv['pLF'], m['pLF'], s['pLF'])"
   ]
  },
  {
   "cell_type": "code",
   "execution_count": 154,
   "id": "340038a2",
   "metadata": {},
   "outputs": [
    {
     "name": "stdout",
     "output_type": "stream",
     "text": [
      "594.516037552102 1.2363301026050395e-266\n"
     ]
    }
   ],
   "source": [
    "f, p = stats.f_oneway(fn['pMF'].to_numpy(), fv['pMF'].to_numpy(), m['pMF'].to_numpy(), s['pMF'].to_numpy())\n",
    "print(f, p)"
   ]
  },
  {
   "cell_type": "code",
   "execution_count": 155,
   "id": "1e45d243",
   "metadata": {},
   "outputs": [
    {
     "data": {
      "text/plain": [
       "0.49993623801211"
      ]
     },
     "execution_count": 155,
     "metadata": {},
     "output_type": "execute_result"
    }
   ],
   "source": [
    "omega_squared(fn['pMF'], fv['pMF'], m['pMF'], s['pMF'])"
   ]
  },
  {
   "cell_type": "code",
   "execution_count": 156,
   "id": "1cb9eb88",
   "metadata": {
    "scrolled": true
   },
   "outputs": [
    {
     "data": {
      "text/html": [
       "<div>\n",
       "<style scoped>\n",
       "    .dataframe tbody tr th:only-of-type {\n",
       "        vertical-align: middle;\n",
       "    }\n",
       "\n",
       "    .dataframe tbody tr th {\n",
       "        vertical-align: top;\n",
       "    }\n",
       "\n",
       "    .dataframe thead th {\n",
       "        text-align: right;\n",
       "    }\n",
       "</style>\n",
       "<table border=\"1\" class=\"dataframe\">\n",
       "  <thead>\n",
       "    <tr style=\"text-align: right;\">\n",
       "      <th></th>\n",
       "      <th>fn</th>\n",
       "      <th>fv</th>\n",
       "      <th>m</th>\n",
       "      <th>s</th>\n",
       "    </tr>\n",
       "  </thead>\n",
       "  <tbody>\n",
       "    <tr>\n",
       "      <th>fn</th>\n",
       "      <td>1</td>\n",
       "      <td>1</td>\n",
       "      <td>1</td>\n",
       "      <td>1</td>\n",
       "    </tr>\n",
       "    <tr>\n",
       "      <th>fv</th>\n",
       "      <td>1</td>\n",
       "      <td>1</td>\n",
       "      <td>1</td>\n",
       "      <td>1</td>\n",
       "    </tr>\n",
       "    <tr>\n",
       "      <th>m</th>\n",
       "      <td>1</td>\n",
       "      <td>1</td>\n",
       "      <td>1</td>\n",
       "      <td>1</td>\n",
       "    </tr>\n",
       "    <tr>\n",
       "      <th>s</th>\n",
       "      <td>1</td>\n",
       "      <td>1</td>\n",
       "      <td>1</td>\n",
       "      <td>1</td>\n",
       "    </tr>\n",
       "  </tbody>\n",
       "</table>\n",
       "</div>"
      ],
      "text/plain": [
       "    fn  fv  m  s\n",
       "fn   1   1  1  1\n",
       "fv   1   1  1  1\n",
       "m    1   1  1  1\n",
       "s    1   1  1  1"
      ]
     },
     "execution_count": 156,
     "metadata": {},
     "output_type": "execute_result"
    }
   ],
   "source": [
    "labels = ['fn', 'fv', 'm', 's']\n",
    "tukeys_hsd(labels, fn['pMF'], fv['pMF'], m['pMF'], s['pMF'])"
   ]
  },
  {
   "cell_type": "code",
   "execution_count": 157,
   "id": "0bf4f6a9",
   "metadata": {},
   "outputs": [
    {
     "name": "stdout",
     "output_type": "stream",
     "text": [
      "302.49162526052424 2.7523546610117966e-158\n"
     ]
    }
   ],
   "source": [
    "f, p = stats.f_oneway(fn['cLT'].to_numpy(), fv['cLT'].to_numpy(), m['cLT'].to_numpy(), s['cLT'].to_numpy())\n",
    "print(f, p)"
   ]
  },
  {
   "cell_type": "code",
   "execution_count": 158,
   "id": "d7f060a2",
   "metadata": {},
   "outputs": [
    {
     "data": {
      "text/plain": [
       "0.33570133458865214"
      ]
     },
     "execution_count": 158,
     "metadata": {},
     "output_type": "execute_result"
    }
   ],
   "source": [
    "omega_squared(fn['cLT'], fv['cLT'], m['cLT'], s['cLT'])"
   ]
  },
  {
   "cell_type": "code",
   "execution_count": 159,
   "id": "f01498db",
   "metadata": {
    "scrolled": true
   },
   "outputs": [
    {
     "data": {
      "text/html": [
       "<div>\n",
       "<style scoped>\n",
       "    .dataframe tbody tr th:only-of-type {\n",
       "        vertical-align: middle;\n",
       "    }\n",
       "\n",
       "    .dataframe tbody tr th {\n",
       "        vertical-align: top;\n",
       "    }\n",
       "\n",
       "    .dataframe thead th {\n",
       "        text-align: right;\n",
       "    }\n",
       "</style>\n",
       "<table border=\"1\" class=\"dataframe\">\n",
       "  <thead>\n",
       "    <tr style=\"text-align: right;\">\n",
       "      <th></th>\n",
       "      <th>fn</th>\n",
       "      <th>fv</th>\n",
       "      <th>m</th>\n",
       "      <th>s</th>\n",
       "    </tr>\n",
       "  </thead>\n",
       "  <tbody>\n",
       "    <tr>\n",
       "      <th>fn</th>\n",
       "      <td>1</td>\n",
       "      <td>1</td>\n",
       "      <td>0</td>\n",
       "      <td>1</td>\n",
       "    </tr>\n",
       "    <tr>\n",
       "      <th>fv</th>\n",
       "      <td>1</td>\n",
       "      <td>1</td>\n",
       "      <td>1</td>\n",
       "      <td>1</td>\n",
       "    </tr>\n",
       "    <tr>\n",
       "      <th>m</th>\n",
       "      <td>0</td>\n",
       "      <td>1</td>\n",
       "      <td>1</td>\n",
       "      <td>1</td>\n",
       "    </tr>\n",
       "    <tr>\n",
       "      <th>s</th>\n",
       "      <td>1</td>\n",
       "      <td>1</td>\n",
       "      <td>1</td>\n",
       "      <td>1</td>\n",
       "    </tr>\n",
       "  </tbody>\n",
       "</table>\n",
       "</div>"
      ],
      "text/plain": [
       "    fn  fv  m  s\n",
       "fn   1   1  0  1\n",
       "fv   1   1  1  1\n",
       "m    0   1  1  1\n",
       "s    1   1  1  1"
      ]
     },
     "execution_count": 159,
     "metadata": {},
     "output_type": "execute_result"
    }
   ],
   "source": [
    "labels = ['fn', 'fv', 'm', 's']\n",
    "tukeys_hsd(labels, fn['cLT'], fv['cLT'], m['cLT'], s['cLT'])"
   ]
  },
  {
   "cell_type": "code",
   "execution_count": 160,
   "id": "4265ee09",
   "metadata": {},
   "outputs": [
    {
     "name": "stdout",
     "output_type": "stream",
     "text": [
      "2016.4769041419804 0.0\n"
     ]
    }
   ],
   "source": [
    "f, p = stats.f_oneway(fn['iLT'].to_numpy(), fv['iLT'].to_numpy(), m['iLT'].to_numpy(), s['iLT'].to_numpy())\n",
    "print(f, p)"
   ]
  },
  {
   "cell_type": "code",
   "execution_count": 161,
   "id": "f6335bb3",
   "metadata": {},
   "outputs": [
    {
     "data": {
      "text/plain": [
       "0.77309485604623"
      ]
     },
     "execution_count": 161,
     "metadata": {},
     "output_type": "execute_result"
    }
   ],
   "source": [
    "omega_squared(fn['iLT'], fv['iLT'], m['iLT'], s['iLT'])"
   ]
  },
  {
   "cell_type": "code",
   "execution_count": 162,
   "id": "c1b48d62",
   "metadata": {
    "scrolled": true
   },
   "outputs": [
    {
     "data": {
      "text/html": [
       "<div>\n",
       "<style scoped>\n",
       "    .dataframe tbody tr th:only-of-type {\n",
       "        vertical-align: middle;\n",
       "    }\n",
       "\n",
       "    .dataframe tbody tr th {\n",
       "        vertical-align: top;\n",
       "    }\n",
       "\n",
       "    .dataframe thead th {\n",
       "        text-align: right;\n",
       "    }\n",
       "</style>\n",
       "<table border=\"1\" class=\"dataframe\">\n",
       "  <thead>\n",
       "    <tr style=\"text-align: right;\">\n",
       "      <th></th>\n",
       "      <th>fn</th>\n",
       "      <th>fv</th>\n",
       "      <th>m</th>\n",
       "      <th>s</th>\n",
       "    </tr>\n",
       "  </thead>\n",
       "  <tbody>\n",
       "    <tr>\n",
       "      <th>fn</th>\n",
       "      <td>1</td>\n",
       "      <td>1</td>\n",
       "      <td>0</td>\n",
       "      <td>1</td>\n",
       "    </tr>\n",
       "    <tr>\n",
       "      <th>fv</th>\n",
       "      <td>1</td>\n",
       "      <td>1</td>\n",
       "      <td>1</td>\n",
       "      <td>1</td>\n",
       "    </tr>\n",
       "    <tr>\n",
       "      <th>m</th>\n",
       "      <td>0</td>\n",
       "      <td>1</td>\n",
       "      <td>1</td>\n",
       "      <td>1</td>\n",
       "    </tr>\n",
       "    <tr>\n",
       "      <th>s</th>\n",
       "      <td>1</td>\n",
       "      <td>1</td>\n",
       "      <td>1</td>\n",
       "      <td>1</td>\n",
       "    </tr>\n",
       "  </tbody>\n",
       "</table>\n",
       "</div>"
      ],
      "text/plain": [
       "    fn  fv  m  s\n",
       "fn   1   1  0  1\n",
       "fv   1   1  1  1\n",
       "m    0   1  1  1\n",
       "s    1   1  1  1"
      ]
     },
     "execution_count": 162,
     "metadata": {},
     "output_type": "execute_result"
    }
   ],
   "source": [
    "labels = ['fn', 'fv', 'm', 's']\n",
    "tukeys_hsd(labels, fn['iLT'], fv['iLT'], m['iLT'], s['iLT'])"
   ]
  },
  {
   "cell_type": "code",
   "execution_count": 163,
   "id": "74f38525",
   "metadata": {},
   "outputs": [
    {
     "name": "stdout",
     "output_type": "stream",
     "text": [
      "499.40401933066994 1.3222257433723959e-234\n"
     ]
    }
   ],
   "source": [
    "f, p = stats.f_oneway(fn['eLT'].to_numpy(), fv['eLT'].to_numpy(), m['eLT'].to_numpy(), s['eLT'].to_numpy())\n",
    "print(f, p)"
   ]
  },
  {
   "cell_type": "code",
   "execution_count": 164,
   "id": "2c0fc85d",
   "metadata": {},
   "outputs": [
    {
     "data": {
      "text/plain": [
       "0.45614344049415295"
      ]
     },
     "execution_count": 164,
     "metadata": {},
     "output_type": "execute_result"
    }
   ],
   "source": [
    "omega_squared(fn['eLT'], fv['eLT'], m['eLT'], s['eLT'])"
   ]
  },
  {
   "cell_type": "code",
   "execution_count": 165,
   "id": "e18e441c",
   "metadata": {
    "scrolled": true
   },
   "outputs": [
    {
     "data": {
      "text/html": [
       "<div>\n",
       "<style scoped>\n",
       "    .dataframe tbody tr th:only-of-type {\n",
       "        vertical-align: middle;\n",
       "    }\n",
       "\n",
       "    .dataframe tbody tr th {\n",
       "        vertical-align: top;\n",
       "    }\n",
       "\n",
       "    .dataframe thead th {\n",
       "        text-align: right;\n",
       "    }\n",
       "</style>\n",
       "<table border=\"1\" class=\"dataframe\">\n",
       "  <thead>\n",
       "    <tr style=\"text-align: right;\">\n",
       "      <th></th>\n",
       "      <th>fn</th>\n",
       "      <th>fv</th>\n",
       "      <th>m</th>\n",
       "      <th>s</th>\n",
       "    </tr>\n",
       "  </thead>\n",
       "  <tbody>\n",
       "    <tr>\n",
       "      <th>fn</th>\n",
       "      <td>1</td>\n",
       "      <td>1</td>\n",
       "      <td>1</td>\n",
       "      <td>1</td>\n",
       "    </tr>\n",
       "    <tr>\n",
       "      <th>fv</th>\n",
       "      <td>1</td>\n",
       "      <td>1</td>\n",
       "      <td>0</td>\n",
       "      <td>1</td>\n",
       "    </tr>\n",
       "    <tr>\n",
       "      <th>m</th>\n",
       "      <td>1</td>\n",
       "      <td>0</td>\n",
       "      <td>1</td>\n",
       "      <td>1</td>\n",
       "    </tr>\n",
       "    <tr>\n",
       "      <th>s</th>\n",
       "      <td>1</td>\n",
       "      <td>1</td>\n",
       "      <td>1</td>\n",
       "      <td>1</td>\n",
       "    </tr>\n",
       "  </tbody>\n",
       "</table>\n",
       "</div>"
      ],
      "text/plain": [
       "    fn  fv  m  s\n",
       "fn   1   1  1  1\n",
       "fv   1   1  0  1\n",
       "m    1   0  1  1\n",
       "s    1   1  1  1"
      ]
     },
     "execution_count": 165,
     "metadata": {},
     "output_type": "execute_result"
    }
   ],
   "source": [
    "labels = ['fn', 'fv', 'm', 's']\n",
    "tukeys_hsd(labels, fn['eLT'], fv['eLT'], m['eLT'], s['eLT'])"
   ]
  },
  {
   "cell_type": "code",
   "execution_count": 166,
   "id": "9e97514b",
   "metadata": {},
   "outputs": [
    {
     "name": "stdout",
     "output_type": "stream",
     "text": [
      "561.0193734561486 1.1697730318611595e-255\n"
     ]
    }
   ],
   "source": [
    "f, p = stats.f_oneway(fn['aLT'].to_numpy(), fv['aLT'].to_numpy(), m['aLT'].to_numpy(), s['aLT'].to_numpy())\n",
    "print(f, p)"
   ]
  },
  {
   "cell_type": "code",
   "execution_count": 167,
   "id": "031de594",
   "metadata": {},
   "outputs": [
    {
     "data": {
      "text/plain": [
       "0.4853412466326952"
      ]
     },
     "execution_count": 167,
     "metadata": {},
     "output_type": "execute_result"
    }
   ],
   "source": [
    "omega_squared(fn['aLT'], fv['aLT'], m['aLT'], s['aLT'])"
   ]
  },
  {
   "cell_type": "code",
   "execution_count": 168,
   "id": "54d22f4b",
   "metadata": {
    "scrolled": true
   },
   "outputs": [
    {
     "data": {
      "text/html": [
       "<div>\n",
       "<style scoped>\n",
       "    .dataframe tbody tr th:only-of-type {\n",
       "        vertical-align: middle;\n",
       "    }\n",
       "\n",
       "    .dataframe tbody tr th {\n",
       "        vertical-align: top;\n",
       "    }\n",
       "\n",
       "    .dataframe thead th {\n",
       "        text-align: right;\n",
       "    }\n",
       "</style>\n",
       "<table border=\"1\" class=\"dataframe\">\n",
       "  <thead>\n",
       "    <tr style=\"text-align: right;\">\n",
       "      <th></th>\n",
       "      <th>fn</th>\n",
       "      <th>fv</th>\n",
       "      <th>m</th>\n",
       "      <th>s</th>\n",
       "    </tr>\n",
       "  </thead>\n",
       "  <tbody>\n",
       "    <tr>\n",
       "      <th>fn</th>\n",
       "      <td>1</td>\n",
       "      <td>0</td>\n",
       "      <td>0</td>\n",
       "      <td>1</td>\n",
       "    </tr>\n",
       "    <tr>\n",
       "      <th>fv</th>\n",
       "      <td>0</td>\n",
       "      <td>1</td>\n",
       "      <td>1</td>\n",
       "      <td>1</td>\n",
       "    </tr>\n",
       "    <tr>\n",
       "      <th>m</th>\n",
       "      <td>0</td>\n",
       "      <td>1</td>\n",
       "      <td>1</td>\n",
       "      <td>1</td>\n",
       "    </tr>\n",
       "    <tr>\n",
       "      <th>s</th>\n",
       "      <td>1</td>\n",
       "      <td>1</td>\n",
       "      <td>1</td>\n",
       "      <td>1</td>\n",
       "    </tr>\n",
       "  </tbody>\n",
       "</table>\n",
       "</div>"
      ],
      "text/plain": [
       "    fn  fv  m  s\n",
       "fn   1   0  0  1\n",
       "fv   0   1  1  1\n",
       "m    0   1  1  1\n",
       "s    1   1  1  1"
      ]
     },
     "execution_count": 168,
     "metadata": {},
     "output_type": "execute_result"
    }
   ],
   "source": [
    "labels = ['fn', 'fv', 'm', 's']\n",
    "tukeys_hsd(labels, fn['aLT'], fv['aLT'], m['aLT'], s['aLT'])"
   ]
  },
  {
   "cell_type": "code",
   "execution_count": 169,
   "id": "be08e5fe",
   "metadata": {},
   "outputs": [
    {
     "name": "stdout",
     "output_type": "stream",
     "text": [
      "1241.954370059063 0.0\n"
     ]
    }
   ],
   "source": [
    "f, p = stats.f_oneway(fn['pLT'].to_numpy(), fv['pLT'].to_numpy(), m['pLT'].to_numpy(), s['pLT'].to_numpy())\n",
    "print(f, p)"
   ]
  },
  {
   "cell_type": "code",
   "execution_count": 170,
   "id": "9cf4b3cb",
   "metadata": {},
   "outputs": [
    {
     "data": {
      "text/plain": [
       "0.6769879298095055"
      ]
     },
     "execution_count": 170,
     "metadata": {},
     "output_type": "execute_result"
    }
   ],
   "source": [
    "omega_squared(fn['pLT'], fv['pLT'], m['pLT'], s['pLT'])"
   ]
  },
  {
   "cell_type": "code",
   "execution_count": 171,
   "id": "e10afcf4",
   "metadata": {
    "scrolled": true
   },
   "outputs": [
    {
     "data": {
      "text/html": [
       "<div>\n",
       "<style scoped>\n",
       "    .dataframe tbody tr th:only-of-type {\n",
       "        vertical-align: middle;\n",
       "    }\n",
       "\n",
       "    .dataframe tbody tr th {\n",
       "        vertical-align: top;\n",
       "    }\n",
       "\n",
       "    .dataframe thead th {\n",
       "        text-align: right;\n",
       "    }\n",
       "</style>\n",
       "<table border=\"1\" class=\"dataframe\">\n",
       "  <thead>\n",
       "    <tr style=\"text-align: right;\">\n",
       "      <th></th>\n",
       "      <th>fn</th>\n",
       "      <th>fv</th>\n",
       "      <th>m</th>\n",
       "      <th>s</th>\n",
       "    </tr>\n",
       "  </thead>\n",
       "  <tbody>\n",
       "    <tr>\n",
       "      <th>fn</th>\n",
       "      <td>1</td>\n",
       "      <td>1</td>\n",
       "      <td>1</td>\n",
       "      <td>1</td>\n",
       "    </tr>\n",
       "    <tr>\n",
       "      <th>fv</th>\n",
       "      <td>1</td>\n",
       "      <td>1</td>\n",
       "      <td>1</td>\n",
       "      <td>1</td>\n",
       "    </tr>\n",
       "    <tr>\n",
       "      <th>m</th>\n",
       "      <td>1</td>\n",
       "      <td>1</td>\n",
       "      <td>1</td>\n",
       "      <td>1</td>\n",
       "    </tr>\n",
       "    <tr>\n",
       "      <th>s</th>\n",
       "      <td>1</td>\n",
       "      <td>1</td>\n",
       "      <td>1</td>\n",
       "      <td>1</td>\n",
       "    </tr>\n",
       "  </tbody>\n",
       "</table>\n",
       "</div>"
      ],
      "text/plain": [
       "    fn  fv  m  s\n",
       "fn   1   1  1  1\n",
       "fv   1   1  1  1\n",
       "m    1   1  1  1\n",
       "s    1   1  1  1"
      ]
     },
     "execution_count": 171,
     "metadata": {},
     "output_type": "execute_result"
    }
   ],
   "source": [
    "labels = ['fn', 'fv', 'm', 's']\n",
    "tukeys_hsd(labels, fn['pLT'], fv['pLT'], m['pLT'], s['pLT'])"
   ]
  },
  {
   "cell_type": "code",
   "execution_count": 172,
   "id": "c59a01fd",
   "metadata": {},
   "outputs": [
    {
     "name": "stdout",
     "output_type": "stream",
     "text": [
      "88.07687274770888 4.313198011498197e-53\n"
     ]
    }
   ],
   "source": [
    "f, p = stats.f_oneway(fn['cMT'].to_numpy(), fv['cMT'].to_numpy(), m['cMT'].to_numpy(), s['cMT'].to_numpy())\n",
    "print(f, p)"
   ]
  },
  {
   "cell_type": "code",
   "execution_count": 173,
   "id": "be9f55c1",
   "metadata": {},
   "outputs": [
    {
     "data": {
      "text/plain": [
       "0.1246056728763657"
      ]
     },
     "execution_count": 173,
     "metadata": {},
     "output_type": "execute_result"
    }
   ],
   "source": [
    "omega_squared(fn['cMT'], fv['cMT'], m['cMT'], s['cMT'])"
   ]
  },
  {
   "cell_type": "code",
   "execution_count": 174,
   "id": "7d0fac23",
   "metadata": {
    "scrolled": true
   },
   "outputs": [
    {
     "data": {
      "text/html": [
       "<div>\n",
       "<style scoped>\n",
       "    .dataframe tbody tr th:only-of-type {\n",
       "        vertical-align: middle;\n",
       "    }\n",
       "\n",
       "    .dataframe tbody tr th {\n",
       "        vertical-align: top;\n",
       "    }\n",
       "\n",
       "    .dataframe thead th {\n",
       "        text-align: right;\n",
       "    }\n",
       "</style>\n",
       "<table border=\"1\" class=\"dataframe\">\n",
       "  <thead>\n",
       "    <tr style=\"text-align: right;\">\n",
       "      <th></th>\n",
       "      <th>fn</th>\n",
       "      <th>fv</th>\n",
       "      <th>m</th>\n",
       "      <th>s</th>\n",
       "    </tr>\n",
       "  </thead>\n",
       "  <tbody>\n",
       "    <tr>\n",
       "      <th>fn</th>\n",
       "      <td>1</td>\n",
       "      <td>1</td>\n",
       "      <td>0</td>\n",
       "      <td>1</td>\n",
       "    </tr>\n",
       "    <tr>\n",
       "      <th>fv</th>\n",
       "      <td>1</td>\n",
       "      <td>1</td>\n",
       "      <td>1</td>\n",
       "      <td>1</td>\n",
       "    </tr>\n",
       "    <tr>\n",
       "      <th>m</th>\n",
       "      <td>0</td>\n",
       "      <td>1</td>\n",
       "      <td>1</td>\n",
       "      <td>1</td>\n",
       "    </tr>\n",
       "    <tr>\n",
       "      <th>s</th>\n",
       "      <td>1</td>\n",
       "      <td>1</td>\n",
       "      <td>1</td>\n",
       "      <td>1</td>\n",
       "    </tr>\n",
       "  </tbody>\n",
       "</table>\n",
       "</div>"
      ],
      "text/plain": [
       "    fn  fv  m  s\n",
       "fn   1   1  0  1\n",
       "fv   1   1  1  1\n",
       "m    0   1  1  1\n",
       "s    1   1  1  1"
      ]
     },
     "execution_count": 174,
     "metadata": {},
     "output_type": "execute_result"
    }
   ],
   "source": [
    "labels = ['fn', 'fv', 'm', 's']\n",
    "tukeys_hsd(labels, fn['cMT'], fv['cMT'], m['cMT'], s['cMT'])"
   ]
  },
  {
   "cell_type": "code",
   "execution_count": 175,
   "id": "9eeab0c1",
   "metadata": {},
   "outputs": [
    {
     "name": "stdout",
     "output_type": "stream",
     "text": [
      "510.0576702424299 2.494735365673414e-238\n"
     ]
    }
   ],
   "source": [
    "f, p = stats.f_oneway(fn['iMT'].to_numpy(), fv['iMT'].to_numpy(), m['iMT'].to_numpy(), s['iMT'].to_numpy())\n",
    "print(f, p)"
   ]
  },
  {
   "cell_type": "code",
   "execution_count": 176,
   "id": "30d45c00",
   "metadata": {},
   "outputs": [
    {
     "data": {
      "text/plain": [
       "0.46142649817424014"
      ]
     },
     "execution_count": 176,
     "metadata": {},
     "output_type": "execute_result"
    }
   ],
   "source": [
    "omega_squared(fn['iMT'], fv['iMT'], m['iMT'], s['iMT'])"
   ]
  },
  {
   "cell_type": "code",
   "execution_count": 177,
   "id": "4b102448",
   "metadata": {
    "scrolled": true
   },
   "outputs": [
    {
     "data": {
      "text/html": [
       "<div>\n",
       "<style scoped>\n",
       "    .dataframe tbody tr th:only-of-type {\n",
       "        vertical-align: middle;\n",
       "    }\n",
       "\n",
       "    .dataframe tbody tr th {\n",
       "        vertical-align: top;\n",
       "    }\n",
       "\n",
       "    .dataframe thead th {\n",
       "        text-align: right;\n",
       "    }\n",
       "</style>\n",
       "<table border=\"1\" class=\"dataframe\">\n",
       "  <thead>\n",
       "    <tr style=\"text-align: right;\">\n",
       "      <th></th>\n",
       "      <th>fn</th>\n",
       "      <th>fv</th>\n",
       "      <th>m</th>\n",
       "      <th>s</th>\n",
       "    </tr>\n",
       "  </thead>\n",
       "  <tbody>\n",
       "    <tr>\n",
       "      <th>fn</th>\n",
       "      <td>1</td>\n",
       "      <td>1</td>\n",
       "      <td>0</td>\n",
       "      <td>1</td>\n",
       "    </tr>\n",
       "    <tr>\n",
       "      <th>fv</th>\n",
       "      <td>1</td>\n",
       "      <td>1</td>\n",
       "      <td>1</td>\n",
       "      <td>1</td>\n",
       "    </tr>\n",
       "    <tr>\n",
       "      <th>m</th>\n",
       "      <td>0</td>\n",
       "      <td>1</td>\n",
       "      <td>1</td>\n",
       "      <td>1</td>\n",
       "    </tr>\n",
       "    <tr>\n",
       "      <th>s</th>\n",
       "      <td>1</td>\n",
       "      <td>1</td>\n",
       "      <td>1</td>\n",
       "      <td>1</td>\n",
       "    </tr>\n",
       "  </tbody>\n",
       "</table>\n",
       "</div>"
      ],
      "text/plain": [
       "    fn  fv  m  s\n",
       "fn   1   1  0  1\n",
       "fv   1   1  1  1\n",
       "m    0   1  1  1\n",
       "s    1   1  1  1"
      ]
     },
     "execution_count": 177,
     "metadata": {},
     "output_type": "execute_result"
    }
   ],
   "source": [
    "labels = ['fn', 'fv', 'm', 's']\n",
    "tukeys_hsd(labels, fn['iMT'], fv['iMT'], m['iMT'], s['iMT'])"
   ]
  },
  {
   "cell_type": "code",
   "execution_count": 178,
   "id": "be2cce77",
   "metadata": {},
   "outputs": [
    {
     "name": "stdout",
     "output_type": "stream",
     "text": [
      "302.07504636399926 4.1539906999341e-158\n"
     ]
    }
   ],
   "source": [
    "f, p = stats.f_oneway(fn['eMT'].to_numpy(), fv['eMT'].to_numpy(), m['eMT'].to_numpy(), s['eMT'].to_numpy())\n",
    "print(f, p)"
   ]
  },
  {
   "cell_type": "code",
   "execution_count": 179,
   "id": "148684b8",
   "metadata": {},
   "outputs": [
    {
     "data": {
      "text/plain": [
       "0.3353899586276247"
      ]
     },
     "execution_count": 179,
     "metadata": {},
     "output_type": "execute_result"
    }
   ],
   "source": [
    "omega_squared(fn['eMT'], fv['eMT'], m['eMT'], s['eMT'])"
   ]
  },
  {
   "cell_type": "code",
   "execution_count": 180,
   "id": "34354fb5",
   "metadata": {
    "scrolled": true
   },
   "outputs": [
    {
     "data": {
      "text/html": [
       "<div>\n",
       "<style scoped>\n",
       "    .dataframe tbody tr th:only-of-type {\n",
       "        vertical-align: middle;\n",
       "    }\n",
       "\n",
       "    .dataframe tbody tr th {\n",
       "        vertical-align: top;\n",
       "    }\n",
       "\n",
       "    .dataframe thead th {\n",
       "        text-align: right;\n",
       "    }\n",
       "</style>\n",
       "<table border=\"1\" class=\"dataframe\">\n",
       "  <thead>\n",
       "    <tr style=\"text-align: right;\">\n",
       "      <th></th>\n",
       "      <th>fn</th>\n",
       "      <th>fv</th>\n",
       "      <th>m</th>\n",
       "      <th>s</th>\n",
       "    </tr>\n",
       "  </thead>\n",
       "  <tbody>\n",
       "    <tr>\n",
       "      <th>fn</th>\n",
       "      <td>1</td>\n",
       "      <td>0</td>\n",
       "      <td>1</td>\n",
       "      <td>1</td>\n",
       "    </tr>\n",
       "    <tr>\n",
       "      <th>fv</th>\n",
       "      <td>0</td>\n",
       "      <td>1</td>\n",
       "      <td>0</td>\n",
       "      <td>1</td>\n",
       "    </tr>\n",
       "    <tr>\n",
       "      <th>m</th>\n",
       "      <td>1</td>\n",
       "      <td>0</td>\n",
       "      <td>1</td>\n",
       "      <td>1</td>\n",
       "    </tr>\n",
       "    <tr>\n",
       "      <th>s</th>\n",
       "      <td>1</td>\n",
       "      <td>1</td>\n",
       "      <td>1</td>\n",
       "      <td>1</td>\n",
       "    </tr>\n",
       "  </tbody>\n",
       "</table>\n",
       "</div>"
      ],
      "text/plain": [
       "    fn  fv  m  s\n",
       "fn   1   0  1  1\n",
       "fv   0   1  0  1\n",
       "m    1   0  1  1\n",
       "s    1   1  1  1"
      ]
     },
     "execution_count": 180,
     "metadata": {},
     "output_type": "execute_result"
    }
   ],
   "source": [
    "labels = ['fn', 'fv', 'm', 's']\n",
    "tukeys_hsd(labels, fn['eMT'], fv['eMT'], m['eMT'], s['eMT'])"
   ]
  },
  {
   "cell_type": "code",
   "execution_count": 181,
   "id": "021fca29",
   "metadata": {},
   "outputs": [
    {
     "name": "stdout",
     "output_type": "stream",
     "text": [
      "247.15909808730228 8.859950645625314e-134\n"
     ]
    }
   ],
   "source": [
    "f, p = stats.f_oneway(fn['aMT'].to_numpy(), fv['aMT'].to_numpy(), m['aMT'].to_numpy(), s['aMT'].to_numpy())\n",
    "print(f, p)"
   ]
  },
  {
   "cell_type": "code",
   "execution_count": 182,
   "id": "408891c2",
   "metadata": {},
   "outputs": [
    {
     "data": {
      "text/plain": [
       "0.2916185951138721"
      ]
     },
     "execution_count": 182,
     "metadata": {},
     "output_type": "execute_result"
    }
   ],
   "source": [
    "omega_squared(fn['aMT'], fv['aMT'], m['aMT'], s['aMT'])"
   ]
  },
  {
   "cell_type": "code",
   "execution_count": 183,
   "id": "ee8413ba",
   "metadata": {
    "scrolled": true
   },
   "outputs": [
    {
     "data": {
      "text/html": [
       "<div>\n",
       "<style scoped>\n",
       "    .dataframe tbody tr th:only-of-type {\n",
       "        vertical-align: middle;\n",
       "    }\n",
       "\n",
       "    .dataframe tbody tr th {\n",
       "        vertical-align: top;\n",
       "    }\n",
       "\n",
       "    .dataframe thead th {\n",
       "        text-align: right;\n",
       "    }\n",
       "</style>\n",
       "<table border=\"1\" class=\"dataframe\">\n",
       "  <thead>\n",
       "    <tr style=\"text-align: right;\">\n",
       "      <th></th>\n",
       "      <th>fn</th>\n",
       "      <th>fv</th>\n",
       "      <th>m</th>\n",
       "      <th>s</th>\n",
       "    </tr>\n",
       "  </thead>\n",
       "  <tbody>\n",
       "    <tr>\n",
       "      <th>fn</th>\n",
       "      <td>1</td>\n",
       "      <td>1</td>\n",
       "      <td>0</td>\n",
       "      <td>1</td>\n",
       "    </tr>\n",
       "    <tr>\n",
       "      <th>fv</th>\n",
       "      <td>1</td>\n",
       "      <td>1</td>\n",
       "      <td>1</td>\n",
       "      <td>1</td>\n",
       "    </tr>\n",
       "    <tr>\n",
       "      <th>m</th>\n",
       "      <td>0</td>\n",
       "      <td>1</td>\n",
       "      <td>1</td>\n",
       "      <td>1</td>\n",
       "    </tr>\n",
       "    <tr>\n",
       "      <th>s</th>\n",
       "      <td>1</td>\n",
       "      <td>1</td>\n",
       "      <td>1</td>\n",
       "      <td>1</td>\n",
       "    </tr>\n",
       "  </tbody>\n",
       "</table>\n",
       "</div>"
      ],
      "text/plain": [
       "    fn  fv  m  s\n",
       "fn   1   1  0  1\n",
       "fv   1   1  1  1\n",
       "m    0   1  1  1\n",
       "s    1   1  1  1"
      ]
     },
     "execution_count": 183,
     "metadata": {},
     "output_type": "execute_result"
    }
   ],
   "source": [
    "labels = ['fn', 'fv', 'm', 's']\n",
    "tukeys_hsd(labels, fn['aMT'], fv['aMT'], m['aMT'], s['aMT'])"
   ]
  },
  {
   "cell_type": "code",
   "execution_count": 184,
   "id": "b80ce17c",
   "metadata": {},
   "outputs": [
    {
     "name": "stdout",
     "output_type": "stream",
     "text": [
      "216.63769439011023 1.4776807649172038e-119\n"
     ]
    }
   ],
   "source": [
    "f, p = stats.f_oneway(fn['pMT'].to_numpy(), fv['pMT'].to_numpy(), m['pMT'].to_numpy(), s['pMT'].to_numpy())\n",
    "print(f, p)"
   ]
  },
  {
   "cell_type": "code",
   "execution_count": 185,
   "id": "c6b32b7a",
   "metadata": {},
   "outputs": [
    {
     "data": {
      "text/plain": [
       "0.2647037719431494"
      ]
     },
     "execution_count": 185,
     "metadata": {},
     "output_type": "execute_result"
    }
   ],
   "source": [
    "omega_squared(fn['pMT'], fv['pMT'], m['pMT'], s['pMT'])"
   ]
  },
  {
   "cell_type": "code",
   "execution_count": 186,
   "id": "51999918",
   "metadata": {
    "scrolled": true
   },
   "outputs": [
    {
     "data": {
      "text/html": [
       "<div>\n",
       "<style scoped>\n",
       "    .dataframe tbody tr th:only-of-type {\n",
       "        vertical-align: middle;\n",
       "    }\n",
       "\n",
       "    .dataframe tbody tr th {\n",
       "        vertical-align: top;\n",
       "    }\n",
       "\n",
       "    .dataframe thead th {\n",
       "        text-align: right;\n",
       "    }\n",
       "</style>\n",
       "<table border=\"1\" class=\"dataframe\">\n",
       "  <thead>\n",
       "    <tr style=\"text-align: right;\">\n",
       "      <th></th>\n",
       "      <th>fn</th>\n",
       "      <th>fv</th>\n",
       "      <th>m</th>\n",
       "      <th>s</th>\n",
       "    </tr>\n",
       "  </thead>\n",
       "  <tbody>\n",
       "    <tr>\n",
       "      <th>fn</th>\n",
       "      <td>1</td>\n",
       "      <td>1</td>\n",
       "      <td>1</td>\n",
       "      <td>1</td>\n",
       "    </tr>\n",
       "    <tr>\n",
       "      <th>fv</th>\n",
       "      <td>1</td>\n",
       "      <td>1</td>\n",
       "      <td>1</td>\n",
       "      <td>1</td>\n",
       "    </tr>\n",
       "    <tr>\n",
       "      <th>m</th>\n",
       "      <td>1</td>\n",
       "      <td>1</td>\n",
       "      <td>1</td>\n",
       "      <td>1</td>\n",
       "    </tr>\n",
       "    <tr>\n",
       "      <th>s</th>\n",
       "      <td>1</td>\n",
       "      <td>1</td>\n",
       "      <td>1</td>\n",
       "      <td>1</td>\n",
       "    </tr>\n",
       "  </tbody>\n",
       "</table>\n",
       "</div>"
      ],
      "text/plain": [
       "    fn  fv  m  s\n",
       "fn   1   1  1  1\n",
       "fv   1   1  1  1\n",
       "m    1   1  1  1\n",
       "s    1   1  1  1"
      ]
     },
     "execution_count": 186,
     "metadata": {},
     "output_type": "execute_result"
    }
   ],
   "source": [
    "labels = ['fn', 'fv', 'm', 's']\n",
    "tukeys_hsd(labels, fn['pMT'], fv['pMT'], m['pMT'], s['pMT'])"
   ]
  },
  {
   "cell_type": "code",
   "execution_count": null,
   "id": "81cd5768",
   "metadata": {},
   "outputs": [],
   "source": []
  }
 ],
 "metadata": {
  "kernelspec": {
   "display_name": "Python 3 (ipykernel)",
   "language": "python",
   "name": "python3"
  },
  "language_info": {
   "codemirror_mode": {
    "name": "ipython",
    "version": 3
   },
   "file_extension": ".py",
   "mimetype": "text/x-python",
   "name": "python",
   "nbconvert_exporter": "python",
   "pygments_lexer": "ipython3",
   "version": "3.9.5"
  }
 },
 "nbformat": 4,
 "nbformat_minor": 5
}
