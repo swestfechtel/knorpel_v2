{
 "cells": [
  {
   "cell_type": "code",
   "execution_count": 1,
   "id": "1a154b29",
   "metadata": {},
   "outputs": [],
   "source": [
    "from scipy import stats\n",
    "import numpy as np\n",
    "import pandas as pd\n",
    "import scikit_posthocs as sp"
   ]
  },
  {
   "cell_type": "code",
   "execution_count": 2,
   "id": "d7c0612b",
   "metadata": {},
   "outputs": [],
   "source": [
    "fn01 = pd.read_csv('../results/function_normals_01.csv')\n",
    "fn234 = pd.read_csv('../results/function_normals_234.csv')\n",
    "\n",
    "fv01 = pd.read_csv('../results/function_values_01.csv')\n",
    "fv234 = pd.read_csv('../results/function_values_234.csv')\n",
    "\n",
    "m01 = pd.read_csv('../results/mesh_01.csv')\n",
    "m234 = pd.read_csv('../results/mesh_234.csv')\n",
    "\n",
    "s01 = pd.read_csv('../results/sphere_01.csv')\n",
    "s234 = pd.read_csv('../results/sphere_234.csv')"
   ]
  },
  {
   "cell_type": "code",
   "execution_count": 3,
   "id": "44385650",
   "metadata": {},
   "outputs": [],
   "source": [
    "fn = pd.concat([fn01, fn234])\n",
    "fv = pd.concat([fv01, fv234])\n",
    "m = pd.concat([m01, m234])\n",
    "s = pd.concat([s01, s234])"
   ]
  },
  {
   "cell_type": "code",
   "execution_count": 4,
   "id": "5b9dc6a2",
   "metadata": {},
   "outputs": [],
   "source": [
    "fn01.set_index('dir', inplace=True)\n",
    "fv01.set_index('dir', inplace=True)\n",
    "m01.set_index('dir', inplace=True)\n",
    "s01.set_index('dir', inplace=True)\n",
    "\n",
    "fn234.set_index('dir', inplace=True)\n",
    "fv234.set_index('dir', inplace=True)\n",
    "m234.set_index('dir', inplace=True)\n",
    "s234.set_index('dir', inplace=True)"
   ]
  },
  {
   "cell_type": "code",
   "execution_count": 5,
   "id": "04717f5f",
   "metadata": {},
   "outputs": [],
   "source": [
    "fn.set_index('dir', inplace=True)\n",
    "fv.set_index('dir', inplace=True)\n",
    "m.set_index('dir', inplace=True)\n",
    "s.set_index('dir', inplace=True)"
   ]
  },
  {
   "cell_type": "markdown",
   "id": "5d527553",
   "metadata": {},
   "source": [
    "## Filter outliers ($\\geq$ 5 standard deviations in positive direction)"
   ]
  },
  {
   "cell_type": "code",
   "execution_count": 6,
   "id": "722a23c2",
   "metadata": {},
   "outputs": [],
   "source": [
    "fn01 = fn01[fn01.isna().any(axis=1) == False]\n",
    "fv01 = fv01[fv01.isna().any(axis=1) == False]\n",
    "m01 = m01[m01.isna().any(axis=1) == False]\n",
    "s01 = s01[s01.isna().any(axis=1) == False]\n",
    "\n",
    "fn234 = fn234[fn234.isna().any(axis=1) == False]\n",
    "fv234 = fv234[fv234.isna().any(axis=1) == False]\n",
    "m234 = m234[m234.isna().any(axis=1) == False]\n",
    "s234 = s234[s234.isna().any(axis=1) == False]\n",
    "\n",
    "fn01 = fn01[(stats.zscore(fn01) < 5).all(axis=1)]\n",
    "fv01 = fv01[(stats.zscore(fv01) < 5).all(axis=1)]\n",
    "m01 = m01[(stats.zscore(m01) < 5).all(axis=1)]\n",
    "s01 = s01[(stats.zscore(s01) < 5).all(axis=1)]\n",
    "\n",
    "fn234 = fn234[(stats.zscore(fn234) < 5).all(axis=1)]\n",
    "fv234 = fv234[(stats.zscore(fv234) < 5).all(axis=1)]\n",
    "m234 = m234[(stats.zscore(m234) < 5).all(axis=1)]\n",
    "s234 = s234[(stats.zscore(s234) < 5).all(axis=1)]\n",
    "\n",
    "intersection = fn01.index.intersection(fv01.index.intersection(m01.index.intersection(s01.index)))\n",
    "fn01 = fn01.loc[intersection]\n",
    "fv01 = fv01.loc[intersection]\n",
    "m01 = m01.loc[intersection]\n",
    "s01 = s01.loc[intersection]\n",
    "\n",
    "intersection = fn234.index.intersection(fv234.index.intersection(m234.index.intersection(s234.index)))\n",
    "fn234 = fn234.loc[intersection]\n",
    "fv234 = fv234.loc[intersection]\n",
    "m234 = m234.loc[intersection]\n",
    "s234 = s234.loc[intersection]"
   ]
  },
  {
   "cell_type": "code",
   "execution_count": 7,
   "id": "207ac6cc",
   "metadata": {},
   "outputs": [],
   "source": [
    "fn = fn[fn.isna().any(axis=1) == False]\n",
    "fv = fv[fv.isna().any(axis=1) == False]\n",
    "m = m[m.isna().any(axis=1) == False]\n",
    "s = s[s.isna().any(axis=1) == False]"
   ]
  },
  {
   "cell_type": "code",
   "execution_count": 8,
   "id": "99babc8e",
   "metadata": {},
   "outputs": [
    {
     "name": "stdout",
     "output_type": "stream",
     "text": [
      "Filtered out 22 instances.\n"
     ]
    }
   ],
   "source": [
    "numrows = fn.shape[0]\n",
    "fn = fn[(stats.zscore(fn) < 5).all(axis=1)]\n",
    "print(f'Filtered out {numrows - fn.shape[0]} instances.')"
   ]
  },
  {
   "cell_type": "code",
   "execution_count": 9,
   "id": "246332c5",
   "metadata": {},
   "outputs": [
    {
     "name": "stdout",
     "output_type": "stream",
     "text": [
      "Filtered out 8 instances.\n"
     ]
    }
   ],
   "source": [
    "numrows = fv.shape[0]\n",
    "fv = fv[(stats.zscore(fv) < 5).all(axis=1)]\n",
    "print(f'Filtered out {numrows - fv.shape[0]} instances.')"
   ]
  },
  {
   "cell_type": "code",
   "execution_count": 10,
   "id": "bc0c1acd",
   "metadata": {},
   "outputs": [
    {
     "name": "stdout",
     "output_type": "stream",
     "text": [
      "Filtered out 11 instances.\n"
     ]
    }
   ],
   "source": [
    "numrows = m.shape[0]\n",
    "m = m[(stats.zscore(m) < 5).all(axis=1)]\n",
    "print(f'Filtered out {numrows - m.shape[0]} instances.')"
   ]
  },
  {
   "cell_type": "code",
   "execution_count": 11,
   "id": "b461bc65",
   "metadata": {},
   "outputs": [
    {
     "name": "stdout",
     "output_type": "stream",
     "text": [
      "Filtered out 21 instances.\n"
     ]
    }
   ],
   "source": [
    "numrows = s.shape[0]\n",
    "s = s[(stats.zscore(s) < 5).all(axis=1)]\n",
    "print(f'Filtered out {numrows - s.shape[0]} instances.')"
   ]
  },
  {
   "cell_type": "markdown",
   "id": "ec0d277e",
   "metadata": {},
   "source": [
    "Compute intersection of dataframes"
   ]
  },
  {
   "cell_type": "code",
   "execution_count": 12,
   "id": "b4dc7667",
   "metadata": {},
   "outputs": [],
   "source": [
    "intersection = fn.index.intersection(fv.index.intersection(m.index.intersection(s.index)))"
   ]
  },
  {
   "cell_type": "code",
   "execution_count": 13,
   "id": "d26131f9",
   "metadata": {},
   "outputs": [],
   "source": [
    "fn = fn.loc[intersection]\n",
    "fv = fv.loc[intersection]\n",
    "m = m.loc[intersection]\n",
    "s = s.loc[intersection]"
   ]
  },
  {
   "cell_type": "code",
   "execution_count": 14,
   "id": "96765c4e",
   "metadata": {},
   "outputs": [],
   "source": [
    "assert fn.shape == fv.shape == m.shape == s.shape"
   ]
  },
  {
   "cell_type": "markdown",
   "id": "723251c6",
   "metadata": {},
   "source": [
    "# Explorative data analysis"
   ]
  },
  {
   "cell_type": "code",
   "execution_count": 15,
   "id": "15722742",
   "metadata": {},
   "outputs": [],
   "source": [
    "from matplotlib import pyplot as plt"
   ]
  },
  {
   "cell_type": "markdown",
   "id": "bf805c2d",
   "metadata": {},
   "source": [
    "## Central weight-bearing femur"
   ]
  },
  {
   "cell_type": "code",
   "execution_count": 16,
   "id": "207d5443",
   "metadata": {},
   "outputs": [
    {
     "data": {
      "image/png": "[encoded data removed]",
      "text/plain": [
       "<Figure size 432x288 with 1 Axes>"
      ]
     },
     "metadata": {
      "needs_background": "light"
     },
     "output_type": "display_data"
    }
   ],
   "source": [
    "fig, ax = plt.subplots()\n",
    "ax.boxplot([fn['ccLF'], fv['ccLF'], m['ccLF'], s['ccLF']])\n",
    "ax.set_xticklabels(['fun_norms', 'fun_vals', 'mesh', 'sphere'])\n",
    "plt.show()"
   ]
  },
  {
   "cell_type": "code",
   "execution_count": 17,
   "id": "dcb4444e",
   "metadata": {},
   "outputs": [
    {
     "data": {
      "image/png": "[encoded data removed]",
      "text/plain": [
       "<Figure size 432x288 with 1 Axes>"
      ]
     },
     "metadata": {
      "needs_background": "light"
     },
     "output_type": "display_data"
    }
   ],
   "source": [
    "fig, ax = plt.subplots()\n",
    "ax.boxplot([fn['icLF'], fv['icLF'], m['icLF'], s['icLF']])\n",
    "ax.set_xticklabels(['fun_norms', 'fun_vals', 'mesh', 'sphere'])\n",
    "plt.show()"
   ]
  },
  {
   "cell_type": "code",
   "execution_count": 18,
   "id": "ef3073ff",
   "metadata": {},
   "outputs": [
    {
     "data": {
      "image/png": "[encoded data removed]",
      "text/plain": [
       "<Figure size 432x288 with 1 Axes>"
      ]
     },
     "metadata": {
      "needs_background": "light"
     },
     "output_type": "display_data"
    }
   ],
   "source": [
    "fig, ax = plt.subplots()\n",
    "ax.boxplot([fn['ecLF'], fv['ecLF'], m['ecLF'], s['ecLF']])\n",
    "ax.set_xticklabels(['fun_norms', 'fun_vals', 'mesh', 'sphere'])\n",
    "plt.show()"
   ]
  },
  {
   "cell_type": "code",
   "execution_count": 19,
   "id": "c345b326",
   "metadata": {},
   "outputs": [
    {
     "data": {
      "image/png": "[encoded data removed]",
      "text/plain": [
       "<Figure size 432x288 with 1 Axes>"
      ]
     },
     "metadata": {
      "needs_background": "light"
     },
     "output_type": "display_data"
    }
   ],
   "source": [
    "fig, ax = plt.subplots()\n",
    "ax.boxplot([fn['ccMF'], fv['ccMF'], m['ccMF'], s['ccMF']])\n",
    "ax.set_xticklabels(['fun_norms', 'fun_vals', 'mesh', 'sphere'])\n",
    "plt.show()"
   ]
  },
  {
   "cell_type": "code",
   "execution_count": 20,
   "id": "7125efb7",
   "metadata": {},
   "outputs": [
    {
     "data": {
      "image/png": "[encoded data removed]",
      "text/plain": [
       "<Figure size 432x288 with 1 Axes>"
      ]
     },
     "metadata": {
      "needs_background": "light"
     },
     "output_type": "display_data"
    }
   ],
   "source": [
    "fig, ax = plt.subplots()\n",
    "ax.boxplot([fn['icMF'], fv['icMF'], m['icMF'], s['icMF']])\n",
    "ax.set_xticklabels(['fun_norms', 'fun_vals', 'mesh', 'sphere'])\n",
    "plt.show()"
   ]
  },
  {
   "cell_type": "code",
   "execution_count": 21,
   "id": "fea774b5",
   "metadata": {},
   "outputs": [
    {
     "data": {
      "image/png": "[encoded data removed]",
      "text/plain": [
       "<Figure size 432x288 with 1 Axes>"
      ]
     },
     "metadata": {
      "needs_background": "light"
     },
     "output_type": "display_data"
    }
   ],
   "source": [
    "fig, ax = plt.subplots()\n",
    "ax.boxplot([fn['ecMF'], fv['ecMF'], m['ecMF'], s['ecMF']])\n",
    "ax.set_xticklabels(['fun_norms', 'fun_vals', 'mesh', 'sphere'])\n",
    "plt.show()"
   ]
  },
  {
   "cell_type": "code",
   "execution_count": 22,
   "id": "3270c9e0",
   "metadata": {},
   "outputs": [
    {
     "data": {
      "image/png": "[encoded data removed]",
      "text/plain": [
       "<Figure size 432x288 with 1 Axes>"
      ]
     },
     "metadata": {
      "needs_background": "light"
     },
     "output_type": "display_data"
    }
   ],
   "source": [
    "fig, ax = plt.subplots()\n",
    "ax.boxplot([fn['icLF'], fv['icLF'], m['icLF'], s['icLF']])\n",
    "ax.set_xticklabels(['fun_norms', 'fun_vals', 'mesh', 'sphere'])\n",
    "plt.show()"
   ]
  },
  {
   "cell_type": "markdown",
   "id": "52fb7211",
   "metadata": {},
   "source": [
    "## anterior and posterior femur"
   ]
  },
  {
   "cell_type": "code",
   "execution_count": 23,
   "id": "a7a02fb8",
   "metadata": {},
   "outputs": [
    {
     "data": {
      "image/png": "[encoded data removed]",
      "text/plain": [
       "<Figure size 432x288 with 1 Axes>"
      ]
     },
     "metadata": {
      "needs_background": "light"
     },
     "output_type": "display_data"
    }
   ],
   "source": [
    "fig, ax = plt.subplots()\n",
    "ax.boxplot([fn['aLF'], fv['aLF'], m['aLF'], s['aLF']])\n",
    "ax.set_xticklabels(['fun_norms', 'fun_vals', 'mesh', 'sphere'])\n",
    "plt.show()"
   ]
  },
  {
   "cell_type": "code",
   "execution_count": 24,
   "id": "f0a790ca",
   "metadata": {},
   "outputs": [
    {
     "data": {
      "image/png": "[encoded data removed]",
      "text/plain": [
       "<Figure size 432x288 with 1 Axes>"
      ]
     },
     "metadata": {
      "needs_background": "light"
     },
     "output_type": "display_data"
    }
   ],
   "source": [
    "fig, ax = plt.subplots()\n",
    "ax.boxplot([fn['aMF'], fv['aMF'], m['aMF'], s['aMF']])\n",
    "ax.set_xticklabels(['fun_norms', 'fun_vals', 'mesh', 'sphere'])\n",
    "plt.show()"
   ]
  },
  {
   "cell_type": "code",
   "execution_count": 25,
   "id": "e08aa69c",
   "metadata": {},
   "outputs": [
    {
     "data": {
      "image/png": "[encoded data removed]",
      "text/plain": [
       "<Figure size 432x288 with 1 Axes>"
      ]
     },
     "metadata": {
      "needs_background": "light"
     },
     "output_type": "display_data"
    }
   ],
   "source": [
    "fig, ax = plt.subplots()\n",
    "ax.boxplot([fn['pLF'], fv['pLF'], m['pLF'], s['pLF']])\n",
    "ax.set_xticklabels(['fun_norms', 'fun_vals', 'mesh', 'sphere'])\n",
    "plt.show()"
   ]
  },
  {
   "cell_type": "code",
   "execution_count": 26,
   "id": "c1f92b26",
   "metadata": {},
   "outputs": [
    {
     "data": {
      "image/png": "[encoded data removed]",
      "text/plain": [
       "<Figure size 432x288 with 1 Axes>"
      ]
     },
     "metadata": {
      "needs_background": "light"
     },
     "output_type": "display_data"
    }
   ],
   "source": [
    "fig, ax = plt.subplots()\n",
    "ax.boxplot([fn['pMF'], fv['pMF'], m['pMF'], s['pMF']])\n",
    "ax.set_xticklabels(['fun_norms', 'fun_vals', 'mesh', 'sphere'])\n",
    "plt.show()"
   ]
  },
  {
   "cell_type": "markdown",
   "id": "a34168cb",
   "metadata": {},
   "source": [
    "## lateral tibia"
   ]
  },
  {
   "cell_type": "code",
   "execution_count": 27,
   "id": "3e84180e",
   "metadata": {},
   "outputs": [
    {
     "data": {
      "image/png": "[encoded data removed]",
      "text/plain": [
       "<Figure size 432x288 with 1 Axes>"
      ]
     },
     "metadata": {
      "needs_background": "light"
     },
     "output_type": "display_data"
    }
   ],
   "source": [
    "fig, ax = plt.subplots()\n",
    "ax.boxplot([fn['cLT'], fv['cLT'], m['cLT'], s['cLT']])\n",
    "ax.set_xticklabels(['fun_norms', 'fun_vals', 'mesh', 'sphere'])\n",
    "plt.show()"
   ]
  },
  {
   "cell_type": "code",
   "execution_count": 28,
   "id": "50b31dac",
   "metadata": {},
   "outputs": [
    {
     "data": {
      "image/png": "[encoded data removed]",
      "text/plain": [
       "<Figure size 432x288 with 1 Axes>"
      ]
     },
     "metadata": {
      "needs_background": "light"
     },
     "output_type": "display_data"
    }
   ],
   "source": [
    "fig, ax = plt.subplots()\n",
    "ax.boxplot([fn['iLT'], fv['iLT'], m['iLT'], s['iLT']])\n",
    "ax.set_xticklabels(['fun_norms', 'fun_vals', 'mesh', 'sphere'])\n",
    "plt.show()"
   ]
  },
  {
   "cell_type": "code",
   "execution_count": 29,
   "id": "e2f5f926",
   "metadata": {},
   "outputs": [
    {
     "data": {
      "image/png": "[encoded data removed]",
      "text/plain": [
       "<Figure size 432x288 with 1 Axes>"
      ]
     },
     "metadata": {
      "needs_background": "light"
     },
     "output_type": "display_data"
    }
   ],
   "source": [
    "fig, ax = plt.subplots()\n",
    "ax.boxplot([fn['eLT'], fv['eLT'], m['eLT'], s['eLT']])\n",
    "ax.set_xticklabels(['fun_norms', 'fun_vals', 'mesh', 'sphere'])\n",
    "plt.show()"
   ]
  },
  {
   "cell_type": "code",
   "execution_count": 30,
   "id": "bcf8d1a7",
   "metadata": {},
   "outputs": [
    {
     "data": {
      "image/png": "[encoded data removed]",
      "text/plain": [
       "<Figure size 432x288 with 1 Axes>"
      ]
     },
     "metadata": {
      "needs_background": "light"
     },
     "output_type": "display_data"
    }
   ],
   "source": [
    "fig, ax = plt.subplots()\n",
    "ax.boxplot([fn['aLT'], fv['aLT'], m['aLT'], s['aLT']])\n",
    "ax.set_xticklabels(['fun_norms', 'fun_vals', 'mesh', 'sphere'])\n",
    "plt.show()"
   ]
  },
  {
   "cell_type": "code",
   "execution_count": 31,
   "id": "091abe3d",
   "metadata": {},
   "outputs": [
    {
     "data": {
      "image/png": "[encoded data removed]",
      "text/plain": [
       "<Figure size 432x288 with 1 Axes>"
      ]
     },
     "metadata": {
      "needs_background": "light"
     },
     "output_type": "display_data"
    }
   ],
   "source": [
    "fig, ax = plt.subplots()\n",
    "ax.boxplot([fn['pLT'], fv['pLT'], m['pLT'], s['pLT']])\n",
    "ax.set_xticklabels(['fun_norms', 'fun_vals', 'mesh', 'sphere'])\n",
    "plt.show()"
   ]
  },
  {
   "cell_type": "markdown",
   "id": "6f3d1abb",
   "metadata": {},
   "source": [
    "## medial tibia"
   ]
  },
  {
   "cell_type": "code",
   "execution_count": 32,
   "id": "f9979de3",
   "metadata": {},
   "outputs": [
    {
     "data": {
      "image/png": "[encoded data removed]",
      "text/plain": [
       "<Figure size 432x288 with 1 Axes>"
      ]
     },
     "metadata": {
      "needs_background": "light"
     },
     "output_type": "display_data"
    }
   ],
   "source": [
    "fig, ax = plt.subplots()\n",
    "ax.boxplot([fn['cMT'], fv['cMT'], m['cMT'], s['cMT']])\n",
    "ax.set_xticklabels(['fun_norms', 'fun_vals', 'mesh', 'sphere'])\n",
    "plt.show()"
   ]
  },
  {
   "cell_type": "code",
   "execution_count": 33,
   "id": "043f7720",
   "metadata": {},
   "outputs": [
    {
     "data": {
      "image/png": "[encoded data removed]",
      "text/plain": [
       "<Figure size 432x288 with 1 Axes>"
      ]
     },
     "metadata": {
      "needs_background": "light"
     },
     "output_type": "display_data"
    }
   ],
   "source": [
    "fig, ax = plt.subplots()\n",
    "ax.boxplot([fn['iMT'], fv['iMT'], m['iMT'], s['iMT']])\n",
    "ax.set_xticklabels(['fun_norms', 'fun_vals', 'mesh', 'sphere'])\n",
    "plt.show()"
   ]
  },
  {
   "cell_type": "code",
   "execution_count": 34,
   "id": "861b1c8e",
   "metadata": {},
   "outputs": [
    {
     "data": {
      "image/png": "[encoded data removed]",
      "text/plain": [
       "<Figure size 432x288 with 1 Axes>"
      ]
     },
     "metadata": {
      "needs_background": "light"
     },
     "output_type": "display_data"
    }
   ],
   "source": [
    "fig, ax = plt.subplots()\n",
    "ax.boxplot([fn['eMT'], fv['eMT'], m['eMT'], s['eMT']])\n",
    "ax.set_xticklabels(['fun_norms', 'fun_vals', 'mesh', 'sphere'])\n",
    "plt.show()"
   ]
  },
  {
   "cell_type": "code",
   "execution_count": 35,
   "id": "ad5d38c7",
   "metadata": {},
   "outputs": [
    {
     "data": {
      "image/png": "[encoded data removed]",
      "text/plain": [
       "<Figure size 432x288 with 1 Axes>"
      ]
     },
     "metadata": {
      "needs_background": "light"
     },
     "output_type": "display_data"
    }
   ],
   "source": [
    "fig, ax = plt.subplots()\n",
    "ax.boxplot([fn['aMT'], fv['aMT'], m['aMT'], s['aMT']])\n",
    "ax.set_xticklabels(['fun_norms', 'fun_vals', 'mesh', 'sphere'])\n",
    "plt.show()"
   ]
  },
  {
   "cell_type": "code",
   "execution_count": 36,
   "id": "d73f5e16",
   "metadata": {},
   "outputs": [
    {
     "data": {
      "image/png": "[encoded data removed]",
      "text/plain": [
       "<Figure size 432x288 with 1 Axes>"
      ]
     },
     "metadata": {
      "needs_background": "light"
     },
     "output_type": "display_data"
    }
   ],
   "source": [
    "fig, ax = plt.subplots()\n",
    "ax.boxplot([fn['pMT'], fv['pMT'], m['pMT'], s['pMT']])\n",
    "ax.set_xticklabels(['fun_norms', 'fun_vals', 'mesh', 'sphere'])\n",
    "plt.show()"
   ]
  },
  {
   "cell_type": "markdown",
   "id": "60f49155",
   "metadata": {},
   "source": [
    "## Comparison between rOA grades 0,1 and 2,3,4"
   ]
  },
  {
   "cell_type": "code",
   "execution_count": 37,
   "id": "426b9863",
   "metadata": {
    "scrolled": false
   },
   "outputs": [
    {
     "data": {
      "image/png": "[encoded data removed]",
      "text/plain": [
       "<Figure size 1440x720 with 1 Axes>"
      ]
     },
     "metadata": {
      "needs_background": "light"
     },
     "output_type": "display_data"
    }
   ],
   "source": [
    "fig, ax = plt.subplots(figsize=(20,10))\n",
    "ax.boxplot([fn01['ccLF'], fn234['ccLF'], fv01['ccLF'], fv234['ccLF'], m01['ccLF'], m234['ccLF'], s01['ccLF'], s234['ccLF']])\n",
    "ax.set_xticklabels(['fun_norms01', 'fun_norms234', 'fun_vals01', 'fun_vals234', 'mesh01', 'mesh234', 'sphere01', 'sphere234'])\n",
    "plt.show()"
   ]
  },
  {
   "cell_type": "code",
   "execution_count": 39,
   "id": "a5c71ec9",
   "metadata": {
    "scrolled": false
   },
   "outputs": [
    {
     "data": {
      "image/png": "[encoded data removed]",
      "text/plain": [
       "<Figure size 1440x720 with 1 Axes>"
      ]
     },
     "metadata": {
      "needs_background": "light"
     },
     "output_type": "display_data"
    }
   ],
   "source": [
    "fig, ax = plt.subplots(figsize=(20,10))\n",
    "ax.boxplot([fn01['ecLF'], fn234['ecLF'], fv01['ecLF'], fv234['ecLF'], m01['ecLF'], m234['ecLF'], s01['ecLF'], s234['ecLF']])\n",
    "ax.set_xticklabels(['fun_norms01', 'fun_norms234', 'fun_vals01', 'fun_vals234', 'mesh01', 'mesh234', 'sphere01', 'sphere234'])\n",
    "plt.show()"
   ]
  },
  {
   "cell_type": "code",
   "execution_count": 40,
   "id": "28362e6a",
   "metadata": {
    "scrolled": false
   },
   "outputs": [
    {
     "data": {
      "image/png": "[encoded data removed]",
      "text/plain": [
       "<Figure size 1440x720 with 1 Axes>"
      ]
     },
     "metadata": {
      "needs_background": "light"
     },
     "output_type": "display_data"
    }
   ],
   "source": [
    "fig, ax = plt.subplots(figsize=(20,10))\n",
    "ax.boxplot([fn01['icLF'], fn234['icLF'], fv01['icLF'], fv234['icLF'], m01['icLF'], m234['icLF'], s01['icLF'], s234['icLF']])\n",
    "ax.set_xticklabels(['fun_norms01', 'fun_norms234', 'fun_vals01', 'fun_vals234', 'mesh01', 'mesh234', 'sphere01', 'sphere234'])\n",
    "plt.show()"
   ]
  },
  {
   "cell_type": "code",
   "execution_count": 41,
   "id": "6a7c5347",
   "metadata": {
    "scrolled": false
   },
   "outputs": [
    {
     "data": {
      "image/png": "[encoded data removed]",
      "text/plain": [
       "<Figure size 1440x720 with 1 Axes>"
      ]
     },
     "metadata": {
      "needs_background": "light"
     },
     "output_type": "display_data"
    }
   ],
   "source": [
    "fig, ax = plt.subplots(figsize=(20,10))\n",
    "ax.boxplot([fn01['ccMF'], fn234['ccMF'], fv01['ccMF'], fv234['ccMF'], m01['ccMF'], m234['ccMF'], s01['ccMF'], s234['ccMF']])\n",
    "ax.set_xticklabels(['fun_norms01', 'fun_norms234', 'fun_vals01', 'fun_vals234', 'mesh01', 'mesh234', 'sphere01', 'sphere234'])\n",
    "plt.show()"
   ]
  },
  {
   "cell_type": "code",
   "execution_count": 42,
   "id": "1ff3b54a",
   "metadata": {
    "scrolled": false
   },
   "outputs": [
    {
     "data": {
      "image/png": "[encoded data removed]",
      "text/plain": [
       "<Figure size 1440x720 with 1 Axes>"
      ]
     },
     "metadata": {
      "needs_background": "light"
     },
     "output_type": "display_data"
    }
   ],
   "source": [
    "fig, ax = plt.subplots(figsize=(20,10))\n",
    "ax.boxplot([fn01['ecMF'], fn234['ecMF'], fv01['ecMF'], fv234['ecMF'], m01['ecMF'], m234['ecMF'], s01['ecMF'], s234['ecMF']])\n",
    "ax.set_xticklabels(['fun_norms01', 'fun_norms234', 'fun_vals01', 'fun_vals234', 'mesh01', 'mesh234', 'sphere01', 'sphere234'])\n",
    "plt.show()"
   ]
  },
  {
   "cell_type": "code",
   "execution_count": 43,
   "id": "325eff05",
   "metadata": {
    "scrolled": false
   },
   "outputs": [
    {
     "data": {
      "image/png": "[encoded data removed]",
      "text/plain": [
       "<Figure size 1440x720 with 1 Axes>"
      ]
     },
     "metadata": {
      "needs_background": "light"
     },
     "output_type": "display_data"
    }
   ],
   "source": [
    "fig, ax = plt.subplots(figsize=(20,10))\n",
    "ax.boxplot([fn01['icMF'], fn234['icMF'], fv01['icMF'], fv234['icMF'], m01['icMF'], m234['icMF'], s01['icMF'], s234['icMF']])\n",
    "ax.set_xticklabels(['fun_norms01', 'fun_norms234', 'fun_vals01', 'fun_vals234', 'mesh01', 'mesh234', 'sphere01', 'sphere234'])\n",
    "plt.show()"
   ]
  },
  {
   "cell_type": "code",
   "execution_count": 44,
   "id": "17817e50",
   "metadata": {
    "scrolled": false
   },
   "outputs": [
    {
     "data": {
      "image/png": "[encoded data removed]",
      "text/plain": [
       "<Figure size 1440x720 with 1 Axes>"
      ]
     },
     "metadata": {
      "needs_background": "light"
     },
     "output_type": "display_data"
    }
   ],
   "source": [
    "fig, ax = plt.subplots(figsize=(20,10))\n",
    "ax.boxplot([fn01['cLT'], fn234['cLT'], fv01['cLT'], fv234['cLT'], m01['cLT'], m234['cLT'], s01['cLT'], s234['cLT']])\n",
    "ax.set_xticklabels(['fun_norms01', 'fun_norms234', 'fun_vals01', 'fun_vals234', 'mesh01', 'mesh234', 'sphere01', 'sphere234'])\n",
    "plt.show()"
   ]
  },
  {
   "cell_type": "code",
   "execution_count": 45,
   "id": "049ec2b1",
   "metadata": {
    "scrolled": false
   },
   "outputs": [
    {
     "data": {
      "image/png": "[encoded data removed]",
      "text/plain": [
       "<Figure size 1440x720 with 1 Axes>"
      ]
     },
     "metadata": {
      "needs_background": "light"
     },
     "output_type": "display_data"
    }
   ],
   "source": [
    "fig, ax = plt.subplots(figsize=(20,10))\n",
    "ax.boxplot([fn01['iLT'], fn234['iLT'], fv01['iLT'], fv234['iLT'], m01['iLT'], m234['iLT'], s01['iLT'], s234['iLT']])\n",
    "ax.set_xticklabels(['fun_norms01', 'fun_norms234', 'fun_vals01', 'fun_vals234', 'mesh01', 'mesh234', 'sphere01', 'sphere234'])\n",
    "plt.show()"
   ]
  },
  {
   "cell_type": "code",
   "execution_count": 46,
   "id": "7aa50bbf",
   "metadata": {
    "scrolled": false
   },
   "outputs": [
    {
     "data": {
      "image/png": "[encoded data removed]",
      "text/plain": [
       "<Figure size 1440x720 with 1 Axes>"
      ]
     },
     "metadata": {
      "needs_background": "light"
     },
     "output_type": "display_data"
    }
   ],
   "source": [
    "fig, ax = plt.subplots(figsize=(20,10))\n",
    "ax.boxplot([fn01['eLT'], fn234['eLT'], fv01['eLT'], fv234['eLT'], m01['eLT'], m234['eLT'], s01['eLT'], s234['eLT']])\n",
    "ax.set_xticklabels(['fun_norms01', 'fun_norms234', 'fun_vals01', 'fun_vals234', 'mesh01', 'mesh234', 'sphere01', 'sphere234'])\n",
    "plt.show()"
   ]
  },
  {
   "cell_type": "code",
   "execution_count": 47,
   "id": "095d0683",
   "metadata": {
    "scrolled": false
   },
   "outputs": [
    {
     "data": {
      "image/png": "[encoded data removed]",
      "text/plain": [
       "<Figure size 1440x720 with 1 Axes>"
      ]
     },
     "metadata": {
      "needs_background": "light"
     },
     "output_type": "display_data"
    }
   ],
   "source": [
    "fig, ax = plt.subplots(figsize=(20,10))\n",
    "ax.boxplot([fn01['aLT'], fn234['aLT'], fv01['aLT'], fv234['aLT'], m01['aLT'], m234['aLT'], s01['aLT'], s234['aLT']])\n",
    "ax.set_xticklabels(['fun_norms01', 'fun_norms234', 'fun_vals01', 'fun_vals234', 'mesh01', 'mesh234', 'sphere01', 'sphere234'])\n",
    "plt.show()"
   ]
  },
  {
   "cell_type": "code",
   "execution_count": 48,
   "id": "009b7442",
   "metadata": {
    "scrolled": false
   },
   "outputs": [
    {
     "data": {
      "image/png": "[encoded data removed]",
      "text/plain": [
       "<Figure size 1440x720 with 1 Axes>"
      ]
     },
     "metadata": {
      "needs_background": "light"
     },
     "output_type": "display_data"
    }
   ],
   "source": [
    "fig, ax = plt.subplots(figsize=(20,10))\n",
    "ax.boxplot([fn01['pLT'], fn234['pLT'], fv01['pLT'], fv234['pLT'], m01['pLT'], m234['pLT'], s01['pLT'], s234['pLT']])\n",
    "ax.set_xticklabels(['fun_norms01', 'fun_norms234', 'fun_vals01', 'fun_vals234', 'mesh01', 'mesh234', 'sphere01', 'sphere234'])\n",
    "plt.show()"
   ]
  },
  {
   "cell_type": "code",
   "execution_count": 49,
   "id": "1adbf8c9",
   "metadata": {
    "scrolled": false
   },
   "outputs": [
    {
     "data": {
      "image/png": "[encoded data removed]",
      "text/plain": [
       "<Figure size 1440x720 with 1 Axes>"
      ]
     },
     "metadata": {
      "needs_background": "light"
     },
     "output_type": "display_data"
    }
   ],
   "source": [
    "fig, ax = plt.subplots(figsize=(20,10))\n",
    "ax.boxplot([fn01['cMT'], fn234['cMT'], fv01['cMT'], fv234['cMT'], m01['cMT'], m234['cMT'], s01['cMT'], s234['cMT']])\n",
    "ax.set_xticklabels(['fun_norms01', 'fun_norms234', 'fun_vals01', 'fun_vals234', 'mesh01', 'mesh234', 'sphere01', 'sphere234'])\n",
    "plt.show()"
   ]
  },
  {
   "cell_type": "code",
   "execution_count": 50,
   "id": "e5c72ddf",
   "metadata": {
    "scrolled": false
   },
   "outputs": [
    {
     "data": {
      "image/png": "[encoded data removed]",
      "text/plain": [
       "<Figure size 1440x720 with 1 Axes>"
      ]
     },
     "metadata": {
      "needs_background": "light"
     },
     "output_type": "display_data"
    }
   ],
   "source": [
    "fig, ax = plt.subplots(figsize=(20,10))\n",
    "ax.boxplot([fn01['iMT'], fn234['iMT'], fv01['iMT'], fv234['iMT'], m01['iMT'], m234['iMT'], s01['iMT'], s234['iMT']])\n",
    "ax.set_xticklabels(['fun_norms01', 'fun_norms234', 'fun_vals01', 'fun_vals234', 'mesh01', 'mesh234', 'sphere01', 'sphere234'])\n",
    "plt.show()"
   ]
  },
  {
   "cell_type": "code",
   "execution_count": 51,
   "id": "cb8e8a22",
   "metadata": {
    "scrolled": false
   },
   "outputs": [
    {
     "data": {
      "image/png": "[encoded data removed]",
      "text/plain": [
       "<Figure size 1440x720 with 1 Axes>"
      ]
     },
     "metadata": {
      "needs_background": "light"
     },
     "output_type": "display_data"
    }
   ],
   "source": [
    "fig, ax = plt.subplots(figsize=(20,10))\n",
    "ax.boxplot([fn01['eMT'], fn234['eMT'], fv01['eMT'], fv234['eMT'], m01['eMT'], m234['eMT'], s01['eMT'], s234['eMT']])\n",
    "ax.set_xticklabels(['fun_norms01', 'fun_norms234', 'fun_vals01', 'fun_vals234', 'mesh01', 'mesh234', 'sphere01', 'sphere234'])\n",
    "plt.show()"
   ]
  },
  {
   "cell_type": "code",
   "execution_count": 52,
   "id": "c6a1c12c",
   "metadata": {
    "scrolled": false
   },
   "outputs": [
    {
     "data": {
      "image/png": "[encoded data removed]",
      "text/plain": [
       "<Figure size 1440x720 with 1 Axes>"
      ]
     },
     "metadata": {
      "needs_background": "light"
     },
     "output_type": "display_data"
    }
   ],
   "source": [
    "fig, ax = plt.subplots(figsize=(20,10))\n",
    "ax.boxplot([fn01['aMT'], fn234['aMT'], fv01['aMT'], fv234['aMT'], m01['aMT'], m234['aMT'], s01['aMT'], s234['aMT']])\n",
    "ax.set_xticklabels(['fun_norms01', 'fun_norms234', 'fun_vals01', 'fun_vals234', 'mesh01', 'mesh234', 'sphere01', 'sphere234'])\n",
    "plt.show()"
   ]
  },
  {
   "cell_type": "code",
   "execution_count": 53,
   "id": "95cec2da",
   "metadata": {
    "scrolled": false
   },
   "outputs": [
    {
     "data": {
      "image/png": "[encoded data removed]",
      "text/plain": [
       "<Figure size 1440x720 with 1 Axes>"
      ]
     },
     "metadata": {
      "needs_background": "light"
     },
     "output_type": "display_data"
    }
   ],
   "source": [
    "fig, ax = plt.subplots(figsize=(20,10))\n",
    "ax.boxplot([fn01['pMT'], fn234['pMT'], fv01['pMT'], fv234['pMT'], m01['pMT'], m234['pMT'], s01['pMT'], s234['pMT']])\n",
    "ax.set_xticklabels(['fun_norms01', 'fun_norms234', 'fun_vals01', 'fun_vals234', 'mesh01', 'mesh234', 'sphere01', 'sphere234'])\n",
    "plt.show()"
   ]
  },
  {
   "cell_type": "markdown",
   "id": "d475ccf4",
   "metadata": {},
   "source": [
    "<hr>"
   ]
  },
  {
   "cell_type": "code",
   "execution_count": 54,
   "id": "844bf4cd",
   "metadata": {},
   "outputs": [],
   "source": [
    "all_cols = ['ecLF', 'ccLF', 'icLF', 'ecMF', 'ccMF', 'icMF', 'aLF', 'aMF', 'pLF', 'pMF', \n",
    "           'cLT', 'iLT', 'eLT', 'aLT', 'pLT', 'cMT', 'iMT', 'eMT', 'aMT', 'pMT']\n",
    "\n",
    "lf_cols = ['ecLF', 'ccLF', 'icLF', 'aLF', 'pLF']\n",
    "mf_cols = ['ecMF', 'ccMF', 'icMF', 'aMF', 'pMF']\n",
    "lt_cols = ['cLT', 'iLT', 'eLT', 'aLT', 'pLT']\n",
    "mt_cols = ['cMT', 'iMT', 'eMT', 'aMT', 'pMT']"
   ]
  },
  {
   "cell_type": "code",
   "execution_count": 55,
   "id": "b3bda6a4",
   "metadata": {},
   "outputs": [],
   "source": [
    "fn_all_regions_mean = fn[all_cols].apply(np.mean, axis=1)\n",
    "fv_all_regions_mean = fv[all_cols].apply(np.mean, axis=1)\n",
    "m_all_regions_mean = m[all_cols].apply(np.mean, axis=1)\n",
    "s_all_regions_mean = s[all_cols].apply(np.mean, axis=1)"
   ]
  },
  {
   "cell_type": "code",
   "execution_count": 56,
   "id": "1086429f",
   "metadata": {},
   "outputs": [],
   "source": [
    "fn_lf_mean = fn[lf_cols].apply(np.mean, axis=1)\n",
    "fn_mf_mean = fn[mf_cols].apply(np.mean, axis=1)\n",
    "fn_lt_mean = fn[lt_cols].apply(np.mean, axis=1)\n",
    "fn_mt_mean = fn[mt_cols].apply(np.mean, axis=1)"
   ]
  },
  {
   "cell_type": "code",
   "execution_count": 57,
   "id": "0178a55e",
   "metadata": {},
   "outputs": [],
   "source": [
    "fv_lf_mean = fv[lf_cols].apply(np.mean, axis=1)\n",
    "fv_mf_mean = fv[mf_cols].apply(np.mean, axis=1)\n",
    "fv_lt_mean = fv[lt_cols].apply(np.mean, axis=1)\n",
    "fv_mt_mean = fv[mt_cols].apply(np.mean, axis=1)"
   ]
  },
  {
   "cell_type": "code",
   "execution_count": 58,
   "id": "aecbea92",
   "metadata": {},
   "outputs": [],
   "source": [
    "m_lf_mean = m[lf_cols].apply(np.mean, axis=1)\n",
    "m_mf_mean = m[mf_cols].apply(np.mean, axis=1)\n",
    "m_lt_mean = m[lt_cols].apply(np.mean, axis=1)\n",
    "m_mt_mean = m[mt_cols].apply(np.mean, axis=1)"
   ]
  },
  {
   "cell_type": "code",
   "execution_count": 59,
   "id": "fe08904f",
   "metadata": {},
   "outputs": [],
   "source": [
    "s_lf_mean = s[lf_cols].apply(np.mean, axis=1)\n",
    "s_mf_mean = s[mf_cols].apply(np.mean, axis=1)\n",
    "s_lt_mean = s[lt_cols].apply(np.mean, axis=1)\n",
    "s_mt_mean = s[mt_cols].apply(np.mean, axis=1)"
   ]
  },
  {
   "cell_type": "code",
   "execution_count": 60,
   "id": "0c2e3f0f",
   "metadata": {},
   "outputs": [],
   "source": [
    "fn_all_regions = fn[all_cols]\n",
    "fv_all_regions = fv[all_cols]\n",
    "m_all_regions = m[all_cols]\n",
    "s_all_regions = s[all_cols]"
   ]
  },
  {
   "cell_type": "markdown",
   "id": "f68a0b79",
   "metadata": {},
   "source": [
    "# T-test for rOA 0,1 vs 2,3,4"
   ]
  },
  {
   "cell_type": "code",
   "execution_count": 159,
   "id": "def66502",
   "metadata": {},
   "outputs": [],
   "source": [
    "roa_01_overall_mean = (fn01[all_cols] + fv01[all_cols] + m01[all_cols] + s01[all_cols]) / 4\n",
    "roa_234_overall_mean = (fn234[all_cols] + fv234[all_cols] + m234[all_cols] + s234[all_cols]) / 4"
   ]
  },
  {
   "cell_type": "code",
   "execution_count": 160,
   "id": "e2656a4c",
   "metadata": {},
   "outputs": [
    {
     "data": {
      "text/plain": [
       "Ttest_indResult(statistic=-0.2720886350513451, pvalue=0.7856985956582944)"
      ]
     },
     "execution_count": 160,
     "metadata": {},
     "output_type": "execute_result"
    }
   ],
   "source": [
    "roa_01_fold = roa_01_overall_mean.apply(np.mean, axis=1)\n",
    "roa_234_fold = roa_234_overall_mean.apply(np.mean, axis=1)\n",
    "stats.ttest_ind_from_stats(roa_01_fold.mean(), roa_01_fold.std(), roa_01_fold.shape[0], roa_234_fold.mean(), roa_234_fold.std(), roa_234_fold.shape[0])"
   ]
  },
  {
   "cell_type": "code",
   "execution_count": 163,
   "id": "e2415f28",
   "metadata": {},
   "outputs": [
    {
     "data": {
      "text/plain": [
       "-1.6487903176773229"
      ]
     },
     "execution_count": 163,
     "metadata": {},
     "output_type": "execute_result"
    }
   ],
   "source": [
    "stats.t.ppf(.05, roa_01_fold.shape[0] + roa_234_fold.shape[0] - 2)"
   ]
  },
  {
   "cell_type": "code",
   "execution_count": 164,
   "id": "70b1e57c",
   "metadata": {},
   "outputs": [
    {
     "name": "stdout",
     "output_type": "stream",
     "text": [
      "2.0780455111167435 2.0857087387091404\n"
     ]
    }
   ],
   "source": [
    "print(roa_01_fold.mean(), roa_234_fold.mean())"
   ]
  },
  {
   "cell_type": "code",
   "execution_count": 168,
   "id": "f6b1acbe",
   "metadata": {},
   "outputs": [],
   "source": [
    "df = roa_01_overall_mean.shape[0] + roa_234_overall_mean.shape[0] - 2\n",
    "sigdif = stats.ttest_ind(roa_01_overall_mean.to_numpy(), roa_234_overall_mean.to_numpy())[0] >= stats.t.ppf(.05, df)"
   ]
  },
  {
   "cell_type": "code",
   "execution_count": 172,
   "id": "3c81d8ba",
   "metadata": {},
   "outputs": [
    {
     "data": {
      "text/plain": [
       "Index(['ecLF', 'ccLF', 'icLF', 'ecMF', 'ccMF', 'icMF', 'aLF', 'pLF', 'cLT',\n",
       "       'eLT', 'cMT', 'iMT', 'eMT', 'pMT'],\n",
       "      dtype='object')"
      ]
     },
     "execution_count": 172,
     "metadata": {},
     "output_type": "execute_result"
    }
   ],
   "source": [
    "roa_01_overall_mean.columns[sigdif]"
   ]
  },
  {
   "cell_type": "markdown",
   "id": "08c15dc7",
   "metadata": {},
   "source": [
    "# ANOVA for mean over all regions"
   ]
  },
  {
   "cell_type": "markdown",
   "id": "2b5ac619",
   "metadata": {},
   "source": [
    "$$H_0: \\mu_{fn} = \\mu_{fv} = \\mu_{m} = \\mu_{s}$$ "
   ]
  },
  {
   "cell_type": "code",
   "execution_count": 61,
   "id": "33bb3f6c",
   "metadata": {},
   "outputs": [
    {
     "name": "stdout",
     "output_type": "stream",
     "text": [
      "757.5586921840005 1.2541029217904408e-304\n"
     ]
    }
   ],
   "source": [
    "f, p = stats.f_oneway(fn_all_regions_mean.to_numpy(), fv_all_regions_mean.to_numpy(), m_all_regions_mean.to_numpy(), s_all_regions_mean.to_numpy())\n",
    "print(f, p)"
   ]
  },
  {
   "cell_type": "code",
   "execution_count": 62,
   "id": "595588e6",
   "metadata": {},
   "outputs": [
    {
     "name": "stdout",
     "output_type": "stream",
     "text": [
      "2.6105629753207253 1572 3\n"
     ]
    }
   ],
   "source": [
    "df_within = 4 * (len(fn_all_regions_mean.to_numpy()) - 1)\n",
    "df_between = 4 - 1\n",
    "\n",
    "f_crit = stats.f.ppf(q=.95, dfn=df_between, dfd=df_within)\n",
    "print(f_crit, df_within, df_between)"
   ]
  },
  {
   "cell_type": "markdown",
   "id": "9592dc9c",
   "metadata": {},
   "source": [
    "$F(2,1290) = 665.77 > F_{crit} = 2.61$ $\\rightarrow$ Reject $H_0$"
   ]
  },
  {
   "cell_type": "markdown",
   "id": "5f5d1cc2",
   "metadata": {},
   "source": [
    "### effect size with $\\omega^2$"
   ]
  },
  {
   "cell_type": "markdown",
   "id": "9e31605f",
   "metadata": {},
   "source": [
    "$$\\omega^2 = \\frac{SS_{between} - (p - 1) \\cdot \\hat{\\sigma}^2_{within}}{SS_{total} + \\hat{\\sigma}^2_{within}}$$\n",
    "where\n",
    "$$SS_{between} = n \\cdot \\sum_{1}^{p}(\\bar{X}_i - \\bar{X})^2$$\n",
    "$$SS_{within} = \\sum_{1}^{p}\\sum_{j}^{k}(x_{ij} - \\bar{X}_i)^2$$\n",
    "$$SS_{total} = SS_{between} + SS_{within}$$\n",
    "$$\\hat{\\sigma}^2_{within} = \\frac{SS_{within}}{n - 1}$$\n",
    "$$n \\:\\text{is the sample size per group}$$\n",
    "$$p \\:\\text{is the number of groups}$$"
   ]
  },
  {
   "cell_type": "code",
   "execution_count": 63,
   "id": "fddde75d",
   "metadata": {},
   "outputs": [],
   "source": [
    "def omega_squared(*samples: pd.core.series.Series) -> float:\n",
    "    tmp = [len(sample) for sample in samples]\n",
    "    assert len(set(tmp)) == 1\n",
    "    \n",
    "    groups = [sample.to_numpy() for sample in samples]\n",
    "    n = len(groups[0])\n",
    "    p = len(groups)\n",
    "    all_mean = np.mean(np.concatenate(groups))\n",
    "    group_means = [np.mean(group) for group in groups]\n",
    "    ss_between = n * sum([(x_i - all_mean)**2 for x_i in group_means])\n",
    "    ss_within = 0\n",
    "    for i in range(p):\n",
    "        ss_within += sum([(x_ij - group_means[i])**2 for x_ij in groups[i]])\n",
    "    \n",
    "    var_within = ss_within / (n - 1)\n",
    "    return (ss_between - (p - 1) * var_within) / (ss_between + ss_within + var_within)"
   ]
  },
  {
   "cell_type": "code",
   "execution_count": 64,
   "id": "ca6f361b",
   "metadata": {},
   "outputs": [
    {
     "data": {
      "text/plain": [
       "0.5873905809650064"
      ]
     },
     "execution_count": 64,
     "metadata": {},
     "output_type": "execute_result"
    }
   ],
   "source": [
    "omega_squared(fn_all_regions_mean, fv_all_regions_mean, m_all_regions_mean, s_all_regions_mean)"
   ]
  },
  {
   "cell_type": "code",
   "execution_count": 65,
   "id": "26b4a707",
   "metadata": {},
   "outputs": [
    {
     "name": "stdout",
     "output_type": "stream",
     "text": [
      "0.5911229012016513\n",
      "0.5873905809650064\n"
     ]
    }
   ],
   "source": [
    "n = len(fn_all_regions_mean.to_numpy())\n",
    "p = 4\n",
    "all_mean = np.mean(np.concatenate((fn_all_regions_mean.to_numpy(), fv_all_regions_mean.to_numpy(), m_all_regions_mean.to_numpy(), s_all_regions_mean.to_numpy())))\n",
    "group_means = [np.mean(fn_all_regions_mean.to_numpy()), np.mean(fv_all_regions_mean.to_numpy()),\n",
    "               np.mean(m_all_regions_mean.to_numpy()), np.mean(s_all_regions_mean.to_numpy())]\n",
    "ss_between = n * sum([(x_i - all_mean)**2 for x_i in group_means])\n",
    "ss_within = sum([(x_ij - group_means[0])**2 for x_ij in fn_all_regions_mean.to_numpy()]) + \\\n",
    "            sum([(x_ij - group_means[1])**2 for x_ij in fv_all_regions_mean.to_numpy()]) + \\\n",
    "            sum([(x_ij - group_means[2])**2 for x_ij in m_all_regions_mean.to_numpy()]) + \\\n",
    "            sum([(x_ij - group_means[3])**2 for x_ij in s_all_regions_mean.to_numpy()])\n",
    "eta_square = ss_between / (ss_between + ss_within)\n",
    "print(eta_square)\n",
    "var_within = ss_within / (n - 1)\n",
    "omega_square = (ss_between - (p - 1) * var_within) / (ss_between + ss_within + var_within)\n",
    "print(omega_square)"
   ]
  },
  {
   "cell_type": "markdown",
   "id": "533281f4",
   "metadata": {},
   "source": [
    "### post-hoc Tukey's HSD"
   ]
  },
  {
   "cell_type": "code",
   "execution_count": 66,
   "id": "b50434cb",
   "metadata": {},
   "outputs": [],
   "source": [
    "def tukeys_hsd(labels: list, *samples: pd.core.series.Series) -> pd.core.frame.DataFrame:\n",
    "    tmp = [len(sample) for sample in samples]\n",
    "    assert len(set(tmp)) == 1\n",
    "    \n",
    "    x = [sample.to_numpy() for sample in samples]\n",
    "    l = len(x[0])\n",
    "    g = [[label] * l for label in labels]\n",
    "    return sp.posthoc_tukey_hsd(x=np.concatenate(x), g=np.concatenate(g), alpha=.05)"
   ]
  },
  {
   "cell_type": "code",
   "execution_count": 67,
   "id": "d307e3fc",
   "metadata": {
    "scrolled": true
   },
   "outputs": [
    {
     "data": {
      "text/html": [
       "<div>\n",
       "<style scoped>\n",
       "    .dataframe tbody tr th:only-of-type {\n",
       "        vertical-align: middle;\n",
       "    }\n",
       "\n",
       "    .dataframe tbody tr th {\n",
       "        vertical-align: top;\n",
       "    }\n",
       "\n",
       "    .dataframe thead th {\n",
       "        text-align: right;\n",
       "    }\n",
       "</style>\n",
       "<table border=\"1\" class=\"dataframe\">\n",
       "  <thead>\n",
       "    <tr style=\"text-align: right;\">\n",
       "      <th></th>\n",
       "      <th>fn</th>\n",
       "      <th>fv</th>\n",
       "      <th>m</th>\n",
       "      <th>s</th>\n",
       "    </tr>\n",
       "  </thead>\n",
       "  <tbody>\n",
       "    <tr>\n",
       "      <th>fn</th>\n",
       "      <td>1</td>\n",
       "      <td>1</td>\n",
       "      <td>1</td>\n",
       "      <td>1</td>\n",
       "    </tr>\n",
       "    <tr>\n",
       "      <th>fv</th>\n",
       "      <td>1</td>\n",
       "      <td>1</td>\n",
       "      <td>1</td>\n",
       "      <td>1</td>\n",
       "    </tr>\n",
       "    <tr>\n",
       "      <th>m</th>\n",
       "      <td>1</td>\n",
       "      <td>1</td>\n",
       "      <td>1</td>\n",
       "      <td>1</td>\n",
       "    </tr>\n",
       "    <tr>\n",
       "      <th>s</th>\n",
       "      <td>1</td>\n",
       "      <td>1</td>\n",
       "      <td>1</td>\n",
       "      <td>1</td>\n",
       "    </tr>\n",
       "  </tbody>\n",
       "</table>\n",
       "</div>"
      ],
      "text/plain": [
       "    fn  fv  m  s\n",
       "fn   1   1  1  1\n",
       "fv   1   1  1  1\n",
       "m    1   1  1  1\n",
       "s    1   1  1  1"
      ]
     },
     "execution_count": 67,
     "metadata": {},
     "output_type": "execute_result"
    }
   ],
   "source": [
    "labels = ['fn', 'fv', 'm', 's']\n",
    "tukeys_hsd(labels, fn_all_regions_mean, fv_all_regions_mean, m_all_regions_mean, s_all_regions_mean)"
   ]
  },
  {
   "cell_type": "code",
   "execution_count": 68,
   "id": "2a88cb2f",
   "metadata": {},
   "outputs": [
    {
     "data": {
      "text/html": [
       "<div>\n",
       "<style scoped>\n",
       "    .dataframe tbody tr th:only-of-type {\n",
       "        vertical-align: middle;\n",
       "    }\n",
       "\n",
       "    .dataframe tbody tr th {\n",
       "        vertical-align: top;\n",
       "    }\n",
       "\n",
       "    .dataframe thead th {\n",
       "        text-align: right;\n",
       "    }\n",
       "</style>\n",
       "<table border=\"1\" class=\"dataframe\">\n",
       "  <thead>\n",
       "    <tr style=\"text-align: right;\">\n",
       "      <th></th>\n",
       "      <th>fn</th>\n",
       "      <th>fv</th>\n",
       "      <th>m</th>\n",
       "      <th>s</th>\n",
       "    </tr>\n",
       "  </thead>\n",
       "  <tbody>\n",
       "    <tr>\n",
       "      <th>fn</th>\n",
       "      <td>1</td>\n",
       "      <td>1</td>\n",
       "      <td>1</td>\n",
       "      <td>1</td>\n",
       "    </tr>\n",
       "    <tr>\n",
       "      <th>fv</th>\n",
       "      <td>1</td>\n",
       "      <td>1</td>\n",
       "      <td>1</td>\n",
       "      <td>1</td>\n",
       "    </tr>\n",
       "    <tr>\n",
       "      <th>m</th>\n",
       "      <td>1</td>\n",
       "      <td>1</td>\n",
       "      <td>1</td>\n",
       "      <td>1</td>\n",
       "    </tr>\n",
       "    <tr>\n",
       "      <th>s</th>\n",
       "      <td>1</td>\n",
       "      <td>1</td>\n",
       "      <td>1</td>\n",
       "      <td>1</td>\n",
       "    </tr>\n",
       "  </tbody>\n",
       "</table>\n",
       "</div>"
      ],
      "text/plain": [
       "    fn  fv  m  s\n",
       "fn   1   1  1  1\n",
       "fv   1   1  1  1\n",
       "m    1   1  1  1\n",
       "s    1   1  1  1"
      ]
     },
     "execution_count": 68,
     "metadata": {},
     "output_type": "execute_result"
    }
   ],
   "source": [
    "x = [fn_all_regions_mean.to_numpy(), fv_all_regions_mean.to_numpy(), m_all_regions_mean.to_numpy(), s_all_regions_mean.to_numpy()]\n",
    "l = len(fn_all_regions_mean.to_numpy())\n",
    "g = [['fn'] * l, ['fv'] * l, ['m'] * l, ['s'] * l]\n",
    "sp.posthoc_tukey_hsd(x=np.concatenate(x), g=np.concatenate(g), alpha=.05)"
   ]
  },
  {
   "cell_type": "markdown",
   "id": "09a93f2f",
   "metadata": {},
   "source": [
    "# ANOVA for mean over lateral/medial femur/tibia"
   ]
  },
  {
   "cell_type": "markdown",
   "id": "9e3c8084",
   "metadata": {},
   "source": [
    "### lateral femur"
   ]
  },
  {
   "cell_type": "code",
   "execution_count": 69,
   "id": "dfd62ef4",
   "metadata": {},
   "outputs": [
    {
     "name": "stdout",
     "output_type": "stream",
     "text": [
      "434.9525878234829 1.0736703226819147e-205\n"
     ]
    }
   ],
   "source": [
    "f, p = stats.f_oneway(fn_lf_mean.to_numpy(), fv_lf_mean.to_numpy(), m_lf_mean.to_numpy(), s_lf_mean.to_numpy())\n",
    "print(f, p)"
   ]
  },
  {
   "cell_type": "markdown",
   "id": "95b63048",
   "metadata": {},
   "source": [
    "$F(2,1290) = 190.72 > F_{crit} = 2.61$ $\\rightarrow$ Reject $H_0$"
   ]
  },
  {
   "cell_type": "code",
   "execution_count": 70,
   "id": "9fa931ca",
   "metadata": {},
   "outputs": [
    {
     "data": {
      "text/plain": [
       "0.44877528486966933"
      ]
     },
     "execution_count": 70,
     "metadata": {},
     "output_type": "execute_result"
    }
   ],
   "source": [
    "omega_squared(fn_lf_mean, fv_lf_mean, m_lf_mean, s_lf_mean)"
   ]
  },
  {
   "cell_type": "code",
   "execution_count": 71,
   "id": "a178f595",
   "metadata": {
    "scrolled": true
   },
   "outputs": [
    {
     "data": {
      "text/html": [
       "<div>\n",
       "<style scoped>\n",
       "    .dataframe tbody tr th:only-of-type {\n",
       "        vertical-align: middle;\n",
       "    }\n",
       "\n",
       "    .dataframe tbody tr th {\n",
       "        vertical-align: top;\n",
       "    }\n",
       "\n",
       "    .dataframe thead th {\n",
       "        text-align: right;\n",
       "    }\n",
       "</style>\n",
       "<table border=\"1\" class=\"dataframe\">\n",
       "  <thead>\n",
       "    <tr style=\"text-align: right;\">\n",
       "      <th></th>\n",
       "      <th>fn</th>\n",
       "      <th>fv</th>\n",
       "      <th>m</th>\n",
       "      <th>s</th>\n",
       "    </tr>\n",
       "  </thead>\n",
       "  <tbody>\n",
       "    <tr>\n",
       "      <th>fn</th>\n",
       "      <td>1</td>\n",
       "      <td>1</td>\n",
       "      <td>1</td>\n",
       "      <td>1</td>\n",
       "    </tr>\n",
       "    <tr>\n",
       "      <th>fv</th>\n",
       "      <td>1</td>\n",
       "      <td>1</td>\n",
       "      <td>1</td>\n",
       "      <td>0</td>\n",
       "    </tr>\n",
       "    <tr>\n",
       "      <th>m</th>\n",
       "      <td>1</td>\n",
       "      <td>1</td>\n",
       "      <td>1</td>\n",
       "      <td>1</td>\n",
       "    </tr>\n",
       "    <tr>\n",
       "      <th>s</th>\n",
       "      <td>1</td>\n",
       "      <td>0</td>\n",
       "      <td>1</td>\n",
       "      <td>1</td>\n",
       "    </tr>\n",
       "  </tbody>\n",
       "</table>\n",
       "</div>"
      ],
      "text/plain": [
       "    fn  fv  m  s\n",
       "fn   1   1  1  1\n",
       "fv   1   1  1  0\n",
       "m    1   1  1  1\n",
       "s    1   0  1  1"
      ]
     },
     "execution_count": 71,
     "metadata": {},
     "output_type": "execute_result"
    }
   ],
   "source": [
    "labels = ['fn', 'fv', 'm', 's']\n",
    "tukeys_hsd(labels, fn_lf_mean, fv_lf_mean, m_lf_mean, s_lf_mean)"
   ]
  },
  {
   "cell_type": "markdown",
   "id": "72168890",
   "metadata": {},
   "source": [
    "### medial femur"
   ]
  },
  {
   "cell_type": "code",
   "execution_count": 72,
   "id": "8eb953f6",
   "metadata": {},
   "outputs": [
    {
     "name": "stdout",
     "output_type": "stream",
     "text": [
      "545.2093854760082 8.043573856975606e-243\n"
     ]
    }
   ],
   "source": [
    "f, p = stats.f_oneway(fn_mf_mean.to_numpy(), fv_mf_mean.to_numpy(), m_mf_mean.to_numpy(), s_mf_mean.to_numpy())\n",
    "print(f, p)"
   ]
  },
  {
   "cell_type": "markdown",
   "id": "49750914",
   "metadata": {},
   "source": [
    "$F(2,1290) = 533.09 > F_{crit} = 2.61$ $\\rightarrow$ Reject $H_0$"
   ]
  },
  {
   "cell_type": "code",
   "execution_count": 73,
   "id": "b8800646",
   "metadata": {},
   "outputs": [
    {
     "data": {
      "text/plain": [
       "0.5055467436908465"
      ]
     },
     "execution_count": 73,
     "metadata": {},
     "output_type": "execute_result"
    }
   ],
   "source": [
    "omega_squared(fn_mf_mean, fv_mf_mean, m_mf_mean, s_mf_mean)"
   ]
  },
  {
   "cell_type": "code",
   "execution_count": 74,
   "id": "b41f8d08",
   "metadata": {
    "scrolled": true
   },
   "outputs": [
    {
     "data": {
      "text/html": [
       "<div>\n",
       "<style scoped>\n",
       "    .dataframe tbody tr th:only-of-type {\n",
       "        vertical-align: middle;\n",
       "    }\n",
       "\n",
       "    .dataframe tbody tr th {\n",
       "        vertical-align: top;\n",
       "    }\n",
       "\n",
       "    .dataframe thead th {\n",
       "        text-align: right;\n",
       "    }\n",
       "</style>\n",
       "<table border=\"1\" class=\"dataframe\">\n",
       "  <thead>\n",
       "    <tr style=\"text-align: right;\">\n",
       "      <th></th>\n",
       "      <th>fn</th>\n",
       "      <th>fv</th>\n",
       "      <th>m</th>\n",
       "      <th>s</th>\n",
       "    </tr>\n",
       "  </thead>\n",
       "  <tbody>\n",
       "    <tr>\n",
       "      <th>fn</th>\n",
       "      <td>1</td>\n",
       "      <td>1</td>\n",
       "      <td>1</td>\n",
       "      <td>1</td>\n",
       "    </tr>\n",
       "    <tr>\n",
       "      <th>fv</th>\n",
       "      <td>1</td>\n",
       "      <td>1</td>\n",
       "      <td>1</td>\n",
       "      <td>1</td>\n",
       "    </tr>\n",
       "    <tr>\n",
       "      <th>m</th>\n",
       "      <td>1</td>\n",
       "      <td>1</td>\n",
       "      <td>1</td>\n",
       "      <td>1</td>\n",
       "    </tr>\n",
       "    <tr>\n",
       "      <th>s</th>\n",
       "      <td>1</td>\n",
       "      <td>1</td>\n",
       "      <td>1</td>\n",
       "      <td>1</td>\n",
       "    </tr>\n",
       "  </tbody>\n",
       "</table>\n",
       "</div>"
      ],
      "text/plain": [
       "    fn  fv  m  s\n",
       "fn   1   1  1  1\n",
       "fv   1   1  1  1\n",
       "m    1   1  1  1\n",
       "s    1   1  1  1"
      ]
     },
     "execution_count": 74,
     "metadata": {},
     "output_type": "execute_result"
    }
   ],
   "source": [
    "labels = ['fn', 'fv', 'm', 's']\n",
    "tukeys_hsd(labels, fn_mf_mean, fv_mf_mean, m_mf_mean, s_mf_mean)"
   ]
  },
  {
   "cell_type": "markdown",
   "id": "b37c8280",
   "metadata": {},
   "source": [
    "### lateral tibia"
   ]
  },
  {
   "cell_type": "code",
   "execution_count": 75,
   "id": "748ede27",
   "metadata": {},
   "outputs": [
    {
     "name": "stdout",
     "output_type": "stream",
     "text": [
      "1323.8700990290024 0.0\n"
     ]
    }
   ],
   "source": [
    "f, p = stats.f_oneway(fn_lt_mean.to_numpy(), fv_lt_mean.to_numpy(), m_lt_mean.to_numpy(), s_lt_mean.to_numpy())\n",
    "print(f, p)"
   ]
  },
  {
   "cell_type": "markdown",
   "id": "49a35a76",
   "metadata": {},
   "source": [
    "$F(2,1290) = 1361.18 > F_{crit} = 2.61$ $\\rightarrow$ Reject $H_0$"
   ]
  },
  {
   "cell_type": "code",
   "execution_count": 76,
   "id": "f6663eb9",
   "metadata": {},
   "outputs": [
    {
     "data": {
      "text/plain": [
       "0.7137506214461669"
      ]
     },
     "execution_count": 76,
     "metadata": {},
     "output_type": "execute_result"
    }
   ],
   "source": [
    "omega_squared(fn_lt_mean, fv_lt_mean, m_lt_mean, s_lt_mean)"
   ]
  },
  {
   "cell_type": "code",
   "execution_count": 77,
   "id": "096876c5",
   "metadata": {
    "scrolled": true
   },
   "outputs": [
    {
     "data": {
      "text/html": [
       "<div>\n",
       "<style scoped>\n",
       "    .dataframe tbody tr th:only-of-type {\n",
       "        vertical-align: middle;\n",
       "    }\n",
       "\n",
       "    .dataframe tbody tr th {\n",
       "        vertical-align: top;\n",
       "    }\n",
       "\n",
       "    .dataframe thead th {\n",
       "        text-align: right;\n",
       "    }\n",
       "</style>\n",
       "<table border=\"1\" class=\"dataframe\">\n",
       "  <thead>\n",
       "    <tr style=\"text-align: right;\">\n",
       "      <th></th>\n",
       "      <th>fn</th>\n",
       "      <th>fv</th>\n",
       "      <th>m</th>\n",
       "      <th>s</th>\n",
       "    </tr>\n",
       "  </thead>\n",
       "  <tbody>\n",
       "    <tr>\n",
       "      <th>fn</th>\n",
       "      <td>1</td>\n",
       "      <td>1</td>\n",
       "      <td>1</td>\n",
       "      <td>1</td>\n",
       "    </tr>\n",
       "    <tr>\n",
       "      <th>fv</th>\n",
       "      <td>1</td>\n",
       "      <td>1</td>\n",
       "      <td>1</td>\n",
       "      <td>1</td>\n",
       "    </tr>\n",
       "    <tr>\n",
       "      <th>m</th>\n",
       "      <td>1</td>\n",
       "      <td>1</td>\n",
       "      <td>1</td>\n",
       "      <td>1</td>\n",
       "    </tr>\n",
       "    <tr>\n",
       "      <th>s</th>\n",
       "      <td>1</td>\n",
       "      <td>1</td>\n",
       "      <td>1</td>\n",
       "      <td>1</td>\n",
       "    </tr>\n",
       "  </tbody>\n",
       "</table>\n",
       "</div>"
      ],
      "text/plain": [
       "    fn  fv  m  s\n",
       "fn   1   1  1  1\n",
       "fv   1   1  1  1\n",
       "m    1   1  1  1\n",
       "s    1   1  1  1"
      ]
     },
     "execution_count": 77,
     "metadata": {},
     "output_type": "execute_result"
    }
   ],
   "source": [
    "labels = ['fn', 'fv', 'm', 's']\n",
    "tukeys_hsd(labels, fn_lt_mean, fv_lt_mean, m_lt_mean, s_lt_mean)"
   ]
  },
  {
   "cell_type": "markdown",
   "id": "a06a18e3",
   "metadata": {},
   "source": [
    "### medial tibia"
   ]
  },
  {
   "cell_type": "code",
   "execution_count": 78,
   "id": "36f60510",
   "metadata": {},
   "outputs": [
    {
     "name": "stdout",
     "output_type": "stream",
     "text": [
      "298.9454136479572 1.5621736886413548e-153\n"
     ]
    }
   ],
   "source": [
    "f, p = stats.f_oneway(fn_mt_mean.to_numpy(), fv_mt_mean.to_numpy(), m_mt_mean.to_numpy(), s_mt_mean.to_numpy())\n",
    "print(f, p)"
   ]
  },
  {
   "cell_type": "markdown",
   "id": "d82291a4",
   "metadata": {},
   "source": [
    "$F(2,1290) = 328.86 > F_{crit} = 2.61$ $\\rightarrow$ Reject $H_0$"
   ]
  },
  {
   "cell_type": "code",
   "execution_count": 79,
   "id": "aba9c600",
   "metadata": {},
   "outputs": [
    {
     "data": {
      "text/plain": [
       "0.35782241714725627"
      ]
     },
     "execution_count": 79,
     "metadata": {},
     "output_type": "execute_result"
    }
   ],
   "source": [
    "omega_squared(fn_mt_mean, fv_mt_mean, m_mt_mean, s_mt_mean)"
   ]
  },
  {
   "cell_type": "code",
   "execution_count": 80,
   "id": "e33f2f6a",
   "metadata": {
    "scrolled": true
   },
   "outputs": [
    {
     "data": {
      "text/html": [
       "<div>\n",
       "<style scoped>\n",
       "    .dataframe tbody tr th:only-of-type {\n",
       "        vertical-align: middle;\n",
       "    }\n",
       "\n",
       "    .dataframe tbody tr th {\n",
       "        vertical-align: top;\n",
       "    }\n",
       "\n",
       "    .dataframe thead th {\n",
       "        text-align: right;\n",
       "    }\n",
       "</style>\n",
       "<table border=\"1\" class=\"dataframe\">\n",
       "  <thead>\n",
       "    <tr style=\"text-align: right;\">\n",
       "      <th></th>\n",
       "      <th>fn</th>\n",
       "      <th>fv</th>\n",
       "      <th>m</th>\n",
       "      <th>s</th>\n",
       "    </tr>\n",
       "  </thead>\n",
       "  <tbody>\n",
       "    <tr>\n",
       "      <th>fn</th>\n",
       "      <td>1</td>\n",
       "      <td>1</td>\n",
       "      <td>0</td>\n",
       "      <td>1</td>\n",
       "    </tr>\n",
       "    <tr>\n",
       "      <th>fv</th>\n",
       "      <td>1</td>\n",
       "      <td>1</td>\n",
       "      <td>1</td>\n",
       "      <td>1</td>\n",
       "    </tr>\n",
       "    <tr>\n",
       "      <th>m</th>\n",
       "      <td>0</td>\n",
       "      <td>1</td>\n",
       "      <td>1</td>\n",
       "      <td>1</td>\n",
       "    </tr>\n",
       "    <tr>\n",
       "      <th>s</th>\n",
       "      <td>1</td>\n",
       "      <td>1</td>\n",
       "      <td>1</td>\n",
       "      <td>1</td>\n",
       "    </tr>\n",
       "  </tbody>\n",
       "</table>\n",
       "</div>"
      ],
      "text/plain": [
       "    fn  fv  m  s\n",
       "fn   1   1  0  1\n",
       "fv   1   1  1  1\n",
       "m    0   1  1  1\n",
       "s    1   1  1  1"
      ]
     },
     "execution_count": 80,
     "metadata": {},
     "output_type": "execute_result"
    }
   ],
   "source": [
    "labels = ['fn', 'fv', 'm', 's']\n",
    "tukeys_hsd(labels, fn_mt_mean, fv_mt_mean, m_mt_mean, s_mt_mean)"
   ]
  },
  {
   "cell_type": "markdown",
   "id": "f64a1f6e",
   "metadata": {},
   "source": [
    "# ANOVA for subregions"
   ]
  },
  {
   "cell_type": "code",
   "execution_count": 81,
   "id": "e46f13ec",
   "metadata": {},
   "outputs": [
    {
     "name": "stdout",
     "output_type": "stream",
     "text": [
      "101.89792963016951 2.819974366169454e-60\n"
     ]
    }
   ],
   "source": [
    "f, p = stats.f_oneway(fn['ccLF'].to_numpy(), fv['ccLF'].to_numpy(), m['ccLF'].to_numpy(), s['ccLF'].to_numpy())\n",
    "print(f, p)"
   ]
  },
  {
   "cell_type": "code",
   "execution_count": 82,
   "id": "6864b77c",
   "metadata": {},
   "outputs": [
    {
     "data": {
      "text/plain": [
       "0.1560794804258123"
      ]
     },
     "execution_count": 82,
     "metadata": {},
     "output_type": "execute_result"
    }
   ],
   "source": [
    "omega_squared(fn['ccLF'], fv['ccLF'], m['ccLF'], s['ccLF'])"
   ]
  },
  {
   "cell_type": "code",
   "execution_count": 83,
   "id": "1c40710f",
   "metadata": {
    "scrolled": true
   },
   "outputs": [
    {
     "data": {
      "text/html": [
       "<div>\n",
       "<style scoped>\n",
       "    .dataframe tbody tr th:only-of-type {\n",
       "        vertical-align: middle;\n",
       "    }\n",
       "\n",
       "    .dataframe tbody tr th {\n",
       "        vertical-align: top;\n",
       "    }\n",
       "\n",
       "    .dataframe thead th {\n",
       "        text-align: right;\n",
       "    }\n",
       "</style>\n",
       "<table border=\"1\" class=\"dataframe\">\n",
       "  <thead>\n",
       "    <tr style=\"text-align: right;\">\n",
       "      <th></th>\n",
       "      <th>fn</th>\n",
       "      <th>fv</th>\n",
       "      <th>m</th>\n",
       "      <th>s</th>\n",
       "    </tr>\n",
       "  </thead>\n",
       "  <tbody>\n",
       "    <tr>\n",
       "      <th>fn</th>\n",
       "      <td>1</td>\n",
       "      <td>1</td>\n",
       "      <td>0</td>\n",
       "      <td>1</td>\n",
       "    </tr>\n",
       "    <tr>\n",
       "      <th>fv</th>\n",
       "      <td>1</td>\n",
       "      <td>1</td>\n",
       "      <td>1</td>\n",
       "      <td>1</td>\n",
       "    </tr>\n",
       "    <tr>\n",
       "      <th>m</th>\n",
       "      <td>0</td>\n",
       "      <td>1</td>\n",
       "      <td>1</td>\n",
       "      <td>1</td>\n",
       "    </tr>\n",
       "    <tr>\n",
       "      <th>s</th>\n",
       "      <td>1</td>\n",
       "      <td>1</td>\n",
       "      <td>1</td>\n",
       "      <td>1</td>\n",
       "    </tr>\n",
       "  </tbody>\n",
       "</table>\n",
       "</div>"
      ],
      "text/plain": [
       "    fn  fv  m  s\n",
       "fn   1   1  0  1\n",
       "fv   1   1  1  1\n",
       "m    0   1  1  1\n",
       "s    1   1  1  1"
      ]
     },
     "execution_count": 83,
     "metadata": {},
     "output_type": "execute_result"
    }
   ],
   "source": [
    "labels = ['fn', 'fv', 'm', 's']\n",
    "tukeys_hsd(labels, fn['ccLF'], fv['ccLF'], m['ccLF'], s['ccLF'])"
   ]
  },
  {
   "cell_type": "code",
   "execution_count": 84,
   "id": "a9a7e294",
   "metadata": {},
   "outputs": [
    {
     "name": "stdout",
     "output_type": "stream",
     "text": [
      "349.9722224819473 4.7786874067718735e-174\n"
     ]
    }
   ],
   "source": [
    "f, p = stats.f_oneway(fn['icLF'].to_numpy(), fv['icLF'].to_numpy(), m['icLF'].to_numpy(), s['icLF'].to_numpy())\n",
    "print(f, p)"
   ]
  },
  {
   "cell_type": "code",
   "execution_count": 85,
   "id": "e15697b7",
   "metadata": {},
   "outputs": [
    {
     "data": {
      "text/plain": [
       "0.395258798694246"
      ]
     },
     "execution_count": 85,
     "metadata": {},
     "output_type": "execute_result"
    }
   ],
   "source": [
    "omega_squared(fn['icLF'], fv['icLF'], m['icLF'], s['icLF'])"
   ]
  },
  {
   "cell_type": "code",
   "execution_count": 86,
   "id": "d8cd1eb5",
   "metadata": {
    "scrolled": true
   },
   "outputs": [
    {
     "data": {
      "text/html": [
       "<div>\n",
       "<style scoped>\n",
       "    .dataframe tbody tr th:only-of-type {\n",
       "        vertical-align: middle;\n",
       "    }\n",
       "\n",
       "    .dataframe tbody tr th {\n",
       "        vertical-align: top;\n",
       "    }\n",
       "\n",
       "    .dataframe thead th {\n",
       "        text-align: right;\n",
       "    }\n",
       "</style>\n",
       "<table border=\"1\" class=\"dataframe\">\n",
       "  <thead>\n",
       "    <tr style=\"text-align: right;\">\n",
       "      <th></th>\n",
       "      <th>fn</th>\n",
       "      <th>fv</th>\n",
       "      <th>m</th>\n",
       "      <th>s</th>\n",
       "    </tr>\n",
       "  </thead>\n",
       "  <tbody>\n",
       "    <tr>\n",
       "      <th>fn</th>\n",
       "      <td>1</td>\n",
       "      <td>1</td>\n",
       "      <td>0</td>\n",
       "      <td>1</td>\n",
       "    </tr>\n",
       "    <tr>\n",
       "      <th>fv</th>\n",
       "      <td>1</td>\n",
       "      <td>1</td>\n",
       "      <td>1</td>\n",
       "      <td>1</td>\n",
       "    </tr>\n",
       "    <tr>\n",
       "      <th>m</th>\n",
       "      <td>0</td>\n",
       "      <td>1</td>\n",
       "      <td>1</td>\n",
       "      <td>1</td>\n",
       "    </tr>\n",
       "    <tr>\n",
       "      <th>s</th>\n",
       "      <td>1</td>\n",
       "      <td>1</td>\n",
       "      <td>1</td>\n",
       "      <td>1</td>\n",
       "    </tr>\n",
       "  </tbody>\n",
       "</table>\n",
       "</div>"
      ],
      "text/plain": [
       "    fn  fv  m  s\n",
       "fn   1   1  0  1\n",
       "fv   1   1  1  1\n",
       "m    0   1  1  1\n",
       "s    1   1  1  1"
      ]
     },
     "execution_count": 86,
     "metadata": {},
     "output_type": "execute_result"
    }
   ],
   "source": [
    "labels = ['fn', 'fv', 'm', 's']\n",
    "tukeys_hsd(labels, fn['icLF'], fv['icLF'], m['icLF'], s['icLF'])"
   ]
  },
  {
   "cell_type": "code",
   "execution_count": 87,
   "id": "30bbf628",
   "metadata": {},
   "outputs": [
    {
     "name": "stdout",
     "output_type": "stream",
     "text": [
      "181.4417009037046 5.1315737599252045e-101\n"
     ]
    }
   ],
   "source": [
    "f, p = stats.f_oneway(fn['ecLF'].to_numpy(), fv['ecLF'].to_numpy(), m['ecLF'].to_numpy(), s['ecLF'].to_numpy())\n",
    "print(f, p)"
   ]
  },
  {
   "cell_type": "code",
   "execution_count": 88,
   "id": "eaeff703",
   "metadata": {},
   "outputs": [
    {
     "data": {
      "text/plain": [
       "0.25105824669550253"
      ]
     },
     "execution_count": 88,
     "metadata": {},
     "output_type": "execute_result"
    }
   ],
   "source": [
    "omega_squared(fn['ecLF'], fv['ecLF'], m['ecLF'], s['ecLF'])"
   ]
  },
  {
   "cell_type": "code",
   "execution_count": 89,
   "id": "bcdce554",
   "metadata": {
    "scrolled": true
   },
   "outputs": [
    {
     "data": {
      "text/html": [
       "<div>\n",
       "<style scoped>\n",
       "    .dataframe tbody tr th:only-of-type {\n",
       "        vertical-align: middle;\n",
       "    }\n",
       "\n",
       "    .dataframe tbody tr th {\n",
       "        vertical-align: top;\n",
       "    }\n",
       "\n",
       "    .dataframe thead th {\n",
       "        text-align: right;\n",
       "    }\n",
       "</style>\n",
       "<table border=\"1\" class=\"dataframe\">\n",
       "  <thead>\n",
       "    <tr style=\"text-align: right;\">\n",
       "      <th></th>\n",
       "      <th>fn</th>\n",
       "      <th>fv</th>\n",
       "      <th>m</th>\n",
       "      <th>s</th>\n",
       "    </tr>\n",
       "  </thead>\n",
       "  <tbody>\n",
       "    <tr>\n",
       "      <th>fn</th>\n",
       "      <td>1</td>\n",
       "      <td>0</td>\n",
       "      <td>0</td>\n",
       "      <td>1</td>\n",
       "    </tr>\n",
       "    <tr>\n",
       "      <th>fv</th>\n",
       "      <td>0</td>\n",
       "      <td>1</td>\n",
       "      <td>0</td>\n",
       "      <td>1</td>\n",
       "    </tr>\n",
       "    <tr>\n",
       "      <th>m</th>\n",
       "      <td>0</td>\n",
       "      <td>0</td>\n",
       "      <td>1</td>\n",
       "      <td>1</td>\n",
       "    </tr>\n",
       "    <tr>\n",
       "      <th>s</th>\n",
       "      <td>1</td>\n",
       "      <td>1</td>\n",
       "      <td>1</td>\n",
       "      <td>1</td>\n",
       "    </tr>\n",
       "  </tbody>\n",
       "</table>\n",
       "</div>"
      ],
      "text/plain": [
       "    fn  fv  m  s\n",
       "fn   1   0  0  1\n",
       "fv   0   1  0  1\n",
       "m    0   0  1  1\n",
       "s    1   1  1  1"
      ]
     },
     "execution_count": 89,
     "metadata": {},
     "output_type": "execute_result"
    }
   ],
   "source": [
    "labels = ['fn', 'fv', 'm', 's']\n",
    "tukeys_hsd(labels, fn['ecLF'], fv['ecLF'], m['ecLF'], s['ecLF'])"
   ]
  },
  {
   "cell_type": "code",
   "execution_count": 90,
   "id": "7e76b788",
   "metadata": {},
   "outputs": [
    {
     "name": "stdout",
     "output_type": "stream",
     "text": [
      "77.18713005252967 1.4102281157707493e-46\n"
     ]
    }
   ],
   "source": [
    "f, p = stats.f_oneway(fn['ccMF'].to_numpy(), fv['ccMF'].to_numpy(), m['ccMF'].to_numpy(), s['ccMF'].to_numpy())\n",
    "print(f, p)"
   ]
  },
  {
   "cell_type": "code",
   "execution_count": 91,
   "id": "b5370f4e",
   "metadata": {},
   "outputs": [
    {
     "data": {
      "text/plain": [
       "0.12146828946066769"
      ]
     },
     "execution_count": 91,
     "metadata": {},
     "output_type": "execute_result"
    }
   ],
   "source": [
    "omega_squared(fn['ccMF'], fv['ccMF'], m['ccMF'], s['ccMF'])"
   ]
  },
  {
   "cell_type": "code",
   "execution_count": 92,
   "id": "1abe40f5",
   "metadata": {
    "scrolled": true
   },
   "outputs": [
    {
     "data": {
      "text/html": [
       "<div>\n",
       "<style scoped>\n",
       "    .dataframe tbody tr th:only-of-type {\n",
       "        vertical-align: middle;\n",
       "    }\n",
       "\n",
       "    .dataframe tbody tr th {\n",
       "        vertical-align: top;\n",
       "    }\n",
       "\n",
       "    .dataframe thead th {\n",
       "        text-align: right;\n",
       "    }\n",
       "</style>\n",
       "<table border=\"1\" class=\"dataframe\">\n",
       "  <thead>\n",
       "    <tr style=\"text-align: right;\">\n",
       "      <th></th>\n",
       "      <th>fn</th>\n",
       "      <th>fv</th>\n",
       "      <th>m</th>\n",
       "      <th>s</th>\n",
       "    </tr>\n",
       "  </thead>\n",
       "  <tbody>\n",
       "    <tr>\n",
       "      <th>fn</th>\n",
       "      <td>1</td>\n",
       "      <td>1</td>\n",
       "      <td>1</td>\n",
       "      <td>1</td>\n",
       "    </tr>\n",
       "    <tr>\n",
       "      <th>fv</th>\n",
       "      <td>1</td>\n",
       "      <td>1</td>\n",
       "      <td>1</td>\n",
       "      <td>1</td>\n",
       "    </tr>\n",
       "    <tr>\n",
       "      <th>m</th>\n",
       "      <td>1</td>\n",
       "      <td>1</td>\n",
       "      <td>1</td>\n",
       "      <td>1</td>\n",
       "    </tr>\n",
       "    <tr>\n",
       "      <th>s</th>\n",
       "      <td>1</td>\n",
       "      <td>1</td>\n",
       "      <td>1</td>\n",
       "      <td>1</td>\n",
       "    </tr>\n",
       "  </tbody>\n",
       "</table>\n",
       "</div>"
      ],
      "text/plain": [
       "    fn  fv  m  s\n",
       "fn   1   1  1  1\n",
       "fv   1   1  1  1\n",
       "m    1   1  1  1\n",
       "s    1   1  1  1"
      ]
     },
     "execution_count": 92,
     "metadata": {},
     "output_type": "execute_result"
    }
   ],
   "source": [
    "labels = ['fn', 'fv', 'm', 's']\n",
    "tukeys_hsd(labels, fn['ccMF'], fv['ccMF'], m['ccMF'], s['ccMF'])"
   ]
  },
  {
   "cell_type": "code",
   "execution_count": 93,
   "id": "59f1bb6a",
   "metadata": {},
   "outputs": [
    {
     "name": "stdout",
     "output_type": "stream",
     "text": [
      "285.7407235986666 5.118489288980332e-148\n"
     ]
    }
   ],
   "source": [
    "f, p = stats.f_oneway(fn['icMF'].to_numpy(), fv['icMF'].to_numpy(), m['icMF'].to_numpy(), s['icMF'].to_numpy())\n",
    "print(f, p)"
   ]
  },
  {
   "cell_type": "code",
   "execution_count": 94,
   "id": "a13be9f1",
   "metadata": {},
   "outputs": [
    {
     "data": {
      "text/plain": [
       "0.3473674459079483"
      ]
     },
     "execution_count": 94,
     "metadata": {},
     "output_type": "execute_result"
    }
   ],
   "source": [
    "omega_squared(fn['icMF'], fv['icMF'], m['icMF'], s['icMF'])"
   ]
  },
  {
   "cell_type": "code",
   "execution_count": 95,
   "id": "e3db2db4",
   "metadata": {
    "scrolled": true
   },
   "outputs": [
    {
     "data": {
      "text/html": [
       "<div>\n",
       "<style scoped>\n",
       "    .dataframe tbody tr th:only-of-type {\n",
       "        vertical-align: middle;\n",
       "    }\n",
       "\n",
       "    .dataframe tbody tr th {\n",
       "        vertical-align: top;\n",
       "    }\n",
       "\n",
       "    .dataframe thead th {\n",
       "        text-align: right;\n",
       "    }\n",
       "</style>\n",
       "<table border=\"1\" class=\"dataframe\">\n",
       "  <thead>\n",
       "    <tr style=\"text-align: right;\">\n",
       "      <th></th>\n",
       "      <th>fn</th>\n",
       "      <th>fv</th>\n",
       "      <th>m</th>\n",
       "      <th>s</th>\n",
       "    </tr>\n",
       "  </thead>\n",
       "  <tbody>\n",
       "    <tr>\n",
       "      <th>fn</th>\n",
       "      <td>1</td>\n",
       "      <td>1</td>\n",
       "      <td>1</td>\n",
       "      <td>1</td>\n",
       "    </tr>\n",
       "    <tr>\n",
       "      <th>fv</th>\n",
       "      <td>1</td>\n",
       "      <td>1</td>\n",
       "      <td>1</td>\n",
       "      <td>1</td>\n",
       "    </tr>\n",
       "    <tr>\n",
       "      <th>m</th>\n",
       "      <td>1</td>\n",
       "      <td>1</td>\n",
       "      <td>1</td>\n",
       "      <td>1</td>\n",
       "    </tr>\n",
       "    <tr>\n",
       "      <th>s</th>\n",
       "      <td>1</td>\n",
       "      <td>1</td>\n",
       "      <td>1</td>\n",
       "      <td>1</td>\n",
       "    </tr>\n",
       "  </tbody>\n",
       "</table>\n",
       "</div>"
      ],
      "text/plain": [
       "    fn  fv  m  s\n",
       "fn   1   1  1  1\n",
       "fv   1   1  1  1\n",
       "m    1   1  1  1\n",
       "s    1   1  1  1"
      ]
     },
     "execution_count": 95,
     "metadata": {},
     "output_type": "execute_result"
    }
   ],
   "source": [
    "labels = ['fn', 'fv', 'm', 's']\n",
    "tukeys_hsd(labels, fn['icMF'], fv['icMF'], m['icMF'], s['icMF'])"
   ]
  },
  {
   "cell_type": "code",
   "execution_count": 96,
   "id": "134f7e82",
   "metadata": {},
   "outputs": [
    {
     "name": "stdout",
     "output_type": "stream",
     "text": [
      "62.96827513322083 1.9107264000418975e-38\n"
     ]
    }
   ],
   "source": [
    "f, p = stats.f_oneway(fn['ecMF'].to_numpy(), fv['ecMF'].to_numpy(), m['ecMF'].to_numpy(), s['ecMF'].to_numpy())\n",
    "print(f, p)"
   ]
  },
  {
   "cell_type": "code",
   "execution_count": 97,
   "id": "c5a3b02e",
   "metadata": {},
   "outputs": [
    {
     "data": {
      "text/plain": [
       "0.10023476782075326"
      ]
     },
     "execution_count": 97,
     "metadata": {},
     "output_type": "execute_result"
    }
   ],
   "source": [
    "omega_squared(fn['ecMF'], fv['ecMF'], m['ecMF'], s['ecMF'])"
   ]
  },
  {
   "cell_type": "code",
   "execution_count": 98,
   "id": "76bc982d",
   "metadata": {
    "scrolled": true
   },
   "outputs": [
    {
     "data": {
      "text/html": [
       "<div>\n",
       "<style scoped>\n",
       "    .dataframe tbody tr th:only-of-type {\n",
       "        vertical-align: middle;\n",
       "    }\n",
       "\n",
       "    .dataframe tbody tr th {\n",
       "        vertical-align: top;\n",
       "    }\n",
       "\n",
       "    .dataframe thead th {\n",
       "        text-align: right;\n",
       "    }\n",
       "</style>\n",
       "<table border=\"1\" class=\"dataframe\">\n",
       "  <thead>\n",
       "    <tr style=\"text-align: right;\">\n",
       "      <th></th>\n",
       "      <th>fn</th>\n",
       "      <th>fv</th>\n",
       "      <th>m</th>\n",
       "      <th>s</th>\n",
       "    </tr>\n",
       "  </thead>\n",
       "  <tbody>\n",
       "    <tr>\n",
       "      <th>fn</th>\n",
       "      <td>1</td>\n",
       "      <td>1</td>\n",
       "      <td>0</td>\n",
       "      <td>1</td>\n",
       "    </tr>\n",
       "    <tr>\n",
       "      <th>fv</th>\n",
       "      <td>1</td>\n",
       "      <td>1</td>\n",
       "      <td>1</td>\n",
       "      <td>1</td>\n",
       "    </tr>\n",
       "    <tr>\n",
       "      <th>m</th>\n",
       "      <td>0</td>\n",
       "      <td>1</td>\n",
       "      <td>1</td>\n",
       "      <td>1</td>\n",
       "    </tr>\n",
       "    <tr>\n",
       "      <th>s</th>\n",
       "      <td>1</td>\n",
       "      <td>1</td>\n",
       "      <td>1</td>\n",
       "      <td>1</td>\n",
       "    </tr>\n",
       "  </tbody>\n",
       "</table>\n",
       "</div>"
      ],
      "text/plain": [
       "    fn  fv  m  s\n",
       "fn   1   1  0  1\n",
       "fv   1   1  1  1\n",
       "m    0   1  1  1\n",
       "s    1   1  1  1"
      ]
     },
     "execution_count": 98,
     "metadata": {},
     "output_type": "execute_result"
    }
   ],
   "source": [
    "labels = ['fn', 'fv', 'm', 's']\n",
    "tukeys_hsd(labels, fn['ecMF'], fv['ecMF'], m['ecMF'], s['ecMF'])"
   ]
  },
  {
   "cell_type": "code",
   "execution_count": 99,
   "id": "80301225",
   "metadata": {},
   "outputs": [
    {
     "name": "stdout",
     "output_type": "stream",
     "text": [
      "802.1329209058372 2.7061286e-316\n"
     ]
    }
   ],
   "source": [
    "f, p = stats.f_oneway(fn['aLF'].to_numpy(), fv['aLF'].to_numpy(), m['aLF'].to_numpy(), s['aLF'].to_numpy())\n",
    "print(f, p)"
   ]
  },
  {
   "cell_type": "code",
   "execution_count": 100,
   "id": "35570063",
   "metadata": {},
   "outputs": [
    {
     "data": {
      "text/plain": [
       "0.6012453562243527"
      ]
     },
     "execution_count": 100,
     "metadata": {},
     "output_type": "execute_result"
    }
   ],
   "source": [
    "omega_squared(fn['aLF'], fv['aLF'], m['aLF'], s['aLF'])"
   ]
  },
  {
   "cell_type": "code",
   "execution_count": 101,
   "id": "495b3163",
   "metadata": {
    "scrolled": true
   },
   "outputs": [
    {
     "data": {
      "text/html": [
       "<div>\n",
       "<style scoped>\n",
       "    .dataframe tbody tr th:only-of-type {\n",
       "        vertical-align: middle;\n",
       "    }\n",
       "\n",
       "    .dataframe tbody tr th {\n",
       "        vertical-align: top;\n",
       "    }\n",
       "\n",
       "    .dataframe thead th {\n",
       "        text-align: right;\n",
       "    }\n",
       "</style>\n",
       "<table border=\"1\" class=\"dataframe\">\n",
       "  <thead>\n",
       "    <tr style=\"text-align: right;\">\n",
       "      <th></th>\n",
       "      <th>fn</th>\n",
       "      <th>fv</th>\n",
       "      <th>m</th>\n",
       "      <th>s</th>\n",
       "    </tr>\n",
       "  </thead>\n",
       "  <tbody>\n",
       "    <tr>\n",
       "      <th>fn</th>\n",
       "      <td>1</td>\n",
       "      <td>1</td>\n",
       "      <td>1</td>\n",
       "      <td>1</td>\n",
       "    </tr>\n",
       "    <tr>\n",
       "      <th>fv</th>\n",
       "      <td>1</td>\n",
       "      <td>1</td>\n",
       "      <td>1</td>\n",
       "      <td>1</td>\n",
       "    </tr>\n",
       "    <tr>\n",
       "      <th>m</th>\n",
       "      <td>1</td>\n",
       "      <td>1</td>\n",
       "      <td>1</td>\n",
       "      <td>1</td>\n",
       "    </tr>\n",
       "    <tr>\n",
       "      <th>s</th>\n",
       "      <td>1</td>\n",
       "      <td>1</td>\n",
       "      <td>1</td>\n",
       "      <td>1</td>\n",
       "    </tr>\n",
       "  </tbody>\n",
       "</table>\n",
       "</div>"
      ],
      "text/plain": [
       "    fn  fv  m  s\n",
       "fn   1   1  1  1\n",
       "fv   1   1  1  1\n",
       "m    1   1  1  1\n",
       "s    1   1  1  1"
      ]
     },
     "execution_count": 101,
     "metadata": {},
     "output_type": "execute_result"
    }
   ],
   "source": [
    "labels = ['fn', 'fv', 'm', 's']\n",
    "tukeys_hsd(labels, fn['aLF'], fv['aLF'], m['aLF'], s['aLF'])"
   ]
  },
  {
   "cell_type": "code",
   "execution_count": 102,
   "id": "a6fde925",
   "metadata": {},
   "outputs": [
    {
     "name": "stdout",
     "output_type": "stream",
     "text": [
      "1361.4807703322183 0.0\n"
     ]
    }
   ],
   "source": [
    "f, p = stats.f_oneway(fn['aMF'].to_numpy(), fv['aMF'].to_numpy(), m['aMF'].to_numpy(), s['aMF'].to_numpy())\n",
    "print(f, p)"
   ]
  },
  {
   "cell_type": "code",
   "execution_count": 103,
   "id": "db2db420",
   "metadata": {},
   "outputs": [
    {
     "data": {
      "text/plain": [
       "0.7194565525533294"
      ]
     },
     "execution_count": 103,
     "metadata": {},
     "output_type": "execute_result"
    }
   ],
   "source": [
    "omega_squared(fn['aMF'], fv['aMF'], m['aMF'], s['aMF'])"
   ]
  },
  {
   "cell_type": "code",
   "execution_count": 104,
   "id": "fef85246",
   "metadata": {
    "scrolled": true
   },
   "outputs": [
    {
     "data": {
      "text/html": [
       "<div>\n",
       "<style scoped>\n",
       "    .dataframe tbody tr th:only-of-type {\n",
       "        vertical-align: middle;\n",
       "    }\n",
       "\n",
       "    .dataframe tbody tr th {\n",
       "        vertical-align: top;\n",
       "    }\n",
       "\n",
       "    .dataframe thead th {\n",
       "        text-align: right;\n",
       "    }\n",
       "</style>\n",
       "<table border=\"1\" class=\"dataframe\">\n",
       "  <thead>\n",
       "    <tr style=\"text-align: right;\">\n",
       "      <th></th>\n",
       "      <th>fn</th>\n",
       "      <th>fv</th>\n",
       "      <th>m</th>\n",
       "      <th>s</th>\n",
       "    </tr>\n",
       "  </thead>\n",
       "  <tbody>\n",
       "    <tr>\n",
       "      <th>fn</th>\n",
       "      <td>1</td>\n",
       "      <td>1</td>\n",
       "      <td>1</td>\n",
       "      <td>1</td>\n",
       "    </tr>\n",
       "    <tr>\n",
       "      <th>fv</th>\n",
       "      <td>1</td>\n",
       "      <td>1</td>\n",
       "      <td>1</td>\n",
       "      <td>1</td>\n",
       "    </tr>\n",
       "    <tr>\n",
       "      <th>m</th>\n",
       "      <td>1</td>\n",
       "      <td>1</td>\n",
       "      <td>1</td>\n",
       "      <td>1</td>\n",
       "    </tr>\n",
       "    <tr>\n",
       "      <th>s</th>\n",
       "      <td>1</td>\n",
       "      <td>1</td>\n",
       "      <td>1</td>\n",
       "      <td>1</td>\n",
       "    </tr>\n",
       "  </tbody>\n",
       "</table>\n",
       "</div>"
      ],
      "text/plain": [
       "    fn  fv  m  s\n",
       "fn   1   1  1  1\n",
       "fv   1   1  1  1\n",
       "m    1   1  1  1\n",
       "s    1   1  1  1"
      ]
     },
     "execution_count": 104,
     "metadata": {},
     "output_type": "execute_result"
    }
   ],
   "source": [
    "labels = ['fn', 'fv', 'm', 's']\n",
    "tukeys_hsd(labels, fn['aMF'], fv['aMF'], m['aMF'], s['aMF'])"
   ]
  },
  {
   "cell_type": "code",
   "execution_count": 105,
   "id": "2a67fa0e",
   "metadata": {},
   "outputs": [
    {
     "name": "stdout",
     "output_type": "stream",
     "text": [
      "767.3046113482781 3.2610928003002028e-307\n"
     ]
    }
   ],
   "source": [
    "f, p = stats.f_oneway(fn['pLF'].to_numpy(), fv['pLF'].to_numpy(), m['pLF'].to_numpy(), s['pLF'].to_numpy())\n",
    "print(f, p)"
   ]
  },
  {
   "cell_type": "code",
   "execution_count": 106,
   "id": "cd6f2531",
   "metadata": {},
   "outputs": [
    {
     "data": {
      "text/plain": [
       "0.5905014737411931"
      ]
     },
     "execution_count": 106,
     "metadata": {},
     "output_type": "execute_result"
    }
   ],
   "source": [
    "omega_squared(fn['pLF'], fv['pLF'], m['pLF'], s['pLF'])"
   ]
  },
  {
   "cell_type": "code",
   "execution_count": 107,
   "id": "0507c2d6",
   "metadata": {
    "scrolled": true
   },
   "outputs": [
    {
     "data": {
      "text/html": [
       "<div>\n",
       "<style scoped>\n",
       "    .dataframe tbody tr th:only-of-type {\n",
       "        vertical-align: middle;\n",
       "    }\n",
       "\n",
       "    .dataframe tbody tr th {\n",
       "        vertical-align: top;\n",
       "    }\n",
       "\n",
       "    .dataframe thead th {\n",
       "        text-align: right;\n",
       "    }\n",
       "</style>\n",
       "<table border=\"1\" class=\"dataframe\">\n",
       "  <thead>\n",
       "    <tr style=\"text-align: right;\">\n",
       "      <th></th>\n",
       "      <th>fn</th>\n",
       "      <th>fv</th>\n",
       "      <th>m</th>\n",
       "      <th>s</th>\n",
       "    </tr>\n",
       "  </thead>\n",
       "  <tbody>\n",
       "    <tr>\n",
       "      <th>fn</th>\n",
       "      <td>1</td>\n",
       "      <td>1</td>\n",
       "      <td>1</td>\n",
       "      <td>1</td>\n",
       "    </tr>\n",
       "    <tr>\n",
       "      <th>fv</th>\n",
       "      <td>1</td>\n",
       "      <td>1</td>\n",
       "      <td>1</td>\n",
       "      <td>1</td>\n",
       "    </tr>\n",
       "    <tr>\n",
       "      <th>m</th>\n",
       "      <td>1</td>\n",
       "      <td>1</td>\n",
       "      <td>1</td>\n",
       "      <td>1</td>\n",
       "    </tr>\n",
       "    <tr>\n",
       "      <th>s</th>\n",
       "      <td>1</td>\n",
       "      <td>1</td>\n",
       "      <td>1</td>\n",
       "      <td>1</td>\n",
       "    </tr>\n",
       "  </tbody>\n",
       "</table>\n",
       "</div>"
      ],
      "text/plain": [
       "    fn  fv  m  s\n",
       "fn   1   1  1  1\n",
       "fv   1   1  1  1\n",
       "m    1   1  1  1\n",
       "s    1   1  1  1"
      ]
     },
     "execution_count": 107,
     "metadata": {},
     "output_type": "execute_result"
    }
   ],
   "source": [
    "labels = ['fn', 'fv', 'm', 's']\n",
    "tukeys_hsd(labels, fn['pLF'], fv['pLF'], m['pLF'], s['pLF'])"
   ]
  },
  {
   "cell_type": "code",
   "execution_count": 108,
   "id": "340038a2",
   "metadata": {},
   "outputs": [
    {
     "name": "stdout",
     "output_type": "stream",
     "text": [
      "532.8516156438737 7.435598349998874e-239\n"
     ]
    }
   ],
   "source": [
    "f, p = stats.f_oneway(fn['pMF'].to_numpy(), fv['pMF'].to_numpy(), m['pMF'].to_numpy(), s['pMF'].to_numpy())\n",
    "print(f, p)"
   ]
  },
  {
   "cell_type": "code",
   "execution_count": 109,
   "id": "1e45d243",
   "metadata": {},
   "outputs": [
    {
     "data": {
      "text/plain": [
       "0.4997723849266963"
      ]
     },
     "execution_count": 109,
     "metadata": {},
     "output_type": "execute_result"
    }
   ],
   "source": [
    "omega_squared(fn['pMF'], fv['pMF'], m['pMF'], s['pMF'])"
   ]
  },
  {
   "cell_type": "code",
   "execution_count": 110,
   "id": "1cb9eb88",
   "metadata": {
    "scrolled": true
   },
   "outputs": [
    {
     "data": {
      "text/html": [
       "<div>\n",
       "<style scoped>\n",
       "    .dataframe tbody tr th:only-of-type {\n",
       "        vertical-align: middle;\n",
       "    }\n",
       "\n",
       "    .dataframe tbody tr th {\n",
       "        vertical-align: top;\n",
       "    }\n",
       "\n",
       "    .dataframe thead th {\n",
       "        text-align: right;\n",
       "    }\n",
       "</style>\n",
       "<table border=\"1\" class=\"dataframe\">\n",
       "  <thead>\n",
       "    <tr style=\"text-align: right;\">\n",
       "      <th></th>\n",
       "      <th>fn</th>\n",
       "      <th>fv</th>\n",
       "      <th>m</th>\n",
       "      <th>s</th>\n",
       "    </tr>\n",
       "  </thead>\n",
       "  <tbody>\n",
       "    <tr>\n",
       "      <th>fn</th>\n",
       "      <td>1</td>\n",
       "      <td>1</td>\n",
       "      <td>1</td>\n",
       "      <td>1</td>\n",
       "    </tr>\n",
       "    <tr>\n",
       "      <th>fv</th>\n",
       "      <td>1</td>\n",
       "      <td>1</td>\n",
       "      <td>1</td>\n",
       "      <td>1</td>\n",
       "    </tr>\n",
       "    <tr>\n",
       "      <th>m</th>\n",
       "      <td>1</td>\n",
       "      <td>1</td>\n",
       "      <td>1</td>\n",
       "      <td>1</td>\n",
       "    </tr>\n",
       "    <tr>\n",
       "      <th>s</th>\n",
       "      <td>1</td>\n",
       "      <td>1</td>\n",
       "      <td>1</td>\n",
       "      <td>1</td>\n",
       "    </tr>\n",
       "  </tbody>\n",
       "</table>\n",
       "</div>"
      ],
      "text/plain": [
       "    fn  fv  m  s\n",
       "fn   1   1  1  1\n",
       "fv   1   1  1  1\n",
       "m    1   1  1  1\n",
       "s    1   1  1  1"
      ]
     },
     "execution_count": 110,
     "metadata": {},
     "output_type": "execute_result"
    }
   ],
   "source": [
    "labels = ['fn', 'fv', 'm', 's']\n",
    "tukeys_hsd(labels, fn['pMF'], fv['pMF'], m['pMF'], s['pMF'])"
   ]
  },
  {
   "cell_type": "code",
   "execution_count": 111,
   "id": "0bf4f6a9",
   "metadata": {},
   "outputs": [
    {
     "name": "stdout",
     "output_type": "stream",
     "text": [
      "270.94553587845735 9.91729733313608e-142\n"
     ]
    }
   ],
   "source": [
    "f, p = stats.f_oneway(fn['cLT'].to_numpy(), fv['cLT'].to_numpy(), m['cLT'].to_numpy(), s['cLT'].to_numpy())\n",
    "print(f, p)"
   ]
  },
  {
   "cell_type": "code",
   "execution_count": 112,
   "id": "d7f060a2",
   "metadata": {},
   "outputs": [
    {
     "data": {
      "text/plain": [
       "0.33524126559166073"
      ]
     },
     "execution_count": 112,
     "metadata": {},
     "output_type": "execute_result"
    }
   ],
   "source": [
    "omega_squared(fn['cLT'], fv['cLT'], m['cLT'], s['cLT'])"
   ]
  },
  {
   "cell_type": "code",
   "execution_count": 113,
   "id": "f01498db",
   "metadata": {
    "scrolled": true
   },
   "outputs": [
    {
     "data": {
      "text/html": [
       "<div>\n",
       "<style scoped>\n",
       "    .dataframe tbody tr th:only-of-type {\n",
       "        vertical-align: middle;\n",
       "    }\n",
       "\n",
       "    .dataframe tbody tr th {\n",
       "        vertical-align: top;\n",
       "    }\n",
       "\n",
       "    .dataframe thead th {\n",
       "        text-align: right;\n",
       "    }\n",
       "</style>\n",
       "<table border=\"1\" class=\"dataframe\">\n",
       "  <thead>\n",
       "    <tr style=\"text-align: right;\">\n",
       "      <th></th>\n",
       "      <th>fn</th>\n",
       "      <th>fv</th>\n",
       "      <th>m</th>\n",
       "      <th>s</th>\n",
       "    </tr>\n",
       "  </thead>\n",
       "  <tbody>\n",
       "    <tr>\n",
       "      <th>fn</th>\n",
       "      <td>1</td>\n",
       "      <td>1</td>\n",
       "      <td>0</td>\n",
       "      <td>1</td>\n",
       "    </tr>\n",
       "    <tr>\n",
       "      <th>fv</th>\n",
       "      <td>1</td>\n",
       "      <td>1</td>\n",
       "      <td>1</td>\n",
       "      <td>1</td>\n",
       "    </tr>\n",
       "    <tr>\n",
       "      <th>m</th>\n",
       "      <td>0</td>\n",
       "      <td>1</td>\n",
       "      <td>1</td>\n",
       "      <td>1</td>\n",
       "    </tr>\n",
       "    <tr>\n",
       "      <th>s</th>\n",
       "      <td>1</td>\n",
       "      <td>1</td>\n",
       "      <td>1</td>\n",
       "      <td>1</td>\n",
       "    </tr>\n",
       "  </tbody>\n",
       "</table>\n",
       "</div>"
      ],
      "text/plain": [
       "    fn  fv  m  s\n",
       "fn   1   1  0  1\n",
       "fv   1   1  1  1\n",
       "m    0   1  1  1\n",
       "s    1   1  1  1"
      ]
     },
     "execution_count": 113,
     "metadata": {},
     "output_type": "execute_result"
    }
   ],
   "source": [
    "labels = ['fn', 'fv', 'm', 's']\n",
    "tukeys_hsd(labels, fn['cLT'], fv['cLT'], m['cLT'], s['cLT'])"
   ]
  },
  {
   "cell_type": "code",
   "execution_count": 114,
   "id": "4265ee09",
   "metadata": {},
   "outputs": [
    {
     "name": "stdout",
     "output_type": "stream",
     "text": [
      "1903.3301868923436 0.0\n"
     ]
    }
   ],
   "source": [
    "f, p = stats.f_oneway(fn['iLT'].to_numpy(), fv['iLT'].to_numpy(), m['iLT'].to_numpy(), s['iLT'].to_numpy())\n",
    "print(f, p)"
   ]
  },
  {
   "cell_type": "code",
   "execution_count": 115,
   "id": "f6335bb3",
   "metadata": {},
   "outputs": [
    {
     "data": {
      "text/plain": [
       "0.7820474804660686"
      ]
     },
     "execution_count": 115,
     "metadata": {},
     "output_type": "execute_result"
    }
   ],
   "source": [
    "omega_squared(fn['iLT'], fv['iLT'], m['iLT'], s['iLT'])"
   ]
  },
  {
   "cell_type": "code",
   "execution_count": 116,
   "id": "c1b48d62",
   "metadata": {
    "scrolled": true
   },
   "outputs": [
    {
     "data": {
      "text/html": [
       "<div>\n",
       "<style scoped>\n",
       "    .dataframe tbody tr th:only-of-type {\n",
       "        vertical-align: middle;\n",
       "    }\n",
       "\n",
       "    .dataframe tbody tr th {\n",
       "        vertical-align: top;\n",
       "    }\n",
       "\n",
       "    .dataframe thead th {\n",
       "        text-align: right;\n",
       "    }\n",
       "</style>\n",
       "<table border=\"1\" class=\"dataframe\">\n",
       "  <thead>\n",
       "    <tr style=\"text-align: right;\">\n",
       "      <th></th>\n",
       "      <th>fn</th>\n",
       "      <th>fv</th>\n",
       "      <th>m</th>\n",
       "      <th>s</th>\n",
       "    </tr>\n",
       "  </thead>\n",
       "  <tbody>\n",
       "    <tr>\n",
       "      <th>fn</th>\n",
       "      <td>1</td>\n",
       "      <td>1</td>\n",
       "      <td>0</td>\n",
       "      <td>1</td>\n",
       "    </tr>\n",
       "    <tr>\n",
       "      <th>fv</th>\n",
       "      <td>1</td>\n",
       "      <td>1</td>\n",
       "      <td>1</td>\n",
       "      <td>1</td>\n",
       "    </tr>\n",
       "    <tr>\n",
       "      <th>m</th>\n",
       "      <td>0</td>\n",
       "      <td>1</td>\n",
       "      <td>1</td>\n",
       "      <td>1</td>\n",
       "    </tr>\n",
       "    <tr>\n",
       "      <th>s</th>\n",
       "      <td>1</td>\n",
       "      <td>1</td>\n",
       "      <td>1</td>\n",
       "      <td>1</td>\n",
       "    </tr>\n",
       "  </tbody>\n",
       "</table>\n",
       "</div>"
      ],
      "text/plain": [
       "    fn  fv  m  s\n",
       "fn   1   1  0  1\n",
       "fv   1   1  1  1\n",
       "m    0   1  1  1\n",
       "s    1   1  1  1"
      ]
     },
     "execution_count": 116,
     "metadata": {},
     "output_type": "execute_result"
    }
   ],
   "source": [
    "labels = ['fn', 'fv', 'm', 's']\n",
    "tukeys_hsd(labels, fn['iLT'], fv['iLT'], m['iLT'], s['iLT'])"
   ]
  },
  {
   "cell_type": "code",
   "execution_count": 117,
   "id": "74f38525",
   "metadata": {},
   "outputs": [
    {
     "name": "stdout",
     "output_type": "stream",
     "text": [
      "442.26970368376465 2.742033171419283e-208\n"
     ]
    }
   ],
   "source": [
    "f, p = stats.f_oneway(fn['eLT'].to_numpy(), fv['eLT'].to_numpy(), m['eLT'].to_numpy(), s['eLT'].to_numpy())\n",
    "print(f, p)"
   ]
  },
  {
   "cell_type": "code",
   "execution_count": 118,
   "id": "2c0fc85d",
   "metadata": {},
   "outputs": [
    {
     "data": {
      "text/plain": [
       "0.4529437040987916"
      ]
     },
     "execution_count": 118,
     "metadata": {},
     "output_type": "execute_result"
    }
   ],
   "source": [
    "omega_squared(fn['eLT'], fv['eLT'], m['eLT'], s['eLT'])"
   ]
  },
  {
   "cell_type": "code",
   "execution_count": 119,
   "id": "e18e441c",
   "metadata": {
    "scrolled": true
   },
   "outputs": [
    {
     "data": {
      "text/html": [
       "<div>\n",
       "<style scoped>\n",
       "    .dataframe tbody tr th:only-of-type {\n",
       "        vertical-align: middle;\n",
       "    }\n",
       "\n",
       "    .dataframe tbody tr th {\n",
       "        vertical-align: top;\n",
       "    }\n",
       "\n",
       "    .dataframe thead th {\n",
       "        text-align: right;\n",
       "    }\n",
       "</style>\n",
       "<table border=\"1\" class=\"dataframe\">\n",
       "  <thead>\n",
       "    <tr style=\"text-align: right;\">\n",
       "      <th></th>\n",
       "      <th>fn</th>\n",
       "      <th>fv</th>\n",
       "      <th>m</th>\n",
       "      <th>s</th>\n",
       "    </tr>\n",
       "  </thead>\n",
       "  <tbody>\n",
       "    <tr>\n",
       "      <th>fn</th>\n",
       "      <td>1</td>\n",
       "      <td>1</td>\n",
       "      <td>1</td>\n",
       "      <td>1</td>\n",
       "    </tr>\n",
       "    <tr>\n",
       "      <th>fv</th>\n",
       "      <td>1</td>\n",
       "      <td>1</td>\n",
       "      <td>0</td>\n",
       "      <td>1</td>\n",
       "    </tr>\n",
       "    <tr>\n",
       "      <th>m</th>\n",
       "      <td>1</td>\n",
       "      <td>0</td>\n",
       "      <td>1</td>\n",
       "      <td>1</td>\n",
       "    </tr>\n",
       "    <tr>\n",
       "      <th>s</th>\n",
       "      <td>1</td>\n",
       "      <td>1</td>\n",
       "      <td>1</td>\n",
       "      <td>1</td>\n",
       "    </tr>\n",
       "  </tbody>\n",
       "</table>\n",
       "</div>"
      ],
      "text/plain": [
       "    fn  fv  m  s\n",
       "fn   1   1  1  1\n",
       "fv   1   1  0  1\n",
       "m    1   0  1  1\n",
       "s    1   1  1  1"
      ]
     },
     "execution_count": 119,
     "metadata": {},
     "output_type": "execute_result"
    }
   ],
   "source": [
    "labels = ['fn', 'fv', 'm', 's']\n",
    "tukeys_hsd(labels, fn['eLT'], fv['eLT'], m['eLT'], s['eLT'])"
   ]
  },
  {
   "cell_type": "code",
   "execution_count": 120,
   "id": "9e97514b",
   "metadata": {},
   "outputs": [
    {
     "name": "stdout",
     "output_type": "stream",
     "text": [
      "520.0027077871144 1.1071780448478368e-234\n"
     ]
    }
   ],
   "source": [
    "f, p = stats.f_oneway(fn['aLT'].to_numpy(), fv['aLT'].to_numpy(), m['aLT'].to_numpy(), s['aLT'].to_numpy())\n",
    "print(f, p)"
   ]
  },
  {
   "cell_type": "code",
   "execution_count": 121,
   "id": "031de594",
   "metadata": {},
   "outputs": [
    {
     "data": {
      "text/plain": [
       "0.49362376067511726"
      ]
     },
     "execution_count": 121,
     "metadata": {},
     "output_type": "execute_result"
    }
   ],
   "source": [
    "omega_squared(fn['aLT'], fv['aLT'], m['aLT'], s['aLT'])"
   ]
  },
  {
   "cell_type": "code",
   "execution_count": 122,
   "id": "54d22f4b",
   "metadata": {
    "scrolled": true
   },
   "outputs": [
    {
     "data": {
      "text/html": [
       "<div>\n",
       "<style scoped>\n",
       "    .dataframe tbody tr th:only-of-type {\n",
       "        vertical-align: middle;\n",
       "    }\n",
       "\n",
       "    .dataframe tbody tr th {\n",
       "        vertical-align: top;\n",
       "    }\n",
       "\n",
       "    .dataframe thead th {\n",
       "        text-align: right;\n",
       "    }\n",
       "</style>\n",
       "<table border=\"1\" class=\"dataframe\">\n",
       "  <thead>\n",
       "    <tr style=\"text-align: right;\">\n",
       "      <th></th>\n",
       "      <th>fn</th>\n",
       "      <th>fv</th>\n",
       "      <th>m</th>\n",
       "      <th>s</th>\n",
       "    </tr>\n",
       "  </thead>\n",
       "  <tbody>\n",
       "    <tr>\n",
       "      <th>fn</th>\n",
       "      <td>1</td>\n",
       "      <td>0</td>\n",
       "      <td>0</td>\n",
       "      <td>1</td>\n",
       "    </tr>\n",
       "    <tr>\n",
       "      <th>fv</th>\n",
       "      <td>0</td>\n",
       "      <td>1</td>\n",
       "      <td>1</td>\n",
       "      <td>1</td>\n",
       "    </tr>\n",
       "    <tr>\n",
       "      <th>m</th>\n",
       "      <td>0</td>\n",
       "      <td>1</td>\n",
       "      <td>1</td>\n",
       "      <td>1</td>\n",
       "    </tr>\n",
       "    <tr>\n",
       "      <th>s</th>\n",
       "      <td>1</td>\n",
       "      <td>1</td>\n",
       "      <td>1</td>\n",
       "      <td>1</td>\n",
       "    </tr>\n",
       "  </tbody>\n",
       "</table>\n",
       "</div>"
      ],
      "text/plain": [
       "    fn  fv  m  s\n",
       "fn   1   0  0  1\n",
       "fv   0   1  1  1\n",
       "m    0   1  1  1\n",
       "s    1   1  1  1"
      ]
     },
     "execution_count": 122,
     "metadata": {},
     "output_type": "execute_result"
    }
   ],
   "source": [
    "labels = ['fn', 'fv', 'm', 's']\n",
    "tukeys_hsd(labels, fn['aLT'], fv['aLT'], m['aLT'], s['aLT'])"
   ]
  },
  {
   "cell_type": "code",
   "execution_count": 123,
   "id": "be08e5fe",
   "metadata": {},
   "outputs": [
    {
     "name": "stdout",
     "output_type": "stream",
     "text": [
      "1133.7862493744585 0.0\n"
     ]
    }
   ],
   "source": [
    "f, p = stats.f_oneway(fn['pLT'].to_numpy(), fv['pLT'].to_numpy(), m['pLT'].to_numpy(), s['pLT'].to_numpy())\n",
    "print(f, p)"
   ]
  },
  {
   "cell_type": "code",
   "execution_count": 124,
   "id": "9cf4b3cb",
   "metadata": {},
   "outputs": [
    {
     "data": {
      "text/plain": [
       "0.6809552856525105"
      ]
     },
     "execution_count": 124,
     "metadata": {},
     "output_type": "execute_result"
    }
   ],
   "source": [
    "omega_squared(fn['pLT'], fv['pLT'], m['pLT'], s['pLT'])"
   ]
  },
  {
   "cell_type": "code",
   "execution_count": 125,
   "id": "e10afcf4",
   "metadata": {
    "scrolled": true
   },
   "outputs": [
    {
     "data": {
      "text/html": [
       "<div>\n",
       "<style scoped>\n",
       "    .dataframe tbody tr th:only-of-type {\n",
       "        vertical-align: middle;\n",
       "    }\n",
       "\n",
       "    .dataframe tbody tr th {\n",
       "        vertical-align: top;\n",
       "    }\n",
       "\n",
       "    .dataframe thead th {\n",
       "        text-align: right;\n",
       "    }\n",
       "</style>\n",
       "<table border=\"1\" class=\"dataframe\">\n",
       "  <thead>\n",
       "    <tr style=\"text-align: right;\">\n",
       "      <th></th>\n",
       "      <th>fn</th>\n",
       "      <th>fv</th>\n",
       "      <th>m</th>\n",
       "      <th>s</th>\n",
       "    </tr>\n",
       "  </thead>\n",
       "  <tbody>\n",
       "    <tr>\n",
       "      <th>fn</th>\n",
       "      <td>1</td>\n",
       "      <td>0</td>\n",
       "      <td>1</td>\n",
       "      <td>1</td>\n",
       "    </tr>\n",
       "    <tr>\n",
       "      <th>fv</th>\n",
       "      <td>0</td>\n",
       "      <td>1</td>\n",
       "      <td>1</td>\n",
       "      <td>1</td>\n",
       "    </tr>\n",
       "    <tr>\n",
       "      <th>m</th>\n",
       "      <td>1</td>\n",
       "      <td>1</td>\n",
       "      <td>1</td>\n",
       "      <td>1</td>\n",
       "    </tr>\n",
       "    <tr>\n",
       "      <th>s</th>\n",
       "      <td>1</td>\n",
       "      <td>1</td>\n",
       "      <td>1</td>\n",
       "      <td>1</td>\n",
       "    </tr>\n",
       "  </tbody>\n",
       "</table>\n",
       "</div>"
      ],
      "text/plain": [
       "    fn  fv  m  s\n",
       "fn   1   0  1  1\n",
       "fv   0   1  1  1\n",
       "m    1   1  1  1\n",
       "s    1   1  1  1"
      ]
     },
     "execution_count": 125,
     "metadata": {},
     "output_type": "execute_result"
    }
   ],
   "source": [
    "labels = ['fn', 'fv', 'm', 's']\n",
    "tukeys_hsd(labels, fn['pLT'], fv['pLT'], m['pLT'], s['pLT'])"
   ]
  },
  {
   "cell_type": "code",
   "execution_count": 126,
   "id": "c59a01fd",
   "metadata": {},
   "outputs": [
    {
     "name": "stdout",
     "output_type": "stream",
     "text": [
      "79.35567861009478 8.421354758009904e-48\n"
     ]
    }
   ],
   "source": [
    "f, p = stats.f_oneway(fn['cMT'].to_numpy(), fv['cMT'].to_numpy(), m['cMT'].to_numpy(), s['cMT'].to_numpy())\n",
    "print(f, p)"
   ]
  },
  {
   "cell_type": "code",
   "execution_count": 127,
   "id": "be9f55c1",
   "metadata": {},
   "outputs": [
    {
     "data": {
      "text/plain": [
       "0.12461889851099965"
      ]
     },
     "execution_count": 127,
     "metadata": {},
     "output_type": "execute_result"
    }
   ],
   "source": [
    "omega_squared(fn['cMT'], fv['cMT'], m['cMT'], s['cMT'])"
   ]
  },
  {
   "cell_type": "code",
   "execution_count": 128,
   "id": "7d0fac23",
   "metadata": {
    "scrolled": true
   },
   "outputs": [
    {
     "data": {
      "text/html": [
       "<div>\n",
       "<style scoped>\n",
       "    .dataframe tbody tr th:only-of-type {\n",
       "        vertical-align: middle;\n",
       "    }\n",
       "\n",
       "    .dataframe tbody tr th {\n",
       "        vertical-align: top;\n",
       "    }\n",
       "\n",
       "    .dataframe thead th {\n",
       "        text-align: right;\n",
       "    }\n",
       "</style>\n",
       "<table border=\"1\" class=\"dataframe\">\n",
       "  <thead>\n",
       "    <tr style=\"text-align: right;\">\n",
       "      <th></th>\n",
       "      <th>fn</th>\n",
       "      <th>fv</th>\n",
       "      <th>m</th>\n",
       "      <th>s</th>\n",
       "    </tr>\n",
       "  </thead>\n",
       "  <tbody>\n",
       "    <tr>\n",
       "      <th>fn</th>\n",
       "      <td>1</td>\n",
       "      <td>1</td>\n",
       "      <td>0</td>\n",
       "      <td>1</td>\n",
       "    </tr>\n",
       "    <tr>\n",
       "      <th>fv</th>\n",
       "      <td>1</td>\n",
       "      <td>1</td>\n",
       "      <td>1</td>\n",
       "      <td>1</td>\n",
       "    </tr>\n",
       "    <tr>\n",
       "      <th>m</th>\n",
       "      <td>0</td>\n",
       "      <td>1</td>\n",
       "      <td>1</td>\n",
       "      <td>1</td>\n",
       "    </tr>\n",
       "    <tr>\n",
       "      <th>s</th>\n",
       "      <td>1</td>\n",
       "      <td>1</td>\n",
       "      <td>1</td>\n",
       "      <td>1</td>\n",
       "    </tr>\n",
       "  </tbody>\n",
       "</table>\n",
       "</div>"
      ],
      "text/plain": [
       "    fn  fv  m  s\n",
       "fn   1   1  0  1\n",
       "fv   1   1  1  1\n",
       "m    0   1  1  1\n",
       "s    1   1  1  1"
      ]
     },
     "execution_count": 128,
     "metadata": {},
     "output_type": "execute_result"
    }
   ],
   "source": [
    "labels = ['fn', 'fv', 'm', 's']\n",
    "tukeys_hsd(labels, fn['cMT'], fv['cMT'], m['cMT'], s['cMT'])"
   ]
  },
  {
   "cell_type": "code",
   "execution_count": 129,
   "id": "9eeab0c1",
   "metadata": {},
   "outputs": [
    {
     "name": "stdout",
     "output_type": "stream",
     "text": [
      "464.75853688771343 3.892340491356314e-216\n"
     ]
    }
   ],
   "source": [
    "f, p = stats.f_oneway(fn['iMT'].to_numpy(), fv['iMT'].to_numpy(), m['iMT'].to_numpy(), s['iMT'].to_numpy())\n",
    "print(f, p)"
   ]
  },
  {
   "cell_type": "code",
   "execution_count": 130,
   "id": "30d45c00",
   "metadata": {},
   "outputs": [
    {
     "data": {
      "text/plain": [
       "0.4653694780716107"
      ]
     },
     "execution_count": 130,
     "metadata": {},
     "output_type": "execute_result"
    }
   ],
   "source": [
    "omega_squared(fn['iMT'], fv['iMT'], m['iMT'], s['iMT'])"
   ]
  },
  {
   "cell_type": "code",
   "execution_count": 131,
   "id": "4b102448",
   "metadata": {
    "scrolled": true
   },
   "outputs": [
    {
     "data": {
      "text/html": [
       "<div>\n",
       "<style scoped>\n",
       "    .dataframe tbody tr th:only-of-type {\n",
       "        vertical-align: middle;\n",
       "    }\n",
       "\n",
       "    .dataframe tbody tr th {\n",
       "        vertical-align: top;\n",
       "    }\n",
       "\n",
       "    .dataframe thead th {\n",
       "        text-align: right;\n",
       "    }\n",
       "</style>\n",
       "<table border=\"1\" class=\"dataframe\">\n",
       "  <thead>\n",
       "    <tr style=\"text-align: right;\">\n",
       "      <th></th>\n",
       "      <th>fn</th>\n",
       "      <th>fv</th>\n",
       "      <th>m</th>\n",
       "      <th>s</th>\n",
       "    </tr>\n",
       "  </thead>\n",
       "  <tbody>\n",
       "    <tr>\n",
       "      <th>fn</th>\n",
       "      <td>1</td>\n",
       "      <td>1</td>\n",
       "      <td>0</td>\n",
       "      <td>1</td>\n",
       "    </tr>\n",
       "    <tr>\n",
       "      <th>fv</th>\n",
       "      <td>1</td>\n",
       "      <td>1</td>\n",
       "      <td>1</td>\n",
       "      <td>1</td>\n",
       "    </tr>\n",
       "    <tr>\n",
       "      <th>m</th>\n",
       "      <td>0</td>\n",
       "      <td>1</td>\n",
       "      <td>1</td>\n",
       "      <td>1</td>\n",
       "    </tr>\n",
       "    <tr>\n",
       "      <th>s</th>\n",
       "      <td>1</td>\n",
       "      <td>1</td>\n",
       "      <td>1</td>\n",
       "      <td>1</td>\n",
       "    </tr>\n",
       "  </tbody>\n",
       "</table>\n",
       "</div>"
      ],
      "text/plain": [
       "    fn  fv  m  s\n",
       "fn   1   1  0  1\n",
       "fv   1   1  1  1\n",
       "m    0   1  1  1\n",
       "s    1   1  1  1"
      ]
     },
     "execution_count": 131,
     "metadata": {},
     "output_type": "execute_result"
    }
   ],
   "source": [
    "labels = ['fn', 'fv', 'm', 's']\n",
    "tukeys_hsd(labels, fn['iMT'], fv['iMT'], m['iMT'], s['iMT'])"
   ]
  },
  {
   "cell_type": "code",
   "execution_count": 132,
   "id": "be2cce77",
   "metadata": {},
   "outputs": [
    {
     "name": "stdout",
     "output_type": "stream",
     "text": [
      "258.2661682981105 3.006113655337485e-136\n"
     ]
    }
   ],
   "source": [
    "f, p = stats.f_oneway(fn['eMT'].to_numpy(), fv['eMT'].to_numpy(), m['eMT'].to_numpy(), s['eMT'].to_numpy())\n",
    "print(f, p)"
   ]
  },
  {
   "cell_type": "code",
   "execution_count": 133,
   "id": "148684b8",
   "metadata": {},
   "outputs": [
    {
     "data": {
      "text/plain": [
       "0.32448485197952714"
      ]
     },
     "execution_count": 133,
     "metadata": {},
     "output_type": "execute_result"
    }
   ],
   "source": [
    "omega_squared(fn['eMT'], fv['eMT'], m['eMT'], s['eMT'])"
   ]
  },
  {
   "cell_type": "code",
   "execution_count": 134,
   "id": "34354fb5",
   "metadata": {
    "scrolled": true
   },
   "outputs": [
    {
     "data": {
      "text/html": [
       "<div>\n",
       "<style scoped>\n",
       "    .dataframe tbody tr th:only-of-type {\n",
       "        vertical-align: middle;\n",
       "    }\n",
       "\n",
       "    .dataframe tbody tr th {\n",
       "        vertical-align: top;\n",
       "    }\n",
       "\n",
       "    .dataframe thead th {\n",
       "        text-align: right;\n",
       "    }\n",
       "</style>\n",
       "<table border=\"1\" class=\"dataframe\">\n",
       "  <thead>\n",
       "    <tr style=\"text-align: right;\">\n",
       "      <th></th>\n",
       "      <th>fn</th>\n",
       "      <th>fv</th>\n",
       "      <th>m</th>\n",
       "      <th>s</th>\n",
       "    </tr>\n",
       "  </thead>\n",
       "  <tbody>\n",
       "    <tr>\n",
       "      <th>fn</th>\n",
       "      <td>1</td>\n",
       "      <td>0</td>\n",
       "      <td>1</td>\n",
       "      <td>1</td>\n",
       "    </tr>\n",
       "    <tr>\n",
       "      <th>fv</th>\n",
       "      <td>0</td>\n",
       "      <td>1</td>\n",
       "      <td>0</td>\n",
       "      <td>1</td>\n",
       "    </tr>\n",
       "    <tr>\n",
       "      <th>m</th>\n",
       "      <td>1</td>\n",
       "      <td>0</td>\n",
       "      <td>1</td>\n",
       "      <td>1</td>\n",
       "    </tr>\n",
       "    <tr>\n",
       "      <th>s</th>\n",
       "      <td>1</td>\n",
       "      <td>1</td>\n",
       "      <td>1</td>\n",
       "      <td>1</td>\n",
       "    </tr>\n",
       "  </tbody>\n",
       "</table>\n",
       "</div>"
      ],
      "text/plain": [
       "    fn  fv  m  s\n",
       "fn   1   0  1  1\n",
       "fv   0   1  0  1\n",
       "m    1   0  1  1\n",
       "s    1   1  1  1"
      ]
     },
     "execution_count": 134,
     "metadata": {},
     "output_type": "execute_result"
    }
   ],
   "source": [
    "labels = ['fn', 'fv', 'm', 's']\n",
    "tukeys_hsd(labels, fn['eMT'], fv['eMT'], m['eMT'], s['eMT'])"
   ]
  },
  {
   "cell_type": "code",
   "execution_count": 135,
   "id": "021fca29",
   "metadata": {},
   "outputs": [
    {
     "name": "stdout",
     "output_type": "stream",
     "text": [
      "219.47840484361873 6.509598884425969e-119\n"
     ]
    }
   ],
   "source": [
    "f, p = stats.f_oneway(fn['aMT'].to_numpy(), fv['aMT'].to_numpy(), m['aMT'].to_numpy(), s['aMT'].to_numpy())\n",
    "print(f, p)"
   ]
  },
  {
   "cell_type": "code",
   "execution_count": 136,
   "id": "408891c2",
   "metadata": {},
   "outputs": [
    {
     "data": {
      "text/plain": [
       "0.2893058658971153"
      ]
     },
     "execution_count": 136,
     "metadata": {},
     "output_type": "execute_result"
    }
   ],
   "source": [
    "omega_squared(fn['aMT'], fv['aMT'], m['aMT'], s['aMT'])"
   ]
  },
  {
   "cell_type": "code",
   "execution_count": 137,
   "id": "ee8413ba",
   "metadata": {
    "scrolled": true
   },
   "outputs": [
    {
     "data": {
      "text/html": [
       "<div>\n",
       "<style scoped>\n",
       "    .dataframe tbody tr th:only-of-type {\n",
       "        vertical-align: middle;\n",
       "    }\n",
       "\n",
       "    .dataframe tbody tr th {\n",
       "        vertical-align: top;\n",
       "    }\n",
       "\n",
       "    .dataframe thead th {\n",
       "        text-align: right;\n",
       "    }\n",
       "</style>\n",
       "<table border=\"1\" class=\"dataframe\">\n",
       "  <thead>\n",
       "    <tr style=\"text-align: right;\">\n",
       "      <th></th>\n",
       "      <th>fn</th>\n",
       "      <th>fv</th>\n",
       "      <th>m</th>\n",
       "      <th>s</th>\n",
       "    </tr>\n",
       "  </thead>\n",
       "  <tbody>\n",
       "    <tr>\n",
       "      <th>fn</th>\n",
       "      <td>1</td>\n",
       "      <td>1</td>\n",
       "      <td>0</td>\n",
       "      <td>1</td>\n",
       "    </tr>\n",
       "    <tr>\n",
       "      <th>fv</th>\n",
       "      <td>1</td>\n",
       "      <td>1</td>\n",
       "      <td>1</td>\n",
       "      <td>1</td>\n",
       "    </tr>\n",
       "    <tr>\n",
       "      <th>m</th>\n",
       "      <td>0</td>\n",
       "      <td>1</td>\n",
       "      <td>1</td>\n",
       "      <td>1</td>\n",
       "    </tr>\n",
       "    <tr>\n",
       "      <th>s</th>\n",
       "      <td>1</td>\n",
       "      <td>1</td>\n",
       "      <td>1</td>\n",
       "      <td>1</td>\n",
       "    </tr>\n",
       "  </tbody>\n",
       "</table>\n",
       "</div>"
      ],
      "text/plain": [
       "    fn  fv  m  s\n",
       "fn   1   1  0  1\n",
       "fv   1   1  1  1\n",
       "m    0   1  1  1\n",
       "s    1   1  1  1"
      ]
     },
     "execution_count": 137,
     "metadata": {},
     "output_type": "execute_result"
    }
   ],
   "source": [
    "labels = ['fn', 'fv', 'm', 's']\n",
    "tukeys_hsd(labels, fn['aMT'], fv['aMT'], m['aMT'], s['aMT'])"
   ]
  },
  {
   "cell_type": "code",
   "execution_count": 138,
   "id": "b80ce17c",
   "metadata": {},
   "outputs": [
    {
     "name": "stdout",
     "output_type": "stream",
     "text": [
      "188.80353315973548 1.4885100122906552e-104\n"
     ]
    }
   ],
   "source": [
    "f, p = stats.f_oneway(fn['pMT'].to_numpy(), fv['pMT'].to_numpy(), m['pMT'].to_numpy(), s['pMT'].to_numpy())\n",
    "print(f, p)"
   ]
  },
  {
   "cell_type": "code",
   "execution_count": 139,
   "id": "c6b32b7a",
   "metadata": {},
   "outputs": [
    {
     "data": {
      "text/plain": [
       "0.25877887255317755"
      ]
     },
     "execution_count": 139,
     "metadata": {},
     "output_type": "execute_result"
    }
   ],
   "source": [
    "omega_squared(fn['pMT'], fv['pMT'], m['pMT'], s['pMT'])"
   ]
  },
  {
   "cell_type": "code",
   "execution_count": 140,
   "id": "51999918",
   "metadata": {
    "scrolled": true
   },
   "outputs": [
    {
     "data": {
      "text/html": [
       "<div>\n",
       "<style scoped>\n",
       "    .dataframe tbody tr th:only-of-type {\n",
       "        vertical-align: middle;\n",
       "    }\n",
       "\n",
       "    .dataframe tbody tr th {\n",
       "        vertical-align: top;\n",
       "    }\n",
       "\n",
       "    .dataframe thead th {\n",
       "        text-align: right;\n",
       "    }\n",
       "</style>\n",
       "<table border=\"1\" class=\"dataframe\">\n",
       "  <thead>\n",
       "    <tr style=\"text-align: right;\">\n",
       "      <th></th>\n",
       "      <th>fn</th>\n",
       "      <th>fv</th>\n",
       "      <th>m</th>\n",
       "      <th>s</th>\n",
       "    </tr>\n",
       "  </thead>\n",
       "  <tbody>\n",
       "    <tr>\n",
       "      <th>fn</th>\n",
       "      <td>1</td>\n",
       "      <td>1</td>\n",
       "      <td>1</td>\n",
       "      <td>1</td>\n",
       "    </tr>\n",
       "    <tr>\n",
       "      <th>fv</th>\n",
       "      <td>1</td>\n",
       "      <td>1</td>\n",
       "      <td>1</td>\n",
       "      <td>1</td>\n",
       "    </tr>\n",
       "    <tr>\n",
       "      <th>m</th>\n",
       "      <td>1</td>\n",
       "      <td>1</td>\n",
       "      <td>1</td>\n",
       "      <td>1</td>\n",
       "    </tr>\n",
       "    <tr>\n",
       "      <th>s</th>\n",
       "      <td>1</td>\n",
       "      <td>1</td>\n",
       "      <td>1</td>\n",
       "      <td>1</td>\n",
       "    </tr>\n",
       "  </tbody>\n",
       "</table>\n",
       "</div>"
      ],
      "text/plain": [
       "    fn  fv  m  s\n",
       "fn   1   1  1  1\n",
       "fv   1   1  1  1\n",
       "m    1   1  1  1\n",
       "s    1   1  1  1"
      ]
     },
     "execution_count": 140,
     "metadata": {},
     "output_type": "execute_result"
    }
   ],
   "source": [
    "labels = ['fn', 'fv', 'm', 's']\n",
    "tukeys_hsd(labels, fn['pMT'], fv['pMT'], m['pMT'], s['pMT'])"
   ]
  },
  {
   "cell_type": "code",
   "execution_count": null,
   "id": "81cd5768",
   "metadata": {},
   "outputs": [],
   "source": []
  }
 ],
 "metadata": {
  "kernelspec": {
   "display_name": "Python 3 (ipykernel)",
   "language": "python",
   "name": "python3"
  },
  "language_info": {
   "codemirror_mode": {
    "name": "ipython",
    "version": 3
   },
   "file_extension": ".py",
   "mimetype": "text/x-python",
   "name": "python",
   "nbconvert_exporter": "python",
   "pygments_lexer": "ipython3",
   "version": "3.9.7"
  }
 },
 "nbformat": 4,
 "nbformat_minor": 5
}
