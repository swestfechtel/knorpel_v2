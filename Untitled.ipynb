{
 "cells": [
  {
   "cell_type": "markdown",
   "id": "865bf986",
   "metadata": {},
   "source": [
    "# Computation times, number of measurements"
   ]
  },
  {
   "cell_type": "code",
   "execution_count": 1,
   "id": "0d2ced56",
   "metadata": {},
   "outputs": [],
   "source": [
    "import os\n",
    "import re\n",
    "\n",
    "import numpy as np\n",
    "import pandas as pd\n",
    "\n",
    "from tqdm.notebook import tqdm"
   ]
  },
  {
   "cell_type": "code",
   "execution_count": 10,
   "id": "e9492c00",
   "metadata": {},
   "outputs": [],
   "source": [
    "with open('comp times/an.log', 'r') as file:\n",
    "    data = file.read()#.replace('\\n', '')"
   ]
  },
  {
   "cell_type": "markdown",
   "id": "2485b163",
   "metadata": {},
   "source": [
    "n = 50 <br>\n",
    "number of virtual cores = 16\n",
    "- time: ```(?:::)(\\d+\\.\\d*)(?:::)``` = execution time per file\n",
    "- n tibia: ```(?:\\+\\+)(\\d+)(?:\\+\\+)``` = number of measurements per file, tibia\n",
    "- n femur: ```(?:<<)(\\d+)(?:>>)``` = number of measurements per file, femur\n",
    "- total execution time: ```(:?total execution time: )(\\d+\\.\\d+)```\n",
    "\n",
    "<br><br>\n",
    "Reihenfolge der Werte:<br>\n",
    "- sanity check: total execution time ~= n $\\cdot$ mean execution time\n",
    "- mean execution time\n",
    "- standard deviation execution time\n",
    "- mean #measurements tibia\n",
    "- standard deviation #measurements tibia\n",
    "- mean #measurements femur\n",
    "- standard deviation #measurements femur"
   ]
  },
  {
   "cell_type": "markdown",
   "id": "3ffd2814",
   "metadata": {},
   "source": [
    "### analytical normals"
   ]
  },
  {
   "cell_type": "code",
   "execution_count": 11,
   "id": "50a35586",
   "metadata": {},
   "outputs": [],
   "source": [
    "time = np.array(re.findall('(?:::)(\\d+\\.\\d*)(?:::)', data), dtype='float')"
   ]
  },
  {
   "cell_type": "code",
   "execution_count": 12,
   "id": "5855bd60",
   "metadata": {},
   "outputs": [],
   "source": [
    "an_time = time.copy()"
   ]
  },
  {
   "cell_type": "code",
   "execution_count": 13,
   "id": "2b7d8060",
   "metadata": {},
   "outputs": [],
   "source": [
    "n_tibia = np.array(re.findall('(?:\\+\\+)(\\d+)(?:\\+\\+)', data), dtype='int')"
   ]
  },
  {
   "cell_type": "code",
   "execution_count": 14,
   "id": "1c1b7a83",
   "metadata": {},
   "outputs": [],
   "source": [
    "n_femur = np.array(re.findall('(?:<<)(\\d+)(?:>>)', data), dtype='int')"
   ]
  },
  {
   "cell_type": "code",
   "execution_count": 15,
   "id": "3c371063",
   "metadata": {},
   "outputs": [],
   "source": [
    "total_exec_time = re.search('(:?total execution time: )(\\d+\\.\\d+)', data)"
   ]
  },
  {
   "cell_type": "code",
   "execution_count": 16,
   "id": "39f07aa6",
   "metadata": {},
   "outputs": [
    {
     "name": "stdout",
     "output_type": "stream",
     "text": [
      "153.00907179409145 164.33413577079773\n"
     ]
    }
   ],
   "source": [
    "print((50/16) * time.mean(), total_exec_time.groups()[1]) # sanity check"
   ]
  },
  {
   "cell_type": "code",
   "execution_count": 17,
   "id": "137f3eec",
   "metadata": {},
   "outputs": [
    {
     "data": {
      "text/plain": [
       "48.96290297410926"
      ]
     },
     "execution_count": 17,
     "metadata": {},
     "output_type": "execute_result"
    }
   ],
   "source": [
    "time.mean()"
   ]
  },
  {
   "cell_type": "code",
   "execution_count": 18,
   "id": "02949a38",
   "metadata": {},
   "outputs": [
    {
     "data": {
      "text/plain": [
       "15.025410217016583"
      ]
     },
     "execution_count": 18,
     "metadata": {},
     "output_type": "execute_result"
    }
   ],
   "source": [
    "time.std()"
   ]
  },
  {
   "cell_type": "code",
   "execution_count": 19,
   "id": "4c603fde",
   "metadata": {},
   "outputs": [
    {
     "data": {
      "text/plain": [
       "8573"
      ]
     },
     "execution_count": 19,
     "metadata": {},
     "output_type": "execute_result"
    }
   ],
   "source": [
    "round(n_tibia.mean())"
   ]
  },
  {
   "cell_type": "code",
   "execution_count": 20,
   "id": "c1728011",
   "metadata": {},
   "outputs": [
    {
     "data": {
      "text/plain": [
       "1462"
      ]
     },
     "execution_count": 20,
     "metadata": {},
     "output_type": "execute_result"
    }
   ],
   "source": [
    "round(n_tibia.std())"
   ]
  },
  {
   "cell_type": "code",
   "execution_count": 21,
   "id": "f0e58da7",
   "metadata": {},
   "outputs": [
    {
     "data": {
      "text/plain": [
       "17443"
      ]
     },
     "execution_count": 21,
     "metadata": {},
     "output_type": "execute_result"
    }
   ],
   "source": [
    "round(n_femur.mean())"
   ]
  },
  {
   "cell_type": "code",
   "execution_count": 22,
   "id": "15f8bbd6",
   "metadata": {},
   "outputs": [
    {
     "data": {
      "text/plain": [
       "3145"
      ]
     },
     "execution_count": 22,
     "metadata": {},
     "output_type": "execute_result"
    }
   ],
   "source": [
    "round(n_femur.std())"
   ]
  },
  {
   "cell_type": "markdown",
   "id": "2dc5927b",
   "metadata": {},
   "source": [
    "### tracing normals"
   ]
  },
  {
   "cell_type": "code",
   "execution_count": 23,
   "id": "bc2f80dc",
   "metadata": {},
   "outputs": [],
   "source": [
    "with open('comp times/fn.log', 'r') as file:\n",
    "    data = file.read()#.replace('\\n', '')"
   ]
  },
  {
   "cell_type": "code",
   "execution_count": 24,
   "id": "8f848e4f",
   "metadata": {},
   "outputs": [],
   "source": [
    "time = np.array(re.findall('(?:::)(\\d+\\.\\d*)(?:::)', data), dtype='float')"
   ]
  },
  {
   "cell_type": "code",
   "execution_count": 25,
   "id": "a1945284",
   "metadata": {},
   "outputs": [],
   "source": [
    "fn_time = time.copy()"
   ]
  },
  {
   "cell_type": "code",
   "execution_count": 26,
   "id": "d8265f11",
   "metadata": {},
   "outputs": [],
   "source": [
    "n_tibia = np.array(re.findall('(?:\\+\\+)(\\d+)(?:\\+\\+)', data), dtype='int')"
   ]
  },
  {
   "cell_type": "code",
   "execution_count": 27,
   "id": "cfcb5f93",
   "metadata": {},
   "outputs": [],
   "source": [
    "n_femur = np.array(re.findall('(?:<<)(\\d+)(?:>>)', data), dtype='int')"
   ]
  },
  {
   "cell_type": "code",
   "execution_count": 28,
   "id": "6b1dbc8d",
   "metadata": {},
   "outputs": [],
   "source": [
    "total_exec_time = re.search('(:?total execution time: )(\\d+\\.\\d+)', data)"
   ]
  },
  {
   "cell_type": "code",
   "execution_count": 29,
   "id": "29bc8365",
   "metadata": {},
   "outputs": [
    {
     "name": "stdout",
     "output_type": "stream",
     "text": [
      "5463.621601173464 6058.708066701889\n"
     ]
    }
   ],
   "source": [
    "print((50/16) * time.mean(), total_exec_time.groups()[1]) # sanity check"
   ]
  },
  {
   "cell_type": "code",
   "execution_count": 30,
   "id": "b370fb84",
   "metadata": {},
   "outputs": [
    {
     "data": {
      "text/plain": [
       "1748.3589123755085"
      ]
     },
     "execution_count": 30,
     "metadata": {},
     "output_type": "execute_result"
    }
   ],
   "source": [
    "time.mean()"
   ]
  },
  {
   "cell_type": "code",
   "execution_count": 31,
   "id": "8128a954",
   "metadata": {},
   "outputs": [
    {
     "data": {
      "text/plain": [
       "396.06019662104325"
      ]
     },
     "execution_count": 31,
     "metadata": {},
     "output_type": "execute_result"
    }
   ],
   "source": [
    "time.std()"
   ]
  },
  {
   "cell_type": "code",
   "execution_count": 32,
   "id": "dc19a364",
   "metadata": {},
   "outputs": [
    {
     "data": {
      "text/plain": [
       "8573"
      ]
     },
     "execution_count": 32,
     "metadata": {},
     "output_type": "execute_result"
    }
   ],
   "source": [
    "round(n_tibia.mean())"
   ]
  },
  {
   "cell_type": "code",
   "execution_count": 33,
   "id": "768b7112",
   "metadata": {},
   "outputs": [
    {
     "data": {
      "text/plain": [
       "1462"
      ]
     },
     "execution_count": 33,
     "metadata": {},
     "output_type": "execute_result"
    }
   ],
   "source": [
    "round(n_tibia.std())"
   ]
  },
  {
   "cell_type": "code",
   "execution_count": 34,
   "id": "6c2936b8",
   "metadata": {},
   "outputs": [
    {
     "data": {
      "text/plain": [
       "17443"
      ]
     },
     "execution_count": 34,
     "metadata": {},
     "output_type": "execute_result"
    }
   ],
   "source": [
    "round(n_femur.mean())"
   ]
  },
  {
   "cell_type": "code",
   "execution_count": 35,
   "id": "24c7bb88",
   "metadata": {},
   "outputs": [
    {
     "data": {
      "text/plain": [
       "3145"
      ]
     },
     "execution_count": 35,
     "metadata": {},
     "output_type": "execute_result"
    }
   ],
   "source": [
    "round(n_femur.std())"
   ]
  },
  {
   "cell_type": "markdown",
   "id": "44f794f8",
   "metadata": {},
   "source": [
    "### k-nearest neighbors"
   ]
  },
  {
   "cell_type": "code",
   "execution_count": 28,
   "id": "824d2fce",
   "metadata": {},
   "outputs": [],
   "source": [
    "with open('comp times/knn.log', 'r') as file:\n",
    "    data = file.read()#.replace('\\n', '')"
   ]
  },
  {
   "cell_type": "code",
   "execution_count": 29,
   "id": "6ff97c1b",
   "metadata": {},
   "outputs": [],
   "source": [
    "time = np.array(re.findall('(?:::)(\\d+\\.\\d*)(?:::)', data), dtype='float')"
   ]
  },
  {
   "cell_type": "code",
   "execution_count": 30,
   "id": "cde43e13",
   "metadata": {},
   "outputs": [],
   "source": [
    "knn_time = time.copy()"
   ]
  },
  {
   "cell_type": "code",
   "execution_count": 31,
   "id": "0232b68a",
   "metadata": {},
   "outputs": [],
   "source": [
    "n_tibia = np.array(re.findall('(?:\\+\\+)(\\d+)(?:\\+\\+)', data), dtype='int')"
   ]
  },
  {
   "cell_type": "code",
   "execution_count": 32,
   "id": "18e715ae",
   "metadata": {},
   "outputs": [],
   "source": [
    "n_femur = np.array(re.findall('(?:<<)(\\d+)(?:>>)', data), dtype='int')"
   ]
  },
  {
   "cell_type": "code",
   "execution_count": 33,
   "id": "506785b2",
   "metadata": {},
   "outputs": [],
   "source": [
    "total_exec_time = re.search('(:?total execution time: )(\\d+\\.\\d+)', data)"
   ]
  },
  {
   "cell_type": "code",
   "execution_count": 34,
   "id": "440c9174",
   "metadata": {},
   "outputs": [
    {
     "name": "stdout",
     "output_type": "stream",
     "text": [
      "263.8105387687683 263.8205418586731\n"
     ]
    }
   ],
   "source": [
    "print(50 * time.mean(), total_exec_time.groups()[1]) # sanity check"
   ]
  },
  {
   "cell_type": "code",
   "execution_count": 35,
   "id": "b57a1bce",
   "metadata": {},
   "outputs": [
    {
     "data": {
      "text/plain": [
       "5.276210775375366"
      ]
     },
     "execution_count": 35,
     "metadata": {},
     "output_type": "execute_result"
    }
   ],
   "source": [
    "time.mean()"
   ]
  },
  {
   "cell_type": "code",
   "execution_count": 36,
   "id": "9debe359",
   "metadata": {},
   "outputs": [
    {
     "data": {
      "text/plain": [
       "0.6234077920244628"
      ]
     },
     "execution_count": 36,
     "metadata": {},
     "output_type": "execute_result"
    }
   ],
   "source": [
    "time.std()"
   ]
  },
  {
   "cell_type": "code",
   "execution_count": 37,
   "id": "8c3c7cbd",
   "metadata": {},
   "outputs": [
    {
     "data": {
      "text/plain": [
       "8621"
      ]
     },
     "execution_count": 37,
     "metadata": {},
     "output_type": "execute_result"
    }
   ],
   "source": [
    "round(n_tibia.mean())"
   ]
  },
  {
   "cell_type": "code",
   "execution_count": 38,
   "id": "8bcb7793",
   "metadata": {},
   "outputs": [
    {
     "data": {
      "text/plain": [
       "1353"
      ]
     },
     "execution_count": 38,
     "metadata": {},
     "output_type": "execute_result"
    }
   ],
   "source": [
    "round(n_tibia.std())"
   ]
  },
  {
   "cell_type": "code",
   "execution_count": 39,
   "id": "50fed092",
   "metadata": {},
   "outputs": [
    {
     "data": {
      "text/plain": [
       "17625"
      ]
     },
     "execution_count": 39,
     "metadata": {},
     "output_type": "execute_result"
    }
   ],
   "source": [
    "round(n_femur.mean())"
   ]
  },
  {
   "cell_type": "code",
   "execution_count": 40,
   "id": "d646806d",
   "metadata": {},
   "outputs": [
    {
     "data": {
      "text/plain": [
       "3101"
      ]
     },
     "execution_count": 40,
     "metadata": {},
     "output_type": "execute_result"
    }
   ],
   "source": [
    "round(n_femur.std())"
   ]
  },
  {
   "cell_type": "markdown",
   "id": "003f3ecd",
   "metadata": {},
   "source": [
    "### naive k-nearest neighbors"
   ]
  },
  {
   "cell_type": "code",
   "execution_count": 41,
   "id": "998165a7",
   "metadata": {},
   "outputs": [],
   "source": [
    "with open('comp times/naive_knn.log', 'r') as file:\n",
    "    data = file.read()#.replace('\\n', '')"
   ]
  },
  {
   "cell_type": "code",
   "execution_count": 42,
   "id": "e332d68f",
   "metadata": {},
   "outputs": [],
   "source": [
    "time = np.array(re.findall('(?:::)(\\d+\\.\\d*)(?:::)', data), dtype='float')"
   ]
  },
  {
   "cell_type": "code",
   "execution_count": 43,
   "id": "eae4f57e",
   "metadata": {},
   "outputs": [],
   "source": [
    "naive_knn_time = time.copy()"
   ]
  },
  {
   "cell_type": "code",
   "execution_count": 44,
   "id": "b0049169",
   "metadata": {},
   "outputs": [],
   "source": [
    "n_tibia = np.array(re.findall('(?:\\+\\+)(\\d+)(?:\\+\\+)', data), dtype='int')"
   ]
  },
  {
   "cell_type": "code",
   "execution_count": 45,
   "id": "3c9d7f98",
   "metadata": {},
   "outputs": [],
   "source": [
    "n_femur = np.array(re.findall('(?:<<)(\\d+)(?:>>)', data), dtype='int')"
   ]
  },
  {
   "cell_type": "code",
   "execution_count": 46,
   "id": "d6966097",
   "metadata": {},
   "outputs": [],
   "source": [
    "total_exec_time = re.search('(:?total execution time: )(\\d+\\.\\d+)', data)"
   ]
  },
  {
   "cell_type": "code",
   "execution_count": 47,
   "id": "90ddecc2",
   "metadata": {},
   "outputs": [
    {
     "name": "stdout",
     "output_type": "stream",
     "text": [
      "6966.379287168384 8248.612604856491\n"
     ]
    }
   ],
   "source": [
    "print((50/16) * time.mean(), total_exec_time.groups()[1]) # sanity check"
   ]
  },
  {
   "cell_type": "code",
   "execution_count": 48,
   "id": "09964655",
   "metadata": {},
   "outputs": [
    {
     "data": {
      "text/plain": [
       "2229.241371893883"
      ]
     },
     "execution_count": 48,
     "metadata": {},
     "output_type": "execute_result"
    }
   ],
   "source": [
    "time.mean()"
   ]
  },
  {
   "cell_type": "code",
   "execution_count": 49,
   "id": "462b16ea",
   "metadata": {},
   "outputs": [
    {
     "data": {
      "text/plain": [
       "690.3692368532252"
      ]
     },
     "execution_count": 49,
     "metadata": {},
     "output_type": "execute_result"
    }
   ],
   "source": [
    "time.std()"
   ]
  },
  {
   "cell_type": "code",
   "execution_count": 50,
   "id": "9d392ce8",
   "metadata": {},
   "outputs": [
    {
     "data": {
      "text/plain": [
       "8621"
      ]
     },
     "execution_count": 50,
     "metadata": {},
     "output_type": "execute_result"
    }
   ],
   "source": [
    "round(n_tibia.mean())"
   ]
  },
  {
   "cell_type": "code",
   "execution_count": 51,
   "id": "fa0af3ed",
   "metadata": {},
   "outputs": [
    {
     "data": {
      "text/plain": [
       "1353"
      ]
     },
     "execution_count": 51,
     "metadata": {},
     "output_type": "execute_result"
    }
   ],
   "source": [
    "round(n_tibia.std())"
   ]
  },
  {
   "cell_type": "code",
   "execution_count": 52,
   "id": "83066241",
   "metadata": {},
   "outputs": [
    {
     "data": {
      "text/plain": [
       "17625"
      ]
     },
     "execution_count": 52,
     "metadata": {},
     "output_type": "execute_result"
    }
   ],
   "source": [
    "round(n_femur.mean())"
   ]
  },
  {
   "cell_type": "code",
   "execution_count": 53,
   "id": "0f37d95b",
   "metadata": {},
   "outputs": [
    {
     "data": {
      "text/plain": [
       "3101"
      ]
     },
     "execution_count": 53,
     "metadata": {},
     "output_type": "execute_result"
    }
   ],
   "source": [
    "round(n_femur.std())"
   ]
  },
  {
   "cell_type": "markdown",
   "id": "dd2f789e",
   "metadata": {},
   "source": [
    "### mesh"
   ]
  },
  {
   "cell_type": "code",
   "execution_count": 54,
   "id": "b93e645c",
   "metadata": {},
   "outputs": [],
   "source": [
    "with open('comp times/mesh.log', 'r') as file:\n",
    "    data = file.read()#.replace('\\n', '')"
   ]
  },
  {
   "cell_type": "code",
   "execution_count": 55,
   "id": "93f1809f",
   "metadata": {},
   "outputs": [],
   "source": [
    "time = np.array(re.findall('(?:::)(\\d+\\.\\d*)(?:::)', data), dtype='float')"
   ]
  },
  {
   "cell_type": "code",
   "execution_count": 56,
   "id": "2196ca37",
   "metadata": {},
   "outputs": [],
   "source": [
    "mesh_time = time.copy()"
   ]
  },
  {
   "cell_type": "code",
   "execution_count": 57,
   "id": "6dcd844e",
   "metadata": {},
   "outputs": [],
   "source": [
    "n_tibia = np.array(re.findall('(?:\\+\\+)(\\d+)(?:\\+\\+)', data), dtype='int')"
   ]
  },
  {
   "cell_type": "code",
   "execution_count": 58,
   "id": "6fff5337",
   "metadata": {},
   "outputs": [],
   "source": [
    "n_femur = np.array(re.findall('(?:<<)(\\d+)(?:>>)', data), dtype='int')"
   ]
  },
  {
   "cell_type": "code",
   "execution_count": 59,
   "id": "458b31f0",
   "metadata": {},
   "outputs": [],
   "source": [
    "total_exec_time = re.search('(:?total execution time: )(\\d+\\.\\d+)', data)"
   ]
  },
  {
   "cell_type": "code",
   "execution_count": 60,
   "id": "83f87dc4",
   "metadata": {},
   "outputs": [
    {
     "name": "stdout",
     "output_type": "stream",
     "text": [
      "204.6762694509662 222.30282378196716\n"
     ]
    }
   ],
   "source": [
    "print((50/16) * time.mean(), total_exec_time.groups()[1]) # sanity check"
   ]
  },
  {
   "cell_type": "code",
   "execution_count": 61,
   "id": "fd5a3589",
   "metadata": {},
   "outputs": [
    {
     "data": {
      "text/plain": [
       "65.49640622430918"
      ]
     },
     "execution_count": 61,
     "metadata": {},
     "output_type": "execute_result"
    }
   ],
   "source": [
    "time.mean()"
   ]
  },
  {
   "cell_type": "code",
   "execution_count": 62,
   "id": "96b31461",
   "metadata": {},
   "outputs": [
    {
     "data": {
      "text/plain": [
       "19.696976303100552"
      ]
     },
     "execution_count": 62,
     "metadata": {},
     "output_type": "execute_result"
    }
   ],
   "source": [
    "time.std()"
   ]
  },
  {
   "cell_type": "code",
   "execution_count": 63,
   "id": "00c6ba0d",
   "metadata": {},
   "outputs": [
    {
     "data": {
      "text/plain": [
       "8621"
      ]
     },
     "execution_count": 63,
     "metadata": {},
     "output_type": "execute_result"
    }
   ],
   "source": [
    "round(n_tibia.mean())"
   ]
  },
  {
   "cell_type": "code",
   "execution_count": 64,
   "id": "ad5bf014",
   "metadata": {},
   "outputs": [
    {
     "data": {
      "text/plain": [
       "1353"
      ]
     },
     "execution_count": 64,
     "metadata": {},
     "output_type": "execute_result"
    }
   ],
   "source": [
    "round(n_tibia.std())"
   ]
  },
  {
   "cell_type": "code",
   "execution_count": 65,
   "id": "e59df4b9",
   "metadata": {},
   "outputs": [
    {
     "data": {
      "text/plain": [
       "17625"
      ]
     },
     "execution_count": 65,
     "metadata": {},
     "output_type": "execute_result"
    }
   ],
   "source": [
    "round(n_femur.mean())"
   ]
  },
  {
   "cell_type": "code",
   "execution_count": 66,
   "id": "b1fd367c",
   "metadata": {},
   "outputs": [
    {
     "data": {
      "text/plain": [
       "3101"
      ]
     },
     "execution_count": 66,
     "metadata": {},
     "output_type": "execute_result"
    }
   ],
   "source": [
    "round(n_femur.std())"
   ]
  },
  {
   "cell_type": "markdown",
   "id": "a923aaff",
   "metadata": {},
   "source": [
    "### sphere ray tracing"
   ]
  },
  {
   "cell_type": "code",
   "execution_count": 67,
   "id": "24fc5fc3",
   "metadata": {},
   "outputs": [],
   "source": [
    "with open('comp times/sphere.log', 'r') as file:\n",
    "    data = file.read()#.replace('\\n', '')"
   ]
  },
  {
   "cell_type": "code",
   "execution_count": 68,
   "id": "d361692f",
   "metadata": {},
   "outputs": [],
   "source": [
    "time = np.array(re.findall('(?:::)(\\d+\\.\\d*)(?:::)', data), dtype='float')"
   ]
  },
  {
   "cell_type": "code",
   "execution_count": 69,
   "id": "8bd5b5f9",
   "metadata": {},
   "outputs": [],
   "source": [
    "sphere_time = time.copy()"
   ]
  },
  {
   "cell_type": "code",
   "execution_count": 70,
   "id": "3b4071be",
   "metadata": {},
   "outputs": [],
   "source": [
    "n_tibia = np.array(re.findall('(?:\\+\\+)(\\d+)(?:\\+\\+)', data), dtype='int')"
   ]
  },
  {
   "cell_type": "code",
   "execution_count": 71,
   "id": "0cc9fa5d",
   "metadata": {},
   "outputs": [],
   "source": [
    "n_femur = np.array(re.findall('(?:<<)(\\d+)(?:>>)', data), dtype='int')"
   ]
  },
  {
   "cell_type": "code",
   "execution_count": 72,
   "id": "e416f298",
   "metadata": {},
   "outputs": [],
   "source": [
    "total_exec_time = re.search('(:?total execution time: )(\\d+\\.\\d+)', data)"
   ]
  },
  {
   "cell_type": "code",
   "execution_count": 73,
   "id": "73628558",
   "metadata": {},
   "outputs": [
    {
     "name": "stdout",
     "output_type": "stream",
     "text": [
      "17563.086158275604 17563.106155395508\n"
     ]
    }
   ],
   "source": [
    "print(50 * time.mean(), total_exec_time.groups()[1]) # sanity check"
   ]
  },
  {
   "cell_type": "code",
   "execution_count": 74,
   "id": "84bba8ca",
   "metadata": {},
   "outputs": [
    {
     "data": {
      "text/plain": [
       "351.2617231655121"
      ]
     },
     "execution_count": 74,
     "metadata": {},
     "output_type": "execute_result"
    }
   ],
   "source": [
    "time.mean()"
   ]
  },
  {
   "cell_type": "code",
   "execution_count": 75,
   "id": "0202419f",
   "metadata": {},
   "outputs": [
    {
     "data": {
      "text/plain": [
       "9.58136470645027"
      ]
     },
     "execution_count": 75,
     "metadata": {},
     "output_type": "execute_result"
    }
   ],
   "source": [
    "time.std()"
   ]
  },
  {
   "cell_type": "code",
   "execution_count": 76,
   "id": "6366c019",
   "metadata": {},
   "outputs": [
    {
     "data": {
      "text/plain": [
       "966"
      ]
     },
     "execution_count": 76,
     "metadata": {},
     "output_type": "execute_result"
    }
   ],
   "source": [
    "round(n_tibia.mean())"
   ]
  },
  {
   "cell_type": "code",
   "execution_count": 77,
   "id": "43bb6b5d",
   "metadata": {},
   "outputs": [
    {
     "data": {
      "text/plain": [
       "95"
      ]
     },
     "execution_count": 77,
     "metadata": {},
     "output_type": "execute_result"
    }
   ],
   "source": [
    "round(n_tibia.std())"
   ]
  },
  {
   "cell_type": "code",
   "execution_count": 78,
   "id": "310b3bec",
   "metadata": {},
   "outputs": [
    {
     "data": {
      "text/plain": [
       "7396"
      ]
     },
     "execution_count": 78,
     "metadata": {},
     "output_type": "execute_result"
    }
   ],
   "source": [
    "round(n_femur.mean())"
   ]
  },
  {
   "cell_type": "code",
   "execution_count": 79,
   "id": "a2524e78",
   "metadata": {},
   "outputs": [
    {
     "data": {
      "text/plain": [
       "352"
      ]
     },
     "execution_count": 79,
     "metadata": {},
     "output_type": "execute_result"
    }
   ],
   "source": [
    "round(n_femur.std())"
   ]
  },
  {
   "cell_type": "markdown",
   "id": "27d79884",
   "metadata": {},
   "source": [
    "# Computation times"
   ]
  },
  {
   "cell_type": "code",
   "execution_count": 82,
   "id": "16cad27b",
   "metadata": {},
   "outputs": [],
   "source": [
    "mesh_time = np.hstack((mesh_time, np.array([mesh_time.mean()])))\n",
    "fn_time = np.hstack((fn_time, np.array([fn_time.mean()])))\n",
    "an_time = np.hstack((an_time, np.array([an_time.mean()])))"
   ]
  },
  {
   "cell_type": "code",
   "execution_count": 85,
   "id": "e4dbf510",
   "metadata": {},
   "outputs": [],
   "source": [
    "df = pd.DataFrame({'mesh_time': mesh_time, 'sphere_time': sphere_time, 'knn_time': knn_time, 'naive_knn_time': naive_knn_time, 'fn_time': fn_time, 'an_time': an_time})"
   ]
  },
  {
   "cell_type": "code",
   "execution_count": 87,
   "id": "aa9e4511",
   "metadata": {},
   "outputs": [],
   "source": [
    "df['mesh_time'] = df['mesh_time'].apply(lambda l: l / 16)\n",
    "df['fn_time'] = df['fn_time'].apply(lambda l: l / 16)\n",
    "df['an_time'] = df['an_time'].apply(lambda l: l / 16)\n",
    "df['naive_knn_time'] = df['naive_knn_time'].apply(lambda l: l / 16)"
   ]
  },
  {
   "cell_type": "code",
   "execution_count": 88,
   "id": "60162439",
   "metadata": {},
   "outputs": [
    {
     "data": {
      "text/html": [
       "<div>\n",
       "<style scoped>\n",
       "    .dataframe tbody tr th:only-of-type {\n",
       "        vertical-align: middle;\n",
       "    }\n",
       "\n",
       "    .dataframe tbody tr th {\n",
       "        vertical-align: top;\n",
       "    }\n",
       "\n",
       "    .dataframe thead th {\n",
       "        text-align: right;\n",
       "    }\n",
       "</style>\n",
       "<table border=\"1\" class=\"dataframe\">\n",
       "  <thead>\n",
       "    <tr style=\"text-align: right;\">\n",
       "      <th></th>\n",
       "      <th>mesh_time</th>\n",
       "      <th>sphere_time</th>\n",
       "      <th>knn_time</th>\n",
       "      <th>naive_knn_time</th>\n",
       "      <th>fn_time</th>\n",
       "      <th>an_time</th>\n",
       "    </tr>\n",
       "  </thead>\n",
       "  <tbody>\n",
       "    <tr>\n",
       "      <th>0</th>\n",
       "      <td>2.598771</td>\n",
       "      <td>350.794583</td>\n",
       "      <td>5.081094</td>\n",
       "      <td>95.397174</td>\n",
       "      <td>95.419438</td>\n",
       "      <td>1.940993</td>\n",
       "    </tr>\n",
       "    <tr>\n",
       "      <th>1</th>\n",
       "      <td>2.639896</td>\n",
       "      <td>356.091005</td>\n",
       "      <td>6.493062</td>\n",
       "      <td>107.849322</td>\n",
       "      <td>114.868429</td>\n",
       "      <td>1.987930</td>\n",
       "    </tr>\n",
       "    <tr>\n",
       "      <th>2</th>\n",
       "      <td>2.704396</td>\n",
       "      <td>354.288024</td>\n",
       "      <td>5.348923</td>\n",
       "      <td>108.439769</td>\n",
       "      <td>117.021551</td>\n",
       "      <td>2.037680</td>\n",
       "    </tr>\n",
       "    <tr>\n",
       "      <th>3</th>\n",
       "      <td>3.036972</td>\n",
       "      <td>359.112059</td>\n",
       "      <td>5.520094</td>\n",
       "      <td>111.162778</td>\n",
       "      <td>125.821050</td>\n",
       "      <td>2.369781</td>\n",
       "    </tr>\n",
       "    <tr>\n",
       "      <th>4</th>\n",
       "      <td>3.038410</td>\n",
       "      <td>364.793255</td>\n",
       "      <td>6.354691</td>\n",
       "      <td>125.441351</td>\n",
       "      <td>134.943930</td>\n",
       "      <td>2.477137</td>\n",
       "    </tr>\n",
       "    <tr>\n",
       "      <th>5</th>\n",
       "      <td>3.331772</td>\n",
       "      <td>352.625932</td>\n",
       "      <td>6.005312</td>\n",
       "      <td>125.966747</td>\n",
       "      <td>135.481326</td>\n",
       "      <td>2.572825</td>\n",
       "    </tr>\n",
       "    <tr>\n",
       "      <th>6</th>\n",
       "      <td>3.376560</td>\n",
       "      <td>349.988044</td>\n",
       "      <td>5.218157</td>\n",
       "      <td>134.212153</td>\n",
       "      <td>136.776134</td>\n",
       "      <td>2.918907</td>\n",
       "    </tr>\n",
       "    <tr>\n",
       "      <th>7</th>\n",
       "      <td>3.468185</td>\n",
       "      <td>350.331954</td>\n",
       "      <td>5.725424</td>\n",
       "      <td>136.077736</td>\n",
       "      <td>146.121014</td>\n",
       "      <td>3.438610</td>\n",
       "    </tr>\n",
       "    <tr>\n",
       "      <th>8</th>\n",
       "      <td>3.528553</td>\n",
       "      <td>349.549185</td>\n",
       "      <td>5.255057</td>\n",
       "      <td>143.377032</td>\n",
       "      <td>150.384803</td>\n",
       "      <td>3.438173</td>\n",
       "    </tr>\n",
       "    <tr>\n",
       "      <th>9</th>\n",
       "      <td>3.844537</td>\n",
       "      <td>338.392137</td>\n",
       "      <td>4.539814</td>\n",
       "      <td>144.829669</td>\n",
       "      <td>150.492927</td>\n",
       "      <td>3.669712</td>\n",
       "    </tr>\n",
       "    <tr>\n",
       "      <th>10</th>\n",
       "      <td>3.899911</td>\n",
       "      <td>345.061699</td>\n",
       "      <td>4.887011</td>\n",
       "      <td>145.168898</td>\n",
       "      <td>151.891797</td>\n",
       "      <td>3.862175</td>\n",
       "    </tr>\n",
       "    <tr>\n",
       "      <th>11</th>\n",
       "      <td>4.149214</td>\n",
       "      <td>347.665012</td>\n",
       "      <td>4.938223</td>\n",
       "      <td>159.225172</td>\n",
       "      <td>158.738564</td>\n",
       "      <td>2.138307</td>\n",
       "    </tr>\n",
       "    <tr>\n",
       "      <th>12</th>\n",
       "      <td>4.632079</td>\n",
       "      <td>349.573119</td>\n",
       "      <td>5.115111</td>\n",
       "      <td>199.616938</td>\n",
       "      <td>170.102628</td>\n",
       "      <td>2.104621</td>\n",
       "    </tr>\n",
       "    <tr>\n",
       "      <th>13</th>\n",
       "      <td>5.256415</td>\n",
       "      <td>348.960184</td>\n",
       "      <td>5.289185</td>\n",
       "      <td>199.637751</td>\n",
       "      <td>174.320438</td>\n",
       "      <td>4.155491</td>\n",
       "    </tr>\n",
       "    <tr>\n",
       "      <th>14</th>\n",
       "      <td>5.442799</td>\n",
       "      <td>334.916074</td>\n",
       "      <td>4.665525</td>\n",
       "      <td>201.928823</td>\n",
       "      <td>179.573148</td>\n",
       "      <td>2.364719</td>\n",
       "    </tr>\n",
       "    <tr>\n",
       "      <th>15</th>\n",
       "      <td>4.165534</td>\n",
       "      <td>352.685763</td>\n",
       "      <td>4.979572</td>\n",
       "      <td>203.827188</td>\n",
       "      <td>117.241110</td>\n",
       "      <td>2.477355</td>\n",
       "    </tr>\n",
       "    <tr>\n",
       "      <th>16</th>\n",
       "      <td>3.062804</td>\n",
       "      <td>343.594584</td>\n",
       "      <td>5.081756</td>\n",
       "      <td>119.380318</td>\n",
       "      <td>124.740947</td>\n",
       "      <td>5.013777</td>\n",
       "    </tr>\n",
       "    <tr>\n",
       "      <th>17</th>\n",
       "      <td>4.540685</td>\n",
       "      <td>356.560618</td>\n",
       "      <td>5.364251</td>\n",
       "      <td>105.919547</td>\n",
       "      <td>113.204426</td>\n",
       "      <td>5.116215</td>\n",
       "    </tr>\n",
       "    <tr>\n",
       "      <th>18</th>\n",
       "      <td>4.622785</td>\n",
       "      <td>352.885359</td>\n",
       "      <td>4.951901</td>\n",
       "      <td>112.135529</td>\n",
       "      <td>141.207339</td>\n",
       "      <td>5.130215</td>\n",
       "    </tr>\n",
       "    <tr>\n",
       "      <th>19</th>\n",
       "      <td>4.801535</td>\n",
       "      <td>349.883554</td>\n",
       "      <td>5.032712</td>\n",
       "      <td>86.538646</td>\n",
       "      <td>110.145520</td>\n",
       "      <td>2.654267</td>\n",
       "    </tr>\n",
       "    <tr>\n",
       "      <th>20</th>\n",
       "      <td>3.845355</td>\n",
       "      <td>362.679961</td>\n",
       "      <td>6.168021</td>\n",
       "      <td>139.156217</td>\n",
       "      <td>144.369412</td>\n",
       "      <td>3.257063</td>\n",
       "    </tr>\n",
       "    <tr>\n",
       "      <th>21</th>\n",
       "      <td>4.439686</td>\n",
       "      <td>358.747099</td>\n",
       "      <td>6.277668</td>\n",
       "      <td>114.845603</td>\n",
       "      <td>129.400827</td>\n",
       "      <td>3.504613</td>\n",
       "    </tr>\n",
       "    <tr>\n",
       "      <th>22</th>\n",
       "      <td>4.486555</td>\n",
       "      <td>344.942088</td>\n",
       "      <td>4.950250</td>\n",
       "      <td>136.220492</td>\n",
       "      <td>91.207972</td>\n",
       "      <td>3.233074</td>\n",
       "    </tr>\n",
       "    <tr>\n",
       "      <th>23</th>\n",
       "      <td>5.344262</td>\n",
       "      <td>351.218437</td>\n",
       "      <td>5.800222</td>\n",
       "      <td>90.981889</td>\n",
       "      <td>124.200592</td>\n",
       "      <td>2.074687</td>\n",
       "    </tr>\n",
       "    <tr>\n",
       "      <th>24</th>\n",
       "      <td>5.831513</td>\n",
       "      <td>355.451799</td>\n",
       "      <td>6.301758</td>\n",
       "      <td>159.884012</td>\n",
       "      <td>148.947188</td>\n",
       "      <td>2.107390</td>\n",
       "    </tr>\n",
       "    <tr>\n",
       "      <th>25</th>\n",
       "      <td>4.773216</td>\n",
       "      <td>340.370184</td>\n",
       "      <td>5.178218</td>\n",
       "      <td>81.668930</td>\n",
       "      <td>166.980424</td>\n",
       "      <td>2.456259</td>\n",
       "    </tr>\n",
       "    <tr>\n",
       "      <th>26</th>\n",
       "      <td>4.389293</td>\n",
       "      <td>361.387866</td>\n",
       "      <td>6.217035</td>\n",
       "      <td>100.971171</td>\n",
       "      <td>166.279277</td>\n",
       "      <td>2.790678</td>\n",
       "    </tr>\n",
       "    <tr>\n",
       "      <th>27</th>\n",
       "      <td>6.879431</td>\n",
       "      <td>334.387819</td>\n",
       "      <td>4.487002</td>\n",
       "      <td>185.755171</td>\n",
       "      <td>189.695704</td>\n",
       "      <td>1.905298</td>\n",
       "    </tr>\n",
       "    <tr>\n",
       "      <th>28</th>\n",
       "      <td>6.626199</td>\n",
       "      <td>337.593135</td>\n",
       "      <td>4.375998</td>\n",
       "      <td>104.508595</td>\n",
       "      <td>151.562231</td>\n",
       "      <td>3.412834</td>\n",
       "    </tr>\n",
       "    <tr>\n",
       "      <th>29</th>\n",
       "      <td>3.467078</td>\n",
       "      <td>347.464230</td>\n",
       "      <td>5.274999</td>\n",
       "      <td>112.938209</td>\n",
       "      <td>185.235152</td>\n",
       "      <td>3.437797</td>\n",
       "    </tr>\n",
       "    <tr>\n",
       "      <th>30</th>\n",
       "      <td>3.806370</td>\n",
       "      <td>354.975103</td>\n",
       "      <td>4.619903</td>\n",
       "      <td>138.849990</td>\n",
       "      <td>102.025815</td>\n",
       "      <td>4.304781</td>\n",
       "    </tr>\n",
       "    <tr>\n",
       "      <th>31</th>\n",
       "      <td>5.858600</td>\n",
       "      <td>359.481687</td>\n",
       "      <td>5.737922</td>\n",
       "      <td>103.307857</td>\n",
       "      <td>114.909687</td>\n",
       "      <td>2.195905</td>\n",
       "    </tr>\n",
       "    <tr>\n",
       "      <th>32</th>\n",
       "      <td>4.226046</td>\n",
       "      <td>347.209279</td>\n",
       "      <td>4.556775</td>\n",
       "      <td>214.257429</td>\n",
       "      <td>189.304885</td>\n",
       "      <td>1.931969</td>\n",
       "    </tr>\n",
       "    <tr>\n",
       "      <th>33</th>\n",
       "      <td>3.695594</td>\n",
       "      <td>349.740853</td>\n",
       "      <td>4.545019</td>\n",
       "      <td>245.654974</td>\n",
       "      <td>187.972550</td>\n",
       "      <td>3.027678</td>\n",
       "    </tr>\n",
       "    <tr>\n",
       "      <th>34</th>\n",
       "      <td>4.392834</td>\n",
       "      <td>337.107473</td>\n",
       "      <td>4.290001</td>\n",
       "      <td>131.061195</td>\n",
       "      <td>120.941444</td>\n",
       "      <td>2.148350</td>\n",
       "    </tr>\n",
       "    <tr>\n",
       "      <th>35</th>\n",
       "      <td>4.559959</td>\n",
       "      <td>363.990838</td>\n",
       "      <td>5.158749</td>\n",
       "      <td>133.608891</td>\n",
       "      <td>93.100653</td>\n",
       "      <td>3.646867</td>\n",
       "    </tr>\n",
       "    <tr>\n",
       "      <th>36</th>\n",
       "      <td>8.076638</td>\n",
       "      <td>341.681260</td>\n",
       "      <td>4.441647</td>\n",
       "      <td>103.954517</td>\n",
       "      <td>102.766855</td>\n",
       "      <td>5.250347</td>\n",
       "    </tr>\n",
       "    <tr>\n",
       "      <th>37</th>\n",
       "      <td>3.503714</td>\n",
       "      <td>348.878829</td>\n",
       "      <td>5.485334</td>\n",
       "      <td>202.367829</td>\n",
       "      <td>147.612574</td>\n",
       "      <td>2.815563</td>\n",
       "    </tr>\n",
       "    <tr>\n",
       "      <th>38</th>\n",
       "      <td>4.647091</td>\n",
       "      <td>357.022755</td>\n",
       "      <td>6.582526</td>\n",
       "      <td>120.293757</td>\n",
       "      <td>129.828191</td>\n",
       "      <td>2.397839</td>\n",
       "    </tr>\n",
       "    <tr>\n",
       "      <th>39</th>\n",
       "      <td>3.066301</td>\n",
       "      <td>340.641457</td>\n",
       "      <td>4.868998</td>\n",
       "      <td>110.467785</td>\n",
       "      <td>111.601007</td>\n",
       "      <td>3.830629</td>\n",
       "    </tr>\n",
       "    <tr>\n",
       "      <th>40</th>\n",
       "      <td>3.653307</td>\n",
       "      <td>343.210576</td>\n",
       "      <td>4.687219</td>\n",
       "      <td>269.845695</td>\n",
       "      <td>115.550340</td>\n",
       "      <td>2.371150</td>\n",
       "    </tr>\n",
       "    <tr>\n",
       "      <th>41</th>\n",
       "      <td>2.479859</td>\n",
       "      <td>347.267073</td>\n",
       "      <td>5.027836</td>\n",
       "      <td>85.760158</td>\n",
       "      <td>93.808425</td>\n",
       "      <td>5.650670</td>\n",
       "    </tr>\n",
       "    <tr>\n",
       "      <th>42</th>\n",
       "      <td>2.028517</td>\n",
       "      <td>351.807094</td>\n",
       "      <td>4.836121</td>\n",
       "      <td>122.072672</td>\n",
       "      <td>104.360081</td>\n",
       "      <td>2.230555</td>\n",
       "    </tr>\n",
       "    <tr>\n",
       "      <th>43</th>\n",
       "      <td>5.338736</td>\n",
       "      <td>343.261393</td>\n",
       "      <td>5.067740</td>\n",
       "      <td>91.146536</td>\n",
       "      <td>89.406890</td>\n",
       "      <td>2.373334</td>\n",
       "    </tr>\n",
       "    <tr>\n",
       "      <th>44</th>\n",
       "      <td>3.508798</td>\n",
       "      <td>377.867007</td>\n",
       "      <td>6.162468</td>\n",
       "      <td>131.878565</td>\n",
       "      <td>138.283314</td>\n",
       "      <td>1.629651</td>\n",
       "    </tr>\n",
       "    <tr>\n",
       "      <th>45</th>\n",
       "      <td>2.208321</td>\n",
       "      <td>359.615019</td>\n",
       "      <td>6.318986</td>\n",
       "      <td>185.244182</td>\n",
       "      <td>93.336316</td>\n",
       "      <td>2.009070</td>\n",
       "    </tr>\n",
       "    <tr>\n",
       "      <th>46</th>\n",
       "      <td>2.092353</td>\n",
       "      <td>344.707692</td>\n",
       "      <td>4.516275</td>\n",
       "      <td>114.650873</td>\n",
       "      <td>98.421573</td>\n",
       "      <td>1.477420</td>\n",
       "    </tr>\n",
       "    <tr>\n",
       "      <th>47</th>\n",
       "      <td>3.441596</td>\n",
       "      <td>344.404916</td>\n",
       "      <td>4.784290</td>\n",
       "      <td>107.747108</td>\n",
       "      <td>113.768512</td>\n",
       "      <td>1.919091</td>\n",
       "    </tr>\n",
       "    <tr>\n",
       "      <th>48</th>\n",
       "      <td>3.773706</td>\n",
       "      <td>375.827430</td>\n",
       "      <td>5.547017</td>\n",
       "      <td>165.089927</td>\n",
       "      <td>132.012624</td>\n",
       "      <td>2.465361</td>\n",
       "    </tr>\n",
       "    <tr>\n",
       "      <th>49</th>\n",
       "      <td>4.093525</td>\n",
       "      <td>372.393661</td>\n",
       "      <td>5.697670</td>\n",
       "      <td>196.056514</td>\n",
       "      <td>133.171164</td>\n",
       "      <td>2.933159</td>\n",
       "    </tr>\n",
       "  </tbody>\n",
       "</table>\n",
       "</div>"
      ],
      "text/plain": [
       "    mesh_time  sphere_time  knn_time  naive_knn_time     fn_time   an_time\n",
       "0    2.598771   350.794583  5.081094       95.397174   95.419438  1.940993\n",
       "1    2.639896   356.091005  6.493062      107.849322  114.868429  1.987930\n",
       "2    2.704396   354.288024  5.348923      108.439769  117.021551  2.037680\n",
       "3    3.036972   359.112059  5.520094      111.162778  125.821050  2.369781\n",
       "4    3.038410   364.793255  6.354691      125.441351  134.943930  2.477137\n",
       "5    3.331772   352.625932  6.005312      125.966747  135.481326  2.572825\n",
       "6    3.376560   349.988044  5.218157      134.212153  136.776134  2.918907\n",
       "7    3.468185   350.331954  5.725424      136.077736  146.121014  3.438610\n",
       "8    3.528553   349.549185  5.255057      143.377032  150.384803  3.438173\n",
       "9    3.844537   338.392137  4.539814      144.829669  150.492927  3.669712\n",
       "10   3.899911   345.061699  4.887011      145.168898  151.891797  3.862175\n",
       "11   4.149214   347.665012  4.938223      159.225172  158.738564  2.138307\n",
       "12   4.632079   349.573119  5.115111      199.616938  170.102628  2.104621\n",
       "13   5.256415   348.960184  5.289185      199.637751  174.320438  4.155491\n",
       "14   5.442799   334.916074  4.665525      201.928823  179.573148  2.364719\n",
       "15   4.165534   352.685763  4.979572      203.827188  117.241110  2.477355\n",
       "16   3.062804   343.594584  5.081756      119.380318  124.740947  5.013777\n",
       "17   4.540685   356.560618  5.364251      105.919547  113.204426  5.116215\n",
       "18   4.622785   352.885359  4.951901      112.135529  141.207339  5.130215\n",
       "19   4.801535   349.883554  5.032712       86.538646  110.145520  2.654267\n",
       "20   3.845355   362.679961  6.168021      139.156217  144.369412  3.257063\n",
       "21   4.439686   358.747099  6.277668      114.845603  129.400827  3.504613\n",
       "22   4.486555   344.942088  4.950250      136.220492   91.207972  3.233074\n",
       "23   5.344262   351.218437  5.800222       90.981889  124.200592  2.074687\n",
       "24   5.831513   355.451799  6.301758      159.884012  148.947188  2.107390\n",
       "25   4.773216   340.370184  5.178218       81.668930  166.980424  2.456259\n",
       "26   4.389293   361.387866  6.217035      100.971171  166.279277  2.790678\n",
       "27   6.879431   334.387819  4.487002      185.755171  189.695704  1.905298\n",
       "28   6.626199   337.593135  4.375998      104.508595  151.562231  3.412834\n",
       "29   3.467078   347.464230  5.274999      112.938209  185.235152  3.437797\n",
       "30   3.806370   354.975103  4.619903      138.849990  102.025815  4.304781\n",
       "31   5.858600   359.481687  5.737922      103.307857  114.909687  2.195905\n",
       "32   4.226046   347.209279  4.556775      214.257429  189.304885  1.931969\n",
       "33   3.695594   349.740853  4.545019      245.654974  187.972550  3.027678\n",
       "34   4.392834   337.107473  4.290001      131.061195  120.941444  2.148350\n",
       "35   4.559959   363.990838  5.158749      133.608891   93.100653  3.646867\n",
       "36   8.076638   341.681260  4.441647      103.954517  102.766855  5.250347\n",
       "37   3.503714   348.878829  5.485334      202.367829  147.612574  2.815563\n",
       "38   4.647091   357.022755  6.582526      120.293757  129.828191  2.397839\n",
       "39   3.066301   340.641457  4.868998      110.467785  111.601007  3.830629\n",
       "40   3.653307   343.210576  4.687219      269.845695  115.550340  2.371150\n",
       "41   2.479859   347.267073  5.027836       85.760158   93.808425  5.650670\n",
       "42   2.028517   351.807094  4.836121      122.072672  104.360081  2.230555\n",
       "43   5.338736   343.261393  5.067740       91.146536   89.406890  2.373334\n",
       "44   3.508798   377.867007  6.162468      131.878565  138.283314  1.629651\n",
       "45   2.208321   359.615019  6.318986      185.244182   93.336316  2.009070\n",
       "46   2.092353   344.707692  4.516275      114.650873   98.421573  1.477420\n",
       "47   3.441596   344.404916  4.784290      107.747108  113.768512  1.919091\n",
       "48   3.773706   375.827430  5.547017      165.089927  132.012624  2.465361\n",
       "49   4.093525   372.393661  5.697670      196.056514  133.171164  2.933159"
      ]
     },
     "execution_count": 88,
     "metadata": {},
     "output_type": "execute_result"
    }
   ],
   "source": [
    "df"
   ]
  },
  {
   "cell_type": "code",
   "execution_count": 90,
   "id": "d8e2df87",
   "metadata": {},
   "outputs": [
    {
     "data": {
      "text/plain": [
       "(133.1711639205412,\n",
       " 2.9331594477502665,\n",
       " 4.093525389019324,\n",
       " 351.2617231655121,\n",
       " 5.276210775375366,\n",
       " 139.32758574336768)"
      ]
     },
     "execution_count": 90,
     "metadata": {},
     "output_type": "execute_result"
    }
   ],
   "source": [
    "df['fn_time'].mean(), df['an_time'].mean(), df['mesh_time'].mean(), df['sphere_time'].mean(), df['knn_time'].mean(), df['naive_knn_time'].mean()"
   ]
  },
  {
   "cell_type": "code",
   "execution_count": 92,
   "id": "eedf3229",
   "metadata": {},
   "outputs": [],
   "source": [
    "df.to_csv('C:/Users/simon/Desktop/Ergebnisse/comp_times.csv')"
   ]
  },
  {
   "cell_type": "markdown",
   "id": "9760c77e",
   "metadata": {},
   "source": [
    "# Area of mesh elements - examplary file"
   ]
  },
  {
   "cell_type": "markdown",
   "id": "8500824f",
   "metadata": {},
   "source": [
    "Werte in jeweils mm², Werte jeweils im Format (mean size, standard deviation size)"
   ]
  },
  {
   "cell_type": "code",
   "execution_count": 2,
   "id": "212238b4",
   "metadata": {},
   "outputs": [],
   "source": [
    "import utility\n",
    "import pandas as pd"
   ]
  },
  {
   "cell_type": "code",
   "execution_count": 57,
   "id": "ff8be197",
   "metadata": {},
   "outputs": [],
   "source": [
    "sitk_image, np_image = utility.read_image('9102858_segm.mhd')\n",
    "femoral_cartilage = utility.build_3d_cartilage_array(np_image, 3)\n",
    "tibial_cartilage = utility.build_3d_cartilage_array(np_image, 4)\n",
    "\n",
    "femoral_cartilage = femoral_cartilage * np.array([sitk_image.GetSpacing()[2], sitk_image.GetSpacing()[0], sitk_image.GetSpacing()[1]])\n",
    "tibial_cartilage = tibial_cartilage * np.array([sitk_image.GetSpacing()[2], sitk_image.GetSpacing()[0], sitk_image.GetSpacing()[1]])\n",
    "\n",
    "femoral_vectors = [list(element) for element in femoral_cartilage]\n",
    "tibial_vectors = [list(element) for element in tibial_cartilage]"
   ]
  },
  {
   "cell_type": "code",
   "execution_count": 58,
   "id": "259553a1",
   "metadata": {},
   "outputs": [
    {
     "data": {
      "text/plain": [
       "array([[135.799418,  12.760405,  95.885329],\n",
       "       [138.599406,  12.760405,  95.885329],\n",
       "       [139.299403,  12.760405,  95.885329],\n",
       "       ...,\n",
       "       [171.499265,  52.864535,  92.239499],\n",
       "       [172.199262,  52.864535,  92.239499],\n",
       "       [172.899259,  52.864535,  92.239499]])"
      ]
     },
     "execution_count": 58,
     "metadata": {},
     "output_type": "execute_result"
    }
   ],
   "source": [
    "tibial_cartilage"
   ]
  },
  {
   "cell_type": "code",
   "execution_count": 59,
   "id": "28303285",
   "metadata": {},
   "outputs": [],
   "source": [
    "cwbzl, cwbzr = utility.extract_central_weightbearing_zone(femoral_vectors, tibial_vectors)\n",
    "lower_mesh_left, upper_mesh_left = utility.build_femoral_meshes(cwbzl)\n",
    "lower_mesh_right, upper_mesh_right = utility.build_femoral_meshes(cwbzr)\n",
    "lpdf, rpdf, adf = utility.extract_anterior_posterior_zones(femoral_vectors, cwbzl, cwbzr)\n",
    "ladf, radf = utility.split_anterior_part(adf)"
   ]
  },
  {
   "cell_type": "code",
   "execution_count": 60,
   "id": "de13be67",
   "metadata": {},
   "outputs": [],
   "source": [
    "lp_lower_mesh, lp_upper_mesh = utility.build_tibial_meshes(lpdf.to_numpy()) \n",
    "rp_lower_mesh, rp_upper_mesh = utility.build_tibial_meshes(rpdf.to_numpy()) \n",
    "la_lower_mesh, la_upper_mesh = utility.build_tibial_meshes(ladf.to_numpy()) \n",
    "ra_lower_mesh, ra_upper_mesh = utility.build_tibial_meshes(radf.to_numpy())"
   ]
  },
  {
   "cell_type": "code",
   "execution_count": 13,
   "id": "e9ed4e79",
   "metadata": {},
   "outputs": [
    {
     "data": {
      "text/plain": [
       "(0.364583, 0.364583, 0.699997)"
      ]
     },
     "execution_count": 13,
     "metadata": {},
     "output_type": "execute_result"
    }
   ],
   "source": [
    "sitk_image.GetSpacing() # y, z, x"
   ]
  },
  {
   "cell_type": "markdown",
   "id": "08b5c2b1",
   "metadata": {},
   "source": [
    "## Femur"
   ]
  },
  {
   "cell_type": "markdown",
   "id": "be5d5d56",
   "metadata": {},
   "source": [
    "### distal lateral central"
   ]
  },
  {
   "cell_type": "code",
   "execution_count": 61,
   "id": "ed43fbb3",
   "metadata": {},
   "outputs": [
    {
     "data": {
      "text/plain": [
       "(0.1502990180787336, 0.03555271686753552)"
      ]
     },
     "execution_count": 61,
     "metadata": {},
     "output_type": "execute_result"
    }
   ],
   "source": [
    "lower_mesh_left.compute_cell_sizes()['Area'].mean(), lower_mesh_left.compute_cell_sizes()['Area'].std()"
   ]
  },
  {
   "cell_type": "markdown",
   "id": "323a28f8",
   "metadata": {},
   "source": [
    "### distal medial central"
   ]
  },
  {
   "cell_type": "code",
   "execution_count": 62,
   "id": "12955e47",
   "metadata": {},
   "outputs": [
    {
     "data": {
      "text/plain": [
       "(0.16306853730970827, 0.04821314396325278)"
      ]
     },
     "execution_count": 62,
     "metadata": {},
     "output_type": "execute_result"
    }
   ],
   "source": [
    "lower_mesh_right.compute_cell_sizes()['Area'].mean(), lower_mesh_right.compute_cell_sizes()['Area'].std()"
   ]
  },
  {
   "cell_type": "markdown",
   "id": "5313b557",
   "metadata": {},
   "source": [
    "### proximal lateral central"
   ]
  },
  {
   "cell_type": "code",
   "execution_count": 63,
   "id": "780db680",
   "metadata": {},
   "outputs": [
    {
     "data": {
      "text/plain": [
       "(0.17556761226173845, 0.05520384006722219)"
      ]
     },
     "execution_count": 63,
     "metadata": {},
     "output_type": "execute_result"
    }
   ],
   "source": [
    "upper_mesh_left.compute_cell_sizes()['Area'].mean(), upper_mesh_left.compute_cell_sizes()['Area'].std()"
   ]
  },
  {
   "cell_type": "markdown",
   "id": "d3161226",
   "metadata": {},
   "source": [
    "### proximal medial central"
   ]
  },
  {
   "cell_type": "code",
   "execution_count": 64,
   "id": "23cce295",
   "metadata": {},
   "outputs": [
    {
     "data": {
      "text/plain": [
       "(0.18591095018553136, 0.07485484837339051)"
      ]
     },
     "execution_count": 64,
     "metadata": {},
     "output_type": "execute_result"
    }
   ],
   "source": [
    "upper_mesh_right.compute_cell_sizes()['Area'].mean(), upper_mesh_right.compute_cell_sizes()['Area'].std()"
   ]
  },
  {
   "cell_type": "markdown",
   "id": "56c811e1",
   "metadata": {},
   "source": [
    "### distal lateral posterior"
   ]
  },
  {
   "cell_type": "code",
   "execution_count": 65,
   "id": "0d051186",
   "metadata": {},
   "outputs": [
    {
     "data": {
      "text/plain": [
       "(0.2446415164750935, 0.72906646440157)"
      ]
     },
     "execution_count": 65,
     "metadata": {},
     "output_type": "execute_result"
    }
   ],
   "source": [
    "lp_lower_mesh.compute_cell_sizes()['Area'].mean(), lp_lower_mesh.compute_cell_sizes()['Area'].std()"
   ]
  },
  {
   "cell_type": "markdown",
   "id": "13a315f4",
   "metadata": {},
   "source": [
    "### distal medial posterior"
   ]
  },
  {
   "cell_type": "code",
   "execution_count": 66,
   "id": "f8489fff",
   "metadata": {},
   "outputs": [
    {
     "data": {
      "text/plain": [
       "(0.1876930051677092, 0.36925033644786076)"
      ]
     },
     "execution_count": 66,
     "metadata": {},
     "output_type": "execute_result"
    }
   ],
   "source": [
    "rp_lower_mesh.compute_cell_sizes()['Area'].mean(), rp_lower_mesh.compute_cell_sizes()['Area'].std()"
   ]
  },
  {
   "cell_type": "markdown",
   "id": "4ea006db",
   "metadata": {},
   "source": [
    "### proximal lateral posterior"
   ]
  },
  {
   "cell_type": "code",
   "execution_count": 67,
   "id": "3ae587c8",
   "metadata": {},
   "outputs": [
    {
     "data": {
      "text/plain": [
       "(0.32825957740668565, 0.7111844894453083)"
      ]
     },
     "execution_count": 67,
     "metadata": {},
     "output_type": "execute_result"
    }
   ],
   "source": [
    "lp_upper_mesh.compute_cell_sizes()['Area'].mean(), lp_upper_mesh.compute_cell_sizes()['Area'].std()"
   ]
  },
  {
   "cell_type": "markdown",
   "id": "693aff7e",
   "metadata": {},
   "source": [
    "### proximal medial posterior"
   ]
  },
  {
   "cell_type": "code",
   "execution_count": 68,
   "id": "dda1ba3d",
   "metadata": {},
   "outputs": [
    {
     "data": {
      "text/plain": [
       "(0.22388945459911702, 0.5227909762834556)"
      ]
     },
     "execution_count": 68,
     "metadata": {},
     "output_type": "execute_result"
    }
   ],
   "source": [
    "rp_upper_mesh.compute_cell_sizes()['Area'].mean(), rp_upper_mesh.compute_cell_sizes()['Area'].std()"
   ]
  },
  {
   "cell_type": "markdown",
   "id": "8249fed3",
   "metadata": {},
   "source": [
    "### distal lateral anterior"
   ]
  },
  {
   "cell_type": "code",
   "execution_count": 69,
   "id": "555b68a4",
   "metadata": {},
   "outputs": [
    {
     "data": {
      "text/plain": [
       "(0.21713367125596458, 0.31126217427959735)"
      ]
     },
     "execution_count": 69,
     "metadata": {},
     "output_type": "execute_result"
    }
   ],
   "source": [
    "la_lower_mesh.compute_cell_sizes()['Area'].mean(), la_lower_mesh.compute_cell_sizes()['Area'].std()"
   ]
  },
  {
   "cell_type": "markdown",
   "id": "be516f41",
   "metadata": {},
   "source": [
    "### distal medial anterior"
   ]
  },
  {
   "cell_type": "code",
   "execution_count": 70,
   "id": "3ec64ae7",
   "metadata": {},
   "outputs": [
    {
     "data": {
      "text/plain": [
       "(0.21586360606491234, 0.4131067928174094)"
      ]
     },
     "execution_count": 70,
     "metadata": {},
     "output_type": "execute_result"
    }
   ],
   "source": [
    "ra_lower_mesh.compute_cell_sizes()['Area'].mean(), ra_lower_mesh.compute_cell_sizes()['Area'].std()"
   ]
  },
  {
   "cell_type": "markdown",
   "id": "575cbde3",
   "metadata": {},
   "source": [
    "### proximal lateral anterior"
   ]
  },
  {
   "cell_type": "code",
   "execution_count": 71,
   "id": "4a06b098",
   "metadata": {},
   "outputs": [
    {
     "data": {
      "text/plain": [
       "(0.2076147607034852, 0.34095104693714035)"
      ]
     },
     "execution_count": 71,
     "metadata": {},
     "output_type": "execute_result"
    }
   ],
   "source": [
    "la_upper_mesh.compute_cell_sizes()['Area'].mean(), la_upper_mesh.compute_cell_sizes()['Area'].std()"
   ]
  },
  {
   "cell_type": "markdown",
   "id": "ca003559",
   "metadata": {},
   "source": [
    "### proximal medial anterior"
   ]
  },
  {
   "cell_type": "code",
   "execution_count": 72,
   "id": "c6034c1e",
   "metadata": {},
   "outputs": [
    {
     "data": {
      "text/plain": [
       "(0.18755769509184617, 0.43400133068310914)"
      ]
     },
     "execution_count": 72,
     "metadata": {},
     "output_type": "execute_result"
    }
   ],
   "source": [
    "ra_upper_mesh.compute_cell_sizes()['Area'].mean(), ra_upper_mesh.compute_cell_sizes()['Area'].std()"
   ]
  },
  {
   "cell_type": "markdown",
   "id": "cecb1283",
   "metadata": {},
   "source": [
    "## Tibia"
   ]
  },
  {
   "cell_type": "code",
   "execution_count": 73,
   "id": "64dc408c",
   "metadata": {},
   "outputs": [],
   "source": [
    "df = pd.DataFrame(data=tibial_cartilage, columns=['x', 'y', 'z'])\n",
    "max_z = df.groupby(['x', 'y']).max()\n",
    "\n",
    "tmp1 = [np.array(item) for item in max_z.index]\n",
    "tmp2 = [item for item in max_z.to_numpy()]\n",
    "max_z = np.column_stack((tmp1, tmp2))\n",
    "\n",
    "left_tibial_landmarks, right_tibial_landmarks, split_vector = utility.tibial_landmarks(max_z)\n",
    "left_plate, right_plate = utility.split_into_plates(tibial_vectors, split_vector)\n",
    "\n",
    "\n",
    "lower_mesh_left, upper_mesh_left = utility.build_tibial_meshes(left_plate)\n",
    "lower_mesh_right, upper_mesh_right = utility.build_tibial_meshes(right_plate)"
   ]
  },
  {
   "cell_type": "markdown",
   "id": "43f84264",
   "metadata": {},
   "source": [
    "### distal lateral"
   ]
  },
  {
   "cell_type": "code",
   "execution_count": 74,
   "id": "c3813703",
   "metadata": {},
   "outputs": [
    {
     "data": {
      "text/plain": [
       "(0.18219467159254218, 0.2683583026745712)"
      ]
     },
     "execution_count": 74,
     "metadata": {},
     "output_type": "execute_result"
    }
   ],
   "source": [
    "lower_mesh_left.compute_cell_sizes()['Area'].mean(), lower_mesh_left.compute_cell_sizes()['Area'].std()"
   ]
  },
  {
   "cell_type": "markdown",
   "id": "2521094d",
   "metadata": {},
   "source": [
    "### distal medial"
   ]
  },
  {
   "cell_type": "code",
   "execution_count": 75,
   "id": "5310525a",
   "metadata": {},
   "outputs": [
    {
     "data": {
      "text/plain": [
       "(0.16639390276777463, 0.15265318683516102)"
      ]
     },
     "execution_count": 75,
     "metadata": {},
     "output_type": "execute_result"
    }
   ],
   "source": [
    "lower_mesh_right.compute_cell_sizes()['Area'].mean(), lower_mesh_right.compute_cell_sizes()['Area'].std()"
   ]
  },
  {
   "cell_type": "markdown",
   "id": "68924ef8",
   "metadata": {},
   "source": [
    "### proximal lateral"
   ]
  },
  {
   "cell_type": "code",
   "execution_count": 76,
   "id": "eaaa46b9",
   "metadata": {},
   "outputs": [
    {
     "data": {
      "text/plain": [
       "(0.18487046754451836, 0.35443549512281564)"
      ]
     },
     "execution_count": 76,
     "metadata": {},
     "output_type": "execute_result"
    }
   ],
   "source": [
    "upper_mesh_left.compute_cell_sizes()['Area'].mean(), upper_mesh_left.compute_cell_sizes()['Area'].std()"
   ]
  },
  {
   "cell_type": "markdown",
   "id": "fbdc6a29",
   "metadata": {},
   "source": [
    "### proximal medial"
   ]
  },
  {
   "cell_type": "code",
   "execution_count": 77,
   "id": "4551ea19",
   "metadata": {},
   "outputs": [
    {
     "data": {
      "text/plain": [
       "(0.16801513813101202, 0.17481398826691943)"
      ]
     },
     "execution_count": 77,
     "metadata": {},
     "output_type": "execute_result"
    }
   ],
   "source": [
    "upper_mesh_right.compute_cell_sizes()['Area'].mean(), upper_mesh_right.compute_cell_sizes()['Area'].std()"
   ]
  },
  {
   "cell_type": "markdown",
   "id": "48a29830",
   "metadata": {},
   "source": [
    "## area of mesh elements - average over all files"
   ]
  },
  {
   "cell_type": "code",
   "execution_count": 78,
   "id": "83d85a5e",
   "metadata": {},
   "outputs": [],
   "source": [
    "files = utility.get_subdirs(None)"
   ]
  },
  {
   "cell_type": "code",
   "execution_count": 79,
   "id": "7d0ac038",
   "metadata": {},
   "outputs": [
    {
     "data": {
      "application/vnd.jupyter.widget-view+json": {
       "model_id": "fb9b838609484ad19b557855c394ce91",
       "version_major": 2,
       "version_minor": 0
      },
      "text/plain": [
       "  0%|          | 0/507 [00:00<?, ?it/s]"
      ]
     },
     "metadata": {},
     "output_type": "display_data"
    },
    {
     "name": "stderr",
     "output_type": "stream",
     "text": [
      "c:\\programdata\\anaconda3\\envs\\knorpel_v2\\lib\\site-packages\\sklearn\\cluster\\_kmeans.py:881: UserWarning: KMeans is known to have a memory leak on Windows with MKL, when there are less chunks than available threads. You can avoid it by setting the environment variable OMP_NUM_THREADS=14.\n",
      "  warnings.warn(\n",
      "c:\\programdata\\anaconda3\\envs\\knorpel_v2\\lib\\site-packages\\sklearn\\cluster\\_kmeans.py:881: UserWarning: KMeans is known to have a memory leak on Windows with MKL, when there are less chunks than available threads. You can avoid it by setting the environment variable OMP_NUM_THREADS=14.\n",
      "  warnings.warn(\n",
      "c:\\programdata\\anaconda3\\envs\\knorpel_v2\\lib\\site-packages\\sklearn\\cluster\\_kmeans.py:881: UserWarning: KMeans is known to have a memory leak on Windows with MKL, when there are less chunks than available threads. You can avoid it by setting the environment variable OMP_NUM_THREADS=14.\n",
      "  warnings.warn(\n",
      "c:\\programdata\\anaconda3\\envs\\knorpel_v2\\lib\\site-packages\\sklearn\\cluster\\_kmeans.py:881: UserWarning: KMeans is known to have a memory leak on Windows with MKL, when there are less chunks than available threads. You can avoid it by setting the environment variable OMP_NUM_THREADS=14.\n",
      "  warnings.warn(\n",
      "c:\\programdata\\anaconda3\\envs\\knorpel_v2\\lib\\site-packages\\sklearn\\cluster\\_kmeans.py:881: UserWarning: KMeans is known to have a memory leak on Windows with MKL, when there are less chunks than available threads. You can avoid it by setting the environment variable OMP_NUM_THREADS=15.\n",
      "  warnings.warn(\n",
      "c:\\programdata\\anaconda3\\envs\\knorpel_v2\\lib\\site-packages\\sklearn\\cluster\\_kmeans.py:881: UserWarning: KMeans is known to have a memory leak on Windows with MKL, when there are less chunks than available threads. You can avoid it by setting the environment variable OMP_NUM_THREADS=15.\n",
      "  warnings.warn(\n",
      "c:\\programdata\\anaconda3\\envs\\knorpel_v2\\lib\\site-packages\\sklearn\\cluster\\_kmeans.py:881: UserWarning: KMeans is known to have a memory leak on Windows with MKL, when there are less chunks than available threads. You can avoid it by setting the environment variable OMP_NUM_THREADS=14.\n",
      "  warnings.warn(\n",
      "c:\\programdata\\anaconda3\\envs\\knorpel_v2\\lib\\site-packages\\sklearn\\cluster\\_kmeans.py:881: UserWarning: KMeans is known to have a memory leak on Windows with MKL, when there are less chunks than available threads. You can avoid it by setting the environment variable OMP_NUM_THREADS=14.\n",
      "  warnings.warn(\n",
      "c:\\programdata\\anaconda3\\envs\\knorpel_v2\\lib\\site-packages\\sklearn\\cluster\\_kmeans.py:881: UserWarning: KMeans is known to have a memory leak on Windows with MKL, when there are less chunks than available threads. You can avoid it by setting the environment variable OMP_NUM_THREADS=15.\n",
      "  warnings.warn(\n",
      "c:\\programdata\\anaconda3\\envs\\knorpel_v2\\lib\\site-packages\\sklearn\\cluster\\_kmeans.py:881: UserWarning: KMeans is known to have a memory leak on Windows with MKL, when there are less chunks than available threads. You can avoid it by setting the environment variable OMP_NUM_THREADS=15.\n",
      "  warnings.warn(\n",
      "c:\\programdata\\anaconda3\\envs\\knorpel_v2\\lib\\site-packages\\sklearn\\cluster\\_kmeans.py:881: UserWarning: KMeans is known to have a memory leak on Windows with MKL, when there are less chunks than available threads. You can avoid it by setting the environment variable OMP_NUM_THREADS=14.\n",
      "  warnings.warn(\n",
      "c:\\programdata\\anaconda3\\envs\\knorpel_v2\\lib\\site-packages\\sklearn\\cluster\\_kmeans.py:881: UserWarning: KMeans is known to have a memory leak on Windows with MKL, when there are less chunks than available threads. You can avoid it by setting the environment variable OMP_NUM_THREADS=14.\n",
      "  warnings.warn(\n",
      "c:\\programdata\\anaconda3\\envs\\knorpel_v2\\lib\\site-packages\\sklearn\\cluster\\_kmeans.py:881: UserWarning: KMeans is known to have a memory leak on Windows with MKL, when there are less chunks than available threads. You can avoid it by setting the environment variable OMP_NUM_THREADS=15.\n",
      "  warnings.warn(\n",
      "c:\\programdata\\anaconda3\\envs\\knorpel_v2\\lib\\site-packages\\sklearn\\cluster\\_kmeans.py:881: UserWarning: KMeans is known to have a memory leak on Windows with MKL, when there are less chunks than available threads. You can avoid it by setting the environment variable OMP_NUM_THREADS=15.\n",
      "  warnings.warn(\n",
      "c:\\programdata\\anaconda3\\envs\\knorpel_v2\\lib\\site-packages\\sklearn\\cluster\\_kmeans.py:881: UserWarning: KMeans is known to have a memory leak on Windows with MKL, when there are less chunks than available threads. You can avoid it by setting the environment variable OMP_NUM_THREADS=15.\n",
      "  warnings.warn(\n",
      "c:\\programdata\\anaconda3\\envs\\knorpel_v2\\lib\\site-packages\\sklearn\\cluster\\_kmeans.py:881: UserWarning: KMeans is known to have a memory leak on Windows with MKL, when there are less chunks than available threads. You can avoid it by setting the environment variable OMP_NUM_THREADS=15.\n",
      "  warnings.warn(\n",
      "c:\\programdata\\anaconda3\\envs\\knorpel_v2\\lib\\site-packages\\sklearn\\cluster\\_kmeans.py:881: UserWarning: KMeans is known to have a memory leak on Windows with MKL, when there are less chunks than available threads. You can avoid it by setting the environment variable OMP_NUM_THREADS=15.\n",
      "  warnings.warn(\n",
      "c:\\programdata\\anaconda3\\envs\\knorpel_v2\\lib\\site-packages\\sklearn\\cluster\\_kmeans.py:881: UserWarning: KMeans is known to have a memory leak on Windows with MKL, when there are less chunks than available threads. You can avoid it by setting the environment variable OMP_NUM_THREADS=15.\n",
      "  warnings.warn(\n",
      "c:\\programdata\\anaconda3\\envs\\knorpel_v2\\lib\\site-packages\\sklearn\\cluster\\_kmeans.py:881: UserWarning: KMeans is known to have a memory leak on Windows with MKL, when there are less chunks than available threads. You can avoid it by setting the environment variable OMP_NUM_THREADS=14.\n",
      "  warnings.warn(\n",
      "c:\\programdata\\anaconda3\\envs\\knorpel_v2\\lib\\site-packages\\sklearn\\cluster\\_kmeans.py:881: UserWarning: KMeans is known to have a memory leak on Windows with MKL, when there are less chunks than available threads. You can avoid it by setting the environment variable OMP_NUM_THREADS=14.\n",
      "  warnings.warn(\n",
      "c:\\programdata\\anaconda3\\envs\\knorpel_v2\\lib\\site-packages\\sklearn\\cluster\\_kmeans.py:881: UserWarning: KMeans is known to have a memory leak on Windows with MKL, when there are less chunks than available threads. You can avoid it by setting the environment variable OMP_NUM_THREADS=14.\n",
      "  warnings.warn(\n",
      "c:\\programdata\\anaconda3\\envs\\knorpel_v2\\lib\\site-packages\\sklearn\\cluster\\_kmeans.py:881: UserWarning: KMeans is known to have a memory leak on Windows with MKL, when there are less chunks than available threads. You can avoid it by setting the environment variable OMP_NUM_THREADS=14.\n",
      "  warnings.warn(\n",
      "c:\\programdata\\anaconda3\\envs\\knorpel_v2\\lib\\site-packages\\sklearn\\cluster\\_kmeans.py:881: UserWarning: KMeans is known to have a memory leak on Windows with MKL, when there are less chunks than available threads. You can avoid it by setting the environment variable OMP_NUM_THREADS=13.\n",
      "  warnings.warn(\n",
      "c:\\programdata\\anaconda3\\envs\\knorpel_v2\\lib\\site-packages\\sklearn\\cluster\\_kmeans.py:881: UserWarning: KMeans is known to have a memory leak on Windows with MKL, when there are less chunks than available threads. You can avoid it by setting the environment variable OMP_NUM_THREADS=13.\n",
      "  warnings.warn(\n",
      "c:\\programdata\\anaconda3\\envs\\knorpel_v2\\lib\\site-packages\\sklearn\\cluster\\_kmeans.py:881: UserWarning: KMeans is known to have a memory leak on Windows with MKL, when there are less chunks than available threads. You can avoid it by setting the environment variable OMP_NUM_THREADS=13.\n",
      "  warnings.warn(\n",
      "c:\\programdata\\anaconda3\\envs\\knorpel_v2\\lib\\site-packages\\sklearn\\cluster\\_kmeans.py:881: UserWarning: KMeans is known to have a memory leak on Windows with MKL, when there are less chunks than available threads. You can avoid it by setting the environment variable OMP_NUM_THREADS=13.\n",
      "  warnings.warn(\n",
      "c:\\programdata\\anaconda3\\envs\\knorpel_v2\\lib\\site-packages\\sklearn\\cluster\\_kmeans.py:881: UserWarning: KMeans is known to have a memory leak on Windows with MKL, when there are less chunks than available threads. You can avoid it by setting the environment variable OMP_NUM_THREADS=13.\n",
      "  warnings.warn(\n"
     ]
    },
    {
     "name": "stderr",
     "output_type": "stream",
     "text": [
      "c:\\programdata\\anaconda3\\envs\\knorpel_v2\\lib\\site-packages\\sklearn\\cluster\\_kmeans.py:881: UserWarning: KMeans is known to have a memory leak on Windows with MKL, when there are less chunks than available threads. You can avoid it by setting the environment variable OMP_NUM_THREADS=15.\n",
      "  warnings.warn(\n",
      "c:\\programdata\\anaconda3\\envs\\knorpel_v2\\lib\\site-packages\\sklearn\\cluster\\_kmeans.py:881: UserWarning: KMeans is known to have a memory leak on Windows with MKL, when there are less chunks than available threads. You can avoid it by setting the environment variable OMP_NUM_THREADS=13.\n",
      "  warnings.warn(\n",
      "c:\\programdata\\anaconda3\\envs\\knorpel_v2\\lib\\site-packages\\sklearn\\cluster\\_kmeans.py:881: UserWarning: KMeans is known to have a memory leak on Windows with MKL, when there are less chunks than available threads. You can avoid it by setting the environment variable OMP_NUM_THREADS=15.\n",
      "  warnings.warn(\n",
      "c:\\programdata\\anaconda3\\envs\\knorpel_v2\\lib\\site-packages\\sklearn\\cluster\\_kmeans.py:881: UserWarning: KMeans is known to have a memory leak on Windows with MKL, when there are less chunks than available threads. You can avoid it by setting the environment variable OMP_NUM_THREADS=15.\n",
      "  warnings.warn(\n",
      "c:\\programdata\\anaconda3\\envs\\knorpel_v2\\lib\\site-packages\\sklearn\\cluster\\_kmeans.py:881: UserWarning: KMeans is known to have a memory leak on Windows with MKL, when there are less chunks than available threads. You can avoid it by setting the environment variable OMP_NUM_THREADS=15.\n",
      "  warnings.warn(\n",
      "c:\\programdata\\anaconda3\\envs\\knorpel_v2\\lib\\site-packages\\sklearn\\cluster\\_kmeans.py:881: UserWarning: KMeans is known to have a memory leak on Windows with MKL, when there are less chunks than available threads. You can avoid it by setting the environment variable OMP_NUM_THREADS=12.\n",
      "  warnings.warn(\n",
      "c:\\programdata\\anaconda3\\envs\\knorpel_v2\\lib\\site-packages\\sklearn\\cluster\\_kmeans.py:881: UserWarning: KMeans is known to have a memory leak on Windows with MKL, when there are less chunks than available threads. You can avoid it by setting the environment variable OMP_NUM_THREADS=12.\n",
      "  warnings.warn(\n",
      "c:\\programdata\\anaconda3\\envs\\knorpel_v2\\lib\\site-packages\\sklearn\\cluster\\_kmeans.py:881: UserWarning: KMeans is known to have a memory leak on Windows with MKL, when there are less chunks than available threads. You can avoid it by setting the environment variable OMP_NUM_THREADS=15.\n",
      "  warnings.warn(\n",
      "c:\\programdata\\anaconda3\\envs\\knorpel_v2\\lib\\site-packages\\sklearn\\cluster\\_kmeans.py:881: UserWarning: KMeans is known to have a memory leak on Windows with MKL, when there are less chunks than available threads. You can avoid it by setting the environment variable OMP_NUM_THREADS=13.\n",
      "  warnings.warn(\n",
      "c:\\programdata\\anaconda3\\envs\\knorpel_v2\\lib\\site-packages\\sklearn\\cluster\\_kmeans.py:881: UserWarning: KMeans is known to have a memory leak on Windows with MKL, when there are less chunks than available threads. You can avoid it by setting the environment variable OMP_NUM_THREADS=15.\n",
      "  warnings.warn(\n",
      "c:\\programdata\\anaconda3\\envs\\knorpel_v2\\lib\\site-packages\\sklearn\\cluster\\_kmeans.py:881: UserWarning: KMeans is known to have a memory leak on Windows with MKL, when there are less chunks than available threads. You can avoid it by setting the environment variable OMP_NUM_THREADS=13.\n",
      "  warnings.warn(\n",
      "c:\\programdata\\anaconda3\\envs\\knorpel_v2\\lib\\site-packages\\sklearn\\cluster\\_kmeans.py:881: UserWarning: KMeans is known to have a memory leak on Windows with MKL, when there are less chunks than available threads. You can avoid it by setting the environment variable OMP_NUM_THREADS=14.\n",
      "  warnings.warn(\n",
      "c:\\programdata\\anaconda3\\envs\\knorpel_v2\\lib\\site-packages\\sklearn\\cluster\\_kmeans.py:881: UserWarning: KMeans is known to have a memory leak on Windows with MKL, when there are less chunks than available threads. You can avoid it by setting the environment variable OMP_NUM_THREADS=14.\n",
      "  warnings.warn(\n",
      "c:\\programdata\\anaconda3\\envs\\knorpel_v2\\lib\\site-packages\\sklearn\\cluster\\_kmeans.py:881: UserWarning: KMeans is known to have a memory leak on Windows with MKL, when there are less chunks than available threads. You can avoid it by setting the environment variable OMP_NUM_THREADS=15.\n",
      "  warnings.warn(\n",
      "c:\\programdata\\anaconda3\\envs\\knorpel_v2\\lib\\site-packages\\sklearn\\cluster\\_kmeans.py:881: UserWarning: KMeans is known to have a memory leak on Windows with MKL, when there are less chunks than available threads. You can avoid it by setting the environment variable OMP_NUM_THREADS=14.\n",
      "  warnings.warn(\n",
      "c:\\programdata\\anaconda3\\envs\\knorpel_v2\\lib\\site-packages\\sklearn\\cluster\\_kmeans.py:881: UserWarning: KMeans is known to have a memory leak on Windows with MKL, when there are less chunks than available threads. You can avoid it by setting the environment variable OMP_NUM_THREADS=15.\n",
      "  warnings.warn(\n",
      "c:\\programdata\\anaconda3\\envs\\knorpel_v2\\lib\\site-packages\\sklearn\\cluster\\_kmeans.py:881: UserWarning: KMeans is known to have a memory leak on Windows with MKL, when there are less chunks than available threads. You can avoid it by setting the environment variable OMP_NUM_THREADS=14.\n",
      "  warnings.warn(\n",
      "c:\\programdata\\anaconda3\\envs\\knorpel_v2\\lib\\site-packages\\sklearn\\cluster\\_kmeans.py:881: UserWarning: KMeans is known to have a memory leak on Windows with MKL, when there are less chunks than available threads. You can avoid it by setting the environment variable OMP_NUM_THREADS=15.\n",
      "  warnings.warn(\n",
      "c:\\programdata\\anaconda3\\envs\\knorpel_v2\\lib\\site-packages\\sklearn\\cluster\\_kmeans.py:881: UserWarning: KMeans is known to have a memory leak on Windows with MKL, when there are less chunks than available threads. You can avoid it by setting the environment variable OMP_NUM_THREADS=15.\n",
      "  warnings.warn(\n",
      "c:\\programdata\\anaconda3\\envs\\knorpel_v2\\lib\\site-packages\\sklearn\\cluster\\_kmeans.py:881: UserWarning: KMeans is known to have a memory leak on Windows with MKL, when there are less chunks than available threads. You can avoid it by setting the environment variable OMP_NUM_THREADS=15.\n",
      "  warnings.warn(\n",
      "c:\\programdata\\anaconda3\\envs\\knorpel_v2\\lib\\site-packages\\sklearn\\cluster\\_kmeans.py:881: UserWarning: KMeans is known to have a memory leak on Windows with MKL, when there are less chunks than available threads. You can avoid it by setting the environment variable OMP_NUM_THREADS=15.\n",
      "  warnings.warn(\n",
      "c:\\programdata\\anaconda3\\envs\\knorpel_v2\\lib\\site-packages\\sklearn\\cluster\\_kmeans.py:881: UserWarning: KMeans is known to have a memory leak on Windows with MKL, when there are less chunks than available threads. You can avoid it by setting the environment variable OMP_NUM_THREADS=14.\n",
      "  warnings.warn(\n",
      "c:\\programdata\\anaconda3\\envs\\knorpel_v2\\lib\\site-packages\\sklearn\\cluster\\_kmeans.py:881: UserWarning: KMeans is known to have a memory leak on Windows with MKL, when there are less chunks than available threads. You can avoid it by setting the environment variable OMP_NUM_THREADS=14.\n",
      "  warnings.warn(\n",
      "c:\\programdata\\anaconda3\\envs\\knorpel_v2\\lib\\site-packages\\sklearn\\cluster\\_kmeans.py:881: UserWarning: KMeans is known to have a memory leak on Windows with MKL, when there are less chunks than available threads. You can avoid it by setting the environment variable OMP_NUM_THREADS=14.\n",
      "  warnings.warn(\n",
      "c:\\programdata\\anaconda3\\envs\\knorpel_v2\\lib\\site-packages\\sklearn\\cluster\\_kmeans.py:881: UserWarning: KMeans is known to have a memory leak on Windows with MKL, when there are less chunks than available threads. You can avoid it by setting the environment variable OMP_NUM_THREADS=14.\n",
      "  warnings.warn(\n",
      "c:\\programdata\\anaconda3\\envs\\knorpel_v2\\lib\\site-packages\\sklearn\\cluster\\_kmeans.py:881: UserWarning: KMeans is known to have a memory leak on Windows with MKL, when there are less chunks than available threads. You can avoid it by setting the environment variable OMP_NUM_THREADS=15.\n",
      "  warnings.warn(\n",
      "c:\\programdata\\anaconda3\\envs\\knorpel_v2\\lib\\site-packages\\sklearn\\cluster\\_kmeans.py:881: UserWarning: KMeans is known to have a memory leak on Windows with MKL, when there are less chunks than available threads. You can avoid it by setting the environment variable OMP_NUM_THREADS=15.\n",
      "  warnings.warn(\n"
     ]
    },
    {
     "name": "stderr",
     "output_type": "stream",
     "text": [
      "c:\\programdata\\anaconda3\\envs\\knorpel_v2\\lib\\site-packages\\sklearn\\cluster\\_kmeans.py:881: UserWarning: KMeans is known to have a memory leak on Windows with MKL, when there are less chunks than available threads. You can avoid it by setting the environment variable OMP_NUM_THREADS=15.\n",
      "  warnings.warn(\n",
      "c:\\programdata\\anaconda3\\envs\\knorpel_v2\\lib\\site-packages\\sklearn\\cluster\\_kmeans.py:881: UserWarning: KMeans is known to have a memory leak on Windows with MKL, when there are less chunks than available threads. You can avoid it by setting the environment variable OMP_NUM_THREADS=15.\n",
      "  warnings.warn(\n",
      "c:\\programdata\\anaconda3\\envs\\knorpel_v2\\lib\\site-packages\\sklearn\\cluster\\_kmeans.py:881: UserWarning: KMeans is known to have a memory leak on Windows with MKL, when there are less chunks than available threads. You can avoid it by setting the environment variable OMP_NUM_THREADS=15.\n",
      "  warnings.warn(\n",
      "c:\\programdata\\anaconda3\\envs\\knorpel_v2\\lib\\site-packages\\sklearn\\cluster\\_kmeans.py:881: UserWarning: KMeans is known to have a memory leak on Windows with MKL, when there are less chunks than available threads. You can avoid it by setting the environment variable OMP_NUM_THREADS=15.\n",
      "  warnings.warn(\n",
      "c:\\programdata\\anaconda3\\envs\\knorpel_v2\\lib\\site-packages\\sklearn\\cluster\\_kmeans.py:881: UserWarning: KMeans is known to have a memory leak on Windows with MKL, when there are less chunks than available threads. You can avoid it by setting the environment variable OMP_NUM_THREADS=15.\n",
      "  warnings.warn(\n",
      "c:\\programdata\\anaconda3\\envs\\knorpel_v2\\lib\\site-packages\\sklearn\\cluster\\_kmeans.py:881: UserWarning: KMeans is known to have a memory leak on Windows with MKL, when there are less chunks than available threads. You can avoid it by setting the environment variable OMP_NUM_THREADS=15.\n",
      "  warnings.warn(\n",
      "c:\\programdata\\anaconda3\\envs\\knorpel_v2\\lib\\site-packages\\sklearn\\cluster\\_kmeans.py:881: UserWarning: KMeans is known to have a memory leak on Windows with MKL, when there are less chunks than available threads. You can avoid it by setting the environment variable OMP_NUM_THREADS=15.\n",
      "  warnings.warn(\n",
      "c:\\programdata\\anaconda3\\envs\\knorpel_v2\\lib\\site-packages\\sklearn\\cluster\\_kmeans.py:881: UserWarning: KMeans is known to have a memory leak on Windows with MKL, when there are less chunks than available threads. You can avoid it by setting the environment variable OMP_NUM_THREADS=15.\n",
      "  warnings.warn(\n",
      "c:\\programdata\\anaconda3\\envs\\knorpel_v2\\lib\\site-packages\\sklearn\\cluster\\_kmeans.py:881: UserWarning: KMeans is known to have a memory leak on Windows with MKL, when there are less chunks than available threads. You can avoid it by setting the environment variable OMP_NUM_THREADS=15.\n",
      "  warnings.warn(\n",
      "c:\\programdata\\anaconda3\\envs\\knorpel_v2\\lib\\site-packages\\sklearn\\cluster\\_kmeans.py:881: UserWarning: KMeans is known to have a memory leak on Windows with MKL, when there are less chunks than available threads. You can avoid it by setting the environment variable OMP_NUM_THREADS=15.\n",
      "  warnings.warn(\n",
      "c:\\programdata\\anaconda3\\envs\\knorpel_v2\\lib\\site-packages\\sklearn\\cluster\\_kmeans.py:881: UserWarning: KMeans is known to have a memory leak on Windows with MKL, when there are less chunks than available threads. You can avoid it by setting the environment variable OMP_NUM_THREADS=15.\n",
      "  warnings.warn(\n",
      "c:\\programdata\\anaconda3\\envs\\knorpel_v2\\lib\\site-packages\\sklearn\\cluster\\_kmeans.py:881: UserWarning: KMeans is known to have a memory leak on Windows with MKL, when there are less chunks than available threads. You can avoid it by setting the environment variable OMP_NUM_THREADS=15.\n",
      "  warnings.warn(\n",
      "c:\\programdata\\anaconda3\\envs\\knorpel_v2\\lib\\site-packages\\sklearn\\cluster\\_kmeans.py:881: UserWarning: KMeans is known to have a memory leak on Windows with MKL, when there are less chunks than available threads. You can avoid it by setting the environment variable OMP_NUM_THREADS=15.\n",
      "  warnings.warn(\n",
      "c:\\programdata\\anaconda3\\envs\\knorpel_v2\\lib\\site-packages\\sklearn\\cluster\\_kmeans.py:881: UserWarning: KMeans is known to have a memory leak on Windows with MKL, when there are less chunks than available threads. You can avoid it by setting the environment variable OMP_NUM_THREADS=15.\n",
      "  warnings.warn(\n",
      "c:\\programdata\\anaconda3\\envs\\knorpel_v2\\lib\\site-packages\\sklearn\\cluster\\_kmeans.py:881: UserWarning: KMeans is known to have a memory leak on Windows with MKL, when there are less chunks than available threads. You can avoid it by setting the environment variable OMP_NUM_THREADS=15.\n",
      "  warnings.warn(\n",
      "c:\\programdata\\anaconda3\\envs\\knorpel_v2\\lib\\site-packages\\sklearn\\cluster\\_kmeans.py:881: UserWarning: KMeans is known to have a memory leak on Windows with MKL, when there are less chunks than available threads. You can avoid it by setting the environment variable OMP_NUM_THREADS=15.\n",
      "  warnings.warn(\n",
      "c:\\programdata\\anaconda3\\envs\\knorpel_v2\\lib\\site-packages\\sklearn\\cluster\\_kmeans.py:881: UserWarning: KMeans is known to have a memory leak on Windows with MKL, when there are less chunks than available threads. You can avoid it by setting the environment variable OMP_NUM_THREADS=14.\n",
      "  warnings.warn(\n",
      "c:\\programdata\\anaconda3\\envs\\knorpel_v2\\lib\\site-packages\\sklearn\\cluster\\_kmeans.py:881: UserWarning: KMeans is known to have a memory leak on Windows with MKL, when there are less chunks than available threads. You can avoid it by setting the environment variable OMP_NUM_THREADS=14.\n",
      "  warnings.warn(\n",
      "c:\\programdata\\anaconda3\\envs\\knorpel_v2\\lib\\site-packages\\sklearn\\cluster\\_kmeans.py:881: UserWarning: KMeans is known to have a memory leak on Windows with MKL, when there are less chunks than available threads. You can avoid it by setting the environment variable OMP_NUM_THREADS=14.\n",
      "  warnings.warn(\n",
      "c:\\programdata\\anaconda3\\envs\\knorpel_v2\\lib\\site-packages\\sklearn\\cluster\\_kmeans.py:881: UserWarning: KMeans is known to have a memory leak on Windows with MKL, when there are less chunks than available threads. You can avoid it by setting the environment variable OMP_NUM_THREADS=14.\n",
      "  warnings.warn(\n",
      "c:\\programdata\\anaconda3\\envs\\knorpel_v2\\lib\\site-packages\\sklearn\\cluster\\_kmeans.py:881: UserWarning: KMeans is known to have a memory leak on Windows with MKL, when there are less chunks than available threads. You can avoid it by setting the environment variable OMP_NUM_THREADS=14.\n",
      "  warnings.warn(\n",
      "c:\\programdata\\anaconda3\\envs\\knorpel_v2\\lib\\site-packages\\sklearn\\cluster\\_kmeans.py:881: UserWarning: KMeans is known to have a memory leak on Windows with MKL, when there are less chunks than available threads. You can avoid it by setting the environment variable OMP_NUM_THREADS=14.\n",
      "  warnings.warn(\n",
      "c:\\programdata\\anaconda3\\envs\\knorpel_v2\\lib\\site-packages\\sklearn\\cluster\\_kmeans.py:881: UserWarning: KMeans is known to have a memory leak on Windows with MKL, when there are less chunks than available threads. You can avoid it by setting the environment variable OMP_NUM_THREADS=14.\n",
      "  warnings.warn(\n",
      "c:\\programdata\\anaconda3\\envs\\knorpel_v2\\lib\\site-packages\\sklearn\\cluster\\_kmeans.py:881: UserWarning: KMeans is known to have a memory leak on Windows with MKL, when there are less chunks than available threads. You can avoid it by setting the environment variable OMP_NUM_THREADS=14.\n",
      "  warnings.warn(\n",
      "c:\\programdata\\anaconda3\\envs\\knorpel_v2\\lib\\site-packages\\sklearn\\cluster\\_kmeans.py:881: UserWarning: KMeans is known to have a memory leak on Windows with MKL, when there are less chunks than available threads. You can avoid it by setting the environment variable OMP_NUM_THREADS=14.\n",
      "  warnings.warn(\n",
      "c:\\programdata\\anaconda3\\envs\\knorpel_v2\\lib\\site-packages\\sklearn\\cluster\\_kmeans.py:881: UserWarning: KMeans is known to have a memory leak on Windows with MKL, when there are less chunks than available threads. You can avoid it by setting the environment variable OMP_NUM_THREADS=14.\n",
      "  warnings.warn(\n",
      "c:\\programdata\\anaconda3\\envs\\knorpel_v2\\lib\\site-packages\\sklearn\\cluster\\_kmeans.py:881: UserWarning: KMeans is known to have a memory leak on Windows with MKL, when there are less chunks than available threads. You can avoid it by setting the environment variable OMP_NUM_THREADS=14.\n",
      "  warnings.warn(\n"
     ]
    },
    {
     "name": "stderr",
     "output_type": "stream",
     "text": [
      "c:\\programdata\\anaconda3\\envs\\knorpel_v2\\lib\\site-packages\\sklearn\\cluster\\_kmeans.py:881: UserWarning: KMeans is known to have a memory leak on Windows with MKL, when there are less chunks than available threads. You can avoid it by setting the environment variable OMP_NUM_THREADS=14.\n",
      "  warnings.warn(\n",
      "c:\\programdata\\anaconda3\\envs\\knorpel_v2\\lib\\site-packages\\sklearn\\cluster\\_kmeans.py:881: UserWarning: KMeans is known to have a memory leak on Windows with MKL, when there are less chunks than available threads. You can avoid it by setting the environment variable OMP_NUM_THREADS=14.\n",
      "  warnings.warn(\n",
      "c:\\programdata\\anaconda3\\envs\\knorpel_v2\\lib\\site-packages\\sklearn\\cluster\\_kmeans.py:881: UserWarning: KMeans is known to have a memory leak on Windows with MKL, when there are less chunks than available threads. You can avoid it by setting the environment variable OMP_NUM_THREADS=14.\n",
      "  warnings.warn(\n",
      "c:\\programdata\\anaconda3\\envs\\knorpel_v2\\lib\\site-packages\\sklearn\\cluster\\_kmeans.py:881: UserWarning: KMeans is known to have a memory leak on Windows with MKL, when there are less chunks than available threads. You can avoid it by setting the environment variable OMP_NUM_THREADS=11.\n",
      "  warnings.warn(\n",
      "c:\\programdata\\anaconda3\\envs\\knorpel_v2\\lib\\site-packages\\sklearn\\cluster\\_kmeans.py:881: UserWarning: KMeans is known to have a memory leak on Windows with MKL, when there are less chunks than available threads. You can avoid it by setting the environment variable OMP_NUM_THREADS=11.\n",
      "  warnings.warn(\n",
      "c:\\programdata\\anaconda3\\envs\\knorpel_v2\\lib\\site-packages\\sklearn\\cluster\\_kmeans.py:881: UserWarning: KMeans is known to have a memory leak on Windows with MKL, when there are less chunks than available threads. You can avoid it by setting the environment variable OMP_NUM_THREADS=15.\n",
      "  warnings.warn(\n",
      "c:\\programdata\\anaconda3\\envs\\knorpel_v2\\lib\\site-packages\\sklearn\\cluster\\_kmeans.py:881: UserWarning: KMeans is known to have a memory leak on Windows with MKL, when there are less chunks than available threads. You can avoid it by setting the environment variable OMP_NUM_THREADS=15.\n",
      "  warnings.warn(\n",
      "c:\\programdata\\anaconda3\\envs\\knorpel_v2\\lib\\site-packages\\sklearn\\cluster\\_kmeans.py:881: UserWarning: KMeans is known to have a memory leak on Windows with MKL, when there are less chunks than available threads. You can avoid it by setting the environment variable OMP_NUM_THREADS=14.\n",
      "  warnings.warn(\n",
      "c:\\programdata\\anaconda3\\envs\\knorpel_v2\\lib\\site-packages\\sklearn\\cluster\\_kmeans.py:881: UserWarning: KMeans is known to have a memory leak on Windows with MKL, when there are less chunks than available threads. You can avoid it by setting the environment variable OMP_NUM_THREADS=14.\n",
      "  warnings.warn(\n",
      "c:\\programdata\\anaconda3\\envs\\knorpel_v2\\lib\\site-packages\\sklearn\\cluster\\_kmeans.py:881: UserWarning: KMeans is known to have a memory leak on Windows with MKL, when there are less chunks than available threads. You can avoid it by setting the environment variable OMP_NUM_THREADS=15.\n",
      "  warnings.warn(\n",
      "c:\\programdata\\anaconda3\\envs\\knorpel_v2\\lib\\site-packages\\sklearn\\cluster\\_kmeans.py:881: UserWarning: KMeans is known to have a memory leak on Windows with MKL, when there are less chunks than available threads. You can avoid it by setting the environment variable OMP_NUM_THREADS=15.\n",
      "  warnings.warn(\n",
      "c:\\programdata\\anaconda3\\envs\\knorpel_v2\\lib\\site-packages\\sklearn\\cluster\\_kmeans.py:881: UserWarning: KMeans is known to have a memory leak on Windows with MKL, when there are less chunks than available threads. You can avoid it by setting the environment variable OMP_NUM_THREADS=15.\n",
      "  warnings.warn(\n",
      "c:\\programdata\\anaconda3\\envs\\knorpel_v2\\lib\\site-packages\\sklearn\\cluster\\_kmeans.py:881: UserWarning: KMeans is known to have a memory leak on Windows with MKL, when there are less chunks than available threads. You can avoid it by setting the environment variable OMP_NUM_THREADS=15.\n",
      "  warnings.warn(\n",
      "c:\\programdata\\anaconda3\\envs\\knorpel_v2\\lib\\site-packages\\sklearn\\cluster\\_kmeans.py:881: UserWarning: KMeans is known to have a memory leak on Windows with MKL, when there are less chunks than available threads. You can avoid it by setting the environment variable OMP_NUM_THREADS=14.\n",
      "  warnings.warn(\n",
      "c:\\programdata\\anaconda3\\envs\\knorpel_v2\\lib\\site-packages\\sklearn\\cluster\\_kmeans.py:881: UserWarning: KMeans is known to have a memory leak on Windows with MKL, when there are less chunks than available threads. You can avoid it by setting the environment variable OMP_NUM_THREADS=15.\n",
      "  warnings.warn(\n",
      "c:\\programdata\\anaconda3\\envs\\knorpel_v2\\lib\\site-packages\\sklearn\\cluster\\_kmeans.py:881: UserWarning: KMeans is known to have a memory leak on Windows with MKL, when there are less chunks than available threads. You can avoid it by setting the environment variable OMP_NUM_THREADS=14.\n",
      "  warnings.warn(\n",
      "c:\\programdata\\anaconda3\\envs\\knorpel_v2\\lib\\site-packages\\sklearn\\cluster\\_kmeans.py:881: UserWarning: KMeans is known to have a memory leak on Windows with MKL, when there are less chunks than available threads. You can avoid it by setting the environment variable OMP_NUM_THREADS=15.\n",
      "  warnings.warn(\n",
      "c:\\programdata\\anaconda3\\envs\\knorpel_v2\\lib\\site-packages\\sklearn\\cluster\\_kmeans.py:881: UserWarning: KMeans is known to have a memory leak on Windows with MKL, when there are less chunks than available threads. You can avoid it by setting the environment variable OMP_NUM_THREADS=15.\n",
      "  warnings.warn(\n",
      "c:\\programdata\\anaconda3\\envs\\knorpel_v2\\lib\\site-packages\\sklearn\\cluster\\_kmeans.py:881: UserWarning: KMeans is known to have a memory leak on Windows with MKL, when there are less chunks than available threads. You can avoid it by setting the environment variable OMP_NUM_THREADS=15.\n",
      "  warnings.warn(\n",
      "c:\\programdata\\anaconda3\\envs\\knorpel_v2\\lib\\site-packages\\sklearn\\cluster\\_kmeans.py:881: UserWarning: KMeans is known to have a memory leak on Windows with MKL, when there are less chunks than available threads. You can avoid it by setting the environment variable OMP_NUM_THREADS=15.\n",
      "  warnings.warn(\n",
      "c:\\programdata\\anaconda3\\envs\\knorpel_v2\\lib\\site-packages\\sklearn\\cluster\\_kmeans.py:881: UserWarning: KMeans is known to have a memory leak on Windows with MKL, when there are less chunks than available threads. You can avoid it by setting the environment variable OMP_NUM_THREADS=15.\n",
      "  warnings.warn(\n",
      "c:\\programdata\\anaconda3\\envs\\knorpel_v2\\lib\\site-packages\\sklearn\\cluster\\_kmeans.py:881: UserWarning: KMeans is known to have a memory leak on Windows with MKL, when there are less chunks than available threads. You can avoid it by setting the environment variable OMP_NUM_THREADS=15.\n",
      "  warnings.warn(\n",
      "c:\\programdata\\anaconda3\\envs\\knorpel_v2\\lib\\site-packages\\sklearn\\cluster\\_kmeans.py:881: UserWarning: KMeans is known to have a memory leak on Windows with MKL, when there are less chunks than available threads. You can avoid it by setting the environment variable OMP_NUM_THREADS=15.\n",
      "  warnings.warn(\n",
      "c:\\programdata\\anaconda3\\envs\\knorpel_v2\\lib\\site-packages\\sklearn\\cluster\\_kmeans.py:881: UserWarning: KMeans is known to have a memory leak on Windows with MKL, when there are less chunks than available threads. You can avoid it by setting the environment variable OMP_NUM_THREADS=15.\n",
      "  warnings.warn(\n",
      "c:\\programdata\\anaconda3\\envs\\knorpel_v2\\lib\\site-packages\\sklearn\\cluster\\_kmeans.py:881: UserWarning: KMeans is known to have a memory leak on Windows with MKL, when there are less chunks than available threads. You can avoid it by setting the environment variable OMP_NUM_THREADS=15.\n",
      "  warnings.warn(\n",
      "c:\\programdata\\anaconda3\\envs\\knorpel_v2\\lib\\site-packages\\sklearn\\cluster\\_kmeans.py:881: UserWarning: KMeans is known to have a memory leak on Windows with MKL, when there are less chunks than available threads. You can avoid it by setting the environment variable OMP_NUM_THREADS=13.\n",
      "  warnings.warn(\n",
      "c:\\programdata\\anaconda3\\envs\\knorpel_v2\\lib\\site-packages\\sklearn\\cluster\\_kmeans.py:881: UserWarning: KMeans is known to have a memory leak on Windows with MKL, when there are less chunks than available threads. You can avoid it by setting the environment variable OMP_NUM_THREADS=15.\n",
      "  warnings.warn(\n"
     ]
    },
    {
     "name": "stderr",
     "output_type": "stream",
     "text": [
      "c:\\programdata\\anaconda3\\envs\\knorpel_v2\\lib\\site-packages\\sklearn\\cluster\\_kmeans.py:881: UserWarning: KMeans is known to have a memory leak on Windows with MKL, when there are less chunks than available threads. You can avoid it by setting the environment variable OMP_NUM_THREADS=13.\n",
      "  warnings.warn(\n",
      "c:\\programdata\\anaconda3\\envs\\knorpel_v2\\lib\\site-packages\\sklearn\\cluster\\_kmeans.py:881: UserWarning: KMeans is known to have a memory leak on Windows with MKL, when there are less chunks than available threads. You can avoid it by setting the environment variable OMP_NUM_THREADS=15.\n",
      "  warnings.warn(\n",
      "c:\\programdata\\anaconda3\\envs\\knorpel_v2\\lib\\site-packages\\sklearn\\cluster\\_kmeans.py:881: UserWarning: KMeans is known to have a memory leak on Windows with MKL, when there are less chunks than available threads. You can avoid it by setting the environment variable OMP_NUM_THREADS=14.\n",
      "  warnings.warn(\n",
      "c:\\programdata\\anaconda3\\envs\\knorpel_v2\\lib\\site-packages\\sklearn\\cluster\\_kmeans.py:881: UserWarning: KMeans is known to have a memory leak on Windows with MKL, when there are less chunks than available threads. You can avoid it by setting the environment variable OMP_NUM_THREADS=14.\n",
      "  warnings.warn(\n",
      "c:\\programdata\\anaconda3\\envs\\knorpel_v2\\lib\\site-packages\\sklearn\\cluster\\_kmeans.py:881: UserWarning: KMeans is known to have a memory leak on Windows with MKL, when there are less chunks than available threads. You can avoid it by setting the environment variable OMP_NUM_THREADS=15.\n",
      "  warnings.warn(\n",
      "c:\\programdata\\anaconda3\\envs\\knorpel_v2\\lib\\site-packages\\sklearn\\cluster\\_kmeans.py:881: UserWarning: KMeans is known to have a memory leak on Windows with MKL, when there are less chunks than available threads. You can avoid it by setting the environment variable OMP_NUM_THREADS=15.\n",
      "  warnings.warn(\n",
      "c:\\programdata\\anaconda3\\envs\\knorpel_v2\\lib\\site-packages\\sklearn\\cluster\\_kmeans.py:881: UserWarning: KMeans is known to have a memory leak on Windows with MKL, when there are less chunks than available threads. You can avoid it by setting the environment variable OMP_NUM_THREADS=15.\n",
      "  warnings.warn(\n",
      "c:\\programdata\\anaconda3\\envs\\knorpel_v2\\lib\\site-packages\\sklearn\\cluster\\_kmeans.py:881: UserWarning: KMeans is known to have a memory leak on Windows with MKL, when there are less chunks than available threads. You can avoid it by setting the environment variable OMP_NUM_THREADS=15.\n",
      "  warnings.warn(\n",
      "c:\\programdata\\anaconda3\\envs\\knorpel_v2\\lib\\site-packages\\sklearn\\cluster\\_kmeans.py:881: UserWarning: KMeans is known to have a memory leak on Windows with MKL, when there are less chunks than available threads. You can avoid it by setting the environment variable OMP_NUM_THREADS=15.\n",
      "  warnings.warn(\n",
      "c:\\programdata\\anaconda3\\envs\\knorpel_v2\\lib\\site-packages\\sklearn\\cluster\\_kmeans.py:881: UserWarning: KMeans is known to have a memory leak on Windows with MKL, when there are less chunks than available threads. You can avoid it by setting the environment variable OMP_NUM_THREADS=15.\n",
      "  warnings.warn(\n",
      "c:\\programdata\\anaconda3\\envs\\knorpel_v2\\lib\\site-packages\\sklearn\\cluster\\_kmeans.py:881: UserWarning: KMeans is known to have a memory leak on Windows with MKL, when there are less chunks than available threads. You can avoid it by setting the environment variable OMP_NUM_THREADS=15.\n",
      "  warnings.warn(\n",
      "c:\\programdata\\anaconda3\\envs\\knorpel_v2\\lib\\site-packages\\sklearn\\cluster\\_kmeans.py:881: UserWarning: KMeans is known to have a memory leak on Windows with MKL, when there are less chunks than available threads. You can avoid it by setting the environment variable OMP_NUM_THREADS=15.\n",
      "  warnings.warn(\n",
      "c:\\programdata\\anaconda3\\envs\\knorpel_v2\\lib\\site-packages\\sklearn\\cluster\\_kmeans.py:881: UserWarning: KMeans is known to have a memory leak on Windows with MKL, when there are less chunks than available threads. You can avoid it by setting the environment variable OMP_NUM_THREADS=15.\n",
      "  warnings.warn(\n",
      "c:\\programdata\\anaconda3\\envs\\knorpel_v2\\lib\\site-packages\\sklearn\\cluster\\_kmeans.py:881: UserWarning: KMeans is known to have a memory leak on Windows with MKL, when there are less chunks than available threads. You can avoid it by setting the environment variable OMP_NUM_THREADS=15.\n",
      "  warnings.warn(\n",
      "c:\\programdata\\anaconda3\\envs\\knorpel_v2\\lib\\site-packages\\sklearn\\cluster\\_kmeans.py:881: UserWarning: KMeans is known to have a memory leak on Windows with MKL, when there are less chunks than available threads. You can avoid it by setting the environment variable OMP_NUM_THREADS=14.\n",
      "  warnings.warn(\n",
      "c:\\programdata\\anaconda3\\envs\\knorpel_v2\\lib\\site-packages\\sklearn\\cluster\\_kmeans.py:881: UserWarning: KMeans is known to have a memory leak on Windows with MKL, when there are less chunks than available threads. You can avoid it by setting the environment variable OMP_NUM_THREADS=14.\n",
      "  warnings.warn(\n",
      "c:\\programdata\\anaconda3\\envs\\knorpel_v2\\lib\\site-packages\\sklearn\\cluster\\_kmeans.py:881: UserWarning: KMeans is known to have a memory leak on Windows with MKL, when there are less chunks than available threads. You can avoid it by setting the environment variable OMP_NUM_THREADS=15.\n",
      "  warnings.warn(\n",
      "c:\\programdata\\anaconda3\\envs\\knorpel_v2\\lib\\site-packages\\sklearn\\cluster\\_kmeans.py:881: UserWarning: KMeans is known to have a memory leak on Windows with MKL, when there are less chunks than available threads. You can avoid it by setting the environment variable OMP_NUM_THREADS=15.\n",
      "  warnings.warn(\n",
      "c:\\programdata\\anaconda3\\envs\\knorpel_v2\\lib\\site-packages\\sklearn\\cluster\\_kmeans.py:881: UserWarning: KMeans is known to have a memory leak on Windows with MKL, when there are less chunks than available threads. You can avoid it by setting the environment variable OMP_NUM_THREADS=15.\n",
      "  warnings.warn(\n",
      "c:\\programdata\\anaconda3\\envs\\knorpel_v2\\lib\\site-packages\\sklearn\\cluster\\_kmeans.py:881: UserWarning: KMeans is known to have a memory leak on Windows with MKL, when there are less chunks than available threads. You can avoid it by setting the environment variable OMP_NUM_THREADS=14.\n",
      "  warnings.warn(\n",
      "c:\\programdata\\anaconda3\\envs\\knorpel_v2\\lib\\site-packages\\sklearn\\cluster\\_kmeans.py:881: UserWarning: KMeans is known to have a memory leak on Windows with MKL, when there are less chunks than available threads. You can avoid it by setting the environment variable OMP_NUM_THREADS=15.\n",
      "  warnings.warn(\n",
      "c:\\programdata\\anaconda3\\envs\\knorpel_v2\\lib\\site-packages\\sklearn\\cluster\\_kmeans.py:881: UserWarning: KMeans is known to have a memory leak on Windows with MKL, when there are less chunks than available threads. You can avoid it by setting the environment variable OMP_NUM_THREADS=14.\n",
      "  warnings.warn(\n",
      "c:\\programdata\\anaconda3\\envs\\knorpel_v2\\lib\\site-packages\\sklearn\\cluster\\_kmeans.py:881: UserWarning: KMeans is known to have a memory leak on Windows with MKL, when there are less chunks than available threads. You can avoid it by setting the environment variable OMP_NUM_THREADS=15.\n",
      "  warnings.warn(\n",
      "c:\\programdata\\anaconda3\\envs\\knorpel_v2\\lib\\site-packages\\sklearn\\cluster\\_kmeans.py:881: UserWarning: KMeans is known to have a memory leak on Windows with MKL, when there are less chunks than available threads. You can avoid it by setting the environment variable OMP_NUM_THREADS=14.\n",
      "  warnings.warn(\n",
      "c:\\programdata\\anaconda3\\envs\\knorpel_v2\\lib\\site-packages\\sklearn\\cluster\\_kmeans.py:881: UserWarning: KMeans is known to have a memory leak on Windows with MKL, when there are less chunks than available threads. You can avoid it by setting the environment variable OMP_NUM_THREADS=15.\n",
      "  warnings.warn(\n",
      "c:\\programdata\\anaconda3\\envs\\knorpel_v2\\lib\\site-packages\\sklearn\\cluster\\_kmeans.py:881: UserWarning: KMeans is known to have a memory leak on Windows with MKL, when there are less chunks than available threads. You can avoid it by setting the environment variable OMP_NUM_THREADS=14.\n",
      "  warnings.warn(\n",
      "c:\\programdata\\anaconda3\\envs\\knorpel_v2\\lib\\site-packages\\sklearn\\cluster\\_kmeans.py:881: UserWarning: KMeans is known to have a memory leak on Windows with MKL, when there are less chunks than available threads. You can avoid it by setting the environment variable OMP_NUM_THREADS=15.\n",
      "  warnings.warn(\n"
     ]
    },
    {
     "name": "stderr",
     "output_type": "stream",
     "text": [
      "c:\\programdata\\anaconda3\\envs\\knorpel_v2\\lib\\site-packages\\sklearn\\cluster\\_kmeans.py:881: UserWarning: KMeans is known to have a memory leak on Windows with MKL, when there are less chunks than available threads. You can avoid it by setting the environment variable OMP_NUM_THREADS=15.\n",
      "  warnings.warn(\n",
      "c:\\programdata\\anaconda3\\envs\\knorpel_v2\\lib\\site-packages\\sklearn\\cluster\\_kmeans.py:881: UserWarning: KMeans is known to have a memory leak on Windows with MKL, when there are less chunks than available threads. You can avoid it by setting the environment variable OMP_NUM_THREADS=14.\n",
      "  warnings.warn(\n",
      "c:\\programdata\\anaconda3\\envs\\knorpel_v2\\lib\\site-packages\\sklearn\\cluster\\_kmeans.py:881: UserWarning: KMeans is known to have a memory leak on Windows with MKL, when there are less chunks than available threads. You can avoid it by setting the environment variable OMP_NUM_THREADS=14.\n",
      "  warnings.warn(\n",
      "c:\\programdata\\anaconda3\\envs\\knorpel_v2\\lib\\site-packages\\sklearn\\cluster\\_kmeans.py:881: UserWarning: KMeans is known to have a memory leak on Windows with MKL, when there are less chunks than available threads. You can avoid it by setting the environment variable OMP_NUM_THREADS=15.\n",
      "  warnings.warn(\n",
      "c:\\programdata\\anaconda3\\envs\\knorpel_v2\\lib\\site-packages\\sklearn\\cluster\\_kmeans.py:881: UserWarning: KMeans is known to have a memory leak on Windows with MKL, when there are less chunks than available threads. You can avoid it by setting the environment variable OMP_NUM_THREADS=15.\n",
      "  warnings.warn(\n",
      "c:\\programdata\\anaconda3\\envs\\knorpel_v2\\lib\\site-packages\\sklearn\\cluster\\_kmeans.py:881: UserWarning: KMeans is known to have a memory leak on Windows with MKL, when there are less chunks than available threads. You can avoid it by setting the environment variable OMP_NUM_THREADS=13.\n",
      "  warnings.warn(\n",
      "c:\\programdata\\anaconda3\\envs\\knorpel_v2\\lib\\site-packages\\sklearn\\cluster\\_kmeans.py:881: UserWarning: KMeans is known to have a memory leak on Windows with MKL, when there are less chunks than available threads. You can avoid it by setting the environment variable OMP_NUM_THREADS=10.\n",
      "  warnings.warn(\n",
      "c:\\programdata\\anaconda3\\envs\\knorpel_v2\\lib\\site-packages\\sklearn\\cluster\\_kmeans.py:881: UserWarning: KMeans is known to have a memory leak on Windows with MKL, when there are less chunks than available threads. You can avoid it by setting the environment variable OMP_NUM_THREADS=13.\n",
      "  warnings.warn(\n",
      "c:\\programdata\\anaconda3\\envs\\knorpel_v2\\lib\\site-packages\\sklearn\\cluster\\_kmeans.py:881: UserWarning: KMeans is known to have a memory leak on Windows with MKL, when there are less chunks than available threads. You can avoid it by setting the environment variable OMP_NUM_THREADS=10.\n",
      "  warnings.warn(\n",
      "c:\\programdata\\anaconda3\\envs\\knorpel_v2\\lib\\site-packages\\sklearn\\cluster\\_kmeans.py:881: UserWarning: KMeans is known to have a memory leak on Windows with MKL, when there are less chunks than available threads. You can avoid it by setting the environment variable OMP_NUM_THREADS=13.\n",
      "  warnings.warn(\n",
      "c:\\programdata\\anaconda3\\envs\\knorpel_v2\\lib\\site-packages\\sklearn\\cluster\\_kmeans.py:881: UserWarning: KMeans is known to have a memory leak on Windows with MKL, when there are less chunks than available threads. You can avoid it by setting the environment variable OMP_NUM_THREADS=14.\n",
      "  warnings.warn(\n",
      "c:\\programdata\\anaconda3\\envs\\knorpel_v2\\lib\\site-packages\\sklearn\\cluster\\_kmeans.py:881: UserWarning: KMeans is known to have a memory leak on Windows with MKL, when there are less chunks than available threads. You can avoid it by setting the environment variable OMP_NUM_THREADS=13.\n",
      "  warnings.warn(\n",
      "c:\\programdata\\anaconda3\\envs\\knorpel_v2\\lib\\site-packages\\sklearn\\cluster\\_kmeans.py:881: UserWarning: KMeans is known to have a memory leak on Windows with MKL, when there are less chunks than available threads. You can avoid it by setting the environment variable OMP_NUM_THREADS=14.\n",
      "  warnings.warn(\n",
      "c:\\programdata\\anaconda3\\envs\\knorpel_v2\\lib\\site-packages\\sklearn\\cluster\\_kmeans.py:881: UserWarning: KMeans is known to have a memory leak on Windows with MKL, when there are less chunks than available threads. You can avoid it by setting the environment variable OMP_NUM_THREADS=15.\n",
      "  warnings.warn(\n",
      "c:\\programdata\\anaconda3\\envs\\knorpel_v2\\lib\\site-packages\\sklearn\\cluster\\_kmeans.py:881: UserWarning: KMeans is known to have a memory leak on Windows with MKL, when there are less chunks than available threads. You can avoid it by setting the environment variable OMP_NUM_THREADS=15.\n",
      "  warnings.warn(\n",
      "c:\\programdata\\anaconda3\\envs\\knorpel_v2\\lib\\site-packages\\sklearn\\cluster\\_kmeans.py:881: UserWarning: KMeans is known to have a memory leak on Windows with MKL, when there are less chunks than available threads. You can avoid it by setting the environment variable OMP_NUM_THREADS=15.\n",
      "  warnings.warn(\n",
      "c:\\programdata\\anaconda3\\envs\\knorpel_v2\\lib\\site-packages\\sklearn\\cluster\\_kmeans.py:881: UserWarning: KMeans is known to have a memory leak on Windows with MKL, when there are less chunks than available threads. You can avoid it by setting the environment variable OMP_NUM_THREADS=15.\n",
      "  warnings.warn(\n",
      "c:\\programdata\\anaconda3\\envs\\knorpel_v2\\lib\\site-packages\\sklearn\\cluster\\_kmeans.py:881: UserWarning: KMeans is known to have a memory leak on Windows with MKL, when there are less chunks than available threads. You can avoid it by setting the environment variable OMP_NUM_THREADS=15.\n",
      "  warnings.warn(\n",
      "c:\\programdata\\anaconda3\\envs\\knorpel_v2\\lib\\site-packages\\sklearn\\cluster\\_kmeans.py:881: UserWarning: KMeans is known to have a memory leak on Windows with MKL, when there are less chunks than available threads. You can avoid it by setting the environment variable OMP_NUM_THREADS=15.\n",
      "  warnings.warn(\n",
      "c:\\programdata\\anaconda3\\envs\\knorpel_v2\\lib\\site-packages\\sklearn\\cluster\\_kmeans.py:881: UserWarning: KMeans is known to have a memory leak on Windows with MKL, when there are less chunks than available threads. You can avoid it by setting the environment variable OMP_NUM_THREADS=15.\n",
      "  warnings.warn(\n",
      "c:\\programdata\\anaconda3\\envs\\knorpel_v2\\lib\\site-packages\\sklearn\\cluster\\_kmeans.py:881: UserWarning: KMeans is known to have a memory leak on Windows with MKL, when there are less chunks than available threads. You can avoid it by setting the environment variable OMP_NUM_THREADS=15.\n",
      "  warnings.warn(\n",
      "c:\\programdata\\anaconda3\\envs\\knorpel_v2\\lib\\site-packages\\sklearn\\cluster\\_kmeans.py:881: UserWarning: KMeans is known to have a memory leak on Windows with MKL, when there are less chunks than available threads. You can avoid it by setting the environment variable OMP_NUM_THREADS=15.\n",
      "  warnings.warn(\n",
      "c:\\programdata\\anaconda3\\envs\\knorpel_v2\\lib\\site-packages\\sklearn\\cluster\\_kmeans.py:881: UserWarning: KMeans is known to have a memory leak on Windows with MKL, when there are less chunks than available threads. You can avoid it by setting the environment variable OMP_NUM_THREADS=15.\n",
      "  warnings.warn(\n",
      "c:\\programdata\\anaconda3\\envs\\knorpel_v2\\lib\\site-packages\\sklearn\\cluster\\_kmeans.py:881: UserWarning: KMeans is known to have a memory leak on Windows with MKL, when there are less chunks than available threads. You can avoid it by setting the environment variable OMP_NUM_THREADS=15.\n",
      "  warnings.warn(\n",
      "c:\\programdata\\anaconda3\\envs\\knorpel_v2\\lib\\site-packages\\sklearn\\cluster\\_kmeans.py:881: UserWarning: KMeans is known to have a memory leak on Windows with MKL, when there are less chunks than available threads. You can avoid it by setting the environment variable OMP_NUM_THREADS=15.\n",
      "  warnings.warn(\n",
      "c:\\programdata\\anaconda3\\envs\\knorpel_v2\\lib\\site-packages\\sklearn\\cluster\\_kmeans.py:881: UserWarning: KMeans is known to have a memory leak on Windows with MKL, when there are less chunks than available threads. You can avoid it by setting the environment variable OMP_NUM_THREADS=14.\n",
      "  warnings.warn(\n",
      "c:\\programdata\\anaconda3\\envs\\knorpel_v2\\lib\\site-packages\\sklearn\\cluster\\_kmeans.py:881: UserWarning: KMeans is known to have a memory leak on Windows with MKL, when there are less chunks than available threads. You can avoid it by setting the environment variable OMP_NUM_THREADS=14.\n",
      "  warnings.warn(\n"
     ]
    },
    {
     "name": "stderr",
     "output_type": "stream",
     "text": [
      "c:\\programdata\\anaconda3\\envs\\knorpel_v2\\lib\\site-packages\\sklearn\\cluster\\_kmeans.py:881: UserWarning: KMeans is known to have a memory leak on Windows with MKL, when there are less chunks than available threads. You can avoid it by setting the environment variable OMP_NUM_THREADS=15.\n",
      "  warnings.warn(\n",
      "c:\\programdata\\anaconda3\\envs\\knorpel_v2\\lib\\site-packages\\sklearn\\cluster\\_kmeans.py:881: UserWarning: KMeans is known to have a memory leak on Windows with MKL, when there are less chunks than available threads. You can avoid it by setting the environment variable OMP_NUM_THREADS=15.\n",
      "  warnings.warn(\n",
      "c:\\programdata\\anaconda3\\envs\\knorpel_v2\\lib\\site-packages\\sklearn\\cluster\\_kmeans.py:881: UserWarning: KMeans is known to have a memory leak on Windows with MKL, when there are less chunks than available threads. You can avoid it by setting the environment variable OMP_NUM_THREADS=13.\n",
      "  warnings.warn(\n",
      "c:\\programdata\\anaconda3\\envs\\knorpel_v2\\lib\\site-packages\\sklearn\\cluster\\_kmeans.py:881: UserWarning: KMeans is known to have a memory leak on Windows with MKL, when there are less chunks than available threads. You can avoid it by setting the environment variable OMP_NUM_THREADS=13.\n",
      "  warnings.warn(\n",
      "c:\\programdata\\anaconda3\\envs\\knorpel_v2\\lib\\site-packages\\sklearn\\cluster\\_kmeans.py:881: UserWarning: KMeans is known to have a memory leak on Windows with MKL, when there are less chunks than available threads. You can avoid it by setting the environment variable OMP_NUM_THREADS=14.\n",
      "  warnings.warn(\n",
      "c:\\programdata\\anaconda3\\envs\\knorpel_v2\\lib\\site-packages\\sklearn\\cluster\\_kmeans.py:881: UserWarning: KMeans is known to have a memory leak on Windows with MKL, when there are less chunks than available threads. You can avoid it by setting the environment variable OMP_NUM_THREADS=14.\n",
      "  warnings.warn(\n",
      "c:\\programdata\\anaconda3\\envs\\knorpel_v2\\lib\\site-packages\\sklearn\\cluster\\_kmeans.py:881: UserWarning: KMeans is known to have a memory leak on Windows with MKL, when there are less chunks than available threads. You can avoid it by setting the environment variable OMP_NUM_THREADS=14.\n",
      "  warnings.warn(\n",
      "c:\\programdata\\anaconda3\\envs\\knorpel_v2\\lib\\site-packages\\sklearn\\cluster\\_kmeans.py:881: UserWarning: KMeans is known to have a memory leak on Windows with MKL, when there are less chunks than available threads. You can avoid it by setting the environment variable OMP_NUM_THREADS=14.\n",
      "  warnings.warn(\n",
      "c:\\programdata\\anaconda3\\envs\\knorpel_v2\\lib\\site-packages\\sklearn\\cluster\\_kmeans.py:881: UserWarning: KMeans is known to have a memory leak on Windows with MKL, when there are less chunks than available threads. You can avoid it by setting the environment variable OMP_NUM_THREADS=14.\n",
      "  warnings.warn(\n",
      "c:\\programdata\\anaconda3\\envs\\knorpel_v2\\lib\\site-packages\\sklearn\\cluster\\_kmeans.py:881: UserWarning: KMeans is known to have a memory leak on Windows with MKL, when there are less chunks than available threads. You can avoid it by setting the environment variable OMP_NUM_THREADS=14.\n",
      "  warnings.warn(\n",
      "c:\\programdata\\anaconda3\\envs\\knorpel_v2\\lib\\site-packages\\sklearn\\cluster\\_kmeans.py:881: UserWarning: KMeans is known to have a memory leak on Windows with MKL, when there are less chunks than available threads. You can avoid it by setting the environment variable OMP_NUM_THREADS=15.\n",
      "  warnings.warn(\n",
      "c:\\programdata\\anaconda3\\envs\\knorpel_v2\\lib\\site-packages\\sklearn\\cluster\\_kmeans.py:881: UserWarning: KMeans is known to have a memory leak on Windows with MKL, when there are less chunks than available threads. You can avoid it by setting the environment variable OMP_NUM_THREADS=15.\n",
      "  warnings.warn(\n",
      "c:\\programdata\\anaconda3\\envs\\knorpel_v2\\lib\\site-packages\\sklearn\\cluster\\_kmeans.py:881: UserWarning: KMeans is known to have a memory leak on Windows with MKL, when there are less chunks than available threads. You can avoid it by setting the environment variable OMP_NUM_THREADS=15.\n",
      "  warnings.warn(\n",
      "c:\\programdata\\anaconda3\\envs\\knorpel_v2\\lib\\site-packages\\sklearn\\cluster\\_kmeans.py:881: UserWarning: KMeans is known to have a memory leak on Windows with MKL, when there are less chunks than available threads. You can avoid it by setting the environment variable OMP_NUM_THREADS=15.\n",
      "  warnings.warn(\n",
      "c:\\programdata\\anaconda3\\envs\\knorpel_v2\\lib\\site-packages\\sklearn\\cluster\\_kmeans.py:881: UserWarning: KMeans is known to have a memory leak on Windows with MKL, when there are less chunks than available threads. You can avoid it by setting the environment variable OMP_NUM_THREADS=14.\n",
      "  warnings.warn(\n",
      "c:\\programdata\\anaconda3\\envs\\knorpel_v2\\lib\\site-packages\\sklearn\\cluster\\_kmeans.py:881: UserWarning: KMeans is known to have a memory leak on Windows with MKL, when there are less chunks than available threads. You can avoid it by setting the environment variable OMP_NUM_THREADS=14.\n",
      "  warnings.warn(\n",
      "c:\\programdata\\anaconda3\\envs\\knorpel_v2\\lib\\site-packages\\sklearn\\cluster\\_kmeans.py:881: UserWarning: KMeans is known to have a memory leak on Windows with MKL, when there are less chunks than available threads. You can avoid it by setting the environment variable OMP_NUM_THREADS=15.\n",
      "  warnings.warn(\n",
      "c:\\programdata\\anaconda3\\envs\\knorpel_v2\\lib\\site-packages\\sklearn\\cluster\\_kmeans.py:881: UserWarning: KMeans is known to have a memory leak on Windows with MKL, when there are less chunks than available threads. You can avoid it by setting the environment variable OMP_NUM_THREADS=15.\n",
      "  warnings.warn(\n",
      "c:\\programdata\\anaconda3\\envs\\knorpel_v2\\lib\\site-packages\\sklearn\\cluster\\_kmeans.py:881: UserWarning: KMeans is known to have a memory leak on Windows with MKL, when there are less chunks than available threads. You can avoid it by setting the environment variable OMP_NUM_THREADS=15.\n",
      "  warnings.warn(\n",
      "c:\\programdata\\anaconda3\\envs\\knorpel_v2\\lib\\site-packages\\sklearn\\cluster\\_kmeans.py:881: UserWarning: KMeans is known to have a memory leak on Windows with MKL, when there are less chunks than available threads. You can avoid it by setting the environment variable OMP_NUM_THREADS=15.\n",
      "  warnings.warn(\n",
      "c:\\programdata\\anaconda3\\envs\\knorpel_v2\\lib\\site-packages\\sklearn\\cluster\\_kmeans.py:881: UserWarning: KMeans is known to have a memory leak on Windows with MKL, when there are less chunks than available threads. You can avoid it by setting the environment variable OMP_NUM_THREADS=12.\n",
      "  warnings.warn(\n",
      "c:\\programdata\\anaconda3\\envs\\knorpel_v2\\lib\\site-packages\\sklearn\\cluster\\_kmeans.py:881: UserWarning: KMeans is known to have a memory leak on Windows with MKL, when there are less chunks than available threads. You can avoid it by setting the environment variable OMP_NUM_THREADS=15.\n",
      "  warnings.warn(\n",
      "c:\\programdata\\anaconda3\\envs\\knorpel_v2\\lib\\site-packages\\sklearn\\cluster\\_kmeans.py:881: UserWarning: KMeans is known to have a memory leak on Windows with MKL, when there are less chunks than available threads. You can avoid it by setting the environment variable OMP_NUM_THREADS=12.\n",
      "  warnings.warn(\n",
      "c:\\programdata\\anaconda3\\envs\\knorpel_v2\\lib\\site-packages\\sklearn\\cluster\\_kmeans.py:881: UserWarning: KMeans is known to have a memory leak on Windows with MKL, when there are less chunks than available threads. You can avoid it by setting the environment variable OMP_NUM_THREADS=15.\n",
      "  warnings.warn(\n",
      "c:\\programdata\\anaconda3\\envs\\knorpel_v2\\lib\\site-packages\\sklearn\\cluster\\_kmeans.py:881: UserWarning: KMeans is known to have a memory leak on Windows with MKL, when there are less chunks than available threads. You can avoid it by setting the environment variable OMP_NUM_THREADS=15.\n",
      "  warnings.warn(\n",
      "c:\\programdata\\anaconda3\\envs\\knorpel_v2\\lib\\site-packages\\sklearn\\cluster\\_kmeans.py:881: UserWarning: KMeans is known to have a memory leak on Windows with MKL, when there are less chunks than available threads. You can avoid it by setting the environment variable OMP_NUM_THREADS=15.\n",
      "  warnings.warn(\n",
      "c:\\programdata\\anaconda3\\envs\\knorpel_v2\\lib\\site-packages\\sklearn\\cluster\\_kmeans.py:881: UserWarning: KMeans is known to have a memory leak on Windows with MKL, when there are less chunks than available threads. You can avoid it by setting the environment variable OMP_NUM_THREADS=14.\n",
      "  warnings.warn(\n"
     ]
    },
    {
     "name": "stderr",
     "output_type": "stream",
     "text": [
      "c:\\programdata\\anaconda3\\envs\\knorpel_v2\\lib\\site-packages\\sklearn\\cluster\\_kmeans.py:881: UserWarning: KMeans is known to have a memory leak on Windows with MKL, when there are less chunks than available threads. You can avoid it by setting the environment variable OMP_NUM_THREADS=15.\n",
      "  warnings.warn(\n",
      "c:\\programdata\\anaconda3\\envs\\knorpel_v2\\lib\\site-packages\\sklearn\\cluster\\_kmeans.py:881: UserWarning: KMeans is known to have a memory leak on Windows with MKL, when there are less chunks than available threads. You can avoid it by setting the environment variable OMP_NUM_THREADS=14.\n",
      "  warnings.warn(\n",
      "c:\\programdata\\anaconda3\\envs\\knorpel_v2\\lib\\site-packages\\sklearn\\cluster\\_kmeans.py:881: UserWarning: KMeans is known to have a memory leak on Windows with MKL, when there are less chunks than available threads. You can avoid it by setting the environment variable OMP_NUM_THREADS=15.\n",
      "  warnings.warn(\n",
      "c:\\programdata\\anaconda3\\envs\\knorpel_v2\\lib\\site-packages\\sklearn\\cluster\\_kmeans.py:881: UserWarning: KMeans is known to have a memory leak on Windows with MKL, when there are less chunks than available threads. You can avoid it by setting the environment variable OMP_NUM_THREADS=14.\n",
      "  warnings.warn(\n",
      "c:\\programdata\\anaconda3\\envs\\knorpel_v2\\lib\\site-packages\\sklearn\\cluster\\_kmeans.py:881: UserWarning: KMeans is known to have a memory leak on Windows with MKL, when there are less chunks than available threads. You can avoid it by setting the environment variable OMP_NUM_THREADS=14.\n",
      "  warnings.warn(\n",
      "c:\\programdata\\anaconda3\\envs\\knorpel_v2\\lib\\site-packages\\sklearn\\cluster\\_kmeans.py:881: UserWarning: KMeans is known to have a memory leak on Windows with MKL, when there are less chunks than available threads. You can avoid it by setting the environment variable OMP_NUM_THREADS=13.\n",
      "  warnings.warn(\n",
      "c:\\programdata\\anaconda3\\envs\\knorpel_v2\\lib\\site-packages\\sklearn\\cluster\\_kmeans.py:881: UserWarning: KMeans is known to have a memory leak on Windows with MKL, when there are less chunks than available threads. You can avoid it by setting the environment variable OMP_NUM_THREADS=13.\n",
      "  warnings.warn(\n",
      "c:\\programdata\\anaconda3\\envs\\knorpel_v2\\lib\\site-packages\\sklearn\\cluster\\_kmeans.py:881: UserWarning: KMeans is known to have a memory leak on Windows with MKL, when there are less chunks than available threads. You can avoid it by setting the environment variable OMP_NUM_THREADS=15.\n",
      "  warnings.warn(\n",
      "c:\\programdata\\anaconda3\\envs\\knorpel_v2\\lib\\site-packages\\sklearn\\cluster\\_kmeans.py:881: UserWarning: KMeans is known to have a memory leak on Windows with MKL, when there are less chunks than available threads. You can avoid it by setting the environment variable OMP_NUM_THREADS=15.\n",
      "  warnings.warn(\n",
      "c:\\programdata\\anaconda3\\envs\\knorpel_v2\\lib\\site-packages\\sklearn\\cluster\\_kmeans.py:881: UserWarning: KMeans is known to have a memory leak on Windows with MKL, when there are less chunks than available threads. You can avoid it by setting the environment variable OMP_NUM_THREADS=15.\n",
      "  warnings.warn(\n",
      "c:\\programdata\\anaconda3\\envs\\knorpel_v2\\lib\\site-packages\\sklearn\\cluster\\_kmeans.py:881: UserWarning: KMeans is known to have a memory leak on Windows with MKL, when there are less chunks than available threads. You can avoid it by setting the environment variable OMP_NUM_THREADS=15.\n",
      "  warnings.warn(\n",
      "c:\\programdata\\anaconda3\\envs\\knorpel_v2\\lib\\site-packages\\sklearn\\cluster\\_kmeans.py:881: UserWarning: KMeans is known to have a memory leak on Windows with MKL, when there are less chunks than available threads. You can avoid it by setting the environment variable OMP_NUM_THREADS=14.\n",
      "  warnings.warn(\n",
      "c:\\programdata\\anaconda3\\envs\\knorpel_v2\\lib\\site-packages\\sklearn\\cluster\\_kmeans.py:881: UserWarning: KMeans is known to have a memory leak on Windows with MKL, when there are less chunks than available threads. You can avoid it by setting the environment variable OMP_NUM_THREADS=14.\n",
      "  warnings.warn(\n",
      "c:\\programdata\\anaconda3\\envs\\knorpel_v2\\lib\\site-packages\\sklearn\\cluster\\_kmeans.py:881: UserWarning: KMeans is known to have a memory leak on Windows with MKL, when there are less chunks than available threads. You can avoid it by setting the environment variable OMP_NUM_THREADS=14.\n",
      "  warnings.warn(\n",
      "c:\\programdata\\anaconda3\\envs\\knorpel_v2\\lib\\site-packages\\sklearn\\cluster\\_kmeans.py:881: UserWarning: KMeans is known to have a memory leak on Windows with MKL, when there are less chunks than available threads. You can avoid it by setting the environment variable OMP_NUM_THREADS=14.\n",
      "  warnings.warn(\n",
      "c:\\programdata\\anaconda3\\envs\\knorpel_v2\\lib\\site-packages\\sklearn\\cluster\\_kmeans.py:881: UserWarning: KMeans is known to have a memory leak on Windows with MKL, when there are less chunks than available threads. You can avoid it by setting the environment variable OMP_NUM_THREADS=15.\n",
      "  warnings.warn(\n",
      "c:\\programdata\\anaconda3\\envs\\knorpel_v2\\lib\\site-packages\\sklearn\\cluster\\_kmeans.py:881: UserWarning: KMeans is known to have a memory leak on Windows with MKL, when there are less chunks than available threads. You can avoid it by setting the environment variable OMP_NUM_THREADS=15.\n",
      "  warnings.warn(\n",
      "c:\\programdata\\anaconda3\\envs\\knorpel_v2\\lib\\site-packages\\sklearn\\cluster\\_kmeans.py:881: UserWarning: KMeans is known to have a memory leak on Windows with MKL, when there are less chunks than available threads. You can avoid it by setting the environment variable OMP_NUM_THREADS=14.\n",
      "  warnings.warn(\n",
      "c:\\programdata\\anaconda3\\envs\\knorpel_v2\\lib\\site-packages\\sklearn\\cluster\\_kmeans.py:881: UserWarning: KMeans is known to have a memory leak on Windows with MKL, when there are less chunks than available threads. You can avoid it by setting the environment variable OMP_NUM_THREADS=14.\n",
      "  warnings.warn(\n",
      "c:\\programdata\\anaconda3\\envs\\knorpel_v2\\lib\\site-packages\\sklearn\\cluster\\_kmeans.py:881: UserWarning: KMeans is known to have a memory leak on Windows with MKL, when there are less chunks than available threads. You can avoid it by setting the environment variable OMP_NUM_THREADS=14.\n",
      "  warnings.warn(\n",
      "c:\\programdata\\anaconda3\\envs\\knorpel_v2\\lib\\site-packages\\sklearn\\cluster\\_kmeans.py:881: UserWarning: KMeans is known to have a memory leak on Windows with MKL, when there are less chunks than available threads. You can avoid it by setting the environment variable OMP_NUM_THREADS=14.\n",
      "  warnings.warn(\n",
      "c:\\programdata\\anaconda3\\envs\\knorpel_v2\\lib\\site-packages\\sklearn\\cluster\\_kmeans.py:881: UserWarning: KMeans is known to have a memory leak on Windows with MKL, when there are less chunks than available threads. You can avoid it by setting the environment variable OMP_NUM_THREADS=15.\n",
      "  warnings.warn(\n",
      "c:\\programdata\\anaconda3\\envs\\knorpel_v2\\lib\\site-packages\\sklearn\\cluster\\_kmeans.py:881: UserWarning: KMeans is known to have a memory leak on Windows with MKL, when there are less chunks than available threads. You can avoid it by setting the environment variable OMP_NUM_THREADS=15.\n",
      "  warnings.warn(\n",
      "c:\\programdata\\anaconda3\\envs\\knorpel_v2\\lib\\site-packages\\sklearn\\cluster\\_kmeans.py:881: UserWarning: KMeans is known to have a memory leak on Windows with MKL, when there are less chunks than available threads. You can avoid it by setting the environment variable OMP_NUM_THREADS=15.\n",
      "  warnings.warn(\n",
      "c:\\programdata\\anaconda3\\envs\\knorpel_v2\\lib\\site-packages\\sklearn\\cluster\\_kmeans.py:881: UserWarning: KMeans is known to have a memory leak on Windows with MKL, when there are less chunks than available threads. You can avoid it by setting the environment variable OMP_NUM_THREADS=15.\n",
      "  warnings.warn(\n",
      "c:\\programdata\\anaconda3\\envs\\knorpel_v2\\lib\\site-packages\\sklearn\\cluster\\_kmeans.py:881: UserWarning: KMeans is known to have a memory leak on Windows with MKL, when there are less chunks than available threads. You can avoid it by setting the environment variable OMP_NUM_THREADS=15.\n",
      "  warnings.warn(\n",
      "c:\\programdata\\anaconda3\\envs\\knorpel_v2\\lib\\site-packages\\sklearn\\cluster\\_kmeans.py:881: UserWarning: KMeans is known to have a memory leak on Windows with MKL, when there are less chunks than available threads. You can avoid it by setting the environment variable OMP_NUM_THREADS=15.\n",
      "  warnings.warn(\n"
     ]
    },
    {
     "name": "stderr",
     "output_type": "stream",
     "text": [
      "c:\\programdata\\anaconda3\\envs\\knorpel_v2\\lib\\site-packages\\sklearn\\cluster\\_kmeans.py:881: UserWarning: KMeans is known to have a memory leak on Windows with MKL, when there are less chunks than available threads. You can avoid it by setting the environment variable OMP_NUM_THREADS=15.\n",
      "  warnings.warn(\n",
      "c:\\programdata\\anaconda3\\envs\\knorpel_v2\\lib\\site-packages\\sklearn\\cluster\\_kmeans.py:881: UserWarning: KMeans is known to have a memory leak on Windows with MKL, when there are less chunks than available threads. You can avoid it by setting the environment variable OMP_NUM_THREADS=15.\n",
      "  warnings.warn(\n",
      "c:\\programdata\\anaconda3\\envs\\knorpel_v2\\lib\\site-packages\\sklearn\\cluster\\_kmeans.py:881: UserWarning: KMeans is known to have a memory leak on Windows with MKL, when there are less chunks than available threads. You can avoid it by setting the environment variable OMP_NUM_THREADS=14.\n",
      "  warnings.warn(\n",
      "c:\\programdata\\anaconda3\\envs\\knorpel_v2\\lib\\site-packages\\sklearn\\cluster\\_kmeans.py:881: UserWarning: KMeans is known to have a memory leak on Windows with MKL, when there are less chunks than available threads. You can avoid it by setting the environment variable OMP_NUM_THREADS=14.\n",
      "  warnings.warn(\n",
      "c:\\programdata\\anaconda3\\envs\\knorpel_v2\\lib\\site-packages\\sklearn\\cluster\\_kmeans.py:881: UserWarning: KMeans is known to have a memory leak on Windows with MKL, when there are less chunks than available threads. You can avoid it by setting the environment variable OMP_NUM_THREADS=14.\n",
      "  warnings.warn(\n",
      "c:\\programdata\\anaconda3\\envs\\knorpel_v2\\lib\\site-packages\\sklearn\\cluster\\_kmeans.py:881: UserWarning: KMeans is known to have a memory leak on Windows with MKL, when there are less chunks than available threads. You can avoid it by setting the environment variable OMP_NUM_THREADS=14.\n",
      "  warnings.warn(\n",
      "c:\\programdata\\anaconda3\\envs\\knorpel_v2\\lib\\site-packages\\sklearn\\cluster\\_kmeans.py:881: UserWarning: KMeans is known to have a memory leak on Windows with MKL, when there are less chunks than available threads. You can avoid it by setting the environment variable OMP_NUM_THREADS=15.\n",
      "  warnings.warn(\n",
      "c:\\programdata\\anaconda3\\envs\\knorpel_v2\\lib\\site-packages\\sklearn\\cluster\\_kmeans.py:881: UserWarning: KMeans is known to have a memory leak on Windows with MKL, when there are less chunks than available threads. You can avoid it by setting the environment variable OMP_NUM_THREADS=12.\n",
      "  warnings.warn(\n",
      "c:\\programdata\\anaconda3\\envs\\knorpel_v2\\lib\\site-packages\\sklearn\\cluster\\_kmeans.py:881: UserWarning: KMeans is known to have a memory leak on Windows with MKL, when there are less chunks than available threads. You can avoid it by setting the environment variable OMP_NUM_THREADS=15.\n",
      "  warnings.warn(\n",
      "c:\\programdata\\anaconda3\\envs\\knorpel_v2\\lib\\site-packages\\sklearn\\cluster\\_kmeans.py:881: UserWarning: KMeans is known to have a memory leak on Windows with MKL, when there are less chunks than available threads. You can avoid it by setting the environment variable OMP_NUM_THREADS=12.\n",
      "  warnings.warn(\n",
      "c:\\programdata\\anaconda3\\envs\\knorpel_v2\\lib\\site-packages\\sklearn\\cluster\\_kmeans.py:881: UserWarning: KMeans is known to have a memory leak on Windows with MKL, when there are less chunks than available threads. You can avoid it by setting the environment variable OMP_NUM_THREADS=15.\n",
      "  warnings.warn(\n",
      "c:\\programdata\\anaconda3\\envs\\knorpel_v2\\lib\\site-packages\\sklearn\\cluster\\_kmeans.py:881: UserWarning: KMeans is known to have a memory leak on Windows with MKL, when there are less chunks than available threads. You can avoid it by setting the environment variable OMP_NUM_THREADS=15.\n",
      "  warnings.warn(\n",
      "c:\\programdata\\anaconda3\\envs\\knorpel_v2\\lib\\site-packages\\sklearn\\cluster\\_kmeans.py:881: UserWarning: KMeans is known to have a memory leak on Windows with MKL, when there are less chunks than available threads. You can avoid it by setting the environment variable OMP_NUM_THREADS=15.\n",
      "  warnings.warn(\n",
      "c:\\programdata\\anaconda3\\envs\\knorpel_v2\\lib\\site-packages\\sklearn\\cluster\\_kmeans.py:881: UserWarning: KMeans is known to have a memory leak on Windows with MKL, when there are less chunks than available threads. You can avoid it by setting the environment variable OMP_NUM_THREADS=15.\n",
      "  warnings.warn(\n",
      "c:\\programdata\\anaconda3\\envs\\knorpel_v2\\lib\\site-packages\\sklearn\\cluster\\_kmeans.py:881: UserWarning: KMeans is known to have a memory leak on Windows with MKL, when there are less chunks than available threads. You can avoid it by setting the environment variable OMP_NUM_THREADS=15.\n",
      "  warnings.warn(\n",
      "c:\\programdata\\anaconda3\\envs\\knorpel_v2\\lib\\site-packages\\sklearn\\cluster\\_kmeans.py:881: UserWarning: KMeans is known to have a memory leak on Windows with MKL, when there are less chunks than available threads. You can avoid it by setting the environment variable OMP_NUM_THREADS=15.\n",
      "  warnings.warn(\n",
      "c:\\programdata\\anaconda3\\envs\\knorpel_v2\\lib\\site-packages\\sklearn\\cluster\\_kmeans.py:881: UserWarning: KMeans is known to have a memory leak on Windows with MKL, when there are less chunks than available threads. You can avoid it by setting the environment variable OMP_NUM_THREADS=14.\n",
      "  warnings.warn(\n",
      "c:\\programdata\\anaconda3\\envs\\knorpel_v2\\lib\\site-packages\\sklearn\\cluster\\_kmeans.py:881: UserWarning: KMeans is known to have a memory leak on Windows with MKL, when there are less chunks than available threads. You can avoid it by setting the environment variable OMP_NUM_THREADS=14.\n",
      "  warnings.warn(\n",
      "c:\\programdata\\anaconda3\\envs\\knorpel_v2\\lib\\site-packages\\sklearn\\cluster\\_kmeans.py:881: UserWarning: KMeans is known to have a memory leak on Windows with MKL, when there are less chunks than available threads. You can avoid it by setting the environment variable OMP_NUM_THREADS=13.\n",
      "  warnings.warn(\n",
      "c:\\programdata\\anaconda3\\envs\\knorpel_v2\\lib\\site-packages\\sklearn\\cluster\\_kmeans.py:881: UserWarning: KMeans is known to have a memory leak on Windows with MKL, when there are less chunks than available threads. You can avoid it by setting the environment variable OMP_NUM_THREADS=13.\n",
      "  warnings.warn(\n",
      "c:\\programdata\\anaconda3\\envs\\knorpel_v2\\lib\\site-packages\\sklearn\\cluster\\_kmeans.py:881: UserWarning: KMeans is known to have a memory leak on Windows with MKL, when there are less chunks than available threads. You can avoid it by setting the environment variable OMP_NUM_THREADS=14.\n",
      "  warnings.warn(\n",
      "c:\\programdata\\anaconda3\\envs\\knorpel_v2\\lib\\site-packages\\sklearn\\cluster\\_kmeans.py:881: UserWarning: KMeans is known to have a memory leak on Windows with MKL, when there are less chunks than available threads. You can avoid it by setting the environment variable OMP_NUM_THREADS=14.\n",
      "  warnings.warn(\n",
      "c:\\programdata\\anaconda3\\envs\\knorpel_v2\\lib\\site-packages\\sklearn\\cluster\\_kmeans.py:881: UserWarning: KMeans is known to have a memory leak on Windows with MKL, when there are less chunks than available threads. You can avoid it by setting the environment variable OMP_NUM_THREADS=15.\n",
      "  warnings.warn(\n",
      "c:\\programdata\\anaconda3\\envs\\knorpel_v2\\lib\\site-packages\\sklearn\\cluster\\_kmeans.py:881: UserWarning: KMeans is known to have a memory leak on Windows with MKL, when there are less chunks than available threads. You can avoid it by setting the environment variable OMP_NUM_THREADS=15.\n",
      "  warnings.warn(\n",
      "c:\\programdata\\anaconda3\\envs\\knorpel_v2\\lib\\site-packages\\sklearn\\cluster\\_kmeans.py:881: UserWarning: KMeans is known to have a memory leak on Windows with MKL, when there are less chunks than available threads. You can avoid it by setting the environment variable OMP_NUM_THREADS=15.\n",
      "  warnings.warn(\n",
      "c:\\programdata\\anaconda3\\envs\\knorpel_v2\\lib\\site-packages\\sklearn\\cluster\\_kmeans.py:881: UserWarning: KMeans is known to have a memory leak on Windows with MKL, when there are less chunks than available threads. You can avoid it by setting the environment variable OMP_NUM_THREADS=15.\n",
      "  warnings.warn(\n",
      "c:\\programdata\\anaconda3\\envs\\knorpel_v2\\lib\\site-packages\\sklearn\\cluster\\_kmeans.py:881: UserWarning: KMeans is known to have a memory leak on Windows with MKL, when there are less chunks than available threads. You can avoid it by setting the environment variable OMP_NUM_THREADS=14.\n",
      "  warnings.warn(\n"
     ]
    },
    {
     "name": "stderr",
     "output_type": "stream",
     "text": [
      "c:\\programdata\\anaconda3\\envs\\knorpel_v2\\lib\\site-packages\\sklearn\\cluster\\_kmeans.py:881: UserWarning: KMeans is known to have a memory leak on Windows with MKL, when there are less chunks than available threads. You can avoid it by setting the environment variable OMP_NUM_THREADS=14.\n",
      "  warnings.warn(\n",
      "c:\\programdata\\anaconda3\\envs\\knorpel_v2\\lib\\site-packages\\sklearn\\cluster\\_kmeans.py:881: UserWarning: KMeans is known to have a memory leak on Windows with MKL, when there are less chunks than available threads. You can avoid it by setting the environment variable OMP_NUM_THREADS=15.\n",
      "  warnings.warn(\n",
      "c:\\programdata\\anaconda3\\envs\\knorpel_v2\\lib\\site-packages\\sklearn\\cluster\\_kmeans.py:881: UserWarning: KMeans is known to have a memory leak on Windows with MKL, when there are less chunks than available threads. You can avoid it by setting the environment variable OMP_NUM_THREADS=15.\n",
      "  warnings.warn(\n",
      "c:\\programdata\\anaconda3\\envs\\knorpel_v2\\lib\\site-packages\\sklearn\\cluster\\_kmeans.py:881: UserWarning: KMeans is known to have a memory leak on Windows with MKL, when there are less chunks than available threads. You can avoid it by setting the environment variable OMP_NUM_THREADS=14.\n",
      "  warnings.warn(\n",
      "c:\\programdata\\anaconda3\\envs\\knorpel_v2\\lib\\site-packages\\sklearn\\cluster\\_kmeans.py:881: UserWarning: KMeans is known to have a memory leak on Windows with MKL, when there are less chunks than available threads. You can avoid it by setting the environment variable OMP_NUM_THREADS=15.\n",
      "  warnings.warn(\n",
      "c:\\programdata\\anaconda3\\envs\\knorpel_v2\\lib\\site-packages\\sklearn\\cluster\\_kmeans.py:881: UserWarning: KMeans is known to have a memory leak on Windows with MKL, when there are less chunks than available threads. You can avoid it by setting the environment variable OMP_NUM_THREADS=14.\n",
      "  warnings.warn(\n",
      "c:\\programdata\\anaconda3\\envs\\knorpel_v2\\lib\\site-packages\\sklearn\\cluster\\_kmeans.py:881: UserWarning: KMeans is known to have a memory leak on Windows with MKL, when there are less chunks than available threads. You can avoid it by setting the environment variable OMP_NUM_THREADS=15.\n",
      "  warnings.warn(\n",
      "c:\\programdata\\anaconda3\\envs\\knorpel_v2\\lib\\site-packages\\sklearn\\cluster\\_kmeans.py:881: UserWarning: KMeans is known to have a memory leak on Windows with MKL, when there are less chunks than available threads. You can avoid it by setting the environment variable OMP_NUM_THREADS=15.\n",
      "  warnings.warn(\n",
      "c:\\programdata\\anaconda3\\envs\\knorpel_v2\\lib\\site-packages\\sklearn\\cluster\\_kmeans.py:881: UserWarning: KMeans is known to have a memory leak on Windows with MKL, when there are less chunks than available threads. You can avoid it by setting the environment variable OMP_NUM_THREADS=15.\n",
      "  warnings.warn(\n",
      "c:\\programdata\\anaconda3\\envs\\knorpel_v2\\lib\\site-packages\\sklearn\\cluster\\_kmeans.py:881: UserWarning: KMeans is known to have a memory leak on Windows with MKL, when there are less chunks than available threads. You can avoid it by setting the environment variable OMP_NUM_THREADS=15.\n",
      "  warnings.warn(\n",
      "c:\\programdata\\anaconda3\\envs\\knorpel_v2\\lib\\site-packages\\sklearn\\cluster\\_kmeans.py:881: UserWarning: KMeans is known to have a memory leak on Windows with MKL, when there are less chunks than available threads. You can avoid it by setting the environment variable OMP_NUM_THREADS=15.\n",
      "  warnings.warn(\n",
      "c:\\programdata\\anaconda3\\envs\\knorpel_v2\\lib\\site-packages\\sklearn\\cluster\\_kmeans.py:881: UserWarning: KMeans is known to have a memory leak on Windows with MKL, when there are less chunks than available threads. You can avoid it by setting the environment variable OMP_NUM_THREADS=15.\n",
      "  warnings.warn(\n",
      "c:\\programdata\\anaconda3\\envs\\knorpel_v2\\lib\\site-packages\\sklearn\\cluster\\_kmeans.py:881: UserWarning: KMeans is known to have a memory leak on Windows with MKL, when there are less chunks than available threads. You can avoid it by setting the environment variable OMP_NUM_THREADS=15.\n",
      "  warnings.warn(\n",
      "c:\\programdata\\anaconda3\\envs\\knorpel_v2\\lib\\site-packages\\sklearn\\cluster\\_kmeans.py:881: UserWarning: KMeans is known to have a memory leak on Windows with MKL, when there are less chunks than available threads. You can avoid it by setting the environment variable OMP_NUM_THREADS=15.\n",
      "  warnings.warn(\n",
      "c:\\programdata\\anaconda3\\envs\\knorpel_v2\\lib\\site-packages\\sklearn\\cluster\\_kmeans.py:881: UserWarning: KMeans is known to have a memory leak on Windows with MKL, when there are less chunks than available threads. You can avoid it by setting the environment variable OMP_NUM_THREADS=15.\n",
      "  warnings.warn(\n",
      "c:\\programdata\\anaconda3\\envs\\knorpel_v2\\lib\\site-packages\\sklearn\\cluster\\_kmeans.py:881: UserWarning: KMeans is known to have a memory leak on Windows with MKL, when there are less chunks than available threads. You can avoid it by setting the environment variable OMP_NUM_THREADS=14.\n",
      "  warnings.warn(\n",
      "c:\\programdata\\anaconda3\\envs\\knorpel_v2\\lib\\site-packages\\sklearn\\cluster\\_kmeans.py:881: UserWarning: KMeans is known to have a memory leak on Windows with MKL, when there are less chunks than available threads. You can avoid it by setting the environment variable OMP_NUM_THREADS=14.\n",
      "  warnings.warn(\n",
      "c:\\programdata\\anaconda3\\envs\\knorpel_v2\\lib\\site-packages\\sklearn\\cluster\\_kmeans.py:881: UserWarning: KMeans is known to have a memory leak on Windows with MKL, when there are less chunks than available threads. You can avoid it by setting the environment variable OMP_NUM_THREADS=15.\n",
      "  warnings.warn(\n",
      "c:\\programdata\\anaconda3\\envs\\knorpel_v2\\lib\\site-packages\\sklearn\\cluster\\_kmeans.py:881: UserWarning: KMeans is known to have a memory leak on Windows with MKL, when there are less chunks than available threads. You can avoid it by setting the environment variable OMP_NUM_THREADS=15.\n",
      "  warnings.warn(\n",
      "c:\\programdata\\anaconda3\\envs\\knorpel_v2\\lib\\site-packages\\sklearn\\cluster\\_kmeans.py:881: UserWarning: KMeans is known to have a memory leak on Windows with MKL, when there are less chunks than available threads. You can avoid it by setting the environment variable OMP_NUM_THREADS=14.\n",
      "  warnings.warn(\n",
      "c:\\programdata\\anaconda3\\envs\\knorpel_v2\\lib\\site-packages\\sklearn\\cluster\\_kmeans.py:881: UserWarning: KMeans is known to have a memory leak on Windows with MKL, when there are less chunks than available threads. You can avoid it by setting the environment variable OMP_NUM_THREADS=14.\n",
      "  warnings.warn(\n",
      "c:\\programdata\\anaconda3\\envs\\knorpel_v2\\lib\\site-packages\\sklearn\\cluster\\_kmeans.py:881: UserWarning: KMeans is known to have a memory leak on Windows with MKL, when there are less chunks than available threads. You can avoid it by setting the environment variable OMP_NUM_THREADS=14.\n",
      "  warnings.warn(\n",
      "c:\\programdata\\anaconda3\\envs\\knorpel_v2\\lib\\site-packages\\sklearn\\cluster\\_kmeans.py:881: UserWarning: KMeans is known to have a memory leak on Windows with MKL, when there are less chunks than available threads. You can avoid it by setting the environment variable OMP_NUM_THREADS=14.\n",
      "  warnings.warn(\n",
      "c:\\programdata\\anaconda3\\envs\\knorpel_v2\\lib\\site-packages\\sklearn\\cluster\\_kmeans.py:881: UserWarning: KMeans is known to have a memory leak on Windows with MKL, when there are less chunks than available threads. You can avoid it by setting the environment variable OMP_NUM_THREADS=15.\n",
      "  warnings.warn(\n",
      "c:\\programdata\\anaconda3\\envs\\knorpel_v2\\lib\\site-packages\\sklearn\\cluster\\_kmeans.py:881: UserWarning: KMeans is known to have a memory leak on Windows with MKL, when there are less chunks than available threads. You can avoid it by setting the environment variable OMP_NUM_THREADS=15.\n",
      "  warnings.warn(\n",
      "c:\\programdata\\anaconda3\\envs\\knorpel_v2\\lib\\site-packages\\sklearn\\cluster\\_kmeans.py:881: UserWarning: KMeans is known to have a memory leak on Windows with MKL, when there are less chunks than available threads. You can avoid it by setting the environment variable OMP_NUM_THREADS=15.\n",
      "  warnings.warn(\n",
      "c:\\programdata\\anaconda3\\envs\\knorpel_v2\\lib\\site-packages\\sklearn\\cluster\\_kmeans.py:881: UserWarning: KMeans is known to have a memory leak on Windows with MKL, when there are less chunks than available threads. You can avoid it by setting the environment variable OMP_NUM_THREADS=15.\n",
      "  warnings.warn(\n"
     ]
    },
    {
     "name": "stderr",
     "output_type": "stream",
     "text": [
      "c:\\programdata\\anaconda3\\envs\\knorpel_v2\\lib\\site-packages\\sklearn\\cluster\\_kmeans.py:881: UserWarning: KMeans is known to have a memory leak on Windows with MKL, when there are less chunks than available threads. You can avoid it by setting the environment variable OMP_NUM_THREADS=14.\n",
      "  warnings.warn(\n",
      "c:\\programdata\\anaconda3\\envs\\knorpel_v2\\lib\\site-packages\\sklearn\\cluster\\_kmeans.py:881: UserWarning: KMeans is known to have a memory leak on Windows with MKL, when there are less chunks than available threads. You can avoid it by setting the environment variable OMP_NUM_THREADS=14.\n",
      "  warnings.warn(\n",
      "c:\\programdata\\anaconda3\\envs\\knorpel_v2\\lib\\site-packages\\sklearn\\cluster\\_kmeans.py:881: UserWarning: KMeans is known to have a memory leak on Windows with MKL, when there are less chunks than available threads. You can avoid it by setting the environment variable OMP_NUM_THREADS=15.\n",
      "  warnings.warn(\n",
      "c:\\programdata\\anaconda3\\envs\\knorpel_v2\\lib\\site-packages\\sklearn\\cluster\\_kmeans.py:881: UserWarning: KMeans is known to have a memory leak on Windows with MKL, when there are less chunks than available threads. You can avoid it by setting the environment variable OMP_NUM_THREADS=15.\n",
      "  warnings.warn(\n",
      "c:\\programdata\\anaconda3\\envs\\knorpel_v2\\lib\\site-packages\\sklearn\\cluster\\_kmeans.py:881: UserWarning: KMeans is known to have a memory leak on Windows with MKL, when there are less chunks than available threads. You can avoid it by setting the environment variable OMP_NUM_THREADS=15.\n",
      "  warnings.warn(\n",
      "c:\\programdata\\anaconda3\\envs\\knorpel_v2\\lib\\site-packages\\sklearn\\cluster\\_kmeans.py:881: UserWarning: KMeans is known to have a memory leak on Windows with MKL, when there are less chunks than available threads. You can avoid it by setting the environment variable OMP_NUM_THREADS=15.\n",
      "  warnings.warn(\n",
      "c:\\programdata\\anaconda3\\envs\\knorpel_v2\\lib\\site-packages\\sklearn\\cluster\\_kmeans.py:881: UserWarning: KMeans is known to have a memory leak on Windows with MKL, when there are less chunks than available threads. You can avoid it by setting the environment variable OMP_NUM_THREADS=15.\n",
      "  warnings.warn(\n",
      "c:\\programdata\\anaconda3\\envs\\knorpel_v2\\lib\\site-packages\\sklearn\\cluster\\_kmeans.py:881: UserWarning: KMeans is known to have a memory leak on Windows with MKL, when there are less chunks than available threads. You can avoid it by setting the environment variable OMP_NUM_THREADS=15.\n",
      "  warnings.warn(\n",
      "c:\\programdata\\anaconda3\\envs\\knorpel_v2\\lib\\site-packages\\sklearn\\cluster\\_kmeans.py:881: UserWarning: KMeans is known to have a memory leak on Windows with MKL, when there are less chunks than available threads. You can avoid it by setting the environment variable OMP_NUM_THREADS=15.\n",
      "  warnings.warn(\n",
      "c:\\programdata\\anaconda3\\envs\\knorpel_v2\\lib\\site-packages\\sklearn\\cluster\\_kmeans.py:881: UserWarning: KMeans is known to have a memory leak on Windows with MKL, when there are less chunks than available threads. You can avoid it by setting the environment variable OMP_NUM_THREADS=15.\n",
      "  warnings.warn(\n",
      "c:\\programdata\\anaconda3\\envs\\knorpel_v2\\lib\\site-packages\\sklearn\\cluster\\_kmeans.py:881: UserWarning: KMeans is known to have a memory leak on Windows with MKL, when there are less chunks than available threads. You can avoid it by setting the environment variable OMP_NUM_THREADS=15.\n",
      "  warnings.warn(\n",
      "c:\\programdata\\anaconda3\\envs\\knorpel_v2\\lib\\site-packages\\sklearn\\cluster\\_kmeans.py:881: UserWarning: KMeans is known to have a memory leak on Windows with MKL, when there are less chunks than available threads. You can avoid it by setting the environment variable OMP_NUM_THREADS=15.\n",
      "  warnings.warn(\n",
      "c:\\programdata\\anaconda3\\envs\\knorpel_v2\\lib\\site-packages\\sklearn\\cluster\\_kmeans.py:881: UserWarning: KMeans is known to have a memory leak on Windows with MKL, when there are less chunks than available threads. You can avoid it by setting the environment variable OMP_NUM_THREADS=12.\n",
      "  warnings.warn(\n",
      "c:\\programdata\\anaconda3\\envs\\knorpel_v2\\lib\\site-packages\\sklearn\\cluster\\_kmeans.py:881: UserWarning: KMeans is known to have a memory leak on Windows with MKL, when there are less chunks than available threads. You can avoid it by setting the environment variable OMP_NUM_THREADS=12.\n",
      "  warnings.warn(\n",
      "c:\\programdata\\anaconda3\\envs\\knorpel_v2\\lib\\site-packages\\sklearn\\cluster\\_kmeans.py:881: UserWarning: KMeans is known to have a memory leak on Windows with MKL, when there are less chunks than available threads. You can avoid it by setting the environment variable OMP_NUM_THREADS=15.\n",
      "  warnings.warn(\n",
      "c:\\programdata\\anaconda3\\envs\\knorpel_v2\\lib\\site-packages\\sklearn\\cluster\\_kmeans.py:881: UserWarning: KMeans is known to have a memory leak on Windows with MKL, when there are less chunks than available threads. You can avoid it by setting the environment variable OMP_NUM_THREADS=15.\n",
      "  warnings.warn(\n",
      "c:\\programdata\\anaconda3\\envs\\knorpel_v2\\lib\\site-packages\\sklearn\\cluster\\_kmeans.py:881: UserWarning: KMeans is known to have a memory leak on Windows with MKL, when there are less chunks than available threads. You can avoid it by setting the environment variable OMP_NUM_THREADS=15.\n",
      "  warnings.warn(\n",
      "c:\\programdata\\anaconda3\\envs\\knorpel_v2\\lib\\site-packages\\sklearn\\cluster\\_kmeans.py:881: UserWarning: KMeans is known to have a memory leak on Windows with MKL, when there are less chunks than available threads. You can avoid it by setting the environment variable OMP_NUM_THREADS=15.\n",
      "  warnings.warn(\n",
      "c:\\programdata\\anaconda3\\envs\\knorpel_v2\\lib\\site-packages\\sklearn\\cluster\\_kmeans.py:881: UserWarning: KMeans is known to have a memory leak on Windows with MKL, when there are less chunks than available threads. You can avoid it by setting the environment variable OMP_NUM_THREADS=15.\n",
      "  warnings.warn(\n",
      "c:\\programdata\\anaconda3\\envs\\knorpel_v2\\lib\\site-packages\\sklearn\\cluster\\_kmeans.py:881: UserWarning: KMeans is known to have a memory leak on Windows with MKL, when there are less chunks than available threads. You can avoid it by setting the environment variable OMP_NUM_THREADS=15.\n",
      "  warnings.warn(\n",
      "c:\\programdata\\anaconda3\\envs\\knorpel_v2\\lib\\site-packages\\sklearn\\cluster\\_kmeans.py:881: UserWarning: KMeans is known to have a memory leak on Windows with MKL, when there are less chunks than available threads. You can avoid it by setting the environment variable OMP_NUM_THREADS=15.\n",
      "  warnings.warn(\n",
      "c:\\programdata\\anaconda3\\envs\\knorpel_v2\\lib\\site-packages\\sklearn\\cluster\\_kmeans.py:881: UserWarning: KMeans is known to have a memory leak on Windows with MKL, when there are less chunks than available threads. You can avoid it by setting the environment variable OMP_NUM_THREADS=15.\n",
      "  warnings.warn(\n",
      "c:\\programdata\\anaconda3\\envs\\knorpel_v2\\lib\\site-packages\\sklearn\\cluster\\_kmeans.py:881: UserWarning: KMeans is known to have a memory leak on Windows with MKL, when there are less chunks than available threads. You can avoid it by setting the environment variable OMP_NUM_THREADS=15.\n",
      "  warnings.warn(\n",
      "c:\\programdata\\anaconda3\\envs\\knorpel_v2\\lib\\site-packages\\sklearn\\cluster\\_kmeans.py:881: UserWarning: KMeans is known to have a memory leak on Windows with MKL, when there are less chunks than available threads. You can avoid it by setting the environment variable OMP_NUM_THREADS=14.\n",
      "  warnings.warn(\n",
      "c:\\programdata\\anaconda3\\envs\\knorpel_v2\\lib\\site-packages\\sklearn\\cluster\\_kmeans.py:881: UserWarning: KMeans is known to have a memory leak on Windows with MKL, when there are less chunks than available threads. You can avoid it by setting the environment variable OMP_NUM_THREADS=15.\n",
      "  warnings.warn(\n",
      "c:\\programdata\\anaconda3\\envs\\knorpel_v2\\lib\\site-packages\\sklearn\\cluster\\_kmeans.py:881: UserWarning: KMeans is known to have a memory leak on Windows with MKL, when there are less chunks than available threads. You can avoid it by setting the environment variable OMP_NUM_THREADS=14.\n",
      "  warnings.warn(\n",
      "c:\\programdata\\anaconda3\\envs\\knorpel_v2\\lib\\site-packages\\sklearn\\cluster\\_kmeans.py:881: UserWarning: KMeans is known to have a memory leak on Windows with MKL, when there are less chunks than available threads. You can avoid it by setting the environment variable OMP_NUM_THREADS=14.\n",
      "  warnings.warn(\n"
     ]
    },
    {
     "name": "stderr",
     "output_type": "stream",
     "text": [
      "c:\\programdata\\anaconda3\\envs\\knorpel_v2\\lib\\site-packages\\sklearn\\cluster\\_kmeans.py:881: UserWarning: KMeans is known to have a memory leak on Windows with MKL, when there are less chunks than available threads. You can avoid it by setting the environment variable OMP_NUM_THREADS=14.\n",
      "  warnings.warn(\n",
      "c:\\programdata\\anaconda3\\envs\\knorpel_v2\\lib\\site-packages\\sklearn\\cluster\\_kmeans.py:881: UserWarning: KMeans is known to have a memory leak on Windows with MKL, when there are less chunks than available threads. You can avoid it by setting the environment variable OMP_NUM_THREADS=14.\n",
      "  warnings.warn(\n",
      "c:\\programdata\\anaconda3\\envs\\knorpel_v2\\lib\\site-packages\\sklearn\\cluster\\_kmeans.py:881: UserWarning: KMeans is known to have a memory leak on Windows with MKL, when there are less chunks than available threads. You can avoid it by setting the environment variable OMP_NUM_THREADS=13.\n",
      "  warnings.warn(\n",
      "c:\\programdata\\anaconda3\\envs\\knorpel_v2\\lib\\site-packages\\sklearn\\cluster\\_kmeans.py:881: UserWarning: KMeans is known to have a memory leak on Windows with MKL, when there are less chunks than available threads. You can avoid it by setting the environment variable OMP_NUM_THREADS=14.\n",
      "  warnings.warn(\n",
      "c:\\programdata\\anaconda3\\envs\\knorpel_v2\\lib\\site-packages\\sklearn\\cluster\\_kmeans.py:881: UserWarning: KMeans is known to have a memory leak on Windows with MKL, when there are less chunks than available threads. You can avoid it by setting the environment variable OMP_NUM_THREADS=13.\n",
      "  warnings.warn(\n",
      "c:\\programdata\\anaconda3\\envs\\knorpel_v2\\lib\\site-packages\\sklearn\\cluster\\_kmeans.py:881: UserWarning: KMeans is known to have a memory leak on Windows with MKL, when there are less chunks than available threads. You can avoid it by setting the environment variable OMP_NUM_THREADS=15.\n",
      "  warnings.warn(\n",
      "c:\\programdata\\anaconda3\\envs\\knorpel_v2\\lib\\site-packages\\sklearn\\cluster\\_kmeans.py:881: UserWarning: KMeans is known to have a memory leak on Windows with MKL, when there are less chunks than available threads. You can avoid it by setting the environment variable OMP_NUM_THREADS=14.\n",
      "  warnings.warn(\n",
      "c:\\programdata\\anaconda3\\envs\\knorpel_v2\\lib\\site-packages\\sklearn\\cluster\\_kmeans.py:881: UserWarning: KMeans is known to have a memory leak on Windows with MKL, when there are less chunks than available threads. You can avoid it by setting the environment variable OMP_NUM_THREADS=15.\n",
      "  warnings.warn(\n",
      "c:\\programdata\\anaconda3\\envs\\knorpel_v2\\lib\\site-packages\\sklearn\\cluster\\_kmeans.py:881: UserWarning: KMeans is known to have a memory leak on Windows with MKL, when there are less chunks than available threads. You can avoid it by setting the environment variable OMP_NUM_THREADS=14.\n",
      "  warnings.warn(\n",
      "c:\\programdata\\anaconda3\\envs\\knorpel_v2\\lib\\site-packages\\sklearn\\cluster\\_kmeans.py:881: UserWarning: KMeans is known to have a memory leak on Windows with MKL, when there are less chunks than available threads. You can avoid it by setting the environment variable OMP_NUM_THREADS=15.\n",
      "  warnings.warn(\n",
      "c:\\programdata\\anaconda3\\envs\\knorpel_v2\\lib\\site-packages\\sklearn\\cluster\\_kmeans.py:881: UserWarning: KMeans is known to have a memory leak on Windows with MKL, when there are less chunks than available threads. You can avoid it by setting the environment variable OMP_NUM_THREADS=15.\n",
      "  warnings.warn(\n",
      "c:\\programdata\\anaconda3\\envs\\knorpel_v2\\lib\\site-packages\\sklearn\\cluster\\_kmeans.py:881: UserWarning: KMeans is known to have a memory leak on Windows with MKL, when there are less chunks than available threads. You can avoid it by setting the environment variable OMP_NUM_THREADS=14.\n",
      "  warnings.warn(\n",
      "c:\\programdata\\anaconda3\\envs\\knorpel_v2\\lib\\site-packages\\sklearn\\cluster\\_kmeans.py:881: UserWarning: KMeans is known to have a memory leak on Windows with MKL, when there are less chunks than available threads. You can avoid it by setting the environment variable OMP_NUM_THREADS=14.\n",
      "  warnings.warn(\n",
      "c:\\programdata\\anaconda3\\envs\\knorpel_v2\\lib\\site-packages\\sklearn\\cluster\\_kmeans.py:881: UserWarning: KMeans is known to have a memory leak on Windows with MKL, when there are less chunks than available threads. You can avoid it by setting the environment variable OMP_NUM_THREADS=14.\n",
      "  warnings.warn(\n",
      "c:\\programdata\\anaconda3\\envs\\knorpel_v2\\lib\\site-packages\\sklearn\\cluster\\_kmeans.py:881: UserWarning: KMeans is known to have a memory leak on Windows with MKL, when there are less chunks than available threads. You can avoid it by setting the environment variable OMP_NUM_THREADS=14.\n",
      "  warnings.warn(\n",
      "c:\\programdata\\anaconda3\\envs\\knorpel_v2\\lib\\site-packages\\sklearn\\cluster\\_kmeans.py:881: UserWarning: KMeans is known to have a memory leak on Windows with MKL, when there are less chunks than available threads. You can avoid it by setting the environment variable OMP_NUM_THREADS=13.\n",
      "  warnings.warn(\n",
      "c:\\programdata\\anaconda3\\envs\\knorpel_v2\\lib\\site-packages\\sklearn\\cluster\\_kmeans.py:881: UserWarning: KMeans is known to have a memory leak on Windows with MKL, when there are less chunks than available threads. You can avoid it by setting the environment variable OMP_NUM_THREADS=13.\n",
      "  warnings.warn(\n",
      "c:\\programdata\\anaconda3\\envs\\knorpel_v2\\lib\\site-packages\\sklearn\\cluster\\_kmeans.py:881: UserWarning: KMeans is known to have a memory leak on Windows with MKL, when there are less chunks than available threads. You can avoid it by setting the environment variable OMP_NUM_THREADS=14.\n",
      "  warnings.warn(\n",
      "c:\\programdata\\anaconda3\\envs\\knorpel_v2\\lib\\site-packages\\sklearn\\cluster\\_kmeans.py:881: UserWarning: KMeans is known to have a memory leak on Windows with MKL, when there are less chunks than available threads. You can avoid it by setting the environment variable OMP_NUM_THREADS=14.\n",
      "  warnings.warn(\n",
      "c:\\programdata\\anaconda3\\envs\\knorpel_v2\\lib\\site-packages\\sklearn\\cluster\\_kmeans.py:881: UserWarning: KMeans is known to have a memory leak on Windows with MKL, when there are less chunks than available threads. You can avoid it by setting the environment variable OMP_NUM_THREADS=14.\n",
      "  warnings.warn(\n",
      "c:\\programdata\\anaconda3\\envs\\knorpel_v2\\lib\\site-packages\\sklearn\\cluster\\_kmeans.py:881: UserWarning: KMeans is known to have a memory leak on Windows with MKL, when there are less chunks than available threads. You can avoid it by setting the environment variable OMP_NUM_THREADS=14.\n",
      "  warnings.warn(\n",
      "c:\\programdata\\anaconda3\\envs\\knorpel_v2\\lib\\site-packages\\sklearn\\cluster\\_kmeans.py:881: UserWarning: KMeans is known to have a memory leak on Windows with MKL, when there are less chunks than available threads. You can avoid it by setting the environment variable OMP_NUM_THREADS=13.\n",
      "  warnings.warn(\n",
      "c:\\programdata\\anaconda3\\envs\\knorpel_v2\\lib\\site-packages\\sklearn\\cluster\\_kmeans.py:881: UserWarning: KMeans is known to have a memory leak on Windows with MKL, when there are less chunks than available threads. You can avoid it by setting the environment variable OMP_NUM_THREADS=12.\n",
      "  warnings.warn(\n",
      "c:\\programdata\\anaconda3\\envs\\knorpel_v2\\lib\\site-packages\\sklearn\\cluster\\_kmeans.py:881: UserWarning: KMeans is known to have a memory leak on Windows with MKL, when there are less chunks than available threads. You can avoid it by setting the environment variable OMP_NUM_THREADS=13.\n",
      "  warnings.warn(\n",
      "c:\\programdata\\anaconda3\\envs\\knorpel_v2\\lib\\site-packages\\sklearn\\cluster\\_kmeans.py:881: UserWarning: KMeans is known to have a memory leak on Windows with MKL, when there are less chunks than available threads. You can avoid it by setting the environment variable OMP_NUM_THREADS=12.\n",
      "  warnings.warn(\n",
      "c:\\programdata\\anaconda3\\envs\\knorpel_v2\\lib\\site-packages\\sklearn\\cluster\\_kmeans.py:881: UserWarning: KMeans is known to have a memory leak on Windows with MKL, when there are less chunks than available threads. You can avoid it by setting the environment variable OMP_NUM_THREADS=15.\n",
      "  warnings.warn(\n",
      "c:\\programdata\\anaconda3\\envs\\knorpel_v2\\lib\\site-packages\\sklearn\\cluster\\_kmeans.py:881: UserWarning: KMeans is known to have a memory leak on Windows with MKL, when there are less chunks than available threads. You can avoid it by setting the environment variable OMP_NUM_THREADS=15.\n",
      "  warnings.warn(\n"
     ]
    },
    {
     "name": "stderr",
     "output_type": "stream",
     "text": [
      "c:\\programdata\\anaconda3\\envs\\knorpel_v2\\lib\\site-packages\\sklearn\\cluster\\_kmeans.py:881: UserWarning: KMeans is known to have a memory leak on Windows with MKL, when there are less chunks than available threads. You can avoid it by setting the environment variable OMP_NUM_THREADS=15.\n",
      "  warnings.warn(\n",
      "c:\\programdata\\anaconda3\\envs\\knorpel_v2\\lib\\site-packages\\sklearn\\cluster\\_kmeans.py:881: UserWarning: KMeans is known to have a memory leak on Windows with MKL, when there are less chunks than available threads. You can avoid it by setting the environment variable OMP_NUM_THREADS=15.\n",
      "  warnings.warn(\n",
      "c:\\programdata\\anaconda3\\envs\\knorpel_v2\\lib\\site-packages\\sklearn\\cluster\\_kmeans.py:881: UserWarning: KMeans is known to have a memory leak on Windows with MKL, when there are less chunks than available threads. You can avoid it by setting the environment variable OMP_NUM_THREADS=13.\n",
      "  warnings.warn(\n",
      "c:\\programdata\\anaconda3\\envs\\knorpel_v2\\lib\\site-packages\\sklearn\\cluster\\_kmeans.py:881: UserWarning: KMeans is known to have a memory leak on Windows with MKL, when there are less chunks than available threads. You can avoid it by setting the environment variable OMP_NUM_THREADS=13.\n",
      "  warnings.warn(\n",
      "c:\\programdata\\anaconda3\\envs\\knorpel_v2\\lib\\site-packages\\sklearn\\cluster\\_kmeans.py:881: UserWarning: KMeans is known to have a memory leak on Windows with MKL, when there are less chunks than available threads. You can avoid it by setting the environment variable OMP_NUM_THREADS=15.\n",
      "  warnings.warn(\n",
      "c:\\programdata\\anaconda3\\envs\\knorpel_v2\\lib\\site-packages\\sklearn\\cluster\\_kmeans.py:881: UserWarning: KMeans is known to have a memory leak on Windows with MKL, when there are less chunks than available threads. You can avoid it by setting the environment variable OMP_NUM_THREADS=15.\n",
      "  warnings.warn(\n",
      "c:\\programdata\\anaconda3\\envs\\knorpel_v2\\lib\\site-packages\\sklearn\\cluster\\_kmeans.py:881: UserWarning: KMeans is known to have a memory leak on Windows with MKL, when there are less chunks than available threads. You can avoid it by setting the environment variable OMP_NUM_THREADS=15.\n",
      "  warnings.warn(\n",
      "c:\\programdata\\anaconda3\\envs\\knorpel_v2\\lib\\site-packages\\sklearn\\cluster\\_kmeans.py:881: UserWarning: KMeans is known to have a memory leak on Windows with MKL, when there are less chunks than available threads. You can avoid it by setting the environment variable OMP_NUM_THREADS=15.\n",
      "  warnings.warn(\n",
      "c:\\programdata\\anaconda3\\envs\\knorpel_v2\\lib\\site-packages\\sklearn\\cluster\\_kmeans.py:881: UserWarning: KMeans is known to have a memory leak on Windows with MKL, when there are less chunks than available threads. You can avoid it by setting the environment variable OMP_NUM_THREADS=15.\n",
      "  warnings.warn(\n",
      "c:\\programdata\\anaconda3\\envs\\knorpel_v2\\lib\\site-packages\\sklearn\\cluster\\_kmeans.py:881: UserWarning: KMeans is known to have a memory leak on Windows with MKL, when there are less chunks than available threads. You can avoid it by setting the environment variable OMP_NUM_THREADS=15.\n",
      "  warnings.warn(\n",
      "c:\\programdata\\anaconda3\\envs\\knorpel_v2\\lib\\site-packages\\sklearn\\cluster\\_kmeans.py:881: UserWarning: KMeans is known to have a memory leak on Windows with MKL, when there are less chunks than available threads. You can avoid it by setting the environment variable OMP_NUM_THREADS=15.\n",
      "  warnings.warn(\n",
      "c:\\programdata\\anaconda3\\envs\\knorpel_v2\\lib\\site-packages\\sklearn\\cluster\\_kmeans.py:881: UserWarning: KMeans is known to have a memory leak on Windows with MKL, when there are less chunks than available threads. You can avoid it by setting the environment variable OMP_NUM_THREADS=12.\n",
      "  warnings.warn(\n",
      "c:\\programdata\\anaconda3\\envs\\knorpel_v2\\lib\\site-packages\\sklearn\\cluster\\_kmeans.py:881: UserWarning: KMeans is known to have a memory leak on Windows with MKL, when there are less chunks than available threads. You can avoid it by setting the environment variable OMP_NUM_THREADS=15.\n",
      "  warnings.warn(\n",
      "c:\\programdata\\anaconda3\\envs\\knorpel_v2\\lib\\site-packages\\sklearn\\cluster\\_kmeans.py:881: UserWarning: KMeans is known to have a memory leak on Windows with MKL, when there are less chunks than available threads. You can avoid it by setting the environment variable OMP_NUM_THREADS=12.\n",
      "  warnings.warn(\n",
      "c:\\programdata\\anaconda3\\envs\\knorpel_v2\\lib\\site-packages\\sklearn\\cluster\\_kmeans.py:881: UserWarning: KMeans is known to have a memory leak on Windows with MKL, when there are less chunks than available threads. You can avoid it by setting the environment variable OMP_NUM_THREADS=15.\n",
      "  warnings.warn(\n",
      "c:\\programdata\\anaconda3\\envs\\knorpel_v2\\lib\\site-packages\\sklearn\\cluster\\_kmeans.py:881: UserWarning: KMeans is known to have a memory leak on Windows with MKL, when there are less chunks than available threads. You can avoid it by setting the environment variable OMP_NUM_THREADS=13.\n",
      "  warnings.warn(\n",
      "c:\\programdata\\anaconda3\\envs\\knorpel_v2\\lib\\site-packages\\sklearn\\cluster\\_kmeans.py:881: UserWarning: KMeans is known to have a memory leak on Windows with MKL, when there are less chunks than available threads. You can avoid it by setting the environment variable OMP_NUM_THREADS=15.\n",
      "  warnings.warn(\n",
      "c:\\programdata\\anaconda3\\envs\\knorpel_v2\\lib\\site-packages\\sklearn\\cluster\\_kmeans.py:881: UserWarning: KMeans is known to have a memory leak on Windows with MKL, when there are less chunks than available threads. You can avoid it by setting the environment variable OMP_NUM_THREADS=13.\n",
      "  warnings.warn(\n",
      "c:\\programdata\\anaconda3\\envs\\knorpel_v2\\lib\\site-packages\\sklearn\\cluster\\_kmeans.py:881: UserWarning: KMeans is known to have a memory leak on Windows with MKL, when there are less chunks than available threads. You can avoid it by setting the environment variable OMP_NUM_THREADS=14.\n",
      "  warnings.warn(\n",
      "c:\\programdata\\anaconda3\\envs\\knorpel_v2\\lib\\site-packages\\sklearn\\cluster\\_kmeans.py:881: UserWarning: KMeans is known to have a memory leak on Windows with MKL, when there are less chunks than available threads. You can avoid it by setting the environment variable OMP_NUM_THREADS=14.\n",
      "  warnings.warn(\n",
      "c:\\programdata\\anaconda3\\envs\\knorpel_v2\\lib\\site-packages\\sklearn\\cluster\\_kmeans.py:881: UserWarning: KMeans is known to have a memory leak on Windows with MKL, when there are less chunks than available threads. You can avoid it by setting the environment variable OMP_NUM_THREADS=15.\n",
      "  warnings.warn(\n",
      "c:\\programdata\\anaconda3\\envs\\knorpel_v2\\lib\\site-packages\\sklearn\\cluster\\_kmeans.py:881: UserWarning: KMeans is known to have a memory leak on Windows with MKL, when there are less chunks than available threads. You can avoid it by setting the environment variable OMP_NUM_THREADS=15.\n",
      "  warnings.warn(\n",
      "c:\\programdata\\anaconda3\\envs\\knorpel_v2\\lib\\site-packages\\sklearn\\cluster\\_kmeans.py:881: UserWarning: KMeans is known to have a memory leak on Windows with MKL, when there are less chunks than available threads. You can avoid it by setting the environment variable OMP_NUM_THREADS=15.\n",
      "  warnings.warn(\n",
      "c:\\programdata\\anaconda3\\envs\\knorpel_v2\\lib\\site-packages\\sklearn\\cluster\\_kmeans.py:881: UserWarning: KMeans is known to have a memory leak on Windows with MKL, when there are less chunks than available threads. You can avoid it by setting the environment variable OMP_NUM_THREADS=15.\n",
      "  warnings.warn(\n",
      "c:\\programdata\\anaconda3\\envs\\knorpel_v2\\lib\\site-packages\\sklearn\\cluster\\_kmeans.py:881: UserWarning: KMeans is known to have a memory leak on Windows with MKL, when there are less chunks than available threads. You can avoid it by setting the environment variable OMP_NUM_THREADS=15.\n",
      "  warnings.warn(\n",
      "c:\\programdata\\anaconda3\\envs\\knorpel_v2\\lib\\site-packages\\sklearn\\cluster\\_kmeans.py:881: UserWarning: KMeans is known to have a memory leak on Windows with MKL, when there are less chunks than available threads. You can avoid it by setting the environment variable OMP_NUM_THREADS=15.\n",
      "  warnings.warn(\n",
      "c:\\programdata\\anaconda3\\envs\\knorpel_v2\\lib\\site-packages\\sklearn\\cluster\\_kmeans.py:881: UserWarning: KMeans is known to have a memory leak on Windows with MKL, when there are less chunks than available threads. You can avoid it by setting the environment variable OMP_NUM_THREADS=15.\n",
      "  warnings.warn(\n"
     ]
    },
    {
     "name": "stderr",
     "output_type": "stream",
     "text": [
      "c:\\programdata\\anaconda3\\envs\\knorpel_v2\\lib\\site-packages\\sklearn\\cluster\\_kmeans.py:881: UserWarning: KMeans is known to have a memory leak on Windows with MKL, when there are less chunks than available threads. You can avoid it by setting the environment variable OMP_NUM_THREADS=15.\n",
      "  warnings.warn(\n",
      "c:\\programdata\\anaconda3\\envs\\knorpel_v2\\lib\\site-packages\\sklearn\\cluster\\_kmeans.py:881: UserWarning: KMeans is known to have a memory leak on Windows with MKL, when there are less chunks than available threads. You can avoid it by setting the environment variable OMP_NUM_THREADS=13.\n",
      "  warnings.warn(\n",
      "c:\\programdata\\anaconda3\\envs\\knorpel_v2\\lib\\site-packages\\sklearn\\cluster\\_kmeans.py:881: UserWarning: KMeans is known to have a memory leak on Windows with MKL, when there are less chunks than available threads. You can avoid it by setting the environment variable OMP_NUM_THREADS=14.\n",
      "  warnings.warn(\n",
      "c:\\programdata\\anaconda3\\envs\\knorpel_v2\\lib\\site-packages\\sklearn\\cluster\\_kmeans.py:881: UserWarning: KMeans is known to have a memory leak on Windows with MKL, when there are less chunks than available threads. You can avoid it by setting the environment variable OMP_NUM_THREADS=13.\n",
      "  warnings.warn(\n",
      "c:\\programdata\\anaconda3\\envs\\knorpel_v2\\lib\\site-packages\\sklearn\\cluster\\_kmeans.py:881: UserWarning: KMeans is known to have a memory leak on Windows with MKL, when there are less chunks than available threads. You can avoid it by setting the environment variable OMP_NUM_THREADS=14.\n",
      "  warnings.warn(\n",
      "c:\\programdata\\anaconda3\\envs\\knorpel_v2\\lib\\site-packages\\sklearn\\cluster\\_kmeans.py:881: UserWarning: KMeans is known to have a memory leak on Windows with MKL, when there are less chunks than available threads. You can avoid it by setting the environment variable OMP_NUM_THREADS=15.\n",
      "  warnings.warn(\n",
      "c:\\programdata\\anaconda3\\envs\\knorpel_v2\\lib\\site-packages\\sklearn\\cluster\\_kmeans.py:881: UserWarning: KMeans is known to have a memory leak on Windows with MKL, when there are less chunks than available threads. You can avoid it by setting the environment variable OMP_NUM_THREADS=15.\n",
      "  warnings.warn(\n",
      "c:\\programdata\\anaconda3\\envs\\knorpel_v2\\lib\\site-packages\\sklearn\\cluster\\_kmeans.py:881: UserWarning: KMeans is known to have a memory leak on Windows with MKL, when there are less chunks than available threads. You can avoid it by setting the environment variable OMP_NUM_THREADS=13.\n",
      "  warnings.warn(\n",
      "c:\\programdata\\anaconda3\\envs\\knorpel_v2\\lib\\site-packages\\sklearn\\cluster\\_kmeans.py:881: UserWarning: KMeans is known to have a memory leak on Windows with MKL, when there are less chunks than available threads. You can avoid it by setting the environment variable OMP_NUM_THREADS=12.\n",
      "  warnings.warn(\n",
      "c:\\programdata\\anaconda3\\envs\\knorpel_v2\\lib\\site-packages\\sklearn\\cluster\\_kmeans.py:881: UserWarning: KMeans is known to have a memory leak on Windows with MKL, when there are less chunks than available threads. You can avoid it by setting the environment variable OMP_NUM_THREADS=13.\n",
      "  warnings.warn(\n",
      "c:\\programdata\\anaconda3\\envs\\knorpel_v2\\lib\\site-packages\\sklearn\\cluster\\_kmeans.py:881: UserWarning: KMeans is known to have a memory leak on Windows with MKL, when there are less chunks than available threads. You can avoid it by setting the environment variable OMP_NUM_THREADS=12.\n",
      "  warnings.warn(\n",
      "c:\\programdata\\anaconda3\\envs\\knorpel_v2\\lib\\site-packages\\sklearn\\cluster\\_kmeans.py:881: UserWarning: KMeans is known to have a memory leak on Windows with MKL, when there are less chunks than available threads. You can avoid it by setting the environment variable OMP_NUM_THREADS=15.\n",
      "  warnings.warn(\n",
      "c:\\programdata\\anaconda3\\envs\\knorpel_v2\\lib\\site-packages\\sklearn\\cluster\\_kmeans.py:881: UserWarning: KMeans is known to have a memory leak on Windows with MKL, when there are less chunks than available threads. You can avoid it by setting the environment variable OMP_NUM_THREADS=15.\n",
      "  warnings.warn(\n",
      "c:\\programdata\\anaconda3\\envs\\knorpel_v2\\lib\\site-packages\\sklearn\\cluster\\_kmeans.py:881: UserWarning: KMeans is known to have a memory leak on Windows with MKL, when there are less chunks than available threads. You can avoid it by setting the environment variable OMP_NUM_THREADS=14.\n",
      "  warnings.warn(\n",
      "c:\\programdata\\anaconda3\\envs\\knorpel_v2\\lib\\site-packages\\sklearn\\cluster\\_kmeans.py:881: UserWarning: KMeans is known to have a memory leak on Windows with MKL, when there are less chunks than available threads. You can avoid it by setting the environment variable OMP_NUM_THREADS=13.\n",
      "  warnings.warn(\n",
      "c:\\programdata\\anaconda3\\envs\\knorpel_v2\\lib\\site-packages\\sklearn\\cluster\\_kmeans.py:881: UserWarning: KMeans is known to have a memory leak on Windows with MKL, when there are less chunks than available threads. You can avoid it by setting the environment variable OMP_NUM_THREADS=14.\n",
      "  warnings.warn(\n",
      "c:\\programdata\\anaconda3\\envs\\knorpel_v2\\lib\\site-packages\\sklearn\\cluster\\_kmeans.py:881: UserWarning: KMeans is known to have a memory leak on Windows with MKL, when there are less chunks than available threads. You can avoid it by setting the environment variable OMP_NUM_THREADS=13.\n",
      "  warnings.warn(\n",
      "c:\\programdata\\anaconda3\\envs\\knorpel_v2\\lib\\site-packages\\sklearn\\cluster\\_kmeans.py:881: UserWarning: KMeans is known to have a memory leak on Windows with MKL, when there are less chunks than available threads. You can avoid it by setting the environment variable OMP_NUM_THREADS=15.\n",
      "  warnings.warn(\n",
      "c:\\programdata\\anaconda3\\envs\\knorpel_v2\\lib\\site-packages\\sklearn\\cluster\\_kmeans.py:881: UserWarning: KMeans is known to have a memory leak on Windows with MKL, when there are less chunks than available threads. You can avoid it by setting the environment variable OMP_NUM_THREADS=15.\n",
      "  warnings.warn(\n",
      "c:\\programdata\\anaconda3\\envs\\knorpel_v2\\lib\\site-packages\\sklearn\\cluster\\_kmeans.py:881: UserWarning: KMeans is known to have a memory leak on Windows with MKL, when there are less chunks than available threads. You can avoid it by setting the environment variable OMP_NUM_THREADS=15.\n",
      "  warnings.warn(\n",
      "c:\\programdata\\anaconda3\\envs\\knorpel_v2\\lib\\site-packages\\sklearn\\cluster\\_kmeans.py:881: UserWarning: KMeans is known to have a memory leak on Windows with MKL, when there are less chunks than available threads. You can avoid it by setting the environment variable OMP_NUM_THREADS=15.\n",
      "  warnings.warn(\n",
      "c:\\programdata\\anaconda3\\envs\\knorpel_v2\\lib\\site-packages\\sklearn\\cluster\\_kmeans.py:881: UserWarning: KMeans is known to have a memory leak on Windows with MKL, when there are less chunks than available threads. You can avoid it by setting the environment variable OMP_NUM_THREADS=14.\n",
      "  warnings.warn(\n",
      "c:\\programdata\\anaconda3\\envs\\knorpel_v2\\lib\\site-packages\\sklearn\\cluster\\_kmeans.py:881: UserWarning: KMeans is known to have a memory leak on Windows with MKL, when there are less chunks than available threads. You can avoid it by setting the environment variable OMP_NUM_THREADS=14.\n",
      "  warnings.warn(\n",
      "c:\\programdata\\anaconda3\\envs\\knorpel_v2\\lib\\site-packages\\sklearn\\cluster\\_kmeans.py:881: UserWarning: KMeans is known to have a memory leak on Windows with MKL, when there are less chunks than available threads. You can avoid it by setting the environment variable OMP_NUM_THREADS=14.\n",
      "  warnings.warn(\n",
      "c:\\programdata\\anaconda3\\envs\\knorpel_v2\\lib\\site-packages\\sklearn\\cluster\\_kmeans.py:881: UserWarning: KMeans is known to have a memory leak on Windows with MKL, when there are less chunks than available threads. You can avoid it by setting the environment variable OMP_NUM_THREADS=14.\n",
      "  warnings.warn(\n",
      "c:\\programdata\\anaconda3\\envs\\knorpel_v2\\lib\\site-packages\\sklearn\\cluster\\_kmeans.py:881: UserWarning: KMeans is known to have a memory leak on Windows with MKL, when there are less chunks than available threads. You can avoid it by setting the environment variable OMP_NUM_THREADS=14.\n",
      "  warnings.warn(\n",
      "c:\\programdata\\anaconda3\\envs\\knorpel_v2\\lib\\site-packages\\sklearn\\cluster\\_kmeans.py:881: UserWarning: KMeans is known to have a memory leak on Windows with MKL, when there are less chunks than available threads. You can avoid it by setting the environment variable OMP_NUM_THREADS=14.\n",
      "  warnings.warn(\n"
     ]
    },
    {
     "name": "stderr",
     "output_type": "stream",
     "text": [
      "c:\\programdata\\anaconda3\\envs\\knorpel_v2\\lib\\site-packages\\sklearn\\cluster\\_kmeans.py:881: UserWarning: KMeans is known to have a memory leak on Windows with MKL, when there are less chunks than available threads. You can avoid it by setting the environment variable OMP_NUM_THREADS=14.\n",
      "  warnings.warn(\n",
      "c:\\programdata\\anaconda3\\envs\\knorpel_v2\\lib\\site-packages\\sklearn\\cluster\\_kmeans.py:881: UserWarning: KMeans is known to have a memory leak on Windows with MKL, when there are less chunks than available threads. You can avoid it by setting the environment variable OMP_NUM_THREADS=14.\n",
      "  warnings.warn(\n",
      "c:\\programdata\\anaconda3\\envs\\knorpel_v2\\lib\\site-packages\\sklearn\\cluster\\_kmeans.py:881: UserWarning: KMeans is known to have a memory leak on Windows with MKL, when there are less chunks than available threads. You can avoid it by setting the environment variable OMP_NUM_THREADS=15.\n",
      "  warnings.warn(\n",
      "c:\\programdata\\anaconda3\\envs\\knorpel_v2\\lib\\site-packages\\sklearn\\cluster\\_kmeans.py:881: UserWarning: KMeans is known to have a memory leak on Windows with MKL, when there are less chunks than available threads. You can avoid it by setting the environment variable OMP_NUM_THREADS=15.\n",
      "  warnings.warn(\n",
      "c:\\programdata\\anaconda3\\envs\\knorpel_v2\\lib\\site-packages\\sklearn\\cluster\\_kmeans.py:881: UserWarning: KMeans is known to have a memory leak on Windows with MKL, when there are less chunks than available threads. You can avoid it by setting the environment variable OMP_NUM_THREADS=15.\n",
      "  warnings.warn(\n",
      "c:\\programdata\\anaconda3\\envs\\knorpel_v2\\lib\\site-packages\\sklearn\\cluster\\_kmeans.py:881: UserWarning: KMeans is known to have a memory leak on Windows with MKL, when there are less chunks than available threads. You can avoid it by setting the environment variable OMP_NUM_THREADS=15.\n",
      "  warnings.warn(\n",
      "c:\\programdata\\anaconda3\\envs\\knorpel_v2\\lib\\site-packages\\sklearn\\cluster\\_kmeans.py:881: UserWarning: KMeans is known to have a memory leak on Windows with MKL, when there are less chunks than available threads. You can avoid it by setting the environment variable OMP_NUM_THREADS=15.\n",
      "  warnings.warn(\n",
      "c:\\programdata\\anaconda3\\envs\\knorpel_v2\\lib\\site-packages\\sklearn\\cluster\\_kmeans.py:881: UserWarning: KMeans is known to have a memory leak on Windows with MKL, when there are less chunks than available threads. You can avoid it by setting the environment variable OMP_NUM_THREADS=15.\n",
      "  warnings.warn(\n",
      "c:\\programdata\\anaconda3\\envs\\knorpel_v2\\lib\\site-packages\\sklearn\\cluster\\_kmeans.py:881: UserWarning: KMeans is known to have a memory leak on Windows with MKL, when there are less chunks than available threads. You can avoid it by setting the environment variable OMP_NUM_THREADS=13.\n",
      "  warnings.warn(\n",
      "c:\\programdata\\anaconda3\\envs\\knorpel_v2\\lib\\site-packages\\sklearn\\cluster\\_kmeans.py:881: UserWarning: KMeans is known to have a memory leak on Windows with MKL, when there are less chunks than available threads. You can avoid it by setting the environment variable OMP_NUM_THREADS=13.\n",
      "  warnings.warn(\n",
      "c:\\programdata\\anaconda3\\envs\\knorpel_v2\\lib\\site-packages\\sklearn\\cluster\\_kmeans.py:881: UserWarning: KMeans is known to have a memory leak on Windows with MKL, when there are less chunks than available threads. You can avoid it by setting the environment variable OMP_NUM_THREADS=14.\n",
      "  warnings.warn(\n",
      "c:\\programdata\\anaconda3\\envs\\knorpel_v2\\lib\\site-packages\\sklearn\\cluster\\_kmeans.py:881: UserWarning: KMeans is known to have a memory leak on Windows with MKL, when there are less chunks than available threads. You can avoid it by setting the environment variable OMP_NUM_THREADS=13.\n",
      "  warnings.warn(\n",
      "c:\\programdata\\anaconda3\\envs\\knorpel_v2\\lib\\site-packages\\sklearn\\cluster\\_kmeans.py:881: UserWarning: KMeans is known to have a memory leak on Windows with MKL, when there are less chunks than available threads. You can avoid it by setting the environment variable OMP_NUM_THREADS=14.\n",
      "  warnings.warn(\n",
      "c:\\programdata\\anaconda3\\envs\\knorpel_v2\\lib\\site-packages\\sklearn\\cluster\\_kmeans.py:881: UserWarning: KMeans is known to have a memory leak on Windows with MKL, when there are less chunks than available threads. You can avoid it by setting the environment variable OMP_NUM_THREADS=13.\n",
      "  warnings.warn(\n",
      "c:\\programdata\\anaconda3\\envs\\knorpel_v2\\lib\\site-packages\\sklearn\\cluster\\_kmeans.py:881: UserWarning: KMeans is known to have a memory leak on Windows with MKL, when there are less chunks than available threads. You can avoid it by setting the environment variable OMP_NUM_THREADS=13.\n",
      "  warnings.warn(\n",
      "c:\\programdata\\anaconda3\\envs\\knorpel_v2\\lib\\site-packages\\sklearn\\cluster\\_kmeans.py:881: UserWarning: KMeans is known to have a memory leak on Windows with MKL, when there are less chunks than available threads. You can avoid it by setting the environment variable OMP_NUM_THREADS=15.\n",
      "  warnings.warn(\n",
      "c:\\programdata\\anaconda3\\envs\\knorpel_v2\\lib\\site-packages\\sklearn\\cluster\\_kmeans.py:881: UserWarning: KMeans is known to have a memory leak on Windows with MKL, when there are less chunks than available threads. You can avoid it by setting the environment variable OMP_NUM_THREADS=13.\n",
      "  warnings.warn(\n",
      "c:\\programdata\\anaconda3\\envs\\knorpel_v2\\lib\\site-packages\\sklearn\\cluster\\_kmeans.py:881: UserWarning: KMeans is known to have a memory leak on Windows with MKL, when there are less chunks than available threads. You can avoid it by setting the environment variable OMP_NUM_THREADS=15.\n",
      "  warnings.warn(\n",
      "c:\\programdata\\anaconda3\\envs\\knorpel_v2\\lib\\site-packages\\sklearn\\cluster\\_kmeans.py:881: UserWarning: KMeans is known to have a memory leak on Windows with MKL, when there are less chunks than available threads. You can avoid it by setting the environment variable OMP_NUM_THREADS=14.\n",
      "  warnings.warn(\n",
      "c:\\programdata\\anaconda3\\envs\\knorpel_v2\\lib\\site-packages\\sklearn\\cluster\\_kmeans.py:881: UserWarning: KMeans is known to have a memory leak on Windows with MKL, when there are less chunks than available threads. You can avoid it by setting the environment variable OMP_NUM_THREADS=15.\n",
      "  warnings.warn(\n",
      "c:\\programdata\\anaconda3\\envs\\knorpel_v2\\lib\\site-packages\\sklearn\\cluster\\_kmeans.py:881: UserWarning: KMeans is known to have a memory leak on Windows with MKL, when there are less chunks than available threads. You can avoid it by setting the environment variable OMP_NUM_THREADS=14.\n",
      "  warnings.warn(\n",
      "c:\\programdata\\anaconda3\\envs\\knorpel_v2\\lib\\site-packages\\sklearn\\cluster\\_kmeans.py:881: UserWarning: KMeans is known to have a memory leak on Windows with MKL, when there are less chunks than available threads. You can avoid it by setting the environment variable OMP_NUM_THREADS=15.\n",
      "  warnings.warn(\n",
      "c:\\programdata\\anaconda3\\envs\\knorpel_v2\\lib\\site-packages\\sklearn\\cluster\\_kmeans.py:881: UserWarning: KMeans is known to have a memory leak on Windows with MKL, when there are less chunks than available threads. You can avoid it by setting the environment variable OMP_NUM_THREADS=15.\n",
      "  warnings.warn(\n",
      "c:\\programdata\\anaconda3\\envs\\knorpel_v2\\lib\\site-packages\\sklearn\\cluster\\_kmeans.py:881: UserWarning: KMeans is known to have a memory leak on Windows with MKL, when there are less chunks than available threads. You can avoid it by setting the environment variable OMP_NUM_THREADS=15.\n",
      "  warnings.warn(\n",
      "c:\\programdata\\anaconda3\\envs\\knorpel_v2\\lib\\site-packages\\sklearn\\cluster\\_kmeans.py:881: UserWarning: KMeans is known to have a memory leak on Windows with MKL, when there are less chunks than available threads. You can avoid it by setting the environment variable OMP_NUM_THREADS=15.\n",
      "  warnings.warn(\n",
      "c:\\programdata\\anaconda3\\envs\\knorpel_v2\\lib\\site-packages\\sklearn\\cluster\\_kmeans.py:881: UserWarning: KMeans is known to have a memory leak on Windows with MKL, when there are less chunks than available threads. You can avoid it by setting the environment variable OMP_NUM_THREADS=15.\n",
      "  warnings.warn(\n",
      "c:\\programdata\\anaconda3\\envs\\knorpel_v2\\lib\\site-packages\\sklearn\\cluster\\_kmeans.py:881: UserWarning: KMeans is known to have a memory leak on Windows with MKL, when there are less chunks than available threads. You can avoid it by setting the environment variable OMP_NUM_THREADS=13.\n",
      "  warnings.warn(\n"
     ]
    },
    {
     "name": "stderr",
     "output_type": "stream",
     "text": [
      "c:\\programdata\\anaconda3\\envs\\knorpel_v2\\lib\\site-packages\\sklearn\\cluster\\_kmeans.py:881: UserWarning: KMeans is known to have a memory leak on Windows with MKL, when there are less chunks than available threads. You can avoid it by setting the environment variable OMP_NUM_THREADS=14.\n",
      "  warnings.warn(\n",
      "c:\\programdata\\anaconda3\\envs\\knorpel_v2\\lib\\site-packages\\sklearn\\cluster\\_kmeans.py:881: UserWarning: KMeans is known to have a memory leak on Windows with MKL, when there are less chunks than available threads. You can avoid it by setting the environment variable OMP_NUM_THREADS=13.\n",
      "  warnings.warn(\n",
      "c:\\programdata\\anaconda3\\envs\\knorpel_v2\\lib\\site-packages\\sklearn\\cluster\\_kmeans.py:881: UserWarning: KMeans is known to have a memory leak on Windows with MKL, when there are less chunks than available threads. You can avoid it by setting the environment variable OMP_NUM_THREADS=14.\n",
      "  warnings.warn(\n",
      "c:\\programdata\\anaconda3\\envs\\knorpel_v2\\lib\\site-packages\\sklearn\\cluster\\_kmeans.py:881: UserWarning: KMeans is known to have a memory leak on Windows with MKL, when there are less chunks than available threads. You can avoid it by setting the environment variable OMP_NUM_THREADS=14.\n",
      "  warnings.warn(\n",
      "c:\\programdata\\anaconda3\\envs\\knorpel_v2\\lib\\site-packages\\sklearn\\cluster\\_kmeans.py:881: UserWarning: KMeans is known to have a memory leak on Windows with MKL, when there are less chunks than available threads. You can avoid it by setting the environment variable OMP_NUM_THREADS=14.\n",
      "  warnings.warn(\n",
      "c:\\programdata\\anaconda3\\envs\\knorpel_v2\\lib\\site-packages\\sklearn\\cluster\\_kmeans.py:881: UserWarning: KMeans is known to have a memory leak on Windows with MKL, when there are less chunks than available threads. You can avoid it by setting the environment variable OMP_NUM_THREADS=14.\n",
      "  warnings.warn(\n",
      "c:\\programdata\\anaconda3\\envs\\knorpel_v2\\lib\\site-packages\\sklearn\\cluster\\_kmeans.py:881: UserWarning: KMeans is known to have a memory leak on Windows with MKL, when there are less chunks than available threads. You can avoid it by setting the environment variable OMP_NUM_THREADS=14.\n",
      "  warnings.warn(\n",
      "c:\\programdata\\anaconda3\\envs\\knorpel_v2\\lib\\site-packages\\sklearn\\cluster\\_kmeans.py:881: UserWarning: KMeans is known to have a memory leak on Windows with MKL, when there are less chunks than available threads. You can avoid it by setting the environment variable OMP_NUM_THREADS=15.\n",
      "  warnings.warn(\n",
      "c:\\programdata\\anaconda3\\envs\\knorpel_v2\\lib\\site-packages\\sklearn\\cluster\\_kmeans.py:881: UserWarning: KMeans is known to have a memory leak on Windows with MKL, when there are less chunks than available threads. You can avoid it by setting the environment variable OMP_NUM_THREADS=15.\n",
      "  warnings.warn(\n",
      "c:\\programdata\\anaconda3\\envs\\knorpel_v2\\lib\\site-packages\\sklearn\\cluster\\_kmeans.py:881: UserWarning: KMeans is known to have a memory leak on Windows with MKL, when there are less chunks than available threads. You can avoid it by setting the environment variable OMP_NUM_THREADS=13.\n",
      "  warnings.warn(\n",
      "c:\\programdata\\anaconda3\\envs\\knorpel_v2\\lib\\site-packages\\sklearn\\cluster\\_kmeans.py:881: UserWarning: KMeans is known to have a memory leak on Windows with MKL, when there are less chunks than available threads. You can avoid it by setting the environment variable OMP_NUM_THREADS=14.\n",
      "  warnings.warn(\n",
      "c:\\programdata\\anaconda3\\envs\\knorpel_v2\\lib\\site-packages\\sklearn\\cluster\\_kmeans.py:881: UserWarning: KMeans is known to have a memory leak on Windows with MKL, when there are less chunks than available threads. You can avoid it by setting the environment variable OMP_NUM_THREADS=13.\n",
      "  warnings.warn(\n",
      "c:\\programdata\\anaconda3\\envs\\knorpel_v2\\lib\\site-packages\\sklearn\\cluster\\_kmeans.py:881: UserWarning: KMeans is known to have a memory leak on Windows with MKL, when there are less chunks than available threads. You can avoid it by setting the environment variable OMP_NUM_THREADS=14.\n",
      "  warnings.warn(\n",
      "c:\\programdata\\anaconda3\\envs\\knorpel_v2\\lib\\site-packages\\sklearn\\cluster\\_kmeans.py:881: UserWarning: KMeans is known to have a memory leak on Windows with MKL, when there are less chunks than available threads. You can avoid it by setting the environment variable OMP_NUM_THREADS=15.\n",
      "  warnings.warn(\n",
      "c:\\programdata\\anaconda3\\envs\\knorpel_v2\\lib\\site-packages\\sklearn\\cluster\\_kmeans.py:881: UserWarning: KMeans is known to have a memory leak on Windows with MKL, when there are less chunks than available threads. You can avoid it by setting the environment variable OMP_NUM_THREADS=14.\n",
      "  warnings.warn(\n",
      "c:\\programdata\\anaconda3\\envs\\knorpel_v2\\lib\\site-packages\\sklearn\\cluster\\_kmeans.py:881: UserWarning: KMeans is known to have a memory leak on Windows with MKL, when there are less chunks than available threads. You can avoid it by setting the environment variable OMP_NUM_THREADS=15.\n",
      "  warnings.warn(\n",
      "c:\\programdata\\anaconda3\\envs\\knorpel_v2\\lib\\site-packages\\sklearn\\cluster\\_kmeans.py:881: UserWarning: KMeans is known to have a memory leak on Windows with MKL, when there are less chunks than available threads. You can avoid it by setting the environment variable OMP_NUM_THREADS=14.\n",
      "  warnings.warn(\n",
      "c:\\programdata\\anaconda3\\envs\\knorpel_v2\\lib\\site-packages\\sklearn\\cluster\\_kmeans.py:881: UserWarning: KMeans is known to have a memory leak on Windows with MKL, when there are less chunks than available threads. You can avoid it by setting the environment variable OMP_NUM_THREADS=15.\n",
      "  warnings.warn(\n",
      "c:\\programdata\\anaconda3\\envs\\knorpel_v2\\lib\\site-packages\\sklearn\\cluster\\_kmeans.py:881: UserWarning: KMeans is known to have a memory leak on Windows with MKL, when there are less chunks than available threads. You can avoid it by setting the environment variable OMP_NUM_THREADS=15.\n",
      "  warnings.warn(\n",
      "c:\\programdata\\anaconda3\\envs\\knorpel_v2\\lib\\site-packages\\sklearn\\cluster\\_kmeans.py:881: UserWarning: KMeans is known to have a memory leak on Windows with MKL, when there are less chunks than available threads. You can avoid it by setting the environment variable OMP_NUM_THREADS=15.\n",
      "  warnings.warn(\n",
      "c:\\programdata\\anaconda3\\envs\\knorpel_v2\\lib\\site-packages\\sklearn\\cluster\\_kmeans.py:881: UserWarning: KMeans is known to have a memory leak on Windows with MKL, when there are less chunks than available threads. You can avoid it by setting the environment variable OMP_NUM_THREADS=15.\n",
      "  warnings.warn(\n",
      "c:\\programdata\\anaconda3\\envs\\knorpel_v2\\lib\\site-packages\\sklearn\\cluster\\_kmeans.py:881: UserWarning: KMeans is known to have a memory leak on Windows with MKL, when there are less chunks than available threads. You can avoid it by setting the environment variable OMP_NUM_THREADS=15.\n",
      "  warnings.warn(\n",
      "c:\\programdata\\anaconda3\\envs\\knorpel_v2\\lib\\site-packages\\sklearn\\cluster\\_kmeans.py:881: UserWarning: KMeans is known to have a memory leak on Windows with MKL, when there are less chunks than available threads. You can avoid it by setting the environment variable OMP_NUM_THREADS=14.\n",
      "  warnings.warn(\n",
      "c:\\programdata\\anaconda3\\envs\\knorpel_v2\\lib\\site-packages\\sklearn\\cluster\\_kmeans.py:881: UserWarning: KMeans is known to have a memory leak on Windows with MKL, when there are less chunks than available threads. You can avoid it by setting the environment variable OMP_NUM_THREADS=15.\n",
      "  warnings.warn(\n",
      "c:\\programdata\\anaconda3\\envs\\knorpel_v2\\lib\\site-packages\\sklearn\\cluster\\_kmeans.py:881: UserWarning: KMeans is known to have a memory leak on Windows with MKL, when there are less chunks than available threads. You can avoid it by setting the environment variable OMP_NUM_THREADS=14.\n",
      "  warnings.warn(\n",
      "c:\\programdata\\anaconda3\\envs\\knorpel_v2\\lib\\site-packages\\sklearn\\cluster\\_kmeans.py:881: UserWarning: KMeans is known to have a memory leak on Windows with MKL, when there are less chunks than available threads. You can avoid it by setting the environment variable OMP_NUM_THREADS=15.\n",
      "  warnings.warn(\n",
      "c:\\programdata\\anaconda3\\envs\\knorpel_v2\\lib\\site-packages\\sklearn\\cluster\\_kmeans.py:881: UserWarning: KMeans is known to have a memory leak on Windows with MKL, when there are less chunks than available threads. You can avoid it by setting the environment variable OMP_NUM_THREADS=15.\n",
      "  warnings.warn(\n"
     ]
    },
    {
     "name": "stderr",
     "output_type": "stream",
     "text": [
      "c:\\programdata\\anaconda3\\envs\\knorpel_v2\\lib\\site-packages\\sklearn\\cluster\\_kmeans.py:881: UserWarning: KMeans is known to have a memory leak on Windows with MKL, when there are less chunks than available threads. You can avoid it by setting the environment variable OMP_NUM_THREADS=15.\n",
      "  warnings.warn(\n",
      "c:\\programdata\\anaconda3\\envs\\knorpel_v2\\lib\\site-packages\\sklearn\\cluster\\_kmeans.py:881: UserWarning: KMeans is known to have a memory leak on Windows with MKL, when there are less chunks than available threads. You can avoid it by setting the environment variable OMP_NUM_THREADS=14.\n",
      "  warnings.warn(\n",
      "c:\\programdata\\anaconda3\\envs\\knorpel_v2\\lib\\site-packages\\sklearn\\cluster\\_kmeans.py:881: UserWarning: KMeans is known to have a memory leak on Windows with MKL, when there are less chunks than available threads. You can avoid it by setting the environment variable OMP_NUM_THREADS=15.\n",
      "  warnings.warn(\n",
      "c:\\programdata\\anaconda3\\envs\\knorpel_v2\\lib\\site-packages\\sklearn\\cluster\\_kmeans.py:881: UserWarning: KMeans is known to have a memory leak on Windows with MKL, when there are less chunks than available threads. You can avoid it by setting the environment variable OMP_NUM_THREADS=14.\n",
      "  warnings.warn(\n",
      "c:\\programdata\\anaconda3\\envs\\knorpel_v2\\lib\\site-packages\\sklearn\\cluster\\_kmeans.py:881: UserWarning: KMeans is known to have a memory leak on Windows with MKL, when there are less chunks than available threads. You can avoid it by setting the environment variable OMP_NUM_THREADS=14.\n",
      "  warnings.warn(\n",
      "c:\\programdata\\anaconda3\\envs\\knorpel_v2\\lib\\site-packages\\sklearn\\cluster\\_kmeans.py:881: UserWarning: KMeans is known to have a memory leak on Windows with MKL, when there are less chunks than available threads. You can avoid it by setting the environment variable OMP_NUM_THREADS=13.\n",
      "  warnings.warn(\n",
      "c:\\programdata\\anaconda3\\envs\\knorpel_v2\\lib\\site-packages\\sklearn\\cluster\\_kmeans.py:881: UserWarning: KMeans is known to have a memory leak on Windows with MKL, when there are less chunks than available threads. You can avoid it by setting the environment variable OMP_NUM_THREADS=14.\n",
      "  warnings.warn(\n",
      "c:\\programdata\\anaconda3\\envs\\knorpel_v2\\lib\\site-packages\\sklearn\\cluster\\_kmeans.py:881: UserWarning: KMeans is known to have a memory leak on Windows with MKL, when there are less chunks than available threads. You can avoid it by setting the environment variable OMP_NUM_THREADS=13.\n",
      "  warnings.warn(\n",
      "c:\\programdata\\anaconda3\\envs\\knorpel_v2\\lib\\site-packages\\sklearn\\cluster\\_kmeans.py:881: UserWarning: KMeans is known to have a memory leak on Windows with MKL, when there are less chunks than available threads. You can avoid it by setting the environment variable OMP_NUM_THREADS=14.\n",
      "  warnings.warn(\n",
      "c:\\programdata\\anaconda3\\envs\\knorpel_v2\\lib\\site-packages\\sklearn\\cluster\\_kmeans.py:881: UserWarning: KMeans is known to have a memory leak on Windows with MKL, when there are less chunks than available threads. You can avoid it by setting the environment variable OMP_NUM_THREADS=14.\n",
      "  warnings.warn(\n",
      "c:\\programdata\\anaconda3\\envs\\knorpel_v2\\lib\\site-packages\\sklearn\\cluster\\_kmeans.py:881: UserWarning: KMeans is known to have a memory leak on Windows with MKL, when there are less chunks than available threads. You can avoid it by setting the environment variable OMP_NUM_THREADS=15.\n",
      "  warnings.warn(\n",
      "c:\\programdata\\anaconda3\\envs\\knorpel_v2\\lib\\site-packages\\sklearn\\cluster\\_kmeans.py:881: UserWarning: KMeans is known to have a memory leak on Windows with MKL, when there are less chunks than available threads. You can avoid it by setting the environment variable OMP_NUM_THREADS=15.\n",
      "  warnings.warn(\n",
      "c:\\programdata\\anaconda3\\envs\\knorpel_v2\\lib\\site-packages\\sklearn\\cluster\\_kmeans.py:881: UserWarning: KMeans is known to have a memory leak on Windows with MKL, when there are less chunks than available threads. You can avoid it by setting the environment variable OMP_NUM_THREADS=15.\n",
      "  warnings.warn(\n",
      "c:\\programdata\\anaconda3\\envs\\knorpel_v2\\lib\\site-packages\\sklearn\\cluster\\_kmeans.py:881: UserWarning: KMeans is known to have a memory leak on Windows with MKL, when there are less chunks than available threads. You can avoid it by setting the environment variable OMP_NUM_THREADS=14.\n",
      "  warnings.warn(\n",
      "c:\\programdata\\anaconda3\\envs\\knorpel_v2\\lib\\site-packages\\sklearn\\cluster\\_kmeans.py:881: UserWarning: KMeans is known to have a memory leak on Windows with MKL, when there are less chunks than available threads. You can avoid it by setting the environment variable OMP_NUM_THREADS=15.\n",
      "  warnings.warn(\n",
      "c:\\programdata\\anaconda3\\envs\\knorpel_v2\\lib\\site-packages\\sklearn\\cluster\\_kmeans.py:881: UserWarning: KMeans is known to have a memory leak on Windows with MKL, when there are less chunks than available threads. You can avoid it by setting the environment variable OMP_NUM_THREADS=14.\n",
      "  warnings.warn(\n",
      "c:\\programdata\\anaconda3\\envs\\knorpel_v2\\lib\\site-packages\\sklearn\\cluster\\_kmeans.py:881: UserWarning: KMeans is known to have a memory leak on Windows with MKL, when there are less chunks than available threads. You can avoid it by setting the environment variable OMP_NUM_THREADS=14.\n",
      "  warnings.warn(\n",
      "c:\\programdata\\anaconda3\\envs\\knorpel_v2\\lib\\site-packages\\sklearn\\cluster\\_kmeans.py:881: UserWarning: KMeans is known to have a memory leak on Windows with MKL, when there are less chunks than available threads. You can avoid it by setting the environment variable OMP_NUM_THREADS=14.\n",
      "  warnings.warn(\n",
      "c:\\programdata\\anaconda3\\envs\\knorpel_v2\\lib\\site-packages\\sklearn\\cluster\\_kmeans.py:881: UserWarning: KMeans is known to have a memory leak on Windows with MKL, when there are less chunks than available threads. You can avoid it by setting the environment variable OMP_NUM_THREADS=14.\n",
      "  warnings.warn(\n",
      "c:\\programdata\\anaconda3\\envs\\knorpel_v2\\lib\\site-packages\\sklearn\\cluster\\_kmeans.py:881: UserWarning: KMeans is known to have a memory leak on Windows with MKL, when there are less chunks than available threads. You can avoid it by setting the environment variable OMP_NUM_THREADS=14.\n",
      "  warnings.warn(\n",
      "c:\\programdata\\anaconda3\\envs\\knorpel_v2\\lib\\site-packages\\sklearn\\cluster\\_kmeans.py:881: UserWarning: KMeans is known to have a memory leak on Windows with MKL, when there are less chunks than available threads. You can avoid it by setting the environment variable OMP_NUM_THREADS=15.\n",
      "  warnings.warn(\n",
      "c:\\programdata\\anaconda3\\envs\\knorpel_v2\\lib\\site-packages\\sklearn\\cluster\\_kmeans.py:881: UserWarning: KMeans is known to have a memory leak on Windows with MKL, when there are less chunks than available threads. You can avoid it by setting the environment variable OMP_NUM_THREADS=13.\n",
      "  warnings.warn(\n",
      "c:\\programdata\\anaconda3\\envs\\knorpel_v2\\lib\\site-packages\\sklearn\\cluster\\_kmeans.py:881: UserWarning: KMeans is known to have a memory leak on Windows with MKL, when there are less chunks than available threads. You can avoid it by setting the environment variable OMP_NUM_THREADS=15.\n",
      "  warnings.warn(\n",
      "c:\\programdata\\anaconda3\\envs\\knorpel_v2\\lib\\site-packages\\sklearn\\cluster\\_kmeans.py:881: UserWarning: KMeans is known to have a memory leak on Windows with MKL, when there are less chunks than available threads. You can avoid it by setting the environment variable OMP_NUM_THREADS=13.\n",
      "  warnings.warn(\n",
      "c:\\programdata\\anaconda3\\envs\\knorpel_v2\\lib\\site-packages\\sklearn\\cluster\\_kmeans.py:881: UserWarning: KMeans is known to have a memory leak on Windows with MKL, when there are less chunks than available threads. You can avoid it by setting the environment variable OMP_NUM_THREADS=14.\n",
      "  warnings.warn(\n",
      "c:\\programdata\\anaconda3\\envs\\knorpel_v2\\lib\\site-packages\\sklearn\\cluster\\_kmeans.py:881: UserWarning: KMeans is known to have a memory leak on Windows with MKL, when there are less chunks than available threads. You can avoid it by setting the environment variable OMP_NUM_THREADS=14.\n",
      "  warnings.warn(\n",
      "c:\\programdata\\anaconda3\\envs\\knorpel_v2\\lib\\site-packages\\sklearn\\cluster\\_kmeans.py:881: UserWarning: KMeans is known to have a memory leak on Windows with MKL, when there are less chunks than available threads. You can avoid it by setting the environment variable OMP_NUM_THREADS=15.\n",
      "  warnings.warn(\n"
     ]
    },
    {
     "name": "stderr",
     "output_type": "stream",
     "text": [
      "c:\\programdata\\anaconda3\\envs\\knorpel_v2\\lib\\site-packages\\sklearn\\cluster\\_kmeans.py:881: UserWarning: KMeans is known to have a memory leak on Windows with MKL, when there are less chunks than available threads. You can avoid it by setting the environment variable OMP_NUM_THREADS=15.\n",
      "  warnings.warn(\n",
      "c:\\programdata\\anaconda3\\envs\\knorpel_v2\\lib\\site-packages\\sklearn\\cluster\\_kmeans.py:881: UserWarning: KMeans is known to have a memory leak on Windows with MKL, when there are less chunks than available threads. You can avoid it by setting the environment variable OMP_NUM_THREADS=14.\n",
      "  warnings.warn(\n",
      "c:\\programdata\\anaconda3\\envs\\knorpel_v2\\lib\\site-packages\\sklearn\\cluster\\_kmeans.py:881: UserWarning: KMeans is known to have a memory leak on Windows with MKL, when there are less chunks than available threads. You can avoid it by setting the environment variable OMP_NUM_THREADS=14.\n",
      "  warnings.warn(\n",
      "c:\\programdata\\anaconda3\\envs\\knorpel_v2\\lib\\site-packages\\sklearn\\cluster\\_kmeans.py:881: UserWarning: KMeans is known to have a memory leak on Windows with MKL, when there are less chunks than available threads. You can avoid it by setting the environment variable OMP_NUM_THREADS=14.\n",
      "  warnings.warn(\n",
      "c:\\programdata\\anaconda3\\envs\\knorpel_v2\\lib\\site-packages\\sklearn\\cluster\\_kmeans.py:881: UserWarning: KMeans is known to have a memory leak on Windows with MKL, when there are less chunks than available threads. You can avoid it by setting the environment variable OMP_NUM_THREADS=14.\n",
      "  warnings.warn(\n",
      "c:\\programdata\\anaconda3\\envs\\knorpel_v2\\lib\\site-packages\\sklearn\\cluster\\_kmeans.py:881: UserWarning: KMeans is known to have a memory leak on Windows with MKL, when there are less chunks than available threads. You can avoid it by setting the environment variable OMP_NUM_THREADS=14.\n",
      "  warnings.warn(\n",
      "c:\\programdata\\anaconda3\\envs\\knorpel_v2\\lib\\site-packages\\sklearn\\cluster\\_kmeans.py:881: UserWarning: KMeans is known to have a memory leak on Windows with MKL, when there are less chunks than available threads. You can avoid it by setting the environment variable OMP_NUM_THREADS=14.\n",
      "  warnings.warn(\n",
      "c:\\programdata\\anaconda3\\envs\\knorpel_v2\\lib\\site-packages\\sklearn\\cluster\\_kmeans.py:881: UserWarning: KMeans is known to have a memory leak on Windows with MKL, when there are less chunks than available threads. You can avoid it by setting the environment variable OMP_NUM_THREADS=15.\n",
      "  warnings.warn(\n",
      "c:\\programdata\\anaconda3\\envs\\knorpel_v2\\lib\\site-packages\\sklearn\\cluster\\_kmeans.py:881: UserWarning: KMeans is known to have a memory leak on Windows with MKL, when there are less chunks than available threads. You can avoid it by setting the environment variable OMP_NUM_THREADS=15.\n",
      "  warnings.warn(\n",
      "c:\\programdata\\anaconda3\\envs\\knorpel_v2\\lib\\site-packages\\sklearn\\cluster\\_kmeans.py:881: UserWarning: KMeans is known to have a memory leak on Windows with MKL, when there are less chunks than available threads. You can avoid it by setting the environment variable OMP_NUM_THREADS=14.\n",
      "  warnings.warn(\n",
      "c:\\programdata\\anaconda3\\envs\\knorpel_v2\\lib\\site-packages\\sklearn\\cluster\\_kmeans.py:881: UserWarning: KMeans is known to have a memory leak on Windows with MKL, when there are less chunks than available threads. You can avoid it by setting the environment variable OMP_NUM_THREADS=14.\n",
      "  warnings.warn(\n",
      "c:\\programdata\\anaconda3\\envs\\knorpel_v2\\lib\\site-packages\\sklearn\\cluster\\_kmeans.py:881: UserWarning: KMeans is known to have a memory leak on Windows with MKL, when there are less chunks than available threads. You can avoid it by setting the environment variable OMP_NUM_THREADS=15.\n",
      "  warnings.warn(\n",
      "c:\\programdata\\anaconda3\\envs\\knorpel_v2\\lib\\site-packages\\sklearn\\cluster\\_kmeans.py:881: UserWarning: KMeans is known to have a memory leak on Windows with MKL, when there are less chunks than available threads. You can avoid it by setting the environment variable OMP_NUM_THREADS=15.\n",
      "  warnings.warn(\n",
      "c:\\programdata\\anaconda3\\envs\\knorpel_v2\\lib\\site-packages\\sklearn\\cluster\\_kmeans.py:881: UserWarning: KMeans is known to have a memory leak on Windows with MKL, when there are less chunks than available threads. You can avoid it by setting the environment variable OMP_NUM_THREADS=15.\n",
      "  warnings.warn(\n",
      "c:\\programdata\\anaconda3\\envs\\knorpel_v2\\lib\\site-packages\\sklearn\\cluster\\_kmeans.py:881: UserWarning: KMeans is known to have a memory leak on Windows with MKL, when there are less chunks than available threads. You can avoid it by setting the environment variable OMP_NUM_THREADS=15.\n",
      "  warnings.warn(\n",
      "c:\\programdata\\anaconda3\\envs\\knorpel_v2\\lib\\site-packages\\sklearn\\cluster\\_kmeans.py:881: UserWarning: KMeans is known to have a memory leak on Windows with MKL, when there are less chunks than available threads. You can avoid it by setting the environment variable OMP_NUM_THREADS=13.\n",
      "  warnings.warn(\n",
      "c:\\programdata\\anaconda3\\envs\\knorpel_v2\\lib\\site-packages\\sklearn\\cluster\\_kmeans.py:881: UserWarning: KMeans is known to have a memory leak on Windows with MKL, when there are less chunks than available threads. You can avoid it by setting the environment variable OMP_NUM_THREADS=14.\n",
      "  warnings.warn(\n",
      "c:\\programdata\\anaconda3\\envs\\knorpel_v2\\lib\\site-packages\\sklearn\\cluster\\_kmeans.py:881: UserWarning: KMeans is known to have a memory leak on Windows with MKL, when there are less chunks than available threads. You can avoid it by setting the environment variable OMP_NUM_THREADS=13.\n",
      "  warnings.warn(\n",
      "c:\\programdata\\anaconda3\\envs\\knorpel_v2\\lib\\site-packages\\sklearn\\cluster\\_kmeans.py:881: UserWarning: KMeans is known to have a memory leak on Windows with MKL, when there are less chunks than available threads. You can avoid it by setting the environment variable OMP_NUM_THREADS=14.\n",
      "  warnings.warn(\n",
      "c:\\programdata\\anaconda3\\envs\\knorpel_v2\\lib\\site-packages\\sklearn\\cluster\\_kmeans.py:881: UserWarning: KMeans is known to have a memory leak on Windows with MKL, when there are less chunks than available threads. You can avoid it by setting the environment variable OMP_NUM_THREADS=14.\n",
      "  warnings.warn(\n",
      "c:\\programdata\\anaconda3\\envs\\knorpel_v2\\lib\\site-packages\\sklearn\\cluster\\_kmeans.py:881: UserWarning: KMeans is known to have a memory leak on Windows with MKL, when there are less chunks than available threads. You can avoid it by setting the environment variable OMP_NUM_THREADS=14.\n",
      "  warnings.warn(\n",
      "c:\\programdata\\anaconda3\\envs\\knorpel_v2\\lib\\site-packages\\sklearn\\cluster\\_kmeans.py:881: UserWarning: KMeans is known to have a memory leak on Windows with MKL, when there are less chunks than available threads. You can avoid it by setting the environment variable OMP_NUM_THREADS=14.\n",
      "  warnings.warn(\n",
      "c:\\programdata\\anaconda3\\envs\\knorpel_v2\\lib\\site-packages\\sklearn\\cluster\\_kmeans.py:881: UserWarning: KMeans is known to have a memory leak on Windows with MKL, when there are less chunks than available threads. You can avoid it by setting the environment variable OMP_NUM_THREADS=14.\n",
      "  warnings.warn(\n",
      "c:\\programdata\\anaconda3\\envs\\knorpel_v2\\lib\\site-packages\\sklearn\\cluster\\_kmeans.py:881: UserWarning: KMeans is known to have a memory leak on Windows with MKL, when there are less chunks than available threads. You can avoid it by setting the environment variable OMP_NUM_THREADS=15.\n",
      "  warnings.warn(\n",
      "c:\\programdata\\anaconda3\\envs\\knorpel_v2\\lib\\site-packages\\sklearn\\cluster\\_kmeans.py:881: UserWarning: KMeans is known to have a memory leak on Windows with MKL, when there are less chunks than available threads. You can avoid it by setting the environment variable OMP_NUM_THREADS=15.\n",
      "  warnings.warn(\n",
      "c:\\programdata\\anaconda3\\envs\\knorpel_v2\\lib\\site-packages\\sklearn\\cluster\\_kmeans.py:881: UserWarning: KMeans is known to have a memory leak on Windows with MKL, when there are less chunks than available threads. You can avoid it by setting the environment variable OMP_NUM_THREADS=15.\n",
      "  warnings.warn(\n",
      "c:\\programdata\\anaconda3\\envs\\knorpel_v2\\lib\\site-packages\\sklearn\\cluster\\_kmeans.py:881: UserWarning: KMeans is known to have a memory leak on Windows with MKL, when there are less chunks than available threads. You can avoid it by setting the environment variable OMP_NUM_THREADS=15.\n",
      "  warnings.warn(\n"
     ]
    },
    {
     "name": "stderr",
     "output_type": "stream",
     "text": [
      "c:\\programdata\\anaconda3\\envs\\knorpel_v2\\lib\\site-packages\\sklearn\\cluster\\_kmeans.py:881: UserWarning: KMeans is known to have a memory leak on Windows with MKL, when there are less chunks than available threads. You can avoid it by setting the environment variable OMP_NUM_THREADS=13.\n",
      "  warnings.warn(\n",
      "c:\\programdata\\anaconda3\\envs\\knorpel_v2\\lib\\site-packages\\sklearn\\cluster\\_kmeans.py:881: UserWarning: KMeans is known to have a memory leak on Windows with MKL, when there are less chunks than available threads. You can avoid it by setting the environment variable OMP_NUM_THREADS=13.\n",
      "  warnings.warn(\n",
      "c:\\programdata\\anaconda3\\envs\\knorpel_v2\\lib\\site-packages\\sklearn\\cluster\\_kmeans.py:881: UserWarning: KMeans is known to have a memory leak on Windows with MKL, when there are less chunks than available threads. You can avoid it by setting the environment variable OMP_NUM_THREADS=14.\n",
      "  warnings.warn(\n",
      "c:\\programdata\\anaconda3\\envs\\knorpel_v2\\lib\\site-packages\\sklearn\\cluster\\_kmeans.py:881: UserWarning: KMeans is known to have a memory leak on Windows with MKL, when there are less chunks than available threads. You can avoid it by setting the environment variable OMP_NUM_THREADS=14.\n",
      "  warnings.warn(\n",
      "c:\\programdata\\anaconda3\\envs\\knorpel_v2\\lib\\site-packages\\sklearn\\cluster\\_kmeans.py:881: UserWarning: KMeans is known to have a memory leak on Windows with MKL, when there are less chunks than available threads. You can avoid it by setting the environment variable OMP_NUM_THREADS=15.\n",
      "  warnings.warn(\n",
      "c:\\programdata\\anaconda3\\envs\\knorpel_v2\\lib\\site-packages\\sklearn\\cluster\\_kmeans.py:881: UserWarning: KMeans is known to have a memory leak on Windows with MKL, when there are less chunks than available threads. You can avoid it by setting the environment variable OMP_NUM_THREADS=15.\n",
      "  warnings.warn(\n",
      "c:\\programdata\\anaconda3\\envs\\knorpel_v2\\lib\\site-packages\\sklearn\\cluster\\_kmeans.py:881: UserWarning: KMeans is known to have a memory leak on Windows with MKL, when there are less chunks than available threads. You can avoid it by setting the environment variable OMP_NUM_THREADS=15.\n",
      "  warnings.warn(\n",
      "c:\\programdata\\anaconda3\\envs\\knorpel_v2\\lib\\site-packages\\sklearn\\cluster\\_kmeans.py:881: UserWarning: KMeans is known to have a memory leak on Windows with MKL, when there are less chunks than available threads. You can avoid it by setting the environment variable OMP_NUM_THREADS=15.\n",
      "  warnings.warn(\n",
      "c:\\programdata\\anaconda3\\envs\\knorpel_v2\\lib\\site-packages\\sklearn\\cluster\\_kmeans.py:881: UserWarning: KMeans is known to have a memory leak on Windows with MKL, when there are less chunks than available threads. You can avoid it by setting the environment variable OMP_NUM_THREADS=14.\n",
      "  warnings.warn(\n",
      "c:\\programdata\\anaconda3\\envs\\knorpel_v2\\lib\\site-packages\\sklearn\\cluster\\_kmeans.py:881: UserWarning: KMeans is known to have a memory leak on Windows with MKL, when there are less chunks than available threads. You can avoid it by setting the environment variable OMP_NUM_THREADS=14.\n",
      "  warnings.warn(\n",
      "c:\\programdata\\anaconda3\\envs\\knorpel_v2\\lib\\site-packages\\sklearn\\cluster\\_kmeans.py:881: UserWarning: KMeans is known to have a memory leak on Windows with MKL, when there are less chunks than available threads. You can avoid it by setting the environment variable OMP_NUM_THREADS=13.\n",
      "  warnings.warn(\n",
      "c:\\programdata\\anaconda3\\envs\\knorpel_v2\\lib\\site-packages\\sklearn\\cluster\\_kmeans.py:881: UserWarning: KMeans is known to have a memory leak on Windows with MKL, when there are less chunks than available threads. You can avoid it by setting the environment variable OMP_NUM_THREADS=13.\n",
      "  warnings.warn(\n",
      "c:\\programdata\\anaconda3\\envs\\knorpel_v2\\lib\\site-packages\\sklearn\\cluster\\_kmeans.py:881: UserWarning: KMeans is known to have a memory leak on Windows with MKL, when there are less chunks than available threads. You can avoid it by setting the environment variable OMP_NUM_THREADS=14.\n",
      "  warnings.warn(\n",
      "c:\\programdata\\anaconda3\\envs\\knorpel_v2\\lib\\site-packages\\sklearn\\cluster\\_kmeans.py:881: UserWarning: KMeans is known to have a memory leak on Windows with MKL, when there are less chunks than available threads. You can avoid it by setting the environment variable OMP_NUM_THREADS=14.\n",
      "  warnings.warn(\n",
      "c:\\programdata\\anaconda3\\envs\\knorpel_v2\\lib\\site-packages\\sklearn\\cluster\\_kmeans.py:881: UserWarning: KMeans is known to have a memory leak on Windows with MKL, when there are less chunks than available threads. You can avoid it by setting the environment variable OMP_NUM_THREADS=14.\n",
      "  warnings.warn(\n",
      "c:\\programdata\\anaconda3\\envs\\knorpel_v2\\lib\\site-packages\\sklearn\\cluster\\_kmeans.py:881: UserWarning: KMeans is known to have a memory leak on Windows with MKL, when there are less chunks than available threads. You can avoid it by setting the environment variable OMP_NUM_THREADS=14.\n",
      "  warnings.warn(\n",
      "c:\\programdata\\anaconda3\\envs\\knorpel_v2\\lib\\site-packages\\sklearn\\cluster\\_kmeans.py:881: UserWarning: KMeans is known to have a memory leak on Windows with MKL, when there are less chunks than available threads. You can avoid it by setting the environment variable OMP_NUM_THREADS=15.\n",
      "  warnings.warn(\n",
      "c:\\programdata\\anaconda3\\envs\\knorpel_v2\\lib\\site-packages\\sklearn\\cluster\\_kmeans.py:881: UserWarning: KMeans is known to have a memory leak on Windows with MKL, when there are less chunks than available threads. You can avoid it by setting the environment variable OMP_NUM_THREADS=15.\n",
      "  warnings.warn(\n"
     ]
    }
   ],
   "source": [
    "lower_mesh_left_sizes = np.array([])\n",
    "lower_mesh_right_sizes = np.array([])\n",
    "upper_mesh_left_sizes = np.array([])\n",
    "upper_mesh_right_sizes = np.array([])\n",
    "ldp_sizes = np.array([])\n",
    "lpp_sizes = np.array([])\n",
    "mdp_sizes = np.array([])\n",
    "mpp_sizes = np.array([])\n",
    "lda_sizes = np.array([])\n",
    "lpa_sizes = np.array([])\n",
    "mda_sizes = np.array([])\n",
    "mpa_sizes = np.array([])\n",
    "ldt_sizes = np.array([])\n",
    "mdt_sizes = np.array([])\n",
    "lpt_sizes = np.array([])\n",
    "mpt_sizes = np.array([])\n",
    "\n",
    "for file in tqdm(files):\n",
    "    sitk_image, np_image = utility.read_image(f'../Manual_Segmentations/{file}/{file}_segm.mhd')\n",
    "    femoral_cartilage = utility.build_3d_cartilage_array(np_image, 3)\n",
    "    tibial_cartilage = utility.build_3d_cartilage_array(np_image, 4)\n",
    "    \n",
    "    femoral_cartilage = femoral_cartilage * np.array([sitk_image.GetSpacing()[2], sitk_image.GetSpacing()[0], sitk_image.GetSpacing()[1]])\n",
    "    tibial_cartilage = tibial_cartilage * np.array([sitk_image.GetSpacing()[2], sitk_image.GetSpacing()[0], sitk_image.GetSpacing()[1]])\n",
    "\n",
    "    femoral_vectors = [list(element) for element in femoral_cartilage]\n",
    "    tibial_vectors = [list(element) for element in tibial_cartilage]\n",
    "    \n",
    "    cwbzl, cwbzr = utility.extract_central_weightbearing_zone(femoral_vectors, tibial_vectors)\n",
    "    lower_mesh_left, upper_mesh_left = utility.build_femoral_meshes(cwbzl)\n",
    "    lower_mesh_right, upper_mesh_right = utility.build_femoral_meshes(cwbzr)\n",
    "    lpdf, rpdf, adf = utility.extract_anterior_posterior_zones(femoral_vectors, cwbzl, cwbzr)\n",
    "    ladf, radf = utility.split_anterior_part(adf)\n",
    "    \n",
    "    lp_lower_mesh, lp_upper_mesh = utility.build_tibial_meshes(lpdf.to_numpy()) \n",
    "    rp_lower_mesh, rp_upper_mesh = utility.build_tibial_meshes(rpdf.to_numpy()) \n",
    "    la_lower_mesh, la_upper_mesh = utility.build_tibial_meshes(ladf.to_numpy()) \n",
    "    ra_lower_mesh, ra_upper_mesh = utility.build_tibial_meshes(radf.to_numpy())\n",
    "    \n",
    "    lower_mesh_left_sizes = np.hstack((lower_mesh_left_sizes, lower_mesh_left.compute_cell_sizes()['Area']))\n",
    "    lower_mesh_right_sizes = np.hstack((lower_mesh_right_sizes, lower_mesh_right.compute_cell_sizes()['Area']))\n",
    "    \n",
    "    upper_mesh_left_sizes = np.hstack((upper_mesh_left_sizes, upper_mesh_left.compute_cell_sizes()['Area']))\n",
    "    upper_mesh_right_sizes = np.hstack((upper_mesh_right_sizes, upper_mesh_right.compute_cell_sizes()['Area']))\n",
    "    \n",
    "    ldp_sizes = np.hstack((ldp_sizes, lp_lower_mesh.compute_cell_sizes()['Area']))\n",
    "    lpp_sizes = np.hstack((lpp_sizes, lp_upper_mesh.compute_cell_sizes()['Area']))\n",
    "    \n",
    "    mdp_sizes = np.hstack((mdp_sizes, rp_lower_mesh.compute_cell_sizes()['Area']))\n",
    "    mpp_sizes = np.hstack((mpp_sizes, rp_upper_mesh.compute_cell_sizes()['Area']))\n",
    "    \n",
    "    lda_sizes = np.hstack((lda_sizes, la_lower_mesh.compute_cell_sizes()['Area']))\n",
    "    lpa_sizes = np.hstack((lpa_sizes, la_upper_mesh.compute_cell_sizes()['Area']))\n",
    "    \n",
    "    mda_sizes = np.hstack((mda_sizes, ra_lower_mesh.compute_cell_sizes()['Area']))\n",
    "    mpa_sizes = np.hstack((mpa_sizes, ra_upper_mesh.compute_cell_sizes()['Area']))\n",
    "    \n",
    "    df = pd.DataFrame(data=tibial_cartilage, columns=['x', 'y', 'z'])\n",
    "    max_z = df.groupby(['x', 'y']).max()\n",
    "\n",
    "    tmp1 = [np.array(item) for item in max_z.index]\n",
    "    tmp2 = [item for item in max_z.to_numpy()]\n",
    "    max_z = np.column_stack((tmp1, tmp2))\n",
    "\n",
    "    left_tibial_landmarks, right_tibial_landmarks, split_vector = utility.tibial_landmarks(max_z)\n",
    "    left_plate, right_plate = utility.split_into_plates(tibial_vectors, split_vector)\n",
    "\n",
    "\n",
    "    lower_mesh_left, upper_mesh_left = utility.build_tibial_meshes(left_plate)\n",
    "    lower_mesh_right, upper_mesh_right = utility.build_tibial_meshes(right_plate)\n",
    "    \n",
    "    ldt_sizes = np.hstack((ldt_sizes, lower_mesh_left.compute_cell_sizes()['Area']))\n",
    "    mdt_sizes = np.hstack((mdt_sizes, lower_mesh_right.compute_cell_sizes()['Area']))\n",
    "    \n",
    "    lpt_sizes = np.hstack((lpt_sizes, upper_mesh_left.compute_cell_sizes()['Area']))\n",
    "    mpt_sizes = np.hstack((mpt_sizes, upper_mesh_right.compute_cell_sizes()['Area']))"
   ]
  },
  {
   "cell_type": "markdown",
   "id": "ae582852",
   "metadata": {},
   "source": [
    "## Femur"
   ]
  },
  {
   "cell_type": "markdown",
   "id": "d3b06d05",
   "metadata": {},
   "source": [
    "### distal lateral central"
   ]
  },
  {
   "cell_type": "code",
   "execution_count": 80,
   "id": "32c0a3e9",
   "metadata": {},
   "outputs": [
    {
     "data": {
      "text/plain": [
       "(0.21744260700507756, 1.1901543576900055)"
      ]
     },
     "execution_count": 80,
     "metadata": {},
     "output_type": "execute_result"
    }
   ],
   "source": [
    "lower_mesh_left_sizes.mean(), lower_mesh_left_sizes.std()"
   ]
  },
  {
   "cell_type": "markdown",
   "id": "2afc219a",
   "metadata": {},
   "source": [
    "### distal medial central"
   ]
  },
  {
   "cell_type": "code",
   "execution_count": 81,
   "id": "42413174",
   "metadata": {},
   "outputs": [
    {
     "data": {
      "text/plain": [
       "(0.21767496540167694, 1.229523895597925)"
      ]
     },
     "execution_count": 81,
     "metadata": {},
     "output_type": "execute_result"
    }
   ],
   "source": [
    "lower_mesh_right_sizes.mean(), lower_mesh_right_sizes.std()"
   ]
  },
  {
   "cell_type": "markdown",
   "id": "0b8d7784",
   "metadata": {},
   "source": [
    "### proximal lateral central"
   ]
  },
  {
   "cell_type": "code",
   "execution_count": 82,
   "id": "6afb1352",
   "metadata": {},
   "outputs": [
    {
     "data": {
      "text/plain": [
       "(0.21986139141168395, 0.9442199305595722)"
      ]
     },
     "execution_count": 82,
     "metadata": {},
     "output_type": "execute_result"
    }
   ],
   "source": [
    "upper_mesh_left_sizes.mean(), upper_mesh_left_sizes.std()"
   ]
  },
  {
   "cell_type": "markdown",
   "id": "9022e59d",
   "metadata": {},
   "source": [
    "### proximal medial central"
   ]
  },
  {
   "cell_type": "code",
   "execution_count": 83,
   "id": "74de4240",
   "metadata": {},
   "outputs": [
    {
     "data": {
      "text/plain": [
       "(0.21819761268491353, 0.8478626631411004)"
      ]
     },
     "execution_count": 83,
     "metadata": {},
     "output_type": "execute_result"
    }
   ],
   "source": [
    "upper_mesh_right_sizes.mean(), upper_mesh_right_sizes.std()"
   ]
  },
  {
   "cell_type": "markdown",
   "id": "92d53c92",
   "metadata": {},
   "source": [
    "### distal lateral posterior"
   ]
  },
  {
   "cell_type": "code",
   "execution_count": 84,
   "id": "7cbb5041",
   "metadata": {},
   "outputs": [
    {
     "data": {
      "text/plain": [
       "(0.3542009361946019, 2.0804990383407356)"
      ]
     },
     "execution_count": 84,
     "metadata": {},
     "output_type": "execute_result"
    }
   ],
   "source": [
    "ldp_sizes.mean(), ldp_sizes.std()"
   ]
  },
  {
   "cell_type": "markdown",
   "id": "ccffcfb5",
   "metadata": {},
   "source": [
    "### distal medial posterior"
   ]
  },
  {
   "cell_type": "code",
   "execution_count": 85,
   "id": "2b7be000",
   "metadata": {},
   "outputs": [
    {
     "data": {
      "text/plain": [
       "(0.3545421151409155, 1.7075006400579125)"
      ]
     },
     "execution_count": 85,
     "metadata": {},
     "output_type": "execute_result"
    }
   ],
   "source": [
    "mdp_sizes.mean(), mdp_sizes.std()"
   ]
  },
  {
   "cell_type": "markdown",
   "id": "1a2f791a",
   "metadata": {},
   "source": [
    "### proximal lateral posterior"
   ]
  },
  {
   "cell_type": "code",
   "execution_count": 86,
   "id": "bf31b600",
   "metadata": {},
   "outputs": [
    {
     "data": {
      "text/plain": [
       "(0.3950813739071871, 2.194760541976519)"
      ]
     },
     "execution_count": 86,
     "metadata": {},
     "output_type": "execute_result"
    }
   ],
   "source": [
    "lpp_sizes.mean(), lpp_sizes.std()"
   ]
  },
  {
   "cell_type": "markdown",
   "id": "4814d175",
   "metadata": {},
   "source": [
    "### proximal medial posterior"
   ]
  },
  {
   "cell_type": "code",
   "execution_count": 87,
   "id": "d472bc15",
   "metadata": {},
   "outputs": [
    {
     "data": {
      "text/plain": [
       "(0.3858956424103578, 1.753382748167591)"
      ]
     },
     "execution_count": 87,
     "metadata": {},
     "output_type": "execute_result"
    }
   ],
   "source": [
    "mpp_sizes.mean(), mpp_sizes.std()"
   ]
  },
  {
   "cell_type": "markdown",
   "id": "ffc2a210",
   "metadata": {},
   "source": [
    "### distal lateral anterior"
   ]
  },
  {
   "cell_type": "code",
   "execution_count": 88,
   "id": "60f09260",
   "metadata": {},
   "outputs": [
    {
     "data": {
      "text/plain": [
       "(0.22038054799696113, 0.47998341869310973)"
      ]
     },
     "execution_count": 88,
     "metadata": {},
     "output_type": "execute_result"
    }
   ],
   "source": [
    "lda_sizes.mean(), lda_sizes.std()"
   ]
  },
  {
   "cell_type": "markdown",
   "id": "11402fb9",
   "metadata": {},
   "source": [
    "### distal medial anterior"
   ]
  },
  {
   "cell_type": "code",
   "execution_count": 89,
   "id": "ac09df96",
   "metadata": {},
   "outputs": [
    {
     "data": {
      "text/plain": [
       "(0.24695915647371341, 0.7731742146335174)"
      ]
     },
     "execution_count": 89,
     "metadata": {},
     "output_type": "execute_result"
    }
   ],
   "source": [
    "mda_sizes.mean(), mda_sizes.std()"
   ]
  },
  {
   "cell_type": "markdown",
   "id": "27ebcbfe",
   "metadata": {},
   "source": [
    "### proximal lateral anterior"
   ]
  },
  {
   "cell_type": "code",
   "execution_count": 90,
   "id": "992e0f5a",
   "metadata": {},
   "outputs": [
    {
     "data": {
      "text/plain": [
       "(0.20967635192148168, 0.4262323874850245)"
      ]
     },
     "execution_count": 90,
     "metadata": {},
     "output_type": "execute_result"
    }
   ],
   "source": [
    "lpa_sizes.mean(), lpa_sizes.std()"
   ]
  },
  {
   "cell_type": "markdown",
   "id": "bf40750c",
   "metadata": {},
   "source": [
    "### proximal medial anterior"
   ]
  },
  {
   "cell_type": "code",
   "execution_count": 91,
   "id": "071c56a6",
   "metadata": {},
   "outputs": [
    {
     "data": {
      "text/plain": [
       "(0.21865357633377358, 0.5393205707577469)"
      ]
     },
     "execution_count": 91,
     "metadata": {},
     "output_type": "execute_result"
    }
   ],
   "source": [
    "mpa_sizes.mean(), mpa_sizes.std()"
   ]
  },
  {
   "cell_type": "markdown",
   "id": "22d39f55",
   "metadata": {},
   "source": [
    "## Tibia"
   ]
  },
  {
   "cell_type": "markdown",
   "id": "689eafb8",
   "metadata": {},
   "source": [
    "### distal lateral"
   ]
  },
  {
   "cell_type": "code",
   "execution_count": 92,
   "id": "22803b01",
   "metadata": {},
   "outputs": [
    {
     "data": {
      "text/plain": [
       "(0.18975581673250674, 1.1888435915079123)"
      ]
     },
     "execution_count": 92,
     "metadata": {},
     "output_type": "execute_result"
    }
   ],
   "source": [
    "ldt_sizes.mean(), ldt_sizes.std()"
   ]
  },
  {
   "cell_type": "markdown",
   "id": "0718a504",
   "metadata": {},
   "source": [
    "### distal medial"
   ]
  },
  {
   "cell_type": "code",
   "execution_count": 93,
   "id": "ccf27c5a",
   "metadata": {},
   "outputs": [
    {
     "data": {
      "text/plain": [
       "(0.1803786994341969, 1.3087137579491157)"
      ]
     },
     "execution_count": 93,
     "metadata": {},
     "output_type": "execute_result"
    }
   ],
   "source": [
    "mdt_sizes.mean(), mdt_sizes.std()"
   ]
  },
  {
   "cell_type": "markdown",
   "id": "cb6e69e3",
   "metadata": {},
   "source": [
    "### proximal lateral"
   ]
  },
  {
   "cell_type": "code",
   "execution_count": 94,
   "id": "8b101dca",
   "metadata": {},
   "outputs": [
    {
     "data": {
      "text/plain": [
       "(0.19172179000121925, 1.1795777332564468)"
      ]
     },
     "execution_count": 94,
     "metadata": {},
     "output_type": "execute_result"
    }
   ],
   "source": [
    "lpt_sizes.mean(), lpt_sizes.std()"
   ]
  },
  {
   "cell_type": "markdown",
   "id": "34a4f3d6",
   "metadata": {},
   "source": [
    "### proximal medial"
   ]
  },
  {
   "cell_type": "code",
   "execution_count": 95,
   "id": "952cb432",
   "metadata": {},
   "outputs": [
    {
     "data": {
      "text/plain": [
       "(0.18415123572463546, 1.3149358314671895)"
      ]
     },
     "execution_count": 95,
     "metadata": {},
     "output_type": "execute_result"
    }
   ],
   "source": [
    "mpt_sizes.mean(), mpt_sizes.std()"
   ]
  },
  {
   "cell_type": "code",
   "execution_count": null,
   "id": "2c68cf67",
   "metadata": {},
   "outputs": [],
   "source": []
  }
 ],
 "metadata": {
  "kernelspec": {
   "display_name": "Python 3 (ipykernel)",
   "language": "python",
   "name": "python3"
  },
  "language_info": {
   "codemirror_mode": {
    "name": "ipython",
    "version": 3
   },
   "file_extension": ".py",
   "mimetype": "text/x-python",
   "name": "python",
   "nbconvert_exporter": "python",
   "pygments_lexer": "ipython3",
   "version": "3.9.5"
  }
 },
 "nbformat": 4,
 "nbformat_minor": 5
}
