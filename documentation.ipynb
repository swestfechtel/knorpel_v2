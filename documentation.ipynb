{
 "cells": [
  {
   "cell_type": "code",
   "execution_count": 34,
   "metadata": {},
   "outputs": [],
   "source": [
    "import utility\n",
    "from tqdm import tqdm\n",
    "import os\n",
    "from sklearn.cluster import KMeans\n",
    "import pyvista as pv\n",
    "import pandas as pd\n",
    "import numpy as np\n",
    "from IPython.display import Image\n",
    "from collections import defaultdict\n",
    "from scipy.spatial import KDTree\n",
    "from scipy import stats\n",
    "import math\n",
    "import matplotlib.pyplot as plt"
   ]
  },
  {
   "cell_type": "code",
   "execution_count": 2,
   "metadata": {},
   "outputs": [
    {
     "data": {
      "text/plain": [
       "<module 'utility' from '/home/simon/knorpel_v2/utility.py'>"
      ]
     },
     "execution_count": 2,
     "metadata": {},
     "output_type": "execute_result"
    }
   ],
   "source": [
    "import importlib\n",
    "importlib.reload(utility)"
   ]
  },
  {
   "cell_type": "markdown",
   "metadata": {},
   "source": [
    "Disable shortcuts\n",
    "<script>Jupyter.keyboard_manager.disable()</script>"
   ]
  },
  {
   "cell_type": "code",
   "execution_count": 3,
   "metadata": {},
   "outputs": [],
   "source": [
    "# sitk_image, np_image = utility.read_image('/home/simon/Pictures/9001104/9001104_segm.mhd')\n",
    "sitk_image, np_image = utility.read_image('/home/simon/Pictures/9255535/9255535_segm.mhd')"
   ]
  },
  {
   "cell_type": "code",
   "execution_count": 4,
   "metadata": {},
   "outputs": [],
   "source": [
    "femoral_cartilage = utility.build_3d_cartilage_array(np_image, 3)\n",
    "tibial_cartilage = utility.build_3d_cartilage_array(np_image, 4)\n",
    "\n",
    "femoral_vectors = [list(element) for element in femoral_cartilage]\n",
    "tibial_vectors = [list(element) for element in tibial_cartilage]"
   ]
  },
  {
   "cell_type": "code",
   "execution_count": 5,
   "metadata": {},
   "outputs": [
    {
     "data": {
      "application/vnd.jupyter.widget-view+json": {
       "model_id": "979e6b138fe34d20a938dadffa4192cc",
       "version_major": 2,
       "version_minor": 0
      },
      "text/plain": [
       "ViewInteractiveWidget(height=768, layout=Layout(height='auto', width='100%'), width=1024)"
      ]
     },
     "metadata": {},
     "output_type": "display_data"
    }
   ],
   "source": [
    "p = pv.Plotter()\n",
    "\n",
    "x, y, z, xy = utility.get_xyz(tibial_vectors)\n",
    "df = pd.DataFrame(data={'x': z, 'y': y, 'z': x}, columns=['x', 'y', 'z'])\n",
    "p.add_mesh(pv.PolyData(df.to_numpy()), color='red')\n",
    "\n",
    "x, y, z, xy = utility.get_xyz(femoral_vectors)\n",
    "df = pd.DataFrame(data={'x': z, 'y': y, 'z': x}, columns=['x', 'y', 'z'])\n",
    "p.add_mesh(pv.PolyData(df.to_numpy()), color='green')\n",
    "\n",
    "tmp_vectors = utility.build_3d_cartilage_array(np_image, 1)\n",
    "x, y, z, xy = utility.get_xyz(tmp_vectors)\n",
    "df = pd.DataFrame(data={'x': z, 'y': y, 'z': x}, columns=['x', 'y', 'z'])\n",
    "p.add_mesh(pv.PolyData(df.to_numpy()), color='blue')\n",
    "\n",
    "tmp_vectors = utility.build_3d_cartilage_array(np_image, 2)\n",
    "x, y, z, xy = utility.get_xyz(tmp_vectors)\n",
    "df = pd.DataFrame(data={'x': z, 'y': y, 'z': x}, columns=['x', 'y', 'z'])\n",
    "p.add_mesh(pv.PolyData(df.to_numpy()), color='yellow')\n",
    "\n",
    "p.show_grid()\n",
    "p.show()"
   ]
  },
  {
   "cell_type": "markdown",
   "metadata": {},
   "source": [
    "# Tibia"
   ]
  },
  {
   "cell_type": "code",
   "execution_count": 5,
   "metadata": {},
   "outputs": [],
   "source": [
    "x, y, z, xy = utility.get_xyz(tibial_vectors)\n",
    "df = pd.DataFrame(data={'x': z, 'y': y, 'z': x}, columns=['x', 'y', 'z'])"
   ]
  },
  {
   "cell_type": "code",
   "execution_count": 6,
   "metadata": {},
   "outputs": [
    {
     "data": {
      "application/vnd.jupyter.widget-view+json": {
       "model_id": "e3543903983042cfb37aebb979040901",
       "version_major": 2,
       "version_minor": 0
      },
      "text/plain": [
       "ViewInteractiveWidget(height=768, layout=Layout(height='auto', width='100%'), width=1024)"
      ]
     },
     "metadata": {},
     "output_type": "display_data"
    }
   ],
   "source": [
    "p = pv.Plotter()\n",
    "p.add_mesh(pv.PolyData(df.to_numpy()))\n",
    "p.show_grid()\n",
    "p.show()\n",
    "p.render()\n",
    "p.save_graphic('s1.svg')"
   ]
  },
  {
   "cell_type": "markdown",
   "metadata": {},
   "source": [
    "### Approach:\n",
    "Construct an upper and a lower mesh out of the cartilage volume and calculate the distance between the meshes (by raytracing, nearest neighbors, etc). To this end, group by x, y coordinates and for each pair (x, y), take the maximum z coordinate for the upper mesh and the minimum z coordinate for the lower mesh."
   ]
  },
  {
   "cell_type": "code",
   "execution_count": 7,
   "metadata": {},
   "outputs": [],
   "source": [
    "max_z = df.groupby(['x', 'y']).max()\n",
    "min_z = df.groupby(['x', 'y']).min()\n",
    "\n",
    "tmp1 = [np.array(item) for item in max_z.index]\n",
    "tmp2 = [item for item in max_z.to_numpy()]\n",
    "max_z = np.column_stack((tmp1, tmp2))\n",
    "\n",
    "tmp1 = [np.array(item) for item in min_z.index]\n",
    "tmp2 = [item for item in min_z.to_numpy()]\n",
    "min_z = np.column_stack((tmp1, tmp2))"
   ]
  },
  {
   "cell_type": "code",
   "execution_count": 8,
   "metadata": {},
   "outputs": [],
   "source": [
    "upper_cloud = pv.PolyData(max_z)\n",
    "lower_cloud = pv.PolyData(min_z)"
   ]
  },
  {
   "cell_type": "code",
   "execution_count": 9,
   "metadata": {},
   "outputs": [
    {
     "data": {
      "application/vnd.jupyter.widget-view+json": {
       "model_id": "9ca30465ba57429cac9a8911fa6747a7",
       "version_major": 2,
       "version_minor": 0
      },
      "text/plain": [
       "ViewInteractiveWidget(height=768, layout=Layout(height='auto', width='100%'), width=1024)"
      ]
     },
     "metadata": {},
     "output_type": "display_data"
    }
   ],
   "source": [
    "p = pv.Plotter()\n",
    "p.add_mesh(upper_cloud, color='green')\n",
    "p.add_mesh(lower_cloud, color='red')\n",
    "p.add_mesh(pv.PolyData(df.to_numpy()), color='blue', opacity=0.25)\n",
    "p.add_legend([['bone-sided mesh', 'green'], ['cartilage-sided mesh', 'red']])\n",
    "p.show_grid()\n",
    "p.show()\n",
    "p.render()\n",
    "p.save_graphic('tibial_points.svg')"
   ]
  },
  {
   "cell_type": "code",
   "execution_count": 10,
   "metadata": {},
   "outputs": [],
   "source": [
    "# build polygon meshes for both point clouds using delaunay\n",
    "lower_mesh = lower_cloud.delaunay_2d()\n",
    "upper_mesh = upper_cloud.delaunay_2d()"
   ]
  },
  {
   "cell_type": "markdown",
   "metadata": {},
   "source": [
    "We can now calculate the distance between the two meshes. In this example, we simply calculate the mean total distance using a k-d tree nearest neighbor search. For division into subregions, it is better to do raytracing from one mesh's normal vectors against the other mesh."
   ]
  },
  {
   "cell_type": "code",
   "execution_count": 11,
   "metadata": {},
   "outputs": [
    {
     "data": {
      "text/plain": [
       "2.7352430942075143"
      ]
     },
     "execution_count": 11,
     "metadata": {},
     "output_type": "execute_result"
    }
   ],
   "source": [
    "from scipy.spatial import KDTree\n",
    "\n",
    "tree = KDTree(upper_cloud.points)\n",
    "d, idx = tree.query(lower_cloud.points)\n",
    "lower_cloud['distances'] = d\n",
    "np.mean(d)"
   ]
  },
  {
   "cell_type": "code",
   "execution_count": 12,
   "metadata": {},
   "outputs": [
    {
     "data": {
      "text/plain": [
       "<module 'utility' from '/home/simon/knorpel_v2/utility.py'>"
      ]
     },
     "execution_count": 12,
     "metadata": {},
     "output_type": "execute_result"
    }
   ],
   "source": [
    "importlib.reload(utility)"
   ]
  },
  {
   "cell_type": "code",
   "execution_count": 13,
   "metadata": {},
   "outputs": [
    {
     "name": "stderr",
     "output_type": "stream",
     "text": [
      "100%|█████████████████████████████████████| 8357/8357 [00:01<00:00, 6517.26it/s]\n"
     ]
    },
    {
     "data": {
      "text/plain": [
       "dict_keys(['aLT', 'iLT', 'aMT', 'eLT', 'iMT', 'eMT', 'cLT', 'cMT', 'pLT', 'pMT'])"
      ]
     },
     "execution_count": 13,
     "metadata": {},
     "output_type": "execute_result"
    }
   ],
   "source": [
    "dd = defaultdict(list)\n",
    "left_tibial_regions, right_tibial_regions, split_vector = utility.tibial_landmarks(lower_mesh.points)\n",
    "for v in tqdm(lower_mesh.points):\n",
    "    vector = np.array(v)\n",
    "    # print(vector)\n",
    "    label = utility.classify_tibial_point(vector[:2], left_tibial_regions, right_tibial_regions, split_vector)\n",
    "    dd[label].append(vector)\n",
    "\n",
    "dd.keys()"
   ]
  },
  {
   "cell_type": "code",
   "execution_count": 14,
   "metadata": {},
   "outputs": [
    {
     "data": {
      "text/plain": [
       "[[137, 31],\n",
       " [267, 31],\n",
       " [267, 74],\n",
       " [137, 74],\n",
       " 17.0,\n",
       " array([203.42889544,  54.05171241])]"
      ]
     },
     "execution_count": 14,
     "metadata": {},
     "output_type": "execute_result"
    }
   ],
   "source": [
    "left_tibial_regions"
   ]
  },
  {
   "cell_type": "code",
   "execution_count": 15,
   "metadata": {
    "scrolled": false
   },
   "outputs": [
    {
     "data": {
      "application/vnd.jupyter.widget-view+json": {
       "model_id": "c193b60561414c1b958f32dadfa2761c",
       "version_major": 2,
       "version_minor": 0
      },
      "text/plain": [
       "ViewInteractiveWidget(height=768, layout=Layout(height='auto', width='100%'), width=1024)"
      ]
     },
     "metadata": {},
     "output_type": "display_data"
    }
   ],
   "source": [
    "p = pv.Plotter()\n",
    "p.add_mesh(pv.PolyData(dd['eLT']), color='red')\n",
    "p.add_mesh(pv.PolyData(dd['pLT']), color='blue')\n",
    "p.add_mesh(pv.PolyData(dd['cLT']), color='green')\n",
    "p.add_mesh(pv.PolyData(dd['aLT']), color='pink')\n",
    "p.add_mesh(pv.PolyData(dd['iLT']), color='yellow')\n",
    "p.add_mesh(pv.PolyData(dd['eMT']), color='red')\n",
    "p.add_mesh(pv.PolyData(dd['pMT']), color='blue')\n",
    "p.add_mesh(pv.PolyData(dd['cMT']), color='green')\n",
    "p.add_mesh(pv.PolyData(dd['aMT']), color='pink')\n",
    "p.add_mesh(pv.PolyData(dd['iMT']), color='yellow')\n",
    "p.add_legend([['external', 'red'], ['posterior', 'blue'], ['anterior', 'pink'], ['internal', 'yellow'], ['central', 'green']])\n",
    "p.add_title('Subregions of the tibial cartilage')\n",
    "p.show_grid()\n",
    "p.show()\n",
    "p.render()\n",
    "p.save_graphic('tibial_subregions.svg')"
   ]
  },
  {
   "cell_type": "markdown",
   "metadata": {},
   "source": [
    "# Femur"
   ]
  },
  {
   "cell_type": "code",
   "execution_count": 7,
   "metadata": {},
   "outputs": [],
   "source": [
    "x, y, z, xy = utility.get_xyz(femoral_vectors)\n",
    "df = pd.DataFrame(data={'x': z, 'y': y, 'z': x}, columns=['x', 'y', 'z'])"
   ]
  },
  {
   "cell_type": "code",
   "execution_count": 17,
   "metadata": {},
   "outputs": [
    {
     "data": {
      "application/vnd.jupyter.widget-view+json": {
       "model_id": "57932b0c650c44279749a559b6ad8e00",
       "version_major": 2,
       "version_minor": 0
      },
      "text/plain": [
       "ViewInteractiveWidget(height=768, layout=Layout(height='auto', width='100%'), width=1024)"
      ]
     },
     "metadata": {},
     "output_type": "display_data"
    }
   ],
   "source": [
    "p = pv.Plotter()\n",
    "p.add_mesh(pv.PolyData(df.to_numpy()))\n",
    "p.show_grid()\n",
    "p.show()\n",
    "p.render()\n",
    "p.save_graphic('s2.svg')"
   ]
  },
  {
   "cell_type": "markdown",
   "metadata": {},
   "source": [
    "### Approach:\n",
    "Using the same approach as for the tibial cartilage is not possible due to the volume's shape. Let's illustrate the problem: <br><br>\n",
    "Instead of going by z coordinate, it makes more sense to take a central point and introduce a distance measure to that point."
   ]
  },
  {
   "cell_type": "code",
   "execution_count": 37,
   "metadata": {},
   "outputs": [
    {
     "data": {
      "text/html": [
       "<div>\n",
       "<style scoped>\n",
       "    .dataframe tbody tr th:only-of-type {\n",
       "        vertical-align: middle;\n",
       "    }\n",
       "\n",
       "    .dataframe tbody tr th {\n",
       "        vertical-align: top;\n",
       "    }\n",
       "\n",
       "    .dataframe thead th {\n",
       "        text-align: right;\n",
       "    }\n",
       "</style>\n",
       "<table border=\"1\" class=\"dataframe\">\n",
       "  <thead>\n",
       "    <tr style=\"text-align: right;\">\n",
       "      <th></th>\n",
       "      <th>x</th>\n",
       "      <th>y</th>\n",
       "      <th>z</th>\n",
       "      <th>dist_to_cog</th>\n",
       "    </tr>\n",
       "  </thead>\n",
       "  <tbody>\n",
       "    <tr>\n",
       "      <th>0</th>\n",
       "      <td>170</td>\n",
       "      <td>0</td>\n",
       "      <td>52</td>\n",
       "      <td>93.364876</td>\n",
       "    </tr>\n",
       "    <tr>\n",
       "      <th>1</th>\n",
       "      <td>171</td>\n",
       "      <td>0</td>\n",
       "      <td>52</td>\n",
       "      <td>94.180677</td>\n",
       "    </tr>\n",
       "    <tr>\n",
       "      <th>2</th>\n",
       "      <td>169</td>\n",
       "      <td>0</td>\n",
       "      <td>53</td>\n",
       "      <td>92.504054</td>\n",
       "    </tr>\n",
       "    <tr>\n",
       "      <th>3</th>\n",
       "      <td>170</td>\n",
       "      <td>0</td>\n",
       "      <td>53</td>\n",
       "      <td>93.316665</td>\n",
       "    </tr>\n",
       "    <tr>\n",
       "      <th>4</th>\n",
       "      <td>171</td>\n",
       "      <td>0</td>\n",
       "      <td>53</td>\n",
       "      <td>94.132885</td>\n",
       "    </tr>\n",
       "    <tr>\n",
       "      <th>...</th>\n",
       "      <td>...</td>\n",
       "      <td>...</td>\n",
       "      <td>...</td>\n",
       "      <td>...</td>\n",
       "    </tr>\n",
       "    <tr>\n",
       "      <th>122282</th>\n",
       "      <td>139</td>\n",
       "      <td>108</td>\n",
       "      <td>99</td>\n",
       "      <td>81.884064</td>\n",
       "    </tr>\n",
       "    <tr>\n",
       "      <th>122283</th>\n",
       "      <td>140</td>\n",
       "      <td>108</td>\n",
       "      <td>99</td>\n",
       "      <td>82.437855</td>\n",
       "    </tr>\n",
       "    <tr>\n",
       "      <th>122284</th>\n",
       "      <td>141</td>\n",
       "      <td>108</td>\n",
       "      <td>99</td>\n",
       "      <td>83.000000</td>\n",
       "    </tr>\n",
       "    <tr>\n",
       "      <th>122285</th>\n",
       "      <td>142</td>\n",
       "      <td>108</td>\n",
       "      <td>99</td>\n",
       "      <td>83.570330</td>\n",
       "    </tr>\n",
       "    <tr>\n",
       "      <th>122286</th>\n",
       "      <td>143</td>\n",
       "      <td>108</td>\n",
       "      <td>99</td>\n",
       "      <td>84.148678</td>\n",
       "    </tr>\n",
       "  </tbody>\n",
       "</table>\n",
       "<p>122287 rows × 4 columns</p>\n",
       "</div>"
      ],
      "text/plain": [
       "          x    y   z  dist_to_cog\n",
       "0       170    0  52    93.364876\n",
       "1       171    0  52    94.180677\n",
       "2       169    0  53    92.504054\n",
       "3       170    0  53    93.316665\n",
       "4       171    0  53    94.132885\n",
       "...     ...  ...  ..          ...\n",
       "122282  139  108  99    81.884064\n",
       "122283  140  108  99    82.437855\n",
       "122284  141  108  99    83.000000\n",
       "122285  142  108  99    83.570330\n",
       "122286  143  108  99    84.148678\n",
       "\n",
       "[122287 rows x 4 columns]"
      ]
     },
     "execution_count": 37,
     "metadata": {},
     "output_type": "execute_result"
    }
   ],
   "source": [
    "center = np.array([df.x.min() + (df.x.max() - df.x.min()) / 2,\n",
    "                   df.y.min() + (df.y.max() - df.y.min()) / 2,\n",
    "                   df.z.min() + (df.z.max() - df.z.min()) / 2])\n",
    "\n",
    "df['dist_to_cog'] = np.zeros(df.shape[0])\n",
    "df['dist_to_cog'] = df.apply(lambda l: utility.vector_distance([l.x, l.y, l.z], center), axis=1)\n",
    "df"
   ]
  },
  {
   "cell_type": "markdown",
   "metadata": {},
   "source": [
    "If we now again group by x, y and take the min/max distance..."
   ]
  },
  {
   "cell_type": "code",
   "execution_count": 38,
   "metadata": {},
   "outputs": [],
   "source": [
    "max_z = df[df.groupby(['x', 'y'])['dist_to_cog'].transform(max) == df['dist_to_cog']]\n",
    "min_z = df[df.groupby(['x', 'y'])['dist_to_cog'].transform(min) == df['dist_to_cog']]\n",
    "\n",
    "max_z = [item[:3] for item in max_z.to_numpy()]\n",
    "min_z = [item[:3] for item in min_z.to_numpy()]"
   ]
  },
  {
   "cell_type": "code",
   "execution_count": 39,
   "metadata": {},
   "outputs": [],
   "source": [
    "upper_cloud = pv.PolyData(max_z)\n",
    "lower_cloud = pv.PolyData(min_z)"
   ]
  },
  {
   "cell_type": "code",
   "execution_count": 40,
   "metadata": {},
   "outputs": [
    {
     "data": {
      "application/vnd.jupyter.widget-view+json": {
       "model_id": "567aa284fdb84f0d9e5eb5982c6ae589",
       "version_major": 2,
       "version_minor": 0
      },
      "text/plain": [
       "ViewInteractiveWidget(height=768, layout=Layout(height='auto', width='100%'), width=1024)"
      ]
     },
     "metadata": {},
     "output_type": "display_data"
    }
   ],
   "source": [
    "p = pv.Plotter()\n",
    "p.add_mesh(upper_cloud, color='red')\n",
    "p.add_mesh(lower_cloud, color='green')\n",
    "p.add_mesh(pv.PolyData(df.to_numpy()[:,0:3]), color='blue', opacity=0.25)\n",
    "p.add_legend([['bone-sided mesh', 'green'], ['cartilage-sided mesh', 'red']])\n",
    "p.show_grid()\n",
    "p.show()\n",
    "p.render()\n",
    "p.save_graphic('femoral_points.svg')"
   ]
  },
  {
   "cell_type": "markdown",
   "metadata": {},
   "source": [
    "This is what we get. You can see that points are missing in the curved regions. This makes sense because we only take one value each for each (x, y) while for these regions, we'd need >= 2 values for the inner and outer mesh.<br><br>\n",
    "Another way to approach this problem is again taking a central point, and from this point do raytracing against the cartilage volume. For each tracing vector, find the first and last intersection point with the volume (if any) and calculate the distance between the two.<br><br>\n",
    "To this end, we can build a sphere and trace along the sphere's normal vectors."
   ]
  },
  {
   "cell_type": "code",
   "execution_count": 41,
   "metadata": {},
   "outputs": [
    {
     "data": {
      "text/html": [
       "<table><tr><th>Header</th><th>Data Arrays</th></tr><tr><td>\n",
       "<table>\n",
       "<tr><th>PolyData</th><th>Information</th></tr>\n",
       "<tr><td>N Cells</td><td>1680</td></tr>\n",
       "<tr><td>N Points</td><td>842</td></tr>\n",
       "<tr><td>X Bounds</td><td>9.300e+01, 9.500e+01</td></tr>\n",
       "<tr><td>Y Bounds</td><td>5.301e+01, 5.499e+01</td></tr>\n",
       "<tr><td>Z Bounds</td><td>5.600e+01, 5.800e+01</td></tr>\n",
       "<tr><td>N Arrays</td><td>1</td></tr>\n",
       "</table>\n",
       "\n",
       "</td><td>\n",
       "<table>\n",
       "<tr><th>Name</th><th>Field</th><th>Type</th><th>N Comp</th><th>Min</th><th>Max</th></tr>\n",
       "<tr><td>Normals</td><td>Points</td><td>float32</td><td>3</td><td>-1.000e+00</td><td>1.000e+00</td></tr>\n",
       "</table>\n",
       "\n",
       "</td></tr> </table>"
      ],
      "text/plain": [
       "PolyData (0x7f41a8b8fe20)\n",
       "  N Cells:\t1680\n",
       "  N Points:\t842\n",
       "  X Bounds:\t9.300e+01, 9.500e+01\n",
       "  Y Bounds:\t5.301e+01, 5.499e+01\n",
       "  Z Bounds:\t5.600e+01, 5.800e+01\n",
       "  N Arrays:\t1"
      ]
     },
     "execution_count": 41,
     "metadata": {},
     "output_type": "execute_result"
    }
   ],
   "source": [
    "num_sp = 30\n",
    "sphere = pv.Sphere(center=center, radius=1, theta_resolution=num_sp, phi_resolution=num_sp)\n",
    "sphere.compute_normals(point_normals=True, cell_normals=False, inplace=True)"
   ]
  },
  {
   "cell_type": "code",
   "execution_count": 42,
   "metadata": {},
   "outputs": [
    {
     "data": {
      "application/vnd.jupyter.widget-view+json": {
       "model_id": "edd544e66c9b4058a7d704c31b715a39",
       "version_major": 2,
       "version_minor": 0
      },
      "text/plain": [
       "ViewInteractiveWidget(height=768, layout=Layout(height='auto', width='100%'), width=1024)"
      ]
     },
     "metadata": {},
     "output_type": "display_data"
    }
   ],
   "source": [
    "p = pv.Plotter()\n",
    "m = pv.PolyData(df.to_numpy()[:,0:3])\n",
    "p.add_mesh(m, color='red')\n",
    "p.add_mesh(sphere, color='green')\n",
    "# p.add_mesh(sphere.glyph(scale='Normals', orient='Normals', tolerance=0.05), color='blue')\n",
    "p.add_arrows(sphere.points, sphere['Normals'], 25)\n",
    "p.show_grid()\n",
    "p.add_title('Sphere placement for the femoral cartilage')\n",
    "p.show()\n",
    "p.render()\n",
    "p.save_graphic('femoral_sphere.svg')"
   ]
  },
  {
   "cell_type": "markdown",
   "metadata": {},
   "source": [
    "### Fixing the mesh approach\n",
    "Another approach that might work is cutting the full volume into two shapes and rotating the problematic section. Let's have a look:"
   ]
  },
  {
   "cell_type": "code",
   "execution_count": 43,
   "metadata": {},
   "outputs": [
    {
     "data": {
      "text/plain": [
       "count    189.000000\n",
       "mean      47.878307\n",
       "std       30.161286\n",
       "min       13.000000\n",
       "25%       28.000000\n",
       "50%       32.000000\n",
       "75%       58.000000\n",
       "max      112.000000\n",
       "Name: z, dtype: float64"
      ]
     },
     "execution_count": 43,
     "metadata": {},
     "output_type": "execute_result"
    }
   ],
   "source": [
    "df = df.sort_values(by='x', ascending=True)\n",
    "zrange = df.groupby(by=['x'])['z'].max() - df.groupby(by=['x'])['z'].min()\n",
    "zrange.describe()"
   ]
  },
  {
   "cell_type": "code",
   "execution_count": 44,
   "metadata": {},
   "outputs": [],
   "source": [
    "zmed = zrange.median()"
   ]
  },
  {
   "cell_type": "code",
   "execution_count": 45,
   "metadata": {},
   "outputs": [],
   "source": [
    "from scipy import stats"
   ]
  },
  {
   "cell_type": "code",
   "execution_count": 46,
   "metadata": {},
   "outputs": [],
   "source": [
    "zindex = zrange.loc[zrange < zmed].index.to_numpy()\n",
    "mask = np.abs(stats.zscore(zindex)) < 2\n",
    "lower_bound = zindex[mask].min()\n",
    "upper_bound = zindex[mask].max()"
   ]
  },
  {
   "cell_type": "code",
   "execution_count": 47,
   "metadata": {},
   "outputs": [
    {
     "name": "stdout",
     "output_type": "stream",
     "text": [
      "35 122\n"
     ]
    }
   ],
   "source": [
    "#lower_bound = 35\n",
    "#upper_bound = 122\n",
    "print(lower_bound, upper_bound)"
   ]
  },
  {
   "cell_type": "code",
   "execution_count": 48,
   "metadata": {},
   "outputs": [
    {
     "data": {
      "application/vnd.jupyter.widget-view+json": {
       "model_id": "3c05c27e58de47c1921f1a3e464aa994",
       "version_major": 2,
       "version_minor": 0
      },
      "text/plain": [
       "ViewInteractiveWidget(height=768, layout=Layout(height='auto', width='100%'), width=1024)"
      ]
     },
     "metadata": {},
     "output_type": "display_data"
    }
   ],
   "source": [
    "p = pv.Plotter()\n",
    "p.add_mesh(pv.PolyData(df.loc[df['x'] > lower_bound].loc[df['x'] < upper_bound].to_numpy()[:,0:3]), color='blue', opacity=0.25)\n",
    "p.add_mesh(pv.PolyData(df.loc[df['x'] < lower_bound].to_numpy()[:,0:3]), color='red', opacity=0.25)\n",
    "p.add_mesh(pv.PolyData(df.loc[df['x'] > upper_bound].to_numpy()[:,0:3]), color='yellow', opacity=0.25)\n",
    "p.show()\n",
    "p.render()\n",
    "p.save_graphic('s3.svg')"
   ]
  },
  {
   "cell_type": "code",
   "execution_count": 49,
   "metadata": {},
   "outputs": [],
   "source": [
    "right_portion = df.loc[df['x'] < lower_bound]\n",
    "right_portion = right_portion[['z', 'y', 'x', 'dist_to_cog']]\n",
    "right_portion.columns = ['x', 'y', 'z', 'dist_to_cog']\n",
    "\n",
    "middle_portion = df.loc[df['x'] > lower_bound].loc[df['x'] < upper_bound]\n",
    "\n",
    "left_portion = df.loc[df['x'] > upper_bound]\n",
    "left_portion = left_portion[['z', 'y', 'x', 'dist_to_cog']]\n",
    "left_portion.columns = ['x', 'y', 'z', 'dist_to_cog']"
   ]
  },
  {
   "cell_type": "code",
   "execution_count": 50,
   "metadata": {},
   "outputs": [
    {
     "data": {
      "application/vnd.jupyter.widget-view+json": {
       "model_id": "81134edc1cd440ff9089bcea93392c47",
       "version_major": 2,
       "version_minor": 0
      },
      "text/plain": [
       "ViewInteractiveWidget(height=768, layout=Layout(height='auto', width='100%'), width=1024)"
      ]
     },
     "metadata": {},
     "output_type": "display_data"
    }
   ],
   "source": [
    "pv.plot(pv.PolyData(left_portion.to_numpy()[:,0:3]), color='yellow')"
   ]
  },
  {
   "cell_type": "code",
   "execution_count": 51,
   "metadata": {},
   "outputs": [
    {
     "data": {
      "application/vnd.jupyter.widget-view+json": {
       "model_id": "ffb3799b280f4e90be4e628f76554db8",
       "version_major": 2,
       "version_minor": 0
      },
      "text/plain": [
       "ViewInteractiveWidget(height=768, layout=Layout(height='auto', width='100%'), width=1024)"
      ]
     },
     "metadata": {},
     "output_type": "display_data"
    }
   ],
   "source": [
    "pv.plot(pv.PolyData(right_portion.to_numpy()[:,0:3]), color='red')"
   ]
  },
  {
   "cell_type": "code",
   "execution_count": 52,
   "metadata": {},
   "outputs": [],
   "source": [
    "max_z = left_portion[left_portion.groupby(['x', 'y'])['dist_to_cog'].transform(max) == left_portion['dist_to_cog']]\n",
    "min_z = left_portion[left_portion.groupby(['x', 'y'])['dist_to_cog'].transform(min) == left_portion['dist_to_cog']]\n",
    "\n",
    "max_z = [item[:3] for item in max_z.to_numpy()]\n",
    "min_z = [item[:3] for item in min_z.to_numpy()]"
   ]
  },
  {
   "cell_type": "code",
   "execution_count": 53,
   "metadata": {},
   "outputs": [],
   "source": [
    "outer_cloud = pv.PolyData(max_z)\n",
    "inner_cloud = pv.PolyData(min_z)"
   ]
  },
  {
   "cell_type": "code",
   "execution_count": 54,
   "metadata": {},
   "outputs": [
    {
     "data": {
      "application/vnd.jupyter.widget-view+json": {
       "model_id": "a138e5b019d244fa9f8a87a014292883",
       "version_major": 2,
       "version_minor": 0
      },
      "text/plain": [
       "ViewInteractiveWidget(height=768, layout=Layout(height='auto', width='100%'), width=1024)"
      ]
     },
     "metadata": {},
     "output_type": "display_data"
    }
   ],
   "source": [
    "p = pv.Plotter()\n",
    "p.add_mesh(inner_cloud, color='red', opacity=.5)\n",
    "p.add_mesh(outer_cloud, color='blue', opacity=.5)\n",
    "p.show()"
   ]
  },
  {
   "cell_type": "code",
   "execution_count": 55,
   "metadata": {},
   "outputs": [],
   "source": [
    "outer_delaunay = outer_cloud.delaunay_2d()\n",
    "inner_delaunay = inner_cloud.delaunay_2d()"
   ]
  },
  {
   "cell_type": "code",
   "execution_count": 56,
   "metadata": {},
   "outputs": [
    {
     "data": {
      "application/vnd.jupyter.widget-view+json": {
       "model_id": "6258f9e3ac214b509b02dbac7a5ed692",
       "version_major": 2,
       "version_minor": 0
      },
      "text/plain": [
       "ViewInteractiveWidget(height=768, layout=Layout(height='auto', width='100%'), width=1024)"
      ]
     },
     "metadata": {},
     "output_type": "display_data"
    }
   ],
   "source": [
    "p = pv.Plotter()\n",
    "p.add_mesh(inner_delaunay, color='red', opacity=.5)\n",
    "p.add_mesh(outer_delaunay, color='blue', opacity=.5)\n",
    "p.show()"
   ]
  },
  {
   "cell_type": "markdown",
   "metadata": {},
   "source": [
    "This seems to work all right. Let's do some raytracing."
   ]
  },
  {
   "cell_type": "code",
   "execution_count": 57,
   "metadata": {},
   "outputs": [],
   "source": [
    "def build_delaunay(portion):\n",
    "    max_dist = portion[portion.groupby(['x', 'y'])['dist_to_cog'].transform(max) == portion['dist_to_cog']]\n",
    "    min_dist = portion[portion.groupby(['x', 'y'])['dist_to_cog'].transform(min) == portion['dist_to_cog']]\n",
    "\n",
    "    max_dist = [item[:3] for item in max_dist.to_numpy()]\n",
    "    min_dist = [item[:3] for item in min_dist.to_numpy()]\n",
    "    \n",
    "    outer_cloud = pv.PolyData(max_dist)\n",
    "    inner_cloud = pv.PolyData(min_dist)\n",
    "    \n",
    "    return outer_cloud.delaunay_2d(), inner_cloud.delaunay_2d()"
   ]
  },
  {
   "cell_type": "code",
   "execution_count": 58,
   "metadata": {},
   "outputs": [],
   "source": [
    "left_outer, left_inner = build_delaunay(left_portion)\n",
    "middle_outer, middle_inner = build_delaunay(middle_portion)\n",
    "right_outer, right_inner = build_delaunay(right_portion)"
   ]
  },
  {
   "cell_type": "code",
   "execution_count": 59,
   "metadata": {},
   "outputs": [],
   "source": [
    "left_out = left_outer.copy()\n",
    "left_out.points = np.array([[x[2], x[1], x[0]] for x in left_out.points])\n",
    "left_in = left_inner.copy()\n",
    "left_in.points = np.array([[x[2], x[1], x[0]] for x in left_in.points])\n",
    "\n",
    "middle_out = middle_outer.copy()\n",
    "middle_out.points = np.array([[x[0], x[1], x[2]] for x in middle_out.points])\n",
    "middle_in = middle_inner.copy()\n",
    "middle_in.points = np.array([[x[0], x[1], x[2]] for x in middle_in.points])\n",
    "\n",
    "right_out = right_outer.copy()\n",
    "right_out.points = np.array([[x[2], x[1], x[0]] for x in right_out.points])\n",
    "right_in = right_inner.copy()\n",
    "right_in.points = np.array([[x[2], x[1], x[0]] for x in right_in.points])"
   ]
  },
  {
   "cell_type": "code",
   "execution_count": 60,
   "metadata": {},
   "outputs": [
    {
     "data": {
      "application/vnd.jupyter.widget-view+json": {
       "model_id": "1da9bfa307634555b5cf5f311c897e36",
       "version_major": 2,
       "version_minor": 0
      },
      "text/plain": [
       "ViewInteractiveWidget(height=768, layout=Layout(height='auto', width='100%'), width=1024)"
      ]
     },
     "metadata": {},
     "output_type": "display_data"
    }
   ],
   "source": [
    "p = pv.Plotter()\n",
    "p.add_mesh(left_out, color='red')\n",
    "p.add_mesh(middle_out, color='red')\n",
    "p.add_mesh(right_out, color='red')\n",
    "p.add_mesh(left_in, color='green')\n",
    "p.add_mesh(middle_in, color='green')\n",
    "p.add_mesh(right_in, color='green')\n",
    "p.show_grid()\n",
    "p.add_legend([['bone-sided mesh', 'green'], ['cartilage-sided mesh', 'red']])\n",
    "p.add_title('Succesful construction of meshes for the femoral cartilage', font_size=10)\n",
    "\n",
    "p.show()\n",
    "p.render()\n",
    "p.save_graphic('femoral_meshes.svg')"
   ]
  },
  {
   "cell_type": "code",
   "execution_count": 61,
   "metadata": {},
   "outputs": [],
   "source": [
    "cluster = KMeans(n_clusters=1, random_state=0).fit(femoral_vectors)\n",
    "split_vector = cluster.cluster_centers_[0]\n",
    "femoral_split_vector = split_vector\n",
    "left_plate, right_plate = utility.split_into_plates(femoral_vectors, split_vector)\n",
    "\n",
    "first_split, second_split = utility.get_femoral_thirds(left_plate)\n",
    "left_femoral_regions = [first_split, second_split]\n",
    "\n",
    "first_split, second_split = utility.get_femoral_thirds(right_plate)\n",
    "right_femoral_regions = [first_split, second_split]"
   ]
  },
  {
   "cell_type": "code",
   "execution_count": 62,
   "metadata": {},
   "outputs": [],
   "source": [
    "def ray_trace(inner, outer):\n",
    "    average_thickness = dict()\n",
    "    n_points = inner.n_points\n",
    "    average_thickness['ecLF'] = np.zeros(n_points)\n",
    "    average_thickness['ccLF'] = np.zeros(n_points)\n",
    "    average_thickness['icLF'] = np.zeros(n_points)\n",
    "    average_thickness['icMF'] = np.zeros(n_points)\n",
    "    average_thickness['ccMF'] = np.zeros(n_points)\n",
    "    average_thickness['ecMF'] = np.zeros(n_points)\n",
    "    \n",
    "    inner_normals = inner.compute_normals(cell_normals=False)\n",
    "    inner_normals['distances'] = np.zeros(inner.n_points)\n",
    "    for i in range(inner_normals.n_points):\n",
    "        v = inner.points[i]\n",
    "        vec = inner_normals['Normals'][i] * inner_normals.length\n",
    "        v0 = v - vec\n",
    "        v1 = v + vec\n",
    "        iv, ic = outer.ray_trace(v0, v1, first_point=True)\n",
    "        dist = np.sqrt(np.sum((iv - v)**2))\n",
    "        inner_normals['distances'][i] = dist\n",
    "        label = utility.classify_femoral_point(v[:2], left_femoral_regions, right_femoral_regions, split_vector)\n",
    "        average_thickness[label][i] = dist\n",
    "    \n",
    "    return average_thickness"
   ]
  },
  {
   "cell_type": "code",
   "execution_count": 63,
   "metadata": {},
   "outputs": [],
   "source": [
    "left_thickness = ray_trace(left_inner, left_outer)\n",
    "middle_thickness = ray_trace(middle_inner, middle_outer)\n",
    "right_thickness = ray_trace(right_inner, right_outer)"
   ]
  },
  {
   "cell_type": "code",
   "execution_count": 64,
   "metadata": {},
   "outputs": [],
   "source": [
    "average_thickness = {key: np.hstack((left_thickness[key], middle_thickness[key], right_thickness[key])) for key in left_thickness.keys()}"
   ]
  },
  {
   "cell_type": "code",
   "execution_count": 65,
   "metadata": {},
   "outputs": [
    {
     "name": "stdout",
     "output_type": "stream",
     "text": [
      "ecLF: 4.129961834403946\n",
      "ccLF: 5.005532149065432\n",
      "icLF: 5.453199175673108\n",
      "icMF: 6.514685954736944\n",
      "ccMF: 4.35446237196326\n",
      "ecMF: 3.9881449550694197\n"
     ]
    }
   ],
   "source": [
    "for key, value in average_thickness.items():\n",
    "    mask = value == 0\n",
    "    value[mask] = np.nan\n",
    "    print(f'{key}: {np.nanmean(value)}')"
   ]
  },
  {
   "cell_type": "code",
   "execution_count": 66,
   "metadata": {},
   "outputs": [],
   "source": [
    "from collections import defaultdict\n"
   ]
  },
  {
   "cell_type": "code",
   "execution_count": 67,
   "metadata": {},
   "outputs": [
    {
     "data": {
      "text/plain": [
       "<module 'utility' from '/home/simon/knorpel_v2/utility.py'>"
      ]
     },
     "execution_count": 67,
     "metadata": {},
     "output_type": "execute_result"
    }
   ],
   "source": [
    "importlib.reload(utility)"
   ]
  },
  {
   "cell_type": "code",
   "execution_count": 68,
   "metadata": {},
   "outputs": [
    {
     "data": {
      "text/plain": [
       "array([[  0.,  88.,  44.],\n",
       "       [  0.,  90.,  48.],\n",
       "       [  0.,  89.,  45.],\n",
       "       ...,\n",
       "       [188.,  18.,  54.],\n",
       "       [188.,  23.,  53.],\n",
       "       [188.,  13.,  38.]])"
      ]
     },
     "execution_count": 68,
     "metadata": {},
     "output_type": "execute_result"
    }
   ],
   "source": [
    "df.to_numpy()[:,:3]"
   ]
  },
  {
   "cell_type": "code",
   "execution_count": 69,
   "metadata": {},
   "outputs": [
    {
     "name": "stderr",
     "output_type": "stream",
     "text": [
      "100%|███████████████████████████████| 122287/122287 [00:00<00:00, 307646.13it/s]\n"
     ]
    }
   ],
   "source": [
    "dd = defaultdict(list)\n",
    "for vector in tqdm(df.to_numpy()[:,:3]):\n",
    "    label = utility.classify_femoral_point(vector[:2], left_femoral_regions, right_femoral_regions, split_vector)\n",
    "    dd[label].append(vector)"
   ]
  },
  {
   "cell_type": "code",
   "execution_count": 70,
   "metadata": {},
   "outputs": [
    {
     "data": {
      "text/plain": [
       "dict_keys(['ccMF', 'ecMF', 'icMF', 'icLF', 'ccLF', 'ecLF'])"
      ]
     },
     "execution_count": 70,
     "metadata": {},
     "output_type": "execute_result"
    }
   ],
   "source": [
    "dd.keys()"
   ]
  },
  {
   "cell_type": "code",
   "execution_count": 71,
   "metadata": {},
   "outputs": [
    {
     "name": "stdout",
     "output_type": "stream",
     "text": [
      "[22, 34] [77, 88] [ 75.94043521  55.95815581 110.1472356 ]\n"
     ]
    }
   ],
   "source": [
    "print(left_femoral_regions, right_femoral_regions, split_vector)"
   ]
  },
  {
   "cell_type": "code",
   "execution_count": 72,
   "metadata": {},
   "outputs": [
    {
     "data": {
      "application/vnd.jupyter.widget-view+json": {
       "model_id": "6c509a603ffd44b9854b649a0b475c51",
       "version_major": 2,
       "version_minor": 0
      },
      "text/plain": [
       "ViewInteractiveWidget(height=768, layout=Layout(height='auto', width='100%'), width=1024)"
      ]
     },
     "metadata": {},
     "output_type": "display_data"
    }
   ],
   "source": [
    "p = pv.Plotter()\n",
    "p.add_mesh(pv.PolyData(dd['ecLF']), color='red')\n",
    "p.add_mesh(pv.PolyData(dd['icLF']), color='yellow')\n",
    "p.add_mesh(pv.PolyData(dd['ccLF']), color='green')\n",
    "p.add_mesh(pv.PolyData(dd['icMF']), color='pink')\n",
    "p.add_mesh(pv.PolyData(dd['ecMF']), color='red')\n",
    "p.add_mesh(pv.PolyData(dd['ccMF']), color='green')\n",
    "p.show_grid()\n",
    "p.add_legend([['external', 'red'], ['central', 'green'], ['internal (left)', 'yellow'], ['internal (right)', 'pink']])\n",
    "p.add_title('Subregions of the femoral cartilage')\n",
    "p.show()\n",
    "p.render()\n",
    "p.save_graphic('femoral_subregions.svg')"
   ]
  },
  {
   "cell_type": "markdown",
   "metadata": {},
   "source": [
    "Combine outer clouds for the regional classification"
   ]
  },
  {
   "cell_type": "code",
   "execution_count": 73,
   "metadata": {},
   "outputs": [],
   "source": [
    "ldf = pd.DataFrame(data=left_outer.points, columns=['x', 'y', 'z'])\n",
    "mdf = pd.DataFrame(data=middle_outer.points, columns=['x', 'y', 'z'])\n",
    "rdf = pd.DataFrame(data=right_outer.points, columns=['x', 'y', 'z'])\n",
    "\n",
    "ldf = ldf[['z', 'y', 'x']]\n",
    "ldf.columns = ['x', 'y', 'z']\n",
    "\n",
    "rdf = rdf[['z', 'y', 'x']]\n",
    "rdf.columns = ['x', 'y', 'z']\n",
    "\n",
    "cdf = pd.concat([ldf, mdf, rdf])"
   ]
  },
  {
   "cell_type": "code",
   "execution_count": 74,
   "metadata": {},
   "outputs": [
    {
     "data": {
      "application/vnd.jupyter.widget-view+json": {
       "model_id": "69f7be338b6a40bda94cefadb0a7b6bb",
       "version_major": 2,
       "version_minor": 0
      },
      "text/plain": [
       "ViewInteractiveWidget(height=768, layout=Layout(height='auto', width='100%'), width=1024)"
      ]
     },
     "metadata": {},
     "output_type": "display_data"
    }
   ],
   "source": [
    "# outer_stack = np.vstack((left_outer.points, middle_outer.points, right_outer.points))\n",
    "pv.PolyData(cdf.to_numpy()).plot()"
   ]
  },
  {
   "cell_type": "markdown",
   "metadata": {},
   "source": [
    "### Sphere approach for the tibial cartilage\n",
    "Because why not?"
   ]
  },
  {
   "cell_type": "code",
   "execution_count": 80,
   "metadata": {},
   "outputs": [],
   "source": [
    "x, y, z, xy = utility.get_xyz(tibial_vectors)\n",
    "df = pd.DataFrame(data={'x': z, 'y': y, 'z': x}, columns=['x', 'y', 'z'])"
   ]
  },
  {
   "cell_type": "code",
   "execution_count": 81,
   "metadata": {},
   "outputs": [
    {
     "data": {
      "text/html": [
       "<div>\n",
       "<style scoped>\n",
       "    .dataframe tbody tr th:only-of-type {\n",
       "        vertical-align: middle;\n",
       "    }\n",
       "\n",
       "    .dataframe tbody tr th {\n",
       "        vertical-align: top;\n",
       "    }\n",
       "\n",
       "    .dataframe thead th {\n",
       "        text-align: right;\n",
       "    }\n",
       "</style>\n",
       "<table border=\"1\" class=\"dataframe\">\n",
       "  <thead>\n",
       "    <tr style=\"text-align: right;\">\n",
       "      <th></th>\n",
       "      <th>x</th>\n",
       "      <th>y</th>\n",
       "      <th>z</th>\n",
       "      <th>dist_to_cog</th>\n",
       "    </tr>\n",
       "  </thead>\n",
       "  <tbody>\n",
       "    <tr>\n",
       "      <th>0</th>\n",
       "      <td>76</td>\n",
       "      <td>0</td>\n",
       "      <td>23</td>\n",
       "      <td>57.768936</td>\n",
       "    </tr>\n",
       "    <tr>\n",
       "      <th>1</th>\n",
       "      <td>77</td>\n",
       "      <td>0</td>\n",
       "      <td>23</td>\n",
       "      <td>57.976288</td>\n",
       "    </tr>\n",
       "    <tr>\n",
       "      <th>2</th>\n",
       "      <td>78</td>\n",
       "      <td>0</td>\n",
       "      <td>23</td>\n",
       "      <td>58.200086</td>\n",
       "    </tr>\n",
       "    <tr>\n",
       "      <th>3</th>\n",
       "      <td>79</td>\n",
       "      <td>0</td>\n",
       "      <td>23</td>\n",
       "      <td>58.440140</td>\n",
       "    </tr>\n",
       "    <tr>\n",
       "      <th>4</th>\n",
       "      <td>62</td>\n",
       "      <td>0</td>\n",
       "      <td>24</td>\n",
       "      <td>56.375970</td>\n",
       "    </tr>\n",
       "    <tr>\n",
       "      <th>...</th>\n",
       "      <td>...</td>\n",
       "      <td>...</td>\n",
       "      <td>...</td>\n",
       "      <td>...</td>\n",
       "    </tr>\n",
       "    <tr>\n",
       "      <th>35793</th>\n",
       "      <td>68</td>\n",
       "      <td>108</td>\n",
       "      <td>23</td>\n",
       "      <td>56.720807</td>\n",
       "    </tr>\n",
       "    <tr>\n",
       "      <th>35794</th>\n",
       "      <td>69</td>\n",
       "      <td>108</td>\n",
       "      <td>23</td>\n",
       "      <td>56.791285</td>\n",
       "    </tr>\n",
       "    <tr>\n",
       "      <th>35795</th>\n",
       "      <td>70</td>\n",
       "      <td>108</td>\n",
       "      <td>23</td>\n",
       "      <td>56.879258</td>\n",
       "    </tr>\n",
       "    <tr>\n",
       "      <th>35796</th>\n",
       "      <td>71</td>\n",
       "      <td>108</td>\n",
       "      <td>23</td>\n",
       "      <td>56.984647</td>\n",
       "    </tr>\n",
       "    <tr>\n",
       "      <th>35797</th>\n",
       "      <td>72</td>\n",
       "      <td>108</td>\n",
       "      <td>23</td>\n",
       "      <td>57.107355</td>\n",
       "    </tr>\n",
       "  </tbody>\n",
       "</table>\n",
       "<p>35798 rows × 4 columns</p>\n",
       "</div>"
      ],
      "text/plain": [
       "        x    y   z  dist_to_cog\n",
       "0      76    0  23    57.768936\n",
       "1      77    0  23    57.976288\n",
       "2      78    0  23    58.200086\n",
       "3      79    0  23    58.440140\n",
       "4      62    0  24    56.375970\n",
       "...    ..  ...  ..          ...\n",
       "35793  68  108  23    56.720807\n",
       "35794  69  108  23    56.791285\n",
       "35795  70  108  23    56.879258\n",
       "35796  71  108  23    56.984647\n",
       "35797  72  108  23    57.107355\n",
       "\n",
       "[35798 rows x 4 columns]"
      ]
     },
     "execution_count": 81,
     "metadata": {},
     "output_type": "execute_result"
    }
   ],
   "source": [
    "center = np.array([df.x.min() + (df.x.max() - df.x.min()) / 2,\n",
    "                   df.y.min() + (df.y.max() - df.y.min()) / 2,\n",
    "                   df.z.max() * 1.25])\n",
    "                   #df.z.min() + (df.z.max() - df.z.min()) / 2])\n",
    "\n",
    "df['dist_to_cog'] = np.zeros(df.shape[0])\n",
    "df['dist_to_cog'] = df.apply(lambda l: utility.vector_distance([l.x, l.y, l.z], center), axis=1)\n",
    "df"
   ]
  },
  {
   "cell_type": "code",
   "execution_count": 82,
   "metadata": {},
   "outputs": [
    {
     "data": {
      "text/html": [
       "<table><tr><th>Header</th><th>Data Arrays</th></tr><tr><td>\n",
       "<table>\n",
       "<tr><th>PolyData</th><th>Information</th></tr>\n",
       "<tr><td>N Cells</td><td>1680</td></tr>\n",
       "<tr><td>N Points</td><td>842</td></tr>\n",
       "<tr><td>X Bounds</td><td>6.350e+01, 6.550e+01</td></tr>\n",
       "<tr><td>Y Bounds</td><td>5.301e+01, 5.499e+01</td></tr>\n",
       "<tr><td>Z Bounds</td><td>3.900e+01, 4.100e+01</td></tr>\n",
       "<tr><td>N Arrays</td><td>1</td></tr>\n",
       "</table>\n",
       "\n",
       "</td><td>\n",
       "<table>\n",
       "<tr><th>Name</th><th>Field</th><th>Type</th><th>N Comp</th><th>Min</th><th>Max</th></tr>\n",
       "<tr><td>Normals</td><td>Points</td><td>float32</td><td>3</td><td>-1.000e+00</td><td>1.000e+00</td></tr>\n",
       "</table>\n",
       "\n",
       "</td></tr> </table>"
      ],
      "text/plain": [
       "PolyData (0x7fb82466ee20)\n",
       "  N Cells:\t1680\n",
       "  N Points:\t842\n",
       "  X Bounds:\t6.350e+01, 6.550e+01\n",
       "  Y Bounds:\t5.301e+01, 5.499e+01\n",
       "  Z Bounds:\t3.900e+01, 4.100e+01\n",
       "  N Arrays:\t1"
      ]
     },
     "execution_count": 82,
     "metadata": {},
     "output_type": "execute_result"
    }
   ],
   "source": [
    "num_sp = 30\n",
    "sphere = pv.Sphere(center=center, radius=1, theta_resolution=num_sp, phi_resolution=num_sp)\n",
    "sphere.compute_normals(point_normals=True, cell_normals=False, inplace=True)"
   ]
  },
  {
   "cell_type": "code",
   "execution_count": 86,
   "metadata": {},
   "outputs": [
    {
     "data": {
      "application/vnd.jupyter.widget-view+json": {
       "model_id": "70e4b1e8280b418889419dd24fad5ae7",
       "version_major": 2,
       "version_minor": 0
      },
      "text/plain": [
       "ViewInteractiveWidget(height=768, layout=Layout(height='auto', width='100%'), width=1024)"
      ]
     },
     "metadata": {},
     "output_type": "display_data"
    }
   ],
   "source": [
    "p = pv.Plotter()\n",
    "p.add_mesh(pv.PolyData(df.to_numpy()[:,0:3]), color='red')\n",
    "p.add_mesh(sphere, color='green')\n",
    "# p.add_mesh(sphere.glyph(scale='Normals', orient='Normals', tolerance=0.05), color='blue')\n",
    "p.add_arrows(sphere.points, sphere['Normals'], 5)\n",
    "p.show_grid()\n",
    "p.add_title('Sphere placement for the tibial cartilage')\n",
    "p.show()\n",
    "p.render()\n",
    "p.save_graphic('tibial_sphere.svg')"
   ]
  },
  {
   "cell_type": "markdown",
   "metadata": {},
   "source": [
    "### Extraction of the weight-bearing zone of the femoral cartilage"
   ]
  },
  {
   "cell_type": "code",
   "execution_count": 25,
   "metadata": {},
   "outputs": [
    {
     "name": "stderr",
     "output_type": "stream",
     "text": [
      "100%|█████████████████████████████████████████████████████████████████████████████████████████████| 160/160 [02:45<00:00,  1.04s/it]\n"
     ]
    }
   ],
   "source": [
    "femoral_cartilage_new = [0] * (np_image.shape[0] * np_image.shape[1] * np_image.shape[2])\n",
    "tibial_cartilage_new = [0] * (np_image.shape[0] * np_image.shape[1] * np_image.shape[2])\n",
    "tindx = 0\n",
    "findx = 0\n",
    "for y in tqdm(range(np_image.shape[0])):\n",
    "    for x in range(np_image.shape[1]):\n",
    "        for z in range(np_image.shape[2]):\n",
    "            if np_image[y,x,z] == 3:\n",
    "                femoral_cartilage_new[findx] = [x, y, z]\n",
    "                findx += 1\n",
    "            if np_image[y,x,z] == 4:\n",
    "                tibial_cartilage_new[tindx] = [x, y, z]\n",
    "                tindx += 1\n",
    "\n",
    "femoral_cartilage_new = np.array(femoral_cartilage_new, dtype=object)\n",
    "femoral_cartilage_new = femoral_cartilage_new[femoral_cartilage_new != 0] \n",
    "femoral_cartilage_new = [list(element) for element in femoral_cartilage_new]\n",
    "\n",
    "tibial_cartilage_new = np.array(tibial_cartilage_new, dtype=object)\n",
    "tibial_cartilage_new = tibial_cartilage_new[tibial_cartilage_new != 0] \n",
    "tibial_cartilage_new = [list(element) for element in tibial_cartilage_new]"
   ]
  },
  {
   "cell_type": "code",
   "execution_count": 26,
   "metadata": {},
   "outputs": [
    {
     "name": "stderr",
     "output_type": "stream",
     "text": [
      "100%|███████████████████████████████████████████████████████████████████████████████████████| 11110/11110 [00:01<00:00, 7093.24it/s]\n"
     ]
    },
    {
     "data": {
      "text/plain": [
       "dict_keys(['aLT', 'iLT', 'aMT', 'eLT', 'eMT', 'iMT', 'cLT', 'cMT', 'pLT', 'pMT'])"
      ]
     },
     "execution_count": 26,
     "metadata": {},
     "output_type": "execute_result"
    }
   ],
   "source": [
    "x, y, z, xy = utility.get_xyz(tibial_cartilage_new)\n",
    "df = pd.DataFrame(data={'x': z, 'y': y, 'z': x}, columns=['x', 'y', 'z'])\n",
    "max_z = df.groupby(['x', 'y']).max()\n",
    "min_z = df.groupby(['x', 'y']).min()\n",
    "\n",
    "tmp1 = [np.array(item) for item in max_z.index]\n",
    "tmp2 = [item for item in max_z.to_numpy()]\n",
    "max_z = np.column_stack((tmp1, tmp2))\n",
    "\n",
    "tmp1 = [np.array(item) for item in min_z.index]\n",
    "tmp2 = [item for item in min_z.to_numpy()]\n",
    "min_z = np.column_stack((tmp1, tmp2))\n",
    "\n",
    "upper_cloud = pv.PolyData(max_z)\n",
    "\n",
    "dd = defaultdict(list)\n",
    "left_tibial_regions, right_tibial_regions, split_vector = utility.tibial_landmarks(max_z)\n",
    "for v in tqdm(max_z):\n",
    "    vector = np.array(v)\n",
    "    # print(vector)\n",
    "    label = utility.classify_tibial_point(vector[:2], left_tibial_regions, right_tibial_regions, split_vector)\n",
    "    dd[label].append(vector)\n",
    "\n",
    "dd.keys()"
   ]
  },
  {
   "cell_type": "code",
   "execution_count": 27,
   "metadata": {},
   "outputs": [],
   "source": [
    "wbl = np.vstack((np.array(dd['eLT']), np.array(dd['cLT']), np.array(dd['iLT'])))\n",
    "wbr = np.vstack((np.array(dd['iMT']), np.array(dd['cMT']), np.array(dd['eMT'])))"
   ]
  },
  {
   "cell_type": "code",
   "execution_count": 28,
   "metadata": {},
   "outputs": [],
   "source": [
    "tdfr = pd.DataFrame(data={'x': wbr[:,0], 'y': wbr[:,1], 'z': wbr[:,2]})\n",
    "tdfl = pd.DataFrame(data={'x': wbl[:,0], 'y': wbl[:,1], 'z': wbl[:,2]})"
   ]
  },
  {
   "cell_type": "code",
   "execution_count": 29,
   "metadata": {},
   "outputs": [
    {
     "name": "stdout",
     "output_type": "stream",
     "text": [
      "245 265 278\n"
     ]
    }
   ],
   "source": [
    "print(max(np.array(dd['cMT'])[:,0]), max(np.array(dd['eMT'])[:,0]), max(np.array(dd['iMT'])[:,0]))"
   ]
  },
  {
   "cell_type": "code",
   "execution_count": 30,
   "metadata": {},
   "outputs": [],
   "source": [
    "tdfr = tdfr.loc[tdfr['x'] < max(np.array(dd['cMT'])[:,0])].loc[tdfr['x'] > min(np.array(dd['cMT'])[:,0])]\n",
    "tdfl = tdfl.loc[tdfl['x'] < max(np.array(dd['cLT'])[:,0])].loc[tdfl['x'] > min(np.array(dd['cLT'])[:,0])]"
   ]
  },
  {
   "cell_type": "code",
   "execution_count": 31,
   "metadata": {},
   "outputs": [],
   "source": [
    "x, y, z, xy = utility.get_xyz(femoral_cartilage_new)\n",
    "df = pd.DataFrame(data={'x': z, 'y': y, 'z': x}, columns=['x', 'y', 'z'])\n",
    "fdfl = df.loc[df['y'] < df['y'].mean()]\n",
    "fdfr = df.loc[df['y'] >= df['y'].mean()]"
   ]
  },
  {
   "cell_type": "code",
   "execution_count": 32,
   "metadata": {},
   "outputs": [
    {
     "data": {
      "application/vnd.jupyter.widget-view+json": {
       "model_id": "db5783fe993f4796b267ed4907a5f2dc",
       "version_major": 2,
       "version_minor": 0
      },
      "text/plain": [
       "ViewInteractiveWidget(height=768, layout=Layout(height='auto', width='100%'), width=1024)"
      ]
     },
     "metadata": {},
     "output_type": "display_data"
    }
   ],
   "source": [
    "p = pv.Plotter()\n",
    "p.add_mesh(pv.PolyData(fdfl.to_numpy()), color='blue')\n",
    "p.add_mesh(pv.PolyData(fdfr.to_numpy()), color='purple')\n",
    "p.add_mesh(pv.PolyData(tdfl.to_numpy()), color='green')\n",
    "p.add_mesh(pv.PolyData(tdfr.to_numpy()), color='yellow')\n",
    "p.show()"
   ]
  },
  {
   "cell_type": "code",
   "execution_count": 33,
   "metadata": {},
   "outputs": [
    {
     "data": {
      "text/plain": [
       "array([ 99.70456359, 100.24968828,  99.02524931, ...,  22.04540769,\n",
       "        21.42428529,  20.83266666])"
      ]
     },
     "execution_count": 33,
     "metadata": {},
     "output_type": "execute_result"
    }
   ],
   "source": [
    "tree = KDTree(tdfl.to_numpy())\n",
    "d, idx = tree.query(fdfl.to_numpy())\n",
    "d"
   ]
  },
  {
   "cell_type": "code",
   "execution_count": 34,
   "metadata": {},
   "outputs": [],
   "source": [
    "# wbz = np.array(femoral_cartilage_new)[np.where(d < 10)]\n",
    "wbz = np.array(fdfl.to_numpy()[np.where(d < 10)])"
   ]
  },
  {
   "cell_type": "code",
   "execution_count": 35,
   "metadata": {},
   "outputs": [
    {
     "data": {
      "application/vnd.jupyter.widget-view+json": {
       "model_id": "a89e60d7075842549ce2a281253fc9d6",
       "version_major": 2,
       "version_minor": 0
      },
      "text/plain": [
       "ViewInteractiveWidget(height=768, layout=Layout(height='auto', width='100%'), width=1024)"
      ]
     },
     "metadata": {},
     "output_type": "display_data"
    }
   ],
   "source": [
    "p = pv.Plotter()\n",
    "p.add_mesh(pv.PolyData(fdfl.to_numpy()), color='blue')\n",
    "p.add_mesh(pv.PolyData(tdfl.to_numpy()), color='green')\n",
    "p.add_mesh(pv.PolyData(wbz), color='red')\n",
    "#p.show_grid()\n",
    "p.show()"
   ]
  },
  {
   "cell_type": "code",
   "execution_count": 36,
   "metadata": {},
   "outputs": [],
   "source": [
    "minx = tdfl['x'].min()\n",
    "maxx = tdfl['x'].max()\n",
    "miny = tdfl['y'].min()\n",
    "maxy = tdfl['y'].max()\n",
    "wbz = fdfl.loc[fdfl['x'] > minx].loc[fdfl['x'] < maxx].loc[fdfl['y'] > miny].loc[fdfl['y'] < maxy].to_numpy()"
   ]
  },
  {
   "cell_type": "code",
   "execution_count": 37,
   "metadata": {},
   "outputs": [
    {
     "data": {
      "application/vnd.jupyter.widget-view+json": {
       "model_id": "44de1ce79fc24767b666dbbd462d20c5",
       "version_major": 2,
       "version_minor": 0
      },
      "text/plain": [
       "ViewInteractiveWidget(height=768, layout=Layout(height='auto', width='100%'), width=1024)"
      ]
     },
     "metadata": {},
     "output_type": "display_data"
    }
   ],
   "source": [
    "p = pv.Plotter()\n",
    "p.add_mesh(pv.PolyData(fdfl.to_numpy()), color='blue')\n",
    "p.add_mesh(pv.PolyData(tdfl.to_numpy()), color='green')\n",
    "p.add_mesh(pv.PolyData(fdfr.to_numpy()), color='orange')\n",
    "p.add_mesh(pv.PolyData(wbz), color='red')\n",
    "#p.show_grid()\n",
    "p.show()"
   ]
  },
  {
   "cell_type": "markdown",
   "metadata": {},
   "source": [
    "# New approach for the femur"
   ]
  },
  {
   "cell_type": "code",
   "execution_count": 5,
   "metadata": {},
   "outputs": [
    {
     "data": {
      "text/plain": [
       "<module 'utility' from '/home/simon/knorpel_v2/utility.py'>"
      ]
     },
     "execution_count": 5,
     "metadata": {},
     "output_type": "execute_result"
    }
   ],
   "source": [
    "importlib.reload(utility)"
   ]
  },
  {
   "cell_type": "code",
   "execution_count": 6,
   "metadata": {},
   "outputs": [],
   "source": [
    "cwbzl, cwbzr = utility.extract_central_weightbearing_zone(femoral_vectors, tibial_vectors)"
   ]
  },
  {
   "cell_type": "code",
   "execution_count": 7,
   "metadata": {},
   "outputs": [
    {
     "data": {
      "application/vnd.jupyter.widget-view+json": {
       "model_id": "30bdba2592d44021a4168c535a5d6b62",
       "version_major": 2,
       "version_minor": 0
      },
      "text/plain": [
       "ViewInteractiveWidget(height=768, layout=Layout(height='auto', width='100%'), width=1024)"
      ]
     },
     "metadata": {},
     "output_type": "display_data"
    }
   ],
   "source": [
    "x, y, z, xy = utility.get_xyz(femoral_vectors)\n",
    "df = pd.DataFrame(data={'x': z, 'y': y, 'z': x}, columns=['x', 'y', 'z'])\n",
    "p = pv.Plotter()\n",
    "p.add_mesh(pv.PolyData(df.to_numpy()))\n",
    "p.add_mesh(pv.PolyData(cwbzl.to_numpy()), color='red')\n",
    "p.add_mesh(pv.PolyData(cwbzr.to_numpy()), color='green')\n",
    "p.show()"
   ]
  },
  {
   "cell_type": "code",
   "execution_count": 9,
   "metadata": {},
   "outputs": [],
   "source": [
    "lower_mesh_left, upper_mesh_left = utility.build_femoral_meshes(cwbzl)\n",
    "lower_mesh_right, upper_mesh_right = utility.build_femoral_meshes(cwbzr)"
   ]
  },
  {
   "cell_type": "code",
   "execution_count": 10,
   "metadata": {},
   "outputs": [
    {
     "data": {
      "application/vnd.jupyter.widget-view+json": {
       "model_id": "adcd7c8d47024d358d0390e6d13eca48",
       "version_major": 2,
       "version_minor": 0
      },
      "text/plain": [
       "ViewInteractiveWidget(height=768, layout=Layout(height='auto', width='100%'), width=1024)"
      ]
     },
     "metadata": {},
     "output_type": "display_data"
    }
   ],
   "source": [
    "p = pv.Plotter()\n",
    "p.add_mesh(lower_mesh_left, color='red')\n",
    "p.add_mesh(lower_mesh_right, color='blue')\n",
    "p.add_mesh(upper_mesh_left, color='green')\n",
    "p.add_mesh(upper_mesh_right, color='purple')\n",
    "p.show()"
   ]
  },
  {
   "cell_type": "code",
   "execution_count": 11,
   "metadata": {},
   "outputs": [
    {
     "data": {
      "application/vnd.jupyter.widget-view+json": {
       "model_id": "b7d76e0f2541413187979c5376d838bb",
       "version_major": 2,
       "version_minor": 0
      },
      "text/plain": [
       "ViewInteractiveWidget(height=768, layout=Layout(height='auto', width='100%'), width=1024)"
      ]
     },
     "metadata": {},
     "output_type": "display_data"
    }
   ],
   "source": [
    "p = pv.Plotter()\n",
    "p.add_mesh(lower_mesh_left, color='red')\n",
    "p.add_mesh(lower_mesh_right, color='blue')\n",
    "p.show()"
   ]
  },
  {
   "cell_type": "code",
   "execution_count": 12,
   "metadata": {},
   "outputs": [
    {
     "data": {
      "application/vnd.jupyter.widget-view+json": {
       "model_id": "76ff55bc526d4724a4f0956ea269c32c",
       "version_major": 2,
       "version_minor": 0
      },
      "text/plain": [
       "ViewInteractiveWidget(height=768, layout=Layout(height='auto', width='100%'), width=1024)"
      ]
     },
     "metadata": {},
     "output_type": "display_data"
    }
   ],
   "source": [
    "p = pv.Plotter()\n",
    "p.add_mesh(upper_mesh_left, color='green')\n",
    "p.add_mesh(upper_mesh_right, color='purple')\n",
    "p.show()"
   ]
  },
  {
   "cell_type": "code",
   "execution_count": 13,
   "metadata": {},
   "outputs": [],
   "source": [
    "left_landmarks = utility.femoral_landmarks(upper_mesh_left.points)\n",
    "right_landmarks = utility.femoral_landmarks(upper_mesh_right.points)"
   ]
  },
  {
   "cell_type": "code",
   "execution_count": 14,
   "metadata": {},
   "outputs": [],
   "source": [
    "left_left_portion = cwbzl.loc[cwbzl['y'] < left_landmarks[0]]\n",
    "left_middle_portion = cwbzl.loc[cwbzl['y'] >= left_landmarks[0]].loc[cwbzl['y'] < left_landmarks[1]]\n",
    "left_right_portion = cwbzl.loc[cwbzl['y'] >= left_landmarks[1]]"
   ]
  },
  {
   "cell_type": "code",
   "execution_count": 15,
   "metadata": {},
   "outputs": [
    {
     "data": {
      "application/vnd.jupyter.widget-view+json": {
       "model_id": "570bd42a42c447039d98f4fd4e0f9e36",
       "version_major": 2,
       "version_minor": 0
      },
      "text/plain": [
       "ViewInteractiveWidget(height=768, layout=Layout(height='auto', width='100%'), width=1024)"
      ]
     },
     "metadata": {},
     "output_type": "display_data"
    }
   ],
   "source": [
    "p = pv.Plotter()\n",
    "p.add_mesh(pv.PolyData(left_left_portion.to_numpy()), color='blue')\n",
    "p.add_mesh(pv.PolyData(left_middle_portion.to_numpy()), color='red')\n",
    "p.add_mesh(pv.PolyData(left_right_portion.to_numpy()), color='green')\n",
    "p.show()"
   ]
  },
  {
   "cell_type": "code",
   "execution_count": 16,
   "metadata": {},
   "outputs": [],
   "source": [
    "left_right_portion = left_right_portion[['z', 'y', 'x']]\n",
    "left_right_portion.columns = ['x', 'y', 'z']"
   ]
  },
  {
   "cell_type": "code",
   "execution_count": 17,
   "metadata": {},
   "outputs": [],
   "source": [
    "left_portion_lower_mesh, left_portion_upper_mesh = utility.build_tibial_meshes(left_left_portion.to_numpy())\n",
    "middle_portion_lower_mesh, middle_portion_upper_mesh = utility.build_tibial_meshes(left_middle_portion.to_numpy())\n",
    "right_portion_lower_mesh, right_portion_upper_mesh = utility.build_tibial_meshes(left_right_portion.to_numpy())"
   ]
  },
  {
   "cell_type": "code",
   "execution_count": 18,
   "metadata": {},
   "outputs": [
    {
     "data": {
      "application/vnd.jupyter.widget-view+json": {
       "model_id": "fe12cc34a5624190a7e4916b92bf773f",
       "version_major": 2,
       "version_minor": 0
      },
      "text/plain": [
       "ViewInteractiveWidget(height=768, layout=Layout(height='auto', width='100%'), width=1024)"
      ]
     },
     "metadata": {},
     "output_type": "display_data"
    }
   ],
   "source": [
    "p = pv.Plotter()\n",
    "p.add_mesh(left_portion_lower_mesh, color='blue')\n",
    "p.add_mesh(middle_portion_lower_mesh, color='red')\n",
    "p.add_mesh(right_portion_lower_mesh, color='green')\n",
    "p.show()"
   ]
  },
  {
   "cell_type": "code",
   "execution_count": 19,
   "metadata": {},
   "outputs": [
    {
     "name": "stderr",
     "output_type": "stream",
     "text": [
      "100%|█████████████████████████████████████████████████████████████████████████████████████| 10120/10120 [00:00<00:00, 441887.18it/s]\n"
     ]
    }
   ],
   "source": [
    "dd = defaultdict(list)\n",
    "for vector in tqdm(cwbzl.to_numpy()[:,:3]):\n",
    "    label = utility.classify_femoral_point(vector[:2], left_landmarks, True)\n",
    "    dd[label].append(vector)"
   ]
  },
  {
   "cell_type": "code",
   "execution_count": 20,
   "metadata": {},
   "outputs": [
    {
     "data": {
      "text/plain": [
       "dict_keys(['ecLF', 'ccLF', 'icLF'])"
      ]
     },
     "execution_count": 20,
     "metadata": {},
     "output_type": "execute_result"
    }
   ],
   "source": [
    "dd.keys()"
   ]
  },
  {
   "cell_type": "code",
   "execution_count": 21,
   "metadata": {},
   "outputs": [
    {
     "data": {
      "application/vnd.jupyter.widget-view+json": {
       "model_id": "787829aa9ca54ac1b378a56ccf4f6f68",
       "version_major": 2,
       "version_minor": 0
      },
      "text/plain": [
       "ViewInteractiveWidget(height=768, layout=Layout(height='auto', width='100%'), width=1024)"
      ]
     },
     "metadata": {},
     "output_type": "display_data"
    }
   ],
   "source": [
    "p = pv.Plotter()\n",
    "p.add_mesh(pv.PolyData(dd['ecLF']), color='red')\n",
    "p.add_mesh(pv.PolyData(dd['icLF']), color='yellow')\n",
    "p.add_mesh(pv.PolyData(dd['ccLF']), color='green')\n",
    "p.show_grid()\n",
    "p.add_legend([['external', 'red'], ['central', 'green'], ['internal (left)', 'yellow'], ['internal (right)', 'pink']])\n",
    "p.add_title('Subregions of the femoral cartilage')\n",
    "p.show()\n",
    "# p.render()\n",
    "# p.save_graphic('femoral_subregions.svg')"
   ]
  },
  {
   "cell_type": "code",
   "execution_count": 22,
   "metadata": {},
   "outputs": [
    {
     "name": "stderr",
     "output_type": "stream",
     "text": [
      "100%|█████████████████████████████████████████████████████████████████████████████████████| 11410/11410 [00:00<00:00, 417214.52it/s]\n"
     ]
    }
   ],
   "source": [
    "dd = defaultdict(list)\n",
    "for vector in tqdm(cwbzr.to_numpy()[:,:3]):\n",
    "    label = utility.classify_femoral_point(vector[:2], right_landmarks, False)\n",
    "    dd[label].append(vector)"
   ]
  },
  {
   "cell_type": "code",
   "execution_count": 23,
   "metadata": {},
   "outputs": [
    {
     "data": {
      "text/plain": [
       "dict_keys(['icMF', 'ccMF', 'ecMF'])"
      ]
     },
     "execution_count": 23,
     "metadata": {},
     "output_type": "execute_result"
    }
   ],
   "source": [
    "dd.keys()"
   ]
  },
  {
   "cell_type": "code",
   "execution_count": 24,
   "metadata": {},
   "outputs": [
    {
     "data": {
      "application/vnd.jupyter.widget-view+json": {
       "model_id": "e9cecc3f25ee4ba9a630b34e048f3112",
       "version_major": 2,
       "version_minor": 0
      },
      "text/plain": [
       "ViewInteractiveWidget(height=768, layout=Layout(height='auto', width='100%'), width=1024)"
      ]
     },
     "metadata": {},
     "output_type": "display_data"
    }
   ],
   "source": [
    "p = pv.Plotter()\n",
    "p.add_mesh(pv.PolyData(dd['icMF']), color='pink')\n",
    "p.add_mesh(pv.PolyData(dd['ecMF']), color='red')\n",
    "p.add_mesh(pv.PolyData(dd['ccMF']), color='green')\n",
    "p.show_grid()\n",
    "p.add_legend([['external', 'red'], ['central', 'green'], ['internal (left)', 'yellow'], ['internal (right)', 'pink']])\n",
    "p.add_title('Subregions of the femoral cartilage')\n",
    "p.show()\n",
    "# p.render()\n",
    "# p.save_graphic('femoral_subregions.svg')"
   ]
  },
  {
   "cell_type": "code",
   "execution_count": 25,
   "metadata": {},
   "outputs": [],
   "source": [
    "left_thickness = dict()\n",
    "left_thickness['ecLF'] = np.zeros(lower_mesh_left.n_points)\n",
    "left_thickness['ccLF'] = np.zeros(lower_mesh_left.n_points)\n",
    "left_thickness['icLF'] = np.zeros(lower_mesh_left.n_points)\n",
    "\n",
    "right_thickness = dict()\n",
    "right_thickness['icMF'] = np.zeros(lower_mesh_right.n_points)\n",
    "right_thickness['ccMF'] = np.zeros(lower_mesh_right.n_points)\n",
    "right_thickness['ecMF'] = np.zeros(lower_mesh_right.n_points)\n",
    "\n",
    "left_normals = lower_mesh_left.compute_normals(cell_normals=False)\n",
    "right_normals = lower_mesh_right.compute_normals(cell_normals=False)\n",
    "\n",
    "_, left_thickness = utility.calculate_femoral_thickness(left_normals, lower_mesh_left, upper_mesh_left, sitk_image, left_landmarks, left_thickness, True)\n",
    "_, right_thickness = utility.calculate_femoral_thickness(right_normals, lower_mesh_right, upper_mesh_right, sitk_image, right_landmarks, right_thickness, False)"
   ]
  },
  {
   "cell_type": "code",
   "execution_count": 26,
   "metadata": {},
   "outputs": [],
   "source": [
    "femoral_thickness = dict()\n",
    "femoral_thickness.update(left_thickness)\n",
    "femoral_thickness.update(right_thickness)"
   ]
  },
  {
   "cell_type": "code",
   "execution_count": 27,
   "metadata": {},
   "outputs": [
    {
     "data": {
      "text/plain": [
       "{'ecLF': array([18.14957944,  4.18986655,  3.04591173, ...,  0.        ,\n",
       "         0.        ,  0.        ]),\n",
       " 'ccLF': array([0., 0., 0., ..., 0., 0., 0.]),\n",
       " 'icLF': array([0.      , 0.      , 0.      , ..., 4.199988, 2.799992, 0.699998]),\n",
       " 'icMF': array([0.699998, 0.699998, 1.399996, ..., 0.      , 0.      , 0.      ]),\n",
       " 'ccMF': array([0., 0., 0., ..., 0., 0., 0.]),\n",
       " 'ecMF': array([0., 0., 0., ..., 0., 0., 0.])}"
      ]
     },
     "execution_count": 27,
     "metadata": {},
     "output_type": "execute_result"
    }
   ],
   "source": [
    "femoral_thickness"
   ]
  },
  {
   "cell_type": "code",
   "execution_count": 28,
   "metadata": {},
   "outputs": [],
   "source": [
    "keys = set(femoral_thickness.keys())\n",
    "for key in keys:\n",
    "    value = femoral_thickness[key]\n",
    "    mask = value == 0\n",
    "    value[mask] = np.nan\n",
    "    femoral_thickness[key + '.aSD'] = np.nanstd(value)\n",
    "    femoral_thickness[key + '.aMav'] = np.nanmean(-np.sort(-value)[:math.ceil(len(value) * 0.01)])\n",
    "    femoral_thickness[key + '.aMiv'] = np.nanmean(np.sort(value)[:math.ceil(len(value) * 0.01)])\n",
    "    femoral_thickness[key] = np.nanmean(value)"
   ]
  },
  {
   "cell_type": "code",
   "execution_count": 29,
   "metadata": {},
   "outputs": [
    {
     "data": {
      "text/plain": [
       "{'ecLF': 3.8171511474057933,\n",
       " 'ccLF': 5.515698179776914,\n",
       " 'icLF': 3.9921458975019375,\n",
       " 'icMF': 3.203264268879522,\n",
       " 'ccMF': 5.989148381375881,\n",
       " 'ecMF': 3.763880590630727,\n",
       " 'icMF.aSD': 1.1406065762772055,\n",
       " 'icMF.aMav': 5.116829016211624,\n",
       " 'icMF.aMiv': 0.6999980000000002,\n",
       " 'icLF.aSD': 1.3112522511015228,\n",
       " 'icLF.aMav': 7.846349845604406,\n",
       " 'icLF.aMiv': 1.1483024553966663,\n",
       " 'ccLF.aSD': 0.6186535828990887,\n",
       " 'ccLF.aMav': 6.5132478854586076,\n",
       " 'ccLF.aMiv': 4.023842286645824,\n",
       " 'ecLF.aSD': 2.1233391343485226,\n",
       " 'ecLF.aMav': 12.394485600891374,\n",
       " 'ecLF.aMiv': 1.6293572242965175,\n",
       " 'ecMF.aSD': 1.594080513659783,\n",
       " 'ecMF.aMav': 7.909195241629887,\n",
       " 'ecMF.aMiv': 1.4350302038795786,\n",
       " 'ccMF.aSD': 0.7224685980286254,\n",
       " 'ccMF.aMav': 7.32548619929081,\n",
       " 'ccMF.aMiv': 4.393036184290812}"
      ]
     },
     "execution_count": 29,
     "metadata": {},
     "output_type": "execute_result"
    }
   ],
   "source": [
    "femoral_thickness"
   ]
  },
  {
   "cell_type": "code",
   "execution_count": 30,
   "metadata": {},
   "outputs": [
    {
     "data": {
      "text/plain": [
       "<module 'utility' from '/home/simon/knorpel_v2/utility.py'>"
      ]
     },
     "execution_count": 30,
     "metadata": {},
     "output_type": "execute_result"
    }
   ],
   "source": [
    "importlib.reload(utility)"
   ]
  },
  {
   "cell_type": "code",
   "execution_count": 31,
   "metadata": {},
   "outputs": [],
   "source": [
    "ladf, radf, pdf = utility.extract_anterior_posterior_zones(femoral_vectors, cwbzl, cwbzr)"
   ]
  },
  {
   "cell_type": "code",
   "execution_count": 32,
   "metadata": {},
   "outputs": [
    {
     "data": {
      "application/vnd.jupyter.widget-view+json": {
       "model_id": "6a7c5163e51d4cf7b635c64b0ba678c8",
       "version_major": 2,
       "version_minor": 0
      },
      "text/plain": [
       "ViewInteractiveWidget(height=768, layout=Layout(height='auto', width='100%'), width=1024)"
      ]
     },
     "metadata": {},
     "output_type": "display_data"
    }
   ],
   "source": [
    "p = pv.Plotter()\n",
    "p.add_mesh(pv.PolyData(ladf.to_numpy()), color='red')\n",
    "p.add_mesh(pv.PolyData(radf.to_numpy()), color='green')\n",
    "p.add_mesh(pv.PolyData(pdf.to_numpy()), color='blue')\n",
    "# p.show_grid()\n",
    "p.show()"
   ]
  },
  {
   "cell_type": "code",
   "execution_count": 33,
   "metadata": {},
   "outputs": [
    {
     "data": {
      "application/vnd.jupyter.widget-view+json": {
       "model_id": "2d796f339b7744cebfdd178e7d49d43b",
       "version_major": 2,
       "version_minor": 0
      },
      "text/plain": [
       "ViewInteractiveWidget(height=768, layout=Layout(height='auto', width='100%'), width=1024)"
      ]
     },
     "metadata": {},
     "output_type": "display_data"
    }
   ],
   "source": [
    "p = pv.Plotter()\n",
    "p.add_mesh(pv.PolyData(ladf.to_numpy()), color='red')\n",
    "p.add_mesh(pv.PolyData(radf.to_numpy()), color='green')\n",
    "p.show_grid()\n",
    "p.show()"
   ]
  },
  {
   "cell_type": "code",
   "execution_count": 34,
   "metadata": {},
   "outputs": [],
   "source": [
    "la_lower_mesh, la_upper_mesh = utility.build_tibial_meshes(ladf.to_numpy())\n",
    "ra_lower_mesh, ra_upper_mesh = utility.build_tibial_meshes(radf.to_numpy())\n",
    "p_lower_mesh, p_upper_mesh = utility.build_tibial_meshes(pdf.to_numpy())"
   ]
  },
  {
   "cell_type": "code",
   "execution_count": 35,
   "metadata": {},
   "outputs": [
    {
     "data": {
      "application/vnd.jupyter.widget-view+json": {
       "model_id": "0e499ef62203422b9af884b9dde92ec1",
       "version_major": 2,
       "version_minor": 0
      },
      "text/plain": [
       "ViewInteractiveWidget(height=768, layout=Layout(height='auto', width='100%'), width=1024)"
      ]
     },
     "metadata": {},
     "output_type": "display_data"
    }
   ],
   "source": [
    "p = pv.Plotter()\n",
    "p.add_mesh(la_lower_mesh, color='red')\n",
    "p.add_mesh(la_upper_mesh, color='orange')\n",
    "p.add_mesh(ra_lower_mesh, color='green')\n",
    "p.add_mesh(ra_upper_mesh, color='cyan')\n",
    "p.show_grid()\n",
    "p.show()"
   ]
  },
  {
   "cell_type": "code",
   "execution_count": 36,
   "metadata": {},
   "outputs": [
    {
     "data": {
      "application/vnd.jupyter.widget-view+json": {
       "model_id": "7ad3d0c89517432286541a2de835a6bc",
       "version_major": 2,
       "version_minor": 0
      },
      "text/plain": [
       "ViewInteractiveWidget(height=768, layout=Layout(height='auto', width='100%'), width=1024)"
      ]
     },
     "metadata": {},
     "output_type": "display_data"
    }
   ],
   "source": [
    "p = pv.Plotter()\n",
    "p.add_mesh(p_lower_mesh, color='red')\n",
    "p.add_mesh(p_upper_mesh, color='green')\n",
    "p.show_grid()\n",
    "p.show()"
   ]
  },
  {
   "cell_type": "code",
   "execution_count": 37,
   "metadata": {},
   "outputs": [],
   "source": [
    "la_normals = la_lower_mesh.compute_normals(cell_normals=False)\n",
    "ra_normals = ra_lower_mesh.compute_normals(cell_normals=False)\n",
    "p_normals = p_lower_mesh.compute_normals(cell_normals=False)\n",
    "\n",
    "la_distances = utility.calculate_distance_without_classification(la_normals, la_lower_mesh, la_upper_mesh, sitk_image)\n",
    "ra_distances = utility.calculate_distance_without_classification(ra_normals, ra_lower_mesh, ra_upper_mesh, sitk_image)\n",
    "p_distances = utility.calculate_distance_without_classification(p_normals, p_lower_mesh, p_upper_mesh, sitk_image)"
   ]
  },
  {
   "cell_type": "code",
   "execution_count": 38,
   "metadata": {},
   "outputs": [
    {
     "data": {
      "text/plain": [
       "array([0.        , 1.89497042, 3.5505721 , ..., 0.        , 0.        ,\n",
       "       0.        ])"
      ]
     },
     "execution_count": 38,
     "metadata": {},
     "output_type": "execute_result"
    }
   ],
   "source": [
    "la_distances['distances']"
   ]
  },
  {
   "cell_type": "code",
   "execution_count": 39,
   "metadata": {},
   "outputs": [],
   "source": [
    "la_thickness = dict()\n",
    "distances = la_distances['distances']\n",
    "mask = distances == 0\n",
    "distances[mask] = np.nan\n",
    "la_thickness['aLF.aSD'] = np.nanstd(distances)\n",
    "la_thickness['aLF.aMav'] = np.nanmean(-np.sort(-distances)[:math.ceil(len(distances) * 0.01)])\n",
    "la_thickness['aLF.aMiv'] = np.nanmean(np.sort(distances)[:math.ceil(len(distances) * 0.01)])\n",
    "la_thickness['aLF'] = np.nanmean(distances)"
   ]
  },
  {
   "cell_type": "code",
   "execution_count": 40,
   "metadata": {},
   "outputs": [
    {
     "data": {
      "text/plain": [
       "{'aLF.aSD': 2.8245065220366943,\n",
       " 'aLF.aMav': 23.15468043175688,\n",
       " 'aLF.aMiv': 1.3057824532524103,\n",
       " 'aLF': 4.773370276932947}"
      ]
     },
     "execution_count": 40,
     "metadata": {},
     "output_type": "execute_result"
    }
   ],
   "source": [
    "la_thickness"
   ]
  },
  {
   "cell_type": "code",
   "execution_count": 41,
   "metadata": {},
   "outputs": [],
   "source": [
    "ra_thickness = dict()\n",
    "distances = ra_distances['distances']\n",
    "mask = distances == 0\n",
    "distances[mask] = np.nan\n",
    "ra_thickness['aMF.aSD'] = np.nanstd(distances)\n",
    "ra_thickness['aMF.aMav'] = np.nanmean(-np.sort(-distances)[:math.ceil(len(distances) * 0.01)])\n",
    "ra_thickness['aMF.aMiv'] = np.nanmean(np.sort(distances)[:math.ceil(len(distances) * 0.01)])\n",
    "ra_thickness['aMF'] = np.nanmean(distances)"
   ]
  },
  {
   "cell_type": "code",
   "execution_count": 42,
   "metadata": {},
   "outputs": [
    {
     "data": {
      "text/plain": [
       "{'aMF.aSD': 1.9579087515350613,\n",
       " 'aMF.aMav': 13.409865537279831,\n",
       " 'aMF.aMiv': 0.9729198950689117,\n",
       " 'aMF': 4.364521041284879}"
      ]
     },
     "execution_count": 42,
     "metadata": {},
     "output_type": "execute_result"
    }
   ],
   "source": [
    "ra_thickness"
   ]
  },
  {
   "cell_type": "code",
   "execution_count": 43,
   "metadata": {},
   "outputs": [],
   "source": [
    "p_thickness = dict()\n",
    "distances = p_distances['distances']\n",
    "mask = distances == 0\n",
    "distances[mask] = np.nan\n",
    "p_thickness['pF.aSD'] = np.nanstd(distances)\n",
    "p_thickness['pF.aMav'] = np.nanmean(-np.sort(-distances)[:math.ceil(len(distances) * 0.01)])\n",
    "p_thickness['pF.aMiv'] = np.nanmean(np.sort(distances)[:math.ceil(len(distances) * 0.01)])\n",
    "p_thickness['pF'] = np.nanmean(distances)"
   ]
  },
  {
   "cell_type": "code",
   "execution_count": 44,
   "metadata": {},
   "outputs": [
    {
     "data": {
      "text/plain": [
       "{'pF.aSD': 5.104802586798915,\n",
       " 'pF.aMav': 47.71493741287999,\n",
       " 'pF.aMiv': 0.7433645494243941,\n",
       " 'pF': 4.512998589901148}"
      ]
     },
     "execution_count": 44,
     "metadata": {},
     "output_type": "execute_result"
    }
   ],
   "source": [
    "p_thickness"
   ]
  },
  {
   "cell_type": "markdown",
   "metadata": {},
   "source": [
    "# Changes to the femur for the sphere approach"
   ]
  },
  {
   "cell_type": "code",
   "execution_count": 121,
   "metadata": {},
   "outputs": [],
   "source": [
    "cwbzl, cwbzr = utility.extract_central_weightbearing_zone(femoral_vectors, tibial_vectors)\n",
    "center_left = np.array([cwbzl.x.min() + (cwbzl.x.max() - cwbzl.x.min()) / 2,\n",
    "                    cwbzl.y.min() + (cwbzl.y.max() - cwbzl.y.min()) / 2,\n",
    "                    cwbzl.z.min() - (cwbzl.z.max() - cwbzl.z.min()) / 4])\n",
    "\n",
    "center_right = np.array([cwbzr.x.min() + (cwbzr.x.max() - cwbzr.x.min()) / 2,\n",
    "                    cwbzr.y.min() + (cwbzr.y.max() - cwbzr.y.min()) / 2,\n",
    "                    cwbzr.z.min() - (cwbzr.z.max() - cwbzr.z.min()) / 4])"
   ]
  },
  {
   "cell_type": "code",
   "execution_count": 122,
   "metadata": {},
   "outputs": [],
   "source": [
    "lower_mesh_left, upper_mesh_left = utility.build_femoral_meshes(cwbzl)\n",
    "lower_mesh_right, upper_mesh_right = utility.build_femoral_meshes(cwbzr)\n",
    "\n",
    "left_landmarks = utility.femoral_landmarks(upper_mesh_left.points)\n",
    "right_landmarks = utility.femoral_landmarks(upper_mesh_right.points)"
   ]
  },
  {
   "cell_type": "code",
   "execution_count": 123,
   "metadata": {},
   "outputs": [],
   "source": [
    "sphere_left = pv.Sphere(center=center_left, radius=1, theta_resolution=60, phi_resolution=60)\n",
    "sphere_right = pv.Sphere(center=center_right, radius=1, theta_resolution=60, phi_resolution=60)"
   ]
  },
  {
   "cell_type": "code",
   "execution_count": 124,
   "metadata": {},
   "outputs": [],
   "source": [
    "cwbzl['dist'] = np.zeros(cwbzl.shape[0])\n",
    "cwbzl['dist'] = cwbzl.apply(lambda l: utility.vector_distance([l.x, l.y, l.z], center_left), axis=1)\n",
    "\n",
    "cwbzr['dist'] = np.zeros(cwbzr.shape[0])\n",
    "cwbzr['dist'] = cwbzr.apply(lambda l: utility.vector_distance([l.x, l.y, l.z], center_left), axis=1)"
   ]
  },
  {
   "cell_type": "code",
   "execution_count": 125,
   "metadata": {},
   "outputs": [
    {
     "data": {
      "application/vnd.jupyter.widget-view+json": {
       "model_id": "001f6ad093b6403ca6d6d26f57460dcd",
       "version_major": 2,
       "version_minor": 0
      },
      "text/plain": [
       "ViewInteractiveWidget(height=768, layout=Layout(height='auto', width='100%'), width=1024)"
      ]
     },
     "metadata": {},
     "output_type": "display_data"
    }
   ],
   "source": [
    "p = pv.Plotter()\n",
    "p.add_mesh(pv.PolyData(cwbzl.to_numpy()[:,:3]), color='red')\n",
    "p.add_mesh(pv.PolyData(cwbzr.to_numpy()[:,:3]), color='green')\n",
    "p.add_mesh(sphere_left, color='orange')\n",
    "p.add_mesh(sphere_right, color='cyan')\n",
    "#p.show_grid()\n",
    "p.show()"
   ]
  },
  {
   "cell_type": "code",
   "execution_count": 126,
   "metadata": {},
   "outputs": [
    {
     "data": {
      "text/html": [
       "<table><tr><th>Header</th><th>Data Arrays</th></tr><tr><td>\n",
       "<table>\n",
       "<tr><th>PolyData</th><th>Information</th></tr>\n",
       "<tr><td>N Cells</td><td>6960</td></tr>\n",
       "<tr><td>N Points</td><td>3482</td></tr>\n",
       "<tr><td>X Bounds</td><td>2.260e+02, 2.280e+02</td></tr>\n",
       "<tr><td>Y Bounds</td><td>1.115e+02, 1.135e+02</td></tr>\n",
       "<tr><td>Z Bounds</td><td>1.762e+02, 1.782e+02</td></tr>\n",
       "<tr><td>N Arrays</td><td>1</td></tr>\n",
       "</table>\n",
       "\n",
       "</td><td>\n",
       "<table>\n",
       "<tr><th>Name</th><th>Field</th><th>Type</th><th>N Comp</th><th>Min</th><th>Max</th></tr>\n",
       "<tr><td>Normals</td><td>Points</td><td>float32</td><td>3</td><td>-1.000e+00</td><td>1.000e+00</td></tr>\n",
       "</table>\n",
       "\n",
       "</td></tr> </table>"
      ],
      "text/plain": [
       "PolyData (0x7f6f69487e20)\n",
       "  N Cells:\t6960\n",
       "  N Points:\t3482\n",
       "  X Bounds:\t2.260e+02, 2.280e+02\n",
       "  Y Bounds:\t1.115e+02, 1.135e+02\n",
       "  Z Bounds:\t1.762e+02, 1.782e+02\n",
       "  N Arrays:\t1"
      ]
     },
     "execution_count": 126,
     "metadata": {},
     "output_type": "execute_result"
    }
   ],
   "source": [
    "sphere_left.compute_normals(point_normals=True, cell_normals=False, inplace=True)\n",
    "sphere_right.compute_normals(point_normals=True, cell_normals=False, inplace=True)"
   ]
  },
  {
   "cell_type": "code",
   "execution_count": 127,
   "metadata": {},
   "outputs": [],
   "source": [
    "sphere_left_iter = np.array([[np.nan, np.nan]] * sphere_left.n_points, dtype='object')\n",
    "sphere_right_iter = np.array([[np.nan, np.nan]] * sphere_right.n_points, dtype='object')"
   ]
  },
  {
   "cell_type": "code",
   "execution_count": 128,
   "metadata": {},
   "outputs": [],
   "source": [
    "from functools import partial\n",
    "from multiprocessing import Pool\n",
    "import sphere"
   ]
  },
  {
   "cell_type": "code",
   "execution_count": 129,
   "metadata": {},
   "outputs": [],
   "source": [
    "for i in range(sphere_left.n_points):\n",
    "    sphere_left_iter[i,0] = tuple(sphere_left.points[i])\n",
    "    sphere_left_iter[i,1] = tuple(sphere_left['Normals'][i])"
   ]
  },
  {
   "cell_type": "code",
   "execution_count": 130,
   "metadata": {},
   "outputs": [],
   "source": [
    "for i in range(sphere_right.n_points):\n",
    "    sphere_right_iter[i,0] = tuple(sphere_right.points[i])\n",
    "    sphere_right_iter[i,1] = tuple(sphere_right['Normals'][i])"
   ]
  },
  {
   "cell_type": "code",
   "execution_count": 131,
   "metadata": {},
   "outputs": [],
   "source": [
    "with Pool() as pool:\n",
    "    res = pool.starmap(partial(sphere.vector_trace, df=cwbzl), iterable=sphere_left_iter)"
   ]
  },
  {
   "cell_type": "code",
   "execution_count": 132,
   "metadata": {},
   "outputs": [
    {
     "data": {
      "text/plain": [
       "array([list([array([213.,  42., 210.]), array([215.,  42., 220.])]),\n",
       "       list([array([196.,  40., 211.]), array([195.,  38., 215.])]),\n",
       "       list([array([197.,  40., 211.]), array([195.,  38., 216.])]), ...,\n",
       "       list([array([210.,  40., 212.]), array([207.,  38., 221.])]),\n",
       "       list([array([211.,  40., 212.]), array([208.,  38., 221.])]),\n",
       "       list([array([211.,  40., 212.]), array([209.,  38., 221.])])],\n",
       "      dtype=object)"
      ]
     },
     "execution_count": 132,
     "metadata": {},
     "output_type": "execute_result"
    }
   ],
   "source": [
    "res = np.array(res, dtype='object')\n",
    "res = res[res != None]\n",
    "res"
   ]
  },
  {
   "cell_type": "code",
   "execution_count": 133,
   "metadata": {},
   "outputs": [],
   "source": [
    "inner_points = [item[0] for item in res]\n",
    "outer_points = [item[1] for item in res]"
   ]
  },
  {
   "cell_type": "code",
   "execution_count": 134,
   "metadata": {},
   "outputs": [],
   "source": [
    "left_thickness = dict()\n",
    "left_thickness['ecLF'] = np.zeros(len(outer_points))\n",
    "left_thickness['ccLF'] = np.zeros(len(outer_points))\n",
    "left_thickness['icLF'] = np.zeros(len(outer_points))"
   ]
  },
  {
   "cell_type": "code",
   "execution_count": 135,
   "metadata": {},
   "outputs": [],
   "source": [
    "for i in range(len(outer_points)):\n",
    "    label = utility.classify_femoral_point(outer_points[i][:2], left_landmarks, True)\n",
    "    left_thickness[label][i] = utility.vector_distance(inner_points[i], outer_points[i]) * sitk_image.GetSpacing()[2]"
   ]
  },
  {
   "cell_type": "code",
   "execution_count": 136,
   "metadata": {},
   "outputs": [],
   "source": [
    "with Pool() as pool:\n",
    "    res = pool.starmap(partial(sphere.vector_trace, df=cwbzr), iterable=sphere_right_iter)\n",
    "    \n",
    "res = np.array(res, dtype='object')\n",
    "res = res[res != None]\n",
    "\n",
    "inner_points = [item[0] for item in res]\n",
    "outer_points = [item[1] for item in res]\n",
    "\n",
    "right_thickness = dict()\n",
    "right_thickness['icMF'] = np.zeros(len(outer_points))\n",
    "right_thickness['ccMF'] = np.zeros(len(outer_points))\n",
    "right_thickness['ecMF'] = np.zeros(len(outer_points))\n",
    "\n",
    "for i in range(len(outer_points)):\n",
    "    label = utility.classify_femoral_point(outer_points[i][:2], right_landmarks, False)\n",
    "    right_thickness[label][i] = utility.vector_distance(inner_points[i], outer_points[i]) * sitk_image.GetSpacing()[2]"
   ]
  },
  {
   "cell_type": "code",
   "execution_count": 137,
   "metadata": {},
   "outputs": [],
   "source": [
    "femoral_thickness = dict()\n",
    "femoral_thickness.update(left_thickness)\n",
    "femoral_thickness.update(right_thickness)"
   ]
  },
  {
   "cell_type": "code",
   "execution_count": 142,
   "metadata": {},
   "outputs": [
    {
     "data": {
      "application/vnd.jupyter.widget-view+json": {
       "model_id": "65580ad8b0c945f3a416caf258db7591",
       "version_major": 2,
       "version_minor": 0
      },
      "text/plain": [
       "ViewInteractiveWidget(height=768, layout=Layout(height='auto', width='100%'), width=1024)"
      ]
     },
     "metadata": {},
     "output_type": "display_data"
    }
   ],
   "source": [
    "p = pv.Plotter()\n",
    "p.add_mesh(pv.PolyData(inner_points), color='red')\n",
    "p.add_mesh(pv.PolyData(outer_points), color='green')\n",
    "p.add_mesh(sphere_right, color='blue')\n",
    "p.add_mesh(sphere_left, color='cyan')\n",
    "# p.show_grid()\n",
    "p.show()"
   ]
  },
  {
   "cell_type": "code",
   "execution_count": 141,
   "metadata": {},
   "outputs": [
    {
     "data": {
      "text/plain": [
       "(1250, 1250)"
      ]
     },
     "execution_count": 141,
     "metadata": {},
     "output_type": "execute_result"
    }
   ],
   "source": [
    "len(inner_points), len(outer_points)"
   ]
  },
  {
   "cell_type": "code",
   "execution_count": 144,
   "metadata": {},
   "outputs": [],
   "source": [
    "lpdf, rpdf, adf = utility.extract_anterior_posterior_zones(femoral_vectors, cwbzl, cwbzr)"
   ]
  },
  {
   "cell_type": "code",
   "execution_count": 154,
   "metadata": {},
   "outputs": [],
   "source": [
    "center_lp = np.array([lpdf.x.min() + (lpdf.x.max() - lpdf.x.min()) / 4,\n",
    "                    lpdf.y.min() + (lpdf.y.max() - lpdf.y.min()) / 2,\n",
    "                    lpdf.z.min() + (lpdf.z.max() - lpdf.z.min()) / 2])\n",
    "\n",
    "center_rp = np.array([rpdf.x.min() + (rpdf.x.max() - rpdf.x.min()) / 4,\n",
    "                    rpdf.y.min() + (rpdf.y.max() - rpdf.y.min()) / 2,\n",
    "                    rpdf.z.min() + (rpdf.z.max() - rpdf.z.min()) / 2])\n",
    "\n",
    "center_a = np.array([adf.x.min() + ((adf.x.max() - adf.x.min()) / 4) * 3,\n",
    "                    adf.y.min() + (adf.y.max() - adf.y.min()) / 2,\n",
    "                    adf.z.min() + (adf.z.max() - adf.z.min()) / 4])"
   ]
  },
  {
   "cell_type": "code",
   "execution_count": 155,
   "metadata": {},
   "outputs": [],
   "source": [
    "sphere_lp = pv.Sphere(center=center_lp, radius=1, theta_resolution=60, phi_resolution=60)\n",
    "sphere_rp = pv.Sphere(center=center_rp, radius=1, theta_resolution=60, phi_resolution=60)\n",
    "sphere_a = pv.Sphere(center=center_a, radius=1, theta_resolution=60, phi_resolution=60)"
   ]
  },
  {
   "cell_type": "code",
   "execution_count": 156,
   "metadata": {},
   "outputs": [],
   "source": [
    "lpdf['dist'] = np.zeros(lpdf.shape[0])\n",
    "lpdf['dist'] = lpdf.apply(lambda l: utility.vector_distance([l.x, l.y, l.z], center_lp), axis=1)\n",
    "\n",
    "rpdf['dist'] = np.zeros(rpdf.shape[0])\n",
    "rpdf['dist'] = rpdf.apply(lambda l: utility.vector_distance([l.x, l.y, l.z], center_rp), axis=1)\n",
    "\n",
    "adf['dist'] = np.zeros(adf.shape[0])\n",
    "adf['dist'] = adf.apply(lambda l: utility.vector_distance([l.x, l.y, l.z], center_a), axis=1)"
   ]
  },
  {
   "cell_type": "code",
   "execution_count": 157,
   "metadata": {},
   "outputs": [
    {
     "data": {
      "application/vnd.jupyter.widget-view+json": {
       "model_id": "8f74da19d77f4a8ca00a1d760eb73904",
       "version_major": 2,
       "version_minor": 0
      },
      "text/plain": [
       "ViewInteractiveWidget(height=768, layout=Layout(height='auto', width='100%'), width=1024)"
      ]
     },
     "metadata": {},
     "output_type": "display_data"
    }
   ],
   "source": [
    "p = pv.Plotter()\n",
    "p.add_mesh(pv.PolyData(lpdf.to_numpy()[:,:3]), color='red')\n",
    "p.add_mesh(pv.PolyData(rpdf.to_numpy()[:,:3]), color='green')\n",
    "p.add_mesh(pv.PolyData(adf.to_numpy()[:,:3]), color='yellow')\n",
    "p.add_mesh(sphere_lp, color='orange')\n",
    "p.add_mesh(sphere_rp, color='cyan')\n",
    "p.add_mesh(sphere_a, color='pink')\n",
    "#p.show_grid()\n",
    "p.show()"
   ]
  },
  {
   "cell_type": "code",
   "execution_count": 158,
   "metadata": {},
   "outputs": [
    {
     "data": {
      "text/html": [
       "<table><tr><th>Header</th><th>Data Arrays</th></tr><tr><td>\n",
       "<table>\n",
       "<tr><th>PolyData</th><th>Information</th></tr>\n",
       "<tr><td>N Cells</td><td>6960</td></tr>\n",
       "<tr><td>N Points</td><td>3482</td></tr>\n",
       "<tr><td>X Bounds</td><td>1.783e+02, 1.802e+02</td></tr>\n",
       "<tr><td>Y Bounds</td><td>7.700e+01, 7.900e+01</td></tr>\n",
       "<tr><td>Z Bounds</td><td>1.275e+02, 1.295e+02</td></tr>\n",
       "<tr><td>N Arrays</td><td>1</td></tr>\n",
       "</table>\n",
       "\n",
       "</td><td>\n",
       "<table>\n",
       "<tr><th>Name</th><th>Field</th><th>Type</th><th>N Comp</th><th>Min</th><th>Max</th></tr>\n",
       "<tr><td>Normals</td><td>Points</td><td>float32</td><td>3</td><td>-1.000e+00</td><td>1.000e+00</td></tr>\n",
       "</table>\n",
       "\n",
       "</td></tr> </table>"
      ],
      "text/plain": [
       "PolyData (0x7f6f621be3a0)\n",
       "  N Cells:\t6960\n",
       "  N Points:\t3482\n",
       "  X Bounds:\t1.783e+02, 1.802e+02\n",
       "  Y Bounds:\t7.700e+01, 7.900e+01\n",
       "  Z Bounds:\t1.275e+02, 1.295e+02\n",
       "  N Arrays:\t1"
      ]
     },
     "execution_count": 158,
     "metadata": {},
     "output_type": "execute_result"
    }
   ],
   "source": [
    "sphere_lp.compute_normals(point_normals=True, cell_normals=False, inplace=True)\n",
    "sphere_rp.compute_normals(point_normals=True, cell_normals=False, inplace=True)\n",
    "sphere_a.compute_normals(point_normals=True, cell_normals=False, inplace=True)"
   ]
  },
  {
   "cell_type": "code",
   "execution_count": 159,
   "metadata": {},
   "outputs": [],
   "source": [
    "sphere_lp_iter = np.array([[np.nan, np.nan]] * sphere_lp.n_points, dtype='object')\n",
    "sphere_rp_iter = np.array([[np.nan, np.nan]] * sphere_rp.n_points, dtype='object')\n",
    "sphere_a_iter = np.array([[np.nan, np.nan]] * sphere_a.n_points, dtype='object')"
   ]
  },
  {
   "cell_type": "code",
   "execution_count": 160,
   "metadata": {},
   "outputs": [],
   "source": [
    "for i in range(sphere_lp.n_points):\n",
    "    sphere_lp_iter[i,0] = tuple(sphere_lp.points[i])\n",
    "    sphere_lp_iter[i,1] = tuple(sphere_lp['Normals'][i])\n",
    "\n",
    "for i in range(sphere_rp.n_points):\n",
    "    sphere_rp_iter[i,0] = tuple(sphere_rp.points[i])\n",
    "    sphere_rp_iter[i,1] = tuple(sphere_rp['Normals'][i])\n",
    "\n",
    "for i in range(sphere_a.n_points):\n",
    "    sphere_a_iter[i,0] = tuple(sphere_a.points[i])\n",
    "    sphere_a_iter[i,1] = tuple(sphere_a['Normals'][i])"
   ]
  },
  {
   "cell_type": "code",
   "execution_count": 161,
   "metadata": {},
   "outputs": [],
   "source": [
    "with Pool() as pool:\n",
    "    res = pool.starmap(partial(sphere.vector_trace, df=lpdf), iterable=sphere_lp_iter)\n",
    "    \n",
    "res = np.array(res, dtype='object')\n",
    "res = res[res != None]\n",
    "\n",
    "inner_points = [item[0] for item in res]\n",
    "outer_points = [item[1] for item in res]\n",
    "\n",
    "femoral_thickness['pLF'] = np.zeros(len(outer_points))\n",
    "\n",
    "for i in range(len(outer_points)):\n",
    "    femoral_thickness['pLF'][i] = utility.vector_distance(inner_points[i], outer_points[i]) * sitk_image.GetSpacing()[2]"
   ]
  },
  {
   "cell_type": "code",
   "execution_count": null,
   "metadata": {},
   "outputs": [],
   "source": [
    "p = pv.Plotter()\n",
    "p.add_mesh(pv.PolyData(inner_points), color='red')\n",
    "p.add_mesh(pv.PolyData(outer_points), color='green')\n",
    "p.add_mesh(sphere_lp, color='blue')\n",
    "# p.show_grid()\n",
    "p.show()"
   ]
  },
  {
   "cell_type": "code",
   "execution_count": 165,
   "metadata": {},
   "outputs": [],
   "source": [
    "with Pool() as pool:\n",
    "    res = pool.starmap(partial(sphere.vector_trace, df=rpdf), iterable=sphere_rp_iter)\n",
    "    \n",
    "res = np.array(res, dtype='object')\n",
    "res = res[res != None]\n",
    "\n",
    "inner_points = [item[0] for item in res]\n",
    "outer_points = [item[1] for item in res]\n",
    "\n",
    "femoral_thickness['pMF'] = np.zeros(len(outer_points))\n",
    "\n",
    "for i in range(len(outer_points)):\n",
    "    femoral_thickness['pMF'][i] = utility.vector_distance(inner_points[i], outer_points[i]) * sitk_image.GetSpacing()[2]"
   ]
  },
  {
   "cell_type": "code",
   "execution_count": null,
   "metadata": {},
   "outputs": [],
   "source": [
    "p = pv.Plotter()\n",
    "p.add_mesh(pv.PolyData(inner_points), color='red')\n",
    "p.add_mesh(pv.PolyData(outer_points), color='green')\n",
    "p.add_mesh(sphere_rp, color='blue')\n",
    "# p.show_grid()\n",
    "p.show()"
   ]
  },
  {
   "cell_type": "code",
   "execution_count": 166,
   "metadata": {},
   "outputs": [],
   "source": [
    "with Pool() as pool:\n",
    "    res = pool.starmap(partial(sphere.vector_trace, df=adf), iterable=sphere_a_iter)\n",
    "    \n",
    "res = np.array(res, dtype='object')\n",
    "res = res[res != None]\n",
    "\n",
    "inner_points = [item[0] for item in res]\n",
    "outer_points = [item[1] for item in res]\n",
    "\n",
    "femoral_thickness['aF'] = np.zeros(len(outer_points))\n",
    "\n",
    "for i in range(len(outer_points)):\n",
    "    femoral_thickness['aF'][i] = utility.vector_distance(inner_points[i], outer_points[i]) * sitk_image.GetSpacing()[2]"
   ]
  },
  {
   "cell_type": "code",
   "execution_count": 167,
   "metadata": {},
   "outputs": [
    {
     "data": {
      "application/vnd.jupyter.widget-view+json": {
       "model_id": "527c8574987f4019b20c4a4e62562b18",
       "version_major": 2,
       "version_minor": 0
      },
      "text/plain": [
       "ViewInteractiveWidget(height=768, layout=Layout(height='auto', width='100%'), width=1024)"
      ]
     },
     "metadata": {},
     "output_type": "display_data"
    }
   ],
   "source": [
    "p = pv.Plotter()\n",
    "p.add_mesh(pv.PolyData(inner_points), color='red')\n",
    "p.add_mesh(pv.PolyData(outer_points), color='green')\n",
    "p.add_mesh(sphere_a, color='blue')\n",
    "# p.show_grid()\n",
    "p.show()"
   ]
  },
  {
   "cell_type": "code",
   "execution_count": null,
   "metadata": {},
   "outputs": [],
   "source": [
    "keys = set(femoral_thickness.keys())\n",
    "for key in keys:\n",
    "    value = femoral_thickness[key]\n",
    "    mask = value == 0\n",
    "    value[mask] = np.nan\n",
    "    femoral_thickness[key + '.aSD'] = np.nanstd(value)\n",
    "    femoral_thickness[key + '.aMav'] = np.nanmean(-np.sort(-value)[:math.ceil(len(value) * 0.01)])\n",
    "    femoral_thickness[key + '.aMiv'] = np.nanmean(np.sort(value)[:math.ceil(len(value) * 0.01)])\n",
    "    femoral_thickness[key] = np.nanmean(value)"
   ]
  },
  {
   "cell_type": "code",
   "execution_count": 170,
   "metadata": {},
   "outputs": [
    {
     "data": {
      "text/plain": [
       "{'ecLF': 4.254168576809634,\n",
       " 'ccLF': 6.98313953815472,\n",
       " 'icLF': 5.42020835149045,\n",
       " 'icMF': 4.020005189361094,\n",
       " 'ccMF': 6.806959055555063,\n",
       " 'ecMF': 4.631621072368648,\n",
       " 'icMF.aSD': 1.5098571893847004,\n",
       " 'icMF.aMav': 6.959003755903373,\n",
       " 'icMF.aMiv': 0.6999980000000001,\n",
       " 'icLF.aSD': 1.6873368230091055,\n",
       " 'icLF.aMav': 8.428010913231645,\n",
       " 'icLF.aMiv': 1.9332429172746155,\n",
       " 'ccLF.aSD': 0.8994741129404458,\n",
       " 'ccLF.aMav': 8.251420462140674,\n",
       " 'ccLF.aMiv': 2.966937508604229,\n",
       " 'ecLF.aSD': 1.4068313959033591,\n",
       " 'ecLF.aMav': 6.446578327200137,\n",
       " 'ecLF.aMiv': 2.308594170076343,\n",
       " 'ecMF.aSD': 1.8001236463621781,\n",
       " 'ecMF.aMav': 7.357524924372445,\n",
       " 'ecMF.aMiv': 1.4628052421806157,\n",
       " 'ccMF.aSD': 1.5702833774469591,\n",
       " 'ccMF.aMav': 8.54996391789425,\n",
       " 'ccMF.aMiv': 1.2444025862480939,\n",
       " 'pLF': 4.8483454651144,\n",
       " 'pLF.aSD': 1.3076079153437061,\n",
       " 'pLF.aMav': 7.768410268514307,\n",
       " 'pLF.aMiv': 1.8195192284571164,\n",
       " 'pMF': 5.464640870107453,\n",
       " 'aF': 6.715075509931949,\n",
       " 'pMF.aSD': 1.8053105780650751,\n",
       " 'pMF.aMav': 9.657632026208681,\n",
       " 'pMF.aMiv': 1.8162688570070986,\n",
       " 'aF.aSD': 2.6210720379230215,\n",
       " 'aF.aMav': 17.79150882969207,\n",
       " 'aF.aMiv': 1.7335485749272628}"
      ]
     },
     "execution_count": 170,
     "metadata": {},
     "output_type": "execute_result"
    }
   ],
   "source": [
    "femoral_thickness"
   ]
  },
  {
   "cell_type": "code",
   "execution_count": 169,
   "metadata": {},
   "outputs": [],
   "source": [
    "key = 'aF'\n",
    "value = femoral_thickness[key]\n",
    "mask = value == 0\n",
    "value[mask] = np.nan\n",
    "femoral_thickness[key + '.aSD'] = np.nanstd(value)\n",
    "femoral_thickness[key + '.aMav'] = np.nanmean(-np.sort(-value)[:math.ceil(len(value) * 0.01)])\n",
    "femoral_thickness[key + '.aMiv'] = np.nanmean(np.sort(value)[:math.ceil(len(value) * 0.01)])\n",
    "femoral_thickness[key] = np.nanmean(value)"
   ]
  },
  {
   "cell_type": "markdown",
   "metadata": {},
   "source": [
    "# Changes to the femur for the function normals approach"
   ]
  },
  {
   "cell_type": "code",
   "execution_count": 77,
   "metadata": {},
   "outputs": [],
   "source": [
    "from numpy.polynomial import Polynomial\n",
    "from numpy.polynomial import polynomial as poly"
   ]
  },
  {
   "cell_type": "code",
   "execution_count": 5,
   "metadata": {},
   "outputs": [],
   "source": [
    "cwbzl, cwbzr = utility.extract_central_weightbearing_zone(femoral_vectors, tibial_vectors)"
   ]
  },
  {
   "cell_type": "code",
   "execution_count": 6,
   "metadata": {},
   "outputs": [],
   "source": [
    "lpdf, rpdf, adf = utility.extract_anterior_posterior_zones(femoral_vectors, cwbzl, cwbzr)"
   ]
  },
  {
   "cell_type": "code",
   "execution_count": 17,
   "metadata": {},
   "outputs": [
    {
     "data": {
      "text/plain": [
       "35"
      ]
     },
     "execution_count": 17,
     "metadata": {},
     "output_type": "execute_result"
    }
   ],
   "source": [
    "cwbzl.nunique()['x']"
   ]
  },
  {
   "cell_type": "code",
   "execution_count": 20,
   "metadata": {
    "scrolled": true
   },
   "outputs": [
    {
     "data": {
      "text/plain": [
       "[195,\n",
       " 196,\n",
       " 197,\n",
       " 198,\n",
       " 199,\n",
       " 200,\n",
       " 201,\n",
       " 202,\n",
       " 203,\n",
       " 204,\n",
       " 205,\n",
       " 206,\n",
       " 207,\n",
       " 208,\n",
       " 209,\n",
       " 210,\n",
       " 211,\n",
       " 212,\n",
       " 213,\n",
       " 214,\n",
       " 215,\n",
       " 216,\n",
       " 217,\n",
       " 218,\n",
       " 219,\n",
       " 220,\n",
       " 221,\n",
       " 222,\n",
       " 223,\n",
       " 224,\n",
       " 225,\n",
       " 226,\n",
       " 227,\n",
       " 228,\n",
       " 229]"
      ]
     },
     "execution_count": 20,
     "metadata": {},
     "output_type": "execute_result"
    }
   ],
   "source": [
    "sorted(cwbzl['x'].unique())"
   ]
  },
  {
   "cell_type": "code",
   "execution_count": 18,
   "metadata": {},
   "outputs": [],
   "source": [
    "layers = np.zeros(cwbzl.nunique()['x'], dtype='object')"
   ]
  },
  {
   "cell_type": "code",
   "execution_count": 21,
   "metadata": {},
   "outputs": [],
   "source": [
    "xs = sorted(cwbzl['x'].unique())\n",
    "assert len(xs) == len(layers)"
   ]
  },
  {
   "cell_type": "code",
   "execution_count": 32,
   "metadata": {},
   "outputs": [],
   "source": [
    "for i in range(len(layers)):\n",
    "    layers[i] = cwbzl.loc[cwbzl['x'] == xs[i]][['y', 'z']].sort_values(by='y').to_numpy()"
   ]
  },
  {
   "cell_type": "code",
   "execution_count": 108,
   "metadata": {},
   "outputs": [],
   "source": [
    "x = np.array([x[0] for x in layers[0]])\n",
    "y = np.array([x[1] for x in layers[0]])"
   ]
  },
  {
   "cell_type": "code",
   "execution_count": 109,
   "metadata": {},
   "outputs": [],
   "source": [
    "try:\n",
    "    z = poly.polyfit(x, y, 3)\n",
    "    der = poly.polyder(z)\n",
    "except np.linalg.LinAlgError as e:\n",
    "    print(e)"
   ]
  },
  {
   "cell_type": "code",
   "execution_count": 126,
   "metadata": {},
   "outputs": [],
   "source": [
    "fun = poly.polyval(x, z)\n",
    "new_x = np.arange(min(x), max(x))\n",
    "normals = [poly.polyval(val, z) - (1 / poly.polyval(val, der)) * (new_x - val) for val in new_x]"
   ]
  },
  {
   "cell_type": "code",
   "execution_count": 120,
   "metadata": {
    "scrolled": true
   },
   "outputs": [
    {
     "data": {
      "image/png": "[encoded data removed]",
      "text/plain": [
       "<Figure size 432x288 with 1 Axes>"
      ]
     },
     "metadata": {
      "needs_background": "light"
     },
     "output_type": "display_data"
    }
   ],
   "source": [
    "plt.scatter(x, y)\n",
    "ax = plt.gca()\n",
    "# ax.plot(x, fun(x), c='r')\n",
    "ax.plot(x, fun, c='r')\n",
    "# ax.plot(x, poly.polyval(40, z) - (1 / poly.polyval(40, der)) * (x - 40))\n",
    "for normal in normals:\n",
    "    ax.plot(new_x, normal, c='green')\n",
    "plt.ylim((min(y), max(y)))\n",
    "plt.show()"
   ]
  },
  {
   "cell_type": "code",
   "execution_count": 127,
   "metadata": {
    "scrolled": true
   },
   "outputs": [],
   "source": [
    "df = pd.DataFrame(layers[0], columns=['x', 'y'])"
   ]
  },
  {
   "cell_type": "code",
   "execution_count": 128,
   "metadata": {},
   "outputs": [
    {
     "data": {
      "text/plain": [
       "(36, 36, 36)"
      ]
     },
     "execution_count": 128,
     "metadata": {},
     "output_type": "execute_result"
    }
   ],
   "source": [
    "len(normals), len(normals[0]), len(new_x)"
   ]
  },
  {
   "cell_type": "code",
   "execution_count": 189,
   "metadata": {
    "scrolled": true
   },
   "outputs": [
    {
     "name": "stdout",
     "output_type": "stream",
     "text": [
      "[ 24.         213.17302599] [-1.          2.14314235] 23.0 215.3161683379036\n",
      "[ 24.         213.17302599] [-1.          2.14314235] 23.0 215.3161683379036\n",
      "[ 24.         213.17302599] [ 1.         -2.14314235] 25.0 211.02988363766474\n",
      "[ 25.         213.62234875] [-1.         2.3158814] 24.0 215.93823014752238\n",
      "[ 25.         213.62234875] [ 1.        -2.3158814] 26.0 211.3064673467292\n",
      "[ 26.         214.03614824] [-1.          2.52807405] 25.0 216.56422229409264\n",
      "[ 26.         214.03614824] [ 1.         -2.52807405] 27.0 211.5080741889023\n",
      "[ 27.         214.41298498] [-1.          2.79426753] 26.0 217.20725251864258\n",
      "[ 27.         214.41298498] [ 1.         -2.79426753] 28.0 211.618717450968\n",
      "[ 28.         214.75141949] [-1.          3.13721987] 27.0 217.88863936556575\n",
      "[ 28.         214.75141949] [ 1.         -3.13721987] 29.0 211.61419961634502\n",
      "[ 29.         215.05001227] [-1.          3.59463848] 28.0 218.64465075097525\n",
      "[ 29.         215.05001227] [ 1.         -3.59463848] 30.0 211.4553737967325\n",
      "[ 30.         215.30732385] [-1.          4.23385907] 29.0 219.54118291268853\n",
      "[ 30.         215.30732385] [-1.          4.23385907] 29.0 219.54118291268853\n",
      "[ 30.         215.30732385] [ 1.         -4.23385907] 31.0 211.07346478212517\n",
      "[ 31.         215.52191473] [-1.          5.18804856] 30.0 220.70996328358638\n",
      "[ 31.         215.52191473] [-1.          5.18804856] 30.0 220.70996328358638\n",
      "[ 31.         215.52191473] [ 1.         -5.18804856] 32.0 210.33386616745457\n",
      "[ 31.         215.52191473] [ 1.         -5.18804856] 32.0 210.33386616745457\n",
      "[ 32.         215.69234542] [-1.          6.76266142] 31.0 222.45500684516884\n",
      "[ 32.         215.69234542] [-1.          6.76266142] 31.0 222.45500684516884\n",
      "[ 32.         215.69234542] [-1.          6.76266142] 31.0 222.45500684516884\n",
      "[ 32.         215.69234542] [-1.          6.76266142] 31.0 222.45500684516884\n",
      "[ 32.         215.69234542] [ 1.         -6.76266142] 33.0 208.92968399903287\n",
      "[ 32.         215.69234542] [ 1.         -6.76266142] 33.0 208.92968399903287\n",
      "[ 32.         215.69234542] [ 1.         -6.76266142] 33.0 208.92968399903287\n",
      "[ 32.         215.69234542] [ 1.         -6.76266142] 33.0 208.92968399903287\n",
      "[ 33.         215.81717645] [-1.          9.84723333] 32.0 225.66440977778637\n",
      "[ 33.         215.81717645] [-1.          9.84723333] 32.0 225.66440977778637\n",
      "[ 33.         215.81717645] [-1.          9.84723333] 32.0 225.66440977778637\n",
      "[ 33.         215.81717645] [-1.          9.84723333] 32.0 225.66440977778637\n",
      "[ 33.         215.81717645] [-1.          9.84723333] 32.0 225.66440977778637\n",
      "[ 33.         215.81717645] [-1.          9.84723333] 32.0 225.66440977778637\n",
      "[ 33.         215.81717645] [ 1.         -9.84723333] 34.0 205.9699431243218\n",
      "[ 33.         215.81717645] [ 1.         -9.84723333] 34.0 205.9699431243218\n",
      "[ 33.         215.81717645] [ 1.         -9.84723333] 34.0 205.9699431243218\n",
      "[ 33.         215.81717645] [ 1.         -9.84723333] 34.0 205.9699431243218\n",
      "[ 33.         215.81717645] [ 1.         -9.84723333] 34.0 205.9699431243218\n",
      "[ 33.         215.81717645] [ 1.         -9.84723333] 34.0 205.9699431243218\n",
      "[ 34.         215.89496833] [-1.         18.58996261] 33.0 234.48493093750153\n",
      "[ 34.         215.89496833] [-1.         18.58996261] 33.0 234.48493093750153\n",
      "[ 34.         215.89496833] [-1.         18.58996261] 33.0 234.48493093750153\n",
      "[ 34.         215.89496833] [-1.         18.58996261] 33.0 234.48493093750153\n",
      "[ 34.         215.89496833] [-1.         18.58996261] 33.0 234.48493093750153\n",
      "[ 34.         215.89496833] [-1.         18.58996261] 33.0 234.48493093750153\n",
      "[ 34.         215.89496833] [-1.         18.58996261] 33.0 234.48493093750153\n",
      "[ 34.         215.89496833] [-1.         18.58996261] 33.0 234.48493093750153\n",
      "[ 34.         215.89496833] [-1.         18.58996261] 33.0 234.48493093750153\n",
      "[ 34.         215.89496833] [-1.         18.58996261] 33.0 234.48493093750153\n",
      "[ 34.         215.89496833] [  1.         -18.58996261] 35.0 197.30500571507105\n",
      "[ 34.         215.89496833] [  1.         -18.58996261] 35.0 197.30500571507105\n",
      "[ 34.         215.89496833] [  1.         -18.58996261] 35.0 197.30500571507105\n",
      "[ 34.         215.89496833] [  1.         -18.58996261] 35.0 197.30500571507105\n",
      "[ 34.         215.89496833] [  1.         -18.58996261] 35.0 197.30500571507105\n",
      "[ 34.         215.89496833] [  1.         -18.58996261] 35.0 197.30500571507105\n",
      "[ 34.         215.89496833] [  1.         -18.58996261] 35.0 197.30500571507105\n",
      "[ 34.         215.89496833] [  1.         -18.58996261] 35.0 197.30500571507105\n",
      "[ 34.         215.89496833] [  1.         -18.58996261] 35.0 197.30500571507105\n",
      "[ 34.         215.89496833] [  1.         -18.58996261] 35.0 197.30500571507105\n",
      "[ 35.         215.92428156] [ -1.         217.67111527] 34.0 433.59539683236756\n",
      "[ 35.         215.92428156] [ -1.         217.67111527] 34.0 433.59539683236756\n",
      "[ 35.         215.92428156] [ -1.         217.67111527] 34.0 433.59539683236756\n",
      "[ 35.         215.92428156] [ -1.         217.67111527] 34.0 433.59539683236756\n",
      "[ 35.         215.92428156] [ -1.         217.67111527] 34.0 433.59539683236756\n",
      "[ 35.         215.92428156] [ -1.         217.67111527] 34.0 433.59539683236756\n",
      "[ 35.         215.92428156] [ -1.         217.67111527] 34.0 433.59539683236756\n",
      "[ 35.         215.92428156] [ -1.         217.67111527] 34.0 433.59539683236756\n",
      "[ 35.         215.92428156] [ -1.         217.67111527] 34.0 433.59539683236756\n",
      "[ 35.         215.92428156] [ -1.         217.67111527] 34.0 433.59539683236756\n",
      "[ 35.         215.92428156] [   1.         -217.67111527] 36.0 -1.7468337089602812\n",
      "[ 35.         215.92428156] [   1.         -217.67111527] 36.0 -1.7468337089602812\n",
      "[ 35.         215.92428156] [   1.         -217.67111527] 36.0 -1.7468337089602812\n",
      "[ 35.         215.92428156] [   1.         -217.67111527] 36.0 -1.7468337089602812\n",
      "[ 35.         215.92428156] [   1.         -217.67111527] 36.0 -1.7468337089602812\n",
      "[ 35.         215.92428156] [   1.         -217.67111527] 36.0 -1.7468337089602812\n",
      "[ 35.         215.92428156] [   1.         -217.67111527] 36.0 -1.7468337089602812\n",
      "[ 35.         215.92428156] [   1.         -217.67111527] 36.0 -1.7468337089602812\n",
      "[ 35.         215.92428156] [   1.         -217.67111527] 36.0 -1.7468337089602812\n",
      "[ 35.         215.92428156] [   1.         -217.67111527] 36.0 -1.7468337089602812\n",
      "[ 36.         215.90367667] [ -1.         -21.71845912] 35.0 194.185217555998\n",
      "[ 36.         215.90367667] [ -1.         -21.71845912] 35.0 194.185217555998\n",
      "[ 36.         215.90367667] [ -1.         -21.71845912] 35.0 194.185217555998\n",
      "[ 36.         215.90367667] [ -1.         -21.71845912] 35.0 194.185217555998\n",
      "[ 36.         215.90367667] [ -1.         -21.71845912] 35.0 194.185217555998\n",
      "[ 36.         215.90367667] [ -1.         -21.71845912] 35.0 194.185217555998\n",
      "[ 36.         215.90367667] [ -1.         -21.71845912] 35.0 194.185217555998\n",
      "[ 36.         215.90367667] [ -1.         -21.71845912] 35.0 194.185217555998\n",
      "[ 36.         215.90367667] [ -1.         -21.71845912] 35.0 194.185217555998\n",
      "[ 36.         215.90367667] [ -1.         -21.71845912] 35.0 194.185217555998\n",
      "[ 36.         215.90367667] [ 1.         21.71845912] 37.0 237.62213578642633\n",
      "[ 36.         215.90367667] [ 1.         21.71845912] 37.0 237.62213578642633\n",
      "[ 36.         215.90367667] [ 1.         21.71845912] 37.0 237.62213578642633\n",
      "[ 36.         215.90367667] [ 1.         21.71845912] 37.0 237.62213578642633\n",
      "[ 36.         215.90367667] [ 1.         21.71845912] 37.0 237.62213578642633\n",
      "[ 36.         215.90367667] [ 1.         21.71845912] 37.0 237.62213578642633\n",
      "[ 36.         215.90367667] [ 1.         21.71845912] 37.0 237.62213578642633\n",
      "[ 36.         215.90367667] [ 1.         21.71845912] 37.0 237.62213578642633\n",
      "[ 36.         215.90367667] [ 1.         21.71845912] 37.0 237.62213578642633\n",
      "[ 36.         215.90367667] [ 1.         21.71845912] 37.0 237.62213578642633\n",
      "[ 37.         215.83171417] [ -1.       -10.191484] 36.0 205.64023016635736\n",
      "[ 37.         215.83171417] [ -1.       -10.191484] 36.0 205.64023016635736\n",
      "[ 37.         215.83171417] [ -1.       -10.191484] 36.0 205.64023016635736\n",
      "[ 37.         215.83171417] [ -1.       -10.191484] 36.0 205.64023016635736\n",
      "[ 37.         215.83171417] [ -1.       -10.191484] 36.0 205.64023016635736\n",
      "[ 37.         215.83171417] [ 1.       10.191484] 38.0 226.02319817107877\n",
      "[ 37.         215.83171417] [ 1.       10.191484] 38.0 226.02319817107877\n",
      "[ 37.         215.83171417] [ 1.       10.191484] 38.0 226.02319817107877\n",
      "[ 37.         215.83171417] [ 1.       10.191484] 38.0 226.02319817107877\n",
      "[ 37.         215.83171417] [ 1.       10.191484] 38.0 226.02319817107877\n",
      "[ 37.         215.83171417] [ 1.       10.191484] 38.0 226.02319817107877\n",
      "[ 37.         215.83171417] [ 1.       10.191484] 38.0 226.02319817107877\n",
      "[ 38.         215.70695457] [-1.       -6.594654] 37.0 209.1123005707075\n",
      "[ 38.         215.70695457] [-1.       -6.594654] 37.0 209.1123005707075\n",
      "[ 38.         215.70695457] [1.       6.594654] 39.0 222.3016085655473\n",
      "[ 38.         215.70695457] [1.       6.594654] 39.0 222.3016085655473\n",
      "[ 38.         215.70695457] [1.       6.594654] 39.0 222.3016085655473\n",
      "[ 39.         215.52795838] [-1.         -4.84040447] 38.0 210.68755391420856\n",
      "[ 39.         215.52795838] [1.         4.84040447] 40.0 220.36836285248413\n",
      "[ 40.         215.29328613] [-1.         -3.80242423] 39.0 211.49086189971374\n",
      "[ 40.         215.29328613] [1.         3.80242423] 41.0 219.09571035684817\n",
      "[ 41.         215.00149832] [-1.         -3.11696001] 40.0 211.88453830411956\n",
      "[ 41.         215.00149832] [1.         3.11696001] 42.0 218.11845832955524\n",
      "[ 42.         214.65115546] [-1.        -2.6308852] 41.0 212.0202702650921\n",
      "[ 42.         214.65115546] [1.        2.6308852] 43.0 217.28204066075142\n",
      "[ 43.         214.24081808] [-1.         -2.26852804] 42.0 211.97229003595893\n"
     ]
    },
    {
     "name": "stdout",
     "output_type": "stream",
     "text": [
      "[ 43.         214.24081808] [1.         2.26852804] 44.0 216.50934612492145\n",
      "[ 44.         213.76904668] [-1.         -1.98819713] 43.0 211.78084954866296\n",
      "[ 44.         213.76904668] [1.         1.98819713] 45.0 215.75724381793464\n",
      "[ 45.         213.23440179] [-1.         -1.76503352] 44.0 211.4693682618606\n",
      "[ 45.         213.23440179] [1.         1.76503352] 46.0 214.99943530894677\n",
      "[ 46.        212.6354439] [-1.         -1.58329508] 45.0 211.05214882111224\n",
      "[ 46.        212.6354439] [1.         1.58329508] 47.0 214.21873898020974\n",
      "[ 47.         211.97073354] [-1.         -1.43252843] 46.0 210.53820510834277\n",
      "[ 47.         211.97073354] [1.         1.43252843] 48.0 213.40326197761084\n",
      "[ 48.         211.23883123] [-1.         -1.30552031] 47.0 209.93331091510655\n",
      "[ 48.         211.23883123] [1.         1.30552031] 49.0 212.544351537408\n",
      "[ 49.         210.43829746] [-1.         -1.19713266] 48.0 209.24116480749825\n",
      "[ 49.         210.43829746] [1.         1.19713266] 50.0 211.6354301213188\n",
      "[ 50.         209.56769277] [-1.        -1.1036066] 49.0 208.46408616964376\n",
      "[ 50.         209.56769277] [1.        1.1036066] 51.0 210.67129937302954\n",
      "[ 51.         208.62557766] [-1.         -1.02212894] 50.0 207.60344872039968\n",
      "[ 51.         208.62557766] [1.         1.02212894] 52.0 209.64770660149583\n",
      "[ 52.         207.61051265] [-1.         -0.95055246] 51.0 206.65996019033093\n",
      "[ 52.         207.61051265] [1.         0.95055246] 53.0 208.56106510396506\n",
      "[ 53.         206.52105824] [-1.         -0.88720995] 52.0 205.63384829273426\n",
      "[ 53.         206.52105824] [1.         0.88720995] 54.0 207.40826819495274\n",
      "[ 54.         205.35577496] [-1.         -0.83078729] 53.0 204.52498767990602\n",
      "[ 54.         205.35577496] [1.         0.83078729] 55.0 206.18656224997466\n",
      "[ 55.         204.11322332] [-1.         -0.78023469] 54.0 203.33298863529703\n",
      "[ 55.         204.11322332] [1.         0.78023469] 56.0 204.89345801339235\n",
      "[ 56.         202.79196384] [-1.         -0.73470352] 55.0 202.05726031242958\n",
      "[ 56.         202.79196384] [1.         0.73470352] 57.0 203.52666735949558\n",
      "[ 57.         201.39055701] [-1.         -0.69350036] 56.0 200.69705665340183\n",
      "[ 57.         201.39055701] [1.         0.69350036] 58.0 202.08405737399863\n",
      "[ 58.         199.90756337] [-1.         -0.65605309] 57.0 199.25151027963548\n",
      "[ 58.         199.90756337] [1.         0.65605309] 59.0 200.56361646329194\n",
      "[ 59.         198.34154342] [-1.         -0.62188555] 58.0 197.7196578765191\n",
      "[ 59.         198.34154342] [1.         0.62188555] 60.0 198.96342896979914\n"
     ]
    },
    {
     "data": {
      "text/plain": [
       "array([array([[ 24, 214],\n",
       "              [ 25, 211]]), array([[ 25, 215],\n",
       "                                   [ 25, 211]]), array([[ 25, 216],\n",
       "                                                        [ 26, 212]]),\n",
       "       array([[ 26, 217],\n",
       "              [ 27, 212]]), array([[ 26, 217],\n",
       "                                   [ 28, 212]]), array([[ 28, 218],\n",
       "                                                        [ 29, 212]]),\n",
       "       array([[ 28, 218],\n",
       "              [ 30, 212]]), array([[ 31, 219],\n",
       "                                   [ 30, 212]]), array([[ 31, 219],\n",
       "                                                        [ 29, 212]]),\n",
       "       array([[ 35, 220],\n",
       "              [ 37, 211]]), array([None, None], dtype=object),\n",
       "       array([None, None], dtype=object),\n",
       "       array([None, None], dtype=object), array([[ 41, 210],\n",
       "                                                 [ 35, 220]]),\n",
       "       array([[ 37, 211],\n",
       "              [ 36, 220]]), array([[ 37, 211],\n",
       "                                   [ 39, 220]]), array([[ 38, 211],\n",
       "                                                        [ 40, 220]]),\n",
       "       array([[ 39, 212],\n",
       "              [ 41, 218]]), array([[ 41, 210],\n",
       "                                   [ 43, 219]]), array([[ 41, 210],\n",
       "                                                        [ 44, 219]]),\n",
       "       array([[ 41, 210],\n",
       "              [ 45, 218]]), array([[ 42, 210],\n",
       "                                   [ 46, 217]]), array([[ 43, 210],\n",
       "                                                        [ 47, 216]]),\n",
       "       array([[ 44, 210],\n",
       "              [ 48, 214]]), array([[ 46, 208],\n",
       "                                   [ 49, 214]]), array([[ 47, 207],\n",
       "                                                        [ 50, 213]]),\n",
       "       array([[ 47, 207],\n",
       "              [ 52, 212]]), array([[ 49, 206],\n",
       "                                   [ 53, 211]]), array([[ 50, 205],\n",
       "                                                        [ 54, 210]]),\n",
       "       array([[ 51, 204],\n",
       "              [ 55, 209]]), array([[ 52, 203],\n",
       "                                   [ 56, 207]]), array([[ 53, 202],\n",
       "                                                        [ 56, 206]]),\n",
       "       array([[ 53, 201],\n",
       "              [ 57, 204]]), array([[ 54, 200],\n",
       "                                   [ 58, 202]]), array([[ 55, 198],\n",
       "                                                        [ 59, 201]]),\n",
       "       array([[ 56, 198],\n",
       "              [ 59, 198]])], dtype=object)"
      ]
     },
     "execution_count": 189,
     "metadata": {},
     "output_type": "execute_result"
    }
   ],
   "source": [
    "outline_points = np.zeros(len(normals), dtype=object)\n",
    "# Idee: erster trace geht nicht nach [-1, slope]/[1, -slope], sondern nach [0, slope]/[0, -slope]\n",
    "def trace(p, v, tolerance):\n",
    "    point = None\n",
    "    alpha = 1\n",
    "    while True:\n",
    "        g = p + alpha * v\n",
    "        points = df.loc[abs(df['x'] - g[0]) <= tolerance].loc[abs(df['y'] - g[1]) <= tolerance]\n",
    "        if points.shape[0] == 0:\n",
    "            break\n",
    "        \n",
    "        point = points.iloc[0]\n",
    "        alpha += 1\n",
    "    \n",
    "    if point is None:\n",
    "        print(p, v, g[0], g[1])\n",
    "    return point\n",
    "    \n",
    "for i in range(len(normals)):\n",
    "# for i in range(1):\n",
    "    # i = 15\n",
    "    x0 = new_x[i]\n",
    "    normal = normals[i]\n",
    "    intercept = normal[i]\n",
    "    slope = -(normal[0] - normal[1])\n",
    "    p = np.array([x0, intercept])\n",
    "    v1 = np.array([-1, -slope])\n",
    "    v2 = np.array([1, slope])\n",
    "    point_1 = None\n",
    "    point_2 = None\n",
    "    for j in range(10):\n",
    "        point_1 = trace(p, v1, j)\n",
    "        if point_1 is not None:\n",
    "            break\n",
    "\n",
    "    for j in range(10):\n",
    "        point_2 = trace(p, v2, j)\n",
    "        if point_2 is not None:\n",
    "            break\n",
    "    \n",
    "    outline_points[i] = np.array([point_1, point_2])\n",
    "\n",
    "outline_points"
   ]
  },
  {
   "cell_type": "code",
   "execution_count": 185,
   "metadata": {
    "scrolled": true
   },
   "outputs": [
    {
     "data": {
      "text/plain": [
       "array([array([[ 24, 214],\n",
       "              [ 25, 211]]), array([[ 25, 215],\n",
       "                                   [ 25, 211]]), array([[ 25, 216],\n",
       "                                                        [ 26, 212]]),\n",
       "       array([[ 26, 217],\n",
       "              [ 27, 212]]), array([[ 26, 217],\n",
       "                                   [ 28, 212]]), array([[ 28, 218],\n",
       "                                                        [ 29, 212]]),\n",
       "       array([[ 28, 218],\n",
       "              [ 30, 212]]), array([[ 31, 219],\n",
       "                                   [ 30, 212]]), array([[ 31, 219],\n",
       "                                                        [ 29, 212]]),\n",
       "       array([[ 35, 220],\n",
       "              [ 37, 211]]), array([[ 41, 210],\n",
       "                                   [ 35, 220]]), array([[ 37, 211],\n",
       "                                                        [ 36, 220]]),\n",
       "       array([[ 37, 211],\n",
       "              [ 39, 220]]), array([[ 38, 211],\n",
       "                                   [ 40, 220]]), array([[ 39, 212],\n",
       "                                                        [ 41, 218]]),\n",
       "       array([[ 41, 210],\n",
       "              [ 43, 219]]), array([[ 41, 210],\n",
       "                                   [ 44, 219]]), array([[ 41, 210],\n",
       "                                                        [ 45, 218]]),\n",
       "       array([[ 42, 210],\n",
       "              [ 46, 217]]), array([[ 43, 210],\n",
       "                                   [ 47, 216]]), array([[ 44, 210],\n",
       "                                                        [ 48, 214]]),\n",
       "       array([[ 46, 208],\n",
       "              [ 49, 214]]), array([[ 47, 207],\n",
       "                                   [ 50, 213]]), array([[ 47, 207],\n",
       "                                                        [ 52, 212]]),\n",
       "       array([[ 49, 206],\n",
       "              [ 53, 211]]), array([[ 50, 205],\n",
       "                                   [ 54, 210]]), array([[ 51, 204],\n",
       "                                                        [ 55, 209]]),\n",
       "       array([[ 52, 203],\n",
       "              [ 56, 207]]), array([[ 53, 202],\n",
       "                                   [ 56, 206]]), array([[ 53, 201],\n",
       "                                                        [ 57, 204]]),\n",
       "       array([[ 54, 200],\n",
       "              [ 58, 202]]), array([[ 55, 198],\n",
       "                                   [ 59, 201]]), array([[ 56, 198],\n",
       "                                                        [ 59, 198]])],\n",
       "      dtype=object)"
      ]
     },
     "execution_count": 185,
     "metadata": {},
     "output_type": "execute_result"
    }
   ],
   "source": [
    "indices = []\n",
    "for i in range(len(outline_points)):\n",
    "    if None in outline_points[i]:\n",
    "        indices.append(i)\n",
    "\n",
    "outline_points = np.delete(outline_points, indices)\n",
    "outline_points"
   ]
  },
  {
   "cell_type": "code",
   "execution_count": 149,
   "metadata": {},
   "outputs": [
    {
     "data": {
      "text/plain": [
       "array([24, 25, 26, 27, 28, 29, 30, 31, 32, 33, 34, 35, 36, 37, 38, 39, 40,\n",
       "       41, 42, 43, 44, 45, 46, 47, 48, 49, 50, 51, 52, 53, 54, 55, 56, 57,\n",
       "       58, 59])"
      ]
     },
     "execution_count": 149,
     "metadata": {},
     "output_type": "execute_result"
    }
   ],
   "source": [
    "new_x"
   ]
  },
  {
   "cell_type": "code",
   "execution_count": 150,
   "metadata": {},
   "outputs": [
    {
     "data": {
      "image/png": "[encoded data removed]",
      "text/plain": [
       "<Figure size 432x288 with 1 Axes>"
      ]
     },
     "metadata": {
      "needs_background": "light"
     },
     "output_type": "display_data"
    }
   ],
   "source": [
    "indx = 8\n",
    "plt.scatter(x, y)\n",
    "ax = plt.gca()\n",
    "ax.plot(x, fun, c='r')\n",
    "ax.plot(new_x, poly.polyval(new_x[indx], z) - (1 / poly.polyval(new_x[indx], der)) * (new_x - new_x[indx]))\n",
    "#ax.scatter(point_1[0], point_1[1], color='red')\n",
    "#ax.scatter(point_2[0], point_2[1], color='orange')\n",
    "plt.ylim((min(y) - 5, max(y) + 5))\n",
    "plt.show()"
   ]
  },
  {
   "cell_type": "code",
   "execution_count": 186,
   "metadata": {},
   "outputs": [
    {
     "data": {
      "image/png": "[encoded data removed]",
      "text/plain": [
       "<Figure size 432x288 with 1 Axes>"
      ]
     },
     "metadata": {
      "needs_background": "light"
     },
     "output_type": "display_data"
    }
   ],
   "source": [
    "plt.scatter(x, y)\n",
    "ax = plt.gca()\n",
    "ax.plot(x, fun, c='r')\n",
    "for i in range(len(normals)):\n",
    "    ax.plot(new_x, normals[i], c='green')\n",
    "\n",
    "for i in range(len(outline_points)):\n",
    "    ax.scatter(outline_points[i][0][0], outline_points[i][0][1], color='red')\n",
    "    ax.scatter(outline_points[i][1][0], outline_points[i][1][1], color='orange')\n",
    "    \n",
    "plt.ylim((min(y) - 5, max(y) + 5))\n",
    "plt.show()"
   ]
  },
  {
   "cell_type": "code",
   "execution_count": null,
   "metadata": {},
   "outputs": [],
   "source": []
  }
 ],
 "metadata": {
  "kernelspec": {
   "display_name": "Python 3 (ipykernel)",
   "language": "python",
   "name": "python3"
  },
  "language_info": {
   "codemirror_mode": {
    "name": "ipython",
    "version": 3
   },
   "file_extension": ".py",
   "mimetype": "text/x-python",
   "name": "python",
   "nbconvert_exporter": "python",
   "pygments_lexer": "ipython3",
   "version": "3.9.6"
  }
 },
 "nbformat": 4,
 "nbformat_minor": 1
}
