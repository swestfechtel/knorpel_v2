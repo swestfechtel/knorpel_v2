{
 "cells": [
  {
   "cell_type": "code",
   "execution_count": 1,
   "metadata": {},
   "outputs": [],
   "source": [
    "import utility\n",
    "from tqdm import tqdm\n",
    "import os\n",
    "from sklearn.cluster import KMeans\n",
    "import pyvista as pv\n",
    "import pandas as pd\n",
    "import numpy as np\n",
    "from IPython.display import Image\n",
    "from collections import defaultdict\n",
    "from scipy.spatial import KDTree"
   ]
  },
  {
   "cell_type": "code",
   "execution_count": 2,
   "metadata": {},
   "outputs": [
    {
     "data": {
      "text/plain": [
       "<module 'utility' from '/home/simon/knorpel_v2/utility.py'>"
      ]
     },
     "execution_count": 2,
     "metadata": {},
     "output_type": "execute_result"
    }
   ],
   "source": [
    "import importlib\n",
    "importlib.reload(utility)"
   ]
  },
  {
   "cell_type": "markdown",
   "metadata": {},
   "source": [
    "Disable shortcuts\n",
    "<script>Jupyter.keyboard_manager.disable()</script>"
   ]
  },
  {
   "cell_type": "code",
   "execution_count": 3,
   "metadata": {},
   "outputs": [],
   "source": [
    "sitk_image, np_image = utility.read_image('/home/simon/Pictures/9001104/9001104_segm.mhd')"
   ]
  },
  {
   "cell_type": "code",
   "execution_count": 4,
   "metadata": {},
   "outputs": [],
   "source": [
    "femoral_cartilage = utility.build_3d_cartilage_array(np_image, 3)\n",
    "tibial_cartilage = utility.build_3d_cartilage_array(np_image, 4)\n",
    "\n",
    "femoral_vectors = [list(element) for element in femoral_cartilage]\n",
    "tibial_vectors = [list(element) for element in tibial_cartilage]"
   ]
  },
  {
   "cell_type": "code",
   "execution_count": 77,
   "metadata": {},
   "outputs": [
    {
     "name": "stderr",
     "output_type": "stream",
     "text": [
      "100%|█████████████████████████████████████████| 160/160 [01:28<00:00,  1.82it/s]\n"
     ]
    },
    {
     "ename": "TypeError",
     "evalue": "Points must be a numeric type",
     "output_type": "error",
     "traceback": [
      "\u001b[0;31m---------------------------------------------------------------------------\u001b[0m",
      "\u001b[0;31mTypeError\u001b[0m                                 Traceback (most recent call last)",
      "\u001b[0;32m/tmp/ipykernel_4127/16400024.py\u001b[0m in \u001b[0;36m<module>\u001b[0;34m\u001b[0m\n\u001b[1;32m     11\u001b[0m \u001b[0mabc\u001b[0m \u001b[0;34m=\u001b[0m \u001b[0mabc\u001b[0m\u001b[0;34m[\u001b[0m\u001b[0mabc\u001b[0m \u001b[0;34m!=\u001b[0m \u001b[0;36m0\u001b[0m\u001b[0;34m]\u001b[0m\u001b[0;34m\u001b[0m\u001b[0;34m\u001b[0m\u001b[0m\n\u001b[1;32m     12\u001b[0m \u001b[0mp\u001b[0m \u001b[0;34m=\u001b[0m \u001b[0mpv\u001b[0m\u001b[0;34m.\u001b[0m\u001b[0mPlotter\u001b[0m\u001b[0;34m(\u001b[0m\u001b[0;34m)\u001b[0m\u001b[0;34m\u001b[0m\u001b[0;34m\u001b[0m\u001b[0m\n\u001b[0;32m---> 13\u001b[0;31m \u001b[0mp\u001b[0m\u001b[0;34m.\u001b[0m\u001b[0madd_mesh\u001b[0m\u001b[0;34m(\u001b[0m\u001b[0mpv\u001b[0m\u001b[0;34m.\u001b[0m\u001b[0mPolyData\u001b[0m\u001b[0;34m(\u001b[0m\u001b[0mabc\u001b[0m\u001b[0;34m)\u001b[0m\u001b[0;34m)\u001b[0m\u001b[0;34m\u001b[0m\u001b[0;34m\u001b[0m\u001b[0m\n\u001b[0m\u001b[1;32m     14\u001b[0m \u001b[0mp\u001b[0m\u001b[0;34m.\u001b[0m\u001b[0mshow\u001b[0m\u001b[0;34m(\u001b[0m\u001b[0;34m)\u001b[0m\u001b[0;34m\u001b[0m\u001b[0;34m\u001b[0m\u001b[0m\n",
      "\u001b[0;32m~/anaconda3/envs/work/lib/python3.9/site-packages/pyvista/core/pointset.py\u001b[0m in \u001b[0;36m__init__\u001b[0;34m(self, var_inp, faces, n_faces, lines, n_lines, deep, force_ext)\u001b[0m\n\u001b[1;32m    234\u001b[0m         \u001b[0;31m# First parameter is points\u001b[0m\u001b[0;34m\u001b[0m\u001b[0;34m\u001b[0m\u001b[0;34m\u001b[0m\u001b[0m\n\u001b[1;32m    235\u001b[0m         \u001b[0;32mif\u001b[0m \u001b[0misinstance\u001b[0m\u001b[0;34m(\u001b[0m\u001b[0mvar_inp\u001b[0m\u001b[0;34m,\u001b[0m \u001b[0;34m(\u001b[0m\u001b[0mnp\u001b[0m\u001b[0;34m.\u001b[0m\u001b[0mndarray\u001b[0m\u001b[0;34m,\u001b[0m \u001b[0mlist\u001b[0m\u001b[0;34m)\u001b[0m\u001b[0;34m)\u001b[0m\u001b[0;34m:\u001b[0m\u001b[0;34m\u001b[0m\u001b[0;34m\u001b[0m\u001b[0m\n\u001b[0;32m--> 236\u001b[0;31m             \u001b[0mself\u001b[0m\u001b[0;34m.\u001b[0m\u001b[0mSetPoints\u001b[0m\u001b[0;34m(\u001b[0m\u001b[0mpyvista\u001b[0m\u001b[0;34m.\u001b[0m\u001b[0mvtk_points\u001b[0m\u001b[0;34m(\u001b[0m\u001b[0mvar_inp\u001b[0m\u001b[0;34m,\u001b[0m \u001b[0mdeep\u001b[0m\u001b[0;34m=\u001b[0m\u001b[0mdeep\u001b[0m\u001b[0;34m)\u001b[0m\u001b[0;34m)\u001b[0m\u001b[0;34m\u001b[0m\u001b[0;34m\u001b[0m\u001b[0m\n\u001b[0m\u001b[1;32m    237\u001b[0m         \u001b[0;32melse\u001b[0m\u001b[0;34m:\u001b[0m\u001b[0;34m\u001b[0m\u001b[0;34m\u001b[0m\u001b[0m\n\u001b[1;32m    238\u001b[0m             msg = f\"\"\"\n",
      "\u001b[0;32m~/anaconda3/envs/work/lib/python3.9/site-packages/pyvista/utilities/helpers.py\u001b[0m in \u001b[0;36mvtk_points\u001b[0;34m(points, deep)\u001b[0m\n\u001b[1;32m    257\u001b[0m     \u001b[0;31m# verify is numeric\u001b[0m\u001b[0;34m\u001b[0m\u001b[0;34m\u001b[0m\u001b[0;34m\u001b[0m\u001b[0m\n\u001b[1;32m    258\u001b[0m     \u001b[0;32mif\u001b[0m \u001b[0;32mnot\u001b[0m \u001b[0mnp\u001b[0m\u001b[0;34m.\u001b[0m\u001b[0missubdtype\u001b[0m\u001b[0;34m(\u001b[0m\u001b[0mpoints\u001b[0m\u001b[0;34m.\u001b[0m\u001b[0mdtype\u001b[0m\u001b[0;34m,\u001b[0m \u001b[0mnp\u001b[0m\u001b[0;34m.\u001b[0m\u001b[0mnumber\u001b[0m\u001b[0;34m)\u001b[0m\u001b[0;34m:\u001b[0m\u001b[0;34m\u001b[0m\u001b[0;34m\u001b[0m\u001b[0m\n\u001b[0;32m--> 259\u001b[0;31m         \u001b[0;32mraise\u001b[0m \u001b[0mTypeError\u001b[0m\u001b[0;34m(\u001b[0m\u001b[0;34m'Points must be a numeric type'\u001b[0m\u001b[0;34m)\u001b[0m\u001b[0;34m\u001b[0m\u001b[0;34m\u001b[0m\u001b[0m\n\u001b[0m\u001b[1;32m    260\u001b[0m \u001b[0;34m\u001b[0m\u001b[0m\n\u001b[1;32m    261\u001b[0m     \u001b[0;31m# check dimensionality\u001b[0m\u001b[0;34m\u001b[0m\u001b[0;34m\u001b[0m\u001b[0;34m\u001b[0m\u001b[0m\n",
      "\u001b[0;31mTypeError\u001b[0m: Points must be a numeric type"
     ]
    }
   ],
   "source": [
    "abc = [0] * (np_image.shape[0] * np_image.shape[1] * np_image.shape[2])\n",
    "indx = 0\n",
    "for y in tqdm(range(np_image.shape[0])):\n",
    "    for x in range(np_image.shape[1]):\n",
    "        for z in range(np_image.shape[2]):\n",
    "            if np_image[y,x,z] != 0:\n",
    "                abc[indx] = [x, y, z]\n",
    "                indx += 1\n",
    "\n",
    "abc = np.array(abc, dtype=object)\n",
    "abc = abc[abc != 0] \n",
    "abc = [list(element) for element in abc]"
   ]
  },
  {
   "cell_type": "code",
   "execution_count": 82,
   "metadata": {},
   "outputs": [
    {
     "data": {
      "application/vnd.jupyter.widget-view+json": {
       "model_id": "fa68af4de60a49398f23ec9dea01d1a3",
       "version_major": 2,
       "version_minor": 0
      },
      "text/plain": [
       "ViewInteractiveWidget(height=768, layout=Layout(height='auto', width='100%'), width=1024)"
      ]
     },
     "metadata": {},
     "output_type": "display_data"
    }
   ],
   "source": [
    "p = pv.Plotter()\n",
    "p.add_mesh(pv.PolyData(abc), color='red', opacity=.25)\n",
    "p.show()"
   ]
  },
  {
   "cell_type": "code",
   "execution_count": 22,
   "metadata": {},
   "outputs": [
    {
     "data": {
      "application/vnd.jupyter.widget-view+json": {
       "model_id": "265d04ac2224473d97bef6c8a935a80e",
       "version_major": 2,
       "version_minor": 0
      },
      "text/plain": [
       "ViewInteractiveWidget(height=768, layout=Layout(height='auto', width='100%'), width=1024)"
      ]
     },
     "metadata": {},
     "output_type": "display_data"
    }
   ],
   "source": [
    "p = pv.Plotter()\n",
    "\n",
    "x, y, z, xy = utility.get_xyz(tibial_vectors)\n",
    "df = pd.DataFrame(data={'x': z, 'y': y, 'z': x}, columns=['x', 'y', 'z'])\n",
    "p.add_mesh(pv.PolyData(df.to_numpy()), color='red')\n",
    "\n",
    "x, y, z, xy = utility.get_xyz(femoral_vectors)\n",
    "df = pd.DataFrame(data={'x': z, 'y': y, 'z': x}, columns=['x', 'y', 'z'])\n",
    "p.add_mesh(pv.PolyData(df.to_numpy()), color='green')\n",
    "\n",
    "tmp_vectors = utility.build_3d_cartilage_array(np_image, 1)\n",
    "x, y, z, xy = utility.get_xyz(tmp_vectors)\n",
    "df = pd.DataFrame(data={'x': z, 'y': y, 'z': x}, columns=['x', 'y', 'z'])\n",
    "p.add_mesh(pv.PolyData(df.to_numpy()), color='blue')\n",
    "\n",
    "tmp_vectors = utility.build_3d_cartilage_array(np_image, 2)\n",
    "x, y, z, xy = utility.get_xyz(tmp_vectors)\n",
    "df = pd.DataFrame(data={'x': z, 'y': y, 'z': x}, columns=['x', 'y', 'z'])\n",
    "p.add_mesh(pv.PolyData(df.to_numpy()), color='yellow')\n",
    "\n",
    "p.show_grid()\n",
    "p.show()"
   ]
  },
  {
   "cell_type": "markdown",
   "metadata": {},
   "source": [
    "# Tibia"
   ]
  },
  {
   "cell_type": "code",
   "execution_count": 5,
   "metadata": {},
   "outputs": [],
   "source": [
    "x, y, z, xy = utility.get_xyz(tibial_vectors)\n",
    "df = pd.DataFrame(data={'x': z, 'y': y, 'z': x}, columns=['x', 'y', 'z'])"
   ]
  },
  {
   "cell_type": "code",
   "execution_count": 6,
   "metadata": {},
   "outputs": [
    {
     "data": {
      "application/vnd.jupyter.widget-view+json": {
       "model_id": "ef879fe947e14eef8d86674c3619f68b",
       "version_major": 2,
       "version_minor": 0
      },
      "text/plain": [
       "ViewInteractiveWidget(height=768, layout=Layout(height='auto', width='100%'), width=1024)"
      ]
     },
     "metadata": {},
     "output_type": "display_data"
    }
   ],
   "source": [
    "p = pv.Plotter()\n",
    "p.add_mesh(pv.PolyData(df.to_numpy()))\n",
    "p.show_grid()\n",
    "p.show()\n",
    "p.render()\n",
    "p.save_graphic('s1.svg')"
   ]
  },
  {
   "cell_type": "markdown",
   "metadata": {},
   "source": [
    "### Approach:\n",
    "Construct an upper and a lower mesh out of the cartilage volume and calculate the distance between the meshes (by raytracing, nearest neighbors, etc). To this end, group by x, y coordinates and for each pair (x, y), take the maximum z coordinate for the upper mesh and the minimum z coordinate for the lower mesh."
   ]
  },
  {
   "cell_type": "code",
   "execution_count": 7,
   "metadata": {},
   "outputs": [],
   "source": [
    "max_z = df.groupby(['x', 'y']).max()\n",
    "min_z = df.groupby(['x', 'y']).min()\n",
    "\n",
    "tmp1 = [np.array(item) for item in max_z.index]\n",
    "tmp2 = [item for item in max_z.to_numpy()]\n",
    "max_z = np.column_stack((tmp1, tmp2))\n",
    "\n",
    "tmp1 = [np.array(item) for item in min_z.index]\n",
    "tmp2 = [item for item in min_z.to_numpy()]\n",
    "min_z = np.column_stack((tmp1, tmp2))"
   ]
  },
  {
   "cell_type": "code",
   "execution_count": 8,
   "metadata": {},
   "outputs": [],
   "source": [
    "upper_cloud = pv.PolyData(max_z)\n",
    "lower_cloud = pv.PolyData(min_z)"
   ]
  },
  {
   "cell_type": "code",
   "execution_count": 9,
   "metadata": {},
   "outputs": [
    {
     "data": {
      "application/vnd.jupyter.widget-view+json": {
       "model_id": "caa3f117e3d145c59b54ab625b134f6c",
       "version_major": 2,
       "version_minor": 0
      },
      "text/plain": [
       "ViewInteractiveWidget(height=768, layout=Layout(height='auto', width='100%'), width=1024)"
      ]
     },
     "metadata": {},
     "output_type": "display_data"
    }
   ],
   "source": [
    "p = pv.Plotter()\n",
    "p.add_mesh(upper_cloud, color='green')\n",
    "p.add_mesh(lower_cloud, color='red')\n",
    "p.add_mesh(pv.PolyData(df.to_numpy()), color='blue', opacity=0.25)\n",
    "p.add_legend([['bone-sided mesh', 'green'], ['cartilage-sided mesh', 'red']])\n",
    "p.show_grid()\n",
    "p.show()\n",
    "p.render()\n",
    "p.save_graphic('tibial_points.svg')"
   ]
  },
  {
   "cell_type": "code",
   "execution_count": 10,
   "metadata": {},
   "outputs": [],
   "source": [
    "# build polygon meshes for both point clouds using delaunay\n",
    "lower_mesh = lower_cloud.delaunay_2d()\n",
    "upper_mesh = upper_cloud.delaunay_2d()"
   ]
  },
  {
   "cell_type": "markdown",
   "metadata": {},
   "source": [
    "We can now calculate the distance between the two meshes. In this example, we simply calculate the mean total distance using a k-d tree nearest neighbor search. For division into subregions, it is better to do raytracing from one mesh's normal vectors against the other mesh."
   ]
  },
  {
   "cell_type": "code",
   "execution_count": 11,
   "metadata": {},
   "outputs": [
    {
     "data": {
      "text/plain": [
       "2.738797585520011"
      ]
     },
     "execution_count": 11,
     "metadata": {},
     "output_type": "execute_result"
    }
   ],
   "source": [
    "from scipy.spatial import KDTree\n",
    "\n",
    "tree = KDTree(upper_cloud.points)\n",
    "d, idx = tree.query(lower_cloud.points)\n",
    "lower_cloud['distances'] = d\n",
    "np.mean(d)"
   ]
  },
  {
   "cell_type": "code",
   "execution_count": 12,
   "metadata": {},
   "outputs": [
    {
     "data": {
      "text/plain": [
       "<module 'utility' from '/home/simon/knorpel_v2/utility.py'>"
      ]
     },
     "execution_count": 12,
     "metadata": {},
     "output_type": "execute_result"
    }
   ],
   "source": [
    "importlib.reload(utility)"
   ]
  },
  {
   "cell_type": "code",
   "execution_count": 13,
   "metadata": {},
   "outputs": [
    {
     "name": "stderr",
     "output_type": "stream",
     "text": [
      "100%|█████████████████████████████████████| 8337/8337 [00:01<00:00, 6335.20it/s]\n"
     ]
    },
    {
     "data": {
      "text/plain": [
       "dict_keys(['aLT', 'iLT', 'aMT', 'eLT', 'iMT', 'eMT', 'cLT', 'cMT', 'pLT', 'pMT'])"
      ]
     },
     "execution_count": 13,
     "metadata": {},
     "output_type": "execute_result"
    }
   ],
   "source": [
    "dd = defaultdict(list)\n",
    "left_tibial_regions, right_tibial_regions, split_vector = utility.tibial_landmarks(lower_mesh.points)\n",
    "for v in tqdm(lower_mesh.points):\n",
    "    vector = np.array(v)\n",
    "    # print(vector)\n",
    "    label = utility.classify_tibial_point(vector[:2], left_tibial_regions, right_tibial_regions, split_vector)\n",
    "    dd[label].append(vector)\n",
    "\n",
    "dd.keys()"
   ]
  },
  {
   "cell_type": "code",
   "execution_count": 14,
   "metadata": {},
   "outputs": [
    {
     "data": {
      "text/plain": [
       "array([[ 76,   0,  23],\n",
       "       [ 77,   0,  23],\n",
       "       [ 78,   0,  23],\n",
       "       ...,\n",
       "       [ 70, 108,  23],\n",
       "       [ 71, 108,  23],\n",
       "       [ 72, 108,  23]])"
      ]
     },
     "execution_count": 14,
     "metadata": {},
     "output_type": "execute_result"
    }
   ],
   "source": [
    "df.to_numpy()"
   ]
  },
  {
   "cell_type": "code",
   "execution_count": 15,
   "metadata": {},
   "outputs": [
    {
     "data": {
      "text/plain": [
       "[[0, 0], [129, 0], [129, 43], [0, 43], 17.0, array([66.40004538, 23.04606308])]"
      ]
     },
     "execution_count": 15,
     "metadata": {},
     "output_type": "execute_result"
    }
   ],
   "source": [
    "left_tibial_regions"
   ]
  },
  {
   "cell_type": "code",
   "execution_count": 16,
   "metadata": {
    "scrolled": false
   },
   "outputs": [
    {
     "data": {
      "application/vnd.jupyter.widget-view+json": {
       "model_id": "9c7c724c61f34c94a57986bf1211b1e2",
       "version_major": 2,
       "version_minor": 0
      },
      "text/plain": [
       "ViewInteractiveWidget(height=768, layout=Layout(height='auto', width='100%'), width=1024)"
      ]
     },
     "metadata": {},
     "output_type": "display_data"
    }
   ],
   "source": [
    "p = pv.Plotter()\n",
    "p.add_mesh(pv.PolyData(dd['eLT']), color='red')\n",
    "p.add_mesh(pv.PolyData(dd['pLT']), color='blue')\n",
    "p.add_mesh(pv.PolyData(dd['cLT']), color='green')\n",
    "p.add_mesh(pv.PolyData(dd['aLT']), color='pink')\n",
    "p.add_mesh(pv.PolyData(dd['iLT']), color='yellow')\n",
    "p.add_mesh(pv.PolyData(dd['eMT']), color='red')\n",
    "p.add_mesh(pv.PolyData(dd['pMT']), color='blue')\n",
    "p.add_mesh(pv.PolyData(dd['cMT']), color='green')\n",
    "p.add_mesh(pv.PolyData(dd['aMT']), color='pink')\n",
    "p.add_mesh(pv.PolyData(dd['iMT']), color='yellow')\n",
    "p.add_legend([['external', 'red'], ['posterior', 'blue'], ['anterior', 'pink'], ['internal', 'yellow'], ['central', 'green']])\n",
    "p.add_title('Subregions of the tibial cartilage')\n",
    "p.show_grid()\n",
    "p.show()\n",
    "p.render()\n",
    "p.save_graphic('tibial_subregions.svg')"
   ]
  },
  {
   "cell_type": "markdown",
   "metadata": {},
   "source": [
    "# Femur"
   ]
  },
  {
   "cell_type": "code",
   "execution_count": 35,
   "metadata": {},
   "outputs": [],
   "source": [
    "x, y, z, xy = utility.get_xyz(femoral_vectors)\n",
    "df = pd.DataFrame(data={'x': z, 'y': y, 'z': x}, columns=['x', 'y', 'z'])"
   ]
  },
  {
   "cell_type": "code",
   "execution_count": 36,
   "metadata": {},
   "outputs": [
    {
     "data": {
      "application/vnd.jupyter.widget-view+json": {
       "model_id": "b143e811b181468f956d79b9937aaff3",
       "version_major": 2,
       "version_minor": 0
      },
      "text/plain": [
       "ViewInteractiveWidget(height=768, layout=Layout(height='auto', width='100%'), width=1024)"
      ]
     },
     "metadata": {},
     "output_type": "display_data"
    }
   ],
   "source": [
    "p = pv.Plotter()\n",
    "p.add_mesh(pv.PolyData(df.to_numpy()))\n",
    "p.show_grid()\n",
    "p.show()\n",
    "p.render()\n",
    "p.save_graphic('s2.svg')"
   ]
  },
  {
   "cell_type": "markdown",
   "metadata": {},
   "source": [
    "### Approach:\n",
    "Using the same approach as for the tibial cartilage is not possible due to the volume's shape. Let's illustrate the problem: <br><br>\n",
    "Instead of going by z coordinate, it makes more sense to take a central point and introduce a distance measure to that point."
   ]
  },
  {
   "cell_type": "code",
   "execution_count": 37,
   "metadata": {},
   "outputs": [
    {
     "data": {
      "text/html": [
       "<div>\n",
       "<style scoped>\n",
       "    .dataframe tbody tr th:only-of-type {\n",
       "        vertical-align: middle;\n",
       "    }\n",
       "\n",
       "    .dataframe tbody tr th {\n",
       "        vertical-align: top;\n",
       "    }\n",
       "\n",
       "    .dataframe thead th {\n",
       "        text-align: right;\n",
       "    }\n",
       "</style>\n",
       "<table border=\"1\" class=\"dataframe\">\n",
       "  <thead>\n",
       "    <tr style=\"text-align: right;\">\n",
       "      <th></th>\n",
       "      <th>x</th>\n",
       "      <th>y</th>\n",
       "      <th>z</th>\n",
       "      <th>dist_to_cog</th>\n",
       "    </tr>\n",
       "  </thead>\n",
       "  <tbody>\n",
       "    <tr>\n",
       "      <th>0</th>\n",
       "      <td>170</td>\n",
       "      <td>0</td>\n",
       "      <td>52</td>\n",
       "      <td>93.364876</td>\n",
       "    </tr>\n",
       "    <tr>\n",
       "      <th>1</th>\n",
       "      <td>171</td>\n",
       "      <td>0</td>\n",
       "      <td>52</td>\n",
       "      <td>94.180677</td>\n",
       "    </tr>\n",
       "    <tr>\n",
       "      <th>2</th>\n",
       "      <td>169</td>\n",
       "      <td>0</td>\n",
       "      <td>53</td>\n",
       "      <td>92.504054</td>\n",
       "    </tr>\n",
       "    <tr>\n",
       "      <th>3</th>\n",
       "      <td>170</td>\n",
       "      <td>0</td>\n",
       "      <td>53</td>\n",
       "      <td>93.316665</td>\n",
       "    </tr>\n",
       "    <tr>\n",
       "      <th>4</th>\n",
       "      <td>171</td>\n",
       "      <td>0</td>\n",
       "      <td>53</td>\n",
       "      <td>94.132885</td>\n",
       "    </tr>\n",
       "    <tr>\n",
       "      <th>...</th>\n",
       "      <td>...</td>\n",
       "      <td>...</td>\n",
       "      <td>...</td>\n",
       "      <td>...</td>\n",
       "    </tr>\n",
       "    <tr>\n",
       "      <th>122282</th>\n",
       "      <td>139</td>\n",
       "      <td>108</td>\n",
       "      <td>99</td>\n",
       "      <td>81.884064</td>\n",
       "    </tr>\n",
       "    <tr>\n",
       "      <th>122283</th>\n",
       "      <td>140</td>\n",
       "      <td>108</td>\n",
       "      <td>99</td>\n",
       "      <td>82.437855</td>\n",
       "    </tr>\n",
       "    <tr>\n",
       "      <th>122284</th>\n",
       "      <td>141</td>\n",
       "      <td>108</td>\n",
       "      <td>99</td>\n",
       "      <td>83.000000</td>\n",
       "    </tr>\n",
       "    <tr>\n",
       "      <th>122285</th>\n",
       "      <td>142</td>\n",
       "      <td>108</td>\n",
       "      <td>99</td>\n",
       "      <td>83.570330</td>\n",
       "    </tr>\n",
       "    <tr>\n",
       "      <th>122286</th>\n",
       "      <td>143</td>\n",
       "      <td>108</td>\n",
       "      <td>99</td>\n",
       "      <td>84.148678</td>\n",
       "    </tr>\n",
       "  </tbody>\n",
       "</table>\n",
       "<p>122287 rows × 4 columns</p>\n",
       "</div>"
      ],
      "text/plain": [
       "          x    y   z  dist_to_cog\n",
       "0       170    0  52    93.364876\n",
       "1       171    0  52    94.180677\n",
       "2       169    0  53    92.504054\n",
       "3       170    0  53    93.316665\n",
       "4       171    0  53    94.132885\n",
       "...     ...  ...  ..          ...\n",
       "122282  139  108  99    81.884064\n",
       "122283  140  108  99    82.437855\n",
       "122284  141  108  99    83.000000\n",
       "122285  142  108  99    83.570330\n",
       "122286  143  108  99    84.148678\n",
       "\n",
       "[122287 rows x 4 columns]"
      ]
     },
     "execution_count": 37,
     "metadata": {},
     "output_type": "execute_result"
    }
   ],
   "source": [
    "center = np.array([df.x.min() + (df.x.max() - df.x.min()) / 2,\n",
    "                   df.y.min() + (df.y.max() - df.y.min()) / 2,\n",
    "                   df.z.min() + (df.z.max() - df.z.min()) / 2])\n",
    "\n",
    "df['dist_to_cog'] = np.zeros(df.shape[0])\n",
    "df['dist_to_cog'] = df.apply(lambda l: utility.vector_distance([l.x, l.y, l.z], center), axis=1)\n",
    "df"
   ]
  },
  {
   "cell_type": "markdown",
   "metadata": {},
   "source": [
    "If we now again group by x, y and take the min/max distance..."
   ]
  },
  {
   "cell_type": "code",
   "execution_count": 38,
   "metadata": {},
   "outputs": [],
   "source": [
    "max_z = df[df.groupby(['x', 'y'])['dist_to_cog'].transform(max) == df['dist_to_cog']]\n",
    "min_z = df[df.groupby(['x', 'y'])['dist_to_cog'].transform(min) == df['dist_to_cog']]\n",
    "\n",
    "max_z = [item[:3] for item in max_z.to_numpy()]\n",
    "min_z = [item[:3] for item in min_z.to_numpy()]"
   ]
  },
  {
   "cell_type": "code",
   "execution_count": 39,
   "metadata": {},
   "outputs": [],
   "source": [
    "upper_cloud = pv.PolyData(max_z)\n",
    "lower_cloud = pv.PolyData(min_z)"
   ]
  },
  {
   "cell_type": "code",
   "execution_count": 40,
   "metadata": {},
   "outputs": [
    {
     "data": {
      "application/vnd.jupyter.widget-view+json": {
       "model_id": "567aa284fdb84f0d9e5eb5982c6ae589",
       "version_major": 2,
       "version_minor": 0
      },
      "text/plain": [
       "ViewInteractiveWidget(height=768, layout=Layout(height='auto', width='100%'), width=1024)"
      ]
     },
     "metadata": {},
     "output_type": "display_data"
    }
   ],
   "source": [
    "p = pv.Plotter()\n",
    "p.add_mesh(upper_cloud, color='red')\n",
    "p.add_mesh(lower_cloud, color='green')\n",
    "p.add_mesh(pv.PolyData(df.to_numpy()[:,0:3]), color='blue', opacity=0.25)\n",
    "p.add_legend([['bone-sided mesh', 'green'], ['cartilage-sided mesh', 'red']])\n",
    "p.show_grid()\n",
    "p.show()\n",
    "p.render()\n",
    "p.save_graphic('femoral_points.svg')"
   ]
  },
  {
   "cell_type": "markdown",
   "metadata": {},
   "source": [
    "This is what we get. You can see that points are missing in the curved regions. This makes sense because we only take one value each for each (x, y) while for these regions, we'd need >= 2 values for the inner and outer mesh.<br><br>\n",
    "Another way to approach this problem is again taking a central point, and from this point do raytracing against the cartilage volume. For each tracing vector, find the first and last intersection point with the volume (if any) and calculate the distance between the two.<br><br>\n",
    "To this end, we can build a sphere and trace along the sphere's normal vectors."
   ]
  },
  {
   "cell_type": "code",
   "execution_count": 41,
   "metadata": {},
   "outputs": [
    {
     "data": {
      "text/html": [
       "<table><tr><th>Header</th><th>Data Arrays</th></tr><tr><td>\n",
       "<table>\n",
       "<tr><th>PolyData</th><th>Information</th></tr>\n",
       "<tr><td>N Cells</td><td>1680</td></tr>\n",
       "<tr><td>N Points</td><td>842</td></tr>\n",
       "<tr><td>X Bounds</td><td>9.300e+01, 9.500e+01</td></tr>\n",
       "<tr><td>Y Bounds</td><td>5.301e+01, 5.499e+01</td></tr>\n",
       "<tr><td>Z Bounds</td><td>5.600e+01, 5.800e+01</td></tr>\n",
       "<tr><td>N Arrays</td><td>1</td></tr>\n",
       "</table>\n",
       "\n",
       "</td><td>\n",
       "<table>\n",
       "<tr><th>Name</th><th>Field</th><th>Type</th><th>N Comp</th><th>Min</th><th>Max</th></tr>\n",
       "<tr><td>Normals</td><td>Points</td><td>float32</td><td>3</td><td>-1.000e+00</td><td>1.000e+00</td></tr>\n",
       "</table>\n",
       "\n",
       "</td></tr> </table>"
      ],
      "text/plain": [
       "PolyData (0x7f41a8b8fe20)\n",
       "  N Cells:\t1680\n",
       "  N Points:\t842\n",
       "  X Bounds:\t9.300e+01, 9.500e+01\n",
       "  Y Bounds:\t5.301e+01, 5.499e+01\n",
       "  Z Bounds:\t5.600e+01, 5.800e+01\n",
       "  N Arrays:\t1"
      ]
     },
     "execution_count": 41,
     "metadata": {},
     "output_type": "execute_result"
    }
   ],
   "source": [
    "num_sp = 30\n",
    "sphere = pv.Sphere(center=center, radius=1, theta_resolution=num_sp, phi_resolution=num_sp)\n",
    "sphere.compute_normals(point_normals=True, cell_normals=False, inplace=True)"
   ]
  },
  {
   "cell_type": "code",
   "execution_count": 42,
   "metadata": {},
   "outputs": [
    {
     "data": {
      "application/vnd.jupyter.widget-view+json": {
       "model_id": "edd544e66c9b4058a7d704c31b715a39",
       "version_major": 2,
       "version_minor": 0
      },
      "text/plain": [
       "ViewInteractiveWidget(height=768, layout=Layout(height='auto', width='100%'), width=1024)"
      ]
     },
     "metadata": {},
     "output_type": "display_data"
    }
   ],
   "source": [
    "p = pv.Plotter()\n",
    "m = pv.PolyData(df.to_numpy()[:,0:3])\n",
    "p.add_mesh(m, color='red')\n",
    "p.add_mesh(sphere, color='green')\n",
    "# p.add_mesh(sphere.glyph(scale='Normals', orient='Normals', tolerance=0.05), color='blue')\n",
    "p.add_arrows(sphere.points, sphere['Normals'], 25)\n",
    "p.show_grid()\n",
    "p.add_title('Sphere placement for the femoral cartilage')\n",
    "p.show()\n",
    "p.render()\n",
    "p.save_graphic('femoral_sphere.svg')"
   ]
  },
  {
   "cell_type": "markdown",
   "metadata": {},
   "source": [
    "### Fixing the mesh approach\n",
    "Another approach that might work is cutting the full volume into two shapes and rotating the problematic section. Let's have a look:"
   ]
  },
  {
   "cell_type": "code",
   "execution_count": 43,
   "metadata": {},
   "outputs": [
    {
     "data": {
      "text/plain": [
       "count    189.000000\n",
       "mean      47.878307\n",
       "std       30.161286\n",
       "min       13.000000\n",
       "25%       28.000000\n",
       "50%       32.000000\n",
       "75%       58.000000\n",
       "max      112.000000\n",
       "Name: z, dtype: float64"
      ]
     },
     "execution_count": 43,
     "metadata": {},
     "output_type": "execute_result"
    }
   ],
   "source": [
    "df = df.sort_values(by='x', ascending=True)\n",
    "zrange = df.groupby(by=['x'])['z'].max() - df.groupby(by=['x'])['z'].min()\n",
    "zrange.describe()"
   ]
  },
  {
   "cell_type": "code",
   "execution_count": 44,
   "metadata": {},
   "outputs": [],
   "source": [
    "zmed = zrange.median()"
   ]
  },
  {
   "cell_type": "code",
   "execution_count": 45,
   "metadata": {},
   "outputs": [],
   "source": [
    "from scipy import stats"
   ]
  },
  {
   "cell_type": "code",
   "execution_count": 46,
   "metadata": {},
   "outputs": [],
   "source": [
    "zindex = zrange.loc[zrange < zmed].index.to_numpy()\n",
    "mask = np.abs(stats.zscore(zindex)) < 2\n",
    "lower_bound = zindex[mask].min()\n",
    "upper_bound = zindex[mask].max()"
   ]
  },
  {
   "cell_type": "code",
   "execution_count": 47,
   "metadata": {},
   "outputs": [
    {
     "name": "stdout",
     "output_type": "stream",
     "text": [
      "35 122\n"
     ]
    }
   ],
   "source": [
    "#lower_bound = 35\n",
    "#upper_bound = 122\n",
    "print(lower_bound, upper_bound)"
   ]
  },
  {
   "cell_type": "code",
   "execution_count": 48,
   "metadata": {},
   "outputs": [
    {
     "data": {
      "application/vnd.jupyter.widget-view+json": {
       "model_id": "3c05c27e58de47c1921f1a3e464aa994",
       "version_major": 2,
       "version_minor": 0
      },
      "text/plain": [
       "ViewInteractiveWidget(height=768, layout=Layout(height='auto', width='100%'), width=1024)"
      ]
     },
     "metadata": {},
     "output_type": "display_data"
    }
   ],
   "source": [
    "p = pv.Plotter()\n",
    "p.add_mesh(pv.PolyData(df.loc[df['x'] > lower_bound].loc[df['x'] < upper_bound].to_numpy()[:,0:3]), color='blue', opacity=0.25)\n",
    "p.add_mesh(pv.PolyData(df.loc[df['x'] < lower_bound].to_numpy()[:,0:3]), color='red', opacity=0.25)\n",
    "p.add_mesh(pv.PolyData(df.loc[df['x'] > upper_bound].to_numpy()[:,0:3]), color='yellow', opacity=0.25)\n",
    "p.show()\n",
    "p.render()\n",
    "p.save_graphic('s3.svg')"
   ]
  },
  {
   "cell_type": "code",
   "execution_count": 49,
   "metadata": {},
   "outputs": [],
   "source": [
    "right_portion = df.loc[df['x'] < lower_bound]\n",
    "right_portion = right_portion[['z', 'y', 'x', 'dist_to_cog']]\n",
    "right_portion.columns = ['x', 'y', 'z', 'dist_to_cog']\n",
    "\n",
    "middle_portion = df.loc[df['x'] > lower_bound].loc[df['x'] < upper_bound]\n",
    "\n",
    "left_portion = df.loc[df['x'] > upper_bound]\n",
    "left_portion = left_portion[['z', 'y', 'x', 'dist_to_cog']]\n",
    "left_portion.columns = ['x', 'y', 'z', 'dist_to_cog']"
   ]
  },
  {
   "cell_type": "code",
   "execution_count": 50,
   "metadata": {},
   "outputs": [
    {
     "data": {
      "application/vnd.jupyter.widget-view+json": {
       "model_id": "81134edc1cd440ff9089bcea93392c47",
       "version_major": 2,
       "version_minor": 0
      },
      "text/plain": [
       "ViewInteractiveWidget(height=768, layout=Layout(height='auto', width='100%'), width=1024)"
      ]
     },
     "metadata": {},
     "output_type": "display_data"
    }
   ],
   "source": [
    "pv.plot(pv.PolyData(left_portion.to_numpy()[:,0:3]), color='yellow')"
   ]
  },
  {
   "cell_type": "code",
   "execution_count": 51,
   "metadata": {},
   "outputs": [
    {
     "data": {
      "application/vnd.jupyter.widget-view+json": {
       "model_id": "ffb3799b280f4e90be4e628f76554db8",
       "version_major": 2,
       "version_minor": 0
      },
      "text/plain": [
       "ViewInteractiveWidget(height=768, layout=Layout(height='auto', width='100%'), width=1024)"
      ]
     },
     "metadata": {},
     "output_type": "display_data"
    }
   ],
   "source": [
    "pv.plot(pv.PolyData(right_portion.to_numpy()[:,0:3]), color='red')"
   ]
  },
  {
   "cell_type": "code",
   "execution_count": 52,
   "metadata": {},
   "outputs": [],
   "source": [
    "max_z = left_portion[left_portion.groupby(['x', 'y'])['dist_to_cog'].transform(max) == left_portion['dist_to_cog']]\n",
    "min_z = left_portion[left_portion.groupby(['x', 'y'])['dist_to_cog'].transform(min) == left_portion['dist_to_cog']]\n",
    "\n",
    "max_z = [item[:3] for item in max_z.to_numpy()]\n",
    "min_z = [item[:3] for item in min_z.to_numpy()]"
   ]
  },
  {
   "cell_type": "code",
   "execution_count": 53,
   "metadata": {},
   "outputs": [],
   "source": [
    "outer_cloud = pv.PolyData(max_z)\n",
    "inner_cloud = pv.PolyData(min_z)"
   ]
  },
  {
   "cell_type": "code",
   "execution_count": 54,
   "metadata": {},
   "outputs": [
    {
     "data": {
      "application/vnd.jupyter.widget-view+json": {
       "model_id": "a138e5b019d244fa9f8a87a014292883",
       "version_major": 2,
       "version_minor": 0
      },
      "text/plain": [
       "ViewInteractiveWidget(height=768, layout=Layout(height='auto', width='100%'), width=1024)"
      ]
     },
     "metadata": {},
     "output_type": "display_data"
    }
   ],
   "source": [
    "p = pv.Plotter()\n",
    "p.add_mesh(inner_cloud, color='red', opacity=.5)\n",
    "p.add_mesh(outer_cloud, color='blue', opacity=.5)\n",
    "p.show()"
   ]
  },
  {
   "cell_type": "code",
   "execution_count": 55,
   "metadata": {},
   "outputs": [],
   "source": [
    "outer_delaunay = outer_cloud.delaunay_2d()\n",
    "inner_delaunay = inner_cloud.delaunay_2d()"
   ]
  },
  {
   "cell_type": "code",
   "execution_count": 56,
   "metadata": {},
   "outputs": [
    {
     "data": {
      "application/vnd.jupyter.widget-view+json": {
       "model_id": "6258f9e3ac214b509b02dbac7a5ed692",
       "version_major": 2,
       "version_minor": 0
      },
      "text/plain": [
       "ViewInteractiveWidget(height=768, layout=Layout(height='auto', width='100%'), width=1024)"
      ]
     },
     "metadata": {},
     "output_type": "display_data"
    }
   ],
   "source": [
    "p = pv.Plotter()\n",
    "p.add_mesh(inner_delaunay, color='red', opacity=.5)\n",
    "p.add_mesh(outer_delaunay, color='blue', opacity=.5)\n",
    "p.show()"
   ]
  },
  {
   "cell_type": "markdown",
   "metadata": {},
   "source": [
    "This seems to work all right. Let's do some raytracing."
   ]
  },
  {
   "cell_type": "code",
   "execution_count": 57,
   "metadata": {},
   "outputs": [],
   "source": [
    "def build_delaunay(portion):\n",
    "    max_dist = portion[portion.groupby(['x', 'y'])['dist_to_cog'].transform(max) == portion['dist_to_cog']]\n",
    "    min_dist = portion[portion.groupby(['x', 'y'])['dist_to_cog'].transform(min) == portion['dist_to_cog']]\n",
    "\n",
    "    max_dist = [item[:3] for item in max_dist.to_numpy()]\n",
    "    min_dist = [item[:3] for item in min_dist.to_numpy()]\n",
    "    \n",
    "    outer_cloud = pv.PolyData(max_dist)\n",
    "    inner_cloud = pv.PolyData(min_dist)\n",
    "    \n",
    "    return outer_cloud.delaunay_2d(), inner_cloud.delaunay_2d()"
   ]
  },
  {
   "cell_type": "code",
   "execution_count": 58,
   "metadata": {},
   "outputs": [],
   "source": [
    "left_outer, left_inner = build_delaunay(left_portion)\n",
    "middle_outer, middle_inner = build_delaunay(middle_portion)\n",
    "right_outer, right_inner = build_delaunay(right_portion)"
   ]
  },
  {
   "cell_type": "code",
   "execution_count": 59,
   "metadata": {},
   "outputs": [],
   "source": [
    "left_out = left_outer.copy()\n",
    "left_out.points = np.array([[x[2], x[1], x[0]] for x in left_out.points])\n",
    "left_in = left_inner.copy()\n",
    "left_in.points = np.array([[x[2], x[1], x[0]] for x in left_in.points])\n",
    "\n",
    "middle_out = middle_outer.copy()\n",
    "middle_out.points = np.array([[x[0], x[1], x[2]] for x in middle_out.points])\n",
    "middle_in = middle_inner.copy()\n",
    "middle_in.points = np.array([[x[0], x[1], x[2]] for x in middle_in.points])\n",
    "\n",
    "right_out = right_outer.copy()\n",
    "right_out.points = np.array([[x[2], x[1], x[0]] for x in right_out.points])\n",
    "right_in = right_inner.copy()\n",
    "right_in.points = np.array([[x[2], x[1], x[0]] for x in right_in.points])"
   ]
  },
  {
   "cell_type": "code",
   "execution_count": 60,
   "metadata": {},
   "outputs": [
    {
     "data": {
      "application/vnd.jupyter.widget-view+json": {
       "model_id": "1da9bfa307634555b5cf5f311c897e36",
       "version_major": 2,
       "version_minor": 0
      },
      "text/plain": [
       "ViewInteractiveWidget(height=768, layout=Layout(height='auto', width='100%'), width=1024)"
      ]
     },
     "metadata": {},
     "output_type": "display_data"
    }
   ],
   "source": [
    "p = pv.Plotter()\n",
    "p.add_mesh(left_out, color='red')\n",
    "p.add_mesh(middle_out, color='red')\n",
    "p.add_mesh(right_out, color='red')\n",
    "p.add_mesh(left_in, color='green')\n",
    "p.add_mesh(middle_in, color='green')\n",
    "p.add_mesh(right_in, color='green')\n",
    "p.show_grid()\n",
    "p.add_legend([['bone-sided mesh', 'green'], ['cartilage-sided mesh', 'red']])\n",
    "p.add_title('Succesful construction of meshes for the femoral cartilage', font_size=10)\n",
    "\n",
    "p.show()\n",
    "p.render()\n",
    "p.save_graphic('femoral_meshes.svg')"
   ]
  },
  {
   "cell_type": "code",
   "execution_count": 61,
   "metadata": {},
   "outputs": [],
   "source": [
    "cluster = KMeans(n_clusters=1, random_state=0).fit(femoral_vectors)\n",
    "split_vector = cluster.cluster_centers_[0]\n",
    "femoral_split_vector = split_vector\n",
    "left_plate, right_plate = utility.split_into_plates(femoral_vectors, split_vector)\n",
    "\n",
    "first_split, second_split = utility.get_femoral_thirds(left_plate)\n",
    "left_femoral_regions = [first_split, second_split]\n",
    "\n",
    "first_split, second_split = utility.get_femoral_thirds(right_plate)\n",
    "right_femoral_regions = [first_split, second_split]"
   ]
  },
  {
   "cell_type": "code",
   "execution_count": 62,
   "metadata": {},
   "outputs": [],
   "source": [
    "def ray_trace(inner, outer):\n",
    "    average_thickness = dict()\n",
    "    n_points = inner.n_points\n",
    "    average_thickness['ecLF'] = np.zeros(n_points)\n",
    "    average_thickness['ccLF'] = np.zeros(n_points)\n",
    "    average_thickness['icLF'] = np.zeros(n_points)\n",
    "    average_thickness['icMF'] = np.zeros(n_points)\n",
    "    average_thickness['ccMF'] = np.zeros(n_points)\n",
    "    average_thickness['ecMF'] = np.zeros(n_points)\n",
    "    \n",
    "    inner_normals = inner.compute_normals(cell_normals=False)\n",
    "    inner_normals['distances'] = np.zeros(inner.n_points)\n",
    "    for i in range(inner_normals.n_points):\n",
    "        v = inner.points[i]\n",
    "        vec = inner_normals['Normals'][i] * inner_normals.length\n",
    "        v0 = v - vec\n",
    "        v1 = v + vec\n",
    "        iv, ic = outer.ray_trace(v0, v1, first_point=True)\n",
    "        dist = np.sqrt(np.sum((iv - v)**2))\n",
    "        inner_normals['distances'][i] = dist\n",
    "        label = utility.classify_femoral_point(v[:2], left_femoral_regions, right_femoral_regions, split_vector)\n",
    "        average_thickness[label][i] = dist\n",
    "    \n",
    "    return average_thickness"
   ]
  },
  {
   "cell_type": "code",
   "execution_count": 63,
   "metadata": {},
   "outputs": [],
   "source": [
    "left_thickness = ray_trace(left_inner, left_outer)\n",
    "middle_thickness = ray_trace(middle_inner, middle_outer)\n",
    "right_thickness = ray_trace(right_inner, right_outer)"
   ]
  },
  {
   "cell_type": "code",
   "execution_count": 64,
   "metadata": {},
   "outputs": [],
   "source": [
    "average_thickness = {key: np.hstack((left_thickness[key], middle_thickness[key], right_thickness[key])) for key in left_thickness.keys()}"
   ]
  },
  {
   "cell_type": "code",
   "execution_count": 65,
   "metadata": {},
   "outputs": [
    {
     "name": "stdout",
     "output_type": "stream",
     "text": [
      "ecLF: 4.129961834403946\n",
      "ccLF: 5.005532149065432\n",
      "icLF: 5.453199175673108\n",
      "icMF: 6.514685954736944\n",
      "ccMF: 4.35446237196326\n",
      "ecMF: 3.9881449550694197\n"
     ]
    }
   ],
   "source": [
    "for key, value in average_thickness.items():\n",
    "    mask = value == 0\n",
    "    value[mask] = np.nan\n",
    "    print(f'{key}: {np.nanmean(value)}')"
   ]
  },
  {
   "cell_type": "code",
   "execution_count": 66,
   "metadata": {},
   "outputs": [],
   "source": [
    "from collections import defaultdict\n"
   ]
  },
  {
   "cell_type": "code",
   "execution_count": 67,
   "metadata": {},
   "outputs": [
    {
     "data": {
      "text/plain": [
       "<module 'utility' from '/home/simon/knorpel_v2/utility.py'>"
      ]
     },
     "execution_count": 67,
     "metadata": {},
     "output_type": "execute_result"
    }
   ],
   "source": [
    "importlib.reload(utility)"
   ]
  },
  {
   "cell_type": "code",
   "execution_count": 68,
   "metadata": {},
   "outputs": [
    {
     "data": {
      "text/plain": [
       "array([[  0.,  88.,  44.],\n",
       "       [  0.,  90.,  48.],\n",
       "       [  0.,  89.,  45.],\n",
       "       ...,\n",
       "       [188.,  18.,  54.],\n",
       "       [188.,  23.,  53.],\n",
       "       [188.,  13.,  38.]])"
      ]
     },
     "execution_count": 68,
     "metadata": {},
     "output_type": "execute_result"
    }
   ],
   "source": [
    "df.to_numpy()[:,:3]"
   ]
  },
  {
   "cell_type": "code",
   "execution_count": 69,
   "metadata": {},
   "outputs": [
    {
     "name": "stderr",
     "output_type": "stream",
     "text": [
      "100%|███████████████████████████████| 122287/122287 [00:00<00:00, 307646.13it/s]\n"
     ]
    }
   ],
   "source": [
    "dd = defaultdict(list)\n",
    "for vector in tqdm(df.to_numpy()[:,:3]):\n",
    "    label = utility.classify_femoral_point(vector[:2], left_femoral_regions, right_femoral_regions, split_vector)\n",
    "    dd[label].append(vector)"
   ]
  },
  {
   "cell_type": "code",
   "execution_count": 70,
   "metadata": {},
   "outputs": [
    {
     "data": {
      "text/plain": [
       "dict_keys(['ccMF', 'ecMF', 'icMF', 'icLF', 'ccLF', 'ecLF'])"
      ]
     },
     "execution_count": 70,
     "metadata": {},
     "output_type": "execute_result"
    }
   ],
   "source": [
    "dd.keys()"
   ]
  },
  {
   "cell_type": "code",
   "execution_count": 71,
   "metadata": {},
   "outputs": [
    {
     "name": "stdout",
     "output_type": "stream",
     "text": [
      "[22, 34] [77, 88] [ 75.94043521  55.95815581 110.1472356 ]\n"
     ]
    }
   ],
   "source": [
    "print(left_femoral_regions, right_femoral_regions, split_vector)"
   ]
  },
  {
   "cell_type": "code",
   "execution_count": 72,
   "metadata": {},
   "outputs": [
    {
     "data": {
      "application/vnd.jupyter.widget-view+json": {
       "model_id": "6c509a603ffd44b9854b649a0b475c51",
       "version_major": 2,
       "version_minor": 0
      },
      "text/plain": [
       "ViewInteractiveWidget(height=768, layout=Layout(height='auto', width='100%'), width=1024)"
      ]
     },
     "metadata": {},
     "output_type": "display_data"
    }
   ],
   "source": [
    "p = pv.Plotter()\n",
    "p.add_mesh(pv.PolyData(dd['ecLF']), color='red')\n",
    "p.add_mesh(pv.PolyData(dd['icLF']), color='yellow')\n",
    "p.add_mesh(pv.PolyData(dd['ccLF']), color='green')\n",
    "p.add_mesh(pv.PolyData(dd['icMF']), color='pink')\n",
    "p.add_mesh(pv.PolyData(dd['ecMF']), color='red')\n",
    "p.add_mesh(pv.PolyData(dd['ccMF']), color='green')\n",
    "p.show_grid()\n",
    "p.add_legend([['external', 'red'], ['central', 'green'], ['internal (left)', 'yellow'], ['internal (right)', 'pink']])\n",
    "p.add_title('Subregions of the femoral cartilage')\n",
    "p.show()\n",
    "p.render()\n",
    "p.save_graphic('femoral_subregions.svg')"
   ]
  },
  {
   "cell_type": "markdown",
   "metadata": {},
   "source": [
    "Combine outer clouds for the regional classification"
   ]
  },
  {
   "cell_type": "code",
   "execution_count": 73,
   "metadata": {},
   "outputs": [],
   "source": [
    "ldf = pd.DataFrame(data=left_outer.points, columns=['x', 'y', 'z'])\n",
    "mdf = pd.DataFrame(data=middle_outer.points, columns=['x', 'y', 'z'])\n",
    "rdf = pd.DataFrame(data=right_outer.points, columns=['x', 'y', 'z'])\n",
    "\n",
    "ldf = ldf[['z', 'y', 'x']]\n",
    "ldf.columns = ['x', 'y', 'z']\n",
    "\n",
    "rdf = rdf[['z', 'y', 'x']]\n",
    "rdf.columns = ['x', 'y', 'z']\n",
    "\n",
    "cdf = pd.concat([ldf, mdf, rdf])"
   ]
  },
  {
   "cell_type": "code",
   "execution_count": 74,
   "metadata": {},
   "outputs": [
    {
     "data": {
      "application/vnd.jupyter.widget-view+json": {
       "model_id": "69f7be338b6a40bda94cefadb0a7b6bb",
       "version_major": 2,
       "version_minor": 0
      },
      "text/plain": [
       "ViewInteractiveWidget(height=768, layout=Layout(height='auto', width='100%'), width=1024)"
      ]
     },
     "metadata": {},
     "output_type": "display_data"
    }
   ],
   "source": [
    "# outer_stack = np.vstack((left_outer.points, middle_outer.points, right_outer.points))\n",
    "pv.PolyData(cdf.to_numpy()).plot()"
   ]
  },
  {
   "cell_type": "markdown",
   "metadata": {},
   "source": [
    "### Sphere approach for the tibial cartilage\n",
    "Because why not?"
   ]
  },
  {
   "cell_type": "code",
   "execution_count": 80,
   "metadata": {},
   "outputs": [],
   "source": [
    "x, y, z, xy = utility.get_xyz(tibial_vectors)\n",
    "df = pd.DataFrame(data={'x': z, 'y': y, 'z': x}, columns=['x', 'y', 'z'])"
   ]
  },
  {
   "cell_type": "code",
   "execution_count": 81,
   "metadata": {},
   "outputs": [
    {
     "data": {
      "text/html": [
       "<div>\n",
       "<style scoped>\n",
       "    .dataframe tbody tr th:only-of-type {\n",
       "        vertical-align: middle;\n",
       "    }\n",
       "\n",
       "    .dataframe tbody tr th {\n",
       "        vertical-align: top;\n",
       "    }\n",
       "\n",
       "    .dataframe thead th {\n",
       "        text-align: right;\n",
       "    }\n",
       "</style>\n",
       "<table border=\"1\" class=\"dataframe\">\n",
       "  <thead>\n",
       "    <tr style=\"text-align: right;\">\n",
       "      <th></th>\n",
       "      <th>x</th>\n",
       "      <th>y</th>\n",
       "      <th>z</th>\n",
       "      <th>dist_to_cog</th>\n",
       "    </tr>\n",
       "  </thead>\n",
       "  <tbody>\n",
       "    <tr>\n",
       "      <th>0</th>\n",
       "      <td>76</td>\n",
       "      <td>0</td>\n",
       "      <td>23</td>\n",
       "      <td>57.768936</td>\n",
       "    </tr>\n",
       "    <tr>\n",
       "      <th>1</th>\n",
       "      <td>77</td>\n",
       "      <td>0</td>\n",
       "      <td>23</td>\n",
       "      <td>57.976288</td>\n",
       "    </tr>\n",
       "    <tr>\n",
       "      <th>2</th>\n",
       "      <td>78</td>\n",
       "      <td>0</td>\n",
       "      <td>23</td>\n",
       "      <td>58.200086</td>\n",
       "    </tr>\n",
       "    <tr>\n",
       "      <th>3</th>\n",
       "      <td>79</td>\n",
       "      <td>0</td>\n",
       "      <td>23</td>\n",
       "      <td>58.440140</td>\n",
       "    </tr>\n",
       "    <tr>\n",
       "      <th>4</th>\n",
       "      <td>62</td>\n",
       "      <td>0</td>\n",
       "      <td>24</td>\n",
       "      <td>56.375970</td>\n",
       "    </tr>\n",
       "    <tr>\n",
       "      <th>...</th>\n",
       "      <td>...</td>\n",
       "      <td>...</td>\n",
       "      <td>...</td>\n",
       "      <td>...</td>\n",
       "    </tr>\n",
       "    <tr>\n",
       "      <th>35793</th>\n",
       "      <td>68</td>\n",
       "      <td>108</td>\n",
       "      <td>23</td>\n",
       "      <td>56.720807</td>\n",
       "    </tr>\n",
       "    <tr>\n",
       "      <th>35794</th>\n",
       "      <td>69</td>\n",
       "      <td>108</td>\n",
       "      <td>23</td>\n",
       "      <td>56.791285</td>\n",
       "    </tr>\n",
       "    <tr>\n",
       "      <th>35795</th>\n",
       "      <td>70</td>\n",
       "      <td>108</td>\n",
       "      <td>23</td>\n",
       "      <td>56.879258</td>\n",
       "    </tr>\n",
       "    <tr>\n",
       "      <th>35796</th>\n",
       "      <td>71</td>\n",
       "      <td>108</td>\n",
       "      <td>23</td>\n",
       "      <td>56.984647</td>\n",
       "    </tr>\n",
       "    <tr>\n",
       "      <th>35797</th>\n",
       "      <td>72</td>\n",
       "      <td>108</td>\n",
       "      <td>23</td>\n",
       "      <td>57.107355</td>\n",
       "    </tr>\n",
       "  </tbody>\n",
       "</table>\n",
       "<p>35798 rows × 4 columns</p>\n",
       "</div>"
      ],
      "text/plain": [
       "        x    y   z  dist_to_cog\n",
       "0      76    0  23    57.768936\n",
       "1      77    0  23    57.976288\n",
       "2      78    0  23    58.200086\n",
       "3      79    0  23    58.440140\n",
       "4      62    0  24    56.375970\n",
       "...    ..  ...  ..          ...\n",
       "35793  68  108  23    56.720807\n",
       "35794  69  108  23    56.791285\n",
       "35795  70  108  23    56.879258\n",
       "35796  71  108  23    56.984647\n",
       "35797  72  108  23    57.107355\n",
       "\n",
       "[35798 rows x 4 columns]"
      ]
     },
     "execution_count": 81,
     "metadata": {},
     "output_type": "execute_result"
    }
   ],
   "source": [
    "center = np.array([df.x.min() + (df.x.max() - df.x.min()) / 2,\n",
    "                   df.y.min() + (df.y.max() - df.y.min()) / 2,\n",
    "                   df.z.max() * 1.25])\n",
    "                   #df.z.min() + (df.z.max() - df.z.min()) / 2])\n",
    "\n",
    "df['dist_to_cog'] = np.zeros(df.shape[0])\n",
    "df['dist_to_cog'] = df.apply(lambda l: utility.vector_distance([l.x, l.y, l.z], center), axis=1)\n",
    "df"
   ]
  },
  {
   "cell_type": "code",
   "execution_count": 82,
   "metadata": {},
   "outputs": [
    {
     "data": {
      "text/html": [
       "<table><tr><th>Header</th><th>Data Arrays</th></tr><tr><td>\n",
       "<table>\n",
       "<tr><th>PolyData</th><th>Information</th></tr>\n",
       "<tr><td>N Cells</td><td>1680</td></tr>\n",
       "<tr><td>N Points</td><td>842</td></tr>\n",
       "<tr><td>X Bounds</td><td>6.350e+01, 6.550e+01</td></tr>\n",
       "<tr><td>Y Bounds</td><td>5.301e+01, 5.499e+01</td></tr>\n",
       "<tr><td>Z Bounds</td><td>3.900e+01, 4.100e+01</td></tr>\n",
       "<tr><td>N Arrays</td><td>1</td></tr>\n",
       "</table>\n",
       "\n",
       "</td><td>\n",
       "<table>\n",
       "<tr><th>Name</th><th>Field</th><th>Type</th><th>N Comp</th><th>Min</th><th>Max</th></tr>\n",
       "<tr><td>Normals</td><td>Points</td><td>float32</td><td>3</td><td>-1.000e+00</td><td>1.000e+00</td></tr>\n",
       "</table>\n",
       "\n",
       "</td></tr> </table>"
      ],
      "text/plain": [
       "PolyData (0x7fb82466ee20)\n",
       "  N Cells:\t1680\n",
       "  N Points:\t842\n",
       "  X Bounds:\t6.350e+01, 6.550e+01\n",
       "  Y Bounds:\t5.301e+01, 5.499e+01\n",
       "  Z Bounds:\t3.900e+01, 4.100e+01\n",
       "  N Arrays:\t1"
      ]
     },
     "execution_count": 82,
     "metadata": {},
     "output_type": "execute_result"
    }
   ],
   "source": [
    "num_sp = 30\n",
    "sphere = pv.Sphere(center=center, radius=1, theta_resolution=num_sp, phi_resolution=num_sp)\n",
    "sphere.compute_normals(point_normals=True, cell_normals=False, inplace=True)"
   ]
  },
  {
   "cell_type": "code",
   "execution_count": 86,
   "metadata": {},
   "outputs": [
    {
     "data": {
      "application/vnd.jupyter.widget-view+json": {
       "model_id": "70e4b1e8280b418889419dd24fad5ae7",
       "version_major": 2,
       "version_minor": 0
      },
      "text/plain": [
       "ViewInteractiveWidget(height=768, layout=Layout(height='auto', width='100%'), width=1024)"
      ]
     },
     "metadata": {},
     "output_type": "display_data"
    }
   ],
   "source": [
    "p = pv.Plotter()\n",
    "p.add_mesh(pv.PolyData(df.to_numpy()[:,0:3]), color='red')\n",
    "p.add_mesh(sphere, color='green')\n",
    "# p.add_mesh(sphere.glyph(scale='Normals', orient='Normals', tolerance=0.05), color='blue')\n",
    "p.add_arrows(sphere.points, sphere['Normals'], 5)\n",
    "p.show_grid()\n",
    "p.add_title('Sphere placement for the tibial cartilage')\n",
    "p.show()\n",
    "p.render()\n",
    "p.save_graphic('tibial_sphere.svg')"
   ]
  },
  {
   "cell_type": "markdown",
   "metadata": {},
   "source": [
    "### Extraction of the weight-bearing zone of the femoral cartilage"
   ]
  },
  {
   "cell_type": "code",
   "execution_count": 4,
   "metadata": {},
   "outputs": [
    {
     "name": "stderr",
     "output_type": "stream",
     "text": [
      "100%|█████████████████████████████████████████| 160/160 [02:38<00:00,  1.01it/s]\n"
     ]
    }
   ],
   "source": [
    "femoral_cartilage_new = [0] * (np_image.shape[0] * np_image.shape[1] * np_image.shape[2])\n",
    "tibial_cartilage_new = [0] * (np_image.shape[0] * np_image.shape[1] * np_image.shape[2])\n",
    "tindx = 0\n",
    "findx = 0\n",
    "for y in tqdm(range(np_image.shape[0])):\n",
    "    for x in range(np_image.shape[1]):\n",
    "        for z in range(np_image.shape[2]):\n",
    "            if np_image[y,x,z] == 3:\n",
    "                femoral_cartilage_new[findx] = [x, y, z]\n",
    "                findx += 1\n",
    "            if np_image[y,x,z] == 4:\n",
    "                tibial_cartilage_new[tindx] = [x, y, z]\n",
    "                tindx += 1\n",
    "\n",
    "femoral_cartilage_new = np.array(femoral_cartilage_new, dtype=object)\n",
    "femoral_cartilage_new = femoral_cartilage_new[femoral_cartilage_new != 0] \n",
    "femoral_cartilage_new = [list(element) for element in femoral_cartilage_new]\n",
    "\n",
    "tibial_cartilage_new = np.array(tibial_cartilage_new, dtype=object)\n",
    "tibial_cartilage_new = tibial_cartilage_new[tibial_cartilage_new != 0] \n",
    "tibial_cartilage_new = [list(element) for element in tibial_cartilage_new]"
   ]
  },
  {
   "cell_type": "code",
   "execution_count": 5,
   "metadata": {},
   "outputs": [
    {
     "name": "stderr",
     "output_type": "stream",
     "text": [
      "100%|█████████████████████████████████████| 8357/8357 [00:01<00:00, 7551.71it/s]\n"
     ]
    },
    {
     "data": {
      "text/plain": [
       "dict_keys(['aLT', 'iLT', 'aMT', 'eLT', 'iMT', 'eMT', 'cLT', 'cMT', 'pLT', 'pMT'])"
      ]
     },
     "execution_count": 5,
     "metadata": {},
     "output_type": "execute_result"
    }
   ],
   "source": [
    "x, y, z, xy = utility.get_xyz(tibial_cartilage_new)\n",
    "df = pd.DataFrame(data={'x': z, 'y': y, 'z': x}, columns=['x', 'y', 'z'])\n",
    "max_z = df.groupby(['x', 'y']).max()\n",
    "min_z = df.groupby(['x', 'y']).min()\n",
    "\n",
    "tmp1 = [np.array(item) for item in max_z.index]\n",
    "tmp2 = [item for item in max_z.to_numpy()]\n",
    "max_z = np.column_stack((tmp1, tmp2))\n",
    "\n",
    "tmp1 = [np.array(item) for item in min_z.index]\n",
    "tmp2 = [item for item in min_z.to_numpy()]\n",
    "min_z = np.column_stack((tmp1, tmp2))\n",
    "\n",
    "upper_cloud = pv.PolyData(max_z)\n",
    "\n",
    "dd = defaultdict(list)\n",
    "left_tibial_regions, right_tibial_regions, split_vector = utility.tibial_landmarks(max_z)\n",
    "for v in tqdm(max_z):\n",
    "    vector = np.array(v)\n",
    "    # print(vector)\n",
    "    label = utility.classify_tibial_point(vector[:2], left_tibial_regions, right_tibial_regions, split_vector)\n",
    "    dd[label].append(vector)\n",
    "\n",
    "dd.keys()"
   ]
  },
  {
   "cell_type": "code",
   "execution_count": 6,
   "metadata": {},
   "outputs": [],
   "source": [
    "wbl = np.vstack((np.array(dd['eLT']), np.array(dd['cLT']), np.array(dd['iLT'])))\n",
    "wbr = np.vstack((np.array(dd['iMT']), np.array(dd['cMT']), np.array(dd['eMT'])))"
   ]
  },
  {
   "cell_type": "code",
   "execution_count": 7,
   "metadata": {},
   "outputs": [],
   "source": [
    "tdfr = pd.DataFrame(data={'x': wbr[:,0], 'y': wbr[:,1], 'z': wbr[:,2]})\n",
    "tdfl = pd.DataFrame(data={'x': wbl[:,0], 'y': wbl[:,1], 'z': wbl[:,2]})"
   ]
  },
  {
   "cell_type": "code",
   "execution_count": 8,
   "metadata": {},
   "outputs": [
    {
     "name": "stdout",
     "output_type": "stream",
     "text": [
      "231 253 255\n"
     ]
    }
   ],
   "source": [
    "print(max(np.array(dd['cMT'])[:,0]), max(np.array(dd['eMT'])[:,0]), max(np.array(dd['iMT'])[:,0]))"
   ]
  },
  {
   "cell_type": "code",
   "execution_count": 9,
   "metadata": {},
   "outputs": [],
   "source": [
    "tdfr = tdfr.loc[tdfr['x'] < max(np.array(dd['cMT'])[:,0])].loc[tdfr['x'] > min(np.array(dd['cMT'])[:,0])]\n",
    "tdfl = tdfl.loc[tdfl['x'] < max(np.array(dd['cLT'])[:,0])].loc[tdfl['x'] > min(np.array(dd['cLT'])[:,0])]"
   ]
  },
  {
   "cell_type": "code",
   "execution_count": 10,
   "metadata": {},
   "outputs": [],
   "source": [
    "x, y, z, xy = utility.get_xyz(femoral_cartilage_new)\n",
    "df = pd.DataFrame(data={'x': z, 'y': y, 'z': x}, columns=['x', 'y', 'z'])\n",
    "fdfl = df.loc[df['y'] < df['y'].mean()]\n",
    "fdfr = df.loc[df['y'] >= df['y'].mean()]"
   ]
  },
  {
   "cell_type": "code",
   "execution_count": 11,
   "metadata": {},
   "outputs": [
    {
     "data": {
      "application/vnd.jupyter.widget-view+json": {
       "model_id": "c0ce08580cd34c169c0b148a488b111d",
       "version_major": 2,
       "version_minor": 0
      },
      "text/plain": [
       "ViewInteractiveWidget(height=768, layout=Layout(height='auto', width='100%'), width=1024)"
      ]
     },
     "metadata": {},
     "output_type": "display_data"
    }
   ],
   "source": [
    "p = pv.Plotter()\n",
    "p.add_mesh(pv.PolyData(fdfl.to_numpy()), color='blue')\n",
    "p.add_mesh(pv.PolyData(fdfr.to_numpy()), color='purple')\n",
    "p.add_mesh(pv.PolyData(tdfl.to_numpy()), color='green')\n",
    "p.add_mesh(pv.PolyData(tdfr.to_numpy()), color='yellow')\n",
    "p.show()"
   ]
  },
  {
   "cell_type": "code",
   "execution_count": 12,
   "metadata": {},
   "outputs": [
    {
     "data": {
      "text/plain": [
       "array([75.00666637, 75.45197148, 73.89181281, ..., 25.41653005,\n",
       "       24.55605832, 23.70653918])"
      ]
     },
     "execution_count": 12,
     "metadata": {},
     "output_type": "execute_result"
    }
   ],
   "source": [
    "tree = KDTree(tdfl.to_numpy())\n",
    "d, idx = tree.query(fdfl.to_numpy())\n",
    "d"
   ]
  },
  {
   "cell_type": "code",
   "execution_count": 13,
   "metadata": {},
   "outputs": [],
   "source": [
    "# wbz = np.array(femoral_cartilage_new)[np.where(d < 10)]\n",
    "wbz = np.array(fdfl.to_numpy()[np.where(d < 10)])"
   ]
  },
  {
   "cell_type": "code",
   "execution_count": 14,
   "metadata": {},
   "outputs": [
    {
     "data": {
      "application/vnd.jupyter.widget-view+json": {
       "model_id": "646c4cd11d154011990c8a4d1d111dbc",
       "version_major": 2,
       "version_minor": 0
      },
      "text/plain": [
       "ViewInteractiveWidget(height=768, layout=Layout(height='auto', width='100%'), width=1024)"
      ]
     },
     "metadata": {},
     "output_type": "display_data"
    }
   ],
   "source": [
    "p = pv.Plotter()\n",
    "p.add_mesh(pv.PolyData(fdfl.to_numpy()), color='blue')\n",
    "p.add_mesh(pv.PolyData(tdfl.to_numpy()), color='green')\n",
    "p.add_mesh(pv.PolyData(wbz), color='red')\n",
    "#p.show_grid()\n",
    "p.show()"
   ]
  },
  {
   "cell_type": "code",
   "execution_count": 17,
   "metadata": {},
   "outputs": [],
   "source": [
    "minx = tdfl['x'].min()\n",
    "maxx = tdfl['x'].max()\n",
    "miny = tdfl['y'].min()\n",
    "maxy = tdfl['y'].max()\n",
    "wbz = fdfl.loc[fdfl['x'] > minx].loc[fdfl['x'] < maxx].loc[fdfl['y'] > miny].loc[fdfl['y'] < maxy].to_numpy()"
   ]
  },
  {
   "cell_type": "code",
   "execution_count": 19,
   "metadata": {},
   "outputs": [
    {
     "data": {
      "application/vnd.jupyter.widget-view+json": {
       "model_id": "8570659345174dc2981885cb41aeb923",
       "version_major": 2,
       "version_minor": 0
      },
      "text/plain": [
       "ViewInteractiveWidget(height=768, layout=Layout(height='auto', width='100%'), width=1024)"
      ]
     },
     "metadata": {},
     "output_type": "display_data"
    }
   ],
   "source": [
    "p = pv.Plotter()\n",
    "p.add_mesh(pv.PolyData(fdfl.to_numpy()), color='blue')\n",
    "p.add_mesh(pv.PolyData(tdfl.to_numpy()), color='green')\n",
    "p.add_mesh(pv.PolyData(fdfr.to_numpy()), color='orange')\n",
    "p.add_mesh(pv.PolyData(wbz), color='red')\n",
    "#p.show_grid()\n",
    "p.show()"
   ]
  },
  {
   "cell_type": "code",
   "execution_count": null,
   "metadata": {},
   "outputs": [],
   "source": []
  }
 ],
 "metadata": {
  "kernelspec": {
   "display_name": "Python 3 (ipykernel)",
   "language": "python",
   "name": "python3"
  },
  "language_info": {
   "codemirror_mode": {
    "name": "ipython",
    "version": 3
   },
   "file_extension": ".py",
   "mimetype": "text/x-python",
   "name": "python",
   "nbconvert_exporter": "python",
   "pygments_lexer": "ipython3",
   "version": "3.9.6"
  }
 },
 "nbformat": 4,
 "nbformat_minor": 1
}
