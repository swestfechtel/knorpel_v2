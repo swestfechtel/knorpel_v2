{
 "cells": [
  {
   "cell_type": "code",
   "execution_count": 1,
   "metadata": {},
   "outputs": [],
   "source": [
    "import utility\n",
    "from tqdm import tqdm\n",
    "import os\n",
    "from sklearn.cluster import KMeans\n",
    "import pyvista as pv\n",
    "import pandas as pd\n",
    "import numpy as np\n",
    "from IPython.display import Image\n",
    "from collections import defaultdict\n",
    "from scipy.spatial import KDTree\n",
    "from scipy import stats\n",
    "import math"
   ]
  },
  {
   "cell_type": "code",
   "execution_count": 2,
   "metadata": {},
   "outputs": [
    {
     "data": {
      "text/plain": [
       "<module 'utility' from '/home/simon/knorpel_v2/utility.py'>"
      ]
     },
     "execution_count": 2,
     "metadata": {},
     "output_type": "execute_result"
    }
   ],
   "source": [
    "import importlib\n",
    "importlib.reload(utility)"
   ]
  },
  {
   "cell_type": "markdown",
   "metadata": {},
   "source": [
    "Disable shortcuts\n",
    "<script>Jupyter.keyboard_manager.disable()</script>"
   ]
  },
  {
   "cell_type": "code",
   "execution_count": 3,
   "metadata": {},
   "outputs": [],
   "source": [
    "sitk_image, np_image = utility.read_image('/home/simon/Pictures/9001104/9001104_segm.mhd')"
   ]
  },
  {
   "cell_type": "code",
   "execution_count": 4,
   "metadata": {},
   "outputs": [],
   "source": [
    "femoral_cartilage = utility.build_3d_cartilage_array(np_image, 3)\n",
    "tibial_cartilage = utility.build_3d_cartilage_array(np_image, 4)\n",
    "\n",
    "femoral_vectors = [list(element) for element in femoral_cartilage]\n",
    "tibial_vectors = [list(element) for element in tibial_cartilage]"
   ]
  },
  {
   "cell_type": "code",
   "execution_count": 22,
   "metadata": {},
   "outputs": [
    {
     "data": {
      "application/vnd.jupyter.widget-view+json": {
       "model_id": "265d04ac2224473d97bef6c8a935a80e",
       "version_major": 2,
       "version_minor": 0
      },
      "text/plain": [
       "ViewInteractiveWidget(height=768, layout=Layout(height='auto', width='100%'), width=1024)"
      ]
     },
     "metadata": {},
     "output_type": "display_data"
    }
   ],
   "source": [
    "p = pv.Plotter()\n",
    "\n",
    "x, y, z, xy = utility.get_xyz(tibial_vectors)\n",
    "df = pd.DataFrame(data={'x': z, 'y': y, 'z': x}, columns=['x', 'y', 'z'])\n",
    "p.add_mesh(pv.PolyData(df.to_numpy()), color='red')\n",
    "\n",
    "x, y, z, xy = utility.get_xyz(femoral_vectors)\n",
    "df = pd.DataFrame(data={'x': z, 'y': y, 'z': x}, columns=['x', 'y', 'z'])\n",
    "p.add_mesh(pv.PolyData(df.to_numpy()), color='green')\n",
    "\n",
    "tmp_vectors = utility.build_3d_cartilage_array(np_image, 1)\n",
    "x, y, z, xy = utility.get_xyz(tmp_vectors)\n",
    "df = pd.DataFrame(data={'x': z, 'y': y, 'z': x}, columns=['x', 'y', 'z'])\n",
    "p.add_mesh(pv.PolyData(df.to_numpy()), color='blue')\n",
    "\n",
    "tmp_vectors = utility.build_3d_cartilage_array(np_image, 2)\n",
    "x, y, z, xy = utility.get_xyz(tmp_vectors)\n",
    "df = pd.DataFrame(data={'x': z, 'y': y, 'z': x}, columns=['x', 'y', 'z'])\n",
    "p.add_mesh(pv.PolyData(df.to_numpy()), color='yellow')\n",
    "\n",
    "p.show_grid()\n",
    "p.show()"
   ]
  },
  {
   "cell_type": "markdown",
   "metadata": {},
   "source": [
    "# Tibia"
   ]
  },
  {
   "cell_type": "code",
   "execution_count": 5,
   "metadata": {},
   "outputs": [],
   "source": [
    "x, y, z, xy = utility.get_xyz(tibial_vectors)\n",
    "df = pd.DataFrame(data={'x': z, 'y': y, 'z': x}, columns=['x', 'y', 'z'])"
   ]
  },
  {
   "cell_type": "code",
   "execution_count": 6,
   "metadata": {},
   "outputs": [
    {
     "data": {
      "application/vnd.jupyter.widget-view+json": {
       "model_id": "e3543903983042cfb37aebb979040901",
       "version_major": 2,
       "version_minor": 0
      },
      "text/plain": [
       "ViewInteractiveWidget(height=768, layout=Layout(height='auto', width='100%'), width=1024)"
      ]
     },
     "metadata": {},
     "output_type": "display_data"
    }
   ],
   "source": [
    "p = pv.Plotter()\n",
    "p.add_mesh(pv.PolyData(df.to_numpy()))\n",
    "p.show_grid()\n",
    "p.show()\n",
    "p.render()\n",
    "p.save_graphic('s1.svg')"
   ]
  },
  {
   "cell_type": "markdown",
   "metadata": {},
   "source": [
    "### Approach:\n",
    "Construct an upper and a lower mesh out of the cartilage volume and calculate the distance between the meshes (by raytracing, nearest neighbors, etc). To this end, group by x, y coordinates and for each pair (x, y), take the maximum z coordinate for the upper mesh and the minimum z coordinate for the lower mesh."
   ]
  },
  {
   "cell_type": "code",
   "execution_count": 7,
   "metadata": {},
   "outputs": [],
   "source": [
    "max_z = df.groupby(['x', 'y']).max()\n",
    "min_z = df.groupby(['x', 'y']).min()\n",
    "\n",
    "tmp1 = [np.array(item) for item in max_z.index]\n",
    "tmp2 = [item for item in max_z.to_numpy()]\n",
    "max_z = np.column_stack((tmp1, tmp2))\n",
    "\n",
    "tmp1 = [np.array(item) for item in min_z.index]\n",
    "tmp2 = [item for item in min_z.to_numpy()]\n",
    "min_z = np.column_stack((tmp1, tmp2))"
   ]
  },
  {
   "cell_type": "code",
   "execution_count": 8,
   "metadata": {},
   "outputs": [],
   "source": [
    "upper_cloud = pv.PolyData(max_z)\n",
    "lower_cloud = pv.PolyData(min_z)"
   ]
  },
  {
   "cell_type": "code",
   "execution_count": 9,
   "metadata": {},
   "outputs": [
    {
     "data": {
      "application/vnd.jupyter.widget-view+json": {
       "model_id": "9ca30465ba57429cac9a8911fa6747a7",
       "version_major": 2,
       "version_minor": 0
      },
      "text/plain": [
       "ViewInteractiveWidget(height=768, layout=Layout(height='auto', width='100%'), width=1024)"
      ]
     },
     "metadata": {},
     "output_type": "display_data"
    }
   ],
   "source": [
    "p = pv.Plotter()\n",
    "p.add_mesh(upper_cloud, color='green')\n",
    "p.add_mesh(lower_cloud, color='red')\n",
    "p.add_mesh(pv.PolyData(df.to_numpy()), color='blue', opacity=0.25)\n",
    "p.add_legend([['bone-sided mesh', 'green'], ['cartilage-sided mesh', 'red']])\n",
    "p.show_grid()\n",
    "p.show()\n",
    "p.render()\n",
    "p.save_graphic('tibial_points.svg')"
   ]
  },
  {
   "cell_type": "code",
   "execution_count": 10,
   "metadata": {},
   "outputs": [],
   "source": [
    "# build polygon meshes for both point clouds using delaunay\n",
    "lower_mesh = lower_cloud.delaunay_2d()\n",
    "upper_mesh = upper_cloud.delaunay_2d()"
   ]
  },
  {
   "cell_type": "markdown",
   "metadata": {},
   "source": [
    "We can now calculate the distance between the two meshes. In this example, we simply calculate the mean total distance using a k-d tree nearest neighbor search. For division into subregions, it is better to do raytracing from one mesh's normal vectors against the other mesh."
   ]
  },
  {
   "cell_type": "code",
   "execution_count": 11,
   "metadata": {},
   "outputs": [
    {
     "data": {
      "text/plain": [
       "2.7352430942075143"
      ]
     },
     "execution_count": 11,
     "metadata": {},
     "output_type": "execute_result"
    }
   ],
   "source": [
    "from scipy.spatial import KDTree\n",
    "\n",
    "tree = KDTree(upper_cloud.points)\n",
    "d, idx = tree.query(lower_cloud.points)\n",
    "lower_cloud['distances'] = d\n",
    "np.mean(d)"
   ]
  },
  {
   "cell_type": "code",
   "execution_count": 12,
   "metadata": {},
   "outputs": [
    {
     "data": {
      "text/plain": [
       "<module 'utility' from '/home/simon/knorpel_v2/utility.py'>"
      ]
     },
     "execution_count": 12,
     "metadata": {},
     "output_type": "execute_result"
    }
   ],
   "source": [
    "importlib.reload(utility)"
   ]
  },
  {
   "cell_type": "code",
   "execution_count": 13,
   "metadata": {},
   "outputs": [
    {
     "name": "stderr",
     "output_type": "stream",
     "text": [
      "100%|█████████████████████████████████████| 8357/8357 [00:01<00:00, 6517.26it/s]\n"
     ]
    },
    {
     "data": {
      "text/plain": [
       "dict_keys(['aLT', 'iLT', 'aMT', 'eLT', 'iMT', 'eMT', 'cLT', 'cMT', 'pLT', 'pMT'])"
      ]
     },
     "execution_count": 13,
     "metadata": {},
     "output_type": "execute_result"
    }
   ],
   "source": [
    "dd = defaultdict(list)\n",
    "left_tibial_regions, right_tibial_regions, split_vector = utility.tibial_landmarks(lower_mesh.points)\n",
    "for v in tqdm(lower_mesh.points):\n",
    "    vector = np.array(v)\n",
    "    # print(vector)\n",
    "    label = utility.classify_tibial_point(vector[:2], left_tibial_regions, right_tibial_regions, split_vector)\n",
    "    dd[label].append(vector)\n",
    "\n",
    "dd.keys()"
   ]
  },
  {
   "cell_type": "code",
   "execution_count": 14,
   "metadata": {},
   "outputs": [
    {
     "data": {
      "text/plain": [
       "[[137, 31],\n",
       " [267, 31],\n",
       " [267, 74],\n",
       " [137, 74],\n",
       " 17.0,\n",
       " array([203.42889544,  54.05171241])]"
      ]
     },
     "execution_count": 14,
     "metadata": {},
     "output_type": "execute_result"
    }
   ],
   "source": [
    "left_tibial_regions"
   ]
  },
  {
   "cell_type": "code",
   "execution_count": 15,
   "metadata": {
    "scrolled": false
   },
   "outputs": [
    {
     "data": {
      "application/vnd.jupyter.widget-view+json": {
       "model_id": "c193b60561414c1b958f32dadfa2761c",
       "version_major": 2,
       "version_minor": 0
      },
      "text/plain": [
       "ViewInteractiveWidget(height=768, layout=Layout(height='auto', width='100%'), width=1024)"
      ]
     },
     "metadata": {},
     "output_type": "display_data"
    }
   ],
   "source": [
    "p = pv.Plotter()\n",
    "p.add_mesh(pv.PolyData(dd['eLT']), color='red')\n",
    "p.add_mesh(pv.PolyData(dd['pLT']), color='blue')\n",
    "p.add_mesh(pv.PolyData(dd['cLT']), color='green')\n",
    "p.add_mesh(pv.PolyData(dd['aLT']), color='pink')\n",
    "p.add_mesh(pv.PolyData(dd['iLT']), color='yellow')\n",
    "p.add_mesh(pv.PolyData(dd['eMT']), color='red')\n",
    "p.add_mesh(pv.PolyData(dd['pMT']), color='blue')\n",
    "p.add_mesh(pv.PolyData(dd['cMT']), color='green')\n",
    "p.add_mesh(pv.PolyData(dd['aMT']), color='pink')\n",
    "p.add_mesh(pv.PolyData(dd['iMT']), color='yellow')\n",
    "p.add_legend([['external', 'red'], ['posterior', 'blue'], ['anterior', 'pink'], ['internal', 'yellow'], ['central', 'green']])\n",
    "p.add_title('Subregions of the tibial cartilage')\n",
    "p.show_grid()\n",
    "p.show()\n",
    "p.render()\n",
    "p.save_graphic('tibial_subregions.svg')"
   ]
  },
  {
   "cell_type": "markdown",
   "metadata": {},
   "source": [
    "# Femur"
   ]
  },
  {
   "cell_type": "code",
   "execution_count": 7,
   "metadata": {},
   "outputs": [],
   "source": [
    "x, y, z, xy = utility.get_xyz(femoral_vectors)\n",
    "df = pd.DataFrame(data={'x': z, 'y': y, 'z': x}, columns=['x', 'y', 'z'])"
   ]
  },
  {
   "cell_type": "code",
   "execution_count": 17,
   "metadata": {},
   "outputs": [
    {
     "data": {
      "application/vnd.jupyter.widget-view+json": {
       "model_id": "57932b0c650c44279749a559b6ad8e00",
       "version_major": 2,
       "version_minor": 0
      },
      "text/plain": [
       "ViewInteractiveWidget(height=768, layout=Layout(height='auto', width='100%'), width=1024)"
      ]
     },
     "metadata": {},
     "output_type": "display_data"
    }
   ],
   "source": [
    "p = pv.Plotter()\n",
    "p.add_mesh(pv.PolyData(df.to_numpy()))\n",
    "p.show_grid()\n",
    "p.show()\n",
    "p.render()\n",
    "p.save_graphic('s2.svg')"
   ]
  },
  {
   "cell_type": "markdown",
   "metadata": {},
   "source": [
    "### Approach:\n",
    "Using the same approach as for the tibial cartilage is not possible due to the volume's shape. Let's illustrate the problem: <br><br>\n",
    "Instead of going by z coordinate, it makes more sense to take a central point and introduce a distance measure to that point."
   ]
  },
  {
   "cell_type": "code",
   "execution_count": 37,
   "metadata": {},
   "outputs": [
    {
     "data": {
      "text/html": [
       "<div>\n",
       "<style scoped>\n",
       "    .dataframe tbody tr th:only-of-type {\n",
       "        vertical-align: middle;\n",
       "    }\n",
       "\n",
       "    .dataframe tbody tr th {\n",
       "        vertical-align: top;\n",
       "    }\n",
       "\n",
       "    .dataframe thead th {\n",
       "        text-align: right;\n",
       "    }\n",
       "</style>\n",
       "<table border=\"1\" class=\"dataframe\">\n",
       "  <thead>\n",
       "    <tr style=\"text-align: right;\">\n",
       "      <th></th>\n",
       "      <th>x</th>\n",
       "      <th>y</th>\n",
       "      <th>z</th>\n",
       "      <th>dist_to_cog</th>\n",
       "    </tr>\n",
       "  </thead>\n",
       "  <tbody>\n",
       "    <tr>\n",
       "      <th>0</th>\n",
       "      <td>170</td>\n",
       "      <td>0</td>\n",
       "      <td>52</td>\n",
       "      <td>93.364876</td>\n",
       "    </tr>\n",
       "    <tr>\n",
       "      <th>1</th>\n",
       "      <td>171</td>\n",
       "      <td>0</td>\n",
       "      <td>52</td>\n",
       "      <td>94.180677</td>\n",
       "    </tr>\n",
       "    <tr>\n",
       "      <th>2</th>\n",
       "      <td>169</td>\n",
       "      <td>0</td>\n",
       "      <td>53</td>\n",
       "      <td>92.504054</td>\n",
       "    </tr>\n",
       "    <tr>\n",
       "      <th>3</th>\n",
       "      <td>170</td>\n",
       "      <td>0</td>\n",
       "      <td>53</td>\n",
       "      <td>93.316665</td>\n",
       "    </tr>\n",
       "    <tr>\n",
       "      <th>4</th>\n",
       "      <td>171</td>\n",
       "      <td>0</td>\n",
       "      <td>53</td>\n",
       "      <td>94.132885</td>\n",
       "    </tr>\n",
       "    <tr>\n",
       "      <th>...</th>\n",
       "      <td>...</td>\n",
       "      <td>...</td>\n",
       "      <td>...</td>\n",
       "      <td>...</td>\n",
       "    </tr>\n",
       "    <tr>\n",
       "      <th>122282</th>\n",
       "      <td>139</td>\n",
       "      <td>108</td>\n",
       "      <td>99</td>\n",
       "      <td>81.884064</td>\n",
       "    </tr>\n",
       "    <tr>\n",
       "      <th>122283</th>\n",
       "      <td>140</td>\n",
       "      <td>108</td>\n",
       "      <td>99</td>\n",
       "      <td>82.437855</td>\n",
       "    </tr>\n",
       "    <tr>\n",
       "      <th>122284</th>\n",
       "      <td>141</td>\n",
       "      <td>108</td>\n",
       "      <td>99</td>\n",
       "      <td>83.000000</td>\n",
       "    </tr>\n",
       "    <tr>\n",
       "      <th>122285</th>\n",
       "      <td>142</td>\n",
       "      <td>108</td>\n",
       "      <td>99</td>\n",
       "      <td>83.570330</td>\n",
       "    </tr>\n",
       "    <tr>\n",
       "      <th>122286</th>\n",
       "      <td>143</td>\n",
       "      <td>108</td>\n",
       "      <td>99</td>\n",
       "      <td>84.148678</td>\n",
       "    </tr>\n",
       "  </tbody>\n",
       "</table>\n",
       "<p>122287 rows × 4 columns</p>\n",
       "</div>"
      ],
      "text/plain": [
       "          x    y   z  dist_to_cog\n",
       "0       170    0  52    93.364876\n",
       "1       171    0  52    94.180677\n",
       "2       169    0  53    92.504054\n",
       "3       170    0  53    93.316665\n",
       "4       171    0  53    94.132885\n",
       "...     ...  ...  ..          ...\n",
       "122282  139  108  99    81.884064\n",
       "122283  140  108  99    82.437855\n",
       "122284  141  108  99    83.000000\n",
       "122285  142  108  99    83.570330\n",
       "122286  143  108  99    84.148678\n",
       "\n",
       "[122287 rows x 4 columns]"
      ]
     },
     "execution_count": 37,
     "metadata": {},
     "output_type": "execute_result"
    }
   ],
   "source": [
    "center = np.array([df.x.min() + (df.x.max() - df.x.min()) / 2,\n",
    "                   df.y.min() + (df.y.max() - df.y.min()) / 2,\n",
    "                   df.z.min() + (df.z.max() - df.z.min()) / 2])\n",
    "\n",
    "df['dist_to_cog'] = np.zeros(df.shape[0])\n",
    "df['dist_to_cog'] = df.apply(lambda l: utility.vector_distance([l.x, l.y, l.z], center), axis=1)\n",
    "df"
   ]
  },
  {
   "cell_type": "markdown",
   "metadata": {},
   "source": [
    "If we now again group by x, y and take the min/max distance..."
   ]
  },
  {
   "cell_type": "code",
   "execution_count": 38,
   "metadata": {},
   "outputs": [],
   "source": [
    "max_z = df[df.groupby(['x', 'y'])['dist_to_cog'].transform(max) == df['dist_to_cog']]\n",
    "min_z = df[df.groupby(['x', 'y'])['dist_to_cog'].transform(min) == df['dist_to_cog']]\n",
    "\n",
    "max_z = [item[:3] for item in max_z.to_numpy()]\n",
    "min_z = [item[:3] for item in min_z.to_numpy()]"
   ]
  },
  {
   "cell_type": "code",
   "execution_count": 39,
   "metadata": {},
   "outputs": [],
   "source": [
    "upper_cloud = pv.PolyData(max_z)\n",
    "lower_cloud = pv.PolyData(min_z)"
   ]
  },
  {
   "cell_type": "code",
   "execution_count": 40,
   "metadata": {},
   "outputs": [
    {
     "data": {
      "application/vnd.jupyter.widget-view+json": {
       "model_id": "567aa284fdb84f0d9e5eb5982c6ae589",
       "version_major": 2,
       "version_minor": 0
      },
      "text/plain": [
       "ViewInteractiveWidget(height=768, layout=Layout(height='auto', width='100%'), width=1024)"
      ]
     },
     "metadata": {},
     "output_type": "display_data"
    }
   ],
   "source": [
    "p = pv.Plotter()\n",
    "p.add_mesh(upper_cloud, color='red')\n",
    "p.add_mesh(lower_cloud, color='green')\n",
    "p.add_mesh(pv.PolyData(df.to_numpy()[:,0:3]), color='blue', opacity=0.25)\n",
    "p.add_legend([['bone-sided mesh', 'green'], ['cartilage-sided mesh', 'red']])\n",
    "p.show_grid()\n",
    "p.show()\n",
    "p.render()\n",
    "p.save_graphic('femoral_points.svg')"
   ]
  },
  {
   "cell_type": "markdown",
   "metadata": {},
   "source": [
    "This is what we get. You can see that points are missing in the curved regions. This makes sense because we only take one value each for each (x, y) while for these regions, we'd need >= 2 values for the inner and outer mesh.<br><br>\n",
    "Another way to approach this problem is again taking a central point, and from this point do raytracing against the cartilage volume. For each tracing vector, find the first and last intersection point with the volume (if any) and calculate the distance between the two.<br><br>\n",
    "To this end, we can build a sphere and trace along the sphere's normal vectors."
   ]
  },
  {
   "cell_type": "code",
   "execution_count": 41,
   "metadata": {},
   "outputs": [
    {
     "data": {
      "text/html": [
       "<table><tr><th>Header</th><th>Data Arrays</th></tr><tr><td>\n",
       "<table>\n",
       "<tr><th>PolyData</th><th>Information</th></tr>\n",
       "<tr><td>N Cells</td><td>1680</td></tr>\n",
       "<tr><td>N Points</td><td>842</td></tr>\n",
       "<tr><td>X Bounds</td><td>9.300e+01, 9.500e+01</td></tr>\n",
       "<tr><td>Y Bounds</td><td>5.301e+01, 5.499e+01</td></tr>\n",
       "<tr><td>Z Bounds</td><td>5.600e+01, 5.800e+01</td></tr>\n",
       "<tr><td>N Arrays</td><td>1</td></tr>\n",
       "</table>\n",
       "\n",
       "</td><td>\n",
       "<table>\n",
       "<tr><th>Name</th><th>Field</th><th>Type</th><th>N Comp</th><th>Min</th><th>Max</th></tr>\n",
       "<tr><td>Normals</td><td>Points</td><td>float32</td><td>3</td><td>-1.000e+00</td><td>1.000e+00</td></tr>\n",
       "</table>\n",
       "\n",
       "</td></tr> </table>"
      ],
      "text/plain": [
       "PolyData (0x7f41a8b8fe20)\n",
       "  N Cells:\t1680\n",
       "  N Points:\t842\n",
       "  X Bounds:\t9.300e+01, 9.500e+01\n",
       "  Y Bounds:\t5.301e+01, 5.499e+01\n",
       "  Z Bounds:\t5.600e+01, 5.800e+01\n",
       "  N Arrays:\t1"
      ]
     },
     "execution_count": 41,
     "metadata": {},
     "output_type": "execute_result"
    }
   ],
   "source": [
    "num_sp = 30\n",
    "sphere = pv.Sphere(center=center, radius=1, theta_resolution=num_sp, phi_resolution=num_sp)\n",
    "sphere.compute_normals(point_normals=True, cell_normals=False, inplace=True)"
   ]
  },
  {
   "cell_type": "code",
   "execution_count": 42,
   "metadata": {},
   "outputs": [
    {
     "data": {
      "application/vnd.jupyter.widget-view+json": {
       "model_id": "edd544e66c9b4058a7d704c31b715a39",
       "version_major": 2,
       "version_minor": 0
      },
      "text/plain": [
       "ViewInteractiveWidget(height=768, layout=Layout(height='auto', width='100%'), width=1024)"
      ]
     },
     "metadata": {},
     "output_type": "display_data"
    }
   ],
   "source": [
    "p = pv.Plotter()\n",
    "m = pv.PolyData(df.to_numpy()[:,0:3])\n",
    "p.add_mesh(m, color='red')\n",
    "p.add_mesh(sphere, color='green')\n",
    "# p.add_mesh(sphere.glyph(scale='Normals', orient='Normals', tolerance=0.05), color='blue')\n",
    "p.add_arrows(sphere.points, sphere['Normals'], 25)\n",
    "p.show_grid()\n",
    "p.add_title('Sphere placement for the femoral cartilage')\n",
    "p.show()\n",
    "p.render()\n",
    "p.save_graphic('femoral_sphere.svg')"
   ]
  },
  {
   "cell_type": "markdown",
   "metadata": {},
   "source": [
    "### Fixing the mesh approach\n",
    "Another approach that might work is cutting the full volume into two shapes and rotating the problematic section. Let's have a look:"
   ]
  },
  {
   "cell_type": "code",
   "execution_count": 43,
   "metadata": {},
   "outputs": [
    {
     "data": {
      "text/plain": [
       "count    189.000000\n",
       "mean      47.878307\n",
       "std       30.161286\n",
       "min       13.000000\n",
       "25%       28.000000\n",
       "50%       32.000000\n",
       "75%       58.000000\n",
       "max      112.000000\n",
       "Name: z, dtype: float64"
      ]
     },
     "execution_count": 43,
     "metadata": {},
     "output_type": "execute_result"
    }
   ],
   "source": [
    "df = df.sort_values(by='x', ascending=True)\n",
    "zrange = df.groupby(by=['x'])['z'].max() - df.groupby(by=['x'])['z'].min()\n",
    "zrange.describe()"
   ]
  },
  {
   "cell_type": "code",
   "execution_count": 44,
   "metadata": {},
   "outputs": [],
   "source": [
    "zmed = zrange.median()"
   ]
  },
  {
   "cell_type": "code",
   "execution_count": 45,
   "metadata": {},
   "outputs": [],
   "source": [
    "from scipy import stats"
   ]
  },
  {
   "cell_type": "code",
   "execution_count": 46,
   "metadata": {},
   "outputs": [],
   "source": [
    "zindex = zrange.loc[zrange < zmed].index.to_numpy()\n",
    "mask = np.abs(stats.zscore(zindex)) < 2\n",
    "lower_bound = zindex[mask].min()\n",
    "upper_bound = zindex[mask].max()"
   ]
  },
  {
   "cell_type": "code",
   "execution_count": 47,
   "metadata": {},
   "outputs": [
    {
     "name": "stdout",
     "output_type": "stream",
     "text": [
      "35 122\n"
     ]
    }
   ],
   "source": [
    "#lower_bound = 35\n",
    "#upper_bound = 122\n",
    "print(lower_bound, upper_bound)"
   ]
  },
  {
   "cell_type": "code",
   "execution_count": 48,
   "metadata": {},
   "outputs": [
    {
     "data": {
      "application/vnd.jupyter.widget-view+json": {
       "model_id": "3c05c27e58de47c1921f1a3e464aa994",
       "version_major": 2,
       "version_minor": 0
      },
      "text/plain": [
       "ViewInteractiveWidget(height=768, layout=Layout(height='auto', width='100%'), width=1024)"
      ]
     },
     "metadata": {},
     "output_type": "display_data"
    }
   ],
   "source": [
    "p = pv.Plotter()\n",
    "p.add_mesh(pv.PolyData(df.loc[df['x'] > lower_bound].loc[df['x'] < upper_bound].to_numpy()[:,0:3]), color='blue', opacity=0.25)\n",
    "p.add_mesh(pv.PolyData(df.loc[df['x'] < lower_bound].to_numpy()[:,0:3]), color='red', opacity=0.25)\n",
    "p.add_mesh(pv.PolyData(df.loc[df['x'] > upper_bound].to_numpy()[:,0:3]), color='yellow', opacity=0.25)\n",
    "p.show()\n",
    "p.render()\n",
    "p.save_graphic('s3.svg')"
   ]
  },
  {
   "cell_type": "code",
   "execution_count": 49,
   "metadata": {},
   "outputs": [],
   "source": [
    "right_portion = df.loc[df['x'] < lower_bound]\n",
    "right_portion = right_portion[['z', 'y', 'x', 'dist_to_cog']]\n",
    "right_portion.columns = ['x', 'y', 'z', 'dist_to_cog']\n",
    "\n",
    "middle_portion = df.loc[df['x'] > lower_bound].loc[df['x'] < upper_bound]\n",
    "\n",
    "left_portion = df.loc[df['x'] > upper_bound]\n",
    "left_portion = left_portion[['z', 'y', 'x', 'dist_to_cog']]\n",
    "left_portion.columns = ['x', 'y', 'z', 'dist_to_cog']"
   ]
  },
  {
   "cell_type": "code",
   "execution_count": 50,
   "metadata": {},
   "outputs": [
    {
     "data": {
      "application/vnd.jupyter.widget-view+json": {
       "model_id": "81134edc1cd440ff9089bcea93392c47",
       "version_major": 2,
       "version_minor": 0
      },
      "text/plain": [
       "ViewInteractiveWidget(height=768, layout=Layout(height='auto', width='100%'), width=1024)"
      ]
     },
     "metadata": {},
     "output_type": "display_data"
    }
   ],
   "source": [
    "pv.plot(pv.PolyData(left_portion.to_numpy()[:,0:3]), color='yellow')"
   ]
  },
  {
   "cell_type": "code",
   "execution_count": 51,
   "metadata": {},
   "outputs": [
    {
     "data": {
      "application/vnd.jupyter.widget-view+json": {
       "model_id": "ffb3799b280f4e90be4e628f76554db8",
       "version_major": 2,
       "version_minor": 0
      },
      "text/plain": [
       "ViewInteractiveWidget(height=768, layout=Layout(height='auto', width='100%'), width=1024)"
      ]
     },
     "metadata": {},
     "output_type": "display_data"
    }
   ],
   "source": [
    "pv.plot(pv.PolyData(right_portion.to_numpy()[:,0:3]), color='red')"
   ]
  },
  {
   "cell_type": "code",
   "execution_count": 52,
   "metadata": {},
   "outputs": [],
   "source": [
    "max_z = left_portion[left_portion.groupby(['x', 'y'])['dist_to_cog'].transform(max) == left_portion['dist_to_cog']]\n",
    "min_z = left_portion[left_portion.groupby(['x', 'y'])['dist_to_cog'].transform(min) == left_portion['dist_to_cog']]\n",
    "\n",
    "max_z = [item[:3] for item in max_z.to_numpy()]\n",
    "min_z = [item[:3] for item in min_z.to_numpy()]"
   ]
  },
  {
   "cell_type": "code",
   "execution_count": 53,
   "metadata": {},
   "outputs": [],
   "source": [
    "outer_cloud = pv.PolyData(max_z)\n",
    "inner_cloud = pv.PolyData(min_z)"
   ]
  },
  {
   "cell_type": "code",
   "execution_count": 54,
   "metadata": {},
   "outputs": [
    {
     "data": {
      "application/vnd.jupyter.widget-view+json": {
       "model_id": "a138e5b019d244fa9f8a87a014292883",
       "version_major": 2,
       "version_minor": 0
      },
      "text/plain": [
       "ViewInteractiveWidget(height=768, layout=Layout(height='auto', width='100%'), width=1024)"
      ]
     },
     "metadata": {},
     "output_type": "display_data"
    }
   ],
   "source": [
    "p = pv.Plotter()\n",
    "p.add_mesh(inner_cloud, color='red', opacity=.5)\n",
    "p.add_mesh(outer_cloud, color='blue', opacity=.5)\n",
    "p.show()"
   ]
  },
  {
   "cell_type": "code",
   "execution_count": 55,
   "metadata": {},
   "outputs": [],
   "source": [
    "outer_delaunay = outer_cloud.delaunay_2d()\n",
    "inner_delaunay = inner_cloud.delaunay_2d()"
   ]
  },
  {
   "cell_type": "code",
   "execution_count": 56,
   "metadata": {},
   "outputs": [
    {
     "data": {
      "application/vnd.jupyter.widget-view+json": {
       "model_id": "6258f9e3ac214b509b02dbac7a5ed692",
       "version_major": 2,
       "version_minor": 0
      },
      "text/plain": [
       "ViewInteractiveWidget(height=768, layout=Layout(height='auto', width='100%'), width=1024)"
      ]
     },
     "metadata": {},
     "output_type": "display_data"
    }
   ],
   "source": [
    "p = pv.Plotter()\n",
    "p.add_mesh(inner_delaunay, color='red', opacity=.5)\n",
    "p.add_mesh(outer_delaunay, color='blue', opacity=.5)\n",
    "p.show()"
   ]
  },
  {
   "cell_type": "markdown",
   "metadata": {},
   "source": [
    "This seems to work all right. Let's do some raytracing."
   ]
  },
  {
   "cell_type": "code",
   "execution_count": 57,
   "metadata": {},
   "outputs": [],
   "source": [
    "def build_delaunay(portion):\n",
    "    max_dist = portion[portion.groupby(['x', 'y'])['dist_to_cog'].transform(max) == portion['dist_to_cog']]\n",
    "    min_dist = portion[portion.groupby(['x', 'y'])['dist_to_cog'].transform(min) == portion['dist_to_cog']]\n",
    "\n",
    "    max_dist = [item[:3] for item in max_dist.to_numpy()]\n",
    "    min_dist = [item[:3] for item in min_dist.to_numpy()]\n",
    "    \n",
    "    outer_cloud = pv.PolyData(max_dist)\n",
    "    inner_cloud = pv.PolyData(min_dist)\n",
    "    \n",
    "    return outer_cloud.delaunay_2d(), inner_cloud.delaunay_2d()"
   ]
  },
  {
   "cell_type": "code",
   "execution_count": 58,
   "metadata": {},
   "outputs": [],
   "source": [
    "left_outer, left_inner = build_delaunay(left_portion)\n",
    "middle_outer, middle_inner = build_delaunay(middle_portion)\n",
    "right_outer, right_inner = build_delaunay(right_portion)"
   ]
  },
  {
   "cell_type": "code",
   "execution_count": 59,
   "metadata": {},
   "outputs": [],
   "source": [
    "left_out = left_outer.copy()\n",
    "left_out.points = np.array([[x[2], x[1], x[0]] for x in left_out.points])\n",
    "left_in = left_inner.copy()\n",
    "left_in.points = np.array([[x[2], x[1], x[0]] for x in left_in.points])\n",
    "\n",
    "middle_out = middle_outer.copy()\n",
    "middle_out.points = np.array([[x[0], x[1], x[2]] for x in middle_out.points])\n",
    "middle_in = middle_inner.copy()\n",
    "middle_in.points = np.array([[x[0], x[1], x[2]] for x in middle_in.points])\n",
    "\n",
    "right_out = right_outer.copy()\n",
    "right_out.points = np.array([[x[2], x[1], x[0]] for x in right_out.points])\n",
    "right_in = right_inner.copy()\n",
    "right_in.points = np.array([[x[2], x[1], x[0]] for x in right_in.points])"
   ]
  },
  {
   "cell_type": "code",
   "execution_count": 60,
   "metadata": {},
   "outputs": [
    {
     "data": {
      "application/vnd.jupyter.widget-view+json": {
       "model_id": "1da9bfa307634555b5cf5f311c897e36",
       "version_major": 2,
       "version_minor": 0
      },
      "text/plain": [
       "ViewInteractiveWidget(height=768, layout=Layout(height='auto', width='100%'), width=1024)"
      ]
     },
     "metadata": {},
     "output_type": "display_data"
    }
   ],
   "source": [
    "p = pv.Plotter()\n",
    "p.add_mesh(left_out, color='red')\n",
    "p.add_mesh(middle_out, color='red')\n",
    "p.add_mesh(right_out, color='red')\n",
    "p.add_mesh(left_in, color='green')\n",
    "p.add_mesh(middle_in, color='green')\n",
    "p.add_mesh(right_in, color='green')\n",
    "p.show_grid()\n",
    "p.add_legend([['bone-sided mesh', 'green'], ['cartilage-sided mesh', 'red']])\n",
    "p.add_title('Succesful construction of meshes for the femoral cartilage', font_size=10)\n",
    "\n",
    "p.show()\n",
    "p.render()\n",
    "p.save_graphic('femoral_meshes.svg')"
   ]
  },
  {
   "cell_type": "code",
   "execution_count": 61,
   "metadata": {},
   "outputs": [],
   "source": [
    "cluster = KMeans(n_clusters=1, random_state=0).fit(femoral_vectors)\n",
    "split_vector = cluster.cluster_centers_[0]\n",
    "femoral_split_vector = split_vector\n",
    "left_plate, right_plate = utility.split_into_plates(femoral_vectors, split_vector)\n",
    "\n",
    "first_split, second_split = utility.get_femoral_thirds(left_plate)\n",
    "left_femoral_regions = [first_split, second_split]\n",
    "\n",
    "first_split, second_split = utility.get_femoral_thirds(right_plate)\n",
    "right_femoral_regions = [first_split, second_split]"
   ]
  },
  {
   "cell_type": "code",
   "execution_count": 62,
   "metadata": {},
   "outputs": [],
   "source": [
    "def ray_trace(inner, outer):\n",
    "    average_thickness = dict()\n",
    "    n_points = inner.n_points\n",
    "    average_thickness['ecLF'] = np.zeros(n_points)\n",
    "    average_thickness['ccLF'] = np.zeros(n_points)\n",
    "    average_thickness['icLF'] = np.zeros(n_points)\n",
    "    average_thickness['icMF'] = np.zeros(n_points)\n",
    "    average_thickness['ccMF'] = np.zeros(n_points)\n",
    "    average_thickness['ecMF'] = np.zeros(n_points)\n",
    "    \n",
    "    inner_normals = inner.compute_normals(cell_normals=False)\n",
    "    inner_normals['distances'] = np.zeros(inner.n_points)\n",
    "    for i in range(inner_normals.n_points):\n",
    "        v = inner.points[i]\n",
    "        vec = inner_normals['Normals'][i] * inner_normals.length\n",
    "        v0 = v - vec\n",
    "        v1 = v + vec\n",
    "        iv, ic = outer.ray_trace(v0, v1, first_point=True)\n",
    "        dist = np.sqrt(np.sum((iv - v)**2))\n",
    "        inner_normals['distances'][i] = dist\n",
    "        label = utility.classify_femoral_point(v[:2], left_femoral_regions, right_femoral_regions, split_vector)\n",
    "        average_thickness[label][i] = dist\n",
    "    \n",
    "    return average_thickness"
   ]
  },
  {
   "cell_type": "code",
   "execution_count": 63,
   "metadata": {},
   "outputs": [],
   "source": [
    "left_thickness = ray_trace(left_inner, left_outer)\n",
    "middle_thickness = ray_trace(middle_inner, middle_outer)\n",
    "right_thickness = ray_trace(right_inner, right_outer)"
   ]
  },
  {
   "cell_type": "code",
   "execution_count": 64,
   "metadata": {},
   "outputs": [],
   "source": [
    "average_thickness = {key: np.hstack((left_thickness[key], middle_thickness[key], right_thickness[key])) for key in left_thickness.keys()}"
   ]
  },
  {
   "cell_type": "code",
   "execution_count": 65,
   "metadata": {},
   "outputs": [
    {
     "name": "stdout",
     "output_type": "stream",
     "text": [
      "ecLF: 4.129961834403946\n",
      "ccLF: 5.005532149065432\n",
      "icLF: 5.453199175673108\n",
      "icMF: 6.514685954736944\n",
      "ccMF: 4.35446237196326\n",
      "ecMF: 3.9881449550694197\n"
     ]
    }
   ],
   "source": [
    "for key, value in average_thickness.items():\n",
    "    mask = value == 0\n",
    "    value[mask] = np.nan\n",
    "    print(f'{key}: {np.nanmean(value)}')"
   ]
  },
  {
   "cell_type": "code",
   "execution_count": 66,
   "metadata": {},
   "outputs": [],
   "source": [
    "from collections import defaultdict\n"
   ]
  },
  {
   "cell_type": "code",
   "execution_count": 67,
   "metadata": {},
   "outputs": [
    {
     "data": {
      "text/plain": [
       "<module 'utility' from '/home/simon/knorpel_v2/utility.py'>"
      ]
     },
     "execution_count": 67,
     "metadata": {},
     "output_type": "execute_result"
    }
   ],
   "source": [
    "importlib.reload(utility)"
   ]
  },
  {
   "cell_type": "code",
   "execution_count": 68,
   "metadata": {},
   "outputs": [
    {
     "data": {
      "text/plain": [
       "array([[  0.,  88.,  44.],\n",
       "       [  0.,  90.,  48.],\n",
       "       [  0.,  89.,  45.],\n",
       "       ...,\n",
       "       [188.,  18.,  54.],\n",
       "       [188.,  23.,  53.],\n",
       "       [188.,  13.,  38.]])"
      ]
     },
     "execution_count": 68,
     "metadata": {},
     "output_type": "execute_result"
    }
   ],
   "source": [
    "df.to_numpy()[:,:3]"
   ]
  },
  {
   "cell_type": "code",
   "execution_count": 69,
   "metadata": {},
   "outputs": [
    {
     "name": "stderr",
     "output_type": "stream",
     "text": [
      "100%|███████████████████████████████| 122287/122287 [00:00<00:00, 307646.13it/s]\n"
     ]
    }
   ],
   "source": [
    "dd = defaultdict(list)\n",
    "for vector in tqdm(df.to_numpy()[:,:3]):\n",
    "    label = utility.classify_femoral_point(vector[:2], left_femoral_regions, right_femoral_regions, split_vector)\n",
    "    dd[label].append(vector)"
   ]
  },
  {
   "cell_type": "code",
   "execution_count": 70,
   "metadata": {},
   "outputs": [
    {
     "data": {
      "text/plain": [
       "dict_keys(['ccMF', 'ecMF', 'icMF', 'icLF', 'ccLF', 'ecLF'])"
      ]
     },
     "execution_count": 70,
     "metadata": {},
     "output_type": "execute_result"
    }
   ],
   "source": [
    "dd.keys()"
   ]
  },
  {
   "cell_type": "code",
   "execution_count": 71,
   "metadata": {},
   "outputs": [
    {
     "name": "stdout",
     "output_type": "stream",
     "text": [
      "[22, 34] [77, 88] [ 75.94043521  55.95815581 110.1472356 ]\n"
     ]
    }
   ],
   "source": [
    "print(left_femoral_regions, right_femoral_regions, split_vector)"
   ]
  },
  {
   "cell_type": "code",
   "execution_count": 72,
   "metadata": {},
   "outputs": [
    {
     "data": {
      "application/vnd.jupyter.widget-view+json": {
       "model_id": "6c509a603ffd44b9854b649a0b475c51",
       "version_major": 2,
       "version_minor": 0
      },
      "text/plain": [
       "ViewInteractiveWidget(height=768, layout=Layout(height='auto', width='100%'), width=1024)"
      ]
     },
     "metadata": {},
     "output_type": "display_data"
    }
   ],
   "source": [
    "p = pv.Plotter()\n",
    "p.add_mesh(pv.PolyData(dd['ecLF']), color='red')\n",
    "p.add_mesh(pv.PolyData(dd['icLF']), color='yellow')\n",
    "p.add_mesh(pv.PolyData(dd['ccLF']), color='green')\n",
    "p.add_mesh(pv.PolyData(dd['icMF']), color='pink')\n",
    "p.add_mesh(pv.PolyData(dd['ecMF']), color='red')\n",
    "p.add_mesh(pv.PolyData(dd['ccMF']), color='green')\n",
    "p.show_grid()\n",
    "p.add_legend([['external', 'red'], ['central', 'green'], ['internal (left)', 'yellow'], ['internal (right)', 'pink']])\n",
    "p.add_title('Subregions of the femoral cartilage')\n",
    "p.show()\n",
    "p.render()\n",
    "p.save_graphic('femoral_subregions.svg')"
   ]
  },
  {
   "cell_type": "markdown",
   "metadata": {},
   "source": [
    "Combine outer clouds for the regional classification"
   ]
  },
  {
   "cell_type": "code",
   "execution_count": 73,
   "metadata": {},
   "outputs": [],
   "source": [
    "ldf = pd.DataFrame(data=left_outer.points, columns=['x', 'y', 'z'])\n",
    "mdf = pd.DataFrame(data=middle_outer.points, columns=['x', 'y', 'z'])\n",
    "rdf = pd.DataFrame(data=right_outer.points, columns=['x', 'y', 'z'])\n",
    "\n",
    "ldf = ldf[['z', 'y', 'x']]\n",
    "ldf.columns = ['x', 'y', 'z']\n",
    "\n",
    "rdf = rdf[['z', 'y', 'x']]\n",
    "rdf.columns = ['x', 'y', 'z']\n",
    "\n",
    "cdf = pd.concat([ldf, mdf, rdf])"
   ]
  },
  {
   "cell_type": "code",
   "execution_count": 74,
   "metadata": {},
   "outputs": [
    {
     "data": {
      "application/vnd.jupyter.widget-view+json": {
       "model_id": "69f7be338b6a40bda94cefadb0a7b6bb",
       "version_major": 2,
       "version_minor": 0
      },
      "text/plain": [
       "ViewInteractiveWidget(height=768, layout=Layout(height='auto', width='100%'), width=1024)"
      ]
     },
     "metadata": {},
     "output_type": "display_data"
    }
   ],
   "source": [
    "# outer_stack = np.vstack((left_outer.points, middle_outer.points, right_outer.points))\n",
    "pv.PolyData(cdf.to_numpy()).plot()"
   ]
  },
  {
   "cell_type": "markdown",
   "metadata": {},
   "source": [
    "### Sphere approach for the tibial cartilage\n",
    "Because why not?"
   ]
  },
  {
   "cell_type": "code",
   "execution_count": 80,
   "metadata": {},
   "outputs": [],
   "source": [
    "x, y, z, xy = utility.get_xyz(tibial_vectors)\n",
    "df = pd.DataFrame(data={'x': z, 'y': y, 'z': x}, columns=['x', 'y', 'z'])"
   ]
  },
  {
   "cell_type": "code",
   "execution_count": 81,
   "metadata": {},
   "outputs": [
    {
     "data": {
      "text/html": [
       "<div>\n",
       "<style scoped>\n",
       "    .dataframe tbody tr th:only-of-type {\n",
       "        vertical-align: middle;\n",
       "    }\n",
       "\n",
       "    .dataframe tbody tr th {\n",
       "        vertical-align: top;\n",
       "    }\n",
       "\n",
       "    .dataframe thead th {\n",
       "        text-align: right;\n",
       "    }\n",
       "</style>\n",
       "<table border=\"1\" class=\"dataframe\">\n",
       "  <thead>\n",
       "    <tr style=\"text-align: right;\">\n",
       "      <th></th>\n",
       "      <th>x</th>\n",
       "      <th>y</th>\n",
       "      <th>z</th>\n",
       "      <th>dist_to_cog</th>\n",
       "    </tr>\n",
       "  </thead>\n",
       "  <tbody>\n",
       "    <tr>\n",
       "      <th>0</th>\n",
       "      <td>76</td>\n",
       "      <td>0</td>\n",
       "      <td>23</td>\n",
       "      <td>57.768936</td>\n",
       "    </tr>\n",
       "    <tr>\n",
       "      <th>1</th>\n",
       "      <td>77</td>\n",
       "      <td>0</td>\n",
       "      <td>23</td>\n",
       "      <td>57.976288</td>\n",
       "    </tr>\n",
       "    <tr>\n",
       "      <th>2</th>\n",
       "      <td>78</td>\n",
       "      <td>0</td>\n",
       "      <td>23</td>\n",
       "      <td>58.200086</td>\n",
       "    </tr>\n",
       "    <tr>\n",
       "      <th>3</th>\n",
       "      <td>79</td>\n",
       "      <td>0</td>\n",
       "      <td>23</td>\n",
       "      <td>58.440140</td>\n",
       "    </tr>\n",
       "    <tr>\n",
       "      <th>4</th>\n",
       "      <td>62</td>\n",
       "      <td>0</td>\n",
       "      <td>24</td>\n",
       "      <td>56.375970</td>\n",
       "    </tr>\n",
       "    <tr>\n",
       "      <th>...</th>\n",
       "      <td>...</td>\n",
       "      <td>...</td>\n",
       "      <td>...</td>\n",
       "      <td>...</td>\n",
       "    </tr>\n",
       "    <tr>\n",
       "      <th>35793</th>\n",
       "      <td>68</td>\n",
       "      <td>108</td>\n",
       "      <td>23</td>\n",
       "      <td>56.720807</td>\n",
       "    </tr>\n",
       "    <tr>\n",
       "      <th>35794</th>\n",
       "      <td>69</td>\n",
       "      <td>108</td>\n",
       "      <td>23</td>\n",
       "      <td>56.791285</td>\n",
       "    </tr>\n",
       "    <tr>\n",
       "      <th>35795</th>\n",
       "      <td>70</td>\n",
       "      <td>108</td>\n",
       "      <td>23</td>\n",
       "      <td>56.879258</td>\n",
       "    </tr>\n",
       "    <tr>\n",
       "      <th>35796</th>\n",
       "      <td>71</td>\n",
       "      <td>108</td>\n",
       "      <td>23</td>\n",
       "      <td>56.984647</td>\n",
       "    </tr>\n",
       "    <tr>\n",
       "      <th>35797</th>\n",
       "      <td>72</td>\n",
       "      <td>108</td>\n",
       "      <td>23</td>\n",
       "      <td>57.107355</td>\n",
       "    </tr>\n",
       "  </tbody>\n",
       "</table>\n",
       "<p>35798 rows × 4 columns</p>\n",
       "</div>"
      ],
      "text/plain": [
       "        x    y   z  dist_to_cog\n",
       "0      76    0  23    57.768936\n",
       "1      77    0  23    57.976288\n",
       "2      78    0  23    58.200086\n",
       "3      79    0  23    58.440140\n",
       "4      62    0  24    56.375970\n",
       "...    ..  ...  ..          ...\n",
       "35793  68  108  23    56.720807\n",
       "35794  69  108  23    56.791285\n",
       "35795  70  108  23    56.879258\n",
       "35796  71  108  23    56.984647\n",
       "35797  72  108  23    57.107355\n",
       "\n",
       "[35798 rows x 4 columns]"
      ]
     },
     "execution_count": 81,
     "metadata": {},
     "output_type": "execute_result"
    }
   ],
   "source": [
    "center = np.array([df.x.min() + (df.x.max() - df.x.min()) / 2,\n",
    "                   df.y.min() + (df.y.max() - df.y.min()) / 2,\n",
    "                   df.z.max() * 1.25])\n",
    "                   #df.z.min() + (df.z.max() - df.z.min()) / 2])\n",
    "\n",
    "df['dist_to_cog'] = np.zeros(df.shape[0])\n",
    "df['dist_to_cog'] = df.apply(lambda l: utility.vector_distance([l.x, l.y, l.z], center), axis=1)\n",
    "df"
   ]
  },
  {
   "cell_type": "code",
   "execution_count": 82,
   "metadata": {},
   "outputs": [
    {
     "data": {
      "text/html": [
       "<table><tr><th>Header</th><th>Data Arrays</th></tr><tr><td>\n",
       "<table>\n",
       "<tr><th>PolyData</th><th>Information</th></tr>\n",
       "<tr><td>N Cells</td><td>1680</td></tr>\n",
       "<tr><td>N Points</td><td>842</td></tr>\n",
       "<tr><td>X Bounds</td><td>6.350e+01, 6.550e+01</td></tr>\n",
       "<tr><td>Y Bounds</td><td>5.301e+01, 5.499e+01</td></tr>\n",
       "<tr><td>Z Bounds</td><td>3.900e+01, 4.100e+01</td></tr>\n",
       "<tr><td>N Arrays</td><td>1</td></tr>\n",
       "</table>\n",
       "\n",
       "</td><td>\n",
       "<table>\n",
       "<tr><th>Name</th><th>Field</th><th>Type</th><th>N Comp</th><th>Min</th><th>Max</th></tr>\n",
       "<tr><td>Normals</td><td>Points</td><td>float32</td><td>3</td><td>-1.000e+00</td><td>1.000e+00</td></tr>\n",
       "</table>\n",
       "\n",
       "</td></tr> </table>"
      ],
      "text/plain": [
       "PolyData (0x7fb82466ee20)\n",
       "  N Cells:\t1680\n",
       "  N Points:\t842\n",
       "  X Bounds:\t6.350e+01, 6.550e+01\n",
       "  Y Bounds:\t5.301e+01, 5.499e+01\n",
       "  Z Bounds:\t3.900e+01, 4.100e+01\n",
       "  N Arrays:\t1"
      ]
     },
     "execution_count": 82,
     "metadata": {},
     "output_type": "execute_result"
    }
   ],
   "source": [
    "num_sp = 30\n",
    "sphere = pv.Sphere(center=center, radius=1, theta_resolution=num_sp, phi_resolution=num_sp)\n",
    "sphere.compute_normals(point_normals=True, cell_normals=False, inplace=True)"
   ]
  },
  {
   "cell_type": "code",
   "execution_count": 86,
   "metadata": {},
   "outputs": [
    {
     "data": {
      "application/vnd.jupyter.widget-view+json": {
       "model_id": "70e4b1e8280b418889419dd24fad5ae7",
       "version_major": 2,
       "version_minor": 0
      },
      "text/plain": [
       "ViewInteractiveWidget(height=768, layout=Layout(height='auto', width='100%'), width=1024)"
      ]
     },
     "metadata": {},
     "output_type": "display_data"
    }
   ],
   "source": [
    "p = pv.Plotter()\n",
    "p.add_mesh(pv.PolyData(df.to_numpy()[:,0:3]), color='red')\n",
    "p.add_mesh(sphere, color='green')\n",
    "# p.add_mesh(sphere.glyph(scale='Normals', orient='Normals', tolerance=0.05), color='blue')\n",
    "p.add_arrows(sphere.points, sphere['Normals'], 5)\n",
    "p.show_grid()\n",
    "p.add_title('Sphere placement for the tibial cartilage')\n",
    "p.show()\n",
    "p.render()\n",
    "p.save_graphic('tibial_sphere.svg')"
   ]
  },
  {
   "cell_type": "markdown",
   "metadata": {},
   "source": [
    "### Extraction of the weight-bearing zone of the femoral cartilage"
   ]
  },
  {
   "cell_type": "code",
   "execution_count": 4,
   "metadata": {},
   "outputs": [
    {
     "name": "stderr",
     "output_type": "stream",
     "text": [
      "100%|█████████████████████████████████████████| 160/160 [02:38<00:00,  1.01it/s]\n"
     ]
    }
   ],
   "source": [
    "femoral_cartilage_new = [0] * (np_image.shape[0] * np_image.shape[1] * np_image.shape[2])\n",
    "tibial_cartilage_new = [0] * (np_image.shape[0] * np_image.shape[1] * np_image.shape[2])\n",
    "tindx = 0\n",
    "findx = 0\n",
    "for y in tqdm(range(np_image.shape[0])):\n",
    "    for x in range(np_image.shape[1]):\n",
    "        for z in range(np_image.shape[2]):\n",
    "            if np_image[y,x,z] == 3:\n",
    "                femoral_cartilage_new[findx] = [x, y, z]\n",
    "                findx += 1\n",
    "            if np_image[y,x,z] == 4:\n",
    "                tibial_cartilage_new[tindx] = [x, y, z]\n",
    "                tindx += 1\n",
    "\n",
    "femoral_cartilage_new = np.array(femoral_cartilage_new, dtype=object)\n",
    "femoral_cartilage_new = femoral_cartilage_new[femoral_cartilage_new != 0] \n",
    "femoral_cartilage_new = [list(element) for element in femoral_cartilage_new]\n",
    "\n",
    "tibial_cartilage_new = np.array(tibial_cartilage_new, dtype=object)\n",
    "tibial_cartilage_new = tibial_cartilage_new[tibial_cartilage_new != 0] \n",
    "tibial_cartilage_new = [list(element) for element in tibial_cartilage_new]"
   ]
  },
  {
   "cell_type": "code",
   "execution_count": 5,
   "metadata": {},
   "outputs": [
    {
     "name": "stderr",
     "output_type": "stream",
     "text": [
      "100%|█████████████████████████████████████| 8357/8357 [00:01<00:00, 7551.71it/s]\n"
     ]
    },
    {
     "data": {
      "text/plain": [
       "dict_keys(['aLT', 'iLT', 'aMT', 'eLT', 'iMT', 'eMT', 'cLT', 'cMT', 'pLT', 'pMT'])"
      ]
     },
     "execution_count": 5,
     "metadata": {},
     "output_type": "execute_result"
    }
   ],
   "source": [
    "x, y, z, xy = utility.get_xyz(tibial_cartilage_new)\n",
    "df = pd.DataFrame(data={'x': z, 'y': y, 'z': x}, columns=['x', 'y', 'z'])\n",
    "max_z = df.groupby(['x', 'y']).max()\n",
    "min_z = df.groupby(['x', 'y']).min()\n",
    "\n",
    "tmp1 = [np.array(item) for item in max_z.index]\n",
    "tmp2 = [item for item in max_z.to_numpy()]\n",
    "max_z = np.column_stack((tmp1, tmp2))\n",
    "\n",
    "tmp1 = [np.array(item) for item in min_z.index]\n",
    "tmp2 = [item for item in min_z.to_numpy()]\n",
    "min_z = np.column_stack((tmp1, tmp2))\n",
    "\n",
    "upper_cloud = pv.PolyData(max_z)\n",
    "\n",
    "dd = defaultdict(list)\n",
    "left_tibial_regions, right_tibial_regions, split_vector = utility.tibial_landmarks(max_z)\n",
    "for v in tqdm(max_z):\n",
    "    vector = np.array(v)\n",
    "    # print(vector)\n",
    "    label = utility.classify_tibial_point(vector[:2], left_tibial_regions, right_tibial_regions, split_vector)\n",
    "    dd[label].append(vector)\n",
    "\n",
    "dd.keys()"
   ]
  },
  {
   "cell_type": "code",
   "execution_count": 6,
   "metadata": {},
   "outputs": [],
   "source": [
    "wbl = np.vstack((np.array(dd['eLT']), np.array(dd['cLT']), np.array(dd['iLT'])))\n",
    "wbr = np.vstack((np.array(dd['iMT']), np.array(dd['cMT']), np.array(dd['eMT'])))"
   ]
  },
  {
   "cell_type": "code",
   "execution_count": 7,
   "metadata": {},
   "outputs": [],
   "source": [
    "tdfr = pd.DataFrame(data={'x': wbr[:,0], 'y': wbr[:,1], 'z': wbr[:,2]})\n",
    "tdfl = pd.DataFrame(data={'x': wbl[:,0], 'y': wbl[:,1], 'z': wbl[:,2]})"
   ]
  },
  {
   "cell_type": "code",
   "execution_count": 8,
   "metadata": {},
   "outputs": [
    {
     "name": "stdout",
     "output_type": "stream",
     "text": [
      "231 253 255\n"
     ]
    }
   ],
   "source": [
    "print(max(np.array(dd['cMT'])[:,0]), max(np.array(dd['eMT'])[:,0]), max(np.array(dd['iMT'])[:,0]))"
   ]
  },
  {
   "cell_type": "code",
   "execution_count": 9,
   "metadata": {},
   "outputs": [],
   "source": [
    "tdfr = tdfr.loc[tdfr['x'] < max(np.array(dd['cMT'])[:,0])].loc[tdfr['x'] > min(np.array(dd['cMT'])[:,0])]\n",
    "tdfl = tdfl.loc[tdfl['x'] < max(np.array(dd['cLT'])[:,0])].loc[tdfl['x'] > min(np.array(dd['cLT'])[:,0])]"
   ]
  },
  {
   "cell_type": "code",
   "execution_count": 10,
   "metadata": {},
   "outputs": [],
   "source": [
    "x, y, z, xy = utility.get_xyz(femoral_cartilage_new)\n",
    "df = pd.DataFrame(data={'x': z, 'y': y, 'z': x}, columns=['x', 'y', 'z'])\n",
    "fdfl = df.loc[df['y'] < df['y'].mean()]\n",
    "fdfr = df.loc[df['y'] >= df['y'].mean()]"
   ]
  },
  {
   "cell_type": "code",
   "execution_count": 11,
   "metadata": {},
   "outputs": [
    {
     "data": {
      "application/vnd.jupyter.widget-view+json": {
       "model_id": "c0ce08580cd34c169c0b148a488b111d",
       "version_major": 2,
       "version_minor": 0
      },
      "text/plain": [
       "ViewInteractiveWidget(height=768, layout=Layout(height='auto', width='100%'), width=1024)"
      ]
     },
     "metadata": {},
     "output_type": "display_data"
    }
   ],
   "source": [
    "p = pv.Plotter()\n",
    "p.add_mesh(pv.PolyData(fdfl.to_numpy()), color='blue')\n",
    "p.add_mesh(pv.PolyData(fdfr.to_numpy()), color='purple')\n",
    "p.add_mesh(pv.PolyData(tdfl.to_numpy()), color='green')\n",
    "p.add_mesh(pv.PolyData(tdfr.to_numpy()), color='yellow')\n",
    "p.show()"
   ]
  },
  {
   "cell_type": "code",
   "execution_count": 12,
   "metadata": {},
   "outputs": [
    {
     "data": {
      "text/plain": [
       "array([75.00666637, 75.45197148, 73.89181281, ..., 25.41653005,\n",
       "       24.55605832, 23.70653918])"
      ]
     },
     "execution_count": 12,
     "metadata": {},
     "output_type": "execute_result"
    }
   ],
   "source": [
    "tree = KDTree(tdfl.to_numpy())\n",
    "d, idx = tree.query(fdfl.to_numpy())\n",
    "d"
   ]
  },
  {
   "cell_type": "code",
   "execution_count": 13,
   "metadata": {},
   "outputs": [],
   "source": [
    "# wbz = np.array(femoral_cartilage_new)[np.where(d < 10)]\n",
    "wbz = np.array(fdfl.to_numpy()[np.where(d < 10)])"
   ]
  },
  {
   "cell_type": "code",
   "execution_count": 14,
   "metadata": {},
   "outputs": [
    {
     "data": {
      "application/vnd.jupyter.widget-view+json": {
       "model_id": "646c4cd11d154011990c8a4d1d111dbc",
       "version_major": 2,
       "version_minor": 0
      },
      "text/plain": [
       "ViewInteractiveWidget(height=768, layout=Layout(height='auto', width='100%'), width=1024)"
      ]
     },
     "metadata": {},
     "output_type": "display_data"
    }
   ],
   "source": [
    "p = pv.Plotter()\n",
    "p.add_mesh(pv.PolyData(fdfl.to_numpy()), color='blue')\n",
    "p.add_mesh(pv.PolyData(tdfl.to_numpy()), color='green')\n",
    "p.add_mesh(pv.PolyData(wbz), color='red')\n",
    "#p.show_grid()\n",
    "p.show()"
   ]
  },
  {
   "cell_type": "code",
   "execution_count": 17,
   "metadata": {},
   "outputs": [],
   "source": [
    "minx = tdfl['x'].min()\n",
    "maxx = tdfl['x'].max()\n",
    "miny = tdfl['y'].min()\n",
    "maxy = tdfl['y'].max()\n",
    "wbz = fdfl.loc[fdfl['x'] > minx].loc[fdfl['x'] < maxx].loc[fdfl['y'] > miny].loc[fdfl['y'] < maxy].to_numpy()"
   ]
  },
  {
   "cell_type": "code",
   "execution_count": 19,
   "metadata": {},
   "outputs": [
    {
     "data": {
      "application/vnd.jupyter.widget-view+json": {
       "model_id": "8570659345174dc2981885cb41aeb923",
       "version_major": 2,
       "version_minor": 0
      },
      "text/plain": [
       "ViewInteractiveWidget(height=768, layout=Layout(height='auto', width='100%'), width=1024)"
      ]
     },
     "metadata": {},
     "output_type": "display_data"
    }
   ],
   "source": [
    "p = pv.Plotter()\n",
    "p.add_mesh(pv.PolyData(fdfl.to_numpy()), color='blue')\n",
    "p.add_mesh(pv.PolyData(tdfl.to_numpy()), color='green')\n",
    "p.add_mesh(pv.PolyData(fdfr.to_numpy()), color='orange')\n",
    "p.add_mesh(pv.PolyData(wbz), color='red')\n",
    "#p.show_grid()\n",
    "p.show()"
   ]
  },
  {
   "cell_type": "markdown",
   "metadata": {},
   "source": [
    "# New approach for the femur"
   ]
  },
  {
   "cell_type": "code",
   "execution_count": 81,
   "metadata": {},
   "outputs": [
    {
     "data": {
      "text/plain": [
       "<module 'utility' from '/home/simon/knorpel_v2/utility.py'>"
      ]
     },
     "execution_count": 81,
     "metadata": {},
     "output_type": "execute_result"
    }
   ],
   "source": [
    "importlib.reload(utility)"
   ]
  },
  {
   "cell_type": "code",
   "execution_count": 5,
   "metadata": {},
   "outputs": [],
   "source": [
    "cwbzl, cwbzr = utility.extract_central_weightbearing_zone(femoral_vectors, tibial_vectors)"
   ]
  },
  {
   "cell_type": "code",
   "execution_count": 8,
   "metadata": {},
   "outputs": [
    {
     "data": {
      "application/vnd.jupyter.widget-view+json": {
       "model_id": "1fe477b0f59e4358b6c3d703a4bf048b",
       "version_major": 2,
       "version_minor": 0
      },
      "text/plain": [
       "ViewInteractiveWidget(height=768, layout=Layout(height='auto', width='100%'), width=1024)"
      ]
     },
     "metadata": {},
     "output_type": "display_data"
    }
   ],
   "source": [
    "x, y, z, xy = utility.get_xyz(femoral_vectors)\n",
    "df = pd.DataFrame(data={'x': z, 'y': y, 'z': x}, columns=['x', 'y', 'z'])\n",
    "p = pv.Plotter()\n",
    "p.add_mesh(pv.PolyData(df.to_numpy()))\n",
    "p.add_mesh(pv.PolyData(cwbzl.to_numpy()), color='red')\n",
    "p.add_mesh(pv.PolyData(cwbzr.to_numpy()), color='green')\n",
    "p.show()"
   ]
  },
  {
   "cell_type": "code",
   "execution_count": 9,
   "metadata": {},
   "outputs": [],
   "source": [
    "lower_mesh_left, upper_mesh_left = utility.build_tibial_meshes(cwbzl.to_numpy())\n",
    "lower_mesh_right, upper_mesh_right = utility.build_tibial_meshes(cwbzr.to_numpy())"
   ]
  },
  {
   "cell_type": "code",
   "execution_count": 45,
   "metadata": {},
   "outputs": [
    {
     "data": {
      "application/vnd.jupyter.widget-view+json": {
       "model_id": "79c09cd99af740a38aabe4a587449063",
       "version_major": 2,
       "version_minor": 0
      },
      "text/plain": [
       "ViewInteractiveWidget(height=768, layout=Layout(height='auto', width='100%'), width=1024)"
      ]
     },
     "metadata": {},
     "output_type": "display_data"
    }
   ],
   "source": [
    "p = pv.Plotter()\n",
    "p.add_mesh(lower_mesh_left, color='red')\n",
    "p.add_mesh(upper_mesh_left, color='green')\n",
    "p.add_mesh(lower_mesh_right, color='blue')\n",
    "p.add_mesh(upper_mesh_right, color='purple')\n",
    "p.show()"
   ]
  },
  {
   "cell_type": "code",
   "execution_count": 11,
   "metadata": {},
   "outputs": [],
   "source": [
    "left_landmarks = utility.femoral_landmarks(upper_mesh_left.points)\n",
    "right_landmarks = utility.femoral_landmarks(upper_mesh_right.points)"
   ]
  },
  {
   "cell_type": "code",
   "execution_count": 12,
   "metadata": {},
   "outputs": [],
   "source": [
    "left_left_portion = cwbzl.loc[cwbzl['y'] < left_landmarks[0]]\n",
    "left_middle_portion = cwbzl.loc[cwbzl['y'] >= left_landmarks[0]].loc[cwbzl['y'] < left_landmarks[1]]\n",
    "left_right_portion = cwbzl.loc[cwbzl['y'] >= left_landmarks[1]]"
   ]
  },
  {
   "cell_type": "code",
   "execution_count": 13,
   "metadata": {},
   "outputs": [
    {
     "data": {
      "application/vnd.jupyter.widget-view+json": {
       "model_id": "8b57fc25d0da476fb97ff9a60e4ed6c8",
       "version_major": 2,
       "version_minor": 0
      },
      "text/plain": [
       "ViewInteractiveWidget(height=768, layout=Layout(height='auto', width='100%'), width=1024)"
      ]
     },
     "metadata": {},
     "output_type": "display_data"
    }
   ],
   "source": [
    "p = pv.Plotter()\n",
    "p.add_mesh(pv.PolyData(left_left_portion.to_numpy()), color='blue')\n",
    "p.add_mesh(pv.PolyData(left_middle_portion.to_numpy()), color='red')\n",
    "p.add_mesh(pv.PolyData(left_right_portion.to_numpy()), color='green')\n",
    "p.show()"
   ]
  },
  {
   "cell_type": "code",
   "execution_count": 14,
   "metadata": {},
   "outputs": [],
   "source": [
    "left_right_portion = left_right_portion[['z', 'y', 'x']]\n",
    "left_right_portion.columns = ['x', 'y', 'z']"
   ]
  },
  {
   "cell_type": "code",
   "execution_count": 15,
   "metadata": {},
   "outputs": [],
   "source": [
    "left_portion_lower_mesh, left_portion_upper_mesh = utility.build_tibial_meshes(left_left_portion.to_numpy())\n",
    "middle_portion_lower_mesh, middle_portion_upper_mesh = utility.build_tibial_meshes(left_middle_portion.to_numpy())\n",
    "right_portion_lower_mesh, right_portion_upper_mesh = utility.build_tibial_meshes(left_right_portion.to_numpy())"
   ]
  },
  {
   "cell_type": "code",
   "execution_count": 16,
   "metadata": {},
   "outputs": [
    {
     "data": {
      "application/vnd.jupyter.widget-view+json": {
       "model_id": "f07342bc44a54ff59901ad64431d9d26",
       "version_major": 2,
       "version_minor": 0
      },
      "text/plain": [
       "ViewInteractiveWidget(height=768, layout=Layout(height='auto', width='100%'), width=1024)"
      ]
     },
     "metadata": {},
     "output_type": "display_data"
    }
   ],
   "source": [
    "p = pv.Plotter()\n",
    "p.add_mesh(left_portion_lower_mesh, color='blue')\n",
    "p.add_mesh(middle_portion_lower_mesh, color='red')\n",
    "p.add_mesh(right_portion_lower_mesh, color='green')\n",
    "p.show()"
   ]
  },
  {
   "cell_type": "code",
   "execution_count": 17,
   "metadata": {},
   "outputs": [
    {
     "name": "stderr",
     "output_type": "stream",
     "text": [
      "100%|███████████████████████████████████| 5016/5016 [00:00<00:00, 344162.09it/s]\n"
     ]
    }
   ],
   "source": [
    "dd = defaultdict(list)\n",
    "for vector in tqdm(cwbzl.to_numpy()[:,:3]):\n",
    "    label = utility.classify_femoral_point(vector[:2], left_landmarks, True)\n",
    "    dd[label].append(vector)"
   ]
  },
  {
   "cell_type": "code",
   "execution_count": 18,
   "metadata": {},
   "outputs": [
    {
     "data": {
      "text/plain": [
       "dict_keys(['ecLF', 'ccLF', 'icLF'])"
      ]
     },
     "execution_count": 18,
     "metadata": {},
     "output_type": "execute_result"
    }
   ],
   "source": [
    "dd.keys()"
   ]
  },
  {
   "cell_type": "code",
   "execution_count": 19,
   "metadata": {},
   "outputs": [
    {
     "data": {
      "application/vnd.jupyter.widget-view+json": {
       "model_id": "85aa678345d84154a69e57a1cada9472",
       "version_major": 2,
       "version_minor": 0
      },
      "text/plain": [
       "ViewInteractiveWidget(height=768, layout=Layout(height='auto', width='100%'), width=1024)"
      ]
     },
     "metadata": {},
     "output_type": "display_data"
    }
   ],
   "source": [
    "p = pv.Plotter()\n",
    "p.add_mesh(pv.PolyData(dd['ecLF']), color='red')\n",
    "p.add_mesh(pv.PolyData(dd['icLF']), color='yellow')\n",
    "p.add_mesh(pv.PolyData(dd['ccLF']), color='green')\n",
    "p.show_grid()\n",
    "p.add_legend([['external', 'red'], ['central', 'green'], ['internal (left)', 'yellow'], ['internal (right)', 'pink']])\n",
    "p.add_title('Subregions of the femoral cartilage')\n",
    "p.show()\n",
    "# p.render()\n",
    "# p.save_graphic('femoral_subregions.svg')"
   ]
  },
  {
   "cell_type": "code",
   "execution_count": 20,
   "metadata": {},
   "outputs": [
    {
     "name": "stderr",
     "output_type": "stream",
     "text": [
      "100%|███████████████████████████████████| 5815/5815 [00:00<00:00, 403485.27it/s]\n"
     ]
    }
   ],
   "source": [
    "dd = defaultdict(list)\n",
    "for vector in tqdm(cwbzr.to_numpy()[:,:3]):\n",
    "    label = utility.classify_femoral_point(vector[:2], right_landmarks, False)\n",
    "    dd[label].append(vector)"
   ]
  },
  {
   "cell_type": "code",
   "execution_count": 21,
   "metadata": {},
   "outputs": [
    {
     "data": {
      "text/plain": [
       "dict_keys(['icMF', 'ccMF', 'ecMF'])"
      ]
     },
     "execution_count": 21,
     "metadata": {},
     "output_type": "execute_result"
    }
   ],
   "source": [
    "dd.keys()"
   ]
  },
  {
   "cell_type": "code",
   "execution_count": 22,
   "metadata": {},
   "outputs": [
    {
     "data": {
      "application/vnd.jupyter.widget-view+json": {
       "model_id": "2a98d05762a84f359e2ee75a4425c8a3",
       "version_major": 2,
       "version_minor": 0
      },
      "text/plain": [
       "ViewInteractiveWidget(height=768, layout=Layout(height='auto', width='100%'), width=1024)"
      ]
     },
     "metadata": {},
     "output_type": "display_data"
    }
   ],
   "source": [
    "p = pv.Plotter()\n",
    "p.add_mesh(pv.PolyData(dd['icMF']), color='pink')\n",
    "p.add_mesh(pv.PolyData(dd['ecMF']), color='red')\n",
    "p.add_mesh(pv.PolyData(dd['ccMF']), color='green')\n",
    "p.show_grid()\n",
    "p.add_legend([['external', 'red'], ['central', 'green'], ['internal (left)', 'yellow'], ['internal (right)', 'pink']])\n",
    "p.add_title('Subregions of the femoral cartilage')\n",
    "p.show()\n",
    "# p.render()\n",
    "# p.save_graphic('femoral_subregions.svg')"
   ]
  },
  {
   "cell_type": "code",
   "execution_count": 23,
   "metadata": {},
   "outputs": [],
   "source": [
    "left_thickness = dict()\n",
    "left_thickness['ecLF'] = np.zeros(lower_mesh_left.n_points)\n",
    "left_thickness['ccLF'] = np.zeros(lower_mesh_left.n_points)\n",
    "left_thickness['icLF'] = np.zeros(lower_mesh_left.n_points)\n",
    "\n",
    "right_thickness = dict()\n",
    "right_thickness['icMF'] = np.zeros(lower_mesh_right.n_points)\n",
    "right_thickness['ccMF'] = np.zeros(lower_mesh_right.n_points)\n",
    "right_thickness['ecMF'] = np.zeros(lower_mesh_right.n_points)\n",
    "\n",
    "left_normals = lower_mesh_left.compute_normals(cell_normals=False)\n",
    "right_normals = lower_mesh_right.compute_normals(cell_normals=False)\n",
    "\n",
    "_, left_thickness = utility.calculate_femoral_thickness(left_normals, lower_mesh_left, upper_mesh_left, sitk_image, left_landmarks, left_thickness, True)\n",
    "_, right_thickness = utility.calculate_femoral_thickness(right_normals, lower_mesh_right, upper_mesh_right, sitk_image, right_landmarks, right_thickness, False)"
   ]
  },
  {
   "cell_type": "code",
   "execution_count": 24,
   "metadata": {},
   "outputs": [],
   "source": [
    "femoral_thickness = dict()\n",
    "femoral_thickness.update(left_thickness)\n",
    "femoral_thickness.update(right_thickness)"
   ]
  },
  {
   "cell_type": "code",
   "execution_count": 25,
   "metadata": {},
   "outputs": [
    {
     "data": {
      "text/plain": [
       "{'ecLF': array([ 0.        ,  0.        ,  0.        ,  0.        ,  0.        ,\n",
       "         0.        ,  0.        ,  0.        ,  0.        ,  0.        ,\n",
       "         0.        ,  0.        ,  0.        ,  0.        ,  0.        ,\n",
       "         0.        ,  0.        ,  0.        ,  0.        ,  0.        ,\n",
       "         0.        ,  0.        ,  0.        ,  0.        ,  0.        ,\n",
       "         0.        ,  0.        ,  0.        ,  0.        ,  0.        ,\n",
       "         0.        ,  0.        ,  0.        ,  0.        ,  0.        ,\n",
       "         0.        ,  0.        ,  0.        ,  0.        ,  0.        ,\n",
       "         0.        ,  0.        ,  0.        ,  0.        ,  0.        ,\n",
       "         0.        ,  0.        ,  0.        ,  0.        ,  0.        ,\n",
       "         0.        ,  0.        ,  0.        ,  0.        ,  0.        ,\n",
       "         0.        ,  0.        ,  0.        ,  0.        ,  0.        ,\n",
       "         0.        ,  0.        ,  0.        ,  0.        ,  0.        ,\n",
       "         0.        ,  0.        ,  0.        ,  0.        ,  0.        ,\n",
       "         0.        ,  0.        ,  0.        ,  0.        ,  0.        ,\n",
       "         0.        ,  0.        ,  0.        ,  0.        ,  0.        ,\n",
       "         0.        ,  0.        ,  0.        ,  0.        ,  0.        ,\n",
       "         0.        ,  0.        ,  0.        ,  0.        ,  0.        ,\n",
       "         0.        ,  0.        ,  0.        ,  0.        ,  0.        ,\n",
       "         0.        ,  0.        ,  0.        ,  0.        ,  0.        ,\n",
       "         0.        ,  0.        ,  0.        ,  0.        ,  0.        ,\n",
       "         0.        ,  0.        ,  0.        ,  0.        ,  0.        ,\n",
       "         0.        ,  0.        ,  0.        ,  0.        ,  0.        ,\n",
       "         0.        ,  0.        ,  0.        ,  0.        ,  0.        ,\n",
       "         0.        ,  0.        ,  0.        ,  0.        ,  0.        ,\n",
       "         0.        ,  0.        ,  0.        ,  0.        ,  0.        ,\n",
       "         0.        ,  0.        ,  2.61915269,  0.        ,  0.        ,\n",
       "         0.        ,  0.        ,  0.        ,  0.        ,  0.        ,\n",
       "         0.        ,  0.        ,  0.        ,  0.        ,  0.        ,\n",
       "         0.        ,  0.        ,  0.        ,  2.443634  ,  2.29774805,\n",
       "         1.78070823,  0.        ,  0.        ,  0.        ,  0.        ,\n",
       "         0.        ,  0.        ,  0.        ,  0.        ,  0.        ,\n",
       "         0.        ,  0.        ,  0.        ,  0.        ,  0.        ,\n",
       "         0.        ,  2.30221358,  2.02650121,  2.0586596 ,  2.14670118,\n",
       "         1.73299911,  0.        ,  0.        ,  0.        ,  0.        ,\n",
       "         0.        ,  0.        ,  0.        ,  0.        ,  0.        ,\n",
       "         0.        ,  0.        ,  0.        ,  0.        ,  0.        ,\n",
       "         0.        , 25.39986936,  0.        ,  2.01028543,  1.77212358,\n",
       "         1.84350137,  1.9937401 ,  1.90250907,  1.74174391,  1.90210743,\n",
       "         1.62356406,  1.52217741,  1.60852012,  0.        ,  0.        ,\n",
       "         0.        ,  2.40536613,  2.88291871,  0.        ,  0.        ,\n",
       "         0.        ,  0.        ,  0.        ,  0.        ,  0.        ,\n",
       "         0.        ,  0.        ,  0.        ,  0.        ,  0.        ,\n",
       "         0.        ,  0.        ,  0.        ,  0.        ,  0.        ,\n",
       "         0.        , 25.39987096,  0.        ,  2.84222696,  1.68974533,\n",
       "         1.56854525,  1.58206161,  1.62119456,  1.64170346,  1.33468771,\n",
       "         1.24766438,  1.65936598,  1.67959461,  1.98053892,  2.2230656 ,\n",
       "         2.37685298,  2.54689321,  2.66145189,  0.        ,  0.        ,\n",
       "         0.        ,  0.        ,  0.        ,  0.        ,  0.        ,\n",
       "         0.        ,  0.        ,  0.        ,  0.        ,  0.        ,\n",
       "         0.        ,  0.        ,  0.        ,  0.        ,  0.        ,\n",
       "        25.39987096,  0.        ,  0.        ,  2.01518572,  2.2516355 ,\n",
       "         2.08486393,  1.70132165,  1.46056943,  0.93130375,  1.41212612,\n",
       "         1.61505381,  1.84594098,  2.12459038,  2.28105703,  2.4715059 ,\n",
       "         2.60906723,  2.73642011,  0.        ,  0.        ,  0.        ,\n",
       "         0.        ,  0.        ,  0.        ,  0.        ,  0.        ,\n",
       "         0.        ,  0.        ,  0.        ,  0.        ,  0.        ,\n",
       "         0.        ,  0.        ,  0.        , 23.10535337, 11.199968  ,\n",
       "        12.599964  , 13.99996   ,  0.        ,  0.        ,  2.21659465,\n",
       "         1.88344981,  1.42413479,  2.05149067,  2.03418804,  2.04550861,\n",
       "         2.20720256,  2.32886257,  2.32760253,  2.46448115,  2.57900907,\n",
       "         0.        ,  0.        ,  0.        ,  0.        ,  0.        ,\n",
       "         0.        ,  0.        ,  0.        ,  0.        ,  0.        ,\n",
       "         0.        ,  0.        ,  0.        ,  0.        ,  0.        ,\n",
       "         0.        ,  6.99998   ,  9.099974  ,  9.799972  , 11.899966  ,\n",
       "        13.99996   ,  0.        ,  0.        ,  1.77003644,  0.        ,\n",
       "         0.        ,  0.        ,  2.11767098,  2.10211738,  2.11489271,\n",
       "         2.11035359,  2.11400835,  0.        ,  0.        ,  0.        ,\n",
       "         0.        ,  0.        ,  0.        ,  0.        ,  0.        ,\n",
       "         0.        ,  0.        ,  0.        ,  0.        ,  0.        ,\n",
       "         0.        ,  5.599984  ,  7.699978  ,  9.099974  , 10.49997   ,\n",
       "        12.599964  , 12.599964  ,  0.        ,  0.        ,  0.        ,\n",
       "         0.        ,  0.        ,  0.        ,  0.        ,  0.        ,\n",
       "         0.        ,  0.        ,  0.        ,  0.        ,  0.        ,\n",
       "         0.        ,  0.        ,  0.        ,  0.        ,  0.        ,\n",
       "         0.        ,  0.        ,  0.        ,  0.        ,  0.        ,\n",
       "         8.399976  ,  9.799972  , 11.199968  ,  9.799972  ,  9.099974  ,\n",
       "         9.799972  , 10.49997   , 11.199968  , 11.899966  , 12.599964  ,\n",
       "        13.299962  , 13.99996   ,  0.        ,  0.        ,  0.        ,\n",
       "         0.        ,  0.        ,  0.        ,  0.        ,  0.        ,\n",
       "         0.        ,  0.        ,  0.        ,  5.599984  ,  6.299982  ,\n",
       "         6.299982  ,  5.599984  ,  6.649981  ,  7.699978  ,  7.699978  ,\n",
       "         8.399976  ,  9.099974  ,  9.799972  ,  9.799972  ,  0.        ,\n",
       "         0.        ,  0.        ,  0.        ,  0.        ,  0.        ,\n",
       "         0.        ,  0.        ,  0.        ]),\n",
       " 'ccLF': array([ 0.        ,  0.        ,  0.        ,  0.        ,  0.        ,\n",
       "         0.        ,  0.        ,  0.        ,  0.        ,  0.        ,\n",
       "         0.        ,  0.        ,  0.        ,  0.        ,  0.        ,\n",
       "         0.        ,  0.        ,  0.        ,  0.        ,  0.        ,\n",
       "         0.        ,  0.        ,  0.        ,  0.        ,  0.        ,\n",
       "         0.        ,  0.        ,  0.        ,  0.        ,  0.        ,\n",
       "         0.        ,  0.        ,  0.        ,  1.76385781,  0.        ,\n",
       "         0.        ,  0.        ,  0.        ,  0.        ,  0.        ,\n",
       "         0.        ,  0.        ,  0.        ,  0.        ,  1.90496318,\n",
       "         0.        ,  0.        ,  0.        ,  0.        ,  0.        ,\n",
       "         0.        ,  0.        ,  0.        ,  0.        ,  0.        ,\n",
       "         0.        ,  0.        ,  2.34647335,  0.        ,  0.        ,\n",
       "         0.        ,  0.        ,  0.        ,  0.        ,  0.        ,\n",
       "         0.        ,  0.        ,  0.        ,  2.6417142 ,  2.40961485,\n",
       "         0.        ,  0.        ,  0.        ,  0.        ,  0.        ,\n",
       "         0.        ,  0.        ,  0.        ,  0.        ,  0.        ,\n",
       "         0.        ,  2.77726621,  2.34088242,  0.        ,  0.        ,\n",
       "         0.        ,  0.        ,  0.        ,  0.        ,  0.        ,\n",
       "         0.        ,  0.        ,  2.91437785,  2.74609921,  2.4949523 ,\n",
       "         0.        ,  0.        ,  0.        ,  0.        ,  0.        ,\n",
       "         0.        ,  0.        ,  0.        ,  0.        ,  2.61915269,\n",
       "         3.07205833,  2.79953364,  2.66851648,  0.        ,  0.        ,\n",
       "         0.        ,  0.        ,  0.        ,  0.        ,  0.        ,\n",
       "         0.        ,  0.        ,  0.        ,  0.        ,  3.21441641,\n",
       "         2.99331807,  2.83484551,  2.67448843,  0.        ,  0.        ,\n",
       "         0.        ,  0.        ,  0.        ,  0.        ,  0.        ,\n",
       "         0.        ,  0.        ,  0.        ,  0.        ,  3.23587027,\n",
       "         3.09536253,  3.00198048,  2.85253978,  2.58738706,  0.        ,\n",
       "         0.        ,  0.        ,  0.        ,  0.        ,  0.        ,\n",
       "         0.        ,  0.        ,  0.        ,  0.        ,  0.        ,\n",
       "         0.        ,  1.42958214,  3.31213595,  3.21725378,  2.99903022,\n",
       "         2.76560086,  2.73450644,  2.59974143,  0.        ,  0.        ,\n",
       "         0.        ,  0.        ,  0.        ,  0.        ,  0.        ,\n",
       "         0.        ,  0.        ,  0.        ,  0.        ,  0.        ,\n",
       "         0.        ,  0.        ,  0.        ,  1.54747933,  3.18012098,\n",
       "         3.31724834,  2.97543055,  2.77111284,  2.74644521,  2.6769776 ,\n",
       "         2.48550576,  0.        ,  0.        ,  0.        ,  0.        ,\n",
       "         0.        ,  0.        ,  0.        ,  0.        ,  0.        ,\n",
       "         0.        ,  0.        ,  0.        ,  0.        ,  0.        ,\n",
       "         0.        ,  0.        ,  0.        ,  0.        ,  0.        ,\n",
       "         0.        ,  0.        ,  0.        ,  1.99650574,  1.81363902,\n",
       "         3.14844663,  3.2873737 ,  3.53851463,  3.28672601,  3.36357304,\n",
       "         3.2479691 ,  2.91120968,  2.57405661,  2.65222671,  2.49233169,\n",
       "         2.49456669,  0.        ,  0.        ,  0.        ,  0.        ,\n",
       "         0.        ,  0.        ,  0.        ,  0.        ,  0.        ,\n",
       "         0.        ,  0.        ,  0.        ,  0.        ,  0.        ,\n",
       "         0.        ,  0.        ,  0.        ,  0.        ,  0.        ,\n",
       "         0.        ,  0.        ,  0.        ,  2.88913112,  3.04640639,\n",
       "         3.26813383,  3.59041467,  3.47288241,  3.34182896,  3.20985018,\n",
       "         3.08646943,  2.88026467,  2.56073698,  2.549027  ,  2.5665993 ,\n",
       "         3.90463444,  0.        ,  0.        ,  0.        ,  0.        ,\n",
       "         0.        ,  0.        ,  0.        ,  0.        ,  0.        ,\n",
       "         0.        ,  0.        ,  0.        ,  0.        ,  0.        ,\n",
       "         0.        ,  0.        ,  0.        ,  0.        ,  0.        ,\n",
       "         0.        ,  0.        ,  2.87085614,  2.84386701,  3.03221169,\n",
       "         3.10650675,  3.13218268,  3.12708548,  3.11350087,  2.88809083,\n",
       "         2.727501  ,  2.51336683,  0.        ,  4.94390951, 13.299962  ,\n",
       "         0.        ,  0.        ,  0.        ,  0.        ,  0.        ,\n",
       "         0.        ,  0.        ,  0.        ,  0.        ,  0.        ,\n",
       "         0.        ,  0.        ,  0.        ,  0.        ,  0.        ,\n",
       "         0.        ,  0.        ,  0.        ,  0.        ,  0.        ,\n",
       "         2.60833937,  2.72413424,  2.71246415,  2.83933224,  2.89704355,\n",
       "         2.91824812,  2.84036145,  2.63990557,  4.89800302,  5.74581537,\n",
       "         5.22174247, 13.299962  , 11.199968  ,  0.        ,  0.        ,\n",
       "         0.        ,  0.        ,  0.        ,  0.        ,  0.        ,\n",
       "         0.        ,  0.        ,  0.        ,  0.        ,  0.        ,\n",
       "         0.        ,  0.        ,  0.        ,  0.        ,  0.        ,\n",
       "         0.        ,  0.        ,  2.11964434,  2.11843301,  2.1289998 ,\n",
       "         2.12479839,  2.15102794,  5.00929244,  5.07349568, 18.899946  ,\n",
       "        18.199948  , 16.799952  , 13.99996   , 11.199968  ,  7.699978  ,\n",
       "         0.        ,  0.        ,  0.        ,  0.        ,  0.        ,\n",
       "         0.        ,  0.        ,  0.        ,  0.        ,  0.        ,\n",
       "         0.        ,  0.        ,  0.        ,  0.        ,  0.        ,\n",
       "         0.        ,  0.        ,  0.        ,  0.        ,  0.        ,\n",
       "        19.599944  , 18.899946  , 18.199948  , 16.799952  , 15.399956  ,\n",
       "        13.299962  , 10.49997   ,  6.299982  ,  2.799992  ,  0.        ,\n",
       "         0.        ,  0.        ,  0.        ,  0.        ,  0.        ,\n",
       "         0.        ,  0.        ,  0.        ,  0.        ,  0.        ,\n",
       "         0.        ,  0.        , 14.699958  , 15.399956  , 16.099954  ,\n",
       "        17.49995   , 17.49995   , 16.099954  , 14.699958  , 13.299962  ,\n",
       "        11.199968  ,  9.099974  ,  4.899986  ,  0.        ,  0.        ,\n",
       "         0.        ,  0.        ,  0.        ,  0.        ,  0.        ,\n",
       "         0.        ,  0.        ,  0.        ,  0.        , 10.49997   ,\n",
       "        10.49997   , 10.49997   , 10.49997   , 11.199968  , 10.49997   ,\n",
       "         9.799972  ,  8.399976  ,  4.199988  ]),\n",
       " 'icLF': array([ 0.69810431,  1.67192915,  0.        ,  2.96984   ,  0.        ,\n",
       "         0.42702679,  0.25941885,  1.54775596,  2.29431272,  2.799992  ,\n",
       "         0.95806134,  0.69171619,  0.39370839,  1.74122304,  1.67179884,\n",
       "         2.72447201,  2.799992  ,  1.47565649,  0.73698109,  0.45742721,\n",
       "         1.90144865,  2.56077489,  3.49999   ,  2.099994  ,  1.49730929,\n",
       "         1.01480612,  0.62708851,  0.67688316,  1.73025334,  1.90839613,\n",
       "         2.80426631,  3.49999   ,  1.399996  ,  0.        ,  1.61578822,\n",
       "         1.3288471 ,  1.06978254,  0.76766212,  2.06564711,  2.13015849,\n",
       "         2.59608902,  4.199988  ,  2.799992  ,  0.699998  ,  0.        ,\n",
       "         1.87060231,  1.64851283,  1.25666981,  1.25464147,  2.05482723,\n",
       "         2.12582769,  2.12553167,  3.37325919,  4.199988  ,  2.099994  ,\n",
       "         0.        ,  0.        ,  0.        ,  2.05799418,  1.6017279 ,\n",
       "         1.62369404,  2.08201927,  2.11750304,  2.25225985,  2.06482949,\n",
       "         3.152347  ,  3.49999   ,  1.399996  ,  0.        ,  0.        ,\n",
       "         1.98974947,  1.88081056,  2.11271699,  2.11613054,  2.14001604,\n",
       "         2.19257138,  3.03177612,  4.899986  ,  2.799992  ,  0.        ,\n",
       "         0.        ,  0.        ,  0.        ,  2.13203175,  1.90935286,\n",
       "         1.90421901,  2.14448821,  2.14091267,  2.92652584,  6.299982  ,\n",
       "         3.49999   ,  0.699998  ,  0.        ,  0.        ,  0.        ,\n",
       "         2.21735985,  2.18022707,  1.9862087 ,  2.04816666,  2.00760365,\n",
       "         3.16078283,  4.899986  ,  2.099994  ,  0.        ,  0.        ,\n",
       "         0.        ,  0.        ,  0.        ,  2.3329399 ,  2.19884636,\n",
       "         2.13314645,  2.13383521,  2.95603238,  6.299982  ,  3.49999   ,\n",
       "         0.699998  ,  0.        ,  0.        ,  0.        ,  0.        ,\n",
       "         0.        ,  0.        ,  0.        ,  2.33493881,  2.28636149,\n",
       "         2.13245655,  3.23561656,  7.699978  ,  5.599984  ,  2.099994  ,\n",
       "         0.        ,  0.        ,  0.        ,  0.        ,  0.        ,\n",
       "         0.        ,  0.        ,  0.        ,  0.        ,  2.33638798,\n",
       "         2.29822729,  2.31012995,  4.27293478,  6.99998   ,  3.49999   ,\n",
       "         0.        ,  0.        ,  0.        ,  0.        ,  0.        ,\n",
       "         0.        ,  0.        ,  0.        ,  0.        ,  0.        ,\n",
       "         0.        ,  0.        ,  0.        ,  2.37209266,  2.25165808,\n",
       "         4.62566957,  8.399976  ,  4.899986  ,  1.399996  ,  0.        ,\n",
       "         0.        ,  0.        ,  0.        ,  0.        ,  0.        ,\n",
       "         0.        ,  0.        ,  0.        ,  0.        ,  0.        ,\n",
       "         0.        ,  0.        ,  0.        ,  0.        ,  0.        ,\n",
       "         0.        ,  2.41905369,  3.17862927, 11.199968  ,  6.99998   ,\n",
       "         2.799992  ,  0.        ,  0.        ,  0.        ,  0.        ,\n",
       "         0.        ,  0.        ,  0.        ,  0.        ,  0.        ,\n",
       "         0.        ,  0.        ,  0.        ,  0.        ,  0.        ,\n",
       "         0.        ,  0.        ,  0.        ,  0.        ,  0.        ,\n",
       "         0.        ,  0.        ,  0.        ,  0.        ,  0.        ,\n",
       "         0.        ,  0.        ,  0.        ,  0.        ,  0.        ,\n",
       "         0.        ,  3.70582553, 12.599964  ,  9.099974  ,  4.899986  ,\n",
       "         0.        ,  0.        ,  0.        ,  0.        ,  0.        ,\n",
       "         0.        ,  0.        ,  0.        ,  0.        ,  0.        ,\n",
       "         0.        ,  0.        ,  0.        ,  0.        ,  0.        ,\n",
       "         0.        ,  0.        ,  0.        ,  0.        ,  0.        ,\n",
       "         0.        ,  0.        ,  0.        ,  0.        ,  0.        ,\n",
       "         0.        ,  0.        ,  0.        ,  0.        ,  0.        ,\n",
       "         0.        , 13.299962  , 10.49997   ,  6.299982  ,  2.099994  ,\n",
       "         0.        ,  0.        ,  0.        ,  0.        ,  0.        ,\n",
       "         0.        ,  0.        ,  0.        ,  0.        ,  0.        ,\n",
       "         0.        ,  0.        ,  0.        ,  0.        ,  0.        ,\n",
       "         0.        ,  0.        ,  0.        ,  0.        ,  0.        ,\n",
       "         0.        ,  0.        ,  0.        ,  0.        ,  0.        ,\n",
       "         0.        ,  0.        ,  0.        ,  0.        ,  0.        ,\n",
       "        11.199968  ,  6.99998   ,  3.49999   ,  0.        ,  0.        ,\n",
       "         0.        ,  0.        ,  0.        ,  0.        ,  0.        ,\n",
       "         0.        ,  0.        ,  0.        ,  0.        ,  0.        ,\n",
       "         0.        ,  0.        ,  0.        ,  0.        ,  0.        ,\n",
       "         0.        ,  0.        ,  0.        ,  0.        ,  0.        ,\n",
       "         0.        ,  0.        ,  0.        ,  0.        ,  0.        ,\n",
       "         0.        ,  0.        ,  0.        ,  7.699978  ,  4.199988  ,\n",
       "         0.        ,  0.        ,  0.        ,  0.        ,  0.        ,\n",
       "         0.        ,  0.        ,  0.        ,  0.        ,  0.        ,\n",
       "         0.        ,  0.        ,  0.        ,  0.        ,  0.        ,\n",
       "         0.        ,  0.        ,  0.        ,  0.        ,  0.        ,\n",
       "         0.        ,  0.        ,  0.        ,  0.        ,  0.        ,\n",
       "         0.        ,  0.        ,  0.        ,  0.        ,  0.        ,\n",
       "         3.49999   ,  0.        ,  0.        ,  0.        ,  0.        ,\n",
       "         0.        ,  0.        ,  0.        ,  0.        ,  0.        ,\n",
       "         0.        ,  0.        ,  0.        ,  0.        ,  0.        ,\n",
       "         0.        ,  0.        ,  0.        ,  0.        ,  0.        ,\n",
       "         0.        ,  0.        ,  0.        ,  0.        ,  0.        ,\n",
       "         0.        ,  0.        ,  0.        ,  0.        ,  0.        ,\n",
       "         0.        ,  0.        ,  0.        ,  0.        ,  0.        ,\n",
       "         0.        ,  0.        ,  0.        ,  0.        ,  0.        ,\n",
       "         0.        ,  0.        ,  0.        ,  0.        ,  0.        ,\n",
       "         0.        ,  0.        ,  0.        ,  0.        ,  0.        ,\n",
       "         0.        ,  0.        ,  0.        ,  0.        ,  0.        ,\n",
       "         0.        ,  0.        ,  0.        ,  0.        ,  0.        ,\n",
       "         0.        ,  0.        ,  0.        ,  0.        ,  0.        ,\n",
       "         0.        ,  0.        ,  0.        ,  0.        ,  0.        ,\n",
       "         0.        ,  0.        ,  0.        ]),\n",
       " 'icMF': array([ 0.        ,  0.        ,  0.        ,  2.43473322,  2.72857362,\n",
       "         2.80890019,  0.        , 13.99996   ,  0.        ,  0.        ,\n",
       "         2.72175526,  2.59370663,  2.70166016,  2.81026162,  0.        ,\n",
       "        11.199968  , 15.399956  ,  0.        ,  2.51268627,  2.71663724,\n",
       "         2.70092743,  2.88501523,  2.92288563,  0.        ,  9.099974  ,\n",
       "        13.299962  ,  5.83561082,  0.        ,  2.67430268,  2.5787253 ,\n",
       "         2.67362766,  2.89485335,  1.73690666,  0.        ,  4.899986  ,\n",
       "        10.49997   , 13.99996   ,  5.57466005,  2.59801693,  2.75010514,\n",
       "         2.58063346,  2.68190753,  2.89732919,  2.11820559,  0.        ,\n",
       "         2.099994  ,  6.299982  , 11.199968  , 15.399956  ,  3.60558001,\n",
       "         2.70034527,  2.67047944,  2.58043518,  2.76652669,  3.03322422,\n",
       "         2.87803486,  0.        ,  0.        ,  2.799992  ,  7.699978  ,\n",
       "        11.899966  , 16.099954  ,  4.13864058,  2.60037839,  2.59709334,\n",
       "         2.58198976,  2.77648573,  3.04309475,  0.        ,  0.        ,\n",
       "         0.        ,  0.        ,  4.199988  ,  8.399976  , 12.599964  ,\n",
       "         5.79949793,  2.63037295,  2.64407055,  2.4901217 ,  2.58538597,\n",
       "         2.79075718,  0.        ,  0.        ,  0.        ,  0.        ,\n",
       "         0.        ,  1.399996  ,  4.899986  ,  9.099974  , 13.299962  ,\n",
       "         4.47947541,  0.        ,  2.64225523,  2.49195469,  2.61078668,\n",
       "         0.        ,  0.        ,  0.        ,  0.        ,  0.        ,\n",
       "         0.        ,  0.        ,  2.099994  ,  6.299982  ,  9.799972  ,\n",
       "        13.99996   ,  4.20519951,  2.53606405,  2.54500373,  2.5514218 ,\n",
       "         0.        ,  0.        ,  0.        ,  0.        ,  0.        ,\n",
       "         0.        ,  0.        ,  0.        ,  0.        ,  0.        ,\n",
       "         2.099994  ,  6.99998   , 10.49997   , 14.699958  ,  3.88703099,\n",
       "         2.50711119,  2.56995696,  0.        ,  0.        ,  0.        ,\n",
       "         0.        ,  0.        ,  0.        ,  0.        ,  0.        ,\n",
       "         0.        ,  0.        ,  0.        ,  0.        ,  0.        ,\n",
       "         0.        ,  2.799992  ,  7.699978  , 11.199968  , 13.99996   ,\n",
       "         3.74501558,  2.49896467,  0.        ,  0.        ,  0.        ,\n",
       "         0.        ,  0.        ,  0.        ,  0.        ,  0.        ,\n",
       "         0.        ,  0.        ,  0.        ,  0.        ,  0.        ,\n",
       "         0.        ,  0.        ,  0.        ,  0.        ,  0.        ,\n",
       "         0.        ,  3.49999   ,  7.699978  , 11.199968  , 13.99996   ,\n",
       "         3.74501558,  0.        ,  0.        ,  0.        ,  0.        ,\n",
       "         0.        ,  0.        ,  0.        ,  0.        ,  0.        ,\n",
       "         0.        ,  0.        ,  0.        ,  0.        ,  0.        ,\n",
       "         0.        ,  0.        ,  0.        ,  0.        ,  0.        ,\n",
       "         0.        ,  0.        ,  0.        ,  0.        ,  0.        ,\n",
       "         0.        ,  3.49999   ,  8.399976  , 11.199968  , 13.99996   ,\n",
       "         0.        ,  0.        ,  0.        ,  0.        ,  0.        ,\n",
       "         0.        ,  0.        ,  0.        ,  0.        ,  0.        ,\n",
       "         0.        ,  0.        ,  0.        ,  0.        ,  0.        ,\n",
       "         0.        ,  0.        ,  0.        ,  0.        ,  0.        ,\n",
       "         0.        ,  0.        ,  0.        ,  0.        ,  0.        ,\n",
       "         0.        ,  4.199988  ,  8.399976  , 11.199968  ,  0.        ,\n",
       "         0.        ,  0.        ,  0.        ,  0.        ,  0.        ,\n",
       "         0.        ,  0.        ,  0.        ,  0.        ,  0.        ,\n",
       "         0.        ,  0.        ,  0.        ,  0.        ,  0.        ,\n",
       "         0.        ,  0.        ,  0.        ,  0.        ,  0.        ,\n",
       "         0.        ,  0.        ,  0.        ,  0.        ,  0.        ,\n",
       "         4.199988  ,  8.399976  ,  0.        ,  0.        ,  0.        ,\n",
       "         0.        ,  0.        ,  0.        ,  0.        ,  0.        ,\n",
       "         0.        ,  0.        ,  0.        ,  0.        ,  0.        ,\n",
       "         0.        ,  0.        ,  0.        ,  0.        ,  0.        ,\n",
       "         0.        ,  0.        ,  0.        ,  0.        ,  0.        ,\n",
       "         0.        ,  0.        ,  4.199988  ,  0.        ,  0.        ,\n",
       "         0.        ,  0.        ,  0.        ,  0.        ,  0.        ,\n",
       "         0.        ,  0.        ,  0.        ,  0.        ,  0.        ,\n",
       "         0.        ,  0.        ,  0.        ,  0.        ,  0.        ,\n",
       "         0.        ,  0.        ,  0.        ,  0.        ,  0.        ,\n",
       "         0.        ,  0.        ,  0.        ,  0.        ,  0.        ,\n",
       "         0.        ,  0.        ,  0.        ,  0.        ,  0.        ,\n",
       "         0.        ,  0.        ,  0.        ,  0.        ,  0.        ,\n",
       "         0.        ,  0.        ,  0.        ,  0.        ,  0.        ,\n",
       "         0.        ,  0.        ,  0.        ,  0.        ,  0.        ,\n",
       "         0.        ,  0.        ,  0.        ,  0.        ,  0.        ,\n",
       "         0.        ,  0.        ,  0.        ,  0.        ,  0.        ,\n",
       "         0.        ,  0.        ,  0.        ,  0.        ,  0.        ,\n",
       "         0.        ,  0.        ,  0.        ,  0.        ,  0.        ,\n",
       "         0.        ,  0.        ,  0.        ,  0.        ,  0.        ,\n",
       "         0.        ,  0.        ,  0.        ,  0.        ,  0.        ,\n",
       "         0.        ,  0.        ,  0.        ,  0.        ,  0.        ,\n",
       "         0.        ,  0.        ,  0.        ,  0.        ,  0.        ,\n",
       "         0.        ,  0.        ,  0.        ,  0.        ,  0.        ,\n",
       "         0.        ,  0.        ,  0.        ,  0.        ,  0.        ,\n",
       "         0.        ,  0.        ,  0.        ,  0.        ,  0.        ,\n",
       "         0.        ,  0.        ,  0.        ,  0.        ,  0.        ,\n",
       "         0.        ,  0.        ,  0.        ,  0.        ]),\n",
       " 'ccMF': array([ 0.        ,  0.        ,  0.        ,  0.        ,  0.        ,\n",
       "         0.        ,  0.        ,  0.        ,  0.        ,  0.        ,\n",
       "         0.        ,  0.        ,  0.        ,  0.        ,  0.        ,\n",
       "         0.        ,  0.        ,  0.        ,  0.        ,  0.        ,\n",
       "         0.        ,  0.        ,  0.        ,  0.        ,  0.        ,\n",
       "         0.        ,  0.        ,  0.        ,  0.        ,  0.        ,\n",
       "         0.        ,  0.        ,  0.        ,  0.        ,  0.        ,\n",
       "         0.        ,  0.        ,  0.        ,  0.        ,  0.        ,\n",
       "         0.        ,  0.        ,  0.        ,  0.        ,  0.        ,\n",
       "         0.        ,  0.        ,  0.        ,  0.        ,  0.        ,\n",
       "         0.        ,  0.        ,  0.        ,  0.        ,  0.        ,\n",
       "         0.        ,  0.        ,  0.        ,  0.        ,  0.        ,\n",
       "         0.        ,  0.        ,  0.        ,  0.        ,  0.        ,\n",
       "         0.        ,  0.        ,  0.        ,  0.        ,  0.        ,\n",
       "         0.        ,  0.        ,  0.        ,  0.        ,  0.        ,\n",
       "         0.        ,  0.        ,  0.        ,  0.        ,  0.        ,\n",
       "         0.        ,  2.71888814,  0.        ,  0.        ,  0.        ,\n",
       "         0.        ,  0.        ,  0.        ,  0.        ,  0.        ,\n",
       "         0.        ,  0.        ,  0.        ,  0.        ,  0.        ,\n",
       "         2.72131396,  2.5816442 ,  0.        ,  0.        ,  0.        ,\n",
       "         0.        ,  0.        ,  0.        ,  0.        ,  0.        ,\n",
       "         0.        ,  0.        ,  0.        ,  0.        ,  0.        ,\n",
       "         2.56185075,  2.62642033,  2.81423223,  2.30672929,  0.        ,\n",
       "         0.        ,  0.        ,  0.        ,  0.        ,  0.        ,\n",
       "         0.        ,  0.        ,  0.        ,  0.        ,  0.        ,\n",
       "         0.        ,  0.        ,  2.43979851,  2.56526796,  2.58202661,\n",
       "         2.91069054,  3.2808454 ,  0.        ,  0.        ,  0.        ,\n",
       "         0.        ,  0.        ,  0.        ,  0.        ,  0.        ,\n",
       "         0.        ,  0.        ,  0.        ,  0.        ,  0.        ,\n",
       "         0.        ,  0.        ,  2.53988484,  2.44190058,  2.58316969,\n",
       "         2.84840988,  3.1092965 ,  3.2808454 ,  1.71463792,  0.        ,\n",
       "         0.        ,  0.        ,  0.        ,  0.        ,  0.        ,\n",
       "         0.        ,  0.        ,  0.        ,  0.        ,  0.        ,\n",
       "         0.        ,  0.        ,  0.        ,  0.        ,  0.        ,\n",
       "         0.        ,  2.48212938,  2.62213747,  2.56670784,  2.73559336,\n",
       "         3.05568004,  3.39948444,  3.67461996,  3.9298957 ,  2.02619166,\n",
       "         0.        ,  0.        ,  0.        ,  0.        ,  0.        ,\n",
       "         0.        ,  0.        ,  0.        ,  0.        ,  0.        ,\n",
       "         0.        ,  0.        ,  0.        ,  0.        ,  0.        ,\n",
       "         0.        ,  0.        ,  0.        ,  0.        ,  0.        ,\n",
       "         3.81853094,  2.50144855,  2.62785105,  2.65228844,  2.97225233,\n",
       "         3.27634767,  3.62110556,  4.0964259 ,  4.3337154 ,  4.23048613,\n",
       "         3.84730892,  3.86769142,  0.        ,  0.        ,  0.        ,\n",
       "         0.        ,  0.        ,  0.        ,  0.        ,  0.        ,\n",
       "         0.        ,  0.        ,  0.        ,  0.        ,  0.        ,\n",
       "         0.        ,  0.        ,  0.        ,  0.        , 13.99996   ,\n",
       "         5.11439456,  2.5953824 ,  2.64499136,  2.85972059,  3.17784845,\n",
       "         3.45295047,  3.86718173,  4.22960199,  4.19472858,  4.06845495,\n",
       "         4.07576431,  0.        ,  0.        ,  0.        ,  0.        ,\n",
       "         0.        ,  0.        ,  0.        ,  0.        ,  0.        ,\n",
       "         0.        ,  0.        ,  0.        ,  0.        ,  0.        ,\n",
       "         0.        ,  0.        , 11.199968  , 13.99996   ,  5.66593275,\n",
       "         4.42719869,  2.77963781,  3.02325249,  3.40459281,  3.74804311,\n",
       "         3.88059419,  4.03758586,  4.0863809 ,  3.98179542,  0.        ,\n",
       "         0.        ,  0.        ,  0.        ,  0.        ,  0.        ,\n",
       "         0.        ,  0.        ,  0.        ,  0.        ,  0.        ,\n",
       "         0.        ,  0.        ,  0.        ,  8.399976  , 11.899966  ,\n",
       "        14.699958  , 17.49995   ,  5.85620837,  2.93793009,  3.29808355,\n",
       "         3.56183893,  3.72741208,  3.88141969,  3.85401392,  3.87331657,\n",
       "         0.        ,  0.        ,  0.        ,  0.        ,  0.        ,\n",
       "         0.        ,  0.        ,  0.        ,  0.        ,  0.        ,\n",
       "         0.        ,  0.        ,  3.49999   ,  7.699978  , 11.899966  ,\n",
       "        14.699958  , 17.49995   ,  6.22166038,  6.70804306,  7.41526298,\n",
       "         0.        ,  6.77702642,  6.77702642,  0.        ,  0.        ,\n",
       "         0.        ,  0.        ,  0.        ,  0.        ,  0.        ,\n",
       "         0.        ,  0.        ,  0.        ,  0.        ,  2.799992  ,\n",
       "         7.699978  , 11.899966  , 14.699958  , 17.49995   , 18.199948  ,\n",
       "        18.899946  , 18.899946  , 18.899946  , 18.899946  , 18.899946  ,\n",
       "         0.        ,  0.        ,  0.        ,  0.        ,  0.        ,\n",
       "         0.        ,  0.        ,  0.        ,  0.        ,  0.        ,\n",
       "         6.99998   , 11.199968  , 13.99996   , 16.099954  , 17.49995   ,\n",
       "        17.49995   , 18.199948  , 18.199948  , 18.199948  ,  0.        ,\n",
       "         0.        ,  0.        ,  0.        ,  0.        ,  0.        ,\n",
       "         0.        ,  4.899986  , 10.49997   , 12.599964  , 14.699958  ,\n",
       "        14.699958  , 15.399956  , 15.399956  , 15.399956  ,  0.        ,\n",
       "         0.        ,  0.        ,  0.        ,  0.        ,  0.        ,\n",
       "         6.99998   , 11.199968  , 12.599964  , 12.599964  , 12.599964  ,\n",
       "        11.899966  ,  0.        ,  0.        ,  0.        ,  5.599984  ,\n",
       "         7.699978  ,  7.699978  ,  6.299982  ,  0.        ]),\n",
       " 'ecMF': array([ 0.        ,  0.        ,  0.        ,  0.        ,  0.        ,\n",
       "         0.        ,  0.        ,  0.        ,  0.        ,  0.        ,\n",
       "         0.        ,  0.        ,  0.        ,  0.        ,  0.        ,\n",
       "         0.        ,  0.        ,  0.        ,  0.        ,  0.        ,\n",
       "         0.        ,  0.        ,  0.        ,  0.        ,  0.        ,\n",
       "         0.        ,  0.        ,  0.        ,  0.        ,  0.        ,\n",
       "         0.        ,  0.        ,  0.        ,  0.        ,  0.        ,\n",
       "         0.        ,  0.        ,  0.        ,  0.        ,  0.        ,\n",
       "         0.        ,  0.        ,  0.        ,  0.        ,  0.        ,\n",
       "         0.        ,  0.        ,  0.        ,  0.        ,  0.        ,\n",
       "         0.        ,  0.        ,  0.        ,  0.        ,  0.        ,\n",
       "         0.        ,  0.        ,  0.        ,  0.        ,  0.        ,\n",
       "         0.        ,  0.        ,  0.        ,  0.        ,  0.        ,\n",
       "         0.        ,  0.        ,  0.        ,  0.        ,  0.        ,\n",
       "         0.        ,  0.        ,  0.        ,  0.        ,  0.        ,\n",
       "         0.        ,  0.        ,  0.        ,  0.        ,  0.        ,\n",
       "         0.        ,  0.        ,  0.        ,  1.72156745,  0.        ,\n",
       "         0.        ,  0.        ,  0.        ,  0.        ,  0.        ,\n",
       "         0.        ,  0.        ,  0.        ,  0.        ,  0.        ,\n",
       "         0.        ,  0.        ,  0.        ,  1.99824135,  0.        ,\n",
       "         0.        , 16.08768625,  0.        ,  0.        ,  0.        ,\n",
       "         0.        ,  0.        ,  0.        ,  0.        ,  0.        ,\n",
       "         0.        ,  0.        ,  0.        ,  0.        ,  0.        ,\n",
       "         2.04457401,  1.8926328 ,  0.        ,  0.        , 20.29004073,\n",
       "         0.        ,  0.        ,  0.        ,  0.        ,  0.        ,\n",
       "         0.        ,  0.        ,  0.        ,  0.        ,  0.        ,\n",
       "         0.        ,  0.        ,  0.        ,  0.        ,  2.32163072,\n",
       "         2.68027779,  2.30321574,  2.02121034,  0.        ,  7.88543899,\n",
       "         0.        ,  0.        ,  0.        ,  0.        ,  0.        ,\n",
       "         0.        ,  0.        ,  0.        ,  0.        ,  0.        ,\n",
       "         0.        ,  0.        ,  0.        ,  0.        ,  0.        ,\n",
       "         0.        ,  2.80021941,  3.39375809,  3.04270106,  2.97492163,\n",
       "         2.55889184,  2.11359971,  1.77457321,  0.        , 13.98032044,\n",
       "        17.81923026,  0.        ,  0.        ,  0.        ,  0.        ,\n",
       "         0.        ,  0.        ,  0.        ,  0.        ,  0.        ,\n",
       "         0.        ,  0.        ,  0.        ,  0.        ,  0.        ,\n",
       "         0.        ,  0.        ,  0.        ,  0.        ,  2.71201579,\n",
       "         3.71461205,  3.52944878,  3.44743603,  3.33156473,  3.00228864,\n",
       "         2.69473925,  2.23595071,  0.        ,  9.17291952,  0.        ,\n",
       "        15.97971   ,  0.        ,  0.        ,  0.        ,  0.        ,\n",
       "         0.        ,  0.        ,  0.        ,  0.        ,  0.        ,\n",
       "         0.        ,  0.        ,  0.        ,  0.        ,  0.        ,\n",
       "         0.        ,  0.        ,  3.83716548,  4.13604208,  3.85150758,\n",
       "         3.82163895,  3.84992396,  3.59513258,  3.36890971,  3.11777393,\n",
       "         2.82253671,  2.55755492,  0.        ,  7.01656835,  0.        ,\n",
       "         0.        ,  0.        ,  0.        ,  0.        ,  0.        ,\n",
       "         0.        ,  0.        ,  0.        ,  0.        ,  0.        ,\n",
       "         0.        ,  0.        ,  0.        ,  0.        ,  0.        ,\n",
       "         0.        ,  3.879985  ,  3.91000362,  3.85468054,  3.72817126,\n",
       "         3.53228365,  3.35456553,  3.14032924,  2.78804603,  0.        ,\n",
       "         0.        , 18.899946  , 20.79844813, 16.45386142, 16.48765851,\n",
       "         0.        ,  0.        ,  0.        ,  0.        ,  0.        ,\n",
       "         0.        ,  0.        ,  0.        ,  0.        ,  0.        ,\n",
       "         0.        ,  0.        ,  0.        ,  0.        ,  3.77722146,\n",
       "         3.74462421,  3.58489173,  3.51802571,  3.23968881,  3.02450619,\n",
       "         0.        ,  0.        , 18.899946  , 17.49995   , 16.799952  ,\n",
       "        20.12273054, 15.11628988,  0.        ,  0.        ,  0.        ,\n",
       "         0.        ,  0.        ,  0.        ,  0.        ,  0.        ,\n",
       "         0.        ,  0.        ,  0.        ,  0.        ,  0.        ,\n",
       "         3.62428028,  3.70158292,  3.32768028,  0.        ,  4.55531583,\n",
       "         6.81797147, 18.899946  , 18.199948  , 19.22355929, 15.38650458,\n",
       "        12.599964  ,  0.        ,  0.        ,  0.        ,  0.        ,\n",
       "         0.        ,  0.        ,  0.        ,  0.        ,  0.        ,\n",
       "         0.        ,  0.        ,  0.        ,  0.        ,  7.74482854,\n",
       "         7.41526298,  6.84443631,  7.00750179, 18.899946  , 18.899946  ,\n",
       "        19.41446271, 10.07344322,  9.21320784,  0.        ,  0.        ,\n",
       "         0.        ,  0.        ,  0.        ,  0.        ,  0.        ,\n",
       "         0.        ,  0.        ,  0.        ,  0.        ,  0.        ,\n",
       "        18.899946  , 18.899946  , 18.899946  , 18.199948  , 17.49995   ,\n",
       "        20.13228273,  0.        , 13.299962  ,  0.        ,  0.        ,\n",
       "         0.        ,  0.        ,  0.        ,  0.        ,  0.        ,\n",
       "         0.        ,  0.        ,  0.        ,  0.        , 17.49995   ,\n",
       "        17.49995   , 16.799952  , 16.099954  , 14.699958  ,  4.53315262,\n",
       "        10.49997   ,  0.        ,  0.        ,  0.        ,  0.        ,\n",
       "         0.        ,  0.        ,  0.        ,  0.        , 14.699958  ,\n",
       "        13.99996   , 13.299962  , 11.899966  , 10.49997   ,  0.        ,\n",
       "         0.        ,  0.        ,  0.        ,  0.        ,  0.        ,\n",
       "         0.        , 11.199968  ,  9.799972  ,  7.699978  ,  0.        ,\n",
       "         0.        ,  0.        ,  0.        ,  4.899986  ])}"
      ]
     },
     "execution_count": 25,
     "metadata": {},
     "output_type": "execute_result"
    }
   ],
   "source": [
    "femoral_thickness"
   ]
  },
  {
   "cell_type": "code",
   "execution_count": 28,
   "metadata": {},
   "outputs": [],
   "source": [
    "keys = set(femoral_thickness.keys())\n",
    "for key in keys:\n",
    "    value = femoral_thickness[key]\n",
    "    mask = value == 0\n",
    "    value[mask] = np.nan\n",
    "    femoral_thickness[key + '.aSD'] = np.nanstd(value)\n",
    "    femoral_thickness[key + '.aMav'] = np.nanmean(-np.sort(-value)[:math.ceil(len(value) * 0.01)])\n",
    "    femoral_thickness[key + '.aMiv'] = np.nanmean(np.sort(value)[:math.ceil(len(value) * 0.01)])\n",
    "    femoral_thickness[key] = np.nanmean(value)"
   ]
  },
  {
   "cell_type": "code",
   "execution_count": 29,
   "metadata": {},
   "outputs": [
    {
     "data": {
      "text/plain": [
       "{'ecLF': 5.520913356509978,\n",
       " 'ccLF': 5.7709171071388905,\n",
       " 'icLF': 3.019644067941344,\n",
       " 'icMF': 5.683730386914962,\n",
       " 'ccMF': 7.372331942134219,\n",
       " 'ecMF': 8.933682570047049,\n",
       " 'ecLF.aSD': 5.470576015636847,\n",
       " 'ecLF.aMav': 22.660984930927476,\n",
       " 'ecLF.aMiv': 1.2699833486323233,\n",
       " 'ccLF.aSD': 5.030968934821199,\n",
       " 'ccLF.aMav': 18.7599464,\n",
       " 'ccLF.aMiv': 1.691904296009784,\n",
       " 'icLF.aSD': 2.4140239593103625,\n",
       " 'icLF.aMav': 11.7599664,\n",
       " 'icLF.aMiv': 0.4329339489669343,\n",
       " 'ccMF.aSD': 5.526537363239277,\n",
       " 'ccMF.aMav': 18.899946,\n",
       " 'ccMF.aMiv': 2.1218393462359715,\n",
       " 'icMF.aSD': 4.178854694744948,\n",
       " 'icMF.aMav': 15.399956000000001,\n",
       " 'icMF.aMiv': 1.834222664380698,\n",
       " 'ecMF.aSD': 6.541115694776559,\n",
       " 'ecMF.aMav': 20.33587553169133,\n",
       " 'ecMF.aMiv': 1.8467537010987567}"
      ]
     },
     "execution_count": 29,
     "metadata": {},
     "output_type": "execute_result"
    }
   ],
   "source": [
    "femoral_thickness"
   ]
  },
  {
   "cell_type": "code",
   "execution_count": 30,
   "metadata": {},
   "outputs": [
    {
     "data": {
      "text/plain": [
       "<module 'utility' from '/home/simon/knorpel_v2/utility.py'>"
      ]
     },
     "execution_count": 30,
     "metadata": {},
     "output_type": "execute_result"
    }
   ],
   "source": [
    "importlib.reload(utility)"
   ]
  },
  {
   "cell_type": "code",
   "execution_count": 31,
   "metadata": {},
   "outputs": [],
   "source": [
    "ladf, radf, pdf = utility.extract_anterior_posterior_zones(femoral_vectors, cwbzl, cwbzr)"
   ]
  },
  {
   "cell_type": "code",
   "execution_count": 32,
   "metadata": {},
   "outputs": [
    {
     "data": {
      "application/vnd.jupyter.widget-view+json": {
       "model_id": "76075f23175f445e993753a5bdd874c0",
       "version_major": 2,
       "version_minor": 0
      },
      "text/plain": [
       "ViewInteractiveWidget(height=768, layout=Layout(height='auto', width='100%'), width=1024)"
      ]
     },
     "metadata": {},
     "output_type": "display_data"
    }
   ],
   "source": [
    "p = pv.Plotter()\n",
    "p.add_mesh(pv.PolyData(ladf.to_numpy()), color='red')\n",
    "p.add_mesh(pv.PolyData(radf.to_numpy()), color='green')\n",
    "p.add_mesh(pv.PolyData(pdf.to_numpy()), color='blue')\n",
    "# p.show_grid()\n",
    "p.show()"
   ]
  },
  {
   "cell_type": "code",
   "execution_count": 33,
   "metadata": {},
   "outputs": [
    {
     "data": {
      "application/vnd.jupyter.widget-view+json": {
       "model_id": "74de4ae06c154f02932caa49a6b5bcc6",
       "version_major": 2,
       "version_minor": 0
      },
      "text/plain": [
       "ViewInteractiveWidget(height=768, layout=Layout(height='auto', width='100%'), width=1024)"
      ]
     },
     "metadata": {},
     "output_type": "display_data"
    }
   ],
   "source": [
    "p = pv.Plotter()\n",
    "p.add_mesh(pv.PolyData(ladf.to_numpy()), color='red')\n",
    "p.add_mesh(pv.PolyData(radf.to_numpy()), color='green')\n",
    "p.show_grid()\n",
    "p.show()"
   ]
  },
  {
   "cell_type": "code",
   "execution_count": 34,
   "metadata": {},
   "outputs": [],
   "source": [
    "la_lower_mesh, la_upper_mesh = utility.build_tibial_meshes(ladf.to_numpy())\n",
    "ra_lower_mesh, ra_upper_mesh = utility.build_tibial_meshes(radf.to_numpy())\n",
    "p_lower_mesh, p_upper_mesh = utility.build_tibial_meshes(pdf.to_numpy())"
   ]
  },
  {
   "cell_type": "code",
   "execution_count": 35,
   "metadata": {},
   "outputs": [
    {
     "data": {
      "application/vnd.jupyter.widget-view+json": {
       "model_id": "d70c01c5afe742ed81e858879a6fef77",
       "version_major": 2,
       "version_minor": 0
      },
      "text/plain": [
       "ViewInteractiveWidget(height=768, layout=Layout(height='auto', width='100%'), width=1024)"
      ]
     },
     "metadata": {},
     "output_type": "display_data"
    }
   ],
   "source": [
    "p = pv.Plotter()\n",
    "p.add_mesh(la_lower_mesh, color='red')\n",
    "p.add_mesh(la_upper_mesh, color='orange')\n",
    "p.add_mesh(ra_lower_mesh, color='green')\n",
    "p.add_mesh(ra_upper_mesh, color='cyan')\n",
    "p.show_grid()\n",
    "p.show()"
   ]
  },
  {
   "cell_type": "code",
   "execution_count": 36,
   "metadata": {},
   "outputs": [
    {
     "data": {
      "application/vnd.jupyter.widget-view+json": {
       "model_id": "41cbc2f71e344d818f4d07826c0c0edb",
       "version_major": 2,
       "version_minor": 0
      },
      "text/plain": [
       "ViewInteractiveWidget(height=768, layout=Layout(height='auto', width='100%'), width=1024)"
      ]
     },
     "metadata": {},
     "output_type": "display_data"
    }
   ],
   "source": [
    "p = pv.Plotter()\n",
    "p.add_mesh(p_lower_mesh, color='red')\n",
    "p.add_mesh(p_upper_mesh, color='green')\n",
    "p.show_grid()\n",
    "p.show()"
   ]
  },
  {
   "cell_type": "code",
   "execution_count": 37,
   "metadata": {},
   "outputs": [],
   "source": [
    "la_normals = la_lower_mesh.compute_normals(cell_normals=False)\n",
    "ra_normals = ra_lower_mesh.compute_normals(cell_normals=False)\n",
    "p_normals = p_lower_mesh.compute_normals(cell_normals=False)\n",
    "\n",
    "la_distances = utility.calculate_distance_without_classification(la_normals, la_lower_mesh, la_upper_mesh, sitk_image)\n",
    "ra_distances = utility.calculate_distance_without_classification(ra_normals, ra_lower_mesh, ra_upper_mesh, sitk_image)\n",
    "p_distances = utility.calculate_distance_without_classification(p_normals, p_lower_mesh, p_upper_mesh, sitk_image)"
   ]
  },
  {
   "cell_type": "code",
   "execution_count": 38,
   "metadata": {},
   "outputs": [
    {
     "data": {
      "text/plain": [
       "array([0.      , 0.      , 0.      , ..., 0.699998, 0.699998, 0.699998])"
      ]
     },
     "execution_count": 38,
     "metadata": {},
     "output_type": "execute_result"
    }
   ],
   "source": [
    "la_distances['distances']"
   ]
  },
  {
   "cell_type": "code",
   "execution_count": 39,
   "metadata": {},
   "outputs": [],
   "source": [
    "la_thickness = dict()\n",
    "distances = la_distances['distances']\n",
    "mask = distances == 0\n",
    "distances[mask] = np.nan\n",
    "la_thickness['aLF.aSD'] = np.nanstd(distances)\n",
    "la_thickness['aLF.aMav'] = np.nanmean(-np.sort(-distances)[:math.ceil(len(distances) * 0.01)])\n",
    "la_thickness['aLF.aMiv'] = np.nanmean(np.sort(distances)[:math.ceil(len(distances) * 0.01)])\n",
    "la_thickness['aLF'] = np.nanmean(distances)"
   ]
  },
  {
   "cell_type": "code",
   "execution_count": 40,
   "metadata": {},
   "outputs": [
    {
     "data": {
      "text/plain": [
       "{'aLF.aSD': 3.682084079496431,\n",
       " 'aLF.aMav': 29.62488843684523,\n",
       " 'aLF.aMiv': 0.4799104450079946,\n",
       " 'aLF': 3.4902455918770516}"
      ]
     },
     "execution_count": 40,
     "metadata": {},
     "output_type": "execute_result"
    }
   ],
   "source": [
    "la_thickness"
   ]
  },
  {
   "cell_type": "code",
   "execution_count": 41,
   "metadata": {},
   "outputs": [],
   "source": [
    "ra_thickness = dict()\n",
    "distances = ra_distances['distances']\n",
    "mask = distances == 0\n",
    "distances[mask] = np.nan\n",
    "ra_thickness['aMF.aSD'] = np.nanstd(distances)\n",
    "ra_thickness['aMF.aMav'] = np.nanmean(-np.sort(-distances)[:math.ceil(len(distances) * 0.01)])\n",
    "ra_thickness['aMF.aMiv'] = np.nanmean(np.sort(distances)[:math.ceil(len(distances) * 0.01)])\n",
    "ra_thickness['aMF'] = np.nanmean(distances)"
   ]
  },
  {
   "cell_type": "code",
   "execution_count": 42,
   "metadata": {},
   "outputs": [
    {
     "data": {
      "text/plain": [
       "{'aMF.aSD': 2.353725752024288,\n",
       " 'aMF.aMav': 17.74147305280583,\n",
       " 'aMF.aMiv': 0.6275746202189278,\n",
       " 'aMF': 3.0626394904927174}"
      ]
     },
     "execution_count": 42,
     "metadata": {},
     "output_type": "execute_result"
    }
   ],
   "source": [
    "ra_thickness"
   ]
  },
  {
   "cell_type": "code",
   "execution_count": 43,
   "metadata": {},
   "outputs": [],
   "source": [
    "p_thickness = dict()\n",
    "distances = p_distances['distances']\n",
    "mask = distances == 0\n",
    "distances[mask] = np.nan\n",
    "p_thickness['pF.aSD'] = np.nanstd(distances)\n",
    "p_thickness['pF.aMav'] = np.nanmean(-np.sort(-distances)[:math.ceil(len(distances) * 0.01)])\n",
    "p_thickness['pF.aMiv'] = np.nanmean(np.sort(distances)[:math.ceil(len(distances) * 0.01)])\n",
    "p_thickness['pF'] = np.nanmean(distances)"
   ]
  },
  {
   "cell_type": "code",
   "execution_count": 44,
   "metadata": {},
   "outputs": [
    {
     "data": {
      "text/plain": [
       "{'pF.aSD': 8.33056196337216,\n",
       " 'pF.aMav': 61.706876492216765,\n",
       " 'pF.aMiv': 0.4071044791712436,\n",
       " 'pF': 5.071628815133651}"
      ]
     },
     "execution_count": 44,
     "metadata": {},
     "output_type": "execute_result"
    }
   ],
   "source": [
    "p_thickness"
   ]
  },
  {
   "cell_type": "code",
   "execution_count": null,
   "metadata": {},
   "outputs": [],
   "source": []
  }
 ],
 "metadata": {
  "kernelspec": {
   "display_name": "Python 3 (ipykernel)",
   "language": "python",
   "name": "python3"
  },
  "language_info": {
   "codemirror_mode": {
    "name": "ipython",
    "version": 3
   },
   "file_extension": ".py",
   "mimetype": "text/x-python",
   "name": "python",
   "nbconvert_exporter": "python",
   "pygments_lexer": "ipython3",
   "version": "3.9.6"
  }
 },
 "nbformat": 4,
 "nbformat_minor": 1
}
